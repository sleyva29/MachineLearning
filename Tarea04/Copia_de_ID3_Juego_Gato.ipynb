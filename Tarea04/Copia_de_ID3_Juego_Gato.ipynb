{
 "cells": [
  {
   "cell_type": "markdown",
   "metadata": {
    "id": "f-Ewj9T_8YFW"
   },
   "source": []
  },
  {
   "cell_type": "markdown",
   "metadata": {
    "id": "6D97jzi18YCe"
   },
   "source": [
    "## Librerias"
   ]
  },
  {
   "cell_type": "code",
   "execution_count": 1,
   "metadata": {
    "id": "dp999bfn8Dmj"
   },
   "outputs": [],
   "source": [
    "import pandas as pd\n",
    "import math\n",
    "import numpy as np\n",
    "import operator\n",
    "import seaborn as sns\n",
    "import matplotlib.pyplot as plt\n",
    "from pandas.core.algorithms import unique"
   ]
  },
  {
   "cell_type": "markdown",
   "metadata": {
    "id": "ch6ix8QO8pdT"
   },
   "source": [
    "## Funciones"
   ]
  },
  {
   "cell_type": "markdown",
   "metadata": {
    "id": "t8d95GZZmUy_"
   },
   "source": [
    "### Funciones para generar el arbol id3"
   ]
  },
  {
   "cell_type": "code",
   "execution_count": 2,
   "metadata": {
    "id": "Z5f8WjLN84m7"
   },
   "outputs": [],
   "source": [
    "def contar_clases(atributo_decision_, clases_):\n",
    "    cont_clases_ = np.zeros((len(clases_)))\n",
    "    for n, c in enumerate(clases_):\n",
    "        cont_clases_[n] = int(np.sum(atributo_decision_ == c))\n",
    "    return cont_clases_"
   ]
  },
  {
   "cell_type": "code",
   "execution_count": 3,
   "metadata": {
    "id": "xGOBY6Gq84kz"
   },
   "outputs": [],
   "source": [
    "def calcular_entropia(cont_clases_):\n",
    "    entropia_decision_ = 0\n",
    "    total = int(sum(cont_clases_))\n",
    "    for d in cont_clases_:\n",
    "        if d == 0: entropia_decision_ += 0\n",
    "        else: entropia_decision_ -= (d/total)*np.log2(d/total)\n",
    "    return entropia_decision_"
   ]
  },
  {
   "cell_type": "code",
   "execution_count": 4,
   "metadata": {
    "id": "C9mBLeLo84iD"
   },
   "outputs": [],
   "source": [
    "def ganancia_atributo(x_, y_, cont_clases_, entropia_, clases_):\n",
    "    Total_ = int(sum(cont_clases_))\n",
    "    ganancias_ = {}\n",
    "    for a in x_.columns:\n",
    "        ganancias_[a] = 0\n",
    "        observaciones = x_[a].unique()\n",
    "        for o in observaciones:\n",
    "            y_a_o_ = y_.loc[x_[a] == o]\n",
    "            cont_clases_y_a_o_ = contar_clases(y_a_o_, clases_)\n",
    "            entropia_a_o_ = calcular_entropia(cont_clases_y_a_o_)\n",
    "            total_ = int(sum(cont_clases_y_a_o_))\n",
    "            ganancias_[a] += (total_/Total_) * entropia_a_o_\n",
    "        ganancias_[a] = entropia_ - ganancias_[a]\n",
    "    return ganancias_"
   ]
  },
  {
   "cell_type": "code",
   "execution_count": 5,
   "metadata": {
    "id": "qkbHoKSj84fA"
   },
   "outputs": [],
   "source": [
    "def nodo_raiz(ganancias_):\n",
    "    raiz_ = max(ganancias_.items(), key=operator.itemgetter(1))[0]\n",
    "    entropia_r_ = ganancias_[raiz_]\n",
    "    return raiz_, entropia_r_"
   ]
  },
  {
   "cell_type": "code",
   "execution_count": 6,
   "metadata": {
    "id": "Y7kigxv_84cR"
   },
   "outputs": [],
   "source": [
    "def nodos_intermedios(x_, y_, atributo_, obs_):\n",
    "    subx_ = []\n",
    "    suby_ = []\n",
    "    for o in obs_:\n",
    "        pos_coinciden_ = x_[atributo_] == o\n",
    "        subx_.append(x_.loc[pos_coinciden_])\n",
    "        suby_.append(y_.loc[pos_coinciden_])\n",
    "    return subx_, suby_"
   ]
  },
  {
   "cell_type": "code",
   "execution_count": 7,
   "metadata": {
    "id": "j5hqRfeQ84Zc"
   },
   "outputs": [],
   "source": [
    "def fin_rama(y_fr_, obs_):\n",
    "    hoja_ = 0\n",
    "    clase_fr_ = 0\n",
    "    n = len(y_fr_)\n",
    "    for o in obs_:\n",
    "        coincidencias_ = int(np.sum(y_fr_ == o))\n",
    "        if coincidencias_ == n:\n",
    "            hoja_ = 1\n",
    "            clase_fr_ = o\n",
    "    return hoja_, clase_fr_"
   ]
  },
  {
   "cell_type": "code",
   "execution_count": 8,
   "metadata": {
    "id": "2pE5h1BO84Wr"
   },
   "outputs": [],
   "source": [
    "def arbol_id3(x_, y_, clases_, arbol_):\n",
    "    conteo_clases = contar_clases(y_, clases_)\n",
    "    entropia_decision_ = calcular_entropia(conteo_clases)\n",
    "    ganancias_ = ganancia_atributo(x_, y_, conteo_clases, \n",
    "                                   entropia_decision_, clases_)\n",
    "    nodo_raiz_, entropia_raiz_ = nodo_raiz(ganancias_)\n",
    "    arbol_[nodo_raiz_] = {}\n",
    "    ramas_ = x_[nodo_raiz_].unique()\n",
    "    sub_x_, sub_y_ = nodos_intermedios(x_, y_, nodo_raiz_, ramas_)\n",
    "    for r, sx, sy in zip(ramas_, sub_x_, sub_y_):\n",
    "        arbol_[nodo_raiz_][r] = {}\n",
    "        hoja_, clase_f_ = fin_rama(sy, clases_)\n",
    "        if hoja_ == 1:\n",
    "            arbol_[nodo_raiz_][r] = clase_f_\n",
    "        else:\n",
    "            arbol_id3(sx, sy, clases_, arbol_[nodo_raiz_][r])\n",
    "    return arbol_"
   ]
  },
  {
   "cell_type": "markdown",
   "metadata": {
    "id": "LYw88lwpmn8d"
   },
   "source": [
    "### Función para separa la base de datos en entrenamiento y prueba"
   ]
  },
  {
   "cell_type": "code",
   "execution_count": 30,
   "metadata": {
    "id": "ymXJ3jojS_R8"
   },
   "outputs": [],
   "source": [
    "def split_80_20(datos_, etiquetas_):\n",
    "  n_ = len(datos_)\n",
    "  indices_ = np.arange(n_)\n",
    "  np.random.shuffle(indices_)\n",
    "  lim = int(n_ * 0.80) + 1\n",
    "  x_train_ = datos_.loc[indices_[0:lim]]\n",
    "  x_test_ = datos_.loc[indices_[lim:]]\n",
    "  y_train_ = etiquetas_.loc[indices_[0:lim]]\n",
    "  y_test_ = etiquetas_.loc[indices_[lim:]]\n",
    "  return x_train_, x_test_, y_train_, y_test_"
   ]
  },
  {
   "cell_type": "markdown",
   "metadata": {
    "id": "4qwixZbknej6"
   },
   "source": [
    "### Funciones evaluar algoritmo"
   ]
  },
  {
   "cell_type": "code",
   "execution_count": 191,
   "metadata": {
    "id": "v2BM1NETnrSP"
   },
   "outputs": [],
   "source": [
    "def exactitud(y_calculada_, y_real_):\n",
    "  coincidencias = np.equal(y_calculada_, y_real_)\n",
    " # print(len(y_calculada_))\n",
    "  total_coin_ = np.sum(coincidencias)\n",
    " # print(total_coin_)\n",
    "  porcentaje_ = (total_coin_ / len(y_calculada_))\n",
    "  return porcentaje_"
   ]
  },
  {
   "cell_type": "code",
   "execution_count": 258,
   "metadata": {
    "id": "vtA_VeT0oAbh"
   },
   "outputs": [],
   "source": [
    "def precision(y_clas_, y_real_):\n",
    "    TP = 0\n",
    "    FP = 0\n",
    "    for c, r in zip(y_clas_, y_real_):\n",
    "        if r == 'Setosa':\n",
    "            if (r == c) and r == 'Setosa': TP += 1\n",
    "            elif (r != c) and ( r == 'Virginica' or r == 'Versicolor'): FP += 1\n",
    "        elif r == 'Virginica':\n",
    "            if (r == c) and r == 'Virginica': TP += 1\n",
    "            elif (r != c) and ( r == 'Setosa' or r == 'Versicolor'): FP += 1\n",
    "        elif r == 'Versicolor':\n",
    "            if (r == c) and r == 'Versicolor': TP += 1\n",
    "            elif (r != c) and ( r == 'Virginica' or r == 'Setosa'): FP += 1\n",
    "    print(TP)\n",
    "    print(FP)\n",
    "    pre_ = TP / (TP + FP)\n",
    "    return pre_"
   ]
  },
  {
   "cell_type": "code",
   "execution_count": 231,
   "metadata": {
    "id": "A_coSRpIoCvq"
   },
   "outputs": [],
   "source": [
    "def sensitividad(y_clas_, y_real_):\n",
    "  TP_ = 0\n",
    "  FN_ = 0\n",
    "  for c, r in zip(y_clas_, y_real_):\n",
    "    if r == 'Setosa':\n",
    "        if (r == c) and r == 'Setosa': TP_ += 1\n",
    "        elif (r != c) and r == 'Setosa': FN_ += 1\n",
    "    elif r == 'Virginica':\n",
    "        if (r == c) and r == 'Virginica': TP_ += 1\n",
    "        elif (r != c) and r == 'Virginica': FN_ += 1\n",
    "    elif r == 'Versicolor':\n",
    "        if (r == c) and r == 'Versicolor': TP_ += 1\n",
    "        elif (r != c) and r == 'Versicolor': FN_ += 1\n",
    "  print(TP_)\n",
    "  print(FN_)\n",
    "  sens_ = TP_ / (TP_ + FN_)\n",
    "  return sens_"
   ]
  },
  {
   "cell_type": "code",
   "execution_count": 250,
   "metadata": {
    "id": "_SlMdhnLoLNo"
   },
   "outputs": [],
   "source": [
    "def especificidad(y_clas_, y_real_):\n",
    "  TN_ = 0\n",
    "  FP_ = 0\n",
    "  for c, r in zip(y_clas_, y_real_):\n",
    "       if r == 'Setosa':\n",
    "            if (r == c) and ( r == 'Virginica' or r == 'Versicolor'): TN_ += 1\n",
    "            elif (r != c) and ( r == 'Virginica' or r == 'Versicolor'): FP_ += 1\n",
    "       elif r == 'Virginica':\n",
    "            if (r == c) and ( r == 'Setosa' or r == 'Versicolor'): TN_ += 1\n",
    "            elif (r != c) and ( r == 'Setosa' or r == 'Versicolor'): FP_ += 1\n",
    "       elif r == 'Versicolor':\n",
    "            if (r == c) and ( r == 'Virginica' or r == 'Setosa') : TN_ += 1\n",
    "            elif (r != c) and ( r == 'Virginica' or r == 'Setosa'): FP_ += 1\n",
    "  print(TN_)\n",
    "  print(FP_)\n",
    "  esp_ = TN_ / (TN_ + FP_)\n",
    "  return esp_"
   ]
  },
  {
   "cell_type": "code",
   "execution_count": 35,
   "metadata": {
    "id": "bv1kjYXkoLKF"
   },
   "outputs": [],
   "source": [
    "def puntaje_F1(y_clas_, y_real_):\n",
    "  prec_ = precision(y_clas_, y_real_)\n",
    "  sens_ = sensitividad(y_clas_, y_real_)\n",
    "  pf1_ = 2 * ((prec_ * sens_) / (prec_ + sens_))\n",
    "  return pf1_"
   ]
  },
  {
   "cell_type": "markdown",
   "metadata": {
    "id": "COvgpMrQ9jqU"
   },
   "source": [
    "## Base de datos"
   ]
  },
  {
   "cell_type": "markdown",
   "metadata": {
    "id": "KOOATH4ZzbJk"
   },
   "source": [
    "La base de datos se puede encontrar en:\n",
    "\n",
    "https://archive.ics.uci.edu/ml/datasets/Tic-Tac-Toe+Endgame"
   ]
  },
  {
   "cell_type": "code",
   "execution_count": 36,
   "metadata": {
    "id": "V7mQwouf-l0u"
   },
   "outputs": [],
   "source": [
    "df = pd.read_csv('./iris.csv')\n",
    "columnas = df.columns.values\n"
   ]
  },
  {
   "cell_type": "code",
   "execution_count": 37,
   "metadata": {
    "colab": {
     "base_uri": "https://localhost:8080/",
     "height": 206
    },
    "id": "IjyhfWXRW1ky",
    "outputId": "339de760-7a30-42ae-a2c4-fb41abafeaaa"
   },
   "outputs": [
    {
     "data": {
      "text/html": [
       "<div>\n",
       "<style scoped>\n",
       "    .dataframe tbody tr th:only-of-type {\n",
       "        vertical-align: middle;\n",
       "    }\n",
       "\n",
       "    .dataframe tbody tr th {\n",
       "        vertical-align: top;\n",
       "    }\n",
       "\n",
       "    .dataframe thead th {\n",
       "        text-align: right;\n",
       "    }\n",
       "</style>\n",
       "<table border=\"1\" class=\"dataframe\">\n",
       "  <thead>\n",
       "    <tr style=\"text-align: right;\">\n",
       "      <th></th>\n",
       "      <th>sepal.length</th>\n",
       "      <th>sepal.width</th>\n",
       "      <th>petal.length</th>\n",
       "      <th>petal.width</th>\n",
       "      <th>variety</th>\n",
       "    </tr>\n",
       "  </thead>\n",
       "  <tbody>\n",
       "    <tr>\n",
       "      <th>0</th>\n",
       "      <td>5.1</td>\n",
       "      <td>3.5</td>\n",
       "      <td>1.4</td>\n",
       "      <td>0.2</td>\n",
       "      <td>Setosa</td>\n",
       "    </tr>\n",
       "    <tr>\n",
       "      <th>1</th>\n",
       "      <td>4.9</td>\n",
       "      <td>3.0</td>\n",
       "      <td>1.4</td>\n",
       "      <td>0.2</td>\n",
       "      <td>Setosa</td>\n",
       "    </tr>\n",
       "    <tr>\n",
       "      <th>2</th>\n",
       "      <td>4.7</td>\n",
       "      <td>3.2</td>\n",
       "      <td>1.3</td>\n",
       "      <td>0.2</td>\n",
       "      <td>Setosa</td>\n",
       "    </tr>\n",
       "    <tr>\n",
       "      <th>3</th>\n",
       "      <td>4.6</td>\n",
       "      <td>3.1</td>\n",
       "      <td>1.5</td>\n",
       "      <td>0.2</td>\n",
       "      <td>Setosa</td>\n",
       "    </tr>\n",
       "    <tr>\n",
       "      <th>4</th>\n",
       "      <td>5.0</td>\n",
       "      <td>3.6</td>\n",
       "      <td>1.4</td>\n",
       "      <td>0.2</td>\n",
       "      <td>Setosa</td>\n",
       "    </tr>\n",
       "  </tbody>\n",
       "</table>\n",
       "</div>"
      ],
      "text/plain": [
       "   sepal.length  sepal.width  petal.length  petal.width variety\n",
       "0           5.1          3.5           1.4          0.2  Setosa\n",
       "1           4.9          3.0           1.4          0.2  Setosa\n",
       "2           4.7          3.2           1.3          0.2  Setosa\n",
       "3           4.6          3.1           1.5          0.2  Setosa\n",
       "4           5.0          3.6           1.4          0.2  Setosa"
      ]
     },
     "execution_count": 37,
     "metadata": {},
     "output_type": "execute_result"
    }
   ],
   "source": [
    "df.head()"
   ]
  },
  {
   "cell_type": "code",
   "execution_count": 38,
   "metadata": {
    "colab": {
     "base_uri": "https://localhost:8080/"
    },
    "id": "IqofmqHzXM7j",
    "outputId": "228abac9-8b7d-48ac-e5dd-03ca53466f7e"
   },
   "outputs": [
    {
     "data": {
      "text/plain": [
       "(150, 5)"
      ]
     },
     "execution_count": 38,
     "metadata": {},
     "output_type": "execute_result"
    }
   ],
   "source": [
    "df.shape"
   ]
  },
  {
   "cell_type": "code",
   "execution_count": 39,
   "metadata": {
    "id": "pjp_IFy5XFCn"
   },
   "outputs": [],
   "source": [
    "x = df[columnas[:4]].copy()\n",
    "y = df['variety']\n",
    "clases = y.unique()"
   ]
  },
  {
   "cell_type": "code",
   "execution_count": 40,
   "metadata": {
    "colab": {
     "base_uri": "https://localhost:8080/",
     "height": 424
    },
    "id": "E2r21LQ-Xepa",
    "outputId": "8ff5ba8b-d40d-4430-e46f-f384d0c27ddc"
   },
   "outputs": [
    {
     "data": {
      "text/html": [
       "<div>\n",
       "<style scoped>\n",
       "    .dataframe tbody tr th:only-of-type {\n",
       "        vertical-align: middle;\n",
       "    }\n",
       "\n",
       "    .dataframe tbody tr th {\n",
       "        vertical-align: top;\n",
       "    }\n",
       "\n",
       "    .dataframe thead th {\n",
       "        text-align: right;\n",
       "    }\n",
       "</style>\n",
       "<table border=\"1\" class=\"dataframe\">\n",
       "  <thead>\n",
       "    <tr style=\"text-align: right;\">\n",
       "      <th></th>\n",
       "      <th>sepal.length</th>\n",
       "      <th>sepal.width</th>\n",
       "      <th>petal.length</th>\n",
       "      <th>petal.width</th>\n",
       "    </tr>\n",
       "  </thead>\n",
       "  <tbody>\n",
       "    <tr>\n",
       "      <th>0</th>\n",
       "      <td>5.1</td>\n",
       "      <td>3.5</td>\n",
       "      <td>1.4</td>\n",
       "      <td>0.2</td>\n",
       "    </tr>\n",
       "    <tr>\n",
       "      <th>1</th>\n",
       "      <td>4.9</td>\n",
       "      <td>3.0</td>\n",
       "      <td>1.4</td>\n",
       "      <td>0.2</td>\n",
       "    </tr>\n",
       "    <tr>\n",
       "      <th>2</th>\n",
       "      <td>4.7</td>\n",
       "      <td>3.2</td>\n",
       "      <td>1.3</td>\n",
       "      <td>0.2</td>\n",
       "    </tr>\n",
       "    <tr>\n",
       "      <th>3</th>\n",
       "      <td>4.6</td>\n",
       "      <td>3.1</td>\n",
       "      <td>1.5</td>\n",
       "      <td>0.2</td>\n",
       "    </tr>\n",
       "    <tr>\n",
       "      <th>4</th>\n",
       "      <td>5.0</td>\n",
       "      <td>3.6</td>\n",
       "      <td>1.4</td>\n",
       "      <td>0.2</td>\n",
       "    </tr>\n",
       "    <tr>\n",
       "      <th>...</th>\n",
       "      <td>...</td>\n",
       "      <td>...</td>\n",
       "      <td>...</td>\n",
       "      <td>...</td>\n",
       "    </tr>\n",
       "    <tr>\n",
       "      <th>145</th>\n",
       "      <td>6.7</td>\n",
       "      <td>3.0</td>\n",
       "      <td>5.2</td>\n",
       "      <td>2.3</td>\n",
       "    </tr>\n",
       "    <tr>\n",
       "      <th>146</th>\n",
       "      <td>6.3</td>\n",
       "      <td>2.5</td>\n",
       "      <td>5.0</td>\n",
       "      <td>1.9</td>\n",
       "    </tr>\n",
       "    <tr>\n",
       "      <th>147</th>\n",
       "      <td>6.5</td>\n",
       "      <td>3.0</td>\n",
       "      <td>5.2</td>\n",
       "      <td>2.0</td>\n",
       "    </tr>\n",
       "    <tr>\n",
       "      <th>148</th>\n",
       "      <td>6.2</td>\n",
       "      <td>3.4</td>\n",
       "      <td>5.4</td>\n",
       "      <td>2.3</td>\n",
       "    </tr>\n",
       "    <tr>\n",
       "      <th>149</th>\n",
       "      <td>5.9</td>\n",
       "      <td>3.0</td>\n",
       "      <td>5.1</td>\n",
       "      <td>1.8</td>\n",
       "    </tr>\n",
       "  </tbody>\n",
       "</table>\n",
       "<p>150 rows × 4 columns</p>\n",
       "</div>"
      ],
      "text/plain": [
       "     sepal.length  sepal.width  petal.length  petal.width\n",
       "0             5.1          3.5           1.4          0.2\n",
       "1             4.9          3.0           1.4          0.2\n",
       "2             4.7          3.2           1.3          0.2\n",
       "3             4.6          3.1           1.5          0.2\n",
       "4             5.0          3.6           1.4          0.2\n",
       "..            ...          ...           ...          ...\n",
       "145           6.7          3.0           5.2          2.3\n",
       "146           6.3          2.5           5.0          1.9\n",
       "147           6.5          3.0           5.2          2.0\n",
       "148           6.2          3.4           5.4          2.3\n",
       "149           5.9          3.0           5.1          1.8\n",
       "\n",
       "[150 rows x 4 columns]"
      ]
     },
     "execution_count": 40,
     "metadata": {},
     "output_type": "execute_result"
    }
   ],
   "source": [
    "x"
   ]
  },
  {
   "cell_type": "code",
   "execution_count": 41,
   "metadata": {
    "colab": {
     "base_uri": "https://localhost:8080/"
    },
    "id": "jj8HUxufXcw6",
    "outputId": "913febab-16bb-4a82-ef6c-0a77b074e73a"
   },
   "outputs": [
    {
     "data": {
      "text/plain": [
       "array(['Setosa', 'Versicolor', 'Virginica'], dtype=object)"
      ]
     },
     "execution_count": 41,
     "metadata": {},
     "output_type": "execute_result"
    }
   ],
   "source": [
    "clases"
   ]
  },
  {
   "cell_type": "code",
   "execution_count": 42,
   "metadata": {
    "colab": {
     "base_uri": "https://localhost:8080/",
     "height": 223
    },
    "id": "gmd5OAH4cT5r",
    "outputId": "d16d5221-0a0e-4840-bb98-71dfbecb0fa3"
   },
   "outputs": [
    {
     "name": "stdout",
     "output_type": "stream",
     "text": [
      "Dimensión: (150, 5)\n"
     ]
    },
    {
     "data": {
      "text/html": [
       "<div>\n",
       "<style scoped>\n",
       "    .dataframe tbody tr th:only-of-type {\n",
       "        vertical-align: middle;\n",
       "    }\n",
       "\n",
       "    .dataframe tbody tr th {\n",
       "        vertical-align: top;\n",
       "    }\n",
       "\n",
       "    .dataframe thead th {\n",
       "        text-align: right;\n",
       "    }\n",
       "</style>\n",
       "<table border=\"1\" class=\"dataframe\">\n",
       "  <thead>\n",
       "    <tr style=\"text-align: right;\">\n",
       "      <th></th>\n",
       "      <th>sepal.length</th>\n",
       "      <th>sepal.width</th>\n",
       "      <th>petal.length</th>\n",
       "      <th>petal.width</th>\n",
       "      <th>variety</th>\n",
       "    </tr>\n",
       "  </thead>\n",
       "  <tbody>\n",
       "    <tr>\n",
       "      <th>0</th>\n",
       "      <td>5.1</td>\n",
       "      <td>3.5</td>\n",
       "      <td>1.4</td>\n",
       "      <td>0.2</td>\n",
       "      <td>Setosa</td>\n",
       "    </tr>\n",
       "    <tr>\n",
       "      <th>1</th>\n",
       "      <td>4.9</td>\n",
       "      <td>3.0</td>\n",
       "      <td>1.4</td>\n",
       "      <td>0.2</td>\n",
       "      <td>Setosa</td>\n",
       "    </tr>\n",
       "    <tr>\n",
       "      <th>2</th>\n",
       "      <td>4.7</td>\n",
       "      <td>3.2</td>\n",
       "      <td>1.3</td>\n",
       "      <td>0.2</td>\n",
       "      <td>Setosa</td>\n",
       "    </tr>\n",
       "    <tr>\n",
       "      <th>3</th>\n",
       "      <td>4.6</td>\n",
       "      <td>3.1</td>\n",
       "      <td>1.5</td>\n",
       "      <td>0.2</td>\n",
       "      <td>Setosa</td>\n",
       "    </tr>\n",
       "    <tr>\n",
       "      <th>4</th>\n",
       "      <td>5.0</td>\n",
       "      <td>3.6</td>\n",
       "      <td>1.4</td>\n",
       "      <td>0.2</td>\n",
       "      <td>Setosa</td>\n",
       "    </tr>\n",
       "  </tbody>\n",
       "</table>\n",
       "</div>"
      ],
      "text/plain": [
       "   sepal.length  sepal.width  petal.length  petal.width variety\n",
       "0           5.1          3.5           1.4          0.2  Setosa\n",
       "1           4.9          3.0           1.4          0.2  Setosa\n",
       "2           4.7          3.2           1.3          0.2  Setosa\n",
       "3           4.6          3.1           1.5          0.2  Setosa\n",
       "4           5.0          3.6           1.4          0.2  Setosa"
      ]
     },
     "execution_count": 42,
     "metadata": {},
     "output_type": "execute_result"
    }
   ],
   "source": [
    "print(\"Dimensión:\",df.shape)\n",
    "df.head()"
   ]
  },
  {
   "cell_type": "code",
   "execution_count": 43,
   "metadata": {
    "colab": {
     "base_uri": "https://localhost:8080/",
     "height": 300
    },
    "id": "jD0SOFj5clXG",
    "outputId": "5bb9ebf3-a2da-4add-f359-b4489106f444"
   },
   "outputs": [
    {
     "data": {
      "text/html": [
       "<div>\n",
       "<style scoped>\n",
       "    .dataframe tbody tr th:only-of-type {\n",
       "        vertical-align: middle;\n",
       "    }\n",
       "\n",
       "    .dataframe tbody tr th {\n",
       "        vertical-align: top;\n",
       "    }\n",
       "\n",
       "    .dataframe thead th {\n",
       "        text-align: right;\n",
       "    }\n",
       "</style>\n",
       "<table border=\"1\" class=\"dataframe\">\n",
       "  <thead>\n",
       "    <tr style=\"text-align: right;\">\n",
       "      <th></th>\n",
       "      <th>sepal.length</th>\n",
       "      <th>sepal.width</th>\n",
       "      <th>petal.length</th>\n",
       "      <th>petal.width</th>\n",
       "    </tr>\n",
       "  </thead>\n",
       "  <tbody>\n",
       "    <tr>\n",
       "      <th>count</th>\n",
       "      <td>150.000000</td>\n",
       "      <td>150.000000</td>\n",
       "      <td>150.000000</td>\n",
       "      <td>150.000000</td>\n",
       "    </tr>\n",
       "    <tr>\n",
       "      <th>mean</th>\n",
       "      <td>5.843333</td>\n",
       "      <td>3.057333</td>\n",
       "      <td>3.758000</td>\n",
       "      <td>1.199333</td>\n",
       "    </tr>\n",
       "    <tr>\n",
       "      <th>std</th>\n",
       "      <td>0.828066</td>\n",
       "      <td>0.435866</td>\n",
       "      <td>1.765298</td>\n",
       "      <td>0.762238</td>\n",
       "    </tr>\n",
       "    <tr>\n",
       "      <th>min</th>\n",
       "      <td>4.300000</td>\n",
       "      <td>2.000000</td>\n",
       "      <td>1.000000</td>\n",
       "      <td>0.100000</td>\n",
       "    </tr>\n",
       "    <tr>\n",
       "      <th>25%</th>\n",
       "      <td>5.100000</td>\n",
       "      <td>2.800000</td>\n",
       "      <td>1.600000</td>\n",
       "      <td>0.300000</td>\n",
       "    </tr>\n",
       "    <tr>\n",
       "      <th>50%</th>\n",
       "      <td>5.800000</td>\n",
       "      <td>3.000000</td>\n",
       "      <td>4.350000</td>\n",
       "      <td>1.300000</td>\n",
       "    </tr>\n",
       "    <tr>\n",
       "      <th>75%</th>\n",
       "      <td>6.400000</td>\n",
       "      <td>3.300000</td>\n",
       "      <td>5.100000</td>\n",
       "      <td>1.800000</td>\n",
       "    </tr>\n",
       "    <tr>\n",
       "      <th>max</th>\n",
       "      <td>7.900000</td>\n",
       "      <td>4.400000</td>\n",
       "      <td>6.900000</td>\n",
       "      <td>2.500000</td>\n",
       "    </tr>\n",
       "  </tbody>\n",
       "</table>\n",
       "</div>"
      ],
      "text/plain": [
       "       sepal.length  sepal.width  petal.length  petal.width\n",
       "count    150.000000   150.000000    150.000000   150.000000\n",
       "mean       5.843333     3.057333      3.758000     1.199333\n",
       "std        0.828066     0.435866      1.765298     0.762238\n",
       "min        4.300000     2.000000      1.000000     0.100000\n",
       "25%        5.100000     2.800000      1.600000     0.300000\n",
       "50%        5.800000     3.000000      4.350000     1.300000\n",
       "75%        6.400000     3.300000      5.100000     1.800000\n",
       "max        7.900000     4.400000      6.900000     2.500000"
      ]
     },
     "execution_count": 43,
     "metadata": {},
     "output_type": "execute_result"
    }
   ],
   "source": [
    "df.describe()"
   ]
  },
  {
   "cell_type": "code",
   "execution_count": 44,
   "metadata": {
    "colab": {
     "base_uri": "https://localhost:8080/"
    },
    "id": "_CwPAbGJct_B",
    "outputId": "b01ff4bf-1348-45da-bfc5-89832479cebd"
   },
   "outputs": [
    {
     "data": {
      "text/plain": [
       "sepal.length    0\n",
       "sepal.width     0\n",
       "petal.length    0\n",
       "petal.width     0\n",
       "variety         0\n",
       "dtype: int64"
      ]
     },
     "execution_count": 44,
     "metadata": {},
     "output_type": "execute_result"
    }
   ],
   "source": [
    "df.isnull().sum()"
   ]
  },
  {
   "cell_type": "code",
   "execution_count": 45,
   "metadata": {
    "colab": {
     "base_uri": "https://localhost:8080/"
    },
    "id": "P7TTDa15c2vk",
    "outputId": "ca0b8a84-ab2a-4e1e-9a4a-b2b74daa3f4f"
   },
   "outputs": [
    {
     "data": {
      "text/plain": [
       "{'sepal.length': array([5.1, 4.9, 4.7, 4.6, 5. , 5.4, 4.4, 4.8, 4.3, 5.8, 5.7, 5.2, 5.5,\n",
       "        4.5, 5.3, 7. , 6.4, 6.9, 6.5, 6.3, 6.6, 5.9, 6. , 6.1, 5.6, 6.7,\n",
       "        6.2, 6.8, 7.1, 7.6, 7.3, 7.2, 7.7, 7.4, 7.9]),\n",
       " 'sepal.width': array([3.5, 3. , 3.2, 3.1, 3.6, 3.9, 3.4, 2.9, 3.7, 4. , 4.4, 3.8, 3.3,\n",
       "        4.1, 4.2, 2.3, 2.8, 2.4, 2.7, 2. , 2.2, 2.5, 2.6]),\n",
       " 'petal.length': array([1.4, 1.3, 1.5, 1.7, 1.6, 1.1, 1.2, 1. , 1.9, 4.7, 4.5, 4.9, 4. ,\n",
       "        4.6, 3.3, 3.9, 3.5, 4.2, 3.6, 4.4, 4.1, 4.8, 4.3, 5. , 3.8, 3.7,\n",
       "        5.1, 3. , 6. , 5.9, 5.6, 5.8, 6.6, 6.3, 6.1, 5.3, 5.5, 6.7, 6.9,\n",
       "        5.7, 6.4, 5.4, 5.2]),\n",
       " 'petal.width': array([0.2, 0.4, 0.3, 0.1, 0.5, 0.6, 1.4, 1.5, 1.3, 1.6, 1. , 1.1, 1.8,\n",
       "        1.2, 1.7, 2.5, 1.9, 2.1, 2.2, 2. , 2.4, 2.3]),\n",
       " 'variety': array(['Setosa', 'Versicolor', 'Virginica'], dtype=object)}"
      ]
     },
     "execution_count": 45,
     "metadata": {},
     "output_type": "execute_result"
    }
   ],
   "source": [
    "elementos_columnas = {}\n",
    "for c in columnas:\n",
    "  elementos_columnas[c] = df[c].unique()\n",
    "\n",
    "elementos_columnas"
   ]
  },
  {
   "cell_type": "code",
   "execution_count": 46,
   "metadata": {
    "colab": {
     "base_uri": "https://localhost:8080/",
     "height": 1000
    },
    "id": "zlRL3WuiyRJJ",
    "outputId": "a0058dc0-5f50-4ba5-f539-248b94f8b0f9"
   },
   "outputs": [
    {
     "data": {
      "image/png": "[encoded data removed]",
      "text/plain": [
       "<Figure size 216x1440 with 5 Axes>"
      ]
     },
     "metadata": {
      "needs_background": "light"
     },
     "output_type": "display_data"
    }
   ],
   "source": [
    "fig, axs = plt.subplots(df.shape[1], 1, figsize = (3,20))\n",
    "fig.suptitle('Distribución de la información por atributo.')\n",
    "plt.subplots_adjust(hspace = 1)\n",
    "for i, c in enumerate(columnas):\n",
    "  dist_datos = df[c]\n",
    "  axs[i].set_title(f'Distribución de {c}.')\n",
    "  axs[i].hist(dist_datos)\n",
    "  axs[i].grid(True)"
   ]
  },
  {
   "cell_type": "code",
   "execution_count": 62,
   "metadata": {
    "id": "lJsVCnktUJA1"
   },
   "outputs": [],
   "source": [
    "x_train, x_test, y_train, y_test = split_80_20(x, y)"
   ]
  },
  {
   "cell_type": "markdown",
   "metadata": {
    "id": "syXTSv9X83L4"
   },
   "source": [
    "## Entrenamiento de id3"
   ]
  },
  {
   "cell_type": "code",
   "execution_count": 63,
   "metadata": {
    "id": "6PShfXkg-HB_"
   },
   "outputs": [],
   "source": [
    "arbol_gato = {}\n",
    "arbol_gato = arbol_id3(x_train, y_train, clases, arbol_gato)"
   ]
  },
  {
   "cell_type": "code",
   "execution_count": 64,
   "metadata": {
    "colab": {
     "base_uri": "https://localhost:8080/"
    },
    "id": "PWdtARvWVVru",
    "outputId": "a47a7fe6-128b-4a3d-e005-7dcc20d7d1ef"
   },
   "outputs": [
    {
     "data": {
      "text/plain": [
       "{'petal.length': {5.1: {'sepal.length': {5.8: 'Virginica',\n",
       "    6.9: 'Virginica',\n",
       "    5.9: 'Virginica',\n",
       "    6.0: 'Versicolor',\n",
       "    6.5: 'Virginica'}},\n",
       "  6.1: 'Virginica',\n",
       "  1.7: 'Setosa',\n",
       "  5.6: 'Virginica',\n",
       "  4.8: {'sepal.length': {6.8: 'Versicolor',\n",
       "    6.2: 'Virginica',\n",
       "    6.0: 'Virginica',\n",
       "    5.9: 'Versicolor'}},\n",
       "  5.7: 'Virginica',\n",
       "  3.7: 'Versicolor',\n",
       "  5.8: 'Virginica',\n",
       "  1.4: 'Setosa',\n",
       "  6.6: 'Virginica',\n",
       "  4.4: 'Versicolor',\n",
       "  4.6: 'Versicolor',\n",
       "  5.9: 'Virginica',\n",
       "  1.5: 'Setosa',\n",
       "  3.9: 'Versicolor',\n",
       "  5.0: 'Virginica',\n",
       "  6.0: 'Virginica',\n",
       "  4.2: 'Versicolor',\n",
       "  4.5: 'Versicolor',\n",
       "  1.3: 'Setosa',\n",
       "  5.3: 'Virginica',\n",
       "  3.0: 'Versicolor',\n",
       "  6.3: 'Virginica',\n",
       "  5.2: 'Virginica',\n",
       "  5.5: 'Virginica',\n",
       "  4.9: {'sepal.width': {2.5: 'Versicolor',\n",
       "    2.7: 'Virginica',\n",
       "    3.1: 'Versicolor'}},\n",
       "  4.7: 'Versicolor',\n",
       "  4.0: 'Versicolor',\n",
       "  3.6: 'Versicolor',\n",
       "  1.9: 'Setosa',\n",
       "  1.0: 'Setosa',\n",
       "  1.6: 'Setosa',\n",
       "  6.4: 'Virginica',\n",
       "  3.5: 'Versicolor',\n",
       "  3.8: 'Versicolor',\n",
       "  6.9: 'Virginica',\n",
       "  4.1: 'Versicolor',\n",
       "  4.3: 'Versicolor',\n",
       "  3.3: 'Versicolor',\n",
       "  1.1: 'Setosa',\n",
       "  5.4: 'Virginica'}}"
      ]
     },
     "execution_count": 64,
     "metadata": {},
     "output_type": "execute_result"
    }
   ],
   "source": [
    "arbol_gato"
   ]
  },
  {
   "cell_type": "markdown",
   "metadata": {
    "id": "WWUWp-_0sA31"
   },
   "source": [
    "### Función para evaluar id3"
   ]
  },
  {
   "cell_type": "markdown",
   "metadata": {
    "id": "KfU5uuWTArRW"
   },
   "source": [
    "sepal.length\tsepal.width\tpetal.length\tpetal.width"
   ]
  },
  {
   "cell_type": "code",
   "execution_count": 160,
   "metadata": {
    "id": "E28zBKLCRlob"
   },
   "outputs": [],
   "source": [
    "def clasificar_gato(x_clasificar):\n",
    "    petal_l = x_clasificar['petal.length']\n",
    "    petal_w = x_clasificar['petal.width']\n",
    "    sepal_l = x_clasificar['sepal.length']\n",
    "    sepal_w = x_clasificar['sepal.width']\n",
    "\n",
    "    resultado = 'No se econtró'\n",
    "   # print(type(petal_l))\n",
    "   # print(sepal_l)\n",
    "\n",
    "    if petal_l == 5.1:\n",
    "        if sepal_l == 5.8:\n",
    "            resultado = 'Virginica'\n",
    "        elif sepal_l == 6.9:\n",
    "            resultado = 'Virginica'\n",
    "        elif sepal_l == 5.9:\n",
    "            resultado = 'Virginica'\n",
    "        elif sepal_l == 6.0:\n",
    "            resultado = 'Versicolor'\n",
    "        elif sepal_l == 6.5:\n",
    "            resultado = 'Virginica'\n",
    "\n",
    "    elif petal_l == 6.1:\n",
    "        resultado = 'Virginica'\n",
    "    elif petal_l == 1.7:\n",
    "        resultado = 'Setosa'\n",
    "    elif petal_l == 5.6:\n",
    "        resultado = 'Virginica'\n",
    "    elif petal_l == 4.8:\n",
    "        if sepal_l == 6.8:\n",
    "            resultado = 'Versicolor'\n",
    "        elif sepal_l == 6.2:\n",
    "            resultado = 'Virginica'\n",
    "        elif sepal_l == 6.0:\n",
    "            resultado = 'Virginica'\n",
    "        elif sepal_l == 4.9:\n",
    "            resultado = 'Versicolor'\n",
    "\n",
    "    elif petal_l == 5.7:\n",
    "        resultado = 'Virginica'\n",
    "    elif petal_l == 3.7:\n",
    "        resultado = 'Versicolor'\n",
    "    elif petal_l == 5.8:\n",
    "        resultado = 'Virginica'\n",
    "    elif petal_l == 1.4:\n",
    "        resultado = 'Setosa'\n",
    "    elif petal_l == 6.6:\n",
    "        resultado = 'Virginica'\n",
    "\n",
    "\n",
    "    elif petal_l == 4.4:\n",
    "        resultado = 'Versicolor'\n",
    "    elif petal_l == 4.6:\n",
    "        resultado = 'Versicolor'\n",
    "    elif petal_l == 5.9:\n",
    "        resultado = 'Virginica'\n",
    "    elif petal_l == 1.5:\n",
    "        resultado = 'Setosa'\n",
    "    elif petal_l == 3.9:\n",
    "        resultado = 'Versicolor'\n",
    "    elif petal_l == 5.0:\n",
    "        resultado = 'Virginica'\n",
    "    elif petal_l == 6.0:\n",
    "        resultado = 'Virginica'\n",
    "    elif petal_l == 4.2:\n",
    "        resultado = 'Versicolor'\n",
    "    elif petal_l == 4.5:\n",
    "        resultado = 'Versicolor'\n",
    "    elif petal_l == 6.4:\n",
    "        resultado = 'Virginica'\n",
    "    elif petal_l == 1.3:\n",
    "        resultado = 'Setosa'\n",
    "    elif petal_l == 5.3:\n",
    "        resultado = 'Virginica'\n",
    "    elif petal_l == 3.0:\n",
    "        resultado = 'Versicolor'\n",
    "    elif petal_l == 6.3:\n",
    "        resultado = 'Virginica'\n",
    "    elif petal_l == 5.2:\n",
    "        resultado = 'Virginica'\n",
    "    elif petal_l == 5.5:\n",
    "        resultado = 'Virginica'\n",
    "    elif petal_l == 4.9:\n",
    "\n",
    "        if sepal_w == 2.5:\n",
    "            resultado = 'Versicolor'\n",
    "        elif sepal_w == 2.7:\n",
    "            resultado = 'Virginica'\n",
    "        elif sepal_w == 3.1:\n",
    "            resultado = 'Versicolor'   \n",
    "\n",
    "    elif petal_l == 4.7:\n",
    "        resultado = 'Versicolor'\n",
    "    elif petal_l == 4.0:\n",
    "        resultado = 'Versicolor'\n",
    "    elif petal_l == 3.6:\n",
    "        resultado = 'Versicolor'\n",
    "    elif petal_l == 1.9:\n",
    "        resultado = 'Setosa'\n",
    "    elif petal_l == 1.0:\n",
    "        resultado = 'Setosa'\n",
    "    elif petal_l == 1.6:\n",
    "        resultado = 'Setosa'\n",
    "\n",
    "    elif petal_l == 6.4:\n",
    "        resultado = 'Virginica'\n",
    "    elif petal_l == 3.5:\n",
    "        resultado = 'Versicolor'\n",
    "    elif petal_l == 3.8:\n",
    "        resultado = 'Versicolor'\n",
    "\n",
    "    elif petal_l == 6.9:\n",
    "        resultado = 'Virginica'\n",
    "    elif petal_l == 4.1:\n",
    "        resultado = 'Versicolor'\n",
    "    elif petal_l == 4.3:\n",
    "        resultado = 'Versicolor'\n",
    "    elif petal_l == 3.3:\n",
    "        resultado = 'Versicolor'\n",
    "\n",
    "    elif petal_l == 1.1:\n",
    "        resultado = 'Setosa'\n",
    "    elif petal_l == 5.4:\n",
    "        resultado = 'Virginica'\n",
    "   # print(resultado)\n",
    "    return resultado"
   ]
  },
  {
   "cell_type": "code",
   "execution_count": 161,
   "metadata": {
    "id": "5THwW3uGWrua"
   },
   "outputs": [],
   "source": [
    "def clasificar_id3(x_):\n",
    "  indices_ = x_.index\n",
    "  clasificaciones_ = []\n",
    "  for i in indices_:\n",
    "    clasifica_ = x_.loc[i]\n",
    "    resultado_i = clasificar_gato(clasifica_)\n",
    "    clasificaciones_.append(resultado_i)\n",
    "  return clasificaciones_"
   ]
  },
  {
   "cell_type": "markdown",
   "metadata": {
    "id": "Wl8y1ak3spfs"
   },
   "source": [
    "## Clasificar y evaluar árbol"
   ]
  },
  {
   "cell_type": "markdown",
   "metadata": {
    "id": "NzJOJehD4SRO"
   },
   "source": [
    "Evaluar entrenamiento"
   ]
  },
  {
   "cell_type": "code",
   "execution_count": 187,
   "metadata": {
    "id": "H0MW_e8f4mcb"
   },
   "outputs": [],
   "source": [
    "y_clasificada_ent = clasificar_id3(x_train)"
   ]
  },
  {
   "cell_type": "code",
   "execution_count": 188,
   "metadata": {},
   "outputs": [],
   "source": [
    "coincidencias = np.equal(y_clasificada_ent, y_train)"
   ]
  },
  {
   "cell_type": "code",
   "execution_count": 259,
   "metadata": {
    "colab": {
     "base_uri": "https://localhost:8080/"
    },
    "id": "7ziTRNO04Y9S",
    "outputId": "d7b1ef72-181f-4338-8d68-007e32c17be9"
   },
   "outputs": [
    {
     "name": "stdout",
     "output_type": "stream",
     "text": [
      "120\n",
      "0\n"
     ]
    }
   ],
   "source": [
    "exactitud_id3_ent = exactitud(y_clasificada_ent, y_train)\n",
    "precision_id3_ent = precision(y_clasificada_ent, y_train)\n",
    "#sensitividad_id3_ent = sensitividad(y_clasificada_ent, y_train)\n",
    "#especificidad_id3_ent = especificidad(y_clasificada_ent, y_train)\n",
    "#puntaje_F1_id3_ent = puntaje_F1(y_clasificada_ent, y_train)"
   ]
  },
  {
   "cell_type": "code",
   "execution_count": 260,
   "metadata": {
    "colab": {
     "base_uri": "https://localhost:8080/"
    },
    "id": "rTVjmCziKkqf",
    "outputId": "d3cee8bd-7c17-4f91-ce0b-ab15470f3b4c"
   },
   "outputs": [
    {
     "name": "stdout",
     "output_type": "stream",
     "text": [
      "Exactitud: 0.9917355371900827\n"
     ]
    }
   ],
   "source": [
    "print(f'Exactitud: {exactitud_id3_ent}')"
   ]
  },
  {
   "cell_type": "code",
   "execution_count": 261,
   "metadata": {
    "colab": {
     "base_uri": "https://localhost:8080/"
    },
    "id": "JI_wbd19K6S4",
    "outputId": "5b56ef62-8825-4a11-f4f3-02175b425eab"
   },
   "outputs": [
    {
     "name": "stdout",
     "output_type": "stream",
     "text": [
      "Precisión: 1.0\n"
     ]
    }
   ],
   "source": [
    "print(f'Precisión: {precision_id3_ent}')"
   ]
  },
  {
   "cell_type": "code",
   "execution_count": 246,
   "metadata": {
    "colab": {
     "base_uri": "https://localhost:8080/"
    },
    "id": "khK5xadALDc-",
    "outputId": "022382e2-9d82-48c4-86c3-3d0d02419f57"
   },
   "outputs": [
    {
     "name": "stdout",
     "output_type": "stream",
     "text": [
      "Sensitividad: 0.9917355371900827\n"
     ]
    }
   ],
   "source": [
    "print(f'Sensitividad: {sensitividad_id3_ent}')"
   ]
  },
  {
   "cell_type": "code",
   "execution_count": 252,
   "metadata": {
    "colab": {
     "base_uri": "https://localhost:8080/",
     "height": 166
    },
    "id": "kiWLv2xgLJNs",
    "outputId": "dba67024-ebcc-459e-ce44-4cf83f260ac3"
   },
   "outputs": [],
   "source": [
    "#print(f'Especificidad: {especificidad_id3_ent}')"
   ]
  },
  {
   "cell_type": "code",
   "execution_count": 253,
   "metadata": {
    "id": "GF_flK1DLPhG"
   },
   "outputs": [],
   "source": [
    "#print(f'Puntaje: {puntaje_id3_ent}')"
   ]
  },
  {
   "cell_type": "markdown",
   "metadata": {
    "id": "JQRnTjwktA5_"
   },
   "source": [
    "Evaluar prueba"
   ]
  },
  {
   "cell_type": "code",
   "execution_count": 222,
   "metadata": {
    "id": "f2qtt3HlZv_H"
   },
   "outputs": [],
   "source": [
    "y_clasificada = clasificar_id3(x_test)"
   ]
  },
  {
   "cell_type": "code",
   "execution_count": 254,
   "metadata": {
    "id": "zanidqKaZ31i"
   },
   "outputs": [
    {
     "name": "stdout",
     "output_type": "stream",
     "text": [
      "20\n",
      "0\n"
     ]
    }
   ],
   "source": [
    "exactitud_id3 = exactitud(y_clasificada, y_test)\n",
    "precision_id3 = precision(y_clasificada, y_test)\n",
    "#sensitividad_id3 = sensitividad(y_clasificada, y_test)\n",
    "#especificidad_id3 = especificidad(y_clasificada, y_test)\n",
    "#puntaje_F1_id3 = puntaje_F1(y_clasificada, y_test)"
   ]
  },
  {
   "cell_type": "code",
   "execution_count": 224,
   "metadata": {
    "id": "UAegOZFyLdGK"
   },
   "outputs": [
    {
     "name": "stdout",
     "output_type": "stream",
     "text": [
      "Exactitud: 0.6896551724137931\n"
     ]
    }
   ],
   "source": [
    "print(f'Exactitud: {exactitud_id3}')"
   ]
  },
  {
   "cell_type": "code",
   "execution_count": 225,
   "metadata": {
    "id": "L9aOmHJiLdGL"
   },
   "outputs": [
    {
     "name": "stdout",
     "output_type": "stream",
     "text": [
      "Precisión: 1.0\n"
     ]
    }
   ],
   "source": [
    "print(f'Precisión: {precision_id3}')"
   ]
  },
  {
   "cell_type": "code",
   "execution_count": 226,
   "metadata": {
    "id": "EC45bN4yLdGL"
   },
   "outputs": [
    {
     "name": "stdout",
     "output_type": "stream",
     "text": [
      "Precisión: 1.0\n"
     ]
    }
   ],
   "source": [
    "print(f'Precisión: {sensitividad_id3}')"
   ]
  },
  {
   "cell_type": "code",
   "execution_count": 255,
   "metadata": {
    "id": "yTwM_fUNLdGL"
   },
   "outputs": [],
   "source": [
    "#print(f'Especificidad: {especificidad_id3}')"
   ]
  },
  {
   "cell_type": "code",
   "execution_count": 256,
   "metadata": {
    "id": "CkxQ-XkZLdGL"
   },
   "outputs": [],
   "source": [
    "#print(f'Puntaje: {puntaje_id3}')"
   ]
  },
  {
   "cell_type": "code",
   "execution_count": 257,
   "metadata": {
    "id": "uMLfCdtSjdTe"
   },
   "outputs": [],
   "source": [
    "#print(f'''Exactitud: {exactitud_id3}\n",
    "#Precisión: {precision_id3}\n",
    "#Sensitividad: {sensitividad_id3}\n",
    "#Especificidad: {especificidad_id3}\n",
    "#Puntaje F1: {puntaje_F1_id3}''')"
   ]
  },
  {
   "cell_type": "code",
   "execution_count": null,
   "metadata": {
    "id": "xM7xVvwZU7Ur"
   },
   "outputs": [],
   "source": []
  }
 ],
 "metadata": {
  "colab": {
   "collapsed_sections": [],
   "provenance": []
  },
  "kernelspec": {
   "display_name": "Python 3 (ipykernel)",
   "language": "python",
   "name": "python3"
  },
  "language_info": {
   "codemirror_mode": {
    "name": "ipython",
    "version": 3
   },
   "file_extension": ".py",
   "mimetype": "text/x-python",
   "name": "python",
   "nbconvert_exporter": "python",
   "pygments_lexer": "ipython3",
   "version": "3.9.12"
  }
 },
 "nbformat": 4,
 "nbformat_minor": 4
}
