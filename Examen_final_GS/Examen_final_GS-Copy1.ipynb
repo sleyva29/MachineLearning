{
 "cells": [
  {
   "cell_type": "markdown",
   "id": "2bc23952",
   "metadata": {},
   "source": [
    "### Librerías"
   ]
  },
  {
   "cell_type": "code",
   "execution_count": 98,
   "id": "c0fcd45e-27e9-453e-a251-211fed1efcdc",
   "metadata": {},
   "outputs": [],
   "source": [
    "import numpy as np\n",
    "import pandas as pd\n",
    "import math\n",
    "import matplotlib.pyplot as plt\n",
    "import time\n",
    "from collections import Counter\n",
    "from math import sqrt\n",
    "import seaborn as sns\n",
    "from tqdm import tqdm\n",
    "import random\n",
    "from pandas.core.algorithms import unique"
   ]
  },
  {
   "cell_type": "markdown",
   "id": "7b87c6d9",
   "metadata": {},
   "source": [
    "## Metodología"
   ]
  },
  {
   "cell_type": "markdown",
   "id": "b624d720",
   "metadata": {},
   "source": [
    "### Recolectar"
   ]
  },
  {
   "cell_type": "markdown",
   "id": "60d41462",
   "metadata": {},
   "source": [
    "### Lectura"
   ]
  },
  {
   "cell_type": "code",
   "execution_count": 99,
   "id": "616dd6e1-3a84-4ae5-8cba-4b5c10c2acff",
   "metadata": {},
   "outputs": [
    {
     "data": {
      "text/html": [
       "<div>\n",
       "<style scoped>\n",
       "    .dataframe tbody tr th:only-of-type {\n",
       "        vertical-align: middle;\n",
       "    }\n",
       "\n",
       "    .dataframe tbody tr th {\n",
       "        vertical-align: top;\n",
       "    }\n",
       "\n",
       "    .dataframe thead th {\n",
       "        text-align: right;\n",
       "    }\n",
       "</style>\n",
       "<table border=\"1\" class=\"dataframe\">\n",
       "  <thead>\n",
       "    <tr style=\"text-align: right;\">\n",
       "      <th></th>\n",
       "      <th>class</th>\n",
       "      <th>cap-shape</th>\n",
       "      <th>cap-surface</th>\n",
       "      <th>cap-color</th>\n",
       "      <th>bruises</th>\n",
       "      <th>odor</th>\n",
       "      <th>gill-attachment</th>\n",
       "      <th>gill-spacing</th>\n",
       "      <th>gill-size</th>\n",
       "      <th>gill-color</th>\n",
       "      <th>...</th>\n",
       "      <th>stalk-surface-below-ring</th>\n",
       "      <th>stalk-color-above-ring</th>\n",
       "      <th>stalk-color-below-ring</th>\n",
       "      <th>veil-type</th>\n",
       "      <th>veil-color</th>\n",
       "      <th>ring-number</th>\n",
       "      <th>ring-type</th>\n",
       "      <th>spore-print-color</th>\n",
       "      <th>population</th>\n",
       "      <th>habitat</th>\n",
       "    </tr>\n",
       "  </thead>\n",
       "  <tbody>\n",
       "    <tr>\n",
       "      <th>0</th>\n",
       "      <td>p</td>\n",
       "      <td>x</td>\n",
       "      <td>s</td>\n",
       "      <td>n</td>\n",
       "      <td>t</td>\n",
       "      <td>p</td>\n",
       "      <td>f</td>\n",
       "      <td>c</td>\n",
       "      <td>n</td>\n",
       "      <td>k</td>\n",
       "      <td>...</td>\n",
       "      <td>s</td>\n",
       "      <td>w</td>\n",
       "      <td>w</td>\n",
       "      <td>p</td>\n",
       "      <td>w</td>\n",
       "      <td>o</td>\n",
       "      <td>p</td>\n",
       "      <td>k</td>\n",
       "      <td>s</td>\n",
       "      <td>u</td>\n",
       "    </tr>\n",
       "    <tr>\n",
       "      <th>1</th>\n",
       "      <td>e</td>\n",
       "      <td>x</td>\n",
       "      <td>s</td>\n",
       "      <td>y</td>\n",
       "      <td>t</td>\n",
       "      <td>a</td>\n",
       "      <td>f</td>\n",
       "      <td>c</td>\n",
       "      <td>b</td>\n",
       "      <td>k</td>\n",
       "      <td>...</td>\n",
       "      <td>s</td>\n",
       "      <td>w</td>\n",
       "      <td>w</td>\n",
       "      <td>p</td>\n",
       "      <td>w</td>\n",
       "      <td>o</td>\n",
       "      <td>p</td>\n",
       "      <td>n</td>\n",
       "      <td>n</td>\n",
       "      <td>g</td>\n",
       "    </tr>\n",
       "    <tr>\n",
       "      <th>2</th>\n",
       "      <td>e</td>\n",
       "      <td>b</td>\n",
       "      <td>s</td>\n",
       "      <td>w</td>\n",
       "      <td>t</td>\n",
       "      <td>l</td>\n",
       "      <td>f</td>\n",
       "      <td>c</td>\n",
       "      <td>b</td>\n",
       "      <td>n</td>\n",
       "      <td>...</td>\n",
       "      <td>s</td>\n",
       "      <td>w</td>\n",
       "      <td>w</td>\n",
       "      <td>p</td>\n",
       "      <td>w</td>\n",
       "      <td>o</td>\n",
       "      <td>p</td>\n",
       "      <td>n</td>\n",
       "      <td>n</td>\n",
       "      <td>m</td>\n",
       "    </tr>\n",
       "    <tr>\n",
       "      <th>3</th>\n",
       "      <td>p</td>\n",
       "      <td>x</td>\n",
       "      <td>y</td>\n",
       "      <td>w</td>\n",
       "      <td>t</td>\n",
       "      <td>p</td>\n",
       "      <td>f</td>\n",
       "      <td>c</td>\n",
       "      <td>n</td>\n",
       "      <td>n</td>\n",
       "      <td>...</td>\n",
       "      <td>s</td>\n",
       "      <td>w</td>\n",
       "      <td>w</td>\n",
       "      <td>p</td>\n",
       "      <td>w</td>\n",
       "      <td>o</td>\n",
       "      <td>p</td>\n",
       "      <td>k</td>\n",
       "      <td>s</td>\n",
       "      <td>u</td>\n",
       "    </tr>\n",
       "    <tr>\n",
       "      <th>4</th>\n",
       "      <td>e</td>\n",
       "      <td>x</td>\n",
       "      <td>s</td>\n",
       "      <td>g</td>\n",
       "      <td>f</td>\n",
       "      <td>n</td>\n",
       "      <td>f</td>\n",
       "      <td>w</td>\n",
       "      <td>b</td>\n",
       "      <td>k</td>\n",
       "      <td>...</td>\n",
       "      <td>s</td>\n",
       "      <td>w</td>\n",
       "      <td>w</td>\n",
       "      <td>p</td>\n",
       "      <td>w</td>\n",
       "      <td>o</td>\n",
       "      <td>e</td>\n",
       "      <td>n</td>\n",
       "      <td>a</td>\n",
       "      <td>g</td>\n",
       "    </tr>\n",
       "    <tr>\n",
       "      <th>...</th>\n",
       "      <td>...</td>\n",
       "      <td>...</td>\n",
       "      <td>...</td>\n",
       "      <td>...</td>\n",
       "      <td>...</td>\n",
       "      <td>...</td>\n",
       "      <td>...</td>\n",
       "      <td>...</td>\n",
       "      <td>...</td>\n",
       "      <td>...</td>\n",
       "      <td>...</td>\n",
       "      <td>...</td>\n",
       "      <td>...</td>\n",
       "      <td>...</td>\n",
       "      <td>...</td>\n",
       "      <td>...</td>\n",
       "      <td>...</td>\n",
       "      <td>...</td>\n",
       "      <td>...</td>\n",
       "      <td>...</td>\n",
       "      <td>...</td>\n",
       "    </tr>\n",
       "    <tr>\n",
       "      <th>8119</th>\n",
       "      <td>e</td>\n",
       "      <td>k</td>\n",
       "      <td>s</td>\n",
       "      <td>n</td>\n",
       "      <td>f</td>\n",
       "      <td>n</td>\n",
       "      <td>a</td>\n",
       "      <td>c</td>\n",
       "      <td>b</td>\n",
       "      <td>y</td>\n",
       "      <td>...</td>\n",
       "      <td>s</td>\n",
       "      <td>o</td>\n",
       "      <td>o</td>\n",
       "      <td>p</td>\n",
       "      <td>o</td>\n",
       "      <td>o</td>\n",
       "      <td>p</td>\n",
       "      <td>b</td>\n",
       "      <td>c</td>\n",
       "      <td>l</td>\n",
       "    </tr>\n",
       "    <tr>\n",
       "      <th>8120</th>\n",
       "      <td>e</td>\n",
       "      <td>x</td>\n",
       "      <td>s</td>\n",
       "      <td>n</td>\n",
       "      <td>f</td>\n",
       "      <td>n</td>\n",
       "      <td>a</td>\n",
       "      <td>c</td>\n",
       "      <td>b</td>\n",
       "      <td>y</td>\n",
       "      <td>...</td>\n",
       "      <td>s</td>\n",
       "      <td>o</td>\n",
       "      <td>o</td>\n",
       "      <td>p</td>\n",
       "      <td>n</td>\n",
       "      <td>o</td>\n",
       "      <td>p</td>\n",
       "      <td>b</td>\n",
       "      <td>v</td>\n",
       "      <td>l</td>\n",
       "    </tr>\n",
       "    <tr>\n",
       "      <th>8121</th>\n",
       "      <td>e</td>\n",
       "      <td>f</td>\n",
       "      <td>s</td>\n",
       "      <td>n</td>\n",
       "      <td>f</td>\n",
       "      <td>n</td>\n",
       "      <td>a</td>\n",
       "      <td>c</td>\n",
       "      <td>b</td>\n",
       "      <td>n</td>\n",
       "      <td>...</td>\n",
       "      <td>s</td>\n",
       "      <td>o</td>\n",
       "      <td>o</td>\n",
       "      <td>p</td>\n",
       "      <td>o</td>\n",
       "      <td>o</td>\n",
       "      <td>p</td>\n",
       "      <td>b</td>\n",
       "      <td>c</td>\n",
       "      <td>l</td>\n",
       "    </tr>\n",
       "    <tr>\n",
       "      <th>8122</th>\n",
       "      <td>p</td>\n",
       "      <td>k</td>\n",
       "      <td>y</td>\n",
       "      <td>n</td>\n",
       "      <td>f</td>\n",
       "      <td>y</td>\n",
       "      <td>f</td>\n",
       "      <td>c</td>\n",
       "      <td>n</td>\n",
       "      <td>b</td>\n",
       "      <td>...</td>\n",
       "      <td>k</td>\n",
       "      <td>w</td>\n",
       "      <td>w</td>\n",
       "      <td>p</td>\n",
       "      <td>w</td>\n",
       "      <td>o</td>\n",
       "      <td>e</td>\n",
       "      <td>w</td>\n",
       "      <td>v</td>\n",
       "      <td>l</td>\n",
       "    </tr>\n",
       "    <tr>\n",
       "      <th>8123</th>\n",
       "      <td>e</td>\n",
       "      <td>x</td>\n",
       "      <td>s</td>\n",
       "      <td>n</td>\n",
       "      <td>f</td>\n",
       "      <td>n</td>\n",
       "      <td>a</td>\n",
       "      <td>c</td>\n",
       "      <td>b</td>\n",
       "      <td>y</td>\n",
       "      <td>...</td>\n",
       "      <td>s</td>\n",
       "      <td>o</td>\n",
       "      <td>o</td>\n",
       "      <td>p</td>\n",
       "      <td>o</td>\n",
       "      <td>o</td>\n",
       "      <td>p</td>\n",
       "      <td>o</td>\n",
       "      <td>c</td>\n",
       "      <td>l</td>\n",
       "    </tr>\n",
       "  </tbody>\n",
       "</table>\n",
       "<p>8124 rows × 23 columns</p>\n",
       "</div>"
      ],
      "text/plain": [
       "     class cap-shape cap-surface cap-color bruises odor gill-attachment  \\\n",
       "0        p         x           s         n       t    p               f   \n",
       "1        e         x           s         y       t    a               f   \n",
       "2        e         b           s         w       t    l               f   \n",
       "3        p         x           y         w       t    p               f   \n",
       "4        e         x           s         g       f    n               f   \n",
       "...    ...       ...         ...       ...     ...  ...             ...   \n",
       "8119     e         k           s         n       f    n               a   \n",
       "8120     e         x           s         n       f    n               a   \n",
       "8121     e         f           s         n       f    n               a   \n",
       "8122     p         k           y         n       f    y               f   \n",
       "8123     e         x           s         n       f    n               a   \n",
       "\n",
       "     gill-spacing gill-size gill-color  ... stalk-surface-below-ring  \\\n",
       "0               c         n          k  ...                        s   \n",
       "1               c         b          k  ...                        s   \n",
       "2               c         b          n  ...                        s   \n",
       "3               c         n          n  ...                        s   \n",
       "4               w         b          k  ...                        s   \n",
       "...           ...       ...        ...  ...                      ...   \n",
       "8119            c         b          y  ...                        s   \n",
       "8120            c         b          y  ...                        s   \n",
       "8121            c         b          n  ...                        s   \n",
       "8122            c         n          b  ...                        k   \n",
       "8123            c         b          y  ...                        s   \n",
       "\n",
       "     stalk-color-above-ring stalk-color-below-ring veil-type veil-color  \\\n",
       "0                         w                      w         p          w   \n",
       "1                         w                      w         p          w   \n",
       "2                         w                      w         p          w   \n",
       "3                         w                      w         p          w   \n",
       "4                         w                      w         p          w   \n",
       "...                     ...                    ...       ...        ...   \n",
       "8119                      o                      o         p          o   \n",
       "8120                      o                      o         p          n   \n",
       "8121                      o                      o         p          o   \n",
       "8122                      w                      w         p          w   \n",
       "8123                      o                      o         p          o   \n",
       "\n",
       "     ring-number ring-type spore-print-color population habitat  \n",
       "0              o         p                 k          s       u  \n",
       "1              o         p                 n          n       g  \n",
       "2              o         p                 n          n       m  \n",
       "3              o         p                 k          s       u  \n",
       "4              o         e                 n          a       g  \n",
       "...          ...       ...               ...        ...     ...  \n",
       "8119           o         p                 b          c       l  \n",
       "8120           o         p                 b          v       l  \n",
       "8121           o         p                 b          c       l  \n",
       "8122           o         e                 w          v       l  \n",
       "8123           o         p                 o          c       l  \n",
       "\n",
       "[8124 rows x 23 columns]"
      ]
     },
     "execution_count": 99,
     "metadata": {},
     "output_type": "execute_result"
    }
   ],
   "source": [
    "df = pd.read_csv('mushrooms.csv')\n",
    "df"
   ]
  },
  {
   "cell_type": "markdown",
   "id": "59e37fe4",
   "metadata": {},
   "source": [
    "### Preparar"
   ]
  },
  {
   "cell_type": "markdown",
   "id": "76bb3f4c-b483-4921-81c6-a22a63276ef6",
   "metadata": {},
   "source": [
    "#### Función para calcular el número de atributos y los atributos contenidos en el dataframe"
   ]
  },
  {
   "cell_type": "code",
   "execution_count": 100,
   "id": "8fa46f80-e9cc-4145-9b2f-64e08cf395e4",
   "metadata": {},
   "outputs": [],
   "source": [
    "def Numero_atributos(df_na):\n",
    "    num_atributos_ = df_na.shape[1]    #número de columnas\n",
    "    atributos_ = list(df_na.columns)   #extrae columnas-->lista\n",
    "\n",
    "    print(f'El dataset tiene {num_atributos_} atributos:')\n",
    "    \n",
    "    for i in range(num_atributos_):   \n",
    "        print(f'{i+1}.- {atributos_[i]} ')\n",
    "    return num_atributos_, atributos_"
   ]
  },
  {
   "cell_type": "markdown",
   "id": "99e5b33f-5fce-4d75-a3ba-357f3c0bffa2",
   "metadata": {},
   "source": [
    "#### Función para obtener los atributos, sus observaciones y el tipo de atributo"
   ]
  },
  {
   "cell_type": "code",
   "execution_count": 101,
   "id": "5045ad49-a7a0-4486-b9ee-8811a89cd034",
   "metadata": {},
   "outputs": [],
   "source": [
    "def Observaciones(df_o, atributos_o):\n",
    "    observaciones_ = {}\n",
    "    for i, atributo in enumerate(atributos_o):\n",
    "        obs_ = df_o[atributo].value_counts() #Return a Series containing counts of unique values.\n",
    "        obs_l_ = list(obs_.index)            #Lista de los valores únicos encontrados\n",
    "        obs_ = pd.DataFrame(obs_.index)      \n",
    "\n",
    "        tipo = df_o[atributo].dtypes\n",
    "\n",
    "        if tipo == 'object': tipo = 'categórico'\n",
    "        elif tipo == 'int': tipo = 'entero'\n",
    "        elif tipo == 'float64': tipo = 'flotante'\n",
    "\n",
    "        print(f'''El atributo {atributo} es de tipo {tipo}, contiene {len(obs_l_)} observaciones y son las siguientes:\n",
    "        {obs_l_}\n",
    "              ''')\n",
    "        observaciones_.update({atributo:obs_})    \n",
    "    return observaciones_"
   ]
  },
  {
   "cell_type": "markdown",
   "id": "61dadec2-af89-46d8-8e3f-497ae284210c",
   "metadata": {},
   "source": [
    "#### Función para calcular el número de instancias"
   ]
  },
  {
   "cell_type": "code",
   "execution_count": 102,
   "id": "39c06dbd-fc36-4026-af8f-3b8068b40283",
   "metadata": {},
   "outputs": [],
   "source": [
    "def Numero_instancias(df_ni):\n",
    "    num_instancias_ = df_ni.shape[0]\n",
    "    print(f'El dataset tiene {num_instancias_} instancias')\n",
    "    return num_instancias_"
   ]
  },
  {
   "cell_type": "markdown",
   "id": "32e48cfe-28d3-4a3e-8fc4-0de6c844676b",
   "metadata": {},
   "source": [
    "#### Función para conocer el número de datos faltantes"
   ]
  },
  {
   "cell_type": "code",
   "execution_count": 103,
   "id": "c0880817-da9e-4e06-b47f-f242cc31c810",
   "metadata": {},
   "outputs": [],
   "source": [
    "def Datos_Faltantes(df_):\n",
    "    faltantes_df = df_.isnull().sum()\n",
    "    print(f'Datos faltantes por atributo:\\n {faltantes_df}')\n",
    "    #return faltantes_df"
   ]
  },
  {
   "cell_type": "code",
   "execution_count": 104,
   "id": "ddd13d4a-2329-416b-b12d-1335549917d0",
   "metadata": {},
   "outputs": [
    {
     "name": "stdout",
     "output_type": "stream",
     "text": [
      "El dataset tiene 23 atributos:\n",
      "1.- class \n",
      "2.- cap-shape \n",
      "3.- cap-surface \n",
      "4.- cap-color \n",
      "5.- bruises \n",
      "6.- odor \n",
      "7.- gill-attachment \n",
      "8.- gill-spacing \n",
      "9.- gill-size \n",
      "10.- gill-color \n",
      "11.- stalk-shape \n",
      "12.- stalk-root \n",
      "13.- stalk-surface-above-ring \n",
      "14.- stalk-surface-below-ring \n",
      "15.- stalk-color-above-ring \n",
      "16.- stalk-color-below-ring \n",
      "17.- veil-type \n",
      "18.- veil-color \n",
      "19.- ring-number \n",
      "20.- ring-type \n",
      "21.- spore-print-color \n",
      "22.- population \n",
      "23.- habitat \n"
     ]
    }
   ],
   "source": [
    "num_atributos, atributos = Numero_atributos(df)"
   ]
  },
  {
   "cell_type": "code",
   "execution_count": 105,
   "id": "51737d6c-b0c6-4d97-afe8-61002589dd53",
   "metadata": {},
   "outputs": [
    {
     "name": "stdout",
     "output_type": "stream",
     "text": [
      "El dataset tiene 8124 instancias\n"
     ]
    }
   ],
   "source": [
    "num_instancias = Numero_instancias(df)"
   ]
  },
  {
   "cell_type": "code",
   "execution_count": 106,
   "id": "827ad8de-c826-437e-9789-16fdde1c2efa",
   "metadata": {},
   "outputs": [
    {
     "name": "stdout",
     "output_type": "stream",
     "text": [
      "El atributo class es de tipo categórico, contiene 2 observaciones y son las siguientes:\n",
      "        ['e', 'p']\n",
      "              \n",
      "El atributo cap-shape es de tipo categórico, contiene 6 observaciones y son las siguientes:\n",
      "        ['x', 'f', 'k', 'b', 's', 'c']\n",
      "              \n",
      "El atributo cap-surface es de tipo categórico, contiene 4 observaciones y son las siguientes:\n",
      "        ['y', 's', 'f', 'g']\n",
      "              \n",
      "El atributo cap-color es de tipo categórico, contiene 10 observaciones y son las siguientes:\n",
      "        ['n', 'g', 'e', 'y', 'w', 'b', 'p', 'c', 'u', 'r']\n",
      "              \n",
      "El atributo bruises es de tipo categórico, contiene 2 observaciones y son las siguientes:\n",
      "        ['f', 't']\n",
      "              \n",
      "El atributo odor es de tipo categórico, contiene 9 observaciones y son las siguientes:\n",
      "        ['n', 'f', 'y', 's', 'a', 'l', 'p', 'c', 'm']\n",
      "              \n",
      "El atributo gill-attachment es de tipo categórico, contiene 2 observaciones y son las siguientes:\n",
      "        ['f', 'a']\n",
      "              \n",
      "El atributo gill-spacing es de tipo categórico, contiene 2 observaciones y son las siguientes:\n",
      "        ['c', 'w']\n",
      "              \n",
      "El atributo gill-size es de tipo categórico, contiene 2 observaciones y son las siguientes:\n",
      "        ['b', 'n']\n",
      "              \n",
      "El atributo gill-color es de tipo categórico, contiene 12 observaciones y son las siguientes:\n",
      "        ['b', 'p', 'w', 'n', 'g', 'h', 'u', 'k', 'e', 'y', 'o', 'r']\n",
      "              \n",
      "El atributo stalk-shape es de tipo categórico, contiene 2 observaciones y son las siguientes:\n",
      "        ['t', 'e']\n",
      "              \n",
      "El atributo stalk-root es de tipo categórico, contiene 5 observaciones y son las siguientes:\n",
      "        ['b', '?', 'e', 'c', 'r']\n",
      "              \n",
      "El atributo stalk-surface-above-ring es de tipo categórico, contiene 4 observaciones y son las siguientes:\n",
      "        ['s', 'k', 'f', 'y']\n",
      "              \n",
      "El atributo stalk-surface-below-ring es de tipo categórico, contiene 4 observaciones y son las siguientes:\n",
      "        ['s', 'k', 'f', 'y']\n",
      "              \n",
      "El atributo stalk-color-above-ring es de tipo categórico, contiene 9 observaciones y son las siguientes:\n",
      "        ['w', 'p', 'g', 'n', 'b', 'o', 'e', 'c', 'y']\n",
      "              \n",
      "El atributo stalk-color-below-ring es de tipo categórico, contiene 9 observaciones y son las siguientes:\n",
      "        ['w', 'p', 'g', 'n', 'b', 'o', 'e', 'c', 'y']\n",
      "              \n",
      "El atributo veil-type es de tipo categórico, contiene 1 observaciones y son las siguientes:\n",
      "        ['p']\n",
      "              \n",
      "El atributo veil-color es de tipo categórico, contiene 4 observaciones y son las siguientes:\n",
      "        ['w', 'n', 'o', 'y']\n",
      "              \n",
      "El atributo ring-number es de tipo categórico, contiene 3 observaciones y son las siguientes:\n",
      "        ['o', 't', 'n']\n",
      "              \n",
      "El atributo ring-type es de tipo categórico, contiene 5 observaciones y son las siguientes:\n",
      "        ['p', 'e', 'l', 'f', 'n']\n",
      "              \n",
      "El atributo spore-print-color es de tipo categórico, contiene 9 observaciones y son las siguientes:\n",
      "        ['w', 'n', 'k', 'h', 'r', 'u', 'o', 'y', 'b']\n",
      "              \n",
      "El atributo population es de tipo categórico, contiene 6 observaciones y son las siguientes:\n",
      "        ['v', 'y', 's', 'n', 'a', 'c']\n",
      "              \n",
      "El atributo habitat es de tipo categórico, contiene 7 observaciones y son las siguientes:\n",
      "        ['d', 'g', 'p', 'l', 'u', 'm', 'w']\n",
      "              \n"
     ]
    }
   ],
   "source": [
    "observaciones = Observaciones(df, atributos)"
   ]
  },
  {
   "cell_type": "code",
   "execution_count": 107,
   "id": "16480b72-0886-47ef-8269-1cb79c6581c5",
   "metadata": {},
   "outputs": [
    {
     "name": "stdout",
     "output_type": "stream",
     "text": [
      "Datos faltantes por atributo:\n",
      " class                       0\n",
      "cap-shape                   0\n",
      "cap-surface                 0\n",
      "cap-color                   0\n",
      "bruises                     0\n",
      "odor                        0\n",
      "gill-attachment             0\n",
      "gill-spacing                0\n",
      "gill-size                   0\n",
      "gill-color                  0\n",
      "stalk-shape                 0\n",
      "stalk-root                  0\n",
      "stalk-surface-above-ring    0\n",
      "stalk-surface-below-ring    0\n",
      "stalk-color-above-ring      0\n",
      "stalk-color-below-ring      0\n",
      "veil-type                   0\n",
      "veil-color                  0\n",
      "ring-number                 0\n",
      "ring-type                   0\n",
      "spore-print-color           0\n",
      "population                  0\n",
      "habitat                     0\n",
      "dtype: int64\n"
     ]
    }
   ],
   "source": [
    "Datos_Faltantes(df)"
   ]
  },
  {
   "cell_type": "code",
   "execution_count": 108,
   "id": "bd35c31a-c9cf-4859-9dce-77711ddc3370",
   "metadata": {},
   "outputs": [
    {
     "data": {
      "text/plain": [
       "class                       object\n",
       "cap-shape                   object\n",
       "cap-surface                 object\n",
       "cap-color                   object\n",
       "bruises                     object\n",
       "odor                        object\n",
       "gill-attachment             object\n",
       "gill-spacing                object\n",
       "gill-size                   object\n",
       "gill-color                  object\n",
       "stalk-shape                 object\n",
       "stalk-root                  object\n",
       "stalk-surface-above-ring    object\n",
       "stalk-surface-below-ring    object\n",
       "stalk-color-above-ring      object\n",
       "stalk-color-below-ring      object\n",
       "veil-type                   object\n",
       "veil-color                  object\n",
       "ring-number                 object\n",
       "ring-type                   object\n",
       "spore-print-color           object\n",
       "population                  object\n",
       "habitat                     object\n",
       "dtype: object"
      ]
     },
     "execution_count": 108,
     "metadata": {},
     "output_type": "execute_result"
    }
   ],
   "source": [
    "df.dtypes"
   ]
  },
  {
   "cell_type": "markdown",
   "id": "62c75ca3-edd7-4ba8-8dee-eb85c3e04123",
   "metadata": {},
   "source": [
    "#### Funciones estadísticas"
   ]
  },
  {
   "cell_type": "code",
   "execution_count": 109,
   "id": "e8b292cc-b9da-4b21-927e-a38a9e0f3660",
   "metadata": {},
   "outputs": [],
   "source": [
    "def moda(atributo_):\n",
    "    moda_1 = atributo_.value_counts()\n",
    "    moda_ = list(moda_1.index)\n",
    "    return moda_[0]"
   ]
  },
  {
   "cell_type": "code",
   "execution_count": 110,
   "id": "70ac7eb0-c492-4c34-a5a6-9b8cffc32cd3",
   "metadata": {},
   "outputs": [],
   "source": [
    "def maximo(columna_):\n",
    "  r = len(columna_)\n",
    "  valor_maximo_ = columna_[0]\n",
    "  for n in range(1, r):\n",
    "    k = columna_[n]\n",
    "    if valor_maximo_ < k:\n",
    "      valor_maximo_ = k\n",
    "  return valor_maximo_"
   ]
  },
  {
   "cell_type": "code",
   "execution_count": 111,
   "id": "47f1abc7-6dd8-4aa9-825b-b0bb41c1ad54",
   "metadata": {},
   "outputs": [],
   "source": [
    "def minimo(columna_):\n",
    "  r = len(columna_)\n",
    "  valor_minimo_ = columna_[0]\n",
    "  for n in range(1, r):\n",
    "    k = columna_[n]\n",
    "    if valor_minimo_ > k:\n",
    "      valor_minimo_ = k\n",
    "  return valor_minimo_"
   ]
  },
  {
   "cell_type": "code",
   "execution_count": 112,
   "id": "434cfdd8-0908-4a1f-8b46-a2d6819ceca1",
   "metadata": {},
   "outputs": [],
   "source": [
    "def media(columna_):\n",
    "  r = len(columna_)\n",
    "  sumatoria = 0\n",
    "  for i in range(r):\n",
    "    sumatoria += columna_[i]\n",
    "  media_ = sumatoria / r\n",
    "  return media_"
   ]
  },
  {
   "cell_type": "code",
   "execution_count": 113,
   "id": "b261863f-ba97-430f-a9c0-ccd7d539d4c5",
   "metadata": {},
   "outputs": [],
   "source": [
    "def desviacion_estandar(columna_): #s\n",
    "  r = len(columna_)\n",
    "  media_columna = media(columna_)\n",
    "  sumatoria = 0\n",
    "  for i in range(r):\n",
    "    s = columna_[i] - media_columna\n",
    "    s = s**2\n",
    "    sumatoria += s\n",
    "  s = sumatoria / (r - 1)\n",
    "  s = s ** (1/2)\n",
    "  return s"
   ]
  },
  {
   "cell_type": "code",
   "execution_count": 114,
   "id": "6c36790a-b58a-4cd9-93c6-5367f035d714",
   "metadata": {},
   "outputs": [],
   "source": [
    "def varianza(columna_): #s2\n",
    "  r = len(columna_)\n",
    "  media_columna = media(columna_)\n",
    "  sumatoria = 0\n",
    "  for i in range(r):\n",
    "    s = columna_[i] - media_columna\n",
    "    s = s**2\n",
    "    sumatoria += s\n",
    "  s_2 = sumatoria / (r - 1)\n",
    "  return s_2"
   ]
  },
  {
   "cell_type": "code",
   "execution_count": 115,
   "id": "e7599d9e-0a2f-4459-a031-64c2021e55d1",
   "metadata": {},
   "outputs": [],
   "source": [
    "def estadistica(atributo_):\n",
    "  mod = moda(atributo_)\n",
    "  max = maximo(atributo_)\n",
    "  min = minimo(atributo_)\n",
    "  med = media(atributo_)\n",
    "  std = desviacion_estandar(atributo_)\n",
    "  var = varianza(atributo_)\n",
    "  return mod, max, min, med, std, var"
   ]
  },
  {
   "cell_type": "code",
   "execution_count": 116,
   "id": "6e1fadb1-293d-46c9-a773-562a556d892c",
   "metadata": {},
   "outputs": [],
   "source": [
    "def cuartiles(df_, atributo_):\n",
    "#1. 25% de los datos es menor que o igual a este valor.\n",
    "#2. La mediana. 50% de los datos es menor que o igual a este valor.\n",
    "#3. 75% de los datos es menor que o igual a este valor.\n",
    "#rango intercuartil. La distancia entre el primer 1er cuartil y el 3er \n",
    "#cuartil (Q3-Q1); de esta manera, abarca el 50% central de los datos.\n",
    "\n",
    "#ordenar los elementos de la columna\n",
    "  v = df_[atributo_]\n",
    "  v = np.asarray(v.sort_values())\n",
    "  n = len(v)\n",
    "  if n % 2 == 0:\n",
    " \n",
    "    #calcular cuartil uno \n",
    "    a = int(n/4) \n",
    "    q1 = v[a]\n",
    "    #calcular cuartil dos\n",
    "    b = (n)/2\n",
    "    c = b - 1\n",
    "    q2 = (v[b] + v[c])/2\n",
    "    #calcular cuartil tres\n",
    "    d = int((3*n)/4)\n",
    "    q3 = v[d]\n",
    "  else:\n",
    "\n",
    "    #calcular cuartil dos\n",
    "    b = int(n/2)\n",
    "    q2 = v[b]\n",
    "    \n",
    "    if b % 2 == 0:\n",
    "      #calcular cuartil uno \n",
    "      a = int(n/4) \n",
    "      q1 = (v[a] + v[a-1])/2\n",
    "      #calcular cuartil tres \n",
    "      d = int((3*(n))/4) \n",
    "      q3 = (v[a] + v[d-1])/2\n",
    "    else:\n",
    "\n",
    "      #calcular cuartil uno \n",
    "      a = int(n/4) \n",
    "      q1 = v[a]\n",
    "      #calcular cuartil tres\n",
    "      d = int((3*n)/4)\n",
    "      q3 = v[d]\n",
    "\n",
    "  print(f'Q1: {q1}, Q2: {q2}, Q3: {q3}')\n",
    "  return q1, q2, q3"
   ]
  },
  {
   "cell_type": "code",
   "execution_count": 117,
   "id": "6762cb42-a2a8-401c-a1bb-e0ea2214fb09",
   "metadata": {},
   "outputs": [],
   "source": [
    "def outlier(df_,atributo_):\n",
    "  v = df_[atributo_]\n",
    "  q1, q2, q3 = cuartiles(df_,atributo_)\n",
    "  out = []\n",
    "  for valor in v:\n",
    "    if valor < q1:\n",
    "      if abs(valor-q1) > 1.5*(q3-q1):\n",
    "        out.append(valor)\n",
    "    if valor > q3:\n",
    "      if abs(valor-q3) > 1.5*(q3-q1):\n",
    "        out.append(valor)\n",
    "    \n",
    "  if len(out) == 0:\n",
    "    print(f'No existen valores atípicos en el atributo {atributo_}')\n",
    "  else:\n",
    "    print(f'Se encontraron {len(out)} valores atípicos')\n",
    "    print(f'Los valores atípicos encontrados son: {np.asarray(out)}')\n",
    "  return out"
   ]
  },
  {
   "cell_type": "code",
   "execution_count": 118,
   "id": "907255ce-288f-42a5-a16f-60ed530a4a8c",
   "metadata": {},
   "outputs": [],
   "source": [
    "def Balance_clases(df):\n",
    "    atributo_d = input('¿Cuál es tu atributo de decisión?:')\n",
    "    clases = df[atributo_d]\n",
    "    cl = clases.value_counts() \n",
    "    cl_ = list(cl.index)\n",
    "    porcentajes_ = (cl*100)/sum(cl)\n",
    "    print(porcentajes_)\n",
    "    print(f'El dataset cuenta con {len(cl_)} clases y son las siguientes: {cl_}')"
   ]
  },
  {
   "cell_type": "code",
   "execution_count": 119,
   "id": "3d2e66ee-3343-4d24-8a73-e293158d82df",
   "metadata": {},
   "outputs": [
    {
     "name": "stdin",
     "output_type": "stream",
     "text": [
      "¿Cuál es tu atributo de decisión?: class\n"
     ]
    },
    {
     "name": "stdout",
     "output_type": "stream",
     "text": [
      "e    51.797144\n",
      "p    48.202856\n",
      "Name: class, dtype: float64\n",
      "El dataset cuenta con 2 clases y son las siguientes: ['e', 'p']\n"
     ]
    }
   ],
   "source": [
    "Balance_clases(df)"
   ]
  },
  {
   "cell_type": "markdown",
   "id": "780223e4-29b0-4d6d-91eb-d3ae540952dd",
   "metadata": {},
   "source": [
    "#### Valor faltante ? --> Nan"
   ]
  },
  {
   "cell_type": "code",
   "execution_count": 120,
   "id": "f7387cfa-85b2-4d2e-bce2-773adf8d2780",
   "metadata": {},
   "outputs": [],
   "source": [
    "df['stalk-root'] = df['stalk-root'].replace('?', np.NaN)"
   ]
  },
  {
   "cell_type": "code",
   "execution_count": 121,
   "id": "dbb9eca8-e8ec-4c47-a6a5-565684212623",
   "metadata": {},
   "outputs": [
    {
     "data": {
      "text/plain": [
       "2480"
      ]
     },
     "execution_count": 121,
     "metadata": {},
     "output_type": "execute_result"
    }
   ],
   "source": [
    "df['stalk-root'].isnull().sum()"
   ]
  },
  {
   "cell_type": "markdown",
   "id": "a8e7d61b-4d92-4652-8d92-68bcb0a1a6e8",
   "metadata": {},
   "source": [
    "Calcular porcentaje de valores faltantes"
   ]
  },
  {
   "cell_type": "code",
   "execution_count": 122,
   "id": "fe79db7d",
   "metadata": {},
   "outputs": [],
   "source": [
    "def valores_faltantes(dataset):\n",
    "    missing_values_count = dataset.isnull().sum()\n",
    "    total_missing = missing_values_count.sum() \n",
    "    #Porcentaje de datos faltantes\n",
    "    total_missing_porcent = total_missing/(np.product(dataset.shape))*100\n",
    "    print('Porcentaje total de valores faltantes:',total_missing_porcent,'%')\n",
    "    print('')\n",
    "    print('Porcentaje de valores faltantes de cada atributo:')\n",
    "    for col in dataset.columns:\n",
    "        VP_missing = np.mean(dataset[col].isnull())\n",
    "        print('{} - {}%'.format(col,round(VP_missing*100)))  "
   ]
  },
  {
   "cell_type": "code",
   "execution_count": 123,
   "id": "1a07d2b5",
   "metadata": {},
   "outputs": [
    {
     "name": "stdout",
     "output_type": "stream",
     "text": [
      "Porcentaje total de valores faltantes: 1.3272536552993814 %\n",
      "\n",
      "Porcentaje de valores faltantes de cada atributo:\n",
      "class - 0%\n",
      "cap-shape - 0%\n",
      "cap-surface - 0%\n",
      "cap-color - 0%\n",
      "bruises - 0%\n",
      "odor - 0%\n",
      "gill-attachment - 0%\n",
      "gill-spacing - 0%\n",
      "gill-size - 0%\n",
      "gill-color - 0%\n",
      "stalk-shape - 0%\n",
      "stalk-root - 31%\n",
      "stalk-surface-above-ring - 0%\n",
      "stalk-surface-below-ring - 0%\n",
      "stalk-color-above-ring - 0%\n",
      "stalk-color-below-ring - 0%\n",
      "veil-type - 0%\n",
      "veil-color - 0%\n",
      "ring-number - 0%\n",
      "ring-type - 0%\n",
      "spore-print-color - 0%\n",
      "population - 0%\n",
      "habitat - 0%\n"
     ]
    }
   ],
   "source": [
    "valores_faltantes(df)"
   ]
  },
  {
   "cell_type": "code",
   "execution_count": 124,
   "id": "a84dc0cf-6a41-43e7-920b-94d40d8a54d8",
   "metadata": {},
   "outputs": [
    {
     "data": {
      "text/plain": [
       "class                        0.000000\n",
       "cap-shape                    0.000000\n",
       "cap-surface                  0.000000\n",
       "cap-color                    0.000000\n",
       "bruises                      0.000000\n",
       "odor                         0.000000\n",
       "gill-attachment              0.000000\n",
       "gill-spacing                 0.000000\n",
       "gill-size                    0.000000\n",
       "gill-color                   0.000000\n",
       "stalk-shape                  0.000000\n",
       "stalk-root                  30.526834\n",
       "stalk-surface-above-ring     0.000000\n",
       "stalk-surface-below-ring     0.000000\n",
       "stalk-color-above-ring       0.000000\n",
       "stalk-color-below-ring       0.000000\n",
       "veil-type                    0.000000\n",
       "veil-color                   0.000000\n",
       "ring-number                  0.000000\n",
       "ring-type                    0.000000\n",
       "spore-print-color            0.000000\n",
       "population                   0.000000\n",
       "habitat                      0.000000\n",
       "dtype: float64"
      ]
     },
     "execution_count": 124,
     "metadata": {},
     "output_type": "execute_result"
    }
   ],
   "source": [
    "df.isnull().sum()/df.shape[0]*100"
   ]
  },
  {
   "cell_type": "markdown",
   "id": "d2a22bbc-0e12-4e5f-9988-e59f5041db09",
   "metadata": {},
   "source": [
    "Distribución de atributo con valores faltantes"
   ]
  },
  {
   "cell_type": "code",
   "execution_count": 125,
   "id": "d8f98dcd-7caa-480e-a66f-3d0532e6043d",
   "metadata": {},
   "outputs": [
    {
     "data": {
      "text/plain": [
       "<seaborn.axisgrid.FacetGrid at 0x18dc11dcbe0>"
      ]
     },
     "execution_count": 125,
     "metadata": {},
     "output_type": "execute_result"
    },
    {
     "data": {
      "image/png": "[encoded data removed]",
      "text/plain": [
       "<Figure size 360x360 with 1 Axes>"
      ]
     },
     "metadata": {
      "needs_background": "light"
     },
     "output_type": "display_data"
    }
   ],
   "source": [
    "sns.displot(df['stalk-root'])"
   ]
  },
  {
   "cell_type": "markdown",
   "id": "d862fd19-b4a2-4eec-a824-2c686c1e6edc",
   "metadata": {},
   "source": [
    "## Imputación Hot Deck"
   ]
  },
  {
   "cell_type": "code",
   "execution_count": 126,
   "id": "a37175aa",
   "metadata": {},
   "outputs": [],
   "source": [
    "def coincidencia(valor):\n",
    "    if valor is np.nan:\n",
    "        return False\n",
    "    else: \n",
    "        return True"
   ]
  },
  {
   "cell_type": "code",
   "execution_count": 127,
   "id": "a3a45c80",
   "metadata": {},
   "outputs": [],
   "source": [
    "def recorrido(dataset,columna,numero):\n",
    "    Total = len(dataset[columna])\n",
    "    for index, row in dataset.iterrows():\n",
    "        if index == numero:\n",
    "            valor = row[columna]\n",
    "            condicion = coincidencia(valor)\n",
    "            if condicion == False:\n",
    "                numero = np.random.randint(0, Total)\n",
    "                recorrido(dataset,columna, numero)\n",
    "            if condicion == True:      \n",
    "                print('Valor Aleatorio  -----  Indice :',index, ', Valor del registro: ',row[columna])\n",
    "                return index"
   ]
  },
  {
   "cell_type": "code",
   "execution_count": 128,
   "id": "7f9d3810",
   "metadata": {},
   "outputs": [],
   "source": [
    "def Imputacion_HotDeck(columna,Copy_hotdeck):\n",
    "    missing_values_count = Copy_hotdeck[columna].isnull().sum()\n",
    "    total_missing = missing_values_count.sum() \n",
    "    print(total_missing)\n",
    "    Total = len(Copy_hotdeck[columna])\n",
    "    numero = np.random.randint(0, Total)\n",
    "    V=[] #valores de la columna \n",
    "    IA = [] #index aleatorio\n",
    "    I =[]\n",
    "    for index, row in Copy_hotdeck.iterrows():\n",
    "        V.append(row[columna])\n",
    "    Indice= recorrido(Copy_hotdeck, columna,numero)\n",
    "    IA.append(Indice) #Guarda el indice aleatorio\n",
    "    print('Lista de valores de la columna:')\n",
    "    print(V)\n",
    "    print('')\n",
    "    for i in range(len(V)): #Recorrido de los indices de la columna\n",
    "        if i == IA[0]: #Si el indice coincide con el indice aleatorio\n",
    "            #print(V[i]) #comprobar que el valor coincida con el valor del registro\n",
    "            for i in (V[i:]): #Recorrido de los valores desde el indice aleatorio\n",
    "                I.append(i) #Lista de valores secuenciales al valor aleatorio propuesto\n",
    "    while len(I)<(int(total_missing)*2): #Si la cantidad de valores no es mayor al doble de P50 \n",
    "        for i in (V[:Total]): #Recorrido de los valores desde el indice aleatorio\n",
    "            I.append(i) #Lista de valores secuenciales al valor aleatorio propuesto\n",
    "    print('Lista de valores secuenciales al valor aleatorio propuesto:')\n",
    "    print(I)\n",
    "    I.pop(0) #Eliminación del primer valor de la lista\n",
    "    print('Lista de valores secuenciales al valor aleatorio propuesto:')\n",
    "    print(I)\n",
    "    print('')\n",
    "    newlist = [x for x in I if pd.isnull(x) == False] #Lista de valores secuenciales al valor aleatorio propuesto sin valores faltantes\n",
    "    print('Lista de valores secuenciales al valor aleatorio propuesto sin valores faltantes:')\n",
    "    print(len(newlist), newlist)\n",
    "    print('')\n",
    "    for n, i in enumerate(V):\n",
    "        if i is np.nan: #Encontrar la posición que contenga valor nan\n",
    "            V[n] = newlist[0] #Reemplazar el valor nan por el primer valor de lista newlist\n",
    "            newlist.pop(0) #Eliminar el primer valor de la lista de valores secuenciales al valor aleatorio propuesto sin valores faltantes\n",
    "    print('Sustitución de los valores en la lista original')\n",
    "    print(V)\n",
    "    print('')\n",
    "    Copy_hotdeck[columna] = V\n",
    "    return Copy_hotdeck"
   ]
  },
  {
   "cell_type": "code",
   "execution_count": 129,
   "id": "5cd6f7d7",
   "metadata": {},
   "outputs": [
    {
     "name": "stdout",
     "output_type": "stream",
     "text": [
      "2480\n",
      "Valor Aleatorio  -----  Indice : 268 , Valor del registro:  c\n",
      "Lista de valores de la columna:\n",
      "['e', 'c', 'c', 'e', 'e', 'c', 'c', 'c', 'e', 'c', 'c', 'c', 'c', 'e', 'e', 'e', 'e', 'e', 'e', 'e', 'c', 'e', 'c', 'c', 'c', 'e', 'c', 'c', 'e', 'b', 'c', 'e', 'c', 'r', 'c', 'b', 'e', 'e', 'b', 'c', 'c', 'r', 'e', 'e', 'c', 'c', 'c', 'c', 'r', 'r', 'r', 'c', 'c', 'e', 'e', 'c', 'e', 'c', 'c', 'r', 'e', 'c', 'c', 'c', 'c', 'e', 'c', 'r', 'c', 'e', 'b', 'c', 'b', 'r', 'c', 'b', 'b', 'r', 'e', 'r', 'e', 'e', 'e', 'e', 'r', 'e', 'c', 'c', 'r', 'e', 'e', 'c', 'c', 'c', 'e', 'c', 'r', 'c', 'c', 'c', 'e', 'c', 'r', 'r', 'c', 'c', 'r', 'c', 'c', 'c', 'c', 'e', 'b', 'c', 'e', 'r', 'e', 'r', 'b', 'e', 'e', 'c', 'e', 'e', 'c', 'e', 'c', 'e', 'c', 'c', 'c', 'c', 'b', 'c', 'b', 'e', 'b', 'c', 'e', 'c', 'r', 'c', 'e', 'r', 'c', 'e', 'e', 'c', 'c', 'c', 'c', 'e', 'c', 'e', 'b', 'r', 'c', 'c', 'c', 'c', 'c', 'c', 'e', 'r', 'c', 'r', 'c', 'c', 'r', 'c', 'e', 'c', 'b', 'c', 'r', 'c', 'c', 'c', 'c', 'c', 'e', 'e', 'e', 'c', 'r', 'e', 'c', 'e', 'c', 'r', 'e', 'b', 'c', 'b', 'c', 'e', 'c', 'c', 'c', 'b', 'c', 'c', 'c', 'e', 'r', 'e', 'c', 'c', 'c', 'c', 'c', 'c', 'b', 'e', 'r', 'c', 'c', 'c', 'c', 'e', 'c', 'e', 'r', 'b', 'c', 'c', 'c', 'c', 'e', 'c', 'e', 'e', 'r', 'e', 'c', 'b', 'c', 'c', 'r', 'r', 'r', 'c', 'c', 'e', 'b', 'c', 'b', 'c', 'r', 'e', 'r', 'e', 'e', 'c', 'c', 'c', 'e', 'c', 'c', 'c', 'r', 'e', 'c', 'c', 'b', 'e', 'e', 'c', 'c', 'e', 'c', 'e', 'c', 'c', 'r', 'r', 'r', 'c', 'e', 'c', 'e', 'c', 'e', 'c', 'c', 'r', 'c', 'c', 'r', 'e', 'e', 'c', 'c', 'c', 'c', 'c', 'c', 'e', 'b', 'e', 'e', 'c', 'b', 'c', 'c', 'b', 'c', 'c', 'r', 'e', 'c', 'e', 'c', 'b', 'c', 'e', 'b', 'c', 'b', 'b', 'c', 'b', 'c', 'c', 'r', 'c', 'c', 'e', 'c', 'c', 'e', 'c', 'c', 'c', 'c', 'b', 'r', 'c', 'e', 'r', 'c', 'c', 'c', 'b', 'c', 'e', 'b', 'c', 'e', 'e', 'e', 'r', 'c', 'c', 'r', 'e', 'r', 'e', 'r', 'c', 'e', 'e', 'e', 'r', 'c', 'e', 'r', 'b', 'c', 'e', 'r', 'r', 'c', 'e', 'c', 'c', 'e', 'c', 'c', 'c', 'e', 'e', 'c', 'c', 'b', 'e', 'r', 'e', 'c', 'c', 'c', 'c', 'c', 'e', 'r', 'e', 'c', 'c', 'e', 'e', 'c', 'c', 'e', 'c', 'c', 'c', 'c', 'c', 'c', 'r', 'c', 'e', 'r', 'r', 'e', 'c', 'b', 'e', 'c', 'e', 'c', 'c', 'e', 'r', 'c', 'b', 'r', 'c', 'e', 'e', 'c', 'r', 'c', 'c', 'b', 'c', 'b', 'c', 'c', 'r', 'c', 'c', 'r', 'c', 'c', 'r', 'c', 'r', 'c', 'b', 'c', 'c', 'c', 'b', 'c', 'e', 'c', 'c', 'r', 'r', 'c', 'r', 'c', 'c', 'e', 'r', 'c', 'c', 'c', 'r', 'c', 'c', 'b', 'e', 'b', 'e', 'e', 'c', 'b', 'c', 'c', 'c', 'b', 'e', 'b', 'r', 'c', 'e', 'r', 'r', 'b', 'e', 'e', 'r', 'r', 'c', 'e', 'r', 'c', 'c', 'c', 'c', 'c', 'c', 'c', 'e', 'e', 'e', 'b', 'e', 'e', 'c', 'b', 'e', 'e', 'e', 'r', 'c', 'c', 'c', 'c', 'c', 'r', 'e', 'e', 'c', 'r', 'c', 'e', 'r', 'r', 'c', 'e', 'r', 'e', 'e', 'c', 'e', 'c', 'b', 'c', 'e', 'e', 'r', 'e', 'c', 'c', 'e', 'b', 'c', 'e', 'e', 'r', 'b', 'c', 'r', 'e', 'b', 'c', 'c', 'c', 'b', 'b', 'e', 'c', 'e', 'c', 'e', 'e', 'c', 'c', 'b', 'c', 'c', 'r', 'c', 'e', 'c', 'r', 'e', 'c', 'c', 'c', 'r', 'r', 'c', 'e', 'e', 'e', 'c', 'e', 'e', 'c', 'e', 'c', 'e', 'c', 'c', 'e', 'e', 'e', 'r', 'e', 'r', 'c', 'c', 'e', 'r', 'c', 'e', 'e', 'e', 'e', 'e', 'r', 'c', 'e', 'c', 'c', 'e', 'r', 'c', 'b', 'r', 'e', 'c', 'b', 'e', 'c', 'c', 'e', 'c', 'b', 'r', 'r', 'c', 'r', 'c', 'e', 'c', 'c', 'r', 'r', 'r', 'r', 'b', 'c', 'c', 'c', 'b', 'c', 'c', 'r', 'e', 'e', 'c', 'e', 'c', 'r', 'e', 'c', 'c', 'e', 'e', 'c', 'c', 'r', 'r', 'r', 'c', 'c', 'e', 'e', 'b', 'r', 'e', 'e', 'r', 'r', 'c', 'b', 'c', 'b', 'c', 'b', 'c', 'e', 'c', 'c', 'c', 'c', 'c', 'r', 'e', 'e', 'c', 'c', 'e', 'e', 'e', 'e', 'e', 'r', 'c', 'r', 'r', 'c', 'e', 'c', 'c', 'r', 'e', 'c', 'c', 'c', 'c', 'c', 'r', 'r', 'e', 'r', 'c', 'b', 'e', 'r', 'e', 'c', 'e', 'c', 'c', 'r', 'e', 'e', 'e', 'c', 'c', 'b', 'e', 'c', 'e', 'e', 'c', 'r', 'c', 'r', 'c', 'c', 'c', 'e', 'b', 'r', 'c', 'b', 'c', 'c', 'c', 'r', 'e', 'c', 'r', 'c', 'r', 'c', 'e', 'r', 'e', 'b', 'e', 'c', 'c', 'c', 'c', 'c', 'b', 'e', 'r', 'e', 'r', 'c', 'c', 'c', 'e', 'c', 'c', 'c', 'e', 'e', 'c', 'e', 'r', 'c', 'r', 'c', 'c', 'e', 'e', 'c', 'e', 'e', 'r', 'c', 'c', 'e', 'c', 'c', 'r', 'c', 'r', 'c', 'b', 'c', 'c', 'e', 'e', 'e', 'c', 'r', 'r', 'b', 'c', 'c', 'e', 'c', 'c', 'r', 'c', 'b', 'b', 'c', 'b', 'e', 'b', 'r', 'r', 'r', 'e', 'c', 'e', 'c', 'c', 'b', 'e', 'c', 'e', 'c', 'e', 'c', 'c', 'c', 'b', 'c', 'r', 'e', 'e', 'e', 'r', 'b', 'c', 'c', 'e', 'r', 'c', 'r', 'c', 'c', 'c', 'e', 'r', 'e', 'c', 'r', 'c', 'c', 'b', 'c', 'r', 'c', 'c', 'r', 'c', 'b', 'e', 'c', 'c', 'r', 'b', 'c', 'r', 'r', 'c', 'b', 'r', 'c', 'c', 'c', 'r', 'c', 'c', 'c', 'c', 'r', 'e', 'e', 'e', 'c', 'e', 'e', 'e', 'e', 'e', 'c', 'e', 'c', 'e', 'e', 'c', 'c', 'b', 'e', 'e', 'e', 'e', 'c', 'b', 'e', 'e', 'e', 'e', 'e', 'c', 'e', 'e', 'e', 'c', 'e', 'e', 'c', 'e', 'e', 'b', 'c', 'e', 'e', 'e', 'b', 'e', 'e', 'c', 'e', 'e', 'e', 'c', 'e', 'e', 'e', 'c', 'e', 'b', 'b', 'c', 'e', 'e', 'b', 'b', 'e', 'e', 'e', 'b', 'e', 'e', 'e', 'b', 'b', 'e', 'b', 'e', 'c', 'b', 'c', 'e', 'b', 'c', 'e', 'e', 'e', 'e', 'e', 'e', 'e', 'c', 'c', 'e', 'e', 'e', 'e', 'e', 'c', 'b', 'c', 'e', 'b', 'r', 'e', 'e', 'r', 'e', 'e', 'e', 'e', 'c', 'c', 'e', 'r', 'e', 'e', 'b', 'r', 'b', 'e', 'b', 'e', 'c', 'c', 'c', 'e', 'e', 'e', 'b', 'c', 'e', 'b', 'e', 'e', 'e', 'e', 'e', 'c', 'b', 'e', 'e', 'r', 'r', 'e', 'b', 'e', 'c', 'e', 'e', 'b', 'e', 'b', 'b', 'e', 'r', 'e', 'c', 'b', 'e', 'c', 'e', 'e', 'b', 'e', 'e', 'e', 'b', 'c', 'e', 'b', 'r', 'e', 'e', 'c', 'b', 'r', 'e', 'e', 'e', 'e', 'r', 'e', 'e', 'c', 'e', 'c', 'e', 'c', 'c', 'e', 'c', 'e', 'r', 'e', 'b', 'e', 'e', 'e', 'e', 'e', 'e', 'e', 'e', 'e', 'e', 'e', 'e', 'e', 'e', 'c', 'e', 'e', 'e', 'r', 'e', 'r', 'e', 'e', 'e', 'e', 'e', 'e', 'e', 'e', 'b', 'b', 'e', 'e', 'c', 'e', 'e', 'e', 'e', 'e', 'e', 'c', 'e', 'b', 'c', 'e', 'e', 'e', 'b', 'e', 'e', 'e', 'e', 'e', 'e', 'e', 'e', 'e', 'r', 'e', 'e', 'e', 'c', 'e', 'e', 'e', 'e', 'c', 'e', 'b', 'r', 'e', 'c', 'e', 'b', 'e', 'c', 'e', 'b', 'e', 'e', 'e', 'e', 'c', 'e', 'e', 'r', 'r', 'r', 'e', 'c', 'c', 'e', 'e', 'e', 'c', 'e', 'e', 'c', 'b', 'r', 'c', 'e', 'e', 'c', 'c', 'c', 'c', 'c', 'c', 'e', 'e', 'e', 'e', 'e', 'e', 'e', 'e', 'e', 'r', 'e', 'e', 'e', 'e', 'e', 'e', 'e', 'r', 'e', 'e', 'e', 'e', 'e', 'b', 'e', 'e', 'b', 'e', 'e', 'e', 'e', 'e', 'e', 'e', 'e', 'e', 'e', 'e', 'e', 'e', 'e', 'e', 'e', 'e', 'e', 'e', 'e', 'b', 'b', 'e', 'e', 'e', 'e', 'e', 'e', 'e', 'e', 'e', 'e', 'e', 'e', 'b', 'e', 'e', 'e', 'e', 'b', 'e', 'e', 'e', 'e', 'e', 'e', 'e', 'e', 'e', 'e', 'c', 'e', 'e', 'e', 'e', 'e', 'e', 'e', 'b', 'e', 'b', 'e', 'e', 'e', 'e', 'e', 'b', 'e', 'r', 'e', 'e', 'e', 'e', 'b', 'e', 'e', 'e', 'e', 'e', 'e', 'e', 'e', 'e', 'e', 'c', 'e', 'e', 'b', 'c', 'e', 'b', 'e', 'e', 'e', 'e', 'e', 'c', 'e', 'e', 'e', 'e', 'e', 'e', 'e', 'e', 'b', 'e', 'b', 'c', 'e', 'e', 'e', 'e', 'b', 'e', 'e', 'e', 'e', 'b', 'b', 'b', 'e', 'e', 'e', 'e', 'e', 'e', 'e', 'e', 'e', 'e', 'e', 'e', 'e', 'e', 'e', 'e', 'e', 'b', 'e', 'e', 'e', 'e', 'c', 'e', 'e', 'e', 'e', 'e', 'e', 'e', 'e', 'e', 'e', 'e', 'e', 'e', 'b', 'b', 'e', 'b', 'e', 'e', 'e', 'e', 'b', 'e', 'e', 'e', 'e', 'e', 'r', 'b', 'e', 'e', 'e', 'e', 'e', 'e', 'e', 'e', 'e', 'e', 'e', 'e', 'e', 'c', 'e', 'e', 'e', 'e', 'e', 'b', 'e', 'e', 'e', 'e', 'e', 'r', 'e', 'e', 'b', 'e', 'e', 'e', 'b', 'c', 'e', 'e', 'e', 'b', 'e', 'e', 'e', 'e', 'e', 'e', 'e', 'b', 'e', 'e', 'e', 'e', 'e', 'e', 'e', 'e', 'b', 'e', 'e', 'b', 'e', 'e', 'b', 'e', 'b', 'b', 'b', 'e', 'e', 'b', 'e', 'e', 'e', 'e', 'e', 'e', 'e', 'e', 'e', 'e', 'e', 'e', 'e', 'r', 'e', 'e', 'e', 'e', 'e', 'e', 'e', 'e', 'e', 'e', 'e', 'e', 'e', 'e', 'e', 'e', 'c', 'e', 'e', 'e', 'b', 'e', 'b', 'e', 'b', 'e', 'e', 'e', 'c', 'b', 'e', 'e', 'e', 'c', 'e', 'c', 'e', 'e', 'e', 'e', 'e', 'b', 'e', 'c', 'e', 'e', 'e', 'e', 'e', 'e', 'e', 'e', 'e', 'e', 'e', 'e', 'e', 'e', 'e', 'e', 'b', 'e', 'e', 'r', 'e', 'e', 'c', 'e', 'e', 'e', 'e', 'e', 'c', 'e', 'e', 'e', 'e', 'e', 'b', 'c', 'b', 'e', 'e', 'e', 'e', 'e', 'e', 'e', 'e', 'c', 'e', 'e', 'e', 'e', 'e', 'e', 'b', 'e', 'e', 'e', 'e', 'b', 'e', 'r', 'e', 'e', 'e', 'e', 'e', 'e', 'e', 'b', 'e', 'e', 'r', 'b', 'e', 'e', 'e', 'e', 'e', 'e', 'e', 'b', 'e', 'e', 'e', 'e', 'e', 'e', 'b', 'e', 'e', 'e', 'e', 'e', 'e', 'e', 'e', 'b', 'e', 'e', 'b', 'e', 'e', 'e', 'e', 'e', 'e', 'e', 'e', 'e', 'e', 'e', 'e', 'e', 'b', 'b', 'e', 'e', 'e', 'c', 'e', 'e', 'e', 'e', 'e', 'e', 'e', 'e', 'e', 'e', 'e', 'e', 'e', 'e', 'e', 'c', 'c', 'e', 'e', 'e', 'e', 'b', 'e', 'c', 'c', 'r', 'e', 'e', 'e', 'e', 'e', 'e', 'e', 'c', 'e', 'c', 'e', 'e', 'e', 'e', 'e', 'b', 'b', 'r', 'b', 'e', 'e', 'e', 'e', 'e', 'e', 'e', 'e', 'b', 'e', 'e', 'e', 'b', 'e', 'e', 'e', 'e', 'b', 'e', 'e', 'b', 'e', 'e', 'b', 'c', 'c', 'e', 'e', 'e', 'e', 'e', 'e', 'c', 'e', 'e', 'e', 'r', 'e', 'e', 'e', 'e', 'e', 'e', 'e', 'e', 'b', 'e', 'e', 'e', 'e', 'e', 'e', 'r', 'e', 'e', 'e', 'e', 'e', 'e', 'r', 'e', 'e', 'e', 'e', 'e', 'e', 'b', 'e', 'e', 'e', 'e', 'b', 'e', 'e', 'e', 'e', 'b', 'r', 'e', 'e', 'e', 'c', 'b', 'e', 'e', 'e', 'e', 'e', 'e', 'e', 'e', 'e', 'c', 'e', 'e', 'e', 'e', 'e', 'e', 'e', 'e', 'e', 'e', 'e', 'e', 'e', 'e', 'e', 'b', 'e', 'b', 'b', 'b', 'b', 'e', 'b', 'b', 'e', 'e', 'b', 'e', 'c', 'e', 'c', 'b', 'e', 'e', 'b', 'e', 'e', 'e', 'b', 'c', 'e', 'b', 'e', 'e', 'b', 'b', 'b', 'e', 'b', 'b', 'b', 'b', 'e', 'b', 'e', 'e', 'e', 'b', 'e', 'b', 'e', 'e', 'b', 'b', 'b', 'b', 'e', 'b', 'b', 'b', 'b', 'b', 'b', 'e', 'e', 'b', 'b', 'e', 'b', 'e', 'b', 'b', 'e', 'e', 'e', 'e', 'b', 'e', 'e', 'b', 'b', 'b', 'b', 'e', 'e', 'e', 'e', 'b', 'b', 'b', 'b', 'e', 'e', 'b', 'b', 'e', 'e', 'e', 'e', 'e', 'b', 'b', 'e', 'e', 'e', 'b', 'e', 'e', 'e', 'e', 'e', 'e', 'b', 'e', 'e', 'b', 'b', 'b', 'e', 'e', 'r', 'e', 'e', 'e', 'b', 'b', 'e', 'e', 'e', 'b', 'b', 'e', 'e', 'e', 'e', 'e', 'c', 'b', 'e', 'e', 'e', 'b', 'e', 'e', 'e', 'b', 'b', 'b', 'e', 'e', 'e', 'e', 'b', 'b', 'e', 'b', 'b', 'b', 'b', 'b', 'e', 'e', 'b', 'b', 'e', 'b', 'e', 'b', 'e', 'e', 'e', 'b', 'e', 'b', 'e', 'e', 'e', 'e', 'b', 'e', 'e', 'b', 'b', 'e', 'b', 'e', 'e', 'c', 'e', 'b', 'b', 'e', 'e', 'b', 'e', 'e', 'b', 'e', 'b', 'e', 'b', 'e', 'e', 'e', 'e', 'b', 'b', 'e', 'b', 'e', 'r', 'e', 'e', 'e', 'e', 'e', 'e', 'b', 'e', 'e', 'e', 'e', 'b', 'b', 'e', 'b', 'b', 'b', 'e', 'b', 'b', 'e', 'b', 'e', 'c', 'b', 'e', 'b', 'b', 'b', 'e', 'e', 'e', 'e', 'b', 'b', 'b', 'e', 'e', 'e', 'r', 'b', 'e', 'b', 'b', 'e', 'c', 'e', 'e', 'b', 'e', 'b', 'b', 'e', 'c', 'e', 'e', 'e', 'b', 'e', 'b', 'b', 'e', 'e', 'b', 'b', 'b', 'b', 'b', 'e', 'c', 'b', 'b', 'e', 'b', 'e', 'e', 'b', 'b', 'e', 'e', 'e', 'b', 'b', 'e', 'b', 'e', 'c', 'e', 'e', 'b', 'b', 'e', 'e', 'e', 'b', 'b', 'b', 'b', 'b', 'b', 'b', 'b', 'b', 'b', 'b', 'b', 'e', 'b', 'b', 'b', 'b', 'b', 'b', 'b', 'b', 'b', 'b', 'b', 'b', 'b', 'b', 'b', 'b', 'e', 'b', 'e', 'b', 'b', 'b', 'b', 'b', 'b', 'b', 'b', 'b', 'b', 'b', 'b', 'b', 'b', 'b', 'e', 'b', 'e', 'b', 'b', 'b', 'b', 'b', 'b', 'b', 'b', 'b', 'b', 'b', 'b', 'b', 'b', 'b', 'b', 'b', 'b', 'b', 'b', 'b', 'b', 'b', 'b', 'b', 'b', 'b', 'b', 'b', 'b', 'b', 'b', 'b', 'b', 'b', 'b', 'b', 'b', 'b', 'b', 'b', 'b', 'e', 'b', 'b', 'b', 'b', 'b', 'b', 'b', 'e', 'b', 'b', 'b', 'b', 'b', 'b', 'b', 'b', 'b', 'b', 'b', 'b', 'b', 'b', 'b', 'b', 'b', 'b', 'b', 'b', 'b', 'b', 'b', 'b', 'b', 'b', 'e', 'b', 'b', 'b', 'b', 'b', 'b', 'b', 'b', 'b', 'e', 'b', 'b', 'b', 'e', 'b', 'b', 'b', 'b', 'b', 'e', 'b', 'b', 'b', 'b', 'e', 'b', 'b', 'b', 'b', 'b', 'b', 'b', 'e', 'b', 'b', 'b', 'b', 'b', 'e', 'b', 'b', 'b', 'b', 'e', 'b', 'b', 'b', 'b', 'b', 'b', 'b', 'b', 'b', 'b', 'b', 'b', 'b', 'b', 'b', 'b', 'e', 'b', 'b', 'b', 'b', 'b', 'b', 'e', 'b', 'e', 'b', 'b', 'b', 'b', 'b', 'b', 'b', 'b', 'b', 'b', 'b', 'b', 'b', 'b', 'b', 'b', 'b', 'b', 'b', 'b', 'b', 'b', 'b', 'b', 'b', 'b', 'b', 'b', 'b', 'b', 'b', 'b', 'b', 'b', 'b', 'b', 'b', 'b', 'b', 'b', 'b', 'b', 'b', 'b', 'b', 'b', 'b', 'b', 'e', 'b', 'e', 'b', 'b', 'e', 'b', 'b', 'b', 'b', 'b', 'b', 'b', 'b', 'b', 'b', 'b', 'b', 'b', 'b', 'b', 'e', 'b', 'b', 'b', 'b', 'b', 'b', 'b', 'e', 'b', 'e', 'e', 'b', 'b', 'b', 'b', 'b', 'b', 'b', 'b', 'e', 'e', 'b', 'b', 'b', 'b', 'b', 'b', 'b', 'b', 'b', 'b', 'b', 'e', 'b', 'b', 'b', 'b', 'b', 'b', 'b', 'b', 'b', 'b', 'b', 'b', 'b', 'b', 'b', 'b', 'b', 'b', 'b', 'b', 'b', 'b', 'b', 'b', 'b', 'b', 'b', 'b', 'b', 'b', 'b', 'b', 'b', 'b', 'b', 'b', 'b', 'b', 'b', 'b', 'b', 'b', 'b', 'b', 'b', 'b', 'b', 'b', 'b', 'b', 'b', 'e', 'b', 'b', 'b', 'b', 'b', 'b', 'b', 'b', 'b', 'b', 'b', 'b', 'b', 'b', 'b', 'b', 'b', 'b', 'b', 'b', 'b', 'b', 'b', 'b', 'b', 'e', 'e', 'b', 'b', 'b', 'b', 'b', 'b', 'b', 'e', 'b', 'b', 'b', 'b', 'b', 'b', 'b', 'e', 'b', 'b', 'b', 'b', 'e', 'e', 'b', 'b', 'b', 'b', 'b', 'b', 'b', 'b', 'b', 'b', 'b', 'b', 'b', 'b', 'b', 'b', 'e', 'b', 'b', 'b', 'b', 'b', 'b', 'b', 'b', 'b', 'b', 'b', 'b', 'b', 'b', 'b', 'b', 'b', 'b', 'b', 'b', 'b', 'b', 'b', 'b', 'b', 'b', 'b', 'b', 'b', 'b', 'b', 'b', 'b', 'b', 'b', 'b', 'b', 'b', 'b', 'b', 'b', 'b', 'b', 'b', 'b', 'b', 'b', 'b', 'b', 'b', 'b', 'b', 'b', 'b', 'b', 'b', 'b', 'b', 'b', 'b', 'b', 'b', 'b', 'b', 'b', 'b', 'b', 'b', 'b', 'b', 'b', 'b', 'b', 'b', 'b', 'b', 'b', 'b', 'b', 'b', 'b', 'b', 'b', 'b', 'b', 'b', 'b', 'b', 'b', 'b', 'b', 'b', 'b', 'b', 'b', 'b', 'b', 'b', 'b', 'b', 'b', 'b', 'b', 'b', 'b', 'b', 'b', 'b', 'b', 'b', 'b', 'e', 'b', 'b', 'b', 'b', 'b', 'b', 'b', 'b', 'b', 'b', 'b', 'b', 'b', 'b', 'b', 'b', 'e', 'b', 'b', 'b', 'b', 'b', 'b', 'b', 'b', 'b', 'b', 'b', 'b', 'b', 'b', 'b', 'b', 'b', 'b', 'b', 'b', 'b', 'b', 'b', 'b', 'b', 'b', 'b', 'b', 'b', 'b', 'b', 'b', 'b', 'b', 'b', 'b', 'b', 'b', 'b', 'b', 'b', 'b', 'e', 'b', 'b', 'b', 'b', 'b', 'b', 'b', 'b', 'b', 'b', 'b', 'b', 'b', 'b', 'b', 'b', 'b', 'b', 'b', 'b', 'b', 'b', 'b', 'b', 'b', 'b', 'b', 'b', 'b', 'b', 'b', 'b', 'b', 'b', 'b', 'b', 'b', 'b', 'b', 'e', 'b', 'b', 'b', 'b', 'b', 'b', 'b', 'b', 'b', 'b', 'b', 'b', 'b', 'b', 'b', 'b', 'b', 'b', 'b', 'b', 'b', 'b', 'b', 'b', 'b', 'b', 'b', 'b', 'b', 'b', 'b', 'b', 'b', 'b', 'b', 'b', 'b', 'b', 'b', 'b', 'b', 'b', 'b', 'b', 'b', 'b', 'b', 'b', 'b', 'b', 'b', 'b', 'b', 'b', 'b', 'b', 'b', 'e', 'b', 'b', 'b', 'b', 'b', 'b', 'b', 'b', 'b', 'b', 'b', 'b', 'e', 'b', 'b', 'b', 'b', 'b', 'b', 'b', 'b', 'b', 'b', 'b', 'b', 'b', 'b', 'b', 'e', 'b', 'b', 'b', 'b', 'b', 'b', 'b', 'b', 'b', 'b', 'b', 'b', 'b', 'b', 'b', 'b', 'b', 'b', 'b', 'b', 'b', 'b', 'b', 'b', 'b', 'b', 'e', 'b', 'b', 'b', 'b', 'b', 'b', 'b', 'b', 'b', 'b', 'b', 'b', 'b', 'b', 'b', 'b', 'b', 'b', 'b', 'b', 'b', 'b', 'b', 'b', 'b', 'b', 'b', 'b', 'b', 'b', 'b', 'b', 'b', 'b', 'b', 'b', 'e', 'b', 'b', 'b', 'b', 'b', 'b', 'b', 'b', 'e', 'b', 'b', 'b', 'b', 'b', 'b', 'b', 'b', 'b', 'b', 'b', 'b', 'b', 'b', 'b', 'b', 'b', 'b', 'b', 'b', 'b', 'b', 'b', 'b', 'b', 'b', 'b', 'b', 'b', 'b', 'b', 'b', 'b', 'b', 'b', 'b', 'b', 'b', 'b', 'b', 'b', 'b', 'b', 'b', 'b', 'b', 'b', 'b', 'b', 'b', 'b', 'b', 'b', 'b', 'b', 'b', 'b', 'b', 'b', 'b', 'b', 'b', 'b', 'b', 'b', 'b', 'b', 'b', 'b', 'b', 'b', 'b', 'b', 'b', 'b', 'e', 'b', 'b', 'b', 'b', 'b', 'b', 'b', 'b', 'b', 'b', 'b', 'b', 'b', 'b', 'b', 'b', 'b', 'b', 'b', 'b', 'b', 'b', 'b', 'b', 'b', 'b', 'b', 'b', 'b', 'b', 'b', 'b', 'b', 'b', 'b', 'b', 'b', 'b', 'b', 'b', 'b', 'b', 'b', 'b', 'b', 'b', 'b', 'b', 'b', 'b', 'b', 'b', 'b', 'b', 'b', 'b', 'b', 'b', 'b', 'b', 'b', 'b', 'b', 'b', 'b', 'b', 'b', 'b', 'b', 'b', 'b', 'b', 'b', 'b', 'b', 'b', 'b', 'b', 'b', 'b', 'b', 'b', 'b', 'b', 'b', 'b', 'b', 'b', 'b', 'b', 'b', 'b', 'b', 'b', 'b', 'b', 'b', 'b', 'b', 'b', 'b', 'b', 'b', 'b', 'b', 'b', 'b', 'b', 'b', 'b', 'b', 'b', 'b', 'b', 'b', 'b', 'b', 'b', 'b', 'b', 'b', 'b', 'b', 'b', 'b', 'b', 'b', 'b', 'b', 'b', 'b', 'b', 'b', 'b', 'b', 'b', 'b', 'b', 'b', 'b', 'b', 'b', 'b', 'b', 'b', 'b', 'b', 'b', 'b', 'b', 'b', 'b', 'b', 'b', 'b', 'b', 'b', 'b', 'b', 'b', 'b', 'b', 'b', 'b', 'b', 'b', 'b', 'b', 'b', 'b', 'b', 'b', 'b', 'b', 'b', 'b', 'b', 'b', 'b', 'b', 'b', 'b', 'b', 'b', 'b', 'b', 'b', 'b', 'b', 'b', 'b', 'b', 'b', 'b', 'b', 'b', 'b', 'b', 'b', 'b', 'b', 'b', 'b', 'b', 'b', 'b', 'b', 'b', 'b', 'b', 'b', 'b', 'b', 'b', 'b', 'b', 'b', 'b', 'b', 'b', 'b', 'b', 'b', 'b', 'b', 'b', 'b', 'b', 'b', 'b', 'b', 'b', 'b', 'b', 'b', 'b', 'b', 'b', 'b', 'b', 'b', 'b', 'b', 'b', 'b', 'b', 'b', 'b', 'b', 'b', 'b', 'b', 'b', 'b', 'b', 'b', 'b', 'b', 'b', 'b', 'b', 'b', 'b', 'b', 'b', 'b', 'b', 'b', 'b', 'b', 'b', 'b', 'b', 'b', 'b', 'b', 'b', 'b', 'b', 'b', 'b', 'b', 'b', 'b', 'b', 'b', 'b', 'b', 'b', 'b', 'b', 'b', 'b', 'b', 'b', 'b', 'b', 'b', 'b', 'b', 'b', 'b', 'b', 'b', 'b', 'b', 'b', 'b', 'b', 'b', 'b', 'b', 'b', 'b', 'b', 'b', 'b', 'b', 'b', 'b', 'b', 'b', 'b', 'b', 'b', 'b', 'b', 'b', 'b', 'b', 'b', 'b', 'b', 'b', 'b', 'b', 'b', 'b', 'b', 'b', 'b', 'b', 'b', 'b', 'b', 'b', 'b', 'b', 'b', 'b', 'b', 'b', 'b', 'b', 'b', 'b', 'b', 'b', 'b', 'b', 'b', 'b', 'b', 'b', 'b', 'b', 'b', 'b', 'b', 'b', 'b', 'b', 'b', 'b', 'b', 'b', 'b', 'b', 'b', 'b', 'b', 'b', 'b', 'b', 'b', 'b', 'b', 'b', 'b', 'b', 'b', 'b', 'b', 'b', 'b', 'b', 'b', 'b', 'b', 'b', 'b', 'b', 'b', 'b', 'b', 'b', 'b', 'b', 'b', 'b', 'b', 'b', 'b', 'b', 'b', 'b', 'b', 'b', 'b', 'b', 'b', 'b', 'b', 'b', 'b', 'b', 'b', 'b', 'b', 'b', 'b', 'b', 'b', 'b', 'b', 'b', 'b', 'b', 'b', 'b', 'b', 'b', 'b', 'b', 'b', 'b', 'b', 'b', 'b', 'b', 'b', 'b', 'b', 'b', 'b', 'b', 'b', 'b', 'b', 'b', 'b', 'b', 'b', 'b', 'b', 'b', 'b', 'b', 'b', 'b', 'b', 'b', 'b', 'b', 'b', 'b', 'b', 'b', 'b', 'b', 'b', 'b', 'b', 'b', 'b', 'b', 'b', 'b', 'b', 'b', 'b', 'b', 'b', 'b', 'b', 'b', 'b', 'b', 'b', 'b', 'b', 'b', 'b', 'b', 'b', 'b', 'b', 'b', 'b', 'b', 'b', 'b', 'b', 'b', 'b', 'b', 'b', 'b', 'b', 'b', 'b', 'b', 'b', 'b', 'b', 'b', 'b', 'b', 'b', 'b', 'b', 'b', 'b', 'b', 'b', 'b', 'b', 'b', 'b', 'b', 'b', 'b', 'b', 'b', 'b', 'b', 'b', 'b', 'b', 'b', 'b', 'b', 'b', 'b', 'b', 'b', 'b', 'b', 'b', 'b', 'b', 'b', 'b', 'b', 'b', 'b', 'b', 'b', 'b', 'b', 'b', 'b', 'b', 'b', 'b', 'b', 'b', 'b', 'b', 'b', 'b', 'b', 'b', 'b', 'b', 'b', 'b', 'b', 'b', 'b', 'b', 'b', 'b', 'b', 'b', 'b', 'b', 'b', 'b', 'b', 'b', 'b', 'b', 'b', 'b', 'b', 'b', 'b', 'b', 'b', 'b', 'b', 'b', 'b', 'b', 'b', 'b', 'b', 'b', 'b', 'b', 'b', 'b', 'b', 'b', 'b', 'b', 'b', 'b', 'b', 'b', 'b', 'b', 'b', 'b', 'b', 'b', 'b', 'b', 'b', 'b', 'b', 'b', 'b', 'b', 'b', 'b', 'b', 'b', 'b', 'b', 'b', 'b', 'b', 'b', 'b', 'b', 'b', 'b', 'b', 'b', 'b', 'b', 'b', 'b', 'b', 'b', 'b', 'b', 'b', 'b', 'b', 'b', 'b', 'b', 'b', 'b', 'b', 'b', 'b', 'b', 'b', 'b', 'b', 'b', 'b', 'b', 'b', 'b', 'b', 'b', 'b', 'b', 'b', 'b', 'b', 'b', 'b', 'b', 'b', 'b', 'b', 'b', 'b', 'b', 'b', 'b', 'b', 'b', 'b', 'b', 'b', 'b', 'b', 'b', 'b', 'b', 'b', 'b', 'b', 'b', 'b', 'b', 'b', 'b', 'b', 'b', 'b', 'b', 'b', 'b', 'b', 'b', 'b', 'b', 'b', 'b', 'b', 'b', 'b', 'b', 'b', 'b', 'b', 'b', 'b', 'b', 'b', 'b', 'b', 'b', 'b', 'b', 'b', 'b', 'b', 'b', 'b', 'b', 'b', 'b', 'b', 'b', 'b', 'b', 'b', 'b', 'b', 'b', 'b', 'b', 'b', 'b', 'b', 'b', 'b', 'b', 'b', 'b', 'b', 'b', 'b', 'b', 'b', 'b', 'b', 'b', 'b', 'b', 'b', 'b', 'b', 'b', 'b', 'b', 'b', 'b', 'b', 'b', 'b', 'b', 'b', 'b', 'b', 'b', 'b', 'b', 'b', 'b', 'b', 'b', 'b', 'b', 'b', 'b', 'b', 'b', 'b', 'b', 'b', 'b', 'b', 'b', 'b', 'b', 'b', 'b', 'b', 'b', 'b', 'b', 'b', 'b', 'b', 'b', 'b', 'b', 'b', 'b', 'b', 'b', 'b', 'b', 'b', 'b', 'b', 'b', 'b', 'b', 'b', 'b', 'b', 'b', 'b', 'b', 'b', 'b', 'b', 'b', 'b', 'b', 'b', 'b', 'b', 'b', 'b', 'b', 'b', 'b', 'b', 'b', 'b', 'b', 'b', 'b', 'b', 'b', 'b', 'b', 'b', 'b', 'b', 'b', 'b', 'b', 'b', 'b', 'b', 'b', 'b', 'b', 'b', 'b', 'b', 'b', 'b', 'b', 'b', 'b', 'b', 'b', 'b', 'b', 'b', 'b', 'b', 'b', 'b', 'b', 'b', 'b', 'b', 'b', 'b', 'b', 'b', 'b', 'b', 'b', 'b', 'b', 'b', 'b', 'b', 'b', 'b', 'b', 'b', 'b', 'b', 'b', 'b', 'b', 'b', 'b', 'b', 'b', 'b', 'b', 'b', 'b', 'b', 'b', 'b', 'b', 'b', 'b', 'b', 'b', 'b', 'b', 'b', 'b', 'b', 'b', 'b', 'b', 'b', 'b', 'b', 'b', 'b', 'b', 'b', 'b', 'b', 'b', 'b', 'b', 'b', 'b', 'b', 'b', 'b', 'b', 'b', 'b', 'b', 'b', 'b', 'b', 'b', 'b', 'b', 'b', 'b', 'b', 'b', 'b', 'b', 'b', 'b', 'b', 'b', 'b', 'b', 'b', 'b', 'b', 'b', 'b', 'b', 'b', 'b', 'b', 'b', 'b', 'b', 'b', 'b', 'b', 'b', 'b', 'b', 'b', 'b', 'b', nan, 'b', 'b', 'b', 'b', 'b', 'b', 'b', 'b', 'b', 'b', 'b', 'b', 'b', 'b', 'b', 'b', 'b', 'b', 'b', 'b', 'b', 'b', 'b', 'b', 'b', 'b', 'b', 'b', 'b', 'b', 'b', 'b', 'b', 'b', 'b', 'b', 'b', 'b', nan, 'b', 'b', 'b', 'b', 'b', 'b', 'b', 'b', 'b', 'b', 'b', 'b', 'b', 'b', 'b', 'b', 'b', 'b', 'b', 'b', 'b', 'b', 'b', 'b', 'b', 'b', 'b', 'b', 'b', 'b', 'b', 'b', 'b', 'b', 'b', 'b', 'b', 'b', 'b', 'b', 'b', 'b', 'b', 'b', 'b', 'b', 'b', 'b', 'b', 'b', 'b', 'b', nan, 'b', 'b', 'b', 'b', 'b', 'b', 'b', 'b', 'b', 'b', 'b', 'b', 'b', 'b', 'b', 'b', 'b', 'b', 'b', 'b', 'b', 'b', 'b', nan, 'b', 'b', 'b', nan, 'b', 'b', 'b', 'b', 'b', 'b', 'b', 'b', 'b', 'b', 'b', 'b', 'b', 'b', 'b', 'b', 'b', 'b', 'b', 'b', 'b', 'b', 'b', 'b', 'b', 'b', 'b', 'b', 'b', 'b', 'b', 'b', 'b', 'b', 'b', 'b', 'b', 'b', 'b', 'b', 'b', 'b', 'b', 'b', 'b', 'b', 'b', 'b', 'b', 'b', 'b', 'b', 'b', 'b', 'b', 'b', 'b', 'b', 'b', 'b', 'b', 'b', 'b', 'b', 'b', 'b', 'b', 'b', 'b', 'b', 'b', 'b', 'b', 'b', 'b', 'b', 'b', 'b', 'b', 'b', 'b', 'b', 'b', 'b', 'b', 'b', 'b', 'b', 'b', 'b', 'b', nan, 'b', 'b', 'b', nan, 'b', 'b', 'b', 'b', 'b', 'b', 'b', 'b', 'b', 'b', 'b', 'b', 'b', 'b', 'b', 'b', 'b', 'b', 'b', 'b', 'b', 'b', 'b', 'b', 'b', 'b', 'b', 'b', 'b', 'b', 'b', 'b', 'b', 'b', 'b', 'b', 'b', 'b', 'b', 'b', 'b', 'b', 'b', 'b', 'b', 'b', 'b', 'b', 'b', 'b', 'b', 'b', 'b', 'b', 'b', 'b', 'b', 'b', 'b', 'b', 'b', 'b', 'b', 'b', 'b', 'b', 'b', 'b', 'b', 'b', 'b', 'b', 'b', 'b', 'b', 'b', 'b', 'b', 'b', 'b', 'b', 'b', nan, 'b', 'b', 'b', 'b', 'b', 'b', 'b', nan, 'b', 'b', 'b', 'b', 'b', 'b', 'b', 'b', 'b', 'b', 'b', 'b', 'b', 'b', 'b', 'b', 'b', 'b', 'b', 'b', 'b', 'b', 'b', 'b', 'b', 'b', 'b', 'b', 'b', 'b', 'b', 'b', 'b', 'b', nan, 'b', 'b', nan, 'b', nan, 'b', 'b', 'b', 'b', 'b', 'b', 'b', 'b', 'b', 'b', 'b', 'b', 'b', 'b', 'b', 'b', 'b', 'b', 'b', 'b', 'b', 'b', 'b', 'b', 'b', nan, 'b', 'b', 'b', 'b', 'b', 'b', 'b', 'b', 'b', 'b', 'b', 'b', 'b', 'b', 'b', 'b', 'b', 'b', nan, 'b', 'b', 'b', nan, 'b', 'b', 'b', 'b', 'b', 'b', 'b', 'b', 'b', 'b', 'b', 'b', 'b', 'b', 'b', nan, 'b', 'b', 'b', 'b', 'b', 'b', 'b', 'b', 'b', 'b', 'b', 'b', 'b', 'b', 'b', 'b', 'b', 'b', 'b', 'b', 'b', 'b', nan, 'b', 'b', 'b', 'b', 'b', 'b', 'b', 'b', 'b', nan, 'b', 'b', 'b', 'b', 'b', 'b', 'b', 'b', 'b', 'b', 'b', 'b', 'b', 'b', 'b', 'b', 'b', 'b', 'b', 'b', 'b', 'b', 'b', 'b', 'b', 'b', 'b', 'b', 'b', nan, 'b', nan, 'b', 'b', 'b', 'b', 'b', 'b', 'b', 'b', 'b', 'b', 'b', 'b', 'b', 'b', 'b', 'b', 'b', 'b', 'b', 'b', 'b', 'b', 'b', 'b', 'b', 'b', 'b', 'b', 'b', 'b', 'b', 'b', nan, 'b', 'b', nan, nan, 'b', 'b', 'b', 'b', 'b', 'b', 'b', 'b', 'b', 'b', 'b', 'b', 'b', 'b', 'b', 'b', 'b', 'b', 'b', 'b', nan, 'b', 'b', nan, 'b', 'b', 'b', 'b', 'b', 'b', 'b', 'b', 'b', 'b', nan, nan, 'b', 'b', 'b', 'b', 'b', 'b', 'b', 'b', 'b', 'b', 'b', 'b', 'b', 'b', 'b', 'b', 'b', 'b', 'b', 'b', 'b', 'b', nan, 'b', 'b', 'b', 'b', 'b', 'b', 'b', 'b', 'b', 'b', 'b', 'b', 'b', 'b', 'b', 'b', 'b', 'b', 'b', 'b', 'b', 'b', 'b', 'b', 'b', 'b', 'b', 'b', 'b', 'b', 'b', 'b', 'b', 'b', 'b', 'b', 'b', 'b', 'b', 'b', 'b', 'b', 'b', 'b', 'b', 'b', 'b', 'b', 'b', 'b', 'b', 'b', nan, nan, 'b', 'b', 'b', 'b', 'b', 'b', 'b', 'b', 'b', 'b', 'b', 'b', 'b', 'b', 'b', 'b', 'b', 'b', 'b', 'b', 'b', 'b', 'b', 'b', 'b', 'b', 'b', 'b', 'b', 'b', 'b', 'b', 'b', 'b', 'b', nan, 'b', 'b', 'b', 'b', 'b', 'b', 'b', 'b', 'b', 'b', 'b', 'b', 'b', 'b', nan, nan, 'b', 'b', 'b', 'b', 'b', 'b', 'b', 'b', 'b', nan, 'b', 'b', 'b', 'b', 'b', 'b', 'b', 'b', 'b', 'b', 'b', 'b', 'b', 'b', 'b', 'b', 'b', 'b', 'b', 'b', 'b', 'b', 'b', 'b', 'b', 'b', 'b', 'b', 'b', 'b', 'b', 'b', 'b', 'b', 'b', 'b', 'b', 'b', 'b', 'b', 'b', 'b', 'b', nan, 'b', 'b', 'b', 'b', nan, 'b', 'b', 'b', 'b', 'b', 'b', 'b', 'b', 'b', 'b', 'b', 'b', 'b', 'b', 'b', 'b', 'b', 'b', 'b', 'b', 'b', 'b', 'b', 'b', 'b', 'b', 'b', 'b', 'b', 'b', 'b', 'b', 'b', 'b', 'b', 'b', 'b', 'b', 'b', 'b', 'b', 'b', 'b', 'b', 'b', 'b', 'b', 'b', 'b', 'b', 'b', 'b', 'b', 'b', nan, 'b', 'b', 'b', 'b', 'b', 'b', 'b', 'b', 'b', 'b', 'b', 'b', 'b', 'b', 'b', 'b', 'b', 'b', 'b', 'b', 'b', 'b', 'b', nan, 'b', 'b', 'b', 'b', nan, 'b', 'b', 'b', 'b', 'b', nan, 'b', nan, 'b', 'b', nan, 'b', 'b', 'b', 'b', 'b', 'b', nan, 'b', nan, 'b', 'b', 'b', 'b', nan, 'b', 'b', 'b', 'b', 'b', 'b', 'b', 'b', 'b', 'b', 'b', 'b', nan, 'b', nan, 'b', 'b', 'b', 'b', 'b', 'b', 'b', 'b', 'b', 'b', 'b', nan, nan, nan, 'b', 'b', 'b', 'b', 'b', 'b', 'b', 'b', nan, 'b', nan, 'b', 'b', 'b', 'b', 'b', 'b', 'b', 'b', 'b', 'b', 'b', 'b', nan, 'b', 'b', 'b', nan, 'b', 'b', 'b', 'b', 'b', 'b', 'b', 'b', 'b', nan, nan, 'b', 'b', 'b', nan, nan, 'b', 'b', 'b', 'b', 'b', 'b', nan, 'b', 'b', 'b', 'b', 'b', 'b', 'b', 'b', 'b', 'b', 'b', 'b', 'b', 'b', nan, 'b', 'b', 'b', 'b', nan, 'b', 'b', 'b', 'b', 'b', 'b', nan, nan, 'b', 'b', 'b', 'b', 'b', nan, nan, 'b', 'b', 'b', 'b', nan, 'b', 'b', 'b', 'b', 'b', 'b', 'b', 'b', 'b', 'b', 'b', 'b', nan, nan, nan, 'b', 'b', 'b', 'b', 'b', 'b', 'b', 'b', 'b', 'b', 'b', 'b', 'b', 'b', 'b', 'b', 'b', nan, 'b', nan, 'b', 'b', 'b', 'b', 'b', 'b', nan, 'b', 'b', nan, 'b', 'b', nan, 'b', nan, 'b', 'b', 'b', nan, 'b', 'b', 'b', 'b', nan, 'b', 'b', 'b', 'b', nan, 'b', 'b', 'b', 'b', 'b', 'b', 'b', nan, 'b', 'b', 'b', 'b', 'b', 'b', 'b', 'b', 'b', 'b', 'b', 'b', 'b', 'b', 'b', 'b', 'b', nan, 'b', 'b', 'b', 'b', 'b', 'b', 'b', 'b', 'b', nan, nan, nan, 'b', 'b', 'b', 'b', 'b', 'b', 'b', 'b', 'b', 'b', 'b', 'b', 'b', 'b', 'b', 'b', nan, nan, 'b', 'b', nan, 'b', 'b', 'b', 'b', 'b', 'b', 'b', 'b', 'b', 'b', nan, 'b', 'b', 'b', 'b', 'b', 'b', 'b', 'b', 'b', 'b', 'b', 'b', nan, 'b', 'b', nan, 'b', 'b', nan, nan, nan, 'b', 'b', 'b', 'b', 'b', 'b', nan, 'b', 'b', nan, 'b', 'b', 'b', 'b', 'b', 'b', 'b', 'b', 'b', 'b', 'b', 'b', 'b', 'b', nan, nan, nan, nan, nan, 'b', 'b', 'b', 'b', 'b', nan, nan, 'b', nan, nan, 'b', nan, 'b', nan, nan, nan, 'b', 'b', nan, nan, 'b', 'b', 'b', 'b', nan, 'b', nan, nan, 'b', 'b', nan, 'b', nan, nan, 'b', 'b', 'b', 'b', 'b', nan, nan, 'b', 'b', nan, 'b', 'b', 'b', 'b', 'b', 'b', nan, 'b', nan, 'b', 'b', 'b', nan, nan, nan, 'b', 'b', nan, 'b', 'b', 'b', 'b', nan, 'b', 'b', nan, nan, 'b', nan, 'b', nan, 'b', nan, 'b', 'b', 'b', nan, 'b', nan, nan, 'b', nan, 'b', nan, nan, 'b', nan, nan, 'b', nan, nan, 'b', 'b', nan, 'b', 'b', 'b', 'b', 'b', nan, 'b', nan, 'b', nan, 'b', nan, 'b', 'b', 'b', 'b', 'b', 'b', nan, 'b', 'b', 'b', 'b', nan, 'b', nan, 'b', 'b', nan, 'b', nan, nan, nan, nan, 'b', nan, 'b', nan, 'b', 'b', nan, 'b', 'b', nan, 'b', 'b', nan, 'b', 'b', nan, nan, nan, 'b', nan, 'b', 'b', 'b', nan, nan, 'b', 'b', nan, 'b', nan, 'b', 'b', 'b', 'b', nan, 'b', nan, nan, nan, 'b', nan, nan, nan, nan, nan, nan, 'b', 'b', nan, 'b', 'b', 'b', 'b', nan, 'b', 'b', nan, nan, nan, 'b', nan, 'b', 'b', 'b', nan, 'b', 'b', 'b', 'b', nan, 'b', 'b', nan, 'b', nan, 'b', 'b', 'b', nan, 'b', 'b', 'b', 'b', nan, 'b', 'b', nan, 'b', 'b', 'b', 'b', 'b', nan, nan, nan, 'b', 'b', nan, 'b', 'b', 'b', 'b', 'b', nan, 'b', 'b', 'b', nan, 'b', 'b', nan, nan, 'b', 'b', nan, 'b', 'b', nan, 'b', nan, 'b', nan, nan, 'b', nan, 'b', nan, 'b', 'b', 'b', nan, 'b', 'b', 'b', nan, 'b', nan, 'b', 'b', 'b', 'b', 'b', 'b', nan, 'b', nan, 'b', nan, nan, nan, 'b', 'b', nan, nan, 'b', 'b', 'b', 'b', 'b', 'b', 'b', 'b', nan, 'b', nan, 'b', 'b', 'b', nan, 'b', 'b', 'b', nan, nan, 'b', nan, 'b', 'b', nan, 'b', nan, 'b', 'b', 'b', 'b', 'b', 'b', 'b', 'b', 'b', 'b', 'b', 'b', nan, 'b', nan, 'b', nan, nan, 'b', 'b', nan, 'b', nan, 'b', nan, 'b', 'b', 'b', 'b', 'b', nan, 'b', nan, 'b', nan, 'b', 'b', 'b', nan, 'b', nan, 'b', 'b', nan, 'b', 'b', 'b', 'b', nan, 'b', 'b', 'b', nan, nan, nan, nan, 'b', 'b', nan, 'b', 'b', 'b', nan, 'b', nan, nan, nan, 'b', nan, 'b', nan, 'b', nan, 'b', 'b', 'b', nan, 'b', 'b', nan, nan, nan, 'b', 'b', nan, nan, nan, nan, nan, nan, 'b', nan, 'b', 'b', 'b', nan, 'b', 'b', 'b', 'b', nan, 'b', nan, 'b', nan, nan, 'b', nan, nan, nan, nan, 'b', 'b', nan, nan, 'b', 'b', 'b', 'b', 'b', nan, nan, 'b', 'b', nan, 'b', 'b', nan, 'b', 'b', nan, 'b', nan, 'b', nan, 'b', nan, nan, 'b', nan, nan, nan, 'b', 'b', 'b', nan, nan, nan, 'b', 'b', nan, nan, 'b', nan, nan, nan, 'b', nan, 'b', 'b', 'b', 'b', 'b', nan, 'b', nan, nan, 'b', 'b', 'b', nan, 'b', 'b', nan, nan, nan, 'b', 'b', 'b', nan, 'b', 'b', 'b', 'b', 'b', nan, 'b', 'b', 'b', nan, 'b', nan, nan, 'b', 'b', nan, nan, 'b', 'b', 'b', nan, 'b', 'b', nan, nan, 'b', 'b', 'b', 'b', 'b', nan, 'b', nan, 'b', 'b', 'b', 'b', 'b', 'b', nan, nan, 'b', 'b', 'b', nan, nan, 'b', 'b', 'b', 'b', nan, nan, nan, nan, nan, 'b', 'b', nan, 'b', 'b', 'b', nan, nan, nan, 'b', nan, nan, 'b', nan, nan, 'b', 'b', 'b', 'b', 'b', nan, 'b', 'b', 'b', 'b', nan, 'b', nan, 'b', nan, nan, nan, 'b', 'b', 'b', nan, nan, nan, nan, 'b', nan, 'b', 'b', 'b', 'b', 'b', 'b', nan, nan, nan, nan, 'b', nan, nan, 'b', 'b', 'b', nan, 'b', nan, 'b', nan, 'b', 'b', 'b', 'b', 'b', 'b', 'b', 'b', nan, nan, 'b', nan, nan, 'b', 'b', nan, 'b', 'b', nan, 'b', 'b', nan, nan, nan, nan, nan, 'b', nan, 'b', 'b', 'b', nan, 'b', nan, nan, nan, 'b', nan, 'b', 'b', 'b', nan, 'b', 'b', nan, 'b', 'b', 'b', 'b', 'b', 'b', 'b', 'b', nan, nan, nan, 'b', 'b', 'b', 'b', 'b', nan, 'b', 'b', nan, 'b', 'b', 'b', 'b', nan, nan, nan, 'b', nan, nan, 'b', 'b', nan, 'b', 'b', nan, 'b', nan, 'b', 'b', nan, 'b', 'b', nan, nan, nan, nan, 'b', nan, 'b', 'b', 'b', 'b', 'b', 'b', 'b', nan, 'b', nan, nan, 'b', 'b', 'b', nan, 'b', 'b', 'b', nan, nan, nan, nan, 'b', nan, nan, nan, 'b', 'b', nan, nan, 'b', nan, nan, 'b', nan, nan, 'b', 'b', nan, 'b', 'b', 'b', 'b', nan, nan, 'b', nan, 'b', 'b', 'b', 'b', nan, 'b', nan, nan, nan, 'b', 'b', nan, 'b', nan, 'b', 'b', 'b', 'b', 'b', nan, nan, 'b', 'b', 'b', 'b', 'b', nan, nan, 'b', nan, nan, 'b', 'b', 'b', 'b', 'b', 'b', 'b', 'b', 'b', 'b', nan, 'b', nan, nan, nan, nan, 'b', nan, 'b', nan, nan, nan, 'b', 'b', 'b', 'b', nan, 'b', 'b', 'b', nan, 'b', 'b', 'b', 'b', nan, 'b', nan, nan, 'b', 'b', 'b', nan, nan, 'b', 'b', nan, 'b', nan, 'b', 'b', 'b', nan, nan, 'b', nan, 'b', 'b', nan, 'b', 'b', 'b', nan, 'b', 'b', 'b', 'b', nan, 'b', 'b', 'b', nan, 'b', nan, 'b', 'b', nan, nan, nan, nan, 'b', 'b', nan, nan, nan, nan, nan, nan, nan, nan, nan, nan, nan, nan, nan, nan, nan, nan, nan, nan, nan, nan, nan, nan, nan, nan, nan, nan, nan, nan, nan, nan, nan, nan, nan, nan, nan, nan, nan, nan, nan, nan, nan, nan, nan, nan, nan, nan, nan, nan, nan, nan, nan, nan, nan, nan, nan, nan, nan, nan, nan, nan, nan, nan, nan, nan, nan, nan, nan, nan, nan, nan, nan, nan, nan, nan, nan, nan, nan, nan, nan, nan, nan, nan, nan, nan, nan, nan, nan, nan, nan, nan, nan, nan, nan, nan, nan, nan, nan, nan, nan, nan, nan, nan, nan, nan, nan, nan, nan, nan, nan, nan, nan, nan, nan, nan, nan, nan, nan, nan, nan, nan, 'b', nan, nan, nan, nan, nan, nan, nan, nan, nan, nan, nan, nan, nan, nan, nan, nan, nan, nan, nan, nan, nan, nan, nan, nan, nan, nan, nan, nan, nan, nan, nan, nan, nan, nan, nan, nan, nan, nan, nan, nan, nan, nan, nan, nan, nan, nan, nan, nan, nan, nan, nan, nan, nan, nan, nan, nan, nan, nan, nan, nan, nan, nan, nan, nan, nan, nan, nan, nan, nan, nan, nan, nan, nan, nan, nan, nan, nan, nan, nan, nan, nan, nan, nan, nan, nan, nan, nan, nan, nan, nan, nan, nan, nan, nan, nan, nan, nan, nan, nan, nan, nan, nan, nan, nan, nan, nan, nan, nan, nan, nan, nan, nan, nan, nan, nan, nan, nan, nan, nan, nan, nan, nan, nan, nan, nan, nan, nan, nan, nan, nan, nan, nan, nan, nan, nan, nan, nan, nan, nan, nan, nan, nan, nan, nan, nan, nan, nan, nan, nan, nan, nan, nan, nan, nan, nan, nan, nan, nan, nan, nan, nan, nan, nan, nan, nan, nan, nan, nan, nan, nan, nan, nan, nan, nan, nan, nan, nan, nan, nan, nan, nan, nan, nan, nan, nan, nan, nan, nan, nan, nan, nan, nan, nan, nan, nan, nan, nan, nan, nan, nan, nan, nan, nan, nan, nan, nan, nan, nan, nan, nan, nan, nan, nan, nan, nan, nan, nan, nan, nan, nan, nan, nan, nan, nan, nan, nan, nan, nan, nan, nan, nan, nan, nan, nan, nan, nan, nan, nan, nan, nan, nan, nan, nan, nan, nan, nan, nan, nan, nan, nan, nan, nan, nan, nan, nan, nan, nan, nan, nan, nan, nan, nan, nan, nan, nan, nan, nan, nan, nan, nan, nan, nan, nan, nan, nan, nan, nan, nan, nan, nan, nan, nan, nan, nan, nan, nan, nan, nan, nan, nan, nan, nan, nan, nan, 'c', nan, nan, nan, nan, nan, nan, nan, nan, nan, nan, nan, nan, nan, nan, nan, nan, nan, nan, nan, nan, nan, nan, nan, nan, nan, nan, nan, nan, nan, nan, nan, nan, nan, nan, nan, nan, nan, nan, nan, nan, nan, nan, nan, nan, nan, nan, nan, nan, nan, nan, nan, nan, nan, nan, nan, nan, nan, nan, nan, nan, nan, nan, nan, nan, nan, nan, nan, nan, nan, nan, nan, nan, nan, nan, nan, nan, nan, nan, nan, nan, nan, nan, nan, nan, nan, nan, nan, nan, nan, nan, nan, nan, nan, nan, nan, nan, nan, nan, nan, nan, nan, nan, nan, nan, nan, nan, nan, nan, nan, nan, nan, nan, nan, nan, nan, nan, nan, nan, nan, nan, nan, nan, nan, nan, nan, nan, nan, nan, nan, nan, nan, nan, nan, nan, nan, nan, nan, nan, nan, nan, nan, nan, nan, nan, nan, nan, nan, nan, nan, nan, nan, nan, nan, nan, nan, nan, nan, nan, nan, nan, nan, nan, nan, nan, nan, nan, nan, nan, nan, nan, nan, nan, nan, nan, nan, nan, nan, nan, nan, nan, nan, nan, nan, nan, nan, nan, nan, nan, nan, nan, nan, nan, nan, nan, nan, nan, nan, nan, nan, nan, nan, nan, nan, nan, nan, nan, nan, nan, nan, nan, nan, nan, nan, nan, nan, nan, nan, nan, nan, nan, nan, nan, nan, nan, nan, nan, nan, nan, nan, nan, nan, nan, nan, nan, nan, nan, nan, nan, nan, nan, nan, nan, nan, nan, nan, nan, nan, nan, nan, nan, nan, nan, 'c', nan, nan, nan, nan, nan, nan, nan, nan, nan, nan, nan, nan, nan, nan, nan, nan, nan, nan, nan, nan, nan, nan, nan, nan, nan, nan, nan, nan, nan, nan, nan, nan, nan, nan, nan, nan, nan, nan, nan, nan, nan, nan, nan, nan, nan, nan, nan, nan, nan, nan, nan, nan, nan, nan, nan, nan, nan, nan, nan, nan, nan, nan, nan, nan, nan, nan, nan, nan, nan, nan, nan, nan, nan, nan, nan, nan, nan, nan, nan, nan, nan, nan, nan, nan, nan, nan, nan, nan, nan, nan, nan, nan, nan, nan, nan, nan, nan, nan, nan, nan, nan, nan, nan, nan, nan, nan, nan, nan, nan, nan, nan, nan, nan, nan, nan, nan, nan, nan, nan, nan, nan, nan, nan, nan, nan, nan, nan, nan, nan, nan, nan, nan, nan, nan, nan, nan, nan, nan, nan, nan, nan, nan, nan, nan, nan, nan, nan, nan, nan, nan, nan, nan, nan, nan, nan, nan, nan, nan, nan, nan, nan, nan, nan, nan, nan, nan, nan, nan, nan, nan, nan, nan, nan, nan, nan, nan, nan, nan, nan, nan, nan, nan, nan, nan, nan, nan, 'c', nan, nan, nan, nan, nan, nan, nan, nan, nan, nan, nan, nan, nan, nan, nan, nan, nan, nan, nan, nan, nan, nan, nan, nan, nan, nan, nan, nan, nan, nan, nan, nan, nan, nan, nan, nan, nan, nan, nan, nan, nan, nan, nan, nan, nan, nan, nan, nan, 'b', nan, nan, nan, nan, nan, nan, nan, 'c', nan, nan, nan, nan, nan, nan, nan, nan, nan, nan, nan, nan, nan, nan, nan, 'b', nan, nan, nan, nan, nan, nan, nan, nan, nan, nan, nan, nan, 'b', nan, nan, nan, 'c', nan, nan, nan, nan, nan, nan, nan, nan, nan, nan, nan, nan, nan, nan, nan, nan, nan, nan, nan, nan, nan, 'b', nan, nan, 'b', nan, nan, nan, nan, nan, nan, nan, nan, nan, nan, nan, nan, nan, 'b', nan, nan, nan, nan, nan, nan, 'c', nan, nan, nan, nan, nan, nan, nan, nan, nan, nan, nan, nan, nan, nan, nan, nan, nan, nan, nan, nan, nan, nan, nan, nan, nan, nan, nan, nan, nan, nan, 'b', nan, nan, nan, nan, nan, nan, nan, nan, nan, nan, nan, 'c', nan, nan, nan, nan, nan, nan, nan, nan, nan, nan, nan, nan, nan, nan, nan, nan, nan, nan, nan, nan, nan, nan, nan, nan, nan, nan, nan, nan, 'b', nan, 'c', nan, nan, nan, nan, nan, nan, nan, 'b', nan, nan, nan, nan, nan, nan, nan, nan, nan, nan, nan, nan, nan, nan, nan, nan, nan, 'c', nan, nan, nan, nan, nan, nan, nan, nan, 'c', nan, nan, nan, nan, nan, nan, nan, nan, nan, nan, 'c', nan, nan, nan, nan, 'b', nan, nan, nan, nan, nan, nan, nan, nan, nan, nan, nan, nan, nan, nan, nan, nan, nan, nan, nan, nan, nan, nan, nan, nan, nan, nan, nan, nan, nan, 'c', nan, nan, nan, nan, nan, nan, nan, nan, nan, nan, nan, nan, nan, nan, nan, nan, nan, nan, nan, 'c', nan, nan, nan, nan, nan, nan, nan, nan, nan, nan, nan, nan, nan, nan, 'b', nan, nan, nan, nan, nan, nan, nan, nan, nan, nan, nan, nan, nan, 'b', nan, nan, nan, nan, nan, nan, nan, nan, nan, nan, nan, nan, nan, nan, nan, nan, nan, nan, nan, nan, nan, nan, nan, nan, nan, nan, nan, nan, nan, nan, nan, nan, nan, nan, 'c', nan, nan, nan, nan, nan, nan, nan, nan, nan, nan, nan, nan, nan, nan, nan, nan, nan, nan, nan, nan, nan, nan, nan, nan, nan, nan, nan, nan, nan, nan, nan, nan, nan, nan, 'c', nan, nan, nan, nan, nan, nan, nan, nan, nan, nan, nan, nan, nan, nan, nan, nan, nan, nan, nan, 'c', nan, nan, nan, nan, nan, nan, 'b', nan, nan, 'c', nan, nan, nan, nan, 'b', nan, nan, nan, nan, nan, nan, nan, nan, nan, nan, nan, nan, nan, nan, nan, nan, nan, nan, nan, nan, nan, nan, 'c', nan, nan, nan, nan, nan, nan, nan, nan, nan, nan, nan, nan, 'c', nan, nan, nan, nan, nan, 'c', nan, nan, nan, nan, nan, nan, nan, nan, nan, nan, 'b', nan, nan, nan, nan, nan, nan, 'b', nan, nan, nan, nan, nan, nan, 'c', 'c', nan, 'b', nan, nan, nan, nan, nan, nan, 'b', nan, nan, nan, nan, nan, nan, nan, nan, 'c', nan, nan, nan, nan, nan, nan, nan, nan, nan, nan, nan, nan, nan, nan, 'c', nan, nan, nan, nan, nan, nan, nan, nan, nan, nan, nan, nan, nan, 'b', nan, nan, nan, nan, nan, nan, 'b', nan, nan, nan, nan, nan, nan, nan, nan, nan, nan, nan, nan, nan, nan, nan, nan, nan, nan, nan, nan, 'b', nan, nan, nan, nan, nan, 'b', nan, nan, nan, nan, nan, nan, nan, nan, nan, nan, nan, nan, nan, nan, nan, nan, nan, nan, nan, 'c', nan, nan, nan, nan, nan, nan, nan, nan, nan, nan, 'c', 'b', nan, 'c', nan, 'c', nan, nan, nan, nan, nan, nan, nan, nan, nan, nan, nan, nan, nan, nan, nan, nan, nan, nan, nan, nan, nan, nan, nan, nan, nan, nan, nan, nan, nan, nan, nan, nan, nan, nan, nan, nan, nan, nan, nan, nan, nan, nan, nan, nan, nan, nan, nan, 'b', nan, nan, 'c', nan, nan, nan, nan, nan, nan, nan, nan, nan, nan, nan, 'b', nan, nan, nan, nan, nan, nan, nan, nan, nan, nan, nan, nan, nan, nan, nan, nan, nan, nan, nan, nan, nan, 'b', nan, nan, nan, nan, nan, nan, nan, nan, nan, nan, nan, nan, nan, nan, nan, nan, nan, nan, nan, nan, nan, nan, nan, nan, nan, nan, 'b', nan, nan, 'c', nan, 'b', nan, nan, nan, nan, nan, nan, nan, nan, nan, nan, nan, nan, nan, nan, nan, nan, nan, nan, nan, nan, nan, nan, nan, nan, nan, nan, nan, nan, nan, nan, nan, nan, 'c', nan, nan, nan, nan, nan, nan, nan, nan, nan, nan, nan, nan, nan, nan, nan, nan, nan, nan, nan, nan, nan, nan, nan, nan, nan, nan, nan, nan, nan, nan, nan, nan, nan, nan, nan, nan, nan, 'b', nan, nan, nan, nan, nan, nan, nan, nan, nan, nan, nan, nan, nan, nan, nan, nan, nan, nan, nan, nan, nan, nan, nan, nan, nan, nan, nan, nan, 'b', nan, 'b', 'b', 'c', nan, nan, 'c', nan, nan, nan, nan, 'c', nan, nan, 'b', nan, nan, nan, 'b', nan, nan, nan, nan, nan, 'c', nan, nan, nan, nan, nan, nan, nan, nan, nan, nan, nan, 'c', nan, nan, nan, nan, nan, nan, nan, nan, nan, nan, nan, nan, nan, nan, nan, nan, nan, nan, nan, nan, nan, nan, nan, nan, nan, nan, nan, nan, nan, nan, nan, nan, nan, nan, nan, nan, nan, nan, nan, 'b', nan, nan, nan, nan, nan, nan, nan, nan, nan, nan, nan, nan, nan, nan, nan, nan, nan, nan, nan, nan, nan, 'c', nan, nan, nan, 'c', nan, nan, nan, nan, nan, nan, nan, nan, nan, nan, nan, nan, nan, nan, 'c', nan, nan, nan, nan, nan, nan, nan, nan, nan, nan, nan, nan, nan, nan, nan, nan, nan, nan, nan, nan, nan, nan, nan, nan, nan, nan, nan, nan, nan, nan, nan, nan, nan, nan, nan, nan, nan, nan, nan, nan, nan, nan, nan, nan, nan, nan, nan, nan, nan, nan, nan, nan, nan, nan, nan, nan, nan, nan, nan, nan, nan, nan, nan, nan, nan, nan, 'b', nan, nan, nan, nan, nan, nan, nan, nan, nan, nan, 'b', nan, nan, nan, nan, nan, nan, nan, nan, nan, nan, nan, 'c', nan, nan, nan, nan, nan, nan, nan, nan, 'b', nan, nan, nan, nan, nan, nan, nan, nan, nan, nan, nan, 'b', nan, nan, nan, nan, nan, nan, nan, nan, 'b', 'c', nan, nan, nan, nan, 'b', nan, nan, nan, nan, nan, 'b', nan, nan, nan, nan, nan, nan, nan, nan, nan, nan, nan, nan, 'b', nan, nan, nan, nan, nan, nan, nan, nan, nan, nan, nan, nan, nan, nan, nan, 'c', nan, nan, 'b', nan, 'b', nan, nan, nan, nan, nan, nan, nan, nan, nan, nan, nan, nan, nan, nan, 'b', nan, nan, nan, nan, nan, nan, nan, nan, nan, nan, nan, nan, nan, nan, nan, nan, nan, nan, nan, nan, nan, nan, nan, nan, nan, nan, nan, nan, nan, nan, nan, nan, nan, nan, nan, nan, 'b', nan, nan, nan, nan, nan, nan, nan, nan, nan, nan, nan, nan, nan, nan, nan, nan, nan, nan, nan, nan, nan, nan, nan, nan, nan, nan, nan, nan, nan, nan, nan, nan, nan, nan, nan, nan, nan, nan, nan, nan, nan, nan, nan, nan, nan, nan, nan, nan, nan, nan, nan, nan, nan, nan, nan, nan, 'c', nan, nan, nan, nan, nan, nan, nan, nan, nan, nan, nan, nan, nan, nan, nan, nan, nan, nan, 'c', nan, nan, nan, nan, nan, nan, nan, nan, nan]\n",
      "\n",
      "Lista de valores secuenciales al valor aleatorio propuesto:\n",
      "['c', 'e', 'c', 'e', 'c', 'c', 'r', 'r', 'r', 'c', 'e', 'c', 'e', 'c', 'e', 'c', 'c', 'r', 'c', 'c', 'r', 'e', 'e', 'c', 'c', 'c', 'c', 'c', 'c', 'e', 'b', 'e', 'e', 'c', 'b', 'c', 'c', 'b', 'c', 'c', 'r', 'e', 'c', 'e', 'c', 'b', 'c', 'e', 'b', 'c', 'b', 'b', 'c', 'b', 'c', 'c', 'r', 'c', 'c', 'e', 'c', 'c', 'e', 'c', 'c', 'c', 'c', 'b', 'r', 'c', 'e', 'r', 'c', 'c', 'c', 'b', 'c', 'e', 'b', 'c', 'e', 'e', 'e', 'r', 'c', 'c', 'r', 'e', 'r', 'e', 'r', 'c', 'e', 'e', 'e', 'r', 'c', 'e', 'r', 'b', 'c', 'e', 'r', 'r', 'c', 'e', 'c', 'c', 'e', 'c', 'c', 'c', 'e', 'e', 'c', 'c', 'b', 'e', 'r', 'e', 'c', 'c', 'c', 'c', 'c', 'e', 'r', 'e', 'c', 'c', 'e', 'e', 'c', 'c', 'e', 'c', 'c', 'c', 'c', 'c', 'c', 'r', 'c', 'e', 'r', 'r', 'e', 'c', 'b', 'e', 'c', 'e', 'c', 'c', 'e', 'r', 'c', 'b', 'r', 'c', 'e', 'e', 'c', 'r', 'c', 'c', 'b', 'c', 'b', 'c', 'c', 'r', 'c', 'c', 'r', 'c', 'c', 'r', 'c', 'r', 'c', 'b', 'c', 'c', 'c', 'b', 'c', 'e', 'c', 'c', 'r', 'r', 'c', 'r', 'c', 'c', 'e', 'r', 'c', 'c', 'c', 'r', 'c', 'c', 'b', 'e', 'b', 'e', 'e', 'c', 'b', 'c', 'c', 'c', 'b', 'e', 'b', 'r', 'c', 'e', 'r', 'r', 'b', 'e', 'e', 'r', 'r', 'c', 'e', 'r', 'c', 'c', 'c', 'c', 'c', 'c', 'c', 'e', 'e', 'e', 'b', 'e', 'e', 'c', 'b', 'e', 'e', 'e', 'r', 'c', 'c', 'c', 'c', 'c', 'r', 'e', 'e', 'c', 'r', 'c', 'e', 'r', 'r', 'c', 'e', 'r', 'e', 'e', 'c', 'e', 'c', 'b', 'c', 'e', 'e', 'r', 'e', 'c', 'c', 'e', 'b', 'c', 'e', 'e', 'r', 'b', 'c', 'r', 'e', 'b', 'c', 'c', 'c', 'b', 'b', 'e', 'c', 'e', 'c', 'e', 'e', 'c', 'c', 'b', 'c', 'c', 'r', 'c', 'e', 'c', 'r', 'e', 'c', 'c', 'c', 'r', 'r', 'c', 'e', 'e', 'e', 'c', 'e', 'e', 'c', 'e', 'c', 'e', 'c', 'c', 'e', 'e', 'e', 'r', 'e', 'r', 'c', 'c', 'e', 'r', 'c', 'e', 'e', 'e', 'e', 'e', 'r', 'c', 'e', 'c', 'c', 'e', 'r', 'c', 'b', 'r', 'e', 'c', 'b', 'e', 'c', 'c', 'e', 'c', 'b', 'r', 'r', 'c', 'r', 'c', 'e', 'c', 'c', 'r', 'r', 'r', 'r', 'b', 'c', 'c', 'c', 'b', 'c', 'c', 'r', 'e', 'e', 'c', 'e', 'c', 'r', 'e', 'c', 'c', 'e', 'e', 'c', 'c', 'r', 'r', 'r', 'c', 'c', 'e', 'e', 'b', 'r', 'e', 'e', 'r', 'r', 'c', 'b', 'c', 'b', 'c', 'b', 'c', 'e', 'c', 'c', 'c', 'c', 'c', 'r', 'e', 'e', 'c', 'c', 'e', 'e', 'e', 'e', 'e', 'r', 'c', 'r', 'r', 'c', 'e', 'c', 'c', 'r', 'e', 'c', 'c', 'c', 'c', 'c', 'r', 'r', 'e', 'r', 'c', 'b', 'e', 'r', 'e', 'c', 'e', 'c', 'c', 'r', 'e', 'e', 'e', 'c', 'c', 'b', 'e', 'c', 'e', 'e', 'c', 'r', 'c', 'r', 'c', 'c', 'c', 'e', 'b', 'r', 'c', 'b', 'c', 'c', 'c', 'r', 'e', 'c', 'r', 'c', 'r', 'c', 'e', 'r', 'e', 'b', 'e', 'c', 'c', 'c', 'c', 'c', 'b', 'e', 'r', 'e', 'r', 'c', 'c', 'c', 'e', 'c', 'c', 'c', 'e', 'e', 'c', 'e', 'r', 'c', 'r', 'c', 'c', 'e', 'e', 'c', 'e', 'e', 'r', 'c', 'c', 'e', 'c', 'c', 'r', 'c', 'r', 'c', 'b', 'c', 'c', 'e', 'e', 'e', 'c', 'r', 'r', 'b', 'c', 'c', 'e', 'c', 'c', 'r', 'c', 'b', 'b', 'c', 'b', 'e', 'b', 'r', 'r', 'r', 'e', 'c', 'e', 'c', 'c', 'b', 'e', 'c', 'e', 'c', 'e', 'c', 'c', 'c', 'b', 'c', 'r', 'e', 'e', 'e', 'r', 'b', 'c', 'c', 'e', 'r', 'c', 'r', 'c', 'c', 'c', 'e', 'r', 'e', 'c', 'r', 'c', 'c', 'b', 'c', 'r', 'c', 'c', 'r', 'c', 'b', 'e', 'c', 'c', 'r', 'b', 'c', 'r', 'r', 'c', 'b', 'r', 'c', 'c', 'c', 'r', 'c', 'c', 'c', 'c', 'r', 'e', 'e', 'e', 'c', 'e', 'e', 'e', 'e', 'e', 'c', 'e', 'c', 'e', 'e', 'c', 'c', 'b', 'e', 'e', 'e', 'e', 'c', 'b', 'e', 'e', 'e', 'e', 'e', 'c', 'e', 'e', 'e', 'c', 'e', 'e', 'c', 'e', 'e', 'b', 'c', 'e', 'e', 'e', 'b', 'e', 'e', 'c', 'e', 'e', 'e', 'c', 'e', 'e', 'e', 'c', 'e', 'b', 'b', 'c', 'e', 'e', 'b', 'b', 'e', 'e', 'e', 'b', 'e', 'e', 'e', 'b', 'b', 'e', 'b', 'e', 'c', 'b', 'c', 'e', 'b', 'c', 'e', 'e', 'e', 'e', 'e', 'e', 'e', 'c', 'c', 'e', 'e', 'e', 'e', 'e', 'c', 'b', 'c', 'e', 'b', 'r', 'e', 'e', 'r', 'e', 'e', 'e', 'e', 'c', 'c', 'e', 'r', 'e', 'e', 'b', 'r', 'b', 'e', 'b', 'e', 'c', 'c', 'c', 'e', 'e', 'e', 'b', 'c', 'e', 'b', 'e', 'e', 'e', 'e', 'e', 'c', 'b', 'e', 'e', 'r', 'r', 'e', 'b', 'e', 'c', 'e', 'e', 'b', 'e', 'b', 'b', 'e', 'r', 'e', 'c', 'b', 'e', 'c', 'e', 'e', 'b', 'e', 'e', 'e', 'b', 'c', 'e', 'b', 'r', 'e', 'e', 'c', 'b', 'r', 'e', 'e', 'e', 'e', 'r', 'e', 'e', 'c', 'e', 'c', 'e', 'c', 'c', 'e', 'c', 'e', 'r', 'e', 'b', 'e', 'e', 'e', 'e', 'e', 'e', 'e', 'e', 'e', 'e', 'e', 'e', 'e', 'e', 'c', 'e', 'e', 'e', 'r', 'e', 'r', 'e', 'e', 'e', 'e', 'e', 'e', 'e', 'e', 'b', 'b', 'e', 'e', 'c', 'e', 'e', 'e', 'e', 'e', 'e', 'c', 'e', 'b', 'c', 'e', 'e', 'e', 'b', 'e', 'e', 'e', 'e', 'e', 'e', 'e', 'e', 'e', 'r', 'e', 'e', 'e', 'c', 'e', 'e', 'e', 'e', 'c', 'e', 'b', 'r', 'e', 'c', 'e', 'b', 'e', 'c', 'e', 'b', 'e', 'e', 'e', 'e', 'c', 'e', 'e', 'r', 'r', 'r', 'e', 'c', 'c', 'e', 'e', 'e', 'c', 'e', 'e', 'c', 'b', 'r', 'c', 'e', 'e', 'c', 'c', 'c', 'c', 'c', 'c', 'e', 'e', 'e', 'e', 'e', 'e', 'e', 'e', 'e', 'r', 'e', 'e', 'e', 'e', 'e', 'e', 'e', 'r', 'e', 'e', 'e', 'e', 'e', 'b', 'e', 'e', 'b', 'e', 'e', 'e', 'e', 'e', 'e', 'e', 'e', 'e', 'e', 'e', 'e', 'e', 'e', 'e', 'e', 'e', 'e', 'e', 'e', 'b', 'b', 'e', 'e', 'e', 'e', 'e', 'e', 'e', 'e', 'e', 'e', 'e', 'e', 'b', 'e', 'e', 'e', 'e', 'b', 'e', 'e', 'e', 'e', 'e', 'e', 'e', 'e', 'e', 'e', 'c', 'e', 'e', 'e', 'e', 'e', 'e', 'e', 'b', 'e', 'b', 'e', 'e', 'e', 'e', 'e', 'b', 'e', 'r', 'e', 'e', 'e', 'e', 'b', 'e', 'e', 'e', 'e', 'e', 'e', 'e', 'e', 'e', 'e', 'c', 'e', 'e', 'b', 'c', 'e', 'b', 'e', 'e', 'e', 'e', 'e', 'c', 'e', 'e', 'e', 'e', 'e', 'e', 'e', 'e', 'b', 'e', 'b', 'c', 'e', 'e', 'e', 'e', 'b', 'e', 'e', 'e', 'e', 'b', 'b', 'b', 'e', 'e', 'e', 'e', 'e', 'e', 'e', 'e', 'e', 'e', 'e', 'e', 'e', 'e', 'e', 'e', 'e', 'b', 'e', 'e', 'e', 'e', 'c', 'e', 'e', 'e', 'e', 'e', 'e', 'e', 'e', 'e', 'e', 'e', 'e', 'e', 'b', 'b', 'e', 'b', 'e', 'e', 'e', 'e', 'b', 'e', 'e', 'e', 'e', 'e', 'r', 'b', 'e', 'e', 'e', 'e', 'e', 'e', 'e', 'e', 'e', 'e', 'e', 'e', 'e', 'c', 'e', 'e', 'e', 'e', 'e', 'b', 'e', 'e', 'e', 'e', 'e', 'r', 'e', 'e', 'b', 'e', 'e', 'e', 'b', 'c', 'e', 'e', 'e', 'b', 'e', 'e', 'e', 'e', 'e', 'e', 'e', 'b', 'e', 'e', 'e', 'e', 'e', 'e', 'e', 'e', 'b', 'e', 'e', 'b', 'e', 'e', 'b', 'e', 'b', 'b', 'b', 'e', 'e', 'b', 'e', 'e', 'e', 'e', 'e', 'e', 'e', 'e', 'e', 'e', 'e', 'e', 'e', 'r', 'e', 'e', 'e', 'e', 'e', 'e', 'e', 'e', 'e', 'e', 'e', 'e', 'e', 'e', 'e', 'e', 'c', 'e', 'e', 'e', 'b', 'e', 'b', 'e', 'b', 'e', 'e', 'e', 'c', 'b', 'e', 'e', 'e', 'c', 'e', 'c', 'e', 'e', 'e', 'e', 'e', 'b', 'e', 'c', 'e', 'e', 'e', 'e', 'e', 'e', 'e', 'e', 'e', 'e', 'e', 'e', 'e', 'e', 'e', 'e', 'b', 'e', 'e', 'r', 'e', 'e', 'c', 'e', 'e', 'e', 'e', 'e', 'c', 'e', 'e', 'e', 'e', 'e', 'b', 'c', 'b', 'e', 'e', 'e', 'e', 'e', 'e', 'e', 'e', 'c', 'e', 'e', 'e', 'e', 'e', 'e', 'b', 'e', 'e', 'e', 'e', 'b', 'e', 'r', 'e', 'e', 'e', 'e', 'e', 'e', 'e', 'b', 'e', 'e', 'r', 'b', 'e', 'e', 'e', 'e', 'e', 'e', 'e', 'b', 'e', 'e', 'e', 'e', 'e', 'e', 'b', 'e', 'e', 'e', 'e', 'e', 'e', 'e', 'e', 'b', 'e', 'e', 'b', 'e', 'e', 'e', 'e', 'e', 'e', 'e', 'e', 'e', 'e', 'e', 'e', 'e', 'b', 'b', 'e', 'e', 'e', 'c', 'e', 'e', 'e', 'e', 'e', 'e', 'e', 'e', 'e', 'e', 'e', 'e', 'e', 'e', 'e', 'c', 'c', 'e', 'e', 'e', 'e', 'b', 'e', 'c', 'c', 'r', 'e', 'e', 'e', 'e', 'e', 'e', 'e', 'c', 'e', 'c', 'e', 'e', 'e', 'e', 'e', 'b', 'b', 'r', 'b', 'e', 'e', 'e', 'e', 'e', 'e', 'e', 'e', 'b', 'e', 'e', 'e', 'b', 'e', 'e', 'e', 'e', 'b', 'e', 'e', 'b', 'e', 'e', 'b', 'c', 'c', 'e', 'e', 'e', 'e', 'e', 'e', 'c', 'e', 'e', 'e', 'r', 'e', 'e', 'e', 'e', 'e', 'e', 'e', 'e', 'b', 'e', 'e', 'e', 'e', 'e', 'e', 'r', 'e', 'e', 'e', 'e', 'e', 'e', 'r', 'e', 'e', 'e', 'e', 'e', 'e', 'b', 'e', 'e', 'e', 'e', 'b', 'e', 'e', 'e', 'e', 'b', 'r', 'e', 'e', 'e', 'c', 'b', 'e', 'e', 'e', 'e', 'e', 'e', 'e', 'e', 'e', 'c', 'e', 'e', 'e', 'e', 'e', 'e', 'e', 'e', 'e', 'e', 'e', 'e', 'e', 'e', 'e', 'b', 'e', 'b', 'b', 'b', 'b', 'e', 'b', 'b', 'e', 'e', 'b', 'e', 'c', 'e', 'c', 'b', 'e', 'e', 'b', 'e', 'e', 'e', 'b', 'c', 'e', 'b', 'e', 'e', 'b', 'b', 'b', 'e', 'b', 'b', 'b', 'b', 'e', 'b', 'e', 'e', 'e', 'b', 'e', 'b', 'e', 'e', 'b', 'b', 'b', 'b', 'e', 'b', 'b', 'b', 'b', 'b', 'b', 'e', 'e', 'b', 'b', 'e', 'b', 'e', 'b', 'b', 'e', 'e', 'e', 'e', 'b', 'e', 'e', 'b', 'b', 'b', 'b', 'e', 'e', 'e', 'e', 'b', 'b', 'b', 'b', 'e', 'e', 'b', 'b', 'e', 'e', 'e', 'e', 'e', 'b', 'b', 'e', 'e', 'e', 'b', 'e', 'e', 'e', 'e', 'e', 'e', 'b', 'e', 'e', 'b', 'b', 'b', 'e', 'e', 'r', 'e', 'e', 'e', 'b', 'b', 'e', 'e', 'e', 'b', 'b', 'e', 'e', 'e', 'e', 'e', 'c', 'b', 'e', 'e', 'e', 'b', 'e', 'e', 'e', 'b', 'b', 'b', 'e', 'e', 'e', 'e', 'b', 'b', 'e', 'b', 'b', 'b', 'b', 'b', 'e', 'e', 'b', 'b', 'e', 'b', 'e', 'b', 'e', 'e', 'e', 'b', 'e', 'b', 'e', 'e', 'e', 'e', 'b', 'e', 'e', 'b', 'b', 'e', 'b', 'e', 'e', 'c', 'e', 'b', 'b', 'e', 'e', 'b', 'e', 'e', 'b', 'e', 'b', 'e', 'b', 'e', 'e', 'e', 'e', 'b', 'b', 'e', 'b', 'e', 'r', 'e', 'e', 'e', 'e', 'e', 'e', 'b', 'e', 'e', 'e', 'e', 'b', 'b', 'e', 'b', 'b', 'b', 'e', 'b', 'b', 'e', 'b', 'e', 'c', 'b', 'e', 'b', 'b', 'b', 'e', 'e', 'e', 'e', 'b', 'b', 'b', 'e', 'e', 'e', 'r', 'b', 'e', 'b', 'b', 'e', 'c', 'e', 'e', 'b', 'e', 'b', 'b', 'e', 'c', 'e', 'e', 'e', 'b', 'e', 'b', 'b', 'e', 'e', 'b', 'b', 'b', 'b', 'b', 'e', 'c', 'b', 'b', 'e', 'b', 'e', 'e', 'b', 'b', 'e', 'e', 'e', 'b', 'b', 'e', 'b', 'e', 'c', 'e', 'e', 'b', 'b', 'e', 'e', 'e', 'b', 'b', 'b', 'b', 'b', 'b', 'b', 'b', 'b', 'b', 'b', 'b', 'e', 'b', 'b', 'b', 'b', 'b', 'b', 'b', 'b', 'b', 'b', 'b', 'b', 'b', 'b', 'b', 'b', 'e', 'b', 'e', 'b', 'b', 'b', 'b', 'b', 'b', 'b', 'b', 'b', 'b', 'b', 'b', 'b', 'b', 'b', 'e', 'b', 'e', 'b', 'b', 'b', 'b', 'b', 'b', 'b', 'b', 'b', 'b', 'b', 'b', 'b', 'b', 'b', 'b', 'b', 'b', 'b', 'b', 'b', 'b', 'b', 'b', 'b', 'b', 'b', 'b', 'b', 'b', 'b', 'b', 'b', 'b', 'b', 'b', 'b', 'b', 'b', 'b', 'b', 'b', 'e', 'b', 'b', 'b', 'b', 'b', 'b', 'b', 'e', 'b', 'b', 'b', 'b', 'b', 'b', 'b', 'b', 'b', 'b', 'b', 'b', 'b', 'b', 'b', 'b', 'b', 'b', 'b', 'b', 'b', 'b', 'b', 'b', 'b', 'b', 'e', 'b', 'b', 'b', 'b', 'b', 'b', 'b', 'b', 'b', 'e', 'b', 'b', 'b', 'e', 'b', 'b', 'b', 'b', 'b', 'e', 'b', 'b', 'b', 'b', 'e', 'b', 'b', 'b', 'b', 'b', 'b', 'b', 'e', 'b', 'b', 'b', 'b', 'b', 'e', 'b', 'b', 'b', 'b', 'e', 'b', 'b', 'b', 'b', 'b', 'b', 'b', 'b', 'b', 'b', 'b', 'b', 'b', 'b', 'b', 'b', 'e', 'b', 'b', 'b', 'b', 'b', 'b', 'e', 'b', 'e', 'b', 'b', 'b', 'b', 'b', 'b', 'b', 'b', 'b', 'b', 'b', 'b', 'b', 'b', 'b', 'b', 'b', 'b', 'b', 'b', 'b', 'b', 'b', 'b', 'b', 'b', 'b', 'b', 'b', 'b', 'b', 'b', 'b', 'b', 'b', 'b', 'b', 'b', 'b', 'b', 'b', 'b', 'b', 'b', 'b', 'b', 'b', 'b', 'e', 'b', 'e', 'b', 'b', 'e', 'b', 'b', 'b', 'b', 'b', 'b', 'b', 'b', 'b', 'b', 'b', 'b', 'b', 'b', 'b', 'e', 'b', 'b', 'b', 'b', 'b', 'b', 'b', 'e', 'b', 'e', 'e', 'b', 'b', 'b', 'b', 'b', 'b', 'b', 'b', 'e', 'e', 'b', 'b', 'b', 'b', 'b', 'b', 'b', 'b', 'b', 'b', 'b', 'e', 'b', 'b', 'b', 'b', 'b', 'b', 'b', 'b', 'b', 'b', 'b', 'b', 'b', 'b', 'b', 'b', 'b', 'b', 'b', 'b', 'b', 'b', 'b', 'b', 'b', 'b', 'b', 'b', 'b', 'b', 'b', 'b', 'b', 'b', 'b', 'b', 'b', 'b', 'b', 'b', 'b', 'b', 'b', 'b', 'b', 'b', 'b', 'b', 'b', 'b', 'b', 'e', 'b', 'b', 'b', 'b', 'b', 'b', 'b', 'b', 'b', 'b', 'b', 'b', 'b', 'b', 'b', 'b', 'b', 'b', 'b', 'b', 'b', 'b', 'b', 'b', 'b', 'e', 'e', 'b', 'b', 'b', 'b', 'b', 'b', 'b', 'e', 'b', 'b', 'b', 'b', 'b', 'b', 'b', 'e', 'b', 'b', 'b', 'b', 'e', 'e', 'b', 'b', 'b', 'b', 'b', 'b', 'b', 'b', 'b', 'b', 'b', 'b', 'b', 'b', 'b', 'b', 'e', 'b', 'b', 'b', 'b', 'b', 'b', 'b', 'b', 'b', 'b', 'b', 'b', 'b', 'b', 'b', 'b', 'b', 'b', 'b', 'b', 'b', 'b', 'b', 'b', 'b', 'b', 'b', 'b', 'b', 'b', 'b', 'b', 'b', 'b', 'b', 'b', 'b', 'b', 'b', 'b', 'b', 'b', 'b', 'b', 'b', 'b', 'b', 'b', 'b', 'b', 'b', 'b', 'b', 'b', 'b', 'b', 'b', 'b', 'b', 'b', 'b', 'b', 'b', 'b', 'b', 'b', 'b', 'b', 'b', 'b', 'b', 'b', 'b', 'b', 'b', 'b', 'b', 'b', 'b', 'b', 'b', 'b', 'b', 'b', 'b', 'b', 'b', 'b', 'b', 'b', 'b', 'b', 'b', 'b', 'b', 'b', 'b', 'b', 'b', 'b', 'b', 'b', 'b', 'b', 'b', 'b', 'b', 'b', 'b', 'b', 'b', 'e', 'b', 'b', 'b', 'b', 'b', 'b', 'b', 'b', 'b', 'b', 'b', 'b', 'b', 'b', 'b', 'b', 'e', 'b', 'b', 'b', 'b', 'b', 'b', 'b', 'b', 'b', 'b', 'b', 'b', 'b', 'b', 'b', 'b', 'b', 'b', 'b', 'b', 'b', 'b', 'b', 'b', 'b', 'b', 'b', 'b', 'b', 'b', 'b', 'b', 'b', 'b', 'b', 'b', 'b', 'b', 'b', 'b', 'b', 'b', 'e', 'b', 'b', 'b', 'b', 'b', 'b', 'b', 'b', 'b', 'b', 'b', 'b', 'b', 'b', 'b', 'b', 'b', 'b', 'b', 'b', 'b', 'b', 'b', 'b', 'b', 'b', 'b', 'b', 'b', 'b', 'b', 'b', 'b', 'b', 'b', 'b', 'b', 'b', 'b', 'e', 'b', 'b', 'b', 'b', 'b', 'b', 'b', 'b', 'b', 'b', 'b', 'b', 'b', 'b', 'b', 'b', 'b', 'b', 'b', 'b', 'b', 'b', 'b', 'b', 'b', 'b', 'b', 'b', 'b', 'b', 'b', 'b', 'b', 'b', 'b', 'b', 'b', 'b', 'b', 'b', 'b', 'b', 'b', 'b', 'b', 'b', 'b', 'b', 'b', 'b', 'b', 'b', 'b', 'b', 'b', 'b', 'b', 'e', 'b', 'b', 'b', 'b', 'b', 'b', 'b', 'b', 'b', 'b', 'b', 'b', 'e', 'b', 'b', 'b', 'b', 'b', 'b', 'b', 'b', 'b', 'b', 'b', 'b', 'b', 'b', 'b', 'e', 'b', 'b', 'b', 'b', 'b', 'b', 'b', 'b', 'b', 'b', 'b', 'b', 'b', 'b', 'b', 'b', 'b', 'b', 'b', 'b', 'b', 'b', 'b', 'b', 'b', 'b', 'e', 'b', 'b', 'b', 'b', 'b', 'b', 'b', 'b', 'b', 'b', 'b', 'b', 'b', 'b', 'b', 'b', 'b', 'b', 'b', 'b', 'b', 'b', 'b', 'b', 'b', 'b', 'b', 'b', 'b', 'b', 'b', 'b', 'b', 'b', 'b', 'b', 'e', 'b', 'b', 'b', 'b', 'b', 'b', 'b', 'b', 'e', 'b', 'b', 'b', 'b', 'b', 'b', 'b', 'b', 'b', 'b', 'b', 'b', 'b', 'b', 'b', 'b', 'b', 'b', 'b', 'b', 'b', 'b', 'b', 'b', 'b', 'b', 'b', 'b', 'b', 'b', 'b', 'b', 'b', 'b', 'b', 'b', 'b', 'b', 'b', 'b', 'b', 'b', 'b', 'b', 'b', 'b', 'b', 'b', 'b', 'b', 'b', 'b', 'b', 'b', 'b', 'b', 'b', 'b', 'b', 'b', 'b', 'b', 'b', 'b', 'b', 'b', 'b', 'b', 'b', 'b', 'b', 'b', 'b', 'b', 'b', 'e', 'b', 'b', 'b', 'b', 'b', 'b', 'b', 'b', 'b', 'b', 'b', 'b', 'b', 'b', 'b', 'b', 'b', 'b', 'b', 'b', 'b', 'b', 'b', 'b', 'b', 'b', 'b', 'b', 'b', 'b', 'b', 'b', 'b', 'b', 'b', 'b', 'b', 'b', 'b', 'b', 'b', 'b', 'b', 'b', 'b', 'b', 'b', 'b', 'b', 'b', 'b', 'b', 'b', 'b', 'b', 'b', 'b', 'b', 'b', 'b', 'b', 'b', 'b', 'b', 'b', 'b', 'b', 'b', 'b', 'b', 'b', 'b', 'b', 'b', 'b', 'b', 'b', 'b', 'b', 'b', 'b', 'b', 'b', 'b', 'b', 'b', 'b', 'b', 'b', 'b', 'b', 'b', 'b', 'b', 'b', 'b', 'b', 'b', 'b', 'b', 'b', 'b', 'b', 'b', 'b', 'b', 'b', 'b', 'b', 'b', 'b', 'b', 'b', 'b', 'b', 'b', 'b', 'b', 'b', 'b', 'b', 'b', 'b', 'b', 'b', 'b', 'b', 'b', 'b', 'b', 'b', 'b', 'b', 'b', 'b', 'b', 'b', 'b', 'b', 'b', 'b', 'b', 'b', 'b', 'b', 'b', 'b', 'b', 'b', 'b', 'b', 'b', 'b', 'b', 'b', 'b', 'b', 'b', 'b', 'b', 'b', 'b', 'b', 'b', 'b', 'b', 'b', 'b', 'b', 'b', 'b', 'b', 'b', 'b', 'b', 'b', 'b', 'b', 'b', 'b', 'b', 'b', 'b', 'b', 'b', 'b', 'b', 'b', 'b', 'b', 'b', 'b', 'b', 'b', 'b', 'b', 'b', 'b', 'b', 'b', 'b', 'b', 'b', 'b', 'b', 'b', 'b', 'b', 'b', 'b', 'b', 'b', 'b', 'b', 'b', 'b', 'b', 'b', 'b', 'b', 'b', 'b', 'b', 'b', 'b', 'b', 'b', 'b', 'b', 'b', 'b', 'b', 'b', 'b', 'b', 'b', 'b', 'b', 'b', 'b', 'b', 'b', 'b', 'b', 'b', 'b', 'b', 'b', 'b', 'b', 'b', 'b', 'b', 'b', 'b', 'b', 'b', 'b', 'b', 'b', 'b', 'b', 'b', 'b', 'b', 'b', 'b', 'b', 'b', 'b', 'b', 'b', 'b', 'b', 'b', 'b', 'b', 'b', 'b', 'b', 'b', 'b', 'b', 'b', 'b', 'b', 'b', 'b', 'b', 'b', 'b', 'b', 'b', 'b', 'b', 'b', 'b', 'b', 'b', 'b', 'b', 'b', 'b', 'b', 'b', 'b', 'b', 'b', 'b', 'b', 'b', 'b', 'b', 'b', 'b', 'b', 'b', 'b', 'b', 'b', 'b', 'b', 'b', 'b', 'b', 'b', 'b', 'b', 'b', 'b', 'b', 'b', 'b', 'b', 'b', 'b', 'b', 'b', 'b', 'b', 'b', 'b', 'b', 'b', 'b', 'b', 'b', 'b', 'b', 'b', 'b', 'b', 'b', 'b', 'b', 'b', 'b', 'b', 'b', 'b', 'b', 'b', 'b', 'b', 'b', 'b', 'b', 'b', 'b', 'b', 'b', 'b', 'b', 'b', 'b', 'b', 'b', 'b', 'b', 'b', 'b', 'b', 'b', 'b', 'b', 'b', 'b', 'b', 'b', 'b', 'b', 'b', 'b', 'b', 'b', 'b', 'b', 'b', 'b', 'b', 'b', 'b', 'b', 'b', 'b', 'b', 'b', 'b', 'b', 'b', 'b', 'b', 'b', 'b', 'b', 'b', 'b', 'b', 'b', 'b', 'b', 'b', 'b', 'b', 'b', 'b', 'b', 'b', 'b', 'b', 'b', 'b', 'b', 'b', 'b', 'b', 'b', 'b', 'b', 'b', 'b', 'b', 'b', 'b', 'b', 'b', 'b', 'b', 'b', 'b', 'b', 'b', 'b', 'b', 'b', 'b', 'b', 'b', 'b', 'b', 'b', 'b', 'b', 'b', 'b', 'b', 'b', 'b', 'b', 'b', 'b', 'b', 'b', 'b', 'b', 'b', 'b', 'b', 'b', 'b', 'b', 'b', 'b', 'b', 'b', 'b', 'b', 'b', 'b', 'b', 'b', 'b', 'b', 'b', 'b', 'b', 'b', 'b', 'b', 'b', 'b', 'b', 'b', 'b', 'b', 'b', 'b', 'b', 'b', 'b', 'b', 'b', 'b', 'b', 'b', 'b', 'b', 'b', 'b', 'b', 'b', 'b', 'b', 'b', 'b', 'b', 'b', 'b', 'b', 'b', 'b', 'b', 'b', 'b', 'b', 'b', 'b', 'b', 'b', 'b', 'b', 'b', 'b', 'b', 'b', 'b', 'b', 'b', 'b', 'b', 'b', 'b', 'b', 'b', 'b', 'b', 'b', 'b', 'b', 'b', 'b', 'b', 'b', 'b', 'b', 'b', 'b', 'b', 'b', 'b', 'b', 'b', 'b', 'b', 'b', 'b', 'b', 'b', 'b', 'b', 'b', 'b', 'b', 'b', 'b', 'b', 'b', 'b', 'b', 'b', 'b', 'b', 'b', 'b', 'b', 'b', 'b', 'b', 'b', 'b', 'b', 'b', 'b', 'b', 'b', 'b', 'b', 'b', 'b', 'b', 'b', 'b', 'b', 'b', 'b', 'b', 'b', 'b', 'b', 'b', 'b', 'b', 'b', 'b', 'b', 'b', 'b', 'b', 'b', 'b', 'b', 'b', 'b', 'b', 'b', 'b', 'b', 'b', 'b', 'b', 'b', 'b', 'b', 'b', 'b', 'b', 'b', 'b', 'b', 'b', 'b', 'b', 'b', 'b', 'b', 'b', 'b', 'b', 'b', 'b', 'b', 'b', 'b', 'b', 'b', 'b', 'b', 'b', 'b', 'b', 'b', 'b', 'b', 'b', 'b', 'b', 'b', 'b', 'b', 'b', 'b', 'b', 'b', 'b', 'b', 'b', 'b', 'b', 'b', 'b', 'b', 'b', 'b', 'b', 'b', 'b', 'b', 'b', 'b', 'b', 'b', 'b', 'b', 'b', 'b', 'b', 'b', 'b', 'b', 'b', 'b', 'b', 'b', 'b', 'b', 'b', 'b', 'b', 'b', 'b', 'b', 'b', 'b', 'b', 'b', 'b', 'b', 'b', 'b', 'b', 'b', 'b', 'b', 'b', 'b', 'b', 'b', 'b', 'b', 'b', 'b', 'b', 'b', 'b', 'b', 'b', 'b', 'b', 'b', 'b', 'b', 'b', 'b', 'b', 'b', 'b', 'b', 'b', 'b', 'b', 'b', 'b', 'b', 'b', 'b', 'b', 'b', 'b', 'b', 'b', 'b', 'b', 'b', 'b', 'b', 'b', 'b', 'b', 'b', 'b', 'b', 'b', 'b', 'b', 'b', 'b', 'b', 'b', 'b', 'b', 'b', 'b', 'b', 'b', 'b', 'b', 'b', 'b', 'b', 'b', 'b', 'b', 'b', 'b', 'b', 'b', 'b', 'b', 'b', 'b', 'b', 'b', 'b', 'b', 'b', 'b', 'b', 'b', 'b', 'b', 'b', 'b', 'b', 'b', 'b', 'b', 'b', 'b', 'b', 'b', 'b', 'b', 'b', 'b', 'b', 'b', 'b', 'b', 'b', 'b', 'b', 'b', 'b', 'b', 'b', 'b', 'b', 'b', 'b', 'b', 'b', 'b', 'b', 'b', 'b', 'b', 'b', 'b', 'b', 'b', 'b', 'b', 'b', 'b', 'b', 'b', 'b', 'b', 'b', 'b', 'b', 'b', 'b', 'b', 'b', 'b', 'b', 'b', 'b', 'b', 'b', 'b', 'b', 'b', 'b', 'b', 'b', 'b', 'b', 'b', 'b', 'b', 'b', 'b', 'b', 'b', 'b', 'b', 'b', 'b', 'b', 'b', 'b', 'b', 'b', 'b', 'b', 'b', 'b', 'b', 'b', 'b', 'b', 'b', 'b', 'b', 'b', 'b', 'b', 'b', 'b', 'b', 'b', 'b', 'b', 'b', 'b', 'b', 'b', 'b', 'b', 'b', 'b', 'b', 'b', 'b', 'b', 'b', 'b', 'b', 'b', 'b', 'b', 'b', 'b', 'b', 'b', 'b', 'b', 'b', 'b', 'b', 'b', 'b', 'b', 'b', 'b', 'b', 'b', 'b', 'b', 'b', 'b', 'b', 'b', 'b', 'b', 'b', 'b', 'b', 'b', 'b', 'b', 'b', 'b', 'b', 'b', 'b', 'b', 'b', 'b', 'b', 'b', 'b', 'b', 'b', 'b', 'b', 'b', 'b', 'b', 'b', 'b', 'b', 'b', 'b', 'b', 'b', 'b', 'b', 'b', 'b', 'b', 'b', 'b', 'b', 'b', 'b', 'b', 'b', 'b', 'b', 'b', 'b', 'b', 'b', 'b', nan, 'b', 'b', 'b', 'b', 'b', 'b', 'b', 'b', 'b', 'b', 'b', 'b', 'b', 'b', 'b', 'b', 'b', 'b', 'b', 'b', 'b', 'b', 'b', 'b', 'b', 'b', 'b', 'b', 'b', 'b', 'b', 'b', 'b', 'b', 'b', 'b', 'b', 'b', nan, 'b', 'b', 'b', 'b', 'b', 'b', 'b', 'b', 'b', 'b', 'b', 'b', 'b', 'b', 'b', 'b', 'b', 'b', 'b', 'b', 'b', 'b', 'b', 'b', 'b', 'b', 'b', 'b', 'b', 'b', 'b', 'b', 'b', 'b', 'b', 'b', 'b', 'b', 'b', 'b', 'b', 'b', 'b', 'b', 'b', 'b', 'b', 'b', 'b', 'b', 'b', 'b', nan, 'b', 'b', 'b', 'b', 'b', 'b', 'b', 'b', 'b', 'b', 'b', 'b', 'b', 'b', 'b', 'b', 'b', 'b', 'b', 'b', 'b', 'b', 'b', nan, 'b', 'b', 'b', nan, 'b', 'b', 'b', 'b', 'b', 'b', 'b', 'b', 'b', 'b', 'b', 'b', 'b', 'b', 'b', 'b', 'b', 'b', 'b', 'b', 'b', 'b', 'b', 'b', 'b', 'b', 'b', 'b', 'b', 'b', 'b', 'b', 'b', 'b', 'b', 'b', 'b', 'b', 'b', 'b', 'b', 'b', 'b', 'b', 'b', 'b', 'b', 'b', 'b', 'b', 'b', 'b', 'b', 'b', 'b', 'b', 'b', 'b', 'b', 'b', 'b', 'b', 'b', 'b', 'b', 'b', 'b', 'b', 'b', 'b', 'b', 'b', 'b', 'b', 'b', 'b', 'b', 'b', 'b', 'b', 'b', 'b', 'b', 'b', 'b', 'b', 'b', 'b', 'b', 'b', 'b', nan, 'b', 'b', 'b', nan, 'b', 'b', 'b', 'b', 'b', 'b', 'b', 'b', 'b', 'b', 'b', 'b', 'b', 'b', 'b', 'b', 'b', 'b', 'b', 'b', 'b', 'b', 'b', 'b', 'b', 'b', 'b', 'b', 'b', 'b', 'b', 'b', 'b', 'b', 'b', 'b', 'b', 'b', 'b', 'b', 'b', 'b', 'b', 'b', 'b', 'b', 'b', 'b', 'b', 'b', 'b', 'b', 'b', 'b', 'b', 'b', 'b', 'b', 'b', 'b', 'b', 'b', 'b', 'b', 'b', 'b', 'b', 'b', 'b', 'b', 'b', 'b', 'b', 'b', 'b', 'b', 'b', 'b', 'b', 'b', 'b', 'b', nan, 'b', 'b', 'b', 'b', 'b', 'b', 'b', nan, 'b', 'b', 'b', 'b', 'b', 'b', 'b', 'b', 'b', 'b', 'b', 'b', 'b', 'b', 'b', 'b', 'b', 'b', 'b', 'b', 'b', 'b', 'b', 'b', 'b', 'b', 'b', 'b', 'b', 'b', 'b', 'b', 'b', 'b', nan, 'b', 'b', nan, 'b', nan, 'b', 'b', 'b', 'b', 'b', 'b', 'b', 'b', 'b', 'b', 'b', 'b', 'b', 'b', 'b', 'b', 'b', 'b', 'b', 'b', 'b', 'b', 'b', 'b', 'b', nan, 'b', 'b', 'b', 'b', 'b', 'b', 'b', 'b', 'b', 'b', 'b', 'b', 'b', 'b', 'b', 'b', 'b', 'b', nan, 'b', 'b', 'b', nan, 'b', 'b', 'b', 'b', 'b', 'b', 'b', 'b', 'b', 'b', 'b', 'b', 'b', 'b', 'b', nan, 'b', 'b', 'b', 'b', 'b', 'b', 'b', 'b', 'b', 'b', 'b', 'b', 'b', 'b', 'b', 'b', 'b', 'b', 'b', 'b', 'b', 'b', nan, 'b', 'b', 'b', 'b', 'b', 'b', 'b', 'b', 'b', nan, 'b', 'b', 'b', 'b', 'b', 'b', 'b', 'b', 'b', 'b', 'b', 'b', 'b', 'b', 'b', 'b', 'b', 'b', 'b', 'b', 'b', 'b', 'b', 'b', 'b', 'b', 'b', 'b', 'b', nan, 'b', nan, 'b', 'b', 'b', 'b', 'b', 'b', 'b', 'b', 'b', 'b', 'b', 'b', 'b', 'b', 'b', 'b', 'b', 'b', 'b', 'b', 'b', 'b', 'b', 'b', 'b', 'b', 'b', 'b', 'b', 'b', 'b', 'b', nan, 'b', 'b', nan, nan, 'b', 'b', 'b', 'b', 'b', 'b', 'b', 'b', 'b', 'b', 'b', 'b', 'b', 'b', 'b', 'b', 'b', 'b', 'b', 'b', nan, 'b', 'b', nan, 'b', 'b', 'b', 'b', 'b', 'b', 'b', 'b', 'b', 'b', nan, nan, 'b', 'b', 'b', 'b', 'b', 'b', 'b', 'b', 'b', 'b', 'b', 'b', 'b', 'b', 'b', 'b', 'b', 'b', 'b', 'b', 'b', 'b', nan, 'b', 'b', 'b', 'b', 'b', 'b', 'b', 'b', 'b', 'b', 'b', 'b', 'b', 'b', 'b', 'b', 'b', 'b', 'b', 'b', 'b', 'b', 'b', 'b', 'b', 'b', 'b', 'b', 'b', 'b', 'b', 'b', 'b', 'b', 'b', 'b', 'b', 'b', 'b', 'b', 'b', 'b', 'b', 'b', 'b', 'b', 'b', 'b', 'b', 'b', 'b', 'b', nan, nan, 'b', 'b', 'b', 'b', 'b', 'b', 'b', 'b', 'b', 'b', 'b', 'b', 'b', 'b', 'b', 'b', 'b', 'b', 'b', 'b', 'b', 'b', 'b', 'b', 'b', 'b', 'b', 'b', 'b', 'b', 'b', 'b', 'b', 'b', 'b', nan, 'b', 'b', 'b', 'b', 'b', 'b', 'b', 'b', 'b', 'b', 'b', 'b', 'b', 'b', nan, nan, 'b', 'b', 'b', 'b', 'b', 'b', 'b', 'b', 'b', nan, 'b', 'b', 'b', 'b', 'b', 'b', 'b', 'b', 'b', 'b', 'b', 'b', 'b', 'b', 'b', 'b', 'b', 'b', 'b', 'b', 'b', 'b', 'b', 'b', 'b', 'b', 'b', 'b', 'b', 'b', 'b', 'b', 'b', 'b', 'b', 'b', 'b', 'b', 'b', 'b', 'b', 'b', 'b', nan, 'b', 'b', 'b', 'b', nan, 'b', 'b', 'b', 'b', 'b', 'b', 'b', 'b', 'b', 'b', 'b', 'b', 'b', 'b', 'b', 'b', 'b', 'b', 'b', 'b', 'b', 'b', 'b', 'b', 'b', 'b', 'b', 'b', 'b', 'b', 'b', 'b', 'b', 'b', 'b', 'b', 'b', 'b', 'b', 'b', 'b', 'b', 'b', 'b', 'b', 'b', 'b', 'b', 'b', 'b', 'b', 'b', 'b', 'b', nan, 'b', 'b', 'b', 'b', 'b', 'b', 'b', 'b', 'b', 'b', 'b', 'b', 'b', 'b', 'b', 'b', 'b', 'b', 'b', 'b', 'b', 'b', 'b', nan, 'b', 'b', 'b', 'b', nan, 'b', 'b', 'b', 'b', 'b', nan, 'b', nan, 'b', 'b', nan, 'b', 'b', 'b', 'b', 'b', 'b', nan, 'b', nan, 'b', 'b', 'b', 'b', nan, 'b', 'b', 'b', 'b', 'b', 'b', 'b', 'b', 'b', 'b', 'b', 'b', nan, 'b', nan, 'b', 'b', 'b', 'b', 'b', 'b', 'b', 'b', 'b', 'b', 'b', nan, nan, nan, 'b', 'b', 'b', 'b', 'b', 'b', 'b', 'b', nan, 'b', nan, 'b', 'b', 'b', 'b', 'b', 'b', 'b', 'b', 'b', 'b', 'b', 'b', nan, 'b', 'b', 'b', nan, 'b', 'b', 'b', 'b', 'b', 'b', 'b', 'b', 'b', nan, nan, 'b', 'b', 'b', nan, nan, 'b', 'b', 'b', 'b', 'b', 'b', nan, 'b', 'b', 'b', 'b', 'b', 'b', 'b', 'b', 'b', 'b', 'b', 'b', 'b', 'b', nan, 'b', 'b', 'b', 'b', nan, 'b', 'b', 'b', 'b', 'b', 'b', nan, nan, 'b', 'b', 'b', 'b', 'b', nan, nan, 'b', 'b', 'b', 'b', nan, 'b', 'b', 'b', 'b', 'b', 'b', 'b', 'b', 'b', 'b', 'b', 'b', nan, nan, nan, 'b', 'b', 'b', 'b', 'b', 'b', 'b', 'b', 'b', 'b', 'b', 'b', 'b', 'b', 'b', 'b', 'b', nan, 'b', nan, 'b', 'b', 'b', 'b', 'b', 'b', nan, 'b', 'b', nan, 'b', 'b', nan, 'b', nan, 'b', 'b', 'b', nan, 'b', 'b', 'b', 'b', nan, 'b', 'b', 'b', 'b', nan, 'b', 'b', 'b', 'b', 'b', 'b', 'b', nan, 'b', 'b', 'b', 'b', 'b', 'b', 'b', 'b', 'b', 'b', 'b', 'b', 'b', 'b', 'b', 'b', 'b', nan, 'b', 'b', 'b', 'b', 'b', 'b', 'b', 'b', 'b', nan, nan, nan, 'b', 'b', 'b', 'b', 'b', 'b', 'b', 'b', 'b', 'b', 'b', 'b', 'b', 'b', 'b', 'b', nan, nan, 'b', 'b', nan, 'b', 'b', 'b', 'b', 'b', 'b', 'b', 'b', 'b', 'b', nan, 'b', 'b', 'b', 'b', 'b', 'b', 'b', 'b', 'b', 'b', 'b', 'b', nan, 'b', 'b', nan, 'b', 'b', nan, nan, nan, 'b', 'b', 'b', 'b', 'b', 'b', nan, 'b', 'b', nan, 'b', 'b', 'b', 'b', 'b', 'b', 'b', 'b', 'b', 'b', 'b', 'b', 'b', 'b', nan, nan, nan, nan, nan, 'b', 'b', 'b', 'b', 'b', nan, nan, 'b', nan, nan, 'b', nan, 'b', nan, nan, nan, 'b', 'b', nan, nan, 'b', 'b', 'b', 'b', nan, 'b', nan, nan, 'b', 'b', nan, 'b', nan, nan, 'b', 'b', 'b', 'b', 'b', nan, nan, 'b', 'b', nan, 'b', 'b', 'b', 'b', 'b', 'b', nan, 'b', nan, 'b', 'b', 'b', nan, nan, nan, 'b', 'b', nan, 'b', 'b', 'b', 'b', nan, 'b', 'b', nan, nan, 'b', nan, 'b', nan, 'b', nan, 'b', 'b', 'b', nan, 'b', nan, nan, 'b', nan, 'b', nan, nan, 'b', nan, nan, 'b', nan, nan, 'b', 'b', nan, 'b', 'b', 'b', 'b', 'b', nan, 'b', nan, 'b', nan, 'b', nan, 'b', 'b', 'b', 'b', 'b', 'b', nan, 'b', 'b', 'b', 'b', nan, 'b', nan, 'b', 'b', nan, 'b', nan, nan, nan, nan, 'b', nan, 'b', nan, 'b', 'b', nan, 'b', 'b', nan, 'b', 'b', nan, 'b', 'b', nan, nan, nan, 'b', nan, 'b', 'b', 'b', nan, nan, 'b', 'b', nan, 'b', nan, 'b', 'b', 'b', 'b', nan, 'b', nan, nan, nan, 'b', nan, nan, nan, nan, nan, nan, 'b', 'b', nan, 'b', 'b', 'b', 'b', nan, 'b', 'b', nan, nan, nan, 'b', nan, 'b', 'b', 'b', nan, 'b', 'b', 'b', 'b', nan, 'b', 'b', nan, 'b', nan, 'b', 'b', 'b', nan, 'b', 'b', 'b', 'b', nan, 'b', 'b', nan, 'b', 'b', 'b', 'b', 'b', nan, nan, nan, 'b', 'b', nan, 'b', 'b', 'b', 'b', 'b', nan, 'b', 'b', 'b', nan, 'b', 'b', nan, nan, 'b', 'b', nan, 'b', 'b', nan, 'b', nan, 'b', nan, nan, 'b', nan, 'b', nan, 'b', 'b', 'b', nan, 'b', 'b', 'b', nan, 'b', nan, 'b', 'b', 'b', 'b', 'b', 'b', nan, 'b', nan, 'b', nan, nan, nan, 'b', 'b', nan, nan, 'b', 'b', 'b', 'b', 'b', 'b', 'b', 'b', nan, 'b', nan, 'b', 'b', 'b', nan, 'b', 'b', 'b', nan, nan, 'b', nan, 'b', 'b', nan, 'b', nan, 'b', 'b', 'b', 'b', 'b', 'b', 'b', 'b', 'b', 'b', 'b', 'b', nan, 'b', nan, 'b', nan, nan, 'b', 'b', nan, 'b', nan, 'b', nan, 'b', 'b', 'b', 'b', 'b', nan, 'b', nan, 'b', nan, 'b', 'b', 'b', nan, 'b', nan, 'b', 'b', nan, 'b', 'b', 'b', 'b', nan, 'b', 'b', 'b', nan, nan, nan, nan, 'b', 'b', nan, 'b', 'b', 'b', nan, 'b', nan, nan, nan, 'b', nan, 'b', nan, 'b', nan, 'b', 'b', 'b', nan, 'b', 'b', nan, nan, nan, 'b', 'b', nan, nan, nan, nan, nan, nan, 'b', nan, 'b', 'b', 'b', nan, 'b', 'b', 'b', 'b', nan, 'b', nan, 'b', nan, nan, 'b', nan, nan, nan, nan, 'b', 'b', nan, nan, 'b', 'b', 'b', 'b', 'b', nan, nan, 'b', 'b', nan, 'b', 'b', nan, 'b', 'b', nan, 'b', nan, 'b', nan, 'b', nan, nan, 'b', nan, nan, nan, 'b', 'b', 'b', nan, nan, nan, 'b', 'b', nan, nan, 'b', nan, nan, nan, 'b', nan, 'b', 'b', 'b', 'b', 'b', nan, 'b', nan, nan, 'b', 'b', 'b', nan, 'b', 'b', nan, nan, nan, 'b', 'b', 'b', nan, 'b', 'b', 'b', 'b', 'b', nan, 'b', 'b', 'b', nan, 'b', nan, nan, 'b', 'b', nan, nan, 'b', 'b', 'b', nan, 'b', 'b', nan, nan, 'b', 'b', 'b', 'b', 'b', nan, 'b', nan, 'b', 'b', 'b', 'b', 'b', 'b', nan, nan, 'b', 'b', 'b', nan, nan, 'b', 'b', 'b', 'b', nan, nan, nan, nan, nan, 'b', 'b', nan, 'b', 'b', 'b', nan, nan, nan, 'b', nan, nan, 'b', nan, nan, 'b', 'b', 'b', 'b', 'b', nan, 'b', 'b', 'b', 'b', nan, 'b', nan, 'b', nan, nan, nan, 'b', 'b', 'b', nan, nan, nan, nan, 'b', nan, 'b', 'b', 'b', 'b', 'b', 'b', nan, nan, nan, nan, 'b', nan, nan, 'b', 'b', 'b', nan, 'b', nan, 'b', nan, 'b', 'b', 'b', 'b', 'b', 'b', 'b', 'b', nan, nan, 'b', nan, nan, 'b', 'b', nan, 'b', 'b', nan, 'b', 'b', nan, nan, nan, nan, nan, 'b', nan, 'b', 'b', 'b', nan, 'b', nan, nan, nan, 'b', nan, 'b', 'b', 'b', nan, 'b', 'b', nan, 'b', 'b', 'b', 'b', 'b', 'b', 'b', 'b', nan, nan, nan, 'b', 'b', 'b', 'b', 'b', nan, 'b', 'b', nan, 'b', 'b', 'b', 'b', nan, nan, nan, 'b', nan, nan, 'b', 'b', nan, 'b', 'b', nan, 'b', nan, 'b', 'b', nan, 'b', 'b', nan, nan, nan, nan, 'b', nan, 'b', 'b', 'b', 'b', 'b', 'b', 'b', nan, 'b', nan, nan, 'b', 'b', 'b', nan, 'b', 'b', 'b', nan, nan, nan, nan, 'b', nan, nan, nan, 'b', 'b', nan, nan, 'b', nan, nan, 'b', nan, nan, 'b', 'b', nan, 'b', 'b', 'b', 'b', nan, nan, 'b', nan, 'b', 'b', 'b', 'b', nan, 'b', nan, nan, nan, 'b', 'b', nan, 'b', nan, 'b', 'b', 'b', 'b', 'b', nan, nan, 'b', 'b', 'b', 'b', 'b', nan, nan, 'b', nan, nan, 'b', 'b', 'b', 'b', 'b', 'b', 'b', 'b', 'b', 'b', nan, 'b', nan, nan, nan, nan, 'b', nan, 'b', nan, nan, nan, 'b', 'b', 'b', 'b', nan, 'b', 'b', 'b', nan, 'b', 'b', 'b', 'b', nan, 'b', nan, nan, 'b', 'b', 'b', nan, nan, 'b', 'b', nan, 'b', nan, 'b', 'b', 'b', nan, nan, 'b', nan, 'b', 'b', nan, 'b', 'b', 'b', nan, 'b', 'b', 'b', 'b', nan, 'b', 'b', 'b', nan, 'b', nan, 'b', 'b', nan, nan, nan, nan, 'b', 'b', nan, nan, nan, nan, nan, nan, nan, nan, nan, nan, nan, nan, nan, nan, nan, nan, nan, nan, nan, nan, nan, nan, nan, nan, nan, nan, nan, nan, nan, nan, nan, nan, nan, nan, nan, nan, nan, nan, nan, nan, nan, nan, nan, nan, nan, nan, nan, nan, nan, nan, nan, nan, nan, nan, nan, nan, nan, nan, nan, nan, nan, nan, nan, nan, nan, nan, nan, nan, nan, nan, nan, nan, nan, nan, nan, nan, nan, nan, nan, nan, nan, nan, nan, nan, nan, nan, nan, nan, nan, nan, nan, nan, nan, nan, nan, nan, nan, nan, nan, nan, nan, nan, nan, nan, nan, nan, nan, nan, nan, nan, nan, nan, nan, nan, nan, nan, nan, nan, nan, nan, 'b', nan, nan, nan, nan, nan, nan, nan, nan, nan, nan, nan, nan, nan, nan, nan, nan, nan, nan, nan, nan, nan, nan, nan, nan, nan, nan, nan, nan, nan, nan, nan, nan, nan, nan, nan, nan, nan, nan, nan, nan, nan, nan, nan, nan, nan, nan, nan, nan, nan, nan, nan, nan, nan, nan, nan, nan, nan, nan, nan, nan, nan, nan, nan, nan, nan, nan, nan, nan, nan, nan, nan, nan, nan, nan, nan, nan, nan, nan, nan, nan, nan, nan, nan, nan, nan, nan, nan, nan, nan, nan, nan, nan, nan, nan, nan, nan, nan, nan, nan, nan, nan, nan, nan, nan, nan, nan, nan, nan, nan, nan, nan, nan, nan, nan, nan, nan, nan, nan, nan, nan, nan, nan, nan, nan, nan, nan, nan, nan, nan, nan, nan, nan, nan, nan, nan, nan, nan, nan, nan, nan, nan, nan, nan, nan, nan, nan, nan, nan, nan, nan, nan, nan, nan, nan, nan, nan, nan, nan, nan, nan, nan, nan, nan, nan, nan, nan, nan, nan, nan, nan, nan, nan, nan, nan, nan, nan, nan, nan, nan, nan, nan, nan, nan, nan, nan, nan, nan, nan, nan, nan, nan, nan, nan, nan, nan, nan, nan, nan, nan, nan, nan, nan, nan, nan, nan, nan, nan, nan, nan, nan, nan, nan, nan, nan, nan, nan, nan, nan, nan, nan, nan, nan, nan, nan, nan, nan, nan, nan, nan, nan, nan, nan, nan, nan, nan, nan, nan, nan, nan, nan, nan, nan, nan, nan, nan, nan, nan, nan, nan, nan, nan, nan, nan, nan, nan, nan, nan, nan, nan, nan, nan, nan, nan, nan, nan, nan, nan, nan, nan, nan, nan, nan, nan, nan, nan, nan, nan, nan, nan, nan, nan, nan, nan, nan, nan, nan, nan, nan, nan, nan, nan, nan, nan, nan, 'c', nan, nan, nan, nan, nan, nan, nan, nan, nan, nan, nan, nan, nan, nan, nan, nan, nan, nan, nan, nan, nan, nan, nan, nan, nan, nan, nan, nan, nan, nan, nan, nan, nan, nan, nan, nan, nan, nan, nan, nan, nan, nan, nan, nan, nan, nan, nan, nan, nan, nan, nan, nan, nan, nan, nan, nan, nan, nan, nan, nan, nan, nan, nan, nan, nan, nan, nan, nan, nan, nan, nan, nan, nan, nan, nan, nan, nan, nan, nan, nan, nan, nan, nan, nan, nan, nan, nan, nan, nan, nan, nan, nan, nan, nan, nan, nan, nan, nan, nan, nan, nan, nan, nan, nan, nan, nan, nan, nan, nan, nan, nan, nan, nan, nan, nan, nan, nan, nan, nan, nan, nan, nan, nan, nan, nan, nan, nan, nan, nan, nan, nan, nan, nan, nan, nan, nan, nan, nan, nan, nan, nan, nan, nan, nan, nan, nan, nan, nan, nan, nan, nan, nan, nan, nan, nan, nan, nan, nan, nan, nan, nan, nan, nan, nan, nan, nan, nan, nan, nan, nan, nan, nan, nan, nan, nan, nan, nan, nan, nan, nan, nan, nan, nan, nan, nan, nan, nan, nan, nan, nan, nan, nan, nan, nan, nan, nan, nan, nan, nan, nan, nan, nan, nan, nan, nan, nan, nan, nan, nan, nan, nan, nan, nan, nan, nan, nan, nan, nan, nan, nan, nan, nan, nan, nan, nan, nan, nan, nan, nan, nan, nan, nan, nan, nan, nan, nan, nan, nan, nan, nan, nan, nan, nan, nan, nan, nan, nan, nan, nan, nan, nan, nan, 'c', nan, nan, nan, nan, nan, nan, nan, nan, nan, nan, nan, nan, nan, nan, nan, nan, nan, nan, nan, nan, nan, nan, nan, nan, nan, nan, nan, nan, nan, nan, nan, nan, nan, nan, nan, nan, nan, nan, nan, nan, nan, nan, nan, nan, nan, nan, nan, nan, nan, nan, nan, nan, nan, nan, nan, nan, nan, nan, nan, nan, nan, nan, nan, nan, nan, nan, nan, nan, nan, nan, nan, nan, nan, nan, nan, nan, nan, nan, nan, nan, nan, nan, nan, nan, nan, nan, nan, nan, nan, nan, nan, nan, nan, nan, nan, nan, nan, nan, nan, nan, nan, nan, nan, nan, nan, nan, nan, nan, nan, nan, nan, nan, nan, nan, nan, nan, nan, nan, nan, nan, nan, nan, nan, nan, nan, nan, nan, nan, nan, nan, nan, nan, nan, nan, nan, nan, nan, nan, nan, nan, nan, nan, nan, nan, nan, nan, nan, nan, nan, nan, nan, nan, nan, nan, nan, nan, nan, nan, nan, nan, nan, nan, nan, nan, nan, nan, nan, nan, nan, nan, nan, nan, nan, nan, nan, nan, nan, nan, nan, nan, nan, nan, nan, nan, nan, nan, 'c', nan, nan, nan, nan, nan, nan, nan, nan, nan, nan, nan, nan, nan, nan, nan, nan, nan, nan, nan, nan, nan, nan, nan, nan, nan, nan, nan, nan, nan, nan, nan, nan, nan, nan, nan, nan, nan, nan, nan, nan, nan, nan, nan, nan, nan, nan, nan, nan, 'b', nan, nan, nan, nan, nan, nan, nan, 'c', nan, nan, nan, nan, nan, nan, nan, nan, nan, nan, nan, nan, nan, nan, nan, 'b', nan, nan, nan, nan, nan, nan, nan, nan, nan, nan, nan, nan, 'b', nan, nan, nan, 'c', nan, nan, nan, nan, nan, nan, nan, nan, nan, nan, nan, nan, nan, nan, nan, nan, nan, nan, nan, nan, nan, 'b', nan, nan, 'b', nan, nan, nan, nan, nan, nan, nan, nan, nan, nan, nan, nan, nan, 'b', nan, nan, nan, nan, nan, nan, 'c', nan, nan, nan, nan, nan, nan, nan, nan, nan, nan, nan, nan, nan, nan, nan, nan, nan, nan, nan, nan, nan, nan, nan, nan, nan, nan, nan, nan, nan, nan, 'b', nan, nan, nan, nan, nan, nan, nan, nan, nan, nan, nan, 'c', nan, nan, nan, nan, nan, nan, nan, nan, nan, nan, nan, nan, nan, nan, nan, nan, nan, nan, nan, nan, nan, nan, nan, nan, nan, nan, nan, nan, 'b', nan, 'c', nan, nan, nan, nan, nan, nan, nan, 'b', nan, nan, nan, nan, nan, nan, nan, nan, nan, nan, nan, nan, nan, nan, nan, nan, nan, 'c', nan, nan, nan, nan, nan, nan, nan, nan, 'c', nan, nan, nan, nan, nan, nan, nan, nan, nan, nan, 'c', nan, nan, nan, nan, 'b', nan, nan, nan, nan, nan, nan, nan, nan, nan, nan, nan, nan, nan, nan, nan, nan, nan, nan, nan, nan, nan, nan, nan, nan, nan, nan, nan, nan, nan, 'c', nan, nan, nan, nan, nan, nan, nan, nan, nan, nan, nan, nan, nan, nan, nan, nan, nan, nan, nan, 'c', nan, nan, nan, nan, nan, nan, nan, nan, nan, nan, nan, nan, nan, nan, 'b', nan, nan, nan, nan, nan, nan, nan, nan, nan, nan, nan, nan, nan, 'b', nan, nan, nan, nan, nan, nan, nan, nan, nan, nan, nan, nan, nan, nan, nan, nan, nan, nan, nan, nan, nan, nan, nan, nan, nan, nan, nan, nan, nan, nan, nan, nan, nan, nan, 'c', nan, nan, nan, nan, nan, nan, nan, nan, nan, nan, nan, nan, nan, nan, nan, nan, nan, nan, nan, nan, nan, nan, nan, nan, nan, nan, nan, nan, nan, nan, nan, nan, nan, nan, 'c', nan, nan, nan, nan, nan, nan, nan, nan, nan, nan, nan, nan, nan, nan, nan, nan, nan, nan, nan, 'c', nan, nan, nan, nan, nan, nan, 'b', nan, nan, 'c', nan, nan, nan, nan, 'b', nan, nan, nan, nan, nan, nan, nan, nan, nan, nan, nan, nan, nan, nan, nan, nan, nan, nan, nan, nan, nan, nan, 'c', nan, nan, nan, nan, nan, nan, nan, nan, nan, nan, nan, nan, 'c', nan, nan, nan, nan, nan, 'c', nan, nan, nan, nan, nan, nan, nan, nan, nan, nan, 'b', nan, nan, nan, nan, nan, nan, 'b', nan, nan, nan, nan, nan, nan, 'c', 'c', nan, 'b', nan, nan, nan, nan, nan, nan, 'b', nan, nan, nan, nan, nan, nan, nan, nan, 'c', nan, nan, nan, nan, nan, nan, nan, nan, nan, nan, nan, nan, nan, nan, 'c', nan, nan, nan, nan, nan, nan, nan, nan, nan, nan, nan, nan, nan, 'b', nan, nan, nan, nan, nan, nan, 'b', nan, nan, nan, nan, nan, nan, nan, nan, nan, nan, nan, nan, nan, nan, nan, nan, nan, nan, nan, nan, 'b', nan, nan, nan, nan, nan, 'b', nan, nan, nan, nan, nan, nan, nan, nan, nan, nan, nan, nan, nan, nan, nan, nan, nan, nan, nan, 'c', nan, nan, nan, nan, nan, nan, nan, nan, nan, nan, 'c', 'b', nan, 'c', nan, 'c', nan, nan, nan, nan, nan, nan, nan, nan, nan, nan, nan, nan, nan, nan, nan, nan, nan, nan, nan, nan, nan, nan, nan, nan, nan, nan, nan, nan, nan, nan, nan, nan, nan, nan, nan, nan, nan, nan, nan, nan, nan, nan, nan, nan, nan, nan, nan, 'b', nan, nan, 'c', nan, nan, nan, nan, nan, nan, nan, nan, nan, nan, nan, 'b', nan, nan, nan, nan, nan, nan, nan, nan, nan, nan, nan, nan, nan, nan, nan, nan, nan, nan, nan, nan, nan, 'b', nan, nan, nan, nan, nan, nan, nan, nan, nan, nan, nan, nan, nan, nan, nan, nan, nan, nan, nan, nan, nan, nan, nan, nan, nan, nan, 'b', nan, nan, 'c', nan, 'b', nan, nan, nan, nan, nan, nan, nan, nan, nan, nan, nan, nan, nan, nan, nan, nan, nan, nan, nan, nan, nan, nan, nan, nan, nan, nan, nan, nan, nan, nan, nan, nan, 'c', nan, nan, nan, nan, nan, nan, nan, nan, nan, nan, nan, nan, nan, nan, nan, nan, nan, nan, nan, nan, nan, nan, nan, nan, nan, nan, nan, nan, nan, nan, nan, nan, nan, nan, nan, nan, nan, 'b', nan, nan, nan, nan, nan, nan, nan, nan, nan, nan, nan, nan, nan, nan, nan, nan, nan, nan, nan, nan, nan, nan, nan, nan, nan, nan, nan, nan, 'b', nan, 'b', 'b', 'c', nan, nan, 'c', nan, nan, nan, nan, 'c', nan, nan, 'b', nan, nan, nan, 'b', nan, nan, nan, nan, nan, 'c', nan, nan, nan, nan, nan, nan, nan, nan, nan, nan, nan, 'c', nan, nan, nan, nan, nan, nan, nan, nan, nan, nan, nan, nan, nan, nan, nan, nan, nan, nan, nan, nan, nan, nan, nan, nan, nan, nan, nan, nan, nan, nan, nan, nan, nan, nan, nan, nan, nan, nan, nan, 'b', nan, nan, nan, nan, nan, nan, nan, nan, nan, nan, nan, nan, nan, nan, nan, nan, nan, nan, nan, nan, nan, 'c', nan, nan, nan, 'c', nan, nan, nan, nan, nan, nan, nan, nan, nan, nan, nan, nan, nan, nan, 'c', nan, nan, nan, nan, nan, nan, nan, nan, nan, nan, nan, nan, nan, nan, nan, nan, nan, nan, nan, nan, nan, nan, nan, nan, nan, nan, nan, nan, nan, nan, nan, nan, nan, nan, nan, nan, nan, nan, nan, nan, nan, nan, nan, nan, nan, nan, nan, nan, nan, nan, nan, nan, nan, nan, nan, nan, nan, nan, nan, nan, nan, nan, nan, nan, nan, nan, 'b', nan, nan, nan, nan, nan, nan, nan, nan, nan, nan, 'b', nan, nan, nan, nan, nan, nan, nan, nan, nan, nan, nan, 'c', nan, nan, nan, nan, nan, nan, nan, nan, 'b', nan, nan, nan, nan, nan, nan, nan, nan, nan, nan, nan, 'b', nan, nan, nan, nan, nan, nan, nan, nan, 'b', 'c', nan, nan, nan, nan, 'b', nan, nan, nan, nan, nan, 'b', nan, nan, nan, nan, nan, nan, nan, nan, nan, nan, nan, nan, 'b', nan, nan, nan, nan, nan, nan, nan, nan, nan, nan, nan, nan, nan, nan, nan, 'c', nan, nan, 'b', nan, 'b', nan, nan, nan, nan, nan, nan, nan, nan, nan, nan, nan, nan, nan, nan, 'b', nan, nan, nan, nan, nan, nan, nan, nan, nan, nan, nan, nan, nan, nan, nan, nan, nan, nan, nan, nan, nan, nan, nan, nan, nan, nan, nan, nan, nan, nan, nan, nan, nan, nan, nan, nan, 'b', nan, nan, nan, nan, nan, nan, nan, nan, nan, nan, nan, nan, nan, nan, nan, nan, nan, nan, nan, nan, nan, nan, nan, nan, nan, nan, nan, nan, nan, nan, nan, nan, nan, nan, nan, nan, nan, nan, nan, nan, nan, nan, nan, nan, nan, nan, nan, nan, nan, nan, nan, nan, nan, nan, nan, nan, 'c', nan, nan, nan, nan, nan, nan, nan, nan, nan, nan, nan, nan, nan, nan, nan, nan, nan, nan, 'c', nan, nan, nan, nan, nan, nan, nan, nan, nan]\n",
      "Lista de valores secuenciales al valor aleatorio propuesto:\n",
      "['e', 'c', 'e', 'c', 'c', 'r', 'r', 'r', 'c', 'e', 'c', 'e', 'c', 'e', 'c', 'c', 'r', 'c', 'c', 'r', 'e', 'e', 'c', 'c', 'c', 'c', 'c', 'c', 'e', 'b', 'e', 'e', 'c', 'b', 'c', 'c', 'b', 'c', 'c', 'r', 'e', 'c', 'e', 'c', 'b', 'c', 'e', 'b', 'c', 'b', 'b', 'c', 'b', 'c', 'c', 'r', 'c', 'c', 'e', 'c', 'c', 'e', 'c', 'c', 'c', 'c', 'b', 'r', 'c', 'e', 'r', 'c', 'c', 'c', 'b', 'c', 'e', 'b', 'c', 'e', 'e', 'e', 'r', 'c', 'c', 'r', 'e', 'r', 'e', 'r', 'c', 'e', 'e', 'e', 'r', 'c', 'e', 'r', 'b', 'c', 'e', 'r', 'r', 'c', 'e', 'c', 'c', 'e', 'c', 'c', 'c', 'e', 'e', 'c', 'c', 'b', 'e', 'r', 'e', 'c', 'c', 'c', 'c', 'c', 'e', 'r', 'e', 'c', 'c', 'e', 'e', 'c', 'c', 'e', 'c', 'c', 'c', 'c', 'c', 'c', 'r', 'c', 'e', 'r', 'r', 'e', 'c', 'b', 'e', 'c', 'e', 'c', 'c', 'e', 'r', 'c', 'b', 'r', 'c', 'e', 'e', 'c', 'r', 'c', 'c', 'b', 'c', 'b', 'c', 'c', 'r', 'c', 'c', 'r', 'c', 'c', 'r', 'c', 'r', 'c', 'b', 'c', 'c', 'c', 'b', 'c', 'e', 'c', 'c', 'r', 'r', 'c', 'r', 'c', 'c', 'e', 'r', 'c', 'c', 'c', 'r', 'c', 'c', 'b', 'e', 'b', 'e', 'e', 'c', 'b', 'c', 'c', 'c', 'b', 'e', 'b', 'r', 'c', 'e', 'r', 'r', 'b', 'e', 'e', 'r', 'r', 'c', 'e', 'r', 'c', 'c', 'c', 'c', 'c', 'c', 'c', 'e', 'e', 'e', 'b', 'e', 'e', 'c', 'b', 'e', 'e', 'e', 'r', 'c', 'c', 'c', 'c', 'c', 'r', 'e', 'e', 'c', 'r', 'c', 'e', 'r', 'r', 'c', 'e', 'r', 'e', 'e', 'c', 'e', 'c', 'b', 'c', 'e', 'e', 'r', 'e', 'c', 'c', 'e', 'b', 'c', 'e', 'e', 'r', 'b', 'c', 'r', 'e', 'b', 'c', 'c', 'c', 'b', 'b', 'e', 'c', 'e', 'c', 'e', 'e', 'c', 'c', 'b', 'c', 'c', 'r', 'c', 'e', 'c', 'r', 'e', 'c', 'c', 'c', 'r', 'r', 'c', 'e', 'e', 'e', 'c', 'e', 'e', 'c', 'e', 'c', 'e', 'c', 'c', 'e', 'e', 'e', 'r', 'e', 'r', 'c', 'c', 'e', 'r', 'c', 'e', 'e', 'e', 'e', 'e', 'r', 'c', 'e', 'c', 'c', 'e', 'r', 'c', 'b', 'r', 'e', 'c', 'b', 'e', 'c', 'c', 'e', 'c', 'b', 'r', 'r', 'c', 'r', 'c', 'e', 'c', 'c', 'r', 'r', 'r', 'r', 'b', 'c', 'c', 'c', 'b', 'c', 'c', 'r', 'e', 'e', 'c', 'e', 'c', 'r', 'e', 'c', 'c', 'e', 'e', 'c', 'c', 'r', 'r', 'r', 'c', 'c', 'e', 'e', 'b', 'r', 'e', 'e', 'r', 'r', 'c', 'b', 'c', 'b', 'c', 'b', 'c', 'e', 'c', 'c', 'c', 'c', 'c', 'r', 'e', 'e', 'c', 'c', 'e', 'e', 'e', 'e', 'e', 'r', 'c', 'r', 'r', 'c', 'e', 'c', 'c', 'r', 'e', 'c', 'c', 'c', 'c', 'c', 'r', 'r', 'e', 'r', 'c', 'b', 'e', 'r', 'e', 'c', 'e', 'c', 'c', 'r', 'e', 'e', 'e', 'c', 'c', 'b', 'e', 'c', 'e', 'e', 'c', 'r', 'c', 'r', 'c', 'c', 'c', 'e', 'b', 'r', 'c', 'b', 'c', 'c', 'c', 'r', 'e', 'c', 'r', 'c', 'r', 'c', 'e', 'r', 'e', 'b', 'e', 'c', 'c', 'c', 'c', 'c', 'b', 'e', 'r', 'e', 'r', 'c', 'c', 'c', 'e', 'c', 'c', 'c', 'e', 'e', 'c', 'e', 'r', 'c', 'r', 'c', 'c', 'e', 'e', 'c', 'e', 'e', 'r', 'c', 'c', 'e', 'c', 'c', 'r', 'c', 'r', 'c', 'b', 'c', 'c', 'e', 'e', 'e', 'c', 'r', 'r', 'b', 'c', 'c', 'e', 'c', 'c', 'r', 'c', 'b', 'b', 'c', 'b', 'e', 'b', 'r', 'r', 'r', 'e', 'c', 'e', 'c', 'c', 'b', 'e', 'c', 'e', 'c', 'e', 'c', 'c', 'c', 'b', 'c', 'r', 'e', 'e', 'e', 'r', 'b', 'c', 'c', 'e', 'r', 'c', 'r', 'c', 'c', 'c', 'e', 'r', 'e', 'c', 'r', 'c', 'c', 'b', 'c', 'r', 'c', 'c', 'r', 'c', 'b', 'e', 'c', 'c', 'r', 'b', 'c', 'r', 'r', 'c', 'b', 'r', 'c', 'c', 'c', 'r', 'c', 'c', 'c', 'c', 'r', 'e', 'e', 'e', 'c', 'e', 'e', 'e', 'e', 'e', 'c', 'e', 'c', 'e', 'e', 'c', 'c', 'b', 'e', 'e', 'e', 'e', 'c', 'b', 'e', 'e', 'e', 'e', 'e', 'c', 'e', 'e', 'e', 'c', 'e', 'e', 'c', 'e', 'e', 'b', 'c', 'e', 'e', 'e', 'b', 'e', 'e', 'c', 'e', 'e', 'e', 'c', 'e', 'e', 'e', 'c', 'e', 'b', 'b', 'c', 'e', 'e', 'b', 'b', 'e', 'e', 'e', 'b', 'e', 'e', 'e', 'b', 'b', 'e', 'b', 'e', 'c', 'b', 'c', 'e', 'b', 'c', 'e', 'e', 'e', 'e', 'e', 'e', 'e', 'c', 'c', 'e', 'e', 'e', 'e', 'e', 'c', 'b', 'c', 'e', 'b', 'r', 'e', 'e', 'r', 'e', 'e', 'e', 'e', 'c', 'c', 'e', 'r', 'e', 'e', 'b', 'r', 'b', 'e', 'b', 'e', 'c', 'c', 'c', 'e', 'e', 'e', 'b', 'c', 'e', 'b', 'e', 'e', 'e', 'e', 'e', 'c', 'b', 'e', 'e', 'r', 'r', 'e', 'b', 'e', 'c', 'e', 'e', 'b', 'e', 'b', 'b', 'e', 'r', 'e', 'c', 'b', 'e', 'c', 'e', 'e', 'b', 'e', 'e', 'e', 'b', 'c', 'e', 'b', 'r', 'e', 'e', 'c', 'b', 'r', 'e', 'e', 'e', 'e', 'r', 'e', 'e', 'c', 'e', 'c', 'e', 'c', 'c', 'e', 'c', 'e', 'r', 'e', 'b', 'e', 'e', 'e', 'e', 'e', 'e', 'e', 'e', 'e', 'e', 'e', 'e', 'e', 'e', 'c', 'e', 'e', 'e', 'r', 'e', 'r', 'e', 'e', 'e', 'e', 'e', 'e', 'e', 'e', 'b', 'b', 'e', 'e', 'c', 'e', 'e', 'e', 'e', 'e', 'e', 'c', 'e', 'b', 'c', 'e', 'e', 'e', 'b', 'e', 'e', 'e', 'e', 'e', 'e', 'e', 'e', 'e', 'r', 'e', 'e', 'e', 'c', 'e', 'e', 'e', 'e', 'c', 'e', 'b', 'r', 'e', 'c', 'e', 'b', 'e', 'c', 'e', 'b', 'e', 'e', 'e', 'e', 'c', 'e', 'e', 'r', 'r', 'r', 'e', 'c', 'c', 'e', 'e', 'e', 'c', 'e', 'e', 'c', 'b', 'r', 'c', 'e', 'e', 'c', 'c', 'c', 'c', 'c', 'c', 'e', 'e', 'e', 'e', 'e', 'e', 'e', 'e', 'e', 'r', 'e', 'e', 'e', 'e', 'e', 'e', 'e', 'r', 'e', 'e', 'e', 'e', 'e', 'b', 'e', 'e', 'b', 'e', 'e', 'e', 'e', 'e', 'e', 'e', 'e', 'e', 'e', 'e', 'e', 'e', 'e', 'e', 'e', 'e', 'e', 'e', 'e', 'b', 'b', 'e', 'e', 'e', 'e', 'e', 'e', 'e', 'e', 'e', 'e', 'e', 'e', 'b', 'e', 'e', 'e', 'e', 'b', 'e', 'e', 'e', 'e', 'e', 'e', 'e', 'e', 'e', 'e', 'c', 'e', 'e', 'e', 'e', 'e', 'e', 'e', 'b', 'e', 'b', 'e', 'e', 'e', 'e', 'e', 'b', 'e', 'r', 'e', 'e', 'e', 'e', 'b', 'e', 'e', 'e', 'e', 'e', 'e', 'e', 'e', 'e', 'e', 'c', 'e', 'e', 'b', 'c', 'e', 'b', 'e', 'e', 'e', 'e', 'e', 'c', 'e', 'e', 'e', 'e', 'e', 'e', 'e', 'e', 'b', 'e', 'b', 'c', 'e', 'e', 'e', 'e', 'b', 'e', 'e', 'e', 'e', 'b', 'b', 'b', 'e', 'e', 'e', 'e', 'e', 'e', 'e', 'e', 'e', 'e', 'e', 'e', 'e', 'e', 'e', 'e', 'e', 'b', 'e', 'e', 'e', 'e', 'c', 'e', 'e', 'e', 'e', 'e', 'e', 'e', 'e', 'e', 'e', 'e', 'e', 'e', 'b', 'b', 'e', 'b', 'e', 'e', 'e', 'e', 'b', 'e', 'e', 'e', 'e', 'e', 'r', 'b', 'e', 'e', 'e', 'e', 'e', 'e', 'e', 'e', 'e', 'e', 'e', 'e', 'e', 'c', 'e', 'e', 'e', 'e', 'e', 'b', 'e', 'e', 'e', 'e', 'e', 'r', 'e', 'e', 'b', 'e', 'e', 'e', 'b', 'c', 'e', 'e', 'e', 'b', 'e', 'e', 'e', 'e', 'e', 'e', 'e', 'b', 'e', 'e', 'e', 'e', 'e', 'e', 'e', 'e', 'b', 'e', 'e', 'b', 'e', 'e', 'b', 'e', 'b', 'b', 'b', 'e', 'e', 'b', 'e', 'e', 'e', 'e', 'e', 'e', 'e', 'e', 'e', 'e', 'e', 'e', 'e', 'r', 'e', 'e', 'e', 'e', 'e', 'e', 'e', 'e', 'e', 'e', 'e', 'e', 'e', 'e', 'e', 'e', 'c', 'e', 'e', 'e', 'b', 'e', 'b', 'e', 'b', 'e', 'e', 'e', 'c', 'b', 'e', 'e', 'e', 'c', 'e', 'c', 'e', 'e', 'e', 'e', 'e', 'b', 'e', 'c', 'e', 'e', 'e', 'e', 'e', 'e', 'e', 'e', 'e', 'e', 'e', 'e', 'e', 'e', 'e', 'e', 'b', 'e', 'e', 'r', 'e', 'e', 'c', 'e', 'e', 'e', 'e', 'e', 'c', 'e', 'e', 'e', 'e', 'e', 'b', 'c', 'b', 'e', 'e', 'e', 'e', 'e', 'e', 'e', 'e', 'c', 'e', 'e', 'e', 'e', 'e', 'e', 'b', 'e', 'e', 'e', 'e', 'b', 'e', 'r', 'e', 'e', 'e', 'e', 'e', 'e', 'e', 'b', 'e', 'e', 'r', 'b', 'e', 'e', 'e', 'e', 'e', 'e', 'e', 'b', 'e', 'e', 'e', 'e', 'e', 'e', 'b', 'e', 'e', 'e', 'e', 'e', 'e', 'e', 'e', 'b', 'e', 'e', 'b', 'e', 'e', 'e', 'e', 'e', 'e', 'e', 'e', 'e', 'e', 'e', 'e', 'e', 'b', 'b', 'e', 'e', 'e', 'c', 'e', 'e', 'e', 'e', 'e', 'e', 'e', 'e', 'e', 'e', 'e', 'e', 'e', 'e', 'e', 'c', 'c', 'e', 'e', 'e', 'e', 'b', 'e', 'c', 'c', 'r', 'e', 'e', 'e', 'e', 'e', 'e', 'e', 'c', 'e', 'c', 'e', 'e', 'e', 'e', 'e', 'b', 'b', 'r', 'b', 'e', 'e', 'e', 'e', 'e', 'e', 'e', 'e', 'b', 'e', 'e', 'e', 'b', 'e', 'e', 'e', 'e', 'b', 'e', 'e', 'b', 'e', 'e', 'b', 'c', 'c', 'e', 'e', 'e', 'e', 'e', 'e', 'c', 'e', 'e', 'e', 'r', 'e', 'e', 'e', 'e', 'e', 'e', 'e', 'e', 'b', 'e', 'e', 'e', 'e', 'e', 'e', 'r', 'e', 'e', 'e', 'e', 'e', 'e', 'r', 'e', 'e', 'e', 'e', 'e', 'e', 'b', 'e', 'e', 'e', 'e', 'b', 'e', 'e', 'e', 'e', 'b', 'r', 'e', 'e', 'e', 'c', 'b', 'e', 'e', 'e', 'e', 'e', 'e', 'e', 'e', 'e', 'c', 'e', 'e', 'e', 'e', 'e', 'e', 'e', 'e', 'e', 'e', 'e', 'e', 'e', 'e', 'e', 'b', 'e', 'b', 'b', 'b', 'b', 'e', 'b', 'b', 'e', 'e', 'b', 'e', 'c', 'e', 'c', 'b', 'e', 'e', 'b', 'e', 'e', 'e', 'b', 'c', 'e', 'b', 'e', 'e', 'b', 'b', 'b', 'e', 'b', 'b', 'b', 'b', 'e', 'b', 'e', 'e', 'e', 'b', 'e', 'b', 'e', 'e', 'b', 'b', 'b', 'b', 'e', 'b', 'b', 'b', 'b', 'b', 'b', 'e', 'e', 'b', 'b', 'e', 'b', 'e', 'b', 'b', 'e', 'e', 'e', 'e', 'b', 'e', 'e', 'b', 'b', 'b', 'b', 'e', 'e', 'e', 'e', 'b', 'b', 'b', 'b', 'e', 'e', 'b', 'b', 'e', 'e', 'e', 'e', 'e', 'b', 'b', 'e', 'e', 'e', 'b', 'e', 'e', 'e', 'e', 'e', 'e', 'b', 'e', 'e', 'b', 'b', 'b', 'e', 'e', 'r', 'e', 'e', 'e', 'b', 'b', 'e', 'e', 'e', 'b', 'b', 'e', 'e', 'e', 'e', 'e', 'c', 'b', 'e', 'e', 'e', 'b', 'e', 'e', 'e', 'b', 'b', 'b', 'e', 'e', 'e', 'e', 'b', 'b', 'e', 'b', 'b', 'b', 'b', 'b', 'e', 'e', 'b', 'b', 'e', 'b', 'e', 'b', 'e', 'e', 'e', 'b', 'e', 'b', 'e', 'e', 'e', 'e', 'b', 'e', 'e', 'b', 'b', 'e', 'b', 'e', 'e', 'c', 'e', 'b', 'b', 'e', 'e', 'b', 'e', 'e', 'b', 'e', 'b', 'e', 'b', 'e', 'e', 'e', 'e', 'b', 'b', 'e', 'b', 'e', 'r', 'e', 'e', 'e', 'e', 'e', 'e', 'b', 'e', 'e', 'e', 'e', 'b', 'b', 'e', 'b', 'b', 'b', 'e', 'b', 'b', 'e', 'b', 'e', 'c', 'b', 'e', 'b', 'b', 'b', 'e', 'e', 'e', 'e', 'b', 'b', 'b', 'e', 'e', 'e', 'r', 'b', 'e', 'b', 'b', 'e', 'c', 'e', 'e', 'b', 'e', 'b', 'b', 'e', 'c', 'e', 'e', 'e', 'b', 'e', 'b', 'b', 'e', 'e', 'b', 'b', 'b', 'b', 'b', 'e', 'c', 'b', 'b', 'e', 'b', 'e', 'e', 'b', 'b', 'e', 'e', 'e', 'b', 'b', 'e', 'b', 'e', 'c', 'e', 'e', 'b', 'b', 'e', 'e', 'e', 'b', 'b', 'b', 'b', 'b', 'b', 'b', 'b', 'b', 'b', 'b', 'b', 'e', 'b', 'b', 'b', 'b', 'b', 'b', 'b', 'b', 'b', 'b', 'b', 'b', 'b', 'b', 'b', 'b', 'e', 'b', 'e', 'b', 'b', 'b', 'b', 'b', 'b', 'b', 'b', 'b', 'b', 'b', 'b', 'b', 'b', 'b', 'e', 'b', 'e', 'b', 'b', 'b', 'b', 'b', 'b', 'b', 'b', 'b', 'b', 'b', 'b', 'b', 'b', 'b', 'b', 'b', 'b', 'b', 'b', 'b', 'b', 'b', 'b', 'b', 'b', 'b', 'b', 'b', 'b', 'b', 'b', 'b', 'b', 'b', 'b', 'b', 'b', 'b', 'b', 'b', 'b', 'e', 'b', 'b', 'b', 'b', 'b', 'b', 'b', 'e', 'b', 'b', 'b', 'b', 'b', 'b', 'b', 'b', 'b', 'b', 'b', 'b', 'b', 'b', 'b', 'b', 'b', 'b', 'b', 'b', 'b', 'b', 'b', 'b', 'b', 'b', 'e', 'b', 'b', 'b', 'b', 'b', 'b', 'b', 'b', 'b', 'e', 'b', 'b', 'b', 'e', 'b', 'b', 'b', 'b', 'b', 'e', 'b', 'b', 'b', 'b', 'e', 'b', 'b', 'b', 'b', 'b', 'b', 'b', 'e', 'b', 'b', 'b', 'b', 'b', 'e', 'b', 'b', 'b', 'b', 'e', 'b', 'b', 'b', 'b', 'b', 'b', 'b', 'b', 'b', 'b', 'b', 'b', 'b', 'b', 'b', 'b', 'e', 'b', 'b', 'b', 'b', 'b', 'b', 'e', 'b', 'e', 'b', 'b', 'b', 'b', 'b', 'b', 'b', 'b', 'b', 'b', 'b', 'b', 'b', 'b', 'b', 'b', 'b', 'b', 'b', 'b', 'b', 'b', 'b', 'b', 'b', 'b', 'b', 'b', 'b', 'b', 'b', 'b', 'b', 'b', 'b', 'b', 'b', 'b', 'b', 'b', 'b', 'b', 'b', 'b', 'b', 'b', 'b', 'b', 'e', 'b', 'e', 'b', 'b', 'e', 'b', 'b', 'b', 'b', 'b', 'b', 'b', 'b', 'b', 'b', 'b', 'b', 'b', 'b', 'b', 'e', 'b', 'b', 'b', 'b', 'b', 'b', 'b', 'e', 'b', 'e', 'e', 'b', 'b', 'b', 'b', 'b', 'b', 'b', 'b', 'e', 'e', 'b', 'b', 'b', 'b', 'b', 'b', 'b', 'b', 'b', 'b', 'b', 'e', 'b', 'b', 'b', 'b', 'b', 'b', 'b', 'b', 'b', 'b', 'b', 'b', 'b', 'b', 'b', 'b', 'b', 'b', 'b', 'b', 'b', 'b', 'b', 'b', 'b', 'b', 'b', 'b', 'b', 'b', 'b', 'b', 'b', 'b', 'b', 'b', 'b', 'b', 'b', 'b', 'b', 'b', 'b', 'b', 'b', 'b', 'b', 'b', 'b', 'b', 'b', 'e', 'b', 'b', 'b', 'b', 'b', 'b', 'b', 'b', 'b', 'b', 'b', 'b', 'b', 'b', 'b', 'b', 'b', 'b', 'b', 'b', 'b', 'b', 'b', 'b', 'b', 'e', 'e', 'b', 'b', 'b', 'b', 'b', 'b', 'b', 'e', 'b', 'b', 'b', 'b', 'b', 'b', 'b', 'e', 'b', 'b', 'b', 'b', 'e', 'e', 'b', 'b', 'b', 'b', 'b', 'b', 'b', 'b', 'b', 'b', 'b', 'b', 'b', 'b', 'b', 'b', 'e', 'b', 'b', 'b', 'b', 'b', 'b', 'b', 'b', 'b', 'b', 'b', 'b', 'b', 'b', 'b', 'b', 'b', 'b', 'b', 'b', 'b', 'b', 'b', 'b', 'b', 'b', 'b', 'b', 'b', 'b', 'b', 'b', 'b', 'b', 'b', 'b', 'b', 'b', 'b', 'b', 'b', 'b', 'b', 'b', 'b', 'b', 'b', 'b', 'b', 'b', 'b', 'b', 'b', 'b', 'b', 'b', 'b', 'b', 'b', 'b', 'b', 'b', 'b', 'b', 'b', 'b', 'b', 'b', 'b', 'b', 'b', 'b', 'b', 'b', 'b', 'b', 'b', 'b', 'b', 'b', 'b', 'b', 'b', 'b', 'b', 'b', 'b', 'b', 'b', 'b', 'b', 'b', 'b', 'b', 'b', 'b', 'b', 'b', 'b', 'b', 'b', 'b', 'b', 'b', 'b', 'b', 'b', 'b', 'b', 'b', 'b', 'e', 'b', 'b', 'b', 'b', 'b', 'b', 'b', 'b', 'b', 'b', 'b', 'b', 'b', 'b', 'b', 'b', 'e', 'b', 'b', 'b', 'b', 'b', 'b', 'b', 'b', 'b', 'b', 'b', 'b', 'b', 'b', 'b', 'b', 'b', 'b', 'b', 'b', 'b', 'b', 'b', 'b', 'b', 'b', 'b', 'b', 'b', 'b', 'b', 'b', 'b', 'b', 'b', 'b', 'b', 'b', 'b', 'b', 'b', 'b', 'e', 'b', 'b', 'b', 'b', 'b', 'b', 'b', 'b', 'b', 'b', 'b', 'b', 'b', 'b', 'b', 'b', 'b', 'b', 'b', 'b', 'b', 'b', 'b', 'b', 'b', 'b', 'b', 'b', 'b', 'b', 'b', 'b', 'b', 'b', 'b', 'b', 'b', 'b', 'b', 'e', 'b', 'b', 'b', 'b', 'b', 'b', 'b', 'b', 'b', 'b', 'b', 'b', 'b', 'b', 'b', 'b', 'b', 'b', 'b', 'b', 'b', 'b', 'b', 'b', 'b', 'b', 'b', 'b', 'b', 'b', 'b', 'b', 'b', 'b', 'b', 'b', 'b', 'b', 'b', 'b', 'b', 'b', 'b', 'b', 'b', 'b', 'b', 'b', 'b', 'b', 'b', 'b', 'b', 'b', 'b', 'b', 'b', 'e', 'b', 'b', 'b', 'b', 'b', 'b', 'b', 'b', 'b', 'b', 'b', 'b', 'e', 'b', 'b', 'b', 'b', 'b', 'b', 'b', 'b', 'b', 'b', 'b', 'b', 'b', 'b', 'b', 'e', 'b', 'b', 'b', 'b', 'b', 'b', 'b', 'b', 'b', 'b', 'b', 'b', 'b', 'b', 'b', 'b', 'b', 'b', 'b', 'b', 'b', 'b', 'b', 'b', 'b', 'b', 'e', 'b', 'b', 'b', 'b', 'b', 'b', 'b', 'b', 'b', 'b', 'b', 'b', 'b', 'b', 'b', 'b', 'b', 'b', 'b', 'b', 'b', 'b', 'b', 'b', 'b', 'b', 'b', 'b', 'b', 'b', 'b', 'b', 'b', 'b', 'b', 'b', 'e', 'b', 'b', 'b', 'b', 'b', 'b', 'b', 'b', 'e', 'b', 'b', 'b', 'b', 'b', 'b', 'b', 'b', 'b', 'b', 'b', 'b', 'b', 'b', 'b', 'b', 'b', 'b', 'b', 'b', 'b', 'b', 'b', 'b', 'b', 'b', 'b', 'b', 'b', 'b', 'b', 'b', 'b', 'b', 'b', 'b', 'b', 'b', 'b', 'b', 'b', 'b', 'b', 'b', 'b', 'b', 'b', 'b', 'b', 'b', 'b', 'b', 'b', 'b', 'b', 'b', 'b', 'b', 'b', 'b', 'b', 'b', 'b', 'b', 'b', 'b', 'b', 'b', 'b', 'b', 'b', 'b', 'b', 'b', 'b', 'e', 'b', 'b', 'b', 'b', 'b', 'b', 'b', 'b', 'b', 'b', 'b', 'b', 'b', 'b', 'b', 'b', 'b', 'b', 'b', 'b', 'b', 'b', 'b', 'b', 'b', 'b', 'b', 'b', 'b', 'b', 'b', 'b', 'b', 'b', 'b', 'b', 'b', 'b', 'b', 'b', 'b', 'b', 'b', 'b', 'b', 'b', 'b', 'b', 'b', 'b', 'b', 'b', 'b', 'b', 'b', 'b', 'b', 'b', 'b', 'b', 'b', 'b', 'b', 'b', 'b', 'b', 'b', 'b', 'b', 'b', 'b', 'b', 'b', 'b', 'b', 'b', 'b', 'b', 'b', 'b', 'b', 'b', 'b', 'b', 'b', 'b', 'b', 'b', 'b', 'b', 'b', 'b', 'b', 'b', 'b', 'b', 'b', 'b', 'b', 'b', 'b', 'b', 'b', 'b', 'b', 'b', 'b', 'b', 'b', 'b', 'b', 'b', 'b', 'b', 'b', 'b', 'b', 'b', 'b', 'b', 'b', 'b', 'b', 'b', 'b', 'b', 'b', 'b', 'b', 'b', 'b', 'b', 'b', 'b', 'b', 'b', 'b', 'b', 'b', 'b', 'b', 'b', 'b', 'b', 'b', 'b', 'b', 'b', 'b', 'b', 'b', 'b', 'b', 'b', 'b', 'b', 'b', 'b', 'b', 'b', 'b', 'b', 'b', 'b', 'b', 'b', 'b', 'b', 'b', 'b', 'b', 'b', 'b', 'b', 'b', 'b', 'b', 'b', 'b', 'b', 'b', 'b', 'b', 'b', 'b', 'b', 'b', 'b', 'b', 'b', 'b', 'b', 'b', 'b', 'b', 'b', 'b', 'b', 'b', 'b', 'b', 'b', 'b', 'b', 'b', 'b', 'b', 'b', 'b', 'b', 'b', 'b', 'b', 'b', 'b', 'b', 'b', 'b', 'b', 'b', 'b', 'b', 'b', 'b', 'b', 'b', 'b', 'b', 'b', 'b', 'b', 'b', 'b', 'b', 'b', 'b', 'b', 'b', 'b', 'b', 'b', 'b', 'b', 'b', 'b', 'b', 'b', 'b', 'b', 'b', 'b', 'b', 'b', 'b', 'b', 'b', 'b', 'b', 'b', 'b', 'b', 'b', 'b', 'b', 'b', 'b', 'b', 'b', 'b', 'b', 'b', 'b', 'b', 'b', 'b', 'b', 'b', 'b', 'b', 'b', 'b', 'b', 'b', 'b', 'b', 'b', 'b', 'b', 'b', 'b', 'b', 'b', 'b', 'b', 'b', 'b', 'b', 'b', 'b', 'b', 'b', 'b', 'b', 'b', 'b', 'b', 'b', 'b', 'b', 'b', 'b', 'b', 'b', 'b', 'b', 'b', 'b', 'b', 'b', 'b', 'b', 'b', 'b', 'b', 'b', 'b', 'b', 'b', 'b', 'b', 'b', 'b', 'b', 'b', 'b', 'b', 'b', 'b', 'b', 'b', 'b', 'b', 'b', 'b', 'b', 'b', 'b', 'b', 'b', 'b', 'b', 'b', 'b', 'b', 'b', 'b', 'b', 'b', 'b', 'b', 'b', 'b', 'b', 'b', 'b', 'b', 'b', 'b', 'b', 'b', 'b', 'b', 'b', 'b', 'b', 'b', 'b', 'b', 'b', 'b', 'b', 'b', 'b', 'b', 'b', 'b', 'b', 'b', 'b', 'b', 'b', 'b', 'b', 'b', 'b', 'b', 'b', 'b', 'b', 'b', 'b', 'b', 'b', 'b', 'b', 'b', 'b', 'b', 'b', 'b', 'b', 'b', 'b', 'b', 'b', 'b', 'b', 'b', 'b', 'b', 'b', 'b', 'b', 'b', 'b', 'b', 'b', 'b', 'b', 'b', 'b', 'b', 'b', 'b', 'b', 'b', 'b', 'b', 'b', 'b', 'b', 'b', 'b', 'b', 'b', 'b', 'b', 'b', 'b', 'b', 'b', 'b', 'b', 'b', 'b', 'b', 'b', 'b', 'b', 'b', 'b', 'b', 'b', 'b', 'b', 'b', 'b', 'b', 'b', 'b', 'b', 'b', 'b', 'b', 'b', 'b', 'b', 'b', 'b', 'b', 'b', 'b', 'b', 'b', 'b', 'b', 'b', 'b', 'b', 'b', 'b', 'b', 'b', 'b', 'b', 'b', 'b', 'b', 'b', 'b', 'b', 'b', 'b', 'b', 'b', 'b', 'b', 'b', 'b', 'b', 'b', 'b', 'b', 'b', 'b', 'b', 'b', 'b', 'b', 'b', 'b', 'b', 'b', 'b', 'b', 'b', 'b', 'b', 'b', 'b', 'b', 'b', 'b', 'b', 'b', 'b', 'b', 'b', 'b', 'b', 'b', 'b', 'b', 'b', 'b', 'b', 'b', 'b', 'b', 'b', 'b', 'b', 'b', 'b', 'b', 'b', 'b', 'b', 'b', 'b', 'b', 'b', 'b', 'b', 'b', 'b', 'b', 'b', 'b', 'b', 'b', 'b', 'b', 'b', 'b', 'b', 'b', 'b', 'b', 'b', 'b', 'b', 'b', 'b', 'b', 'b', 'b', 'b', 'b', 'b', 'b', 'b', 'b', 'b', 'b', 'b', 'b', 'b', 'b', 'b', 'b', 'b', 'b', 'b', 'b', 'b', 'b', 'b', 'b', 'b', 'b', 'b', 'b', 'b', 'b', 'b', 'b', 'b', 'b', 'b', 'b', 'b', 'b', 'b', 'b', 'b', 'b', 'b', 'b', 'b', 'b', 'b', 'b', 'b', 'b', 'b', 'b', 'b', 'b', 'b', 'b', 'b', 'b', 'b', 'b', 'b', 'b', 'b', 'b', 'b', 'b', 'b', 'b', 'b', 'b', 'b', 'b', 'b', 'b', 'b', 'b', 'b', 'b', 'b', 'b', 'b', 'b', 'b', 'b', 'b', 'b', 'b', 'b', 'b', 'b', 'b', 'b', 'b', 'b', 'b', 'b', 'b', 'b', 'b', 'b', 'b', 'b', 'b', 'b', 'b', 'b', 'b', 'b', 'b', 'b', 'b', 'b', 'b', 'b', 'b', 'b', 'b', 'b', 'b', 'b', 'b', 'b', 'b', 'b', 'b', 'b', 'b', 'b', 'b', 'b', 'b', 'b', 'b', 'b', 'b', 'b', 'b', 'b', 'b', 'b', 'b', 'b', 'b', 'b', 'b', 'b', 'b', 'b', 'b', 'b', 'b', 'b', 'b', 'b', 'b', 'b', 'b', 'b', 'b', 'b', 'b', 'b', 'b', 'b', 'b', 'b', 'b', 'b', 'b', 'b', 'b', 'b', 'b', 'b', 'b', 'b', 'b', 'b', 'b', 'b', 'b', 'b', 'b', 'b', 'b', 'b', 'b', 'b', 'b', 'b', 'b', 'b', 'b', 'b', 'b', 'b', 'b', 'b', 'b', 'b', 'b', 'b', 'b', 'b', 'b', 'b', 'b', 'b', 'b', 'b', 'b', 'b', 'b', 'b', 'b', 'b', 'b', 'b', 'b', 'b', 'b', 'b', 'b', 'b', 'b', 'b', 'b', 'b', 'b', 'b', 'b', 'b', 'b', 'b', 'b', 'b', 'b', 'b', 'b', 'b', 'b', 'b', 'b', 'b', 'b', 'b', 'b', 'b', 'b', 'b', 'b', 'b', 'b', 'b', 'b', 'b', 'b', 'b', 'b', 'b', 'b', 'b', 'b', 'b', 'b', 'b', 'b', 'b', 'b', 'b', 'b', 'b', 'b', 'b', 'b', 'b', 'b', 'b', 'b', 'b', 'b', 'b', 'b', 'b', 'b', 'b', 'b', 'b', 'b', 'b', 'b', 'b', 'b', 'b', 'b', 'b', 'b', 'b', 'b', 'b', 'b', 'b', 'b', 'b', 'b', 'b', 'b', 'b', 'b', 'b', 'b', 'b', 'b', 'b', 'b', 'b', 'b', 'b', 'b', 'b', 'b', 'b', 'b', 'b', 'b', 'b', 'b', 'b', 'b', 'b', 'b', 'b', 'b', 'b', 'b', 'b', 'b', 'b', 'b', 'b', 'b', 'b', 'b', 'b', 'b', 'b', 'b', 'b', 'b', 'b', 'b', 'b', 'b', 'b', 'b', 'b', 'b', 'b', 'b', 'b', 'b', 'b', 'b', 'b', 'b', 'b', 'b', 'b', 'b', 'b', 'b', 'b', 'b', 'b', 'b', 'b', 'b', 'b', 'b', 'b', 'b', 'b', 'b', 'b', 'b', 'b', 'b', 'b', 'b', 'b', 'b', 'b', 'b', 'b', 'b', 'b', 'b', 'b', 'b', 'b', 'b', 'b', 'b', 'b', 'b', 'b', 'b', 'b', 'b', 'b', 'b', 'b', 'b', 'b', 'b', 'b', 'b', 'b', 'b', 'b', 'b', 'b', 'b', 'b', 'b', 'b', 'b', 'b', 'b', 'b', 'b', 'b', nan, 'b', 'b', 'b', 'b', 'b', 'b', 'b', 'b', 'b', 'b', 'b', 'b', 'b', 'b', 'b', 'b', 'b', 'b', 'b', 'b', 'b', 'b', 'b', 'b', 'b', 'b', 'b', 'b', 'b', 'b', 'b', 'b', 'b', 'b', 'b', 'b', 'b', 'b', nan, 'b', 'b', 'b', 'b', 'b', 'b', 'b', 'b', 'b', 'b', 'b', 'b', 'b', 'b', 'b', 'b', 'b', 'b', 'b', 'b', 'b', 'b', 'b', 'b', 'b', 'b', 'b', 'b', 'b', 'b', 'b', 'b', 'b', 'b', 'b', 'b', 'b', 'b', 'b', 'b', 'b', 'b', 'b', 'b', 'b', 'b', 'b', 'b', 'b', 'b', 'b', 'b', nan, 'b', 'b', 'b', 'b', 'b', 'b', 'b', 'b', 'b', 'b', 'b', 'b', 'b', 'b', 'b', 'b', 'b', 'b', 'b', 'b', 'b', 'b', 'b', nan, 'b', 'b', 'b', nan, 'b', 'b', 'b', 'b', 'b', 'b', 'b', 'b', 'b', 'b', 'b', 'b', 'b', 'b', 'b', 'b', 'b', 'b', 'b', 'b', 'b', 'b', 'b', 'b', 'b', 'b', 'b', 'b', 'b', 'b', 'b', 'b', 'b', 'b', 'b', 'b', 'b', 'b', 'b', 'b', 'b', 'b', 'b', 'b', 'b', 'b', 'b', 'b', 'b', 'b', 'b', 'b', 'b', 'b', 'b', 'b', 'b', 'b', 'b', 'b', 'b', 'b', 'b', 'b', 'b', 'b', 'b', 'b', 'b', 'b', 'b', 'b', 'b', 'b', 'b', 'b', 'b', 'b', 'b', 'b', 'b', 'b', 'b', 'b', 'b', 'b', 'b', 'b', 'b', 'b', 'b', nan, 'b', 'b', 'b', nan, 'b', 'b', 'b', 'b', 'b', 'b', 'b', 'b', 'b', 'b', 'b', 'b', 'b', 'b', 'b', 'b', 'b', 'b', 'b', 'b', 'b', 'b', 'b', 'b', 'b', 'b', 'b', 'b', 'b', 'b', 'b', 'b', 'b', 'b', 'b', 'b', 'b', 'b', 'b', 'b', 'b', 'b', 'b', 'b', 'b', 'b', 'b', 'b', 'b', 'b', 'b', 'b', 'b', 'b', 'b', 'b', 'b', 'b', 'b', 'b', 'b', 'b', 'b', 'b', 'b', 'b', 'b', 'b', 'b', 'b', 'b', 'b', 'b', 'b', 'b', 'b', 'b', 'b', 'b', 'b', 'b', 'b', nan, 'b', 'b', 'b', 'b', 'b', 'b', 'b', nan, 'b', 'b', 'b', 'b', 'b', 'b', 'b', 'b', 'b', 'b', 'b', 'b', 'b', 'b', 'b', 'b', 'b', 'b', 'b', 'b', 'b', 'b', 'b', 'b', 'b', 'b', 'b', 'b', 'b', 'b', 'b', 'b', 'b', 'b', nan, 'b', 'b', nan, 'b', nan, 'b', 'b', 'b', 'b', 'b', 'b', 'b', 'b', 'b', 'b', 'b', 'b', 'b', 'b', 'b', 'b', 'b', 'b', 'b', 'b', 'b', 'b', 'b', 'b', 'b', nan, 'b', 'b', 'b', 'b', 'b', 'b', 'b', 'b', 'b', 'b', 'b', 'b', 'b', 'b', 'b', 'b', 'b', 'b', nan, 'b', 'b', 'b', nan, 'b', 'b', 'b', 'b', 'b', 'b', 'b', 'b', 'b', 'b', 'b', 'b', 'b', 'b', 'b', nan, 'b', 'b', 'b', 'b', 'b', 'b', 'b', 'b', 'b', 'b', 'b', 'b', 'b', 'b', 'b', 'b', 'b', 'b', 'b', 'b', 'b', 'b', nan, 'b', 'b', 'b', 'b', 'b', 'b', 'b', 'b', 'b', nan, 'b', 'b', 'b', 'b', 'b', 'b', 'b', 'b', 'b', 'b', 'b', 'b', 'b', 'b', 'b', 'b', 'b', 'b', 'b', 'b', 'b', 'b', 'b', 'b', 'b', 'b', 'b', 'b', 'b', nan, 'b', nan, 'b', 'b', 'b', 'b', 'b', 'b', 'b', 'b', 'b', 'b', 'b', 'b', 'b', 'b', 'b', 'b', 'b', 'b', 'b', 'b', 'b', 'b', 'b', 'b', 'b', 'b', 'b', 'b', 'b', 'b', 'b', 'b', nan, 'b', 'b', nan, nan, 'b', 'b', 'b', 'b', 'b', 'b', 'b', 'b', 'b', 'b', 'b', 'b', 'b', 'b', 'b', 'b', 'b', 'b', 'b', 'b', nan, 'b', 'b', nan, 'b', 'b', 'b', 'b', 'b', 'b', 'b', 'b', 'b', 'b', nan, nan, 'b', 'b', 'b', 'b', 'b', 'b', 'b', 'b', 'b', 'b', 'b', 'b', 'b', 'b', 'b', 'b', 'b', 'b', 'b', 'b', 'b', 'b', nan, 'b', 'b', 'b', 'b', 'b', 'b', 'b', 'b', 'b', 'b', 'b', 'b', 'b', 'b', 'b', 'b', 'b', 'b', 'b', 'b', 'b', 'b', 'b', 'b', 'b', 'b', 'b', 'b', 'b', 'b', 'b', 'b', 'b', 'b', 'b', 'b', 'b', 'b', 'b', 'b', 'b', 'b', 'b', 'b', 'b', 'b', 'b', 'b', 'b', 'b', 'b', 'b', nan, nan, 'b', 'b', 'b', 'b', 'b', 'b', 'b', 'b', 'b', 'b', 'b', 'b', 'b', 'b', 'b', 'b', 'b', 'b', 'b', 'b', 'b', 'b', 'b', 'b', 'b', 'b', 'b', 'b', 'b', 'b', 'b', 'b', 'b', 'b', 'b', nan, 'b', 'b', 'b', 'b', 'b', 'b', 'b', 'b', 'b', 'b', 'b', 'b', 'b', 'b', nan, nan, 'b', 'b', 'b', 'b', 'b', 'b', 'b', 'b', 'b', nan, 'b', 'b', 'b', 'b', 'b', 'b', 'b', 'b', 'b', 'b', 'b', 'b', 'b', 'b', 'b', 'b', 'b', 'b', 'b', 'b', 'b', 'b', 'b', 'b', 'b', 'b', 'b', 'b', 'b', 'b', 'b', 'b', 'b', 'b', 'b', 'b', 'b', 'b', 'b', 'b', 'b', 'b', 'b', nan, 'b', 'b', 'b', 'b', nan, 'b', 'b', 'b', 'b', 'b', 'b', 'b', 'b', 'b', 'b', 'b', 'b', 'b', 'b', 'b', 'b', 'b', 'b', 'b', 'b', 'b', 'b', 'b', 'b', 'b', 'b', 'b', 'b', 'b', 'b', 'b', 'b', 'b', 'b', 'b', 'b', 'b', 'b', 'b', 'b', 'b', 'b', 'b', 'b', 'b', 'b', 'b', 'b', 'b', 'b', 'b', 'b', 'b', 'b', nan, 'b', 'b', 'b', 'b', 'b', 'b', 'b', 'b', 'b', 'b', 'b', 'b', 'b', 'b', 'b', 'b', 'b', 'b', 'b', 'b', 'b', 'b', 'b', nan, 'b', 'b', 'b', 'b', nan, 'b', 'b', 'b', 'b', 'b', nan, 'b', nan, 'b', 'b', nan, 'b', 'b', 'b', 'b', 'b', 'b', nan, 'b', nan, 'b', 'b', 'b', 'b', nan, 'b', 'b', 'b', 'b', 'b', 'b', 'b', 'b', 'b', 'b', 'b', 'b', nan, 'b', nan, 'b', 'b', 'b', 'b', 'b', 'b', 'b', 'b', 'b', 'b', 'b', nan, nan, nan, 'b', 'b', 'b', 'b', 'b', 'b', 'b', 'b', nan, 'b', nan, 'b', 'b', 'b', 'b', 'b', 'b', 'b', 'b', 'b', 'b', 'b', 'b', nan, 'b', 'b', 'b', nan, 'b', 'b', 'b', 'b', 'b', 'b', 'b', 'b', 'b', nan, nan, 'b', 'b', 'b', nan, nan, 'b', 'b', 'b', 'b', 'b', 'b', nan, 'b', 'b', 'b', 'b', 'b', 'b', 'b', 'b', 'b', 'b', 'b', 'b', 'b', 'b', nan, 'b', 'b', 'b', 'b', nan, 'b', 'b', 'b', 'b', 'b', 'b', nan, nan, 'b', 'b', 'b', 'b', 'b', nan, nan, 'b', 'b', 'b', 'b', nan, 'b', 'b', 'b', 'b', 'b', 'b', 'b', 'b', 'b', 'b', 'b', 'b', nan, nan, nan, 'b', 'b', 'b', 'b', 'b', 'b', 'b', 'b', 'b', 'b', 'b', 'b', 'b', 'b', 'b', 'b', 'b', nan, 'b', nan, 'b', 'b', 'b', 'b', 'b', 'b', nan, 'b', 'b', nan, 'b', 'b', nan, 'b', nan, 'b', 'b', 'b', nan, 'b', 'b', 'b', 'b', nan, 'b', 'b', 'b', 'b', nan, 'b', 'b', 'b', 'b', 'b', 'b', 'b', nan, 'b', 'b', 'b', 'b', 'b', 'b', 'b', 'b', 'b', 'b', 'b', 'b', 'b', 'b', 'b', 'b', 'b', nan, 'b', 'b', 'b', 'b', 'b', 'b', 'b', 'b', 'b', nan, nan, nan, 'b', 'b', 'b', 'b', 'b', 'b', 'b', 'b', 'b', 'b', 'b', 'b', 'b', 'b', 'b', 'b', nan, nan, 'b', 'b', nan, 'b', 'b', 'b', 'b', 'b', 'b', 'b', 'b', 'b', 'b', nan, 'b', 'b', 'b', 'b', 'b', 'b', 'b', 'b', 'b', 'b', 'b', 'b', nan, 'b', 'b', nan, 'b', 'b', nan, nan, nan, 'b', 'b', 'b', 'b', 'b', 'b', nan, 'b', 'b', nan, 'b', 'b', 'b', 'b', 'b', 'b', 'b', 'b', 'b', 'b', 'b', 'b', 'b', 'b', nan, nan, nan, nan, nan, 'b', 'b', 'b', 'b', 'b', nan, nan, 'b', nan, nan, 'b', nan, 'b', nan, nan, nan, 'b', 'b', nan, nan, 'b', 'b', 'b', 'b', nan, 'b', nan, nan, 'b', 'b', nan, 'b', nan, nan, 'b', 'b', 'b', 'b', 'b', nan, nan, 'b', 'b', nan, 'b', 'b', 'b', 'b', 'b', 'b', nan, 'b', nan, 'b', 'b', 'b', nan, nan, nan, 'b', 'b', nan, 'b', 'b', 'b', 'b', nan, 'b', 'b', nan, nan, 'b', nan, 'b', nan, 'b', nan, 'b', 'b', 'b', nan, 'b', nan, nan, 'b', nan, 'b', nan, nan, 'b', nan, nan, 'b', nan, nan, 'b', 'b', nan, 'b', 'b', 'b', 'b', 'b', nan, 'b', nan, 'b', nan, 'b', nan, 'b', 'b', 'b', 'b', 'b', 'b', nan, 'b', 'b', 'b', 'b', nan, 'b', nan, 'b', 'b', nan, 'b', nan, nan, nan, nan, 'b', nan, 'b', nan, 'b', 'b', nan, 'b', 'b', nan, 'b', 'b', nan, 'b', 'b', nan, nan, nan, 'b', nan, 'b', 'b', 'b', nan, nan, 'b', 'b', nan, 'b', nan, 'b', 'b', 'b', 'b', nan, 'b', nan, nan, nan, 'b', nan, nan, nan, nan, nan, nan, 'b', 'b', nan, 'b', 'b', 'b', 'b', nan, 'b', 'b', nan, nan, nan, 'b', nan, 'b', 'b', 'b', nan, 'b', 'b', 'b', 'b', nan, 'b', 'b', nan, 'b', nan, 'b', 'b', 'b', nan, 'b', 'b', 'b', 'b', nan, 'b', 'b', nan, 'b', 'b', 'b', 'b', 'b', nan, nan, nan, 'b', 'b', nan, 'b', 'b', 'b', 'b', 'b', nan, 'b', 'b', 'b', nan, 'b', 'b', nan, nan, 'b', 'b', nan, 'b', 'b', nan, 'b', nan, 'b', nan, nan, 'b', nan, 'b', nan, 'b', 'b', 'b', nan, 'b', 'b', 'b', nan, 'b', nan, 'b', 'b', 'b', 'b', 'b', 'b', nan, 'b', nan, 'b', nan, nan, nan, 'b', 'b', nan, nan, 'b', 'b', 'b', 'b', 'b', 'b', 'b', 'b', nan, 'b', nan, 'b', 'b', 'b', nan, 'b', 'b', 'b', nan, nan, 'b', nan, 'b', 'b', nan, 'b', nan, 'b', 'b', 'b', 'b', 'b', 'b', 'b', 'b', 'b', 'b', 'b', 'b', nan, 'b', nan, 'b', nan, nan, 'b', 'b', nan, 'b', nan, 'b', nan, 'b', 'b', 'b', 'b', 'b', nan, 'b', nan, 'b', nan, 'b', 'b', 'b', nan, 'b', nan, 'b', 'b', nan, 'b', 'b', 'b', 'b', nan, 'b', 'b', 'b', nan, nan, nan, nan, 'b', 'b', nan, 'b', 'b', 'b', nan, 'b', nan, nan, nan, 'b', nan, 'b', nan, 'b', nan, 'b', 'b', 'b', nan, 'b', 'b', nan, nan, nan, 'b', 'b', nan, nan, nan, nan, nan, nan, 'b', nan, 'b', 'b', 'b', nan, 'b', 'b', 'b', 'b', nan, 'b', nan, 'b', nan, nan, 'b', nan, nan, nan, nan, 'b', 'b', nan, nan, 'b', 'b', 'b', 'b', 'b', nan, nan, 'b', 'b', nan, 'b', 'b', nan, 'b', 'b', nan, 'b', nan, 'b', nan, 'b', nan, nan, 'b', nan, nan, nan, 'b', 'b', 'b', nan, nan, nan, 'b', 'b', nan, nan, 'b', nan, nan, nan, 'b', nan, 'b', 'b', 'b', 'b', 'b', nan, 'b', nan, nan, 'b', 'b', 'b', nan, 'b', 'b', nan, nan, nan, 'b', 'b', 'b', nan, 'b', 'b', 'b', 'b', 'b', nan, 'b', 'b', 'b', nan, 'b', nan, nan, 'b', 'b', nan, nan, 'b', 'b', 'b', nan, 'b', 'b', nan, nan, 'b', 'b', 'b', 'b', 'b', nan, 'b', nan, 'b', 'b', 'b', 'b', 'b', 'b', nan, nan, 'b', 'b', 'b', nan, nan, 'b', 'b', 'b', 'b', nan, nan, nan, nan, nan, 'b', 'b', nan, 'b', 'b', 'b', nan, nan, nan, 'b', nan, nan, 'b', nan, nan, 'b', 'b', 'b', 'b', 'b', nan, 'b', 'b', 'b', 'b', nan, 'b', nan, 'b', nan, nan, nan, 'b', 'b', 'b', nan, nan, nan, nan, 'b', nan, 'b', 'b', 'b', 'b', 'b', 'b', nan, nan, nan, nan, 'b', nan, nan, 'b', 'b', 'b', nan, 'b', nan, 'b', nan, 'b', 'b', 'b', 'b', 'b', 'b', 'b', 'b', nan, nan, 'b', nan, nan, 'b', 'b', nan, 'b', 'b', nan, 'b', 'b', nan, nan, nan, nan, nan, 'b', nan, 'b', 'b', 'b', nan, 'b', nan, nan, nan, 'b', nan, 'b', 'b', 'b', nan, 'b', 'b', nan, 'b', 'b', 'b', 'b', 'b', 'b', 'b', 'b', nan, nan, nan, 'b', 'b', 'b', 'b', 'b', nan, 'b', 'b', nan, 'b', 'b', 'b', 'b', nan, nan, nan, 'b', nan, nan, 'b', 'b', nan, 'b', 'b', nan, 'b', nan, 'b', 'b', nan, 'b', 'b', nan, nan, nan, nan, 'b', nan, 'b', 'b', 'b', 'b', 'b', 'b', 'b', nan, 'b', nan, nan, 'b', 'b', 'b', nan, 'b', 'b', 'b', nan, nan, nan, nan, 'b', nan, nan, nan, 'b', 'b', nan, nan, 'b', nan, nan, 'b', nan, nan, 'b', 'b', nan, 'b', 'b', 'b', 'b', nan, nan, 'b', nan, 'b', 'b', 'b', 'b', nan, 'b', nan, nan, nan, 'b', 'b', nan, 'b', nan, 'b', 'b', 'b', 'b', 'b', nan, nan, 'b', 'b', 'b', 'b', 'b', nan, nan, 'b', nan, nan, 'b', 'b', 'b', 'b', 'b', 'b', 'b', 'b', 'b', 'b', nan, 'b', nan, nan, nan, nan, 'b', nan, 'b', nan, nan, nan, 'b', 'b', 'b', 'b', nan, 'b', 'b', 'b', nan, 'b', 'b', 'b', 'b', nan, 'b', nan, nan, 'b', 'b', 'b', nan, nan, 'b', 'b', nan, 'b', nan, 'b', 'b', 'b', nan, nan, 'b', nan, 'b', 'b', nan, 'b', 'b', 'b', nan, 'b', 'b', 'b', 'b', nan, 'b', 'b', 'b', nan, 'b', nan, 'b', 'b', nan, nan, nan, nan, 'b', 'b', nan, nan, nan, nan, nan, nan, nan, nan, nan, nan, nan, nan, nan, nan, nan, nan, nan, nan, nan, nan, nan, nan, nan, nan, nan, nan, nan, nan, nan, nan, nan, nan, nan, nan, nan, nan, nan, nan, nan, nan, nan, nan, nan, nan, nan, nan, nan, nan, nan, nan, nan, nan, nan, nan, nan, nan, nan, nan, nan, nan, nan, nan, nan, nan, nan, nan, nan, nan, nan, nan, nan, nan, nan, nan, nan, nan, nan, nan, nan, nan, nan, nan, nan, nan, nan, nan, nan, nan, nan, nan, nan, nan, nan, nan, nan, nan, nan, nan, nan, nan, nan, nan, nan, nan, nan, nan, nan, nan, nan, nan, nan, nan, nan, nan, nan, nan, nan, nan, nan, nan, 'b', nan, nan, nan, nan, nan, nan, nan, nan, nan, nan, nan, nan, nan, nan, nan, nan, nan, nan, nan, nan, nan, nan, nan, nan, nan, nan, nan, nan, nan, nan, nan, nan, nan, nan, nan, nan, nan, nan, nan, nan, nan, nan, nan, nan, nan, nan, nan, nan, nan, nan, nan, nan, nan, nan, nan, nan, nan, nan, nan, nan, nan, nan, nan, nan, nan, nan, nan, nan, nan, nan, nan, nan, nan, nan, nan, nan, nan, nan, nan, nan, nan, nan, nan, nan, nan, nan, nan, nan, nan, nan, nan, nan, nan, nan, nan, nan, nan, nan, nan, nan, nan, nan, nan, nan, nan, nan, nan, nan, nan, nan, nan, nan, nan, nan, nan, nan, nan, nan, nan, nan, nan, nan, nan, nan, nan, nan, nan, nan, nan, nan, nan, nan, nan, nan, nan, nan, nan, nan, nan, nan, nan, nan, nan, nan, nan, nan, nan, nan, nan, nan, nan, nan, nan, nan, nan, nan, nan, nan, nan, nan, nan, nan, nan, nan, nan, nan, nan, nan, nan, nan, nan, nan, nan, nan, nan, nan, nan, nan, nan, nan, nan, nan, nan, nan, nan, nan, nan, nan, nan, nan, nan, nan, nan, nan, nan, nan, nan, nan, nan, nan, nan, nan, nan, nan, nan, nan, nan, nan, nan, nan, nan, nan, nan, nan, nan, nan, nan, nan, nan, nan, nan, nan, nan, nan, nan, nan, nan, nan, nan, nan, nan, nan, nan, nan, nan, nan, nan, nan, nan, nan, nan, nan, nan, nan, nan, nan, nan, nan, nan, nan, nan, nan, nan, nan, nan, nan, nan, nan, nan, nan, nan, nan, nan, nan, nan, nan, nan, nan, nan, nan, nan, nan, nan, nan, nan, nan, nan, nan, nan, nan, nan, nan, nan, nan, nan, nan, nan, nan, nan, nan, nan, nan, nan, nan, 'c', nan, nan, nan, nan, nan, nan, nan, nan, nan, nan, nan, nan, nan, nan, nan, nan, nan, nan, nan, nan, nan, nan, nan, nan, nan, nan, nan, nan, nan, nan, nan, nan, nan, nan, nan, nan, nan, nan, nan, nan, nan, nan, nan, nan, nan, nan, nan, nan, nan, nan, nan, nan, nan, nan, nan, nan, nan, nan, nan, nan, nan, nan, nan, nan, nan, nan, nan, nan, nan, nan, nan, nan, nan, nan, nan, nan, nan, nan, nan, nan, nan, nan, nan, nan, nan, nan, nan, nan, nan, nan, nan, nan, nan, nan, nan, nan, nan, nan, nan, nan, nan, nan, nan, nan, nan, nan, nan, nan, nan, nan, nan, nan, nan, nan, nan, nan, nan, nan, nan, nan, nan, nan, nan, nan, nan, nan, nan, nan, nan, nan, nan, nan, nan, nan, nan, nan, nan, nan, nan, nan, nan, nan, nan, nan, nan, nan, nan, nan, nan, nan, nan, nan, nan, nan, nan, nan, nan, nan, nan, nan, nan, nan, nan, nan, nan, nan, nan, nan, nan, nan, nan, nan, nan, nan, nan, nan, nan, nan, nan, nan, nan, nan, nan, nan, nan, nan, nan, nan, nan, nan, nan, nan, nan, nan, nan, nan, nan, nan, nan, nan, nan, nan, nan, nan, nan, nan, nan, nan, nan, nan, nan, nan, nan, nan, nan, nan, nan, nan, nan, nan, nan, nan, nan, nan, nan, nan, nan, nan, nan, nan, nan, nan, nan, nan, nan, nan, nan, nan, nan, nan, nan, nan, nan, nan, nan, nan, nan, nan, nan, nan, nan, nan, 'c', nan, nan, nan, nan, nan, nan, nan, nan, nan, nan, nan, nan, nan, nan, nan, nan, nan, nan, nan, nan, nan, nan, nan, nan, nan, nan, nan, nan, nan, nan, nan, nan, nan, nan, nan, nan, nan, nan, nan, nan, nan, nan, nan, nan, nan, nan, nan, nan, nan, nan, nan, nan, nan, nan, nan, nan, nan, nan, nan, nan, nan, nan, nan, nan, nan, nan, nan, nan, nan, nan, nan, nan, nan, nan, nan, nan, nan, nan, nan, nan, nan, nan, nan, nan, nan, nan, nan, nan, nan, nan, nan, nan, nan, nan, nan, nan, nan, nan, nan, nan, nan, nan, nan, nan, nan, nan, nan, nan, nan, nan, nan, nan, nan, nan, nan, nan, nan, nan, nan, nan, nan, nan, nan, nan, nan, nan, nan, nan, nan, nan, nan, nan, nan, nan, nan, nan, nan, nan, nan, nan, nan, nan, nan, nan, nan, nan, nan, nan, nan, nan, nan, nan, nan, nan, nan, nan, nan, nan, nan, nan, nan, nan, nan, nan, nan, nan, nan, nan, nan, nan, nan, nan, nan, nan, nan, nan, nan, nan, nan, nan, nan, nan, nan, nan, nan, nan, 'c', nan, nan, nan, nan, nan, nan, nan, nan, nan, nan, nan, nan, nan, nan, nan, nan, nan, nan, nan, nan, nan, nan, nan, nan, nan, nan, nan, nan, nan, nan, nan, nan, nan, nan, nan, nan, nan, nan, nan, nan, nan, nan, nan, nan, nan, nan, nan, nan, 'b', nan, nan, nan, nan, nan, nan, nan, 'c', nan, nan, nan, nan, nan, nan, nan, nan, nan, nan, nan, nan, nan, nan, nan, 'b', nan, nan, nan, nan, nan, nan, nan, nan, nan, nan, nan, nan, 'b', nan, nan, nan, 'c', nan, nan, nan, nan, nan, nan, nan, nan, nan, nan, nan, nan, nan, nan, nan, nan, nan, nan, nan, nan, nan, 'b', nan, nan, 'b', nan, nan, nan, nan, nan, nan, nan, nan, nan, nan, nan, nan, nan, 'b', nan, nan, nan, nan, nan, nan, 'c', nan, nan, nan, nan, nan, nan, nan, nan, nan, nan, nan, nan, nan, nan, nan, nan, nan, nan, nan, nan, nan, nan, nan, nan, nan, nan, nan, nan, nan, nan, 'b', nan, nan, nan, nan, nan, nan, nan, nan, nan, nan, nan, 'c', nan, nan, nan, nan, nan, nan, nan, nan, nan, nan, nan, nan, nan, nan, nan, nan, nan, nan, nan, nan, nan, nan, nan, nan, nan, nan, nan, nan, 'b', nan, 'c', nan, nan, nan, nan, nan, nan, nan, 'b', nan, nan, nan, nan, nan, nan, nan, nan, nan, nan, nan, nan, nan, nan, nan, nan, nan, 'c', nan, nan, nan, nan, nan, nan, nan, nan, 'c', nan, nan, nan, nan, nan, nan, nan, nan, nan, nan, 'c', nan, nan, nan, nan, 'b', nan, nan, nan, nan, nan, nan, nan, nan, nan, nan, nan, nan, nan, nan, nan, nan, nan, nan, nan, nan, nan, nan, nan, nan, nan, nan, nan, nan, nan, 'c', nan, nan, nan, nan, nan, nan, nan, nan, nan, nan, nan, nan, nan, nan, nan, nan, nan, nan, nan, 'c', nan, nan, nan, nan, nan, nan, nan, nan, nan, nan, nan, nan, nan, nan, 'b', nan, nan, nan, nan, nan, nan, nan, nan, nan, nan, nan, nan, nan, 'b', nan, nan, nan, nan, nan, nan, nan, nan, nan, nan, nan, nan, nan, nan, nan, nan, nan, nan, nan, nan, nan, nan, nan, nan, nan, nan, nan, nan, nan, nan, nan, nan, nan, nan, 'c', nan, nan, nan, nan, nan, nan, nan, nan, nan, nan, nan, nan, nan, nan, nan, nan, nan, nan, nan, nan, nan, nan, nan, nan, nan, nan, nan, nan, nan, nan, nan, nan, nan, nan, 'c', nan, nan, nan, nan, nan, nan, nan, nan, nan, nan, nan, nan, nan, nan, nan, nan, nan, nan, nan, 'c', nan, nan, nan, nan, nan, nan, 'b', nan, nan, 'c', nan, nan, nan, nan, 'b', nan, nan, nan, nan, nan, nan, nan, nan, nan, nan, nan, nan, nan, nan, nan, nan, nan, nan, nan, nan, nan, nan, 'c', nan, nan, nan, nan, nan, nan, nan, nan, nan, nan, nan, nan, 'c', nan, nan, nan, nan, nan, 'c', nan, nan, nan, nan, nan, nan, nan, nan, nan, nan, 'b', nan, nan, nan, nan, nan, nan, 'b', nan, nan, nan, nan, nan, nan, 'c', 'c', nan, 'b', nan, nan, nan, nan, nan, nan, 'b', nan, nan, nan, nan, nan, nan, nan, nan, 'c', nan, nan, nan, nan, nan, nan, nan, nan, nan, nan, nan, nan, nan, nan, 'c', nan, nan, nan, nan, nan, nan, nan, nan, nan, nan, nan, nan, nan, 'b', nan, nan, nan, nan, nan, nan, 'b', nan, nan, nan, nan, nan, nan, nan, nan, nan, nan, nan, nan, nan, nan, nan, nan, nan, nan, nan, nan, 'b', nan, nan, nan, nan, nan, 'b', nan, nan, nan, nan, nan, nan, nan, nan, nan, nan, nan, nan, nan, nan, nan, nan, nan, nan, nan, 'c', nan, nan, nan, nan, nan, nan, nan, nan, nan, nan, 'c', 'b', nan, 'c', nan, 'c', nan, nan, nan, nan, nan, nan, nan, nan, nan, nan, nan, nan, nan, nan, nan, nan, nan, nan, nan, nan, nan, nan, nan, nan, nan, nan, nan, nan, nan, nan, nan, nan, nan, nan, nan, nan, nan, nan, nan, nan, nan, nan, nan, nan, nan, nan, nan, 'b', nan, nan, 'c', nan, nan, nan, nan, nan, nan, nan, nan, nan, nan, nan, 'b', nan, nan, nan, nan, nan, nan, nan, nan, nan, nan, nan, nan, nan, nan, nan, nan, nan, nan, nan, nan, nan, 'b', nan, nan, nan, nan, nan, nan, nan, nan, nan, nan, nan, nan, nan, nan, nan, nan, nan, nan, nan, nan, nan, nan, nan, nan, nan, nan, 'b', nan, nan, 'c', nan, 'b', nan, nan, nan, nan, nan, nan, nan, nan, nan, nan, nan, nan, nan, nan, nan, nan, nan, nan, nan, nan, nan, nan, nan, nan, nan, nan, nan, nan, nan, nan, nan, nan, 'c', nan, nan, nan, nan, nan, nan, nan, nan, nan, nan, nan, nan, nan, nan, nan, nan, nan, nan, nan, nan, nan, nan, nan, nan, nan, nan, nan, nan, nan, nan, nan, nan, nan, nan, nan, nan, nan, 'b', nan, nan, nan, nan, nan, nan, nan, nan, nan, nan, nan, nan, nan, nan, nan, nan, nan, nan, nan, nan, nan, nan, nan, nan, nan, nan, nan, nan, 'b', nan, 'b', 'b', 'c', nan, nan, 'c', nan, nan, nan, nan, 'c', nan, nan, 'b', nan, nan, nan, 'b', nan, nan, nan, nan, nan, 'c', nan, nan, nan, nan, nan, nan, nan, nan, nan, nan, nan, 'c', nan, nan, nan, nan, nan, nan, nan, nan, nan, nan, nan, nan, nan, nan, nan, nan, nan, nan, nan, nan, nan, nan, nan, nan, nan, nan, nan, nan, nan, nan, nan, nan, nan, nan, nan, nan, nan, nan, nan, 'b', nan, nan, nan, nan, nan, nan, nan, nan, nan, nan, nan, nan, nan, nan, nan, nan, nan, nan, nan, nan, nan, 'c', nan, nan, nan, 'c', nan, nan, nan, nan, nan, nan, nan, nan, nan, nan, nan, nan, nan, nan, 'c', nan, nan, nan, nan, nan, nan, nan, nan, nan, nan, nan, nan, nan, nan, nan, nan, nan, nan, nan, nan, nan, nan, nan, nan, nan, nan, nan, nan, nan, nan, nan, nan, nan, nan, nan, nan, nan, nan, nan, nan, nan, nan, nan, nan, nan, nan, nan, nan, nan, nan, nan, nan, nan, nan, nan, nan, nan, nan, nan, nan, nan, nan, nan, nan, nan, nan, 'b', nan, nan, nan, nan, nan, nan, nan, nan, nan, nan, 'b', nan, nan, nan, nan, nan, nan, nan, nan, nan, nan, nan, 'c', nan, nan, nan, nan, nan, nan, nan, nan, 'b', nan, nan, nan, nan, nan, nan, nan, nan, nan, nan, nan, 'b', nan, nan, nan, nan, nan, nan, nan, nan, 'b', 'c', nan, nan, nan, nan, 'b', nan, nan, nan, nan, nan, 'b', nan, nan, nan, nan, nan, nan, nan, nan, nan, nan, nan, nan, 'b', nan, nan, nan, nan, nan, nan, nan, nan, nan, nan, nan, nan, nan, nan, nan, 'c', nan, nan, 'b', nan, 'b', nan, nan, nan, nan, nan, nan, nan, nan, nan, nan, nan, nan, nan, nan, 'b', nan, nan, nan, nan, nan, nan, nan, nan, nan, nan, nan, nan, nan, nan, nan, nan, nan, nan, nan, nan, nan, nan, nan, nan, nan, nan, nan, nan, nan, nan, nan, nan, nan, nan, nan, nan, 'b', nan, nan, nan, nan, nan, nan, nan, nan, nan, nan, nan, nan, nan, nan, nan, nan, nan, nan, nan, nan, nan, nan, nan, nan, nan, nan, nan, nan, nan, nan, nan, nan, nan, nan, nan, nan, nan, nan, nan, nan, nan, nan, nan, nan, nan, nan, nan, nan, nan, nan, nan, nan, nan, nan, nan, nan, 'c', nan, nan, nan, nan, nan, nan, nan, nan, nan, nan, nan, nan, nan, nan, nan, nan, nan, nan, 'c', nan, nan, nan, nan, nan, nan, nan, nan, nan]\n",
      "\n",
      "Lista de valores secuenciales al valor aleatorio propuesto sin valores faltantes:\n",
      "5375 ['e', 'c', 'e', 'c', 'c', 'r', 'r', 'r', 'c', 'e', 'c', 'e', 'c', 'e', 'c', 'c', 'r', 'c', 'c', 'r', 'e', 'e', 'c', 'c', 'c', 'c', 'c', 'c', 'e', 'b', 'e', 'e', 'c', 'b', 'c', 'c', 'b', 'c', 'c', 'r', 'e', 'c', 'e', 'c', 'b', 'c', 'e', 'b', 'c', 'b', 'b', 'c', 'b', 'c', 'c', 'r', 'c', 'c', 'e', 'c', 'c', 'e', 'c', 'c', 'c', 'c', 'b', 'r', 'c', 'e', 'r', 'c', 'c', 'c', 'b', 'c', 'e', 'b', 'c', 'e', 'e', 'e', 'r', 'c', 'c', 'r', 'e', 'r', 'e', 'r', 'c', 'e', 'e', 'e', 'r', 'c', 'e', 'r', 'b', 'c', 'e', 'r', 'r', 'c', 'e', 'c', 'c', 'e', 'c', 'c', 'c', 'e', 'e', 'c', 'c', 'b', 'e', 'r', 'e', 'c', 'c', 'c', 'c', 'c', 'e', 'r', 'e', 'c', 'c', 'e', 'e', 'c', 'c', 'e', 'c', 'c', 'c', 'c', 'c', 'c', 'r', 'c', 'e', 'r', 'r', 'e', 'c', 'b', 'e', 'c', 'e', 'c', 'c', 'e', 'r', 'c', 'b', 'r', 'c', 'e', 'e', 'c', 'r', 'c', 'c', 'b', 'c', 'b', 'c', 'c', 'r', 'c', 'c', 'r', 'c', 'c', 'r', 'c', 'r', 'c', 'b', 'c', 'c', 'c', 'b', 'c', 'e', 'c', 'c', 'r', 'r', 'c', 'r', 'c', 'c', 'e', 'r', 'c', 'c', 'c', 'r', 'c', 'c', 'b', 'e', 'b', 'e', 'e', 'c', 'b', 'c', 'c', 'c', 'b', 'e', 'b', 'r', 'c', 'e', 'r', 'r', 'b', 'e', 'e', 'r', 'r', 'c', 'e', 'r', 'c', 'c', 'c', 'c', 'c', 'c', 'c', 'e', 'e', 'e', 'b', 'e', 'e', 'c', 'b', 'e', 'e', 'e', 'r', 'c', 'c', 'c', 'c', 'c', 'r', 'e', 'e', 'c', 'r', 'c', 'e', 'r', 'r', 'c', 'e', 'r', 'e', 'e', 'c', 'e', 'c', 'b', 'c', 'e', 'e', 'r', 'e', 'c', 'c', 'e', 'b', 'c', 'e', 'e', 'r', 'b', 'c', 'r', 'e', 'b', 'c', 'c', 'c', 'b', 'b', 'e', 'c', 'e', 'c', 'e', 'e', 'c', 'c', 'b', 'c', 'c', 'r', 'c', 'e', 'c', 'r', 'e', 'c', 'c', 'c', 'r', 'r', 'c', 'e', 'e', 'e', 'c', 'e', 'e', 'c', 'e', 'c', 'e', 'c', 'c', 'e', 'e', 'e', 'r', 'e', 'r', 'c', 'c', 'e', 'r', 'c', 'e', 'e', 'e', 'e', 'e', 'r', 'c', 'e', 'c', 'c', 'e', 'r', 'c', 'b', 'r', 'e', 'c', 'b', 'e', 'c', 'c', 'e', 'c', 'b', 'r', 'r', 'c', 'r', 'c', 'e', 'c', 'c', 'r', 'r', 'r', 'r', 'b', 'c', 'c', 'c', 'b', 'c', 'c', 'r', 'e', 'e', 'c', 'e', 'c', 'r', 'e', 'c', 'c', 'e', 'e', 'c', 'c', 'r', 'r', 'r', 'c', 'c', 'e', 'e', 'b', 'r', 'e', 'e', 'r', 'r', 'c', 'b', 'c', 'b', 'c', 'b', 'c', 'e', 'c', 'c', 'c', 'c', 'c', 'r', 'e', 'e', 'c', 'c', 'e', 'e', 'e', 'e', 'e', 'r', 'c', 'r', 'r', 'c', 'e', 'c', 'c', 'r', 'e', 'c', 'c', 'c', 'c', 'c', 'r', 'r', 'e', 'r', 'c', 'b', 'e', 'r', 'e', 'c', 'e', 'c', 'c', 'r', 'e', 'e', 'e', 'c', 'c', 'b', 'e', 'c', 'e', 'e', 'c', 'r', 'c', 'r', 'c', 'c', 'c', 'e', 'b', 'r', 'c', 'b', 'c', 'c', 'c', 'r', 'e', 'c', 'r', 'c', 'r', 'c', 'e', 'r', 'e', 'b', 'e', 'c', 'c', 'c', 'c', 'c', 'b', 'e', 'r', 'e', 'r', 'c', 'c', 'c', 'e', 'c', 'c', 'c', 'e', 'e', 'c', 'e', 'r', 'c', 'r', 'c', 'c', 'e', 'e', 'c', 'e', 'e', 'r', 'c', 'c', 'e', 'c', 'c', 'r', 'c', 'r', 'c', 'b', 'c', 'c', 'e', 'e', 'e', 'c', 'r', 'r', 'b', 'c', 'c', 'e', 'c', 'c', 'r', 'c', 'b', 'b', 'c', 'b', 'e', 'b', 'r', 'r', 'r', 'e', 'c', 'e', 'c', 'c', 'b', 'e', 'c', 'e', 'c', 'e', 'c', 'c', 'c', 'b', 'c', 'r', 'e', 'e', 'e', 'r', 'b', 'c', 'c', 'e', 'r', 'c', 'r', 'c', 'c', 'c', 'e', 'r', 'e', 'c', 'r', 'c', 'c', 'b', 'c', 'r', 'c', 'c', 'r', 'c', 'b', 'e', 'c', 'c', 'r', 'b', 'c', 'r', 'r', 'c', 'b', 'r', 'c', 'c', 'c', 'r', 'c', 'c', 'c', 'c', 'r', 'e', 'e', 'e', 'c', 'e', 'e', 'e', 'e', 'e', 'c', 'e', 'c', 'e', 'e', 'c', 'c', 'b', 'e', 'e', 'e', 'e', 'c', 'b', 'e', 'e', 'e', 'e', 'e', 'c', 'e', 'e', 'e', 'c', 'e', 'e', 'c', 'e', 'e', 'b', 'c', 'e', 'e', 'e', 'b', 'e', 'e', 'c', 'e', 'e', 'e', 'c', 'e', 'e', 'e', 'c', 'e', 'b', 'b', 'c', 'e', 'e', 'b', 'b', 'e', 'e', 'e', 'b', 'e', 'e', 'e', 'b', 'b', 'e', 'b', 'e', 'c', 'b', 'c', 'e', 'b', 'c', 'e', 'e', 'e', 'e', 'e', 'e', 'e', 'c', 'c', 'e', 'e', 'e', 'e', 'e', 'c', 'b', 'c', 'e', 'b', 'r', 'e', 'e', 'r', 'e', 'e', 'e', 'e', 'c', 'c', 'e', 'r', 'e', 'e', 'b', 'r', 'b', 'e', 'b', 'e', 'c', 'c', 'c', 'e', 'e', 'e', 'b', 'c', 'e', 'b', 'e', 'e', 'e', 'e', 'e', 'c', 'b', 'e', 'e', 'r', 'r', 'e', 'b', 'e', 'c', 'e', 'e', 'b', 'e', 'b', 'b', 'e', 'r', 'e', 'c', 'b', 'e', 'c', 'e', 'e', 'b', 'e', 'e', 'e', 'b', 'c', 'e', 'b', 'r', 'e', 'e', 'c', 'b', 'r', 'e', 'e', 'e', 'e', 'r', 'e', 'e', 'c', 'e', 'c', 'e', 'c', 'c', 'e', 'c', 'e', 'r', 'e', 'b', 'e', 'e', 'e', 'e', 'e', 'e', 'e', 'e', 'e', 'e', 'e', 'e', 'e', 'e', 'c', 'e', 'e', 'e', 'r', 'e', 'r', 'e', 'e', 'e', 'e', 'e', 'e', 'e', 'e', 'b', 'b', 'e', 'e', 'c', 'e', 'e', 'e', 'e', 'e', 'e', 'c', 'e', 'b', 'c', 'e', 'e', 'e', 'b', 'e', 'e', 'e', 'e', 'e', 'e', 'e', 'e', 'e', 'r', 'e', 'e', 'e', 'c', 'e', 'e', 'e', 'e', 'c', 'e', 'b', 'r', 'e', 'c', 'e', 'b', 'e', 'c', 'e', 'b', 'e', 'e', 'e', 'e', 'c', 'e', 'e', 'r', 'r', 'r', 'e', 'c', 'c', 'e', 'e', 'e', 'c', 'e', 'e', 'c', 'b', 'r', 'c', 'e', 'e', 'c', 'c', 'c', 'c', 'c', 'c', 'e', 'e', 'e', 'e', 'e', 'e', 'e', 'e', 'e', 'r', 'e', 'e', 'e', 'e', 'e', 'e', 'e', 'r', 'e', 'e', 'e', 'e', 'e', 'b', 'e', 'e', 'b', 'e', 'e', 'e', 'e', 'e', 'e', 'e', 'e', 'e', 'e', 'e', 'e', 'e', 'e', 'e', 'e', 'e', 'e', 'e', 'e', 'b', 'b', 'e', 'e', 'e', 'e', 'e', 'e', 'e', 'e', 'e', 'e', 'e', 'e', 'b', 'e', 'e', 'e', 'e', 'b', 'e', 'e', 'e', 'e', 'e', 'e', 'e', 'e', 'e', 'e', 'c', 'e', 'e', 'e', 'e', 'e', 'e', 'e', 'b', 'e', 'b', 'e', 'e', 'e', 'e', 'e', 'b', 'e', 'r', 'e', 'e', 'e', 'e', 'b', 'e', 'e', 'e', 'e', 'e', 'e', 'e', 'e', 'e', 'e', 'c', 'e', 'e', 'b', 'c', 'e', 'b', 'e', 'e', 'e', 'e', 'e', 'c', 'e', 'e', 'e', 'e', 'e', 'e', 'e', 'e', 'b', 'e', 'b', 'c', 'e', 'e', 'e', 'e', 'b', 'e', 'e', 'e', 'e', 'b', 'b', 'b', 'e', 'e', 'e', 'e', 'e', 'e', 'e', 'e', 'e', 'e', 'e', 'e', 'e', 'e', 'e', 'e', 'e', 'b', 'e', 'e', 'e', 'e', 'c', 'e', 'e', 'e', 'e', 'e', 'e', 'e', 'e', 'e', 'e', 'e', 'e', 'e', 'b', 'b', 'e', 'b', 'e', 'e', 'e', 'e', 'b', 'e', 'e', 'e', 'e', 'e', 'r', 'b', 'e', 'e', 'e', 'e', 'e', 'e', 'e', 'e', 'e', 'e', 'e', 'e', 'e', 'c', 'e', 'e', 'e', 'e', 'e', 'b', 'e', 'e', 'e', 'e', 'e', 'r', 'e', 'e', 'b', 'e', 'e', 'e', 'b', 'c', 'e', 'e', 'e', 'b', 'e', 'e', 'e', 'e', 'e', 'e', 'e', 'b', 'e', 'e', 'e', 'e', 'e', 'e', 'e', 'e', 'b', 'e', 'e', 'b', 'e', 'e', 'b', 'e', 'b', 'b', 'b', 'e', 'e', 'b', 'e', 'e', 'e', 'e', 'e', 'e', 'e', 'e', 'e', 'e', 'e', 'e', 'e', 'r', 'e', 'e', 'e', 'e', 'e', 'e', 'e', 'e', 'e', 'e', 'e', 'e', 'e', 'e', 'e', 'e', 'c', 'e', 'e', 'e', 'b', 'e', 'b', 'e', 'b', 'e', 'e', 'e', 'c', 'b', 'e', 'e', 'e', 'c', 'e', 'c', 'e', 'e', 'e', 'e', 'e', 'b', 'e', 'c', 'e', 'e', 'e', 'e', 'e', 'e', 'e', 'e', 'e', 'e', 'e', 'e', 'e', 'e', 'e', 'e', 'b', 'e', 'e', 'r', 'e', 'e', 'c', 'e', 'e', 'e', 'e', 'e', 'c', 'e', 'e', 'e', 'e', 'e', 'b', 'c', 'b', 'e', 'e', 'e', 'e', 'e', 'e', 'e', 'e', 'c', 'e', 'e', 'e', 'e', 'e', 'e', 'b', 'e', 'e', 'e', 'e', 'b', 'e', 'r', 'e', 'e', 'e', 'e', 'e', 'e', 'e', 'b', 'e', 'e', 'r', 'b', 'e', 'e', 'e', 'e', 'e', 'e', 'e', 'b', 'e', 'e', 'e', 'e', 'e', 'e', 'b', 'e', 'e', 'e', 'e', 'e', 'e', 'e', 'e', 'b', 'e', 'e', 'b', 'e', 'e', 'e', 'e', 'e', 'e', 'e', 'e', 'e', 'e', 'e', 'e', 'e', 'b', 'b', 'e', 'e', 'e', 'c', 'e', 'e', 'e', 'e', 'e', 'e', 'e', 'e', 'e', 'e', 'e', 'e', 'e', 'e', 'e', 'c', 'c', 'e', 'e', 'e', 'e', 'b', 'e', 'c', 'c', 'r', 'e', 'e', 'e', 'e', 'e', 'e', 'e', 'c', 'e', 'c', 'e', 'e', 'e', 'e', 'e', 'b', 'b', 'r', 'b', 'e', 'e', 'e', 'e', 'e', 'e', 'e', 'e', 'b', 'e', 'e', 'e', 'b', 'e', 'e', 'e', 'e', 'b', 'e', 'e', 'b', 'e', 'e', 'b', 'c', 'c', 'e', 'e', 'e', 'e', 'e', 'e', 'c', 'e', 'e', 'e', 'r', 'e', 'e', 'e', 'e', 'e', 'e', 'e', 'e', 'b', 'e', 'e', 'e', 'e', 'e', 'e', 'r', 'e', 'e', 'e', 'e', 'e', 'e', 'r', 'e', 'e', 'e', 'e', 'e', 'e', 'b', 'e', 'e', 'e', 'e', 'b', 'e', 'e', 'e', 'e', 'b', 'r', 'e', 'e', 'e', 'c', 'b', 'e', 'e', 'e', 'e', 'e', 'e', 'e', 'e', 'e', 'c', 'e', 'e', 'e', 'e', 'e', 'e', 'e', 'e', 'e', 'e', 'e', 'e', 'e', 'e', 'e', 'b', 'e', 'b', 'b', 'b', 'b', 'e', 'b', 'b', 'e', 'e', 'b', 'e', 'c', 'e', 'c', 'b', 'e', 'e', 'b', 'e', 'e', 'e', 'b', 'c', 'e', 'b', 'e', 'e', 'b', 'b', 'b', 'e', 'b', 'b', 'b', 'b', 'e', 'b', 'e', 'e', 'e', 'b', 'e', 'b', 'e', 'e', 'b', 'b', 'b', 'b', 'e', 'b', 'b', 'b', 'b', 'b', 'b', 'e', 'e', 'b', 'b', 'e', 'b', 'e', 'b', 'b', 'e', 'e', 'e', 'e', 'b', 'e', 'e', 'b', 'b', 'b', 'b', 'e', 'e', 'e', 'e', 'b', 'b', 'b', 'b', 'e', 'e', 'b', 'b', 'e', 'e', 'e', 'e', 'e', 'b', 'b', 'e', 'e', 'e', 'b', 'e', 'e', 'e', 'e', 'e', 'e', 'b', 'e', 'e', 'b', 'b', 'b', 'e', 'e', 'r', 'e', 'e', 'e', 'b', 'b', 'e', 'e', 'e', 'b', 'b', 'e', 'e', 'e', 'e', 'e', 'c', 'b', 'e', 'e', 'e', 'b', 'e', 'e', 'e', 'b', 'b', 'b', 'e', 'e', 'e', 'e', 'b', 'b', 'e', 'b', 'b', 'b', 'b', 'b', 'e', 'e', 'b', 'b', 'e', 'b', 'e', 'b', 'e', 'e', 'e', 'b', 'e', 'b', 'e', 'e', 'e', 'e', 'b', 'e', 'e', 'b', 'b', 'e', 'b', 'e', 'e', 'c', 'e', 'b', 'b', 'e', 'e', 'b', 'e', 'e', 'b', 'e', 'b', 'e', 'b', 'e', 'e', 'e', 'e', 'b', 'b', 'e', 'b', 'e', 'r', 'e', 'e', 'e', 'e', 'e', 'e', 'b', 'e', 'e', 'e', 'e', 'b', 'b', 'e', 'b', 'b', 'b', 'e', 'b', 'b', 'e', 'b', 'e', 'c', 'b', 'e', 'b', 'b', 'b', 'e', 'e', 'e', 'e', 'b', 'b', 'b', 'e', 'e', 'e', 'r', 'b', 'e', 'b', 'b', 'e', 'c', 'e', 'e', 'b', 'e', 'b', 'b', 'e', 'c', 'e', 'e', 'e', 'b', 'e', 'b', 'b', 'e', 'e', 'b', 'b', 'b', 'b', 'b', 'e', 'c', 'b', 'b', 'e', 'b', 'e', 'e', 'b', 'b', 'e', 'e', 'e', 'b', 'b', 'e', 'b', 'e', 'c', 'e', 'e', 'b', 'b', 'e', 'e', 'e', 'b', 'b', 'b', 'b', 'b', 'b', 'b', 'b', 'b', 'b', 'b', 'b', 'e', 'b', 'b', 'b', 'b', 'b', 'b', 'b', 'b', 'b', 'b', 'b', 'b', 'b', 'b', 'b', 'b', 'e', 'b', 'e', 'b', 'b', 'b', 'b', 'b', 'b', 'b', 'b', 'b', 'b', 'b', 'b', 'b', 'b', 'b', 'e', 'b', 'e', 'b', 'b', 'b', 'b', 'b', 'b', 'b', 'b', 'b', 'b', 'b', 'b', 'b', 'b', 'b', 'b', 'b', 'b', 'b', 'b', 'b', 'b', 'b', 'b', 'b', 'b', 'b', 'b', 'b', 'b', 'b', 'b', 'b', 'b', 'b', 'b', 'b', 'b', 'b', 'b', 'b', 'b', 'e', 'b', 'b', 'b', 'b', 'b', 'b', 'b', 'e', 'b', 'b', 'b', 'b', 'b', 'b', 'b', 'b', 'b', 'b', 'b', 'b', 'b', 'b', 'b', 'b', 'b', 'b', 'b', 'b', 'b', 'b', 'b', 'b', 'b', 'b', 'e', 'b', 'b', 'b', 'b', 'b', 'b', 'b', 'b', 'b', 'e', 'b', 'b', 'b', 'e', 'b', 'b', 'b', 'b', 'b', 'e', 'b', 'b', 'b', 'b', 'e', 'b', 'b', 'b', 'b', 'b', 'b', 'b', 'e', 'b', 'b', 'b', 'b', 'b', 'e', 'b', 'b', 'b', 'b', 'e', 'b', 'b', 'b', 'b', 'b', 'b', 'b', 'b', 'b', 'b', 'b', 'b', 'b', 'b', 'b', 'b', 'e', 'b', 'b', 'b', 'b', 'b', 'b', 'e', 'b', 'e', 'b', 'b', 'b', 'b', 'b', 'b', 'b', 'b', 'b', 'b', 'b', 'b', 'b', 'b', 'b', 'b', 'b', 'b', 'b', 'b', 'b', 'b', 'b', 'b', 'b', 'b', 'b', 'b', 'b', 'b', 'b', 'b', 'b', 'b', 'b', 'b', 'b', 'b', 'b', 'b', 'b', 'b', 'b', 'b', 'b', 'b', 'b', 'b', 'e', 'b', 'e', 'b', 'b', 'e', 'b', 'b', 'b', 'b', 'b', 'b', 'b', 'b', 'b', 'b', 'b', 'b', 'b', 'b', 'b', 'e', 'b', 'b', 'b', 'b', 'b', 'b', 'b', 'e', 'b', 'e', 'e', 'b', 'b', 'b', 'b', 'b', 'b', 'b', 'b', 'e', 'e', 'b', 'b', 'b', 'b', 'b', 'b', 'b', 'b', 'b', 'b', 'b', 'e', 'b', 'b', 'b', 'b', 'b', 'b', 'b', 'b', 'b', 'b', 'b', 'b', 'b', 'b', 'b', 'b', 'b', 'b', 'b', 'b', 'b', 'b', 'b', 'b', 'b', 'b', 'b', 'b', 'b', 'b', 'b', 'b', 'b', 'b', 'b', 'b', 'b', 'b', 'b', 'b', 'b', 'b', 'b', 'b', 'b', 'b', 'b', 'b', 'b', 'b', 'b', 'e', 'b', 'b', 'b', 'b', 'b', 'b', 'b', 'b', 'b', 'b', 'b', 'b', 'b', 'b', 'b', 'b', 'b', 'b', 'b', 'b', 'b', 'b', 'b', 'b', 'b', 'e', 'e', 'b', 'b', 'b', 'b', 'b', 'b', 'b', 'e', 'b', 'b', 'b', 'b', 'b', 'b', 'b', 'e', 'b', 'b', 'b', 'b', 'e', 'e', 'b', 'b', 'b', 'b', 'b', 'b', 'b', 'b', 'b', 'b', 'b', 'b', 'b', 'b', 'b', 'b', 'e', 'b', 'b', 'b', 'b', 'b', 'b', 'b', 'b', 'b', 'b', 'b', 'b', 'b', 'b', 'b', 'b', 'b', 'b', 'b', 'b', 'b', 'b', 'b', 'b', 'b', 'b', 'b', 'b', 'b', 'b', 'b', 'b', 'b', 'b', 'b', 'b', 'b', 'b', 'b', 'b', 'b', 'b', 'b', 'b', 'b', 'b', 'b', 'b', 'b', 'b', 'b', 'b', 'b', 'b', 'b', 'b', 'b', 'b', 'b', 'b', 'b', 'b', 'b', 'b', 'b', 'b', 'b', 'b', 'b', 'b', 'b', 'b', 'b', 'b', 'b', 'b', 'b', 'b', 'b', 'b', 'b', 'b', 'b', 'b', 'b', 'b', 'b', 'b', 'b', 'b', 'b', 'b', 'b', 'b', 'b', 'b', 'b', 'b', 'b', 'b', 'b', 'b', 'b', 'b', 'b', 'b', 'b', 'b', 'b', 'b', 'b', 'e', 'b', 'b', 'b', 'b', 'b', 'b', 'b', 'b', 'b', 'b', 'b', 'b', 'b', 'b', 'b', 'b', 'e', 'b', 'b', 'b', 'b', 'b', 'b', 'b', 'b', 'b', 'b', 'b', 'b', 'b', 'b', 'b', 'b', 'b', 'b', 'b', 'b', 'b', 'b', 'b', 'b', 'b', 'b', 'b', 'b', 'b', 'b', 'b', 'b', 'b', 'b', 'b', 'b', 'b', 'b', 'b', 'b', 'b', 'b', 'e', 'b', 'b', 'b', 'b', 'b', 'b', 'b', 'b', 'b', 'b', 'b', 'b', 'b', 'b', 'b', 'b', 'b', 'b', 'b', 'b', 'b', 'b', 'b', 'b', 'b', 'b', 'b', 'b', 'b', 'b', 'b', 'b', 'b', 'b', 'b', 'b', 'b', 'b', 'b', 'e', 'b', 'b', 'b', 'b', 'b', 'b', 'b', 'b', 'b', 'b', 'b', 'b', 'b', 'b', 'b', 'b', 'b', 'b', 'b', 'b', 'b', 'b', 'b', 'b', 'b', 'b', 'b', 'b', 'b', 'b', 'b', 'b', 'b', 'b', 'b', 'b', 'b', 'b', 'b', 'b', 'b', 'b', 'b', 'b', 'b', 'b', 'b', 'b', 'b', 'b', 'b', 'b', 'b', 'b', 'b', 'b', 'b', 'e', 'b', 'b', 'b', 'b', 'b', 'b', 'b', 'b', 'b', 'b', 'b', 'b', 'e', 'b', 'b', 'b', 'b', 'b', 'b', 'b', 'b', 'b', 'b', 'b', 'b', 'b', 'b', 'b', 'e', 'b', 'b', 'b', 'b', 'b', 'b', 'b', 'b', 'b', 'b', 'b', 'b', 'b', 'b', 'b', 'b', 'b', 'b', 'b', 'b', 'b', 'b', 'b', 'b', 'b', 'b', 'e', 'b', 'b', 'b', 'b', 'b', 'b', 'b', 'b', 'b', 'b', 'b', 'b', 'b', 'b', 'b', 'b', 'b', 'b', 'b', 'b', 'b', 'b', 'b', 'b', 'b', 'b', 'b', 'b', 'b', 'b', 'b', 'b', 'b', 'b', 'b', 'b', 'e', 'b', 'b', 'b', 'b', 'b', 'b', 'b', 'b', 'e', 'b', 'b', 'b', 'b', 'b', 'b', 'b', 'b', 'b', 'b', 'b', 'b', 'b', 'b', 'b', 'b', 'b', 'b', 'b', 'b', 'b', 'b', 'b', 'b', 'b', 'b', 'b', 'b', 'b', 'b', 'b', 'b', 'b', 'b', 'b', 'b', 'b', 'b', 'b', 'b', 'b', 'b', 'b', 'b', 'b', 'b', 'b', 'b', 'b', 'b', 'b', 'b', 'b', 'b', 'b', 'b', 'b', 'b', 'b', 'b', 'b', 'b', 'b', 'b', 'b', 'b', 'b', 'b', 'b', 'b', 'b', 'b', 'b', 'b', 'b', 'e', 'b', 'b', 'b', 'b', 'b', 'b', 'b', 'b', 'b', 'b', 'b', 'b', 'b', 'b', 'b', 'b', 'b', 'b', 'b', 'b', 'b', 'b', 'b', 'b', 'b', 'b', 'b', 'b', 'b', 'b', 'b', 'b', 'b', 'b', 'b', 'b', 'b', 'b', 'b', 'b', 'b', 'b', 'b', 'b', 'b', 'b', 'b', 'b', 'b', 'b', 'b', 'b', 'b', 'b', 'b', 'b', 'b', 'b', 'b', 'b', 'b', 'b', 'b', 'b', 'b', 'b', 'b', 'b', 'b', 'b', 'b', 'b', 'b', 'b', 'b', 'b', 'b', 'b', 'b', 'b', 'b', 'b', 'b', 'b', 'b', 'b', 'b', 'b', 'b', 'b', 'b', 'b', 'b', 'b', 'b', 'b', 'b', 'b', 'b', 'b', 'b', 'b', 'b', 'b', 'b', 'b', 'b', 'b', 'b', 'b', 'b', 'b', 'b', 'b', 'b', 'b', 'b', 'b', 'b', 'b', 'b', 'b', 'b', 'b', 'b', 'b', 'b', 'b', 'b', 'b', 'b', 'b', 'b', 'b', 'b', 'b', 'b', 'b', 'b', 'b', 'b', 'b', 'b', 'b', 'b', 'b', 'b', 'b', 'b', 'b', 'b', 'b', 'b', 'b', 'b', 'b', 'b', 'b', 'b', 'b', 'b', 'b', 'b', 'b', 'b', 'b', 'b', 'b', 'b', 'b', 'b', 'b', 'b', 'b', 'b', 'b', 'b', 'b', 'b', 'b', 'b', 'b', 'b', 'b', 'b', 'b', 'b', 'b', 'b', 'b', 'b', 'b', 'b', 'b', 'b', 'b', 'b', 'b', 'b', 'b', 'b', 'b', 'b', 'b', 'b', 'b', 'b', 'b', 'b', 'b', 'b', 'b', 'b', 'b', 'b', 'b', 'b', 'b', 'b', 'b', 'b', 'b', 'b', 'b', 'b', 'b', 'b', 'b', 'b', 'b', 'b', 'b', 'b', 'b', 'b', 'b', 'b', 'b', 'b', 'b', 'b', 'b', 'b', 'b', 'b', 'b', 'b', 'b', 'b', 'b', 'b', 'b', 'b', 'b', 'b', 'b', 'b', 'b', 'b', 'b', 'b', 'b', 'b', 'b', 'b', 'b', 'b', 'b', 'b', 'b', 'b', 'b', 'b', 'b', 'b', 'b', 'b', 'b', 'b', 'b', 'b', 'b', 'b', 'b', 'b', 'b', 'b', 'b', 'b', 'b', 'b', 'b', 'b', 'b', 'b', 'b', 'b', 'b', 'b', 'b', 'b', 'b', 'b', 'b', 'b', 'b', 'b', 'b', 'b', 'b', 'b', 'b', 'b', 'b', 'b', 'b', 'b', 'b', 'b', 'b', 'b', 'b', 'b', 'b', 'b', 'b', 'b', 'b', 'b', 'b', 'b', 'b', 'b', 'b', 'b', 'b', 'b', 'b', 'b', 'b', 'b', 'b', 'b', 'b', 'b', 'b', 'b', 'b', 'b', 'b', 'b', 'b', 'b', 'b', 'b', 'b', 'b', 'b', 'b', 'b', 'b', 'b', 'b', 'b', 'b', 'b', 'b', 'b', 'b', 'b', 'b', 'b', 'b', 'b', 'b', 'b', 'b', 'b', 'b', 'b', 'b', 'b', 'b', 'b', 'b', 'b', 'b', 'b', 'b', 'b', 'b', 'b', 'b', 'b', 'b', 'b', 'b', 'b', 'b', 'b', 'b', 'b', 'b', 'b', 'b', 'b', 'b', 'b', 'b', 'b', 'b', 'b', 'b', 'b', 'b', 'b', 'b', 'b', 'b', 'b', 'b', 'b', 'b', 'b', 'b', 'b', 'b', 'b', 'b', 'b', 'b', 'b', 'b', 'b', 'b', 'b', 'b', 'b', 'b', 'b', 'b', 'b', 'b', 'b', 'b', 'b', 'b', 'b', 'b', 'b', 'b', 'b', 'b', 'b', 'b', 'b', 'b', 'b', 'b', 'b', 'b', 'b', 'b', 'b', 'b', 'b', 'b', 'b', 'b', 'b', 'b', 'b', 'b', 'b', 'b', 'b', 'b', 'b', 'b', 'b', 'b', 'b', 'b', 'b', 'b', 'b', 'b', 'b', 'b', 'b', 'b', 'b', 'b', 'b', 'b', 'b', 'b', 'b', 'b', 'b', 'b', 'b', 'b', 'b', 'b', 'b', 'b', 'b', 'b', 'b', 'b', 'b', 'b', 'b', 'b', 'b', 'b', 'b', 'b', 'b', 'b', 'b', 'b', 'b', 'b', 'b', 'b', 'b', 'b', 'b', 'b', 'b', 'b', 'b', 'b', 'b', 'b', 'b', 'b', 'b', 'b', 'b', 'b', 'b', 'b', 'b', 'b', 'b', 'b', 'b', 'b', 'b', 'b', 'b', 'b', 'b', 'b', 'b', 'b', 'b', 'b', 'b', 'b', 'b', 'b', 'b', 'b', 'b', 'b', 'b', 'b', 'b', 'b', 'b', 'b', 'b', 'b', 'b', 'b', 'b', 'b', 'b', 'b', 'b', 'b', 'b', 'b', 'b', 'b', 'b', 'b', 'b', 'b', 'b', 'b', 'b', 'b', 'b', 'b', 'b', 'b', 'b', 'b', 'b', 'b', 'b', 'b', 'b', 'b', 'b', 'b', 'b', 'b', 'b', 'b', 'b', 'b', 'b', 'b', 'b', 'b', 'b', 'b', 'b', 'b', 'b', 'b', 'b', 'b', 'b', 'b', 'b', 'b', 'b', 'b', 'b', 'b', 'b', 'b', 'b', 'b', 'b', 'b', 'b', 'b', 'b', 'b', 'b', 'b', 'b', 'b', 'b', 'b', 'b', 'b', 'b', 'b', 'b', 'b', 'b', 'b', 'b', 'b', 'b', 'b', 'b', 'b', 'b', 'b', 'b', 'b', 'b', 'b', 'b', 'b', 'b', 'b', 'b', 'b', 'b', 'b', 'b', 'b', 'b', 'b', 'b', 'b', 'b', 'b', 'b', 'b', 'b', 'b', 'b', 'b', 'b', 'b', 'b', 'b', 'b', 'b', 'b', 'b', 'b', 'b', 'b', 'b', 'b', 'b', 'b', 'b', 'b', 'b', 'b', 'b', 'b', 'b', 'b', 'b', 'b', 'b', 'b', 'b', 'b', 'b', 'b', 'b', 'b', 'b', 'b', 'b', 'b', 'b', 'b', 'b', 'b', 'b', 'b', 'b', 'b', 'b', 'b', 'b', 'b', 'b', 'b', 'b', 'b', 'b', 'b', 'b', 'b', 'b', 'b', 'b', 'b', 'b', 'b', 'b', 'b', 'b', 'b', 'b', 'b', 'b', 'b', 'b', 'b', 'b', 'b', 'b', 'b', 'b', 'b', 'b', 'b', 'b', 'b', 'b', 'b', 'b', 'b', 'b', 'b', 'b', 'b', 'b', 'b', 'b', 'b', 'b', 'b', 'b', 'b', 'b', 'b', 'b', 'b', 'b', 'b', 'b', 'b', 'b', 'b', 'b', 'b', 'b', 'b', 'b', 'b', 'b', 'b', 'b', 'b', 'b', 'b', 'b', 'b', 'b', 'b', 'b', 'b', 'b', 'b', 'b', 'b', 'b', 'b', 'b', 'b', 'b', 'b', 'b', 'b', 'b', 'b', 'b', 'b', 'b', 'b', 'b', 'b', 'b', 'b', 'b', 'b', 'b', 'b', 'b', 'b', 'b', 'b', 'b', 'b', 'b', 'b', 'b', 'b', 'b', 'b', 'b', 'b', 'b', 'b', 'b', 'b', 'b', 'b', 'b', 'b', 'b', 'b', 'b', 'b', 'b', 'b', 'b', 'b', 'b', 'b', 'b', 'b', 'b', 'b', 'b', 'b', 'b', 'b', 'b', 'b', 'b', 'b', 'b', 'b', 'b', 'b', 'b', 'b', 'b', 'b', 'b', 'b', 'b', 'b', 'b', 'b', 'b', 'b', 'b', 'b', 'b', 'b', 'b', 'b', 'b', 'b', 'b', 'b', 'b', 'b', 'b', 'b', 'b', 'b', 'b', 'b', 'b', 'b', 'b', 'b', 'b', 'b', 'b', 'b', 'b', 'b', 'b', 'b', 'b', 'b', 'b', 'b', 'b', 'b', 'b', 'b', 'b', 'b', 'b', 'b', 'b', 'b', 'b', 'b', 'b', 'b', 'b', 'b', 'b', 'b', 'b', 'b', 'b', 'b', 'b', 'b', 'b', 'b', 'b', 'b', 'b', 'b', 'b', 'b', 'b', 'b', 'b', 'b', 'b', 'b', 'b', 'b', 'b', 'b', 'b', 'b', 'b', 'b', 'b', 'b', 'b', 'b', 'b', 'b', 'b', 'b', 'b', 'b', 'b', 'b', 'b', 'b', 'b', 'b', 'b', 'b', 'b', 'b', 'b', 'b', 'b', 'b', 'b', 'b', 'b', 'b', 'b', 'b', 'b', 'b', 'b', 'b', 'b', 'b', 'b', 'b', 'b', 'b', 'b', 'b', 'b', 'b', 'b', 'b', 'b', 'b', 'b', 'b', 'b', 'b', 'b', 'b', 'b', 'b', 'b', 'b', 'b', 'b', 'b', 'b', 'b', 'b', 'b', 'b', 'b', 'b', 'b', 'b', 'b', 'b', 'b', 'b', 'b', 'b', 'b', 'b', 'b', 'b', 'b', 'b', 'b', 'b', 'b', 'b', 'b', 'b', 'b', 'b', 'b', 'b', 'b', 'b', 'b', 'b', 'b', 'b', 'b', 'b', 'b', 'b', 'b', 'b', 'b', 'b', 'b', 'b', 'b', 'b', 'b', 'b', 'b', 'b', 'b', 'b', 'b', 'b', 'b', 'b', 'b', 'b', 'b', 'b', 'b', 'b', 'b', 'b', 'b', 'b', 'b', 'b', 'b', 'b', 'b', 'b', 'b', 'b', 'b', 'b', 'b', 'b', 'b', 'b', 'b', 'b', 'b', 'b', 'b', 'b', 'b', 'b', 'b', 'b', 'b', 'b', 'b', 'b', 'b', 'b', 'b', 'b', 'b', 'b', 'b', 'b', 'b', 'b', 'b', 'b', 'b', 'b', 'b', 'b', 'b', 'b', 'b', 'b', 'b', 'b', 'b', 'b', 'b', 'b', 'b', 'b', 'b', 'b', 'b', 'b', 'b', 'b', 'b', 'b', 'b', 'b', 'b', 'b', 'b', 'b', 'b', 'b', 'b', 'b', 'b', 'b', 'b', 'b', 'b', 'b', 'b', 'b', 'b', 'b', 'b', 'b', 'b', 'b', 'b', 'b', 'b', 'b', 'b', 'b', 'b', 'b', 'b', 'b', 'b', 'b', 'b', 'b', 'b', 'b', 'b', 'b', 'b', 'b', 'b', 'b', 'b', 'b', 'b', 'b', 'b', 'b', 'b', 'b', 'b', 'b', 'b', 'b', 'b', 'b', 'b', 'b', 'b', 'b', 'b', 'b', 'b', 'b', 'b', 'b', 'b', 'b', 'b', 'b', 'b', 'b', 'b', 'b', 'b', 'b', 'b', 'b', 'b', 'b', 'b', 'b', 'b', 'b', 'b', 'b', 'b', 'b', 'b', 'b', 'b', 'b', 'b', 'b', 'b', 'b', 'b', 'b', 'b', 'b', 'b', 'b', 'b', 'b', 'b', 'b', 'b', 'b', 'b', 'b', 'b', 'b', 'b', 'b', 'b', 'b', 'b', 'b', 'b', 'b', 'b', 'b', 'b', 'b', 'b', 'b', 'b', 'b', 'b', 'b', 'b', 'b', 'b', 'b', 'b', 'b', 'b', 'b', 'b', 'b', 'b', 'b', 'b', 'b', 'b', 'b', 'b', 'b', 'b', 'b', 'b', 'b', 'b', 'b', 'b', 'b', 'b', 'b', 'b', 'b', 'b', 'b', 'b', 'b', 'b', 'b', 'b', 'b', 'b', 'b', 'b', 'b', 'b', 'b', 'b', 'b', 'b', 'b', 'b', 'b', 'b', 'b', 'b', 'b', 'b', 'b', 'b', 'b', 'b', 'b', 'b', 'b', 'b', 'b', 'b', 'b', 'b', 'b', 'b', 'b', 'b', 'b', 'b', 'b', 'b', 'b', 'b', 'b', 'b', 'b', 'b', 'b', 'b', 'b', 'b', 'b', 'b', 'b', 'b', 'b', 'b', 'b', 'b', 'b', 'b', 'b', 'b', 'b', 'b', 'b', 'b', 'b', 'b', 'b', 'b', 'b', 'b', 'b', 'b', 'b', 'b', 'b', 'b', 'b', 'b', 'b', 'b', 'b', 'b', 'b', 'b', 'b', 'b', 'b', 'b', 'b', 'b', 'b', 'b', 'b', 'b', 'b', 'b', 'b', 'b', 'b', 'b', 'b', 'b', 'b', 'b', 'b', 'b', 'b', 'b', 'b', 'b', 'b', 'b', 'b', 'b', 'b', 'b', 'b', 'b', 'b', 'b', 'b', 'b', 'b', 'b', 'b', 'b', 'b', 'b', 'b', 'b', 'b', 'b', 'b', 'b', 'b', 'b', 'b', 'b', 'b', 'b', 'b', 'b', 'b', 'b', 'b', 'b', 'b', 'b', 'b', 'b', 'b', 'b', 'b', 'b', 'b', 'b', 'b', 'b', 'b', 'b', 'b', 'b', 'b', 'b', 'b', 'b', 'b', 'b', 'b', 'b', 'b', 'b', 'b', 'b', 'b', 'b', 'b', 'b', 'b', 'b', 'b', 'b', 'b', 'b', 'b', 'b', 'b', 'b', 'b', 'b', 'b', 'b', 'b', 'b', 'b', 'b', 'b', 'b', 'b', 'b', 'b', 'b', 'b', 'b', 'b', 'b', 'b', 'b', 'b', 'b', 'b', 'b', 'b', 'b', 'b', 'b', 'b', 'b', 'b', 'b', 'b', 'b', 'b', 'b', 'b', 'b', 'b', 'b', 'b', 'b', 'b', 'b', 'b', 'b', 'b', 'b', 'b', 'b', 'b', 'b', 'b', 'b', 'b', 'b', 'b', 'b', 'b', 'b', 'b', 'b', 'b', 'b', 'b', 'b', 'b', 'b', 'b', 'b', 'b', 'b', 'b', 'b', 'b', 'b', 'b', 'b', 'b', 'b', 'b', 'b', 'b', 'b', 'b', 'b', 'b', 'b', 'b', 'b', 'b', 'b', 'b', 'b', 'b', 'b', 'b', 'b', 'b', 'b', 'b', 'b', 'b', 'b', 'b', 'b', 'b', 'b', 'b', 'b', 'b', 'b', 'b', 'b', 'b', 'b', 'b', 'b', 'b', 'b', 'b', 'b', 'b', 'b', 'b', 'b', 'b', 'b', 'b', 'b', 'b', 'b', 'b', 'b', 'b', 'b', 'b', 'b', 'b', 'b', 'b', 'b', 'b', 'b', 'b', 'b', 'b', 'b', 'b', 'b', 'b', 'b', 'b', 'b', 'b', 'b', 'b', 'b', 'b', 'b', 'b', 'b', 'b', 'b', 'b', 'b', 'b', 'b', 'b', 'b', 'b', 'b', 'b', 'b', 'b', 'b', 'b', 'b', 'b', 'b', 'b', 'b', 'b', 'b', 'b', 'b', 'b', 'b', 'b', 'b', 'b', 'b', 'b', 'b', 'b', 'b', 'b', 'b', 'b', 'b', 'b', 'b', 'b', 'b', 'b', 'b', 'b', 'b', 'b', 'b', 'b', 'b', 'b', 'b', 'b', 'b', 'b', 'b', 'b', 'b', 'b', 'b', 'b', 'b', 'b', 'b', 'b', 'b', 'b', 'b', 'b', 'b', 'b', 'b', 'b', 'b', 'b', 'b', 'b', 'b', 'b', 'b', 'b', 'b', 'b', 'b', 'b', 'b', 'b', 'b', 'b', 'b', 'b', 'b', 'b', 'b', 'b', 'b', 'b', 'b', 'b', 'b', 'b', 'b', 'b', 'b', 'b', 'b', 'b', 'b', 'b', 'b', 'b', 'b', 'b', 'b', 'b', 'b', 'b', 'b', 'b', 'b', 'b', 'b', 'b', 'b', 'b', 'b', 'b', 'b', 'b', 'b', 'b', 'b', 'b', 'b', 'b', 'b', 'b', 'b', 'b', 'b', 'b', 'b', 'b', 'b', 'b', 'b', 'b', 'b', 'b', 'b', 'b', 'b', 'b', 'b', 'b', 'b', 'b', 'b', 'b', 'b', 'b', 'b', 'b', 'b', 'b', 'b', 'b', 'b', 'b', 'b', 'b', 'b', 'b', 'b', 'b', 'b', 'b', 'b', 'b', 'b', 'b', 'b', 'b', 'b', 'b', 'b', 'b', 'b', 'b', 'b', 'b', 'b', 'b', 'b', 'b', 'b', 'b', 'b', 'b', 'b', 'b', 'b', 'b', 'b', 'b', 'b', 'b', 'b', 'b', 'b', 'b', 'b', 'b', 'b', 'b', 'b', 'b', 'b', 'b', 'b', 'b', 'b', 'b', 'b', 'b', 'b', 'b', 'b', 'b', 'b', 'b', 'b', 'b', 'b', 'b', 'b', 'b', 'b', 'b', 'b', 'b', 'b', 'b', 'b', 'b', 'b', 'b', 'b', 'b', 'b', 'b', 'b', 'b', 'b', 'b', 'b', 'b', 'b', 'b', 'b', 'b', 'b', 'b', 'b', 'b', 'b', 'b', 'b', 'b', 'b', 'b', 'b', 'b', 'b', 'b', 'b', 'b', 'b', 'b', 'b', 'b', 'b', 'b', 'b', 'b', 'b', 'b', 'b', 'b', 'b', 'b', 'b', 'b', 'b', 'b', 'b', 'b', 'b', 'b', 'b', 'b', 'b', 'b', 'b', 'b', 'b', 'b', 'b', 'b', 'b', 'b', 'b', 'b', 'b', 'b', 'b', 'b', 'b', 'b', 'b', 'b', 'b', 'b', 'b', 'b', 'b', 'b', 'b', 'b', 'b', 'b', 'b', 'b', 'b', 'b', 'b', 'b', 'b', 'b', 'b', 'b', 'b', 'b', 'b', 'b', 'b', 'b', 'b', 'b', 'b', 'b', 'b', 'b', 'b', 'b', 'b', 'b', 'b', 'b', 'b', 'b', 'b', 'b', 'b', 'b', 'b', 'b', 'b', 'b', 'b', 'b', 'b', 'b', 'b', 'b', 'b', 'b', 'b', 'b', 'b', 'b', 'b', 'b', 'b', 'b', 'b', 'b', 'b', 'b', 'b', 'b', 'b', 'b', 'b', 'b', 'b', 'b', 'b', 'b', 'b', 'b', 'b', 'b', 'b', 'b', 'b', 'b', 'b', 'b', 'b', 'b', 'b', 'b', 'b', 'b', 'b', 'b', 'b', 'b', 'b', 'b', 'b', 'b', 'b', 'b', 'b', 'b', 'b', 'b', 'b', 'b', 'b', 'b', 'b', 'b', 'b', 'b', 'b', 'b', 'b', 'b', 'b', 'b', 'b', 'b', 'b', 'b', 'b', 'b', 'b', 'b', 'b', 'b', 'b', 'b', 'b', 'b', 'b', 'b', 'b', 'b', 'b', 'b', 'b', 'b', 'b', 'b', 'b', 'b', 'b', 'b', 'b', 'b', 'b', 'b', 'b', 'b', 'b', 'b', 'b', 'b', 'b', 'b', 'b', 'b', 'b', 'b', 'b', 'b', 'b', 'b', 'b', 'b', 'b', 'b', 'b', 'b', 'b', 'b', 'b', 'b', 'b', 'b', 'b', 'b', 'b', 'b', 'b', 'b', 'b', 'b', 'b', 'b', 'b', 'b', 'b', 'b', 'b', 'b', 'b', 'b', 'b', 'b', 'b', 'b', 'b', 'b', 'b', 'b', 'b', 'b', 'b', 'b', 'b', 'b', 'b', 'b', 'b', 'b', 'b', 'b', 'b', 'b', 'b', 'b', 'b', 'b', 'b', 'b', 'b', 'b', 'b', 'b', 'b', 'b', 'b', 'b', 'b', 'b', 'b', 'b', 'b', 'b', 'b', 'b', 'b', 'b', 'b', 'b', 'b', 'b', 'b', 'b', 'b', 'b', 'b', 'b', 'b', 'b', 'b', 'b', 'b', 'b', 'b', 'b', 'b', 'b', 'b', 'b', 'b', 'b', 'b', 'b', 'b', 'b', 'b', 'b', 'b', 'b', 'b', 'b', 'b', 'b', 'b', 'b', 'b', 'b', 'b', 'b', 'b', 'b', 'b', 'b', 'b', 'b', 'b', 'b', 'b', 'b', 'b', 'b', 'b', 'b', 'b', 'b', 'b', 'b', 'b', 'b', 'b', 'b', 'b', 'b', 'b', 'b', 'b', 'b', 'b', 'b', 'b', 'b', 'b', 'b', 'b', 'b', 'b', 'b', 'b', 'b', 'b', 'b', 'b', 'b', 'b', 'b', 'b', 'b', 'b', 'b', 'b', 'b', 'b', 'b', 'b', 'b', 'b', 'b', 'b', 'b', 'b', 'b', 'b', 'b', 'b', 'b', 'b', 'b', 'b', 'b', 'b', 'b', 'b', 'b', 'b', 'b', 'b', 'b', 'b', 'b', 'b', 'b', 'b', 'b', 'b', 'b', 'b', 'b', 'b', 'b', 'b', 'b', 'b', 'b', 'b', 'b', 'b', 'b', 'b', 'b', 'b', 'b', 'b', 'b', 'b', 'b', 'b', 'b', 'b', 'b', 'b', 'b', 'b', 'b', 'b', 'b', 'b', 'b', 'b', 'b', 'b', 'b', 'b', 'b', 'b', 'b', 'b', 'b', 'b', 'b', 'b', 'b', 'b', 'b', 'b', 'b', 'b', 'b', 'b', 'b', 'b', 'b', 'b', 'b', 'b', 'b', 'b', 'b', 'b', 'b', 'b', 'b', 'b', 'b', 'b', 'b', 'b', 'b', 'b', 'b', 'b', 'b', 'b', 'b', 'b', 'b', 'b', 'b', 'b', 'b', 'b', 'b', 'b', 'b', 'b', 'b', 'b', 'b', 'b', 'b', 'b', 'b', 'b', 'b', 'b', 'b', 'b', 'b', 'b', 'b', 'b', 'b', 'b', 'b', 'b', 'b', 'b', 'b', 'b', 'b', 'b', 'b', 'b', 'b', 'b', 'b', 'b', 'b', 'b', 'b', 'b', 'b', 'b', 'b', 'b', 'b', 'b', 'b', 'b', 'b', 'b', 'b', 'b', 'b', 'b', 'b', 'b', 'b', 'b', 'b', 'b', 'b', 'b', 'b', 'b', 'b', 'b', 'b', 'b', 'b', 'b', 'b', 'b', 'b', 'b', 'b', 'b', 'b', 'b', 'b', 'b', 'b', 'b', 'b', 'b', 'b', 'b', 'b', 'b', 'b', 'b', 'b', 'b', 'b', 'b', 'b', 'b', 'b', 'b', 'b', 'b', 'b', 'b', 'b', 'c', 'c', 'c', 'b', 'c', 'b', 'b', 'c', 'b', 'b', 'b', 'c', 'b', 'c', 'b', 'c', 'b', 'c', 'c', 'c', 'b', 'c', 'c', 'b', 'b', 'c', 'c', 'c', 'b', 'c', 'b', 'c', 'c', 'c', 'b', 'b', 'c', 'c', 'b', 'b', 'c', 'c', 'b', 'b', 'b', 'b', 'c', 'c', 'b', 'c', 'c', 'b', 'c', 'b', 'b', 'b', 'c', 'b', 'c', 'b', 'b', 'b', 'b', 'c', 'c', 'c', 'b', 'b', 'c', 'c', 'b', 'c', 'c', 'c', 'b', 'b', 'c', 'b', 'b', 'b', 'c', 'b', 'b', 'b', 'c', 'b', 'b', 'b', 'b', 'c', 'c']\n",
      "\n",
      "Sustitución de los valores en la lista original\n",
      "['e', 'c', 'c', 'e', 'e', 'c', 'c', 'c', 'e', 'c', 'c', 'c', 'c', 'e', 'e', 'e', 'e', 'e', 'e', 'e', 'c', 'e', 'c', 'c', 'c', 'e', 'c', 'c', 'e', 'b', 'c', 'e', 'c', 'r', 'c', 'b', 'e', 'e', 'b', 'c', 'c', 'r', 'e', 'e', 'c', 'c', 'c', 'c', 'r', 'r', 'r', 'c', 'c', 'e', 'e', 'c', 'e', 'c', 'c', 'r', 'e', 'c', 'c', 'c', 'c', 'e', 'c', 'r', 'c', 'e', 'b', 'c', 'b', 'r', 'c', 'b', 'b', 'r', 'e', 'r', 'e', 'e', 'e', 'e', 'r', 'e', 'c', 'c', 'r', 'e', 'e', 'c', 'c', 'c', 'e', 'c', 'r', 'c', 'c', 'c', 'e', 'c', 'r', 'r', 'c', 'c', 'r', 'c', 'c', 'c', 'c', 'e', 'b', 'c', 'e', 'r', 'e', 'r', 'b', 'e', 'e', 'c', 'e', 'e', 'c', 'e', 'c', 'e', 'c', 'c', 'c', 'c', 'b', 'c', 'b', 'e', 'b', 'c', 'e', 'c', 'r', 'c', 'e', 'r', 'c', 'e', 'e', 'c', 'c', 'c', 'c', 'e', 'c', 'e', 'b', 'r', 'c', 'c', 'c', 'c', 'c', 'c', 'e', 'r', 'c', 'r', 'c', 'c', 'r', 'c', 'e', 'c', 'b', 'c', 'r', 'c', 'c', 'c', 'c', 'c', 'e', 'e', 'e', 'c', 'r', 'e', 'c', 'e', 'c', 'r', 'e', 'b', 'c', 'b', 'c', 'e', 'c', 'c', 'c', 'b', 'c', 'c', 'c', 'e', 'r', 'e', 'c', 'c', 'c', 'c', 'c', 'c', 'b', 'e', 'r', 'c', 'c', 'c', 'c', 'e', 'c', 'e', 'r', 'b', 'c', 'c', 'c', 'c', 'e', 'c', 'e', 'e', 'r', 'e', 'c', 'b', 'c', 'c', 'r', 'r', 'r', 'c', 'c', 'e', 'b', 'c', 'b', 'c', 'r', 'e', 'r', 'e', 'e', 'c', 'c', 'c', 'e', 'c', 'c', 'c', 'r', 'e', 'c', 'c', 'b', 'e', 'e', 'c', 'c', 'e', 'c', 'e', 'c', 'c', 'r', 'r', 'r', 'c', 'e', 'c', 'e', 'c', 'e', 'c', 'c', 'r', 'c', 'c', 'r', 'e', 'e', 'c', 'c', 'c', 'c', 'c', 'c', 'e', 'b', 'e', 'e', 'c', 'b', 'c', 'c', 'b', 'c', 'c', 'r', 'e', 'c', 'e', 'c', 'b', 'c', 'e', 'b', 'c', 'b', 'b', 'c', 'b', 'c', 'c', 'r', 'c', 'c', 'e', 'c', 'c', 'e', 'c', 'c', 'c', 'c', 'b', 'r', 'c', 'e', 'r', 'c', 'c', 'c', 'b', 'c', 'e', 'b', 'c', 'e', 'e', 'e', 'r', 'c', 'c', 'r', 'e', 'r', 'e', 'r', 'c', 'e', 'e', 'e', 'r', 'c', 'e', 'r', 'b', 'c', 'e', 'r', 'r', 'c', 'e', 'c', 'c', 'e', 'c', 'c', 'c', 'e', 'e', 'c', 'c', 'b', 'e', 'r', 'e', 'c', 'c', 'c', 'c', 'c', 'e', 'r', 'e', 'c', 'c', 'e', 'e', 'c', 'c', 'e', 'c', 'c', 'c', 'c', 'c', 'c', 'r', 'c', 'e', 'r', 'r', 'e', 'c', 'b', 'e', 'c', 'e', 'c', 'c', 'e', 'r', 'c', 'b', 'r', 'c', 'e', 'e', 'c', 'r', 'c', 'c', 'b', 'c', 'b', 'c', 'c', 'r', 'c', 'c', 'r', 'c', 'c', 'r', 'c', 'r', 'c', 'b', 'c', 'c', 'c', 'b', 'c', 'e', 'c', 'c', 'r', 'r', 'c', 'r', 'c', 'c', 'e', 'r', 'c', 'c', 'c', 'r', 'c', 'c', 'b', 'e', 'b', 'e', 'e', 'c', 'b', 'c', 'c', 'c', 'b', 'e', 'b', 'r', 'c', 'e', 'r', 'r', 'b', 'e', 'e', 'r', 'r', 'c', 'e', 'r', 'c', 'c', 'c', 'c', 'c', 'c', 'c', 'e', 'e', 'e', 'b', 'e', 'e', 'c', 'b', 'e', 'e', 'e', 'r', 'c', 'c', 'c', 'c', 'c', 'r', 'e', 'e', 'c', 'r', 'c', 'e', 'r', 'r', 'c', 'e', 'r', 'e', 'e', 'c', 'e', 'c', 'b', 'c', 'e', 'e', 'r', 'e', 'c', 'c', 'e', 'b', 'c', 'e', 'e', 'r', 'b', 'c', 'r', 'e', 'b', 'c', 'c', 'c', 'b', 'b', 'e', 'c', 'e', 'c', 'e', 'e', 'c', 'c', 'b', 'c', 'c', 'r', 'c', 'e', 'c', 'r', 'e', 'c', 'c', 'c', 'r', 'r', 'c', 'e', 'e', 'e', 'c', 'e', 'e', 'c', 'e', 'c', 'e', 'c', 'c', 'e', 'e', 'e', 'r', 'e', 'r', 'c', 'c', 'e', 'r', 'c', 'e', 'e', 'e', 'e', 'e', 'r', 'c', 'e', 'c', 'c', 'e', 'r', 'c', 'b', 'r', 'e', 'c', 'b', 'e', 'c', 'c', 'e', 'c', 'b', 'r', 'r', 'c', 'r', 'c', 'e', 'c', 'c', 'r', 'r', 'r', 'r', 'b', 'c', 'c', 'c', 'b', 'c', 'c', 'r', 'e', 'e', 'c', 'e', 'c', 'r', 'e', 'c', 'c', 'e', 'e', 'c', 'c', 'r', 'r', 'r', 'c', 'c', 'e', 'e', 'b', 'r', 'e', 'e', 'r', 'r', 'c', 'b', 'c', 'b', 'c', 'b', 'c', 'e', 'c', 'c', 'c', 'c', 'c', 'r', 'e', 'e', 'c', 'c', 'e', 'e', 'e', 'e', 'e', 'r', 'c', 'r', 'r', 'c', 'e', 'c', 'c', 'r', 'e', 'c', 'c', 'c', 'c', 'c', 'r', 'r', 'e', 'r', 'c', 'b', 'e', 'r', 'e', 'c', 'e', 'c', 'c', 'r', 'e', 'e', 'e', 'c', 'c', 'b', 'e', 'c', 'e', 'e', 'c', 'r', 'c', 'r', 'c', 'c', 'c', 'e', 'b', 'r', 'c', 'b', 'c', 'c', 'c', 'r', 'e', 'c', 'r', 'c', 'r', 'c', 'e', 'r', 'e', 'b', 'e', 'c', 'c', 'c', 'c', 'c', 'b', 'e', 'r', 'e', 'r', 'c', 'c', 'c', 'e', 'c', 'c', 'c', 'e', 'e', 'c', 'e', 'r', 'c', 'r', 'c', 'c', 'e', 'e', 'c', 'e', 'e', 'r', 'c', 'c', 'e', 'c', 'c', 'r', 'c', 'r', 'c', 'b', 'c', 'c', 'e', 'e', 'e', 'c', 'r', 'r', 'b', 'c', 'c', 'e', 'c', 'c', 'r', 'c', 'b', 'b', 'c', 'b', 'e', 'b', 'r', 'r', 'r', 'e', 'c', 'e', 'c', 'c', 'b', 'e', 'c', 'e', 'c', 'e', 'c', 'c', 'c', 'b', 'c', 'r', 'e', 'e', 'e', 'r', 'b', 'c', 'c', 'e', 'r', 'c', 'r', 'c', 'c', 'c', 'e', 'r', 'e', 'c', 'r', 'c', 'c', 'b', 'c', 'r', 'c', 'c', 'r', 'c', 'b', 'e', 'c', 'c', 'r', 'b', 'c', 'r', 'r', 'c', 'b', 'r', 'c', 'c', 'c', 'r', 'c', 'c', 'c', 'c', 'r', 'e', 'e', 'e', 'c', 'e', 'e', 'e', 'e', 'e', 'c', 'e', 'c', 'e', 'e', 'c', 'c', 'b', 'e', 'e', 'e', 'e', 'c', 'b', 'e', 'e', 'e', 'e', 'e', 'c', 'e', 'e', 'e', 'c', 'e', 'e', 'c', 'e', 'e', 'b', 'c', 'e', 'e', 'e', 'b', 'e', 'e', 'c', 'e', 'e', 'e', 'c', 'e', 'e', 'e', 'c', 'e', 'b', 'b', 'c', 'e', 'e', 'b', 'b', 'e', 'e', 'e', 'b', 'e', 'e', 'e', 'b', 'b', 'e', 'b', 'e', 'c', 'b', 'c', 'e', 'b', 'c', 'e', 'e', 'e', 'e', 'e', 'e', 'e', 'c', 'c', 'e', 'e', 'e', 'e', 'e', 'c', 'b', 'c', 'e', 'b', 'r', 'e', 'e', 'r', 'e', 'e', 'e', 'e', 'c', 'c', 'e', 'r', 'e', 'e', 'b', 'r', 'b', 'e', 'b', 'e', 'c', 'c', 'c', 'e', 'e', 'e', 'b', 'c', 'e', 'b', 'e', 'e', 'e', 'e', 'e', 'c', 'b', 'e', 'e', 'r', 'r', 'e', 'b', 'e', 'c', 'e', 'e', 'b', 'e', 'b', 'b', 'e', 'r', 'e', 'c', 'b', 'e', 'c', 'e', 'e', 'b', 'e', 'e', 'e', 'b', 'c', 'e', 'b', 'r', 'e', 'e', 'c', 'b', 'r', 'e', 'e', 'e', 'e', 'r', 'e', 'e', 'c', 'e', 'c', 'e', 'c', 'c', 'e', 'c', 'e', 'r', 'e', 'b', 'e', 'e', 'e', 'e', 'e', 'e', 'e', 'e', 'e', 'e', 'e', 'e', 'e', 'e', 'c', 'e', 'e', 'e', 'r', 'e', 'r', 'e', 'e', 'e', 'e', 'e', 'e', 'e', 'e', 'b', 'b', 'e', 'e', 'c', 'e', 'e', 'e', 'e', 'e', 'e', 'c', 'e', 'b', 'c', 'e', 'e', 'e', 'b', 'e', 'e', 'e', 'e', 'e', 'e', 'e', 'e', 'e', 'r', 'e', 'e', 'e', 'c', 'e', 'e', 'e', 'e', 'c', 'e', 'b', 'r', 'e', 'c', 'e', 'b', 'e', 'c', 'e', 'b', 'e', 'e', 'e', 'e', 'c', 'e', 'e', 'r', 'r', 'r', 'e', 'c', 'c', 'e', 'e', 'e', 'c', 'e', 'e', 'c', 'b', 'r', 'c', 'e', 'e', 'c', 'c', 'c', 'c', 'c', 'c', 'e', 'e', 'e', 'e', 'e', 'e', 'e', 'e', 'e', 'r', 'e', 'e', 'e', 'e', 'e', 'e', 'e', 'r', 'e', 'e', 'e', 'e', 'e', 'b', 'e', 'e', 'b', 'e', 'e', 'e', 'e', 'e', 'e', 'e', 'e', 'e', 'e', 'e', 'e', 'e', 'e', 'e', 'e', 'e', 'e', 'e', 'e', 'b', 'b', 'e', 'e', 'e', 'e', 'e', 'e', 'e', 'e', 'e', 'e', 'e', 'e', 'b', 'e', 'e', 'e', 'e', 'b', 'e', 'e', 'e', 'e', 'e', 'e', 'e', 'e', 'e', 'e', 'c', 'e', 'e', 'e', 'e', 'e', 'e', 'e', 'b', 'e', 'b', 'e', 'e', 'e', 'e', 'e', 'b', 'e', 'r', 'e', 'e', 'e', 'e', 'b', 'e', 'e', 'e', 'e', 'e', 'e', 'e', 'e', 'e', 'e', 'c', 'e', 'e', 'b', 'c', 'e', 'b', 'e', 'e', 'e', 'e', 'e', 'c', 'e', 'e', 'e', 'e', 'e', 'e', 'e', 'e', 'b', 'e', 'b', 'c', 'e', 'e', 'e', 'e', 'b', 'e', 'e', 'e', 'e', 'b', 'b', 'b', 'e', 'e', 'e', 'e', 'e', 'e', 'e', 'e', 'e', 'e', 'e', 'e', 'e', 'e', 'e', 'e', 'e', 'b', 'e', 'e', 'e', 'e', 'c', 'e', 'e', 'e', 'e', 'e', 'e', 'e', 'e', 'e', 'e', 'e', 'e', 'e', 'b', 'b', 'e', 'b', 'e', 'e', 'e', 'e', 'b', 'e', 'e', 'e', 'e', 'e', 'r', 'b', 'e', 'e', 'e', 'e', 'e', 'e', 'e', 'e', 'e', 'e', 'e', 'e', 'e', 'c', 'e', 'e', 'e', 'e', 'e', 'b', 'e', 'e', 'e', 'e', 'e', 'r', 'e', 'e', 'b', 'e', 'e', 'e', 'b', 'c', 'e', 'e', 'e', 'b', 'e', 'e', 'e', 'e', 'e', 'e', 'e', 'b', 'e', 'e', 'e', 'e', 'e', 'e', 'e', 'e', 'b', 'e', 'e', 'b', 'e', 'e', 'b', 'e', 'b', 'b', 'b', 'e', 'e', 'b', 'e', 'e', 'e', 'e', 'e', 'e', 'e', 'e', 'e', 'e', 'e', 'e', 'e', 'r', 'e', 'e', 'e', 'e', 'e', 'e', 'e', 'e', 'e', 'e', 'e', 'e', 'e', 'e', 'e', 'e', 'c', 'e', 'e', 'e', 'b', 'e', 'b', 'e', 'b', 'e', 'e', 'e', 'c', 'b', 'e', 'e', 'e', 'c', 'e', 'c', 'e', 'e', 'e', 'e', 'e', 'b', 'e', 'c', 'e', 'e', 'e', 'e', 'e', 'e', 'e', 'e', 'e', 'e', 'e', 'e', 'e', 'e', 'e', 'e', 'b', 'e', 'e', 'r', 'e', 'e', 'c', 'e', 'e', 'e', 'e', 'e', 'c', 'e', 'e', 'e', 'e', 'e', 'b', 'c', 'b', 'e', 'e', 'e', 'e', 'e', 'e', 'e', 'e', 'c', 'e', 'e', 'e', 'e', 'e', 'e', 'b', 'e', 'e', 'e', 'e', 'b', 'e', 'r', 'e', 'e', 'e', 'e', 'e', 'e', 'e', 'b', 'e', 'e', 'r', 'b', 'e', 'e', 'e', 'e', 'e', 'e', 'e', 'b', 'e', 'e', 'e', 'e', 'e', 'e', 'b', 'e', 'e', 'e', 'e', 'e', 'e', 'e', 'e', 'b', 'e', 'e', 'b', 'e', 'e', 'e', 'e', 'e', 'e', 'e', 'e', 'e', 'e', 'e', 'e', 'e', 'b', 'b', 'e', 'e', 'e', 'c', 'e', 'e', 'e', 'e', 'e', 'e', 'e', 'e', 'e', 'e', 'e', 'e', 'e', 'e', 'e', 'c', 'c', 'e', 'e', 'e', 'e', 'b', 'e', 'c', 'c', 'r', 'e', 'e', 'e', 'e', 'e', 'e', 'e', 'c', 'e', 'c', 'e', 'e', 'e', 'e', 'e', 'b', 'b', 'r', 'b', 'e', 'e', 'e', 'e', 'e', 'e', 'e', 'e', 'b', 'e', 'e', 'e', 'b', 'e', 'e', 'e', 'e', 'b', 'e', 'e', 'b', 'e', 'e', 'b', 'c', 'c', 'e', 'e', 'e', 'e', 'e', 'e', 'c', 'e', 'e', 'e', 'r', 'e', 'e', 'e', 'e', 'e', 'e', 'e', 'e', 'b', 'e', 'e', 'e', 'e', 'e', 'e', 'r', 'e', 'e', 'e', 'e', 'e', 'e', 'r', 'e', 'e', 'e', 'e', 'e', 'e', 'b', 'e', 'e', 'e', 'e', 'b', 'e', 'e', 'e', 'e', 'b', 'r', 'e', 'e', 'e', 'c', 'b', 'e', 'e', 'e', 'e', 'e', 'e', 'e', 'e', 'e', 'c', 'e', 'e', 'e', 'e', 'e', 'e', 'e', 'e', 'e', 'e', 'e', 'e', 'e', 'e', 'e', 'b', 'e', 'b', 'b', 'b', 'b', 'e', 'b', 'b', 'e', 'e', 'b', 'e', 'c', 'e', 'c', 'b', 'e', 'e', 'b', 'e', 'e', 'e', 'b', 'c', 'e', 'b', 'e', 'e', 'b', 'b', 'b', 'e', 'b', 'b', 'b', 'b', 'e', 'b', 'e', 'e', 'e', 'b', 'e', 'b', 'e', 'e', 'b', 'b', 'b', 'b', 'e', 'b', 'b', 'b', 'b', 'b', 'b', 'e', 'e', 'b', 'b', 'e', 'b', 'e', 'b', 'b', 'e', 'e', 'e', 'e', 'b', 'e', 'e', 'b', 'b', 'b', 'b', 'e', 'e', 'e', 'e', 'b', 'b', 'b', 'b', 'e', 'e', 'b', 'b', 'e', 'e', 'e', 'e', 'e', 'b', 'b', 'e', 'e', 'e', 'b', 'e', 'e', 'e', 'e', 'e', 'e', 'b', 'e', 'e', 'b', 'b', 'b', 'e', 'e', 'r', 'e', 'e', 'e', 'b', 'b', 'e', 'e', 'e', 'b', 'b', 'e', 'e', 'e', 'e', 'e', 'c', 'b', 'e', 'e', 'e', 'b', 'e', 'e', 'e', 'b', 'b', 'b', 'e', 'e', 'e', 'e', 'b', 'b', 'e', 'b', 'b', 'b', 'b', 'b', 'e', 'e', 'b', 'b', 'e', 'b', 'e', 'b', 'e', 'e', 'e', 'b', 'e', 'b', 'e', 'e', 'e', 'e', 'b', 'e', 'e', 'b', 'b', 'e', 'b', 'e', 'e', 'c', 'e', 'b', 'b', 'e', 'e', 'b', 'e', 'e', 'b', 'e', 'b', 'e', 'b', 'e', 'e', 'e', 'e', 'b', 'b', 'e', 'b', 'e', 'r', 'e', 'e', 'e', 'e', 'e', 'e', 'b', 'e', 'e', 'e', 'e', 'b', 'b', 'e', 'b', 'b', 'b', 'e', 'b', 'b', 'e', 'b', 'e', 'c', 'b', 'e', 'b', 'b', 'b', 'e', 'e', 'e', 'e', 'b', 'b', 'b', 'e', 'e', 'e', 'r', 'b', 'e', 'b', 'b', 'e', 'c', 'e', 'e', 'b', 'e', 'b', 'b', 'e', 'c', 'e', 'e', 'e', 'b', 'e', 'b', 'b', 'e', 'e', 'b', 'b', 'b', 'b', 'b', 'e', 'c', 'b', 'b', 'e', 'b', 'e', 'e', 'b', 'b', 'e', 'e', 'e', 'b', 'b', 'e', 'b', 'e', 'c', 'e', 'e', 'b', 'b', 'e', 'e', 'e', 'b', 'b', 'b', 'b', 'b', 'b', 'b', 'b', 'b', 'b', 'b', 'b', 'e', 'b', 'b', 'b', 'b', 'b', 'b', 'b', 'b', 'b', 'b', 'b', 'b', 'b', 'b', 'b', 'b', 'e', 'b', 'e', 'b', 'b', 'b', 'b', 'b', 'b', 'b', 'b', 'b', 'b', 'b', 'b', 'b', 'b', 'b', 'e', 'b', 'e', 'b', 'b', 'b', 'b', 'b', 'b', 'b', 'b', 'b', 'b', 'b', 'b', 'b', 'b', 'b', 'b', 'b', 'b', 'b', 'b', 'b', 'b', 'b', 'b', 'b', 'b', 'b', 'b', 'b', 'b', 'b', 'b', 'b', 'b', 'b', 'b', 'b', 'b', 'b', 'b', 'b', 'b', 'e', 'b', 'b', 'b', 'b', 'b', 'b', 'b', 'e', 'b', 'b', 'b', 'b', 'b', 'b', 'b', 'b', 'b', 'b', 'b', 'b', 'b', 'b', 'b', 'b', 'b', 'b', 'b', 'b', 'b', 'b', 'b', 'b', 'b', 'b', 'e', 'b', 'b', 'b', 'b', 'b', 'b', 'b', 'b', 'b', 'e', 'b', 'b', 'b', 'e', 'b', 'b', 'b', 'b', 'b', 'e', 'b', 'b', 'b', 'b', 'e', 'b', 'b', 'b', 'b', 'b', 'b', 'b', 'e', 'b', 'b', 'b', 'b', 'b', 'e', 'b', 'b', 'b', 'b', 'e', 'b', 'b', 'b', 'b', 'b', 'b', 'b', 'b', 'b', 'b', 'b', 'b', 'b', 'b', 'b', 'b', 'e', 'b', 'b', 'b', 'b', 'b', 'b', 'e', 'b', 'e', 'b', 'b', 'b', 'b', 'b', 'b', 'b', 'b', 'b', 'b', 'b', 'b', 'b', 'b', 'b', 'b', 'b', 'b', 'b', 'b', 'b', 'b', 'b', 'b', 'b', 'b', 'b', 'b', 'b', 'b', 'b', 'b', 'b', 'b', 'b', 'b', 'b', 'b', 'b', 'b', 'b', 'b', 'b', 'b', 'b', 'b', 'b', 'b', 'e', 'b', 'e', 'b', 'b', 'e', 'b', 'b', 'b', 'b', 'b', 'b', 'b', 'b', 'b', 'b', 'b', 'b', 'b', 'b', 'b', 'e', 'b', 'b', 'b', 'b', 'b', 'b', 'b', 'e', 'b', 'e', 'e', 'b', 'b', 'b', 'b', 'b', 'b', 'b', 'b', 'e', 'e', 'b', 'b', 'b', 'b', 'b', 'b', 'b', 'b', 'b', 'b', 'b', 'e', 'b', 'b', 'b', 'b', 'b', 'b', 'b', 'b', 'b', 'b', 'b', 'b', 'b', 'b', 'b', 'b', 'b', 'b', 'b', 'b', 'b', 'b', 'b', 'b', 'b', 'b', 'b', 'b', 'b', 'b', 'b', 'b', 'b', 'b', 'b', 'b', 'b', 'b', 'b', 'b', 'b', 'b', 'b', 'b', 'b', 'b', 'b', 'b', 'b', 'b', 'b', 'e', 'b', 'b', 'b', 'b', 'b', 'b', 'b', 'b', 'b', 'b', 'b', 'b', 'b', 'b', 'b', 'b', 'b', 'b', 'b', 'b', 'b', 'b', 'b', 'b', 'b', 'e', 'e', 'b', 'b', 'b', 'b', 'b', 'b', 'b', 'e', 'b', 'b', 'b', 'b', 'b', 'b', 'b', 'e', 'b', 'b', 'b', 'b', 'e', 'e', 'b', 'b', 'b', 'b', 'b', 'b', 'b', 'b', 'b', 'b', 'b', 'b', 'b', 'b', 'b', 'b', 'e', 'b', 'b', 'b', 'b', 'b', 'b', 'b', 'b', 'b', 'b', 'b', 'b', 'b', 'b', 'b', 'b', 'b', 'b', 'b', 'b', 'b', 'b', 'b', 'b', 'b', 'b', 'b', 'b', 'b', 'b', 'b', 'b', 'b', 'b', 'b', 'b', 'b', 'b', 'b', 'b', 'b', 'b', 'b', 'b', 'b', 'b', 'b', 'b', 'b', 'b', 'b', 'b', 'b', 'b', 'b', 'b', 'b', 'b', 'b', 'b', 'b', 'b', 'b', 'b', 'b', 'b', 'b', 'b', 'b', 'b', 'b', 'b', 'b', 'b', 'b', 'b', 'b', 'b', 'b', 'b', 'b', 'b', 'b', 'b', 'b', 'b', 'b', 'b', 'b', 'b', 'b', 'b', 'b', 'b', 'b', 'b', 'b', 'b', 'b', 'b', 'b', 'b', 'b', 'b', 'b', 'b', 'b', 'b', 'b', 'b', 'b', 'e', 'b', 'b', 'b', 'b', 'b', 'b', 'b', 'b', 'b', 'b', 'b', 'b', 'b', 'b', 'b', 'b', 'e', 'b', 'b', 'b', 'b', 'b', 'b', 'b', 'b', 'b', 'b', 'b', 'b', 'b', 'b', 'b', 'b', 'b', 'b', 'b', 'b', 'b', 'b', 'b', 'b', 'b', 'b', 'b', 'b', 'b', 'b', 'b', 'b', 'b', 'b', 'b', 'b', 'b', 'b', 'b', 'b', 'b', 'b', 'e', 'b', 'b', 'b', 'b', 'b', 'b', 'b', 'b', 'b', 'b', 'b', 'b', 'b', 'b', 'b', 'b', 'b', 'b', 'b', 'b', 'b', 'b', 'b', 'b', 'b', 'b', 'b', 'b', 'b', 'b', 'b', 'b', 'b', 'b', 'b', 'b', 'b', 'b', 'b', 'e', 'b', 'b', 'b', 'b', 'b', 'b', 'b', 'b', 'b', 'b', 'b', 'b', 'b', 'b', 'b', 'b', 'b', 'b', 'b', 'b', 'b', 'b', 'b', 'b', 'b', 'b', 'b', 'b', 'b', 'b', 'b', 'b', 'b', 'b', 'b', 'b', 'b', 'b', 'b', 'b', 'b', 'b', 'b', 'b', 'b', 'b', 'b', 'b', 'b', 'b', 'b', 'b', 'b', 'b', 'b', 'b', 'b', 'e', 'b', 'b', 'b', 'b', 'b', 'b', 'b', 'b', 'b', 'b', 'b', 'b', 'e', 'b', 'b', 'b', 'b', 'b', 'b', 'b', 'b', 'b', 'b', 'b', 'b', 'b', 'b', 'b', 'e', 'b', 'b', 'b', 'b', 'b', 'b', 'b', 'b', 'b', 'b', 'b', 'b', 'b', 'b', 'b', 'b', 'b', 'b', 'b', 'b', 'b', 'b', 'b', 'b', 'b', 'b', 'e', 'b', 'b', 'b', 'b', 'b', 'b', 'b', 'b', 'b', 'b', 'b', 'b', 'b', 'b', 'b', 'b', 'b', 'b', 'b', 'b', 'b', 'b', 'b', 'b', 'b', 'b', 'b', 'b', 'b', 'b', 'b', 'b', 'b', 'b', 'b', 'b', 'e', 'b', 'b', 'b', 'b', 'b', 'b', 'b', 'b', 'e', 'b', 'b', 'b', 'b', 'b', 'b', 'b', 'b', 'b', 'b', 'b', 'b', 'b', 'b', 'b', 'b', 'b', 'b', 'b', 'b', 'b', 'b', 'b', 'b', 'b', 'b', 'b', 'b', 'b', 'b', 'b', 'b', 'b', 'b', 'b', 'b', 'b', 'b', 'b', 'b', 'b', 'b', 'b', 'b', 'b', 'b', 'b', 'b', 'b', 'b', 'b', 'b', 'b', 'b', 'b', 'b', 'b', 'b', 'b', 'b', 'b', 'b', 'b', 'b', 'b', 'b', 'b', 'b', 'b', 'b', 'b', 'b', 'b', 'b', 'b', 'e', 'b', 'b', 'b', 'b', 'b', 'b', 'b', 'b', 'b', 'b', 'b', 'b', 'b', 'b', 'b', 'b', 'b', 'b', 'b', 'b', 'b', 'b', 'b', 'b', 'b', 'b', 'b', 'b', 'b', 'b', 'b', 'b', 'b', 'b', 'b', 'b', 'b', 'b', 'b', 'b', 'b', 'b', 'b', 'b', 'b', 'b', 'b', 'b', 'b', 'b', 'b', 'b', 'b', 'b', 'b', 'b', 'b', 'b', 'b', 'b', 'b', 'b', 'b', 'b', 'b', 'b', 'b', 'b', 'b', 'b', 'b', 'b', 'b', 'b', 'b', 'b', 'b', 'b', 'b', 'b', 'b', 'b', 'b', 'b', 'b', 'b', 'b', 'b', 'b', 'b', 'b', 'b', 'b', 'b', 'b', 'b', 'b', 'b', 'b', 'b', 'b', 'b', 'b', 'b', 'b', 'b', 'b', 'b', 'b', 'b', 'b', 'b', 'b', 'b', 'b', 'b', 'b', 'b', 'b', 'b', 'b', 'b', 'b', 'b', 'b', 'b', 'b', 'b', 'b', 'b', 'b', 'b', 'b', 'b', 'b', 'b', 'b', 'b', 'b', 'b', 'b', 'b', 'b', 'b', 'b', 'b', 'b', 'b', 'b', 'b', 'b', 'b', 'b', 'b', 'b', 'b', 'b', 'b', 'b', 'b', 'b', 'b', 'b', 'b', 'b', 'b', 'b', 'b', 'b', 'b', 'b', 'b', 'b', 'b', 'b', 'b', 'b', 'b', 'b', 'b', 'b', 'b', 'b', 'b', 'b', 'b', 'b', 'b', 'b', 'b', 'b', 'b', 'b', 'b', 'b', 'b', 'b', 'b', 'b', 'b', 'b', 'b', 'b', 'b', 'b', 'b', 'b', 'b', 'b', 'b', 'b', 'b', 'b', 'b', 'b', 'b', 'b', 'b', 'b', 'b', 'b', 'b', 'b', 'b', 'b', 'b', 'b', 'b', 'b', 'b', 'b', 'b', 'b', 'b', 'b', 'b', 'b', 'b', 'b', 'b', 'b', 'b', 'b', 'b', 'b', 'b', 'b', 'b', 'b', 'b', 'b', 'b', 'b', 'b', 'b', 'b', 'b', 'b', 'b', 'b', 'b', 'b', 'b', 'b', 'b', 'b', 'b', 'b', 'b', 'b', 'b', 'b', 'b', 'b', 'b', 'b', 'b', 'b', 'b', 'b', 'b', 'b', 'b', 'b', 'b', 'b', 'b', 'b', 'b', 'b', 'b', 'b', 'b', 'b', 'b', 'b', 'b', 'b', 'b', 'b', 'b', 'b', 'b', 'b', 'b', 'b', 'b', 'b', 'b', 'b', 'b', 'b', 'b', 'b', 'b', 'b', 'b', 'b', 'b', 'b', 'b', 'b', 'b', 'b', 'b', 'b', 'b', 'b', 'b', 'b', 'b', 'b', 'b', 'b', 'b', 'b', 'b', 'b', 'b', 'b', 'b', 'b', 'b', 'b', 'b', 'b', 'b', 'b', 'b', 'b', 'b', 'b', 'b', 'b', 'b', 'b', 'b', 'b', 'b', 'b', 'b', 'b', 'b', 'b', 'b', 'b', 'b', 'b', 'b', 'b', 'b', 'b', 'b', 'b', 'b', 'b', 'b', 'b', 'b', 'b', 'b', 'b', 'b', 'b', 'b', 'b', 'b', 'b', 'b', 'b', 'b', 'b', 'b', 'b', 'b', 'b', 'b', 'b', 'b', 'b', 'b', 'b', 'b', 'b', 'b', 'b', 'b', 'b', 'b', 'b', 'b', 'b', 'b', 'b', 'b', 'b', 'b', 'b', 'b', 'b', 'b', 'b', 'b', 'b', 'b', 'b', 'b', 'b', 'b', 'b', 'b', 'b', 'b', 'b', 'b', 'b', 'b', 'b', 'b', 'b', 'b', 'b', 'b', 'b', 'b', 'b', 'b', 'b', 'b', 'b', 'b', 'b', 'b', 'b', 'b', 'b', 'b', 'b', 'b', 'b', 'b', 'b', 'b', 'b', 'b', 'b', 'b', 'b', 'b', 'b', 'b', 'b', 'b', 'b', 'b', 'b', 'b', 'b', 'b', 'b', 'b', 'b', 'b', 'b', 'b', 'b', 'b', 'b', 'b', 'b', 'b', 'b', 'b', 'b', 'b', 'b', 'b', 'b', 'b', 'b', 'b', 'b', 'b', 'b', 'b', 'b', 'b', 'b', 'b', 'b', 'b', 'b', 'b', 'b', 'b', 'b', 'b', 'b', 'b', 'b', 'b', 'b', 'b', 'b', 'b', 'b', 'b', 'b', 'b', 'b', 'b', 'b', 'b', 'b', 'b', 'b', 'b', 'b', 'b', 'b', 'b', 'b', 'b', 'b', 'b', 'b', 'b', 'b', 'b', 'b', 'b', 'b', 'b', 'b', 'b', 'b', 'b', 'b', 'b', 'b', 'b', 'b', 'b', 'b', 'b', 'b', 'b', 'b', 'b', 'b', 'b', 'b', 'b', 'b', 'b', 'b', 'b', 'b', 'b', 'b', 'b', 'b', 'b', 'b', 'b', 'b', 'b', 'b', 'b', 'b', 'b', 'b', 'b', 'b', 'b', 'b', 'b', 'b', 'b', 'b', 'b', 'b', 'b', 'b', 'b', 'b', 'b', 'b', 'b', 'b', 'b', 'b', 'b', 'b', 'b', 'b', 'b', 'b', 'b', 'b', 'b', 'b', 'b', 'b', 'b', 'b', 'b', 'b', 'b', 'b', 'b', 'b', 'b', 'b', 'b', 'b', 'b', 'b', 'b', 'b', 'b', 'b', 'b', 'b', 'b', 'b', 'b', 'b', 'b', 'b', 'b', 'b', 'b', 'b', 'b', 'b', 'b', 'b', 'b', 'b', 'b', 'b', 'b', 'b', 'b', 'b', 'b', 'b', 'b', 'b', 'b', 'b', 'b', 'b', 'b', 'b', 'b', 'b', 'b', 'b', 'b', 'b', 'b', 'b', 'b', 'b', 'b', 'b', 'b', 'b', 'b', 'b', 'b', 'b', 'b', 'b', 'b', 'b', 'b', 'b', 'b', 'b', 'b', 'b', 'b', 'b', 'b', 'b', 'b', 'b', 'b', 'b', 'b', 'b', 'b', 'b', 'b', 'b', 'b', 'b', 'b', 'b', 'b', 'b', 'b', 'b', 'b', 'b', 'b', 'b', 'b', 'b', 'b', 'b', 'b', 'b', 'b', 'b', 'b', 'b', 'b', 'b', 'b', 'b', 'b', 'b', 'b', 'b', 'b', 'b', 'b', 'b', 'b', 'b', 'b', 'b', 'b', 'b', 'b', 'b', 'b', 'b', 'b', 'b', 'b', 'b', 'b', 'b', 'b', 'b', 'b', 'b', 'b', 'b', 'b', 'b', 'b', 'b', 'b', 'b', 'b', 'b', 'b', 'b', 'b', 'b', 'b', 'b', 'b', 'b', 'b', 'b', 'b', 'b', 'b', 'b', 'b', 'b', 'b', 'b', 'b', 'b', 'b', 'b', 'b', 'b', 'b', 'b', 'b', 'b', 'b', 'b', 'b', 'b', 'b', 'b', 'b', 'b', 'b', 'b', 'b', 'b', 'b', 'b', 'b', 'b', 'b', 'b', 'b', 'b', 'b', 'b', 'b', 'b', 'b', 'b', 'b', 'b', 'b', 'b', 'b', 'b', 'b', 'b', 'b', 'b', 'b', 'b', 'b', 'b', 'b', 'b', 'b', 'b', 'b', 'b', 'b', 'b', 'b', 'b', 'b', 'b', 'b', 'b', 'b', 'b', 'b', 'b', 'b', 'b', 'b', 'b', 'b', 'b', 'b', 'b', 'b', 'b', 'b', 'b', 'b', 'b', 'b', 'b', 'b', 'b', 'b', 'b', 'b', 'b', 'b', 'b', 'b', 'b', 'b', 'b', 'b', 'b', 'b', 'b', 'b', 'b', 'b', 'b', 'b', 'b', 'b', 'b', 'b', 'b', 'b', 'b', 'b', 'b', 'b', 'b', 'b', 'b', 'b', 'b', 'b', 'b', 'b', 'b', 'b', 'b', 'b', 'b', 'b', 'b', 'b', 'b', 'b', 'b', 'b', 'b', 'b', 'b', 'b', 'b', 'b', 'b', 'b', 'b', 'b', 'b', 'b', 'b', 'b', 'b', 'b', 'b', 'b', 'b', 'b', 'b', 'b', 'b', 'b', 'b', 'b', 'b', 'b', 'b', 'b', 'b', 'b', 'b', 'b', 'b', 'b', 'b', 'b', 'b', 'b', 'b', 'b', 'b', 'b', 'b', 'b', 'b', 'b', 'b', 'b', 'b', 'b', 'b', 'b', 'b', 'b', 'b', 'b', 'b', 'b', 'b', 'b', 'b', 'b', 'b', 'b', 'b', 'b', 'b', 'b', 'b', 'b', 'b', 'b', 'b', 'b', 'b', 'b', 'b', 'b', 'b', 'b', 'e', 'b', 'b', 'b', 'b', 'b', 'b', 'b', 'b', 'b', 'b', 'b', 'b', 'b', 'b', 'b', 'b', 'b', 'b', 'b', 'b', 'b', 'b', 'b', 'b', 'b', 'b', 'b', 'b', 'b', 'b', 'b', 'b', 'b', 'b', 'b', 'b', 'b', 'b', 'c', 'b', 'b', 'b', 'b', 'b', 'b', 'b', 'b', 'b', 'b', 'b', 'b', 'b', 'b', 'b', 'b', 'b', 'b', 'b', 'b', 'b', 'b', 'b', 'b', 'b', 'b', 'b', 'b', 'b', 'b', 'b', 'b', 'b', 'b', 'b', 'b', 'b', 'b', 'b', 'b', 'b', 'b', 'b', 'b', 'b', 'b', 'b', 'b', 'b', 'b', 'b', 'b', 'e', 'b', 'b', 'b', 'b', 'b', 'b', 'b', 'b', 'b', 'b', 'b', 'b', 'b', 'b', 'b', 'b', 'b', 'b', 'b', 'b', 'b', 'b', 'b', 'c', 'b', 'b', 'b', 'c', 'b', 'b', 'b', 'b', 'b', 'b', 'b', 'b', 'b', 'b', 'b', 'b', 'b', 'b', 'b', 'b', 'b', 'b', 'b', 'b', 'b', 'b', 'b', 'b', 'b', 'b', 'b', 'b', 'b', 'b', 'b', 'b', 'b', 'b', 'b', 'b', 'b', 'b', 'b', 'b', 'b', 'b', 'b', 'b', 'b', 'b', 'b', 'b', 'b', 'b', 'b', 'b', 'b', 'b', 'b', 'b', 'b', 'b', 'b', 'b', 'b', 'b', 'b', 'b', 'b', 'b', 'b', 'b', 'b', 'b', 'b', 'b', 'b', 'b', 'b', 'b', 'b', 'b', 'b', 'b', 'b', 'b', 'b', 'b', 'b', 'b', 'b', 'b', 'b', 'b', 'b', 'r', 'b', 'b', 'b', 'r', 'b', 'b', 'b', 'b', 'b', 'b', 'b', 'b', 'b', 'b', 'b', 'b', 'b', 'b', 'b', 'b', 'b', 'b', 'b', 'b', 'b', 'b', 'b', 'b', 'b', 'b', 'b', 'b', 'b', 'b', 'b', 'b', 'b', 'b', 'b', 'b', 'b', 'b', 'b', 'b', 'b', 'b', 'b', 'b', 'b', 'b', 'b', 'b', 'b', 'b', 'b', 'b', 'b', 'b', 'b', 'b', 'b', 'b', 'b', 'b', 'b', 'b', 'b', 'b', 'b', 'b', 'b', 'b', 'b', 'b', 'b', 'b', 'b', 'b', 'b', 'b', 'b', 'b', 'b', 'b', 'b', 'b', 'r', 'b', 'b', 'b', 'b', 'b', 'b', 'b', 'c', 'b', 'b', 'b', 'b', 'b', 'b', 'b', 'b', 'b', 'b', 'b', 'b', 'b', 'b', 'b', 'b', 'b', 'b', 'b', 'b', 'b', 'b', 'b', 'b', 'b', 'b', 'b', 'b', 'b', 'b', 'b', 'b', 'b', 'b', 'e', 'b', 'b', 'c', 'b', 'e', 'b', 'b', 'b', 'b', 'b', 'b', 'b', 'b', 'b', 'b', 'b', 'b', 'b', 'b', 'b', 'b', 'b', 'b', 'b', 'b', 'b', 'b', 'b', 'b', 'b', 'c', 'b', 'b', 'b', 'b', 'b', 'b', 'b', 'b', 'b', 'b', 'b', 'b', 'b', 'b', 'b', 'b', 'b', 'b', 'e', 'b', 'b', 'b', 'c', 'b', 'b', 'b', 'b', 'b', 'b', 'b', 'b', 'b', 'b', 'b', 'b', 'b', 'b', 'b', 'c', 'b', 'b', 'b', 'b', 'b', 'b', 'b', 'b', 'b', 'b', 'b', 'b', 'b', 'b', 'b', 'b', 'b', 'b', 'b', 'b', 'b', 'b', 'r', 'b', 'b', 'b', 'b', 'b', 'b', 'b', 'b', 'b', 'c', 'b', 'b', 'b', 'b', 'b', 'b', 'b', 'b', 'b', 'b', 'b', 'b', 'b', 'b', 'b', 'b', 'b', 'b', 'b', 'b', 'b', 'b', 'b', 'b', 'b', 'b', 'b', 'b', 'b', 'c', 'b', 'r', 'b', 'b', 'b', 'b', 'b', 'b', 'b', 'b', 'b', 'b', 'b', 'b', 'b', 'b', 'b', 'b', 'b', 'b', 'b', 'b', 'b', 'b', 'b', 'b', 'b', 'b', 'b', 'b', 'b', 'b', 'b', 'b', 'e', 'b', 'b', 'e', 'c', 'b', 'b', 'b', 'b', 'b', 'b', 'b', 'b', 'b', 'b', 'b', 'b', 'b', 'b', 'b', 'b', 'b', 'b', 'b', 'b', 'c', 'b', 'b', 'c', 'b', 'b', 'b', 'b', 'b', 'b', 'b', 'b', 'b', 'b', 'c', 'c', 'b', 'b', 'b', 'b', 'b', 'b', 'b', 'b', 'b', 'b', 'b', 'b', 'b', 'b', 'b', 'b', 'b', 'b', 'b', 'b', 'b', 'b', 'c', 'b', 'b', 'b', 'b', 'b', 'b', 'b', 'b', 'b', 'b', 'b', 'b', 'b', 'b', 'b', 'b', 'b', 'b', 'b', 'b', 'b', 'b', 'b', 'b', 'b', 'b', 'b', 'b', 'b', 'b', 'b', 'b', 'b', 'b', 'b', 'b', 'b', 'b', 'b', 'b', 'b', 'b', 'b', 'b', 'b', 'b', 'b', 'b', 'b', 'b', 'b', 'b', 'e', 'b', 'b', 'b', 'b', 'b', 'b', 'b', 'b', 'b', 'b', 'b', 'b', 'b', 'b', 'b', 'b', 'b', 'b', 'b', 'b', 'b', 'b', 'b', 'b', 'b', 'b', 'b', 'b', 'b', 'b', 'b', 'b', 'b', 'b', 'b', 'b', 'e', 'b', 'b', 'b', 'b', 'b', 'b', 'b', 'b', 'b', 'b', 'b', 'b', 'b', 'b', 'e', 'c', 'b', 'b', 'b', 'b', 'b', 'b', 'b', 'b', 'b', 'b', 'b', 'b', 'b', 'b', 'b', 'b', 'b', 'b', 'b', 'b', 'b', 'b', 'b', 'b', 'b', 'b', 'b', 'b', 'b', 'b', 'b', 'b', 'b', 'b', 'b', 'b', 'b', 'b', 'b', 'b', 'b', 'b', 'b', 'b', 'b', 'b', 'b', 'b', 'b', 'b', 'b', 'b', 'b', 'c', 'b', 'b', 'b', 'b', 'c', 'b', 'b', 'b', 'b', 'b', 'b', 'b', 'b', 'b', 'b', 'b', 'b', 'b', 'b', 'b', 'b', 'b', 'b', 'b', 'b', 'b', 'b', 'b', 'b', 'b', 'b', 'b', 'b', 'b', 'b', 'b', 'b', 'b', 'b', 'b', 'b', 'b', 'b', 'b', 'b', 'b', 'b', 'b', 'b', 'b', 'b', 'b', 'b', 'b', 'b', 'b', 'b', 'b', 'b', 'b', 'b', 'b', 'b', 'b', 'b', 'b', 'b', 'b', 'b', 'b', 'b', 'b', 'b', 'b', 'b', 'b', 'b', 'b', 'b', 'b', 'b', 'b', 'b', 'c', 'b', 'b', 'b', 'b', 'c', 'b', 'b', 'b', 'b', 'b', 'r', 'b', 'e', 'b', 'b', 'c', 'b', 'b', 'b', 'b', 'b', 'b', 'e', 'b', 'c', 'b', 'b', 'b', 'b', 'b', 'b', 'b', 'b', 'b', 'b', 'b', 'b', 'b', 'b', 'b', 'b', 'b', 'c', 'b', 'e', 'b', 'b', 'b', 'b', 'b', 'b', 'b', 'b', 'b', 'b', 'b', 'b', 'c', 'b', 'b', 'b', 'b', 'b', 'b', 'b', 'b', 'b', 'b', 'b', 'c', 'b', 'b', 'b', 'b', 'b', 'b', 'b', 'b', 'b', 'b', 'b', 'b', 'b', 'b', 'b', 'b', 'c', 'b', 'b', 'b', 'b', 'b', 'b', 'b', 'b', 'b', 'c', 'r', 'b', 'b', 'b', 'c', 'c', 'b', 'b', 'b', 'b', 'b', 'b', 'e', 'b', 'b', 'b', 'b', 'b', 'b', 'b', 'b', 'b', 'b', 'b', 'b', 'b', 'b', 'c', 'b', 'b', 'b', 'b', 'c', 'b', 'b', 'b', 'b', 'b', 'b', 'e', 'c', 'b', 'b', 'b', 'b', 'b', 'c', 'c', 'b', 'b', 'b', 'b', 'c', 'b', 'b', 'b', 'b', 'b', 'b', 'b', 'b', 'b', 'b', 'b', 'b', 'b', 'r', 'c', 'b', 'b', 'b', 'b', 'b', 'b', 'b', 'b', 'b', 'b', 'b', 'b', 'b', 'b', 'b', 'b', 'b', 'e', 'b', 'r', 'b', 'b', 'b', 'b', 'b', 'b', 'c', 'b', 'b', 'c', 'b', 'b', 'c', 'b', 'b', 'b', 'b', 'b', 'c', 'b', 'b', 'b', 'b', 'e', 'b', 'b', 'b', 'b', 'b', 'b', 'b', 'b', 'b', 'b', 'b', 'b', 'c', 'b', 'b', 'b', 'b', 'b', 'b', 'b', 'b', 'b', 'b', 'b', 'b', 'b', 'b', 'b', 'b', 'b', 'e', 'b', 'b', 'b', 'b', 'b', 'b', 'b', 'b', 'b', 'e', 'e', 'r', 'b', 'b', 'b', 'b', 'b', 'b', 'b', 'b', 'b', 'b', 'b', 'b', 'b', 'b', 'b', 'b', 'c', 'c', 'b', 'b', 'r', 'b', 'b', 'b', 'b', 'b', 'b', 'b', 'b', 'b', 'b', 'e', 'b', 'b', 'b', 'b', 'b', 'b', 'b', 'b', 'b', 'b', 'b', 'b', 'r', 'b', 'b', 'e', 'b', 'b', 'r', 'c', 'e', 'b', 'b', 'b', 'b', 'b', 'b', 'e', 'b', 'b', 'e', 'b', 'b', 'b', 'b', 'b', 'b', 'b', 'b', 'b', 'b', 'b', 'b', 'b', 'b', 'r', 'c', 'e', 'r', 'b', 'b', 'b', 'b', 'b', 'b', 'c', 'e', 'b', 'r', 'r', 'b', 'c', 'b', 'e', 'c', 'c', 'b', 'b', 'e', 'c', 'b', 'b', 'b', 'b', 'c', 'b', 'c', 'e', 'b', 'b', 'e', 'b', 'c', 'c', 'b', 'b', 'b', 'b', 'b', 'b', 'e', 'b', 'b', 'r', 'b', 'b', 'b', 'b', 'b', 'b', 'e', 'b', 'c', 'b', 'b', 'b', 'c', 'c', 'c', 'b', 'b', 'c', 'b', 'b', 'b', 'b', 'e', 'b', 'b', 'r', 'e', 'b', 'c', 'b', 'c', 'b', 'e', 'b', 'b', 'b', 'e', 'b', 'c', 'c', 'b', 'e', 'b', 'c', 'c', 'b', 'c', 'c', 'b', 'c', 'c', 'b', 'b', 'r', 'b', 'b', 'b', 'b', 'b', 'c', 'b', 'e', 'b', 'r', 'b', 'r', 'b', 'b', 'b', 'b', 'b', 'b', 'e', 'b', 'b', 'b', 'b', 'c', 'b', 'b', 'b', 'b', 'e', 'b', 'c', 'e', 'c', 'c', 'b', 'e', 'b', 'r', 'b', 'b', 'c', 'b', 'b', 'b', 'b', 'b', 'r', 'b', 'b', 'c', 'e', 'e', 'b', 'c', 'b', 'b', 'b', 'r', 'c', 'b', 'b', 'c', 'b', 'b', 'b', 'b', 'b', 'b', 'c', 'b', 'b', 'c', 'c', 'b', 'r', 'c', 'c', 'r', 'c', 'c', 'b', 'b', 'r', 'b', 'b', 'b', 'b', 'c', 'b', 'b', 'r', 'c', 'b', 'b', 'c', 'b', 'b', 'b', 'c', 'b', 'b', 'b', 'b', 'c', 'b', 'b', 'b', 'b', 'c', 'b', 'b', 'b', 'e', 'b', 'b', 'b', 'b', 'c', 'b', 'b', 'c', 'b', 'b', 'b', 'b', 'b', 'r', 'r', 'c', 'b', 'b', 'r', 'b', 'b', 'b', 'b', 'b', 'c', 'b', 'b', 'b', 'c', 'b', 'b', 'e', 'r', 'b', 'b', 'c', 'b', 'b', 'c', 'b', 'c', 'b', 'r', 'c', 'b', 'c', 'b', 'b', 'b', 'b', 'b', 'e', 'b', 'b', 'b', 'b', 'b', 'e', 'b', 'b', 'b', 'b', 'b', 'b', 'e', 'b', 'c', 'b', 'b', 'c', 'c', 'b', 'b', 'c', 'b', 'b', 'b', 'b', 'b', 'b', 'b', 'b', 'b', 'e', 'b', 'b', 'b', 'b', 'b', 'r', 'b', 'b', 'b', 'c', 'e', 'b', 'r', 'b', 'b', 'r', 'b', 'b', 'b', 'b', 'b', 'b', 'b', 'b', 'b', 'b', 'b', 'b', 'b', 'b', 'e', 'b', 'e', 'b', 'r', 'r', 'b', 'b', 'c', 'b', 'e', 'b', 'r', 'b', 'b', 'b', 'b', 'b', 'c', 'b', 'c', 'b', 'c', 'b', 'b', 'b', 'c', 'b', 'c', 'b', 'b', 'c', 'b', 'b', 'b', 'b', 'c', 'b', 'b', 'b', 'e', 'e', 'e', 'b', 'b', 'b', 'e', 'b', 'b', 'b', 'e', 'b', 'c', 'b', 'e', 'b', 'e', 'b', 'e', 'b', 'r', 'b', 'b', 'b', 'c', 'b', 'b', 'c', 'c', 'c', 'b', 'b', 'c', 'r', 'e', 'e', 'c', 'r', 'b', 'c', 'b', 'b', 'b', 'e', 'b', 'b', 'b', 'b', 'r', 'b', 'r', 'b', 'c', 'e', 'b', 'r', 'e', 'e', 'c', 'b', 'b', 'e', 'c', 'b', 'b', 'b', 'b', 'b', 'b', 'c', 'b', 'b', 'e', 'b', 'b', 'e', 'b', 'b', 'r', 'b', 'e', 'b', 'c', 'b', 'c', 'e', 'b', 'b', 'c', 'e', 'b', 'b', 'b', 'e', 'r', 'b', 'b', 'b', 'c', 'r', 'b', 'e', 'b', 'c', 'b', 'c', 'b', 'b', 'b', 'b', 'b', 'c', 'b', 'b', 'b', 'b', 'b', 'b', 'e', 'b', 'b', 'c', 'e', 'c', 'b', 'b', 'b', 'e', 'b', 'b', 'b', 'b', 'b', 'e', 'b', 'b', 'b', 'c', 'b', 'c', 'b', 'b', 'b', 'c', 'c', 'b', 'b', 'b', 'r', 'b', 'b', 'c', 'e', 'b', 'b', 'b', 'b', 'b', 'c', 'b', 'r', 'b', 'b', 'b', 'b', 'b', 'b', 'e', 'c', 'b', 'b', 'b', 'c', 'c', 'b', 'b', 'b', 'b', 'r', 'r', 'c', 'e', 'e', 'b', 'b', 'e', 'b', 'b', 'b', 'c', 'e', 'e', 'b', 'c', 'e', 'b', 'c', 'e', 'b', 'b', 'b', 'b', 'b', 'c', 'b', 'b', 'b', 'b', 'c', 'b', 'e', 'b', 'e', 'e', 'r', 'b', 'b', 'b', 'e', 'r', 'c', 'c', 'b', 'e', 'b', 'b', 'b', 'b', 'b', 'b', 'r', 'c', 'e', 'e', 'b', 'e', 'e', 'b', 'b', 'b', 'e', 'b', 'r', 'b', 'c', 'b', 'b', 'b', 'b', 'b', 'b', 'b', 'b', 'e', 'c', 'b', 'c', 'e', 'b', 'b', 'r', 'b', 'b', 'c', 'b', 'b', 'b', 'r', 'e', 'c', 'b', 'b', 'e', 'b', 'b', 'b', 'c', 'b', 'c', 'e', 'c', 'b', 'b', 'b', 'b', 'b', 'r', 'b', 'b', 'r', 'b', 'b', 'b', 'b', 'b', 'b', 'b', 'b', 'c', 'r', 'c', 'b', 'b', 'b', 'b', 'b', 'e', 'b', 'b', 'c', 'b', 'b', 'b', 'b', 'c', 'r', 'r', 'b', 'r', 'r', 'b', 'b', 'b', 'b', 'b', 'c', 'b', 'c', 'b', 'b', 'c', 'b', 'b', 'b', 'c', 'c', 'r', 'b', 'e', 'b', 'b', 'b', 'b', 'b', 'b', 'b', 'e', 'b', 'c', 'e', 'b', 'b', 'b', 'c', 'b', 'b', 'b', 'r', 'e', 'c', 'c', 'b', 'e', 'e', 'c', 'b', 'b', 'c', 'r', 'b', 'r', 'r', 'b', 'c', 'c', 'b', 'b', 'e', 'b', 'b', 'b', 'b', 'e', 'b', 'b', 'r', 'b', 'b', 'b', 'b', 'e', 'b', 'e', 'r', 'r', 'b', 'b', 'c', 'b', 'b', 'b', 'b', 'b', 'b', 'b', 'c', 'b', 'b', 'b', 'b', 'b', 'b', 'c', 'b', 'b', 'c', 'e', 'b', 'b', 'b', 'b', 'b', 'b', 'b', 'b', 'b', 'b', 'c', 'b', 'c', 'c', 'c', 'c', 'b', 'r', 'b', 'e', 'e', 'c', 'b', 'b', 'b', 'b', 'c', 'b', 'b', 'b', 'e', 'b', 'b', 'b', 'b', 'e', 'b', 'e', 'e', 'b', 'b', 'b', 'e', 'r', 'b', 'b', 'c', 'b', 'r', 'b', 'b', 'b', 'r', 'c', 'b', 'e', 'b', 'b', 'c', 'b', 'b', 'b', 'c', 'b', 'b', 'b', 'b', 'r', 'b', 'b', 'b', 'e', 'b', 'c', 'b', 'b', 'c', 'c', 'c', 'c', 'b', 'b', 'r', 'r', 'e', 'r', 'c', 'b', 'e', 'r', 'e', 'c', 'e', 'c', 'c', 'r', 'e', 'e', 'e', 'c', 'c', 'b', 'e', 'c', 'e', 'e', 'c', 'r', 'c', 'r', 'c', 'c', 'c', 'e', 'b', 'r', 'c', 'b', 'c', 'c', 'c', 'r', 'e', 'c', 'r', 'c', 'r', 'c', 'e', 'r', 'e', 'b', 'e', 'c', 'c', 'c', 'c', 'c', 'b', 'e', 'r', 'e', 'r', 'c', 'c', 'c', 'e', 'c', 'c', 'c', 'e', 'e', 'c', 'e', 'r', 'c', 'r', 'c', 'c', 'e', 'e', 'c', 'e', 'e', 'r', 'c', 'c', 'e', 'c', 'c', 'r', 'c', 'r', 'c', 'b', 'c', 'c', 'e', 'e', 'e', 'c', 'r', 'r', 'b', 'c', 'c', 'e', 'c', 'c', 'r', 'c', 'b', 'b', 'c', 'b', 'e', 'b', 'r', 'r', 'r', 'e', 'c', 'b', 'e', 'c', 'c', 'b', 'e', 'c', 'e', 'c', 'e', 'c', 'c', 'c', 'b', 'c', 'r', 'e', 'e', 'e', 'r', 'b', 'c', 'c', 'e', 'r', 'c', 'r', 'c', 'c', 'c', 'e', 'r', 'e', 'c', 'r', 'c', 'c', 'b', 'c', 'r', 'c', 'c', 'r', 'c', 'b', 'e', 'c', 'c', 'r', 'b', 'c', 'r', 'r', 'c', 'b', 'r', 'c', 'c', 'c', 'r', 'c', 'c', 'c', 'c', 'r', 'e', 'e', 'e', 'c', 'e', 'e', 'e', 'e', 'e', 'c', 'e', 'c', 'e', 'e', 'c', 'c', 'b', 'e', 'e', 'e', 'e', 'c', 'b', 'e', 'e', 'e', 'e', 'e', 'c', 'e', 'e', 'e', 'c', 'e', 'e', 'c', 'e', 'e', 'b', 'c', 'e', 'e', 'e', 'b', 'e', 'e', 'c', 'e', 'e', 'e', 'c', 'e', 'e', 'e', 'c', 'e', 'b', 'b', 'c', 'e', 'e', 'b', 'b', 'e', 'e', 'e', 'b', 'e', 'e', 'e', 'b', 'b', 'e', 'b', 'e', 'c', 'b', 'c', 'e', 'b', 'c', 'e', 'e', 'e', 'e', 'e', 'e', 'e', 'c', 'c', 'e', 'e', 'e', 'e', 'e', 'c', 'b', 'c', 'e', 'b', 'r', 'e', 'e', 'r', 'e', 'e', 'e', 'e', 'c', 'c', 'e', 'r', 'e', 'e', 'b', 'r', 'b', 'e', 'b', 'e', 'c', 'c', 'c', 'e', 'e', 'e', 'b', 'c', 'e', 'b', 'e', 'e', 'e', 'e', 'e', 'c', 'b', 'e', 'e', 'r', 'r', 'e', 'b', 'e', 'c', 'e', 'e', 'b', 'e', 'b', 'b', 'e', 'r', 'e', 'c', 'b', 'e', 'c', 'e', 'e', 'b', 'e', 'e', 'e', 'b', 'c', 'e', 'b', 'r', 'e', 'e', 'c', 'b', 'r', 'e', 'e', 'e', 'e', 'r', 'e', 'e', 'c', 'e', 'c', 'e', 'c', 'c', 'e', 'c', 'e', 'r', 'e', 'b', 'e', 'e', 'e', 'e', 'e', 'e', 'e', 'e', 'e', 'e', 'e', 'e', 'e', 'e', 'c', 'e', 'e', 'e', 'r', 'e', 'r', 'e', 'e', 'e', 'e', 'e', 'e', 'e', 'e', 'b', 'b', 'e', 'e', 'c', 'e', 'e', 'e', 'c', 'e', 'e', 'e', 'c', 'e', 'b', 'c', 'e', 'e', 'e', 'b', 'e', 'e', 'e', 'e', 'e', 'e', 'e', 'e', 'e', 'r', 'e', 'e', 'e', 'c', 'e', 'e', 'e', 'e', 'c', 'e', 'b', 'r', 'e', 'c', 'e', 'b', 'e', 'c', 'e', 'b', 'e', 'e', 'e', 'e', 'c', 'e', 'e', 'r', 'r', 'r', 'e', 'c', 'c', 'e', 'e', 'e', 'c', 'e', 'e', 'c', 'b', 'r', 'c', 'e', 'e', 'c', 'c', 'c', 'c', 'c', 'c', 'e', 'e', 'e', 'e', 'e', 'e', 'e', 'e', 'e', 'r', 'e', 'e', 'e', 'e', 'e', 'e', 'e', 'r', 'e', 'e', 'e', 'e', 'e', 'b', 'e', 'e', 'b', 'e', 'e', 'e', 'e', 'e', 'e', 'e', 'e', 'e', 'e', 'e', 'e', 'e', 'e', 'e', 'e', 'e', 'e', 'e', 'e', 'b', 'b', 'e', 'e', 'e', 'e', 'e', 'e', 'e', 'e', 'e', 'e', 'e', 'e', 'b', 'e', 'e', 'e', 'e', 'b', 'e', 'e', 'e', 'e', 'e', 'e', 'e', 'e', 'e', 'e', 'c', 'e', 'e', 'e', 'e', 'e', 'e', 'e', 'b', 'e', 'b', 'e', 'e', 'e', 'e', 'e', 'b', 'e', 'r', 'e', 'e', 'e', 'e', 'b', 'e', 'e', 'e', 'e', 'e', 'e', 'e', 'e', 'e', 'e', 'c', 'e', 'e', 'b', 'c', 'e', 'b', 'e', 'e', 'e', 'e', 'e', 'c', 'e', 'e', 'e', 'e', 'e', 'e', 'e', 'e', 'b', 'e', 'b', 'c', 'e', 'e', 'e', 'e', 'b', 'e', 'e', 'e', 'e', 'b', 'b', 'b', 'e', 'e', 'e', 'e', 'e', 'e', 'e', 'e', 'e', 'e', 'e', 'e', 'e', 'e', 'e', 'e', 'e', 'b', 'e', 'e', 'e', 'e', 'c', 'e', 'e', 'e', 'e', 'e', 'e', 'e', 'e', 'e', 'c', 'e', 'e', 'e', 'e', 'b', 'b', 'e', 'b', 'e', 'e', 'e', 'e', 'b', 'e', 'e', 'e', 'e', 'e', 'r', 'b', 'e', 'e', 'e', 'e', 'e', 'e', 'e', 'e', 'e', 'e', 'e', 'e', 'e', 'c', 'e', 'e', 'e', 'e', 'e', 'b', 'e', 'e', 'e', 'e', 'e', 'r', 'e', 'e', 'b', 'e', 'e', 'e', 'b', 'c', 'e', 'e', 'e', 'b', 'e', 'e', 'e', 'e', 'e', 'e', 'e', 'b', 'e', 'e', 'e', 'e', 'e', 'e', 'e', 'e', 'b', 'e', 'e', 'b', 'e', 'e', 'b', 'e', 'b', 'b', 'b', 'e', 'e', 'b', 'e', 'e', 'e', 'e', 'e', 'e', 'e', 'e', 'e', 'e', 'e', 'e', 'e', 'r', 'e', 'e', 'e', 'e', 'e', 'e', 'e', 'e', 'e', 'e', 'e', 'e', 'e', 'e', 'e', 'e', 'c', 'e', 'e', 'e', 'b', 'e', 'b', 'e', 'b', 'e', 'e', 'e', 'c', 'b', 'e', 'e', 'e', 'c', 'e', 'c', 'e', 'e', 'e', 'e', 'e', 'b', 'e', 'c', 'e', 'e', 'e', 'e', 'e', 'e', 'e', 'e', 'e', 'e', 'e', 'e', 'e', 'e', 'e', 'e', 'b', 'e', 'e', 'r', 'e', 'e', 'c', 'e', 'e', 'e', 'e', 'e', 'c', 'e', 'e', 'e', 'e', 'e', 'b', 'c', 'b', 'e', 'e', 'e', 'c', 'e', 'e', 'e', 'e', 'e', 'c', 'e', 'e', 'e', 'e', 'e', 'e', 'b', 'e', 'e', 'e', 'e', 'b', 'e', 'r', 'e', 'e', 'e', 'e', 'e', 'e', 'e', 'b', 'e', 'e', 'r', 'b', 'e', 'e', 'e', 'e', 'e', 'e', 'e', 'b', 'e', 'e', 'e', 'e', 'e', 'e', 'b', 'e', 'b', 'e', 'e', 'e', 'e', 'e', 'e', 'e', 'c', 'b', 'e', 'e', 'b', 'e', 'e', 'e', 'e', 'e', 'e', 'e', 'e', 'e', 'e', 'e', 'b', 'e', 'e', 'b', 'b', 'e', 'e', 'e', 'c', 'e', 'e', 'e', 'e', 'b', 'e', 'e', 'e', 'c', 'e', 'e', 'e', 'e', 'e', 'e', 'e', 'e', 'c', 'c', 'e', 'e', 'e', 'e', 'b', 'e', 'c', 'c', 'r', 'e', 'e', 'b', 'e', 'e', 'b', 'e', 'e', 'e', 'c', 'e', 'c', 'e', 'e', 'e', 'e', 'e', 'b', 'b', 'b', 'r', 'b', 'e', 'e', 'e', 'e', 'c', 'e', 'e', 'e', 'e', 'b', 'e', 'e', 'e', 'b', 'e', 'e', 'e', 'e', 'b', 'e', 'e', 'b', 'e', 'e', 'b', 'c', 'c', 'e', 'e', 'e', 'e', 'e', 'e', 'c', 'e', 'b', 'e', 'e', 'r', 'e', 'e', 'e', 'e', 'e', 'e', 'e', 'e', 'c', 'b', 'e', 'e', 'e', 'e', 'e', 'e', 'r', 'e', 'e', 'e', 'e', 'e', 'e', 'r', 'e', 'e', 'e', 'e', 'e', 'e', 'b', 'e', 'e', 'e', 'e', 'b', 'e', 'b', 'e', 'c', 'e', 'e', 'b', 'r', 'e', 'e', 'e', 'b', 'c', 'b', 'e', 'e', 'e', 'e', 'e', 'e', 'e', 'e', 'e', 'c', 'e', 'e', 'e', 'e', 'e', 'c', 'e', 'e', 'e', 'e', 'e', 'e', 'e', 'e', 'c', 'e', 'e', 'b', 'e', 'b', 'b', 'b', 'b', 'e', 'b', 'c', 'b', 'e', 'e', 'b', 'b', 'e', 'c', 'e', 'c', 'b', 'e', 'e', 'b', 'e', 'e', 'e', 'b', 'c', 'e', 'b', 'e', 'e', 'b', 'b', 'b', 'e', 'b', 'b', 'b', 'b', 'e', 'b', 'e', 'e', 'c', 'e', 'b', 'e', 'b', 'e', 'e', 'b', 'b', 'b', 'b', 'e', 'b', 'b', 'b', 'b', 'b', 'b', 'e', 'e', 'c', 'b', 'b', 'e', 'b', 'e', 'b', 'b', 'e', 'e', 'e', 'e', 'b', 'e', 'e', 'b', 'b', 'b', 'b', 'b', 'e', 'e', 'e', 'e', 'b', 'b', 'b', 'b', 'e', 'b', 'e', 'b', 'b', 'e', 'e', 'e', 'e', 'e', 'b', 'b', 'e', 'e', 'e', 'b', 'e', 'e', 'e', 'e', 'e', 'e', 'b', 'e', 'e', 'b', 'b', 'b', 'e', 'e', 'r', 'e', 'e', 'e', 'b', 'b', 'c', 'e', 'e', 'e', 'b', 'b', 'e', 'e', 'e', 'e', 'e', 'c', 'b', 'e', 'e', 'e', 'b', 'e', 'e', 'e', 'b', 'b', 'b', 'e', 'e', 'e', 'e', 'b', 'b', 'e', 'b', 'b', 'b', 'b', 'b', 'c', 'e', 'e', 'b', 'b', 'e', 'b', 'e', 'b', 'e', 'e', 'e', 'b', 'e', 'b', 'e', 'e', 'e', 'e', 'b', 'c', 'e', 'e', 'b', 'b', 'e', 'b', 'b', 'e', 'e', 'c', 'c', 'e', 'b', 'b', 'b', 'e', 'e', 'b', 'e', 'e', 'b', 'e', 'b', 'e', 'b', 'e', 'e', 'e', 'e', 'b', 'b', 'e', 'b', 'e', 'r', 'e', 'e', 'c', 'e', 'e', 'e', 'e', 'b', 'e', 'e', 'e', 'e', 'b', 'b', 'e', 'c', 'b', 'b', 'b', 'e', 'b', 'c', 'b', 'e', 'b', 'e', 'c', 'b', 'e', 'b', 'b', 'b', 'b', 'e', 'e', 'e', 'e', 'b', 'b', 'b', 'b', 'e', 'e', 'e', 'r', 'b', 'c', 'c', 'e', 'b', 'b', 'b', 'e', 'c', 'e', 'e', 'b', 'b', 'e', 'b', 'b', 'e', 'c', 'e', 'e', 'c', 'e', 'b', 'e', 'b', 'b', 'e', 'e', 'b', 'b', 'b', 'b', 'b', 'e', 'c', 'c', 'b', 'b', 'e', 'b', 'e', 'e', 'b', 'b', 'e', 'e', 'e', 'b', 'b', 'b', 'e', 'b', 'e', 'c', 'e', 'e', 'b', 'b', 'b', 'e', 'e', 'e', 'b', 'b', 'b', 'b', 'b', 'b', 'b', 'b', 'b', 'b', 'b', 'b', 'e', 'b', 'b', 'b', 'b', 'b', 'b', 'b', 'b', 'b', 'b', 'b', 'b', 'b', 'b', 'b', 'b', 'b', 'b', 'e', 'b', 'e', 'b', 'b', 'b', 'b', 'b', 'b', 'b', 'c', 'b', 'b', 'b', 'b', 'b', 'b', 'b', 'b', 'e', 'b', 'c', 'b', 'e', 'c', 'b', 'c', 'b', 'b', 'b', 'b', 'b', 'b', 'b', 'b', 'b', 'b', 'b', 'b', 'b', 'b', 'b', 'b', 'b', 'b', 'b', 'b', 'b', 'b', 'b', 'b', 'b', 'b', 'b', 'b', 'b', 'b', 'b', 'b', 'b', 'b', 'b', 'b', 'b', 'b', 'b', 'b', 'b', 'e', 'b', 'b', 'b', 'b', 'b', 'b', 'b', 'b', 'c', 'e', 'b', 'b', 'b', 'b', 'b', 'b', 'b', 'b', 'b', 'b', 'b', 'b', 'b', 'b', 'b', 'b', 'b', 'b', 'b', 'b', 'b', 'b', 'b', 'b', 'b', 'b', 'b', 'e', 'b', 'b', 'b', 'b', 'b', 'b', 'b', 'b', 'b', 'b', 'e', 'b', 'b', 'b', 'e', 'b', 'b', 'b', 'b', 'b', 'e', 'b', 'b', 'b', 'b', 'e', 'b', 'b', 'b', 'b', 'b', 'b', 'b', 'b', 'c', 'e', 'b', 'b', 'b', 'b', 'b', 'b', 'e', 'b', 'b', 'b', 'b', 'e', 'b', 'b', 'b', 'b', 'b', 'b', 'b', 'b', 'b', 'b', 'b', 'b', 'b', 'b', 'b', 'b', 'e', 'b', 'b', 'b', 'b', 'c', 'b', 'b', 'e', 'b', 'e', 'b', 'b', 'b', 'b', 'b', 'b', 'b', 'b', 'b', 'b', 'b', 'b', 'b', 'b', 'b', 'b', 'b', 'b', 'b', 'b', 'b', 'b', 'b', 'b', 'b', 'b', 'b', 'b', 'b', 'b', 'b', 'b', 'b', 'b', 'b', 'b', 'b', 'b', 'b', 'b', 'b', 'b', 'b', 'b', 'b', 'b', 'b', 'b', 'b', 'e', 'b', 'e', 'b', 'b', 'e', 'b', 'b', 'b', 'b', 'b', 'b', 'b', 'b', 'b', 'b', 'c', 'b', 'b', 'c', 'b', 'b', 'b', 'b', 'c', 'b', 'b', 'b', 'e', 'b', 'b', 'b', 'b', 'b', 'b', 'b', 'b', 'c', 'e', 'b', 'e', 'e', 'b', 'b', 'b', 'b', 'b', 'b', 'b', 'c', 'b', 'e', 'e', 'b', 'b', 'b', 'b', 'b', 'b', 'b', 'b', 'b', 'b', 'b', 'e', 'b', 'b', 'b', 'b', 'b', 'b', 'b', 'b', 'b', 'b', 'b', 'b', 'b', 'b', 'b', 'b', 'b', 'b', 'b', 'b', 'b', 'b', 'b', 'b', 'b', 'b', 'b', 'b', 'b', 'b', 'b', 'b', 'b', 'b', 'b', 'b', 'b', 'b', 'b', 'b', 'b', 'b', 'b', 'b', 'b', 'b', 'c', 'b', 'b', 'b', 'c', 'b', 'b', 'b', 'e', 'b', 'b', 'b', 'b', 'b', 'b', 'b', 'b', 'b', 'b', 'c', 'b', 'b', 'b', 'b', 'b', 'b', 'b', 'b', 'b', 'b', 'b', 'b', 'b', 'b', 'b', 'e', 'e', 'b', 'b', 'b', 'b', 'b', 'b', 'b', 'e', 'b', 'b', 'b', 'b', 'b', 'b', 'b', 'e', 'b', 'b', 'b', 'b', 'e', 'e', 'b', 'b', 'b', 'b', 'b', 'b', 'b', 'b', 'b', 'b', 'b', 'b', 'b', 'b', 'b', 'b', 'e', 'b', 'b', 'b', 'b', 'b', 'b', 'b', 'b', 'b', 'b', 'b', 'b', 'b', 'b', 'b', 'b', 'b', 'b', 'b', 'b', 'b', 'b', 'b', 'b', 'b', 'b', 'b', 'b', 'b', 'b', 'b', 'b', 'b', 'c', 'b', 'b', 'b', 'b', 'b', 'b', 'b', 'b', 'b', 'b', 'b', 'b', 'b', 'b', 'b', 'b', 'b', 'b', 'b', 'b', 'b', 'b', 'b', 'b', 'b', 'b', 'b', 'b', 'b', 'b', 'c', 'b', 'b', 'b', 'b', 'b', 'b', 'b', 'b', 'b', 'b', 'b', 'b', 'b', 'b', 'b', 'b', 'b', 'b', 'b', 'b', 'b', 'b', 'b', 'b', 'b', 'b', 'b', 'b', 'b', 'b', 'b', 'b', 'b', 'b', 'b', 'b', 'b', 'b', 'b', 'c', 'b', 'b', 'b', 'b', 'b', 'b', 'b', 'b', 'b', 'b', 'b', 'b', 'b', 'b', 'b', 'b', 'b', 'b', 'b', 'b', 'e', 'b', 'b', 'b', 'b', 'b', 'b', 'b', 'b', 'b', 'b', 'b', 'b', 'b', 'b', 'b', 'b', 'e', 'b', 'b', 'b', 'b', 'b', 'b', 'b', 'b', 'b', 'b', 'b', 'b', 'b', 'b', 'b', 'b', 'b', 'b', 'b', 'b', 'b', 'b', 'b', 'b', 'b', 'b', 'b', 'b', 'b', 'b', 'b', 'b', 'b', 'b', 'b', 'b', 'b', 'b', 'b', 'b', 'b', 'b', 'b', 'e', 'b', 'b', 'b', 'b', 'b', 'b', 'b', 'b', 'b', 'b', 'b', 'b', 'b', 'b', 'b', 'b', 'b', 'b', 'b', 'b', 'b', 'b', 'b', 'b', 'b', 'b', 'b', 'b', 'b', 'b', 'b', 'c', 'b', 'b', 'b', 'b', 'b', 'b', 'b', 'b', 'e', 'b', 'b', 'b', 'b', 'b', 'b', 'b', 'b', 'b', 'c', 'b', 'b', 'b', 'b', 'b', 'b', 'b', 'b', 'b']\n",
      "\n"
     ]
    }
   ],
   "source": [
    "Copy_HD =  df.copy()\n",
    "df_imp_HD = Imputacion_HotDeck('stalk-root',Copy_HD)"
   ]
  },
  {
   "cell_type": "code",
   "execution_count": 130,
   "id": "f12ec28c",
   "metadata": {},
   "outputs": [
    {
     "data": {
      "text/plain": [
       "0       e\n",
       "1       c\n",
       "2       c\n",
       "3       e\n",
       "4       e\n",
       "       ..\n",
       "8119    b\n",
       "8120    b\n",
       "8121    b\n",
       "8122    b\n",
       "8123    b\n",
       "Name: stalk-root, Length: 8124, dtype: object"
      ]
     },
     "execution_count": 130,
     "metadata": {},
     "output_type": "execute_result"
    }
   ],
   "source": [
    "df_imp_HD['stalk-root']"
   ]
  },
  {
   "cell_type": "markdown",
   "id": "469bc61f-1799-414e-aaa3-150e9b2fae3e",
   "metadata": {},
   "source": [
    "### Distribución posterior a la imputación Hot Deck"
   ]
  },
  {
   "cell_type": "code",
   "execution_count": 131,
   "id": "aa8c0860",
   "metadata": {},
   "outputs": [
    {
     "data": {
      "text/plain": [
       "<seaborn.axisgrid.FacetGrid at 0x18dc11a9970>"
      ]
     },
     "execution_count": 131,
     "metadata": {},
     "output_type": "execute_result"
    },
    {
     "data": {
      "image/png": "[encoded data removed]",
      "text/plain": [
       "<Figure size 360x360 with 1 Axes>"
      ]
     },
     "metadata": {
      "needs_background": "light"
     },
     "output_type": "display_data"
    }
   ],
   "source": [
    "sns.displot(df_imp_HD['stalk-root'])"
   ]
  },
  {
   "cell_type": "code",
   "execution_count": 132,
   "id": "a7c0ff14",
   "metadata": {},
   "outputs": [
    {
     "data": {
      "text/plain": [
       "class                       0.0\n",
       "cap-shape                   0.0\n",
       "cap-surface                 0.0\n",
       "cap-color                   0.0\n",
       "bruises                     0.0\n",
       "odor                        0.0\n",
       "gill-attachment             0.0\n",
       "gill-spacing                0.0\n",
       "gill-size                   0.0\n",
       "gill-color                  0.0\n",
       "stalk-shape                 0.0\n",
       "stalk-root                  0.0\n",
       "stalk-surface-above-ring    0.0\n",
       "stalk-surface-below-ring    0.0\n",
       "stalk-color-above-ring      0.0\n",
       "stalk-color-below-ring      0.0\n",
       "veil-type                   0.0\n",
       "veil-color                  0.0\n",
       "ring-number                 0.0\n",
       "ring-type                   0.0\n",
       "spore-print-color           0.0\n",
       "population                  0.0\n",
       "habitat                     0.0\n",
       "dtype: float64"
      ]
     },
     "execution_count": 132,
     "metadata": {},
     "output_type": "execute_result"
    }
   ],
   "source": [
    "df_nn = df_imp_HD.copy()\n",
    "df_nn.isnull().sum()/df_nn.shape[0]*100"
   ]
  },
  {
   "cell_type": "markdown",
   "id": "eb43861f",
   "metadata": {},
   "source": [
    "## Imputación aleatoria"
   ]
  },
  {
   "cell_type": "code",
   "execution_count": 133,
   "id": "1f07ce60-7e32-45bd-b42c-fab5c9f35e83",
   "metadata": {},
   "outputs": [],
   "source": [
    "def imputacion_aleatoria(df_aleat, atributo_):\n",
    "    df_a = df_aleat.copy()\n",
    "    faltantes_df = df_a[atributo_].isnull().sum()\n",
    "    no_faltantes = df_a[df_a[atributo_].notnull()]\n",
    "\n",
    "    min = no_faltantes[atributo_].min()\n",
    "    max = no_faltantes[atributo_].max()\n",
    "    \n",
    "    tipo = df_a[atributo_].dtypes\n",
    "    print(tipo)\n",
    "    if tipo == 'O': \n",
    "      random_string_list = []\n",
    "      for i, atributo in enumerate(atributo_):\n",
    "        obs_ = df_a[atributo_].value_counts() #Return a Series containing counts of unique values.\n",
    "        obs_l_ = list(obs_.index)            #Lista de los valores únicos encontrados\n",
    "      for i in range(faltantes_df):\n",
    "        x = random.choices(obs_l_)\n",
    "       # random_string_list.append(x)\n",
    "      #df_a.loc[df_a[atributo_].isnull(),atributo_] = random_string_list\n",
    "        df_a.loc[df_a[atributo_].isnull(),atributo_] = x\n",
    "   \n",
    "    elif tipo == 'int64': \n",
    "      \n",
    "      random_int_list = []\n",
    "      for i in range(faltantes_df):\n",
    "        x = random.radint(min,max)\n",
    "        random_int_list.append(x)\n",
    "      df_a.loc[df_a[atributo_].isnull(),atributo_] = random_int_list\n",
    "\n",
    "    elif tipo == 'float64': \n",
    "    \n",
    "      random_float_list = []\n",
    "      for i in range(faltantes_df):\n",
    "        x = round(random.uniform(min,max),2)\n",
    "        random_float_list.append(x)\n",
    "      df_a.loc[df_a[atributo_].isnull(),atributo_] = random_float_list\n",
    "\n",
    "    return df_a\n"
   ]
  },
  {
   "cell_type": "code",
   "execution_count": 134,
   "id": "5a2d62d8-7866-4f01-8da6-f55042d168e0",
   "metadata": {},
   "outputs": [
    {
     "data": {
      "text/plain": [
       "0         e\n",
       "1         c\n",
       "2         c\n",
       "3         e\n",
       "4         e\n",
       "       ... \n",
       "8119    NaN\n",
       "8120    NaN\n",
       "8121    NaN\n",
       "8122    NaN\n",
       "8123    NaN\n",
       "Name: stalk-root, Length: 8124, dtype: object"
      ]
     },
     "execution_count": 134,
     "metadata": {},
     "output_type": "execute_result"
    }
   ],
   "source": [
    "df['stalk-root']"
   ]
  },
  {
   "cell_type": "code",
   "execution_count": 135,
   "id": "60cb2f51-7350-4fae-b742-5b703aadfc9d",
   "metadata": {},
   "outputs": [
    {
     "name": "stdout",
     "output_type": "stream",
     "text": [
      "object\n"
     ]
    }
   ],
   "source": [
    "df_imp_aleat = imputacion_aleatoria(df,'stalk-root')"
   ]
  },
  {
   "cell_type": "code",
   "execution_count": 136,
   "id": "8bb4f370-47ec-4dc7-b8fa-378a6d518ec6",
   "metadata": {},
   "outputs": [
    {
     "data": {
      "text/plain": [
       "0       e\n",
       "1       c\n",
       "2       c\n",
       "3       e\n",
       "4       e\n",
       "       ..\n",
       "8119    e\n",
       "8120    e\n",
       "8121    e\n",
       "8122    e\n",
       "8123    e\n",
       "Name: stalk-root, Length: 8124, dtype: object"
      ]
     },
     "execution_count": 136,
     "metadata": {},
     "output_type": "execute_result"
    }
   ],
   "source": [
    "df_imp_aleat['stalk-root']"
   ]
  },
  {
   "cell_type": "markdown",
   "id": "1e561467",
   "metadata": {},
   "source": [
    "### Distribución posterior a la imputación aleatoria"
   ]
  },
  {
   "cell_type": "code",
   "execution_count": 137,
   "id": "59ccd3c6-e1da-4fdb-bab6-e5ce628d56f0",
   "metadata": {},
   "outputs": [
    {
     "data": {
      "text/plain": [
       "<seaborn.axisgrid.FacetGrid at 0x18dbe9c7220>"
      ]
     },
     "execution_count": 137,
     "metadata": {},
     "output_type": "execute_result"
    },
    {
     "data": {
      "image/png": "[encoded data removed]",
      "text/plain": [
       "<Figure size 360x360 with 1 Axes>"
      ]
     },
     "metadata": {
      "needs_background": "light"
     },
     "output_type": "display_data"
    }
   ],
   "source": [
    "sns.displot(df_imp_aleat['stalk-root'])"
   ]
  },
  {
   "cell_type": "code",
   "execution_count": 138,
   "id": "03bd827c-ed6d-4e7f-888f-f0cb5133c183",
   "metadata": {},
   "outputs": [
    {
     "data": {
      "text/plain": [
       "0"
      ]
     },
     "execution_count": 138,
     "metadata": {},
     "output_type": "execute_result"
    }
   ],
   "source": [
    "df_imp_aleat['stalk-root'].isnull().sum()"
   ]
  },
  {
   "cell_type": "code",
   "execution_count": 139,
   "id": "1227ca60-66d6-4fd1-b832-4e287422ce63",
   "metadata": {},
   "outputs": [],
   "source": [
    "df_n = df_imp_aleat.copy()"
   ]
  },
  {
   "cell_type": "code",
   "execution_count": 140,
   "id": "f7344c9b-524d-4b3a-bb9a-437e301888c1",
   "metadata": {},
   "outputs": [
    {
     "data": {
      "text/plain": [
       "class                       0.0\n",
       "cap-shape                   0.0\n",
       "cap-surface                 0.0\n",
       "cap-color                   0.0\n",
       "bruises                     0.0\n",
       "odor                        0.0\n",
       "gill-attachment             0.0\n",
       "gill-spacing                0.0\n",
       "gill-size                   0.0\n",
       "gill-color                  0.0\n",
       "stalk-shape                 0.0\n",
       "stalk-root                  0.0\n",
       "stalk-surface-above-ring    0.0\n",
       "stalk-surface-below-ring    0.0\n",
       "stalk-color-above-ring      0.0\n",
       "stalk-color-below-ring      0.0\n",
       "veil-type                   0.0\n",
       "veil-color                  0.0\n",
       "ring-number                 0.0\n",
       "ring-type                   0.0\n",
       "spore-print-color           0.0\n",
       "population                  0.0\n",
       "habitat                     0.0\n",
       "dtype: float64"
      ]
     },
     "execution_count": 140,
     "metadata": {},
     "output_type": "execute_result"
    }
   ],
   "source": [
    "df_n.isnull().sum()/df_n.shape[0]*100"
   ]
  },
  {
   "cell_type": "markdown",
   "id": "6a5b2ec0-61b9-482a-bba3-ba613e0bea2b",
   "metadata": {
    "tags": []
   },
   "source": [
    "# Codificación categórico-numérico"
   ]
  },
  {
   "cell_type": "code",
   "execution_count": 141,
   "id": "e570475d-8305-46a7-a1bc-defe048ab055",
   "metadata": {},
   "outputs": [],
   "source": [
    "columnas = df_n.columns.values\n",
    "elementos_columnas = {}\n",
    "\n",
    "for c in columnas:\n",
    "    elementos_columnas[c] = df_n[c].unique()"
   ]
  },
  {
   "cell_type": "code",
   "execution_count": 142,
   "id": "9ac0ca35-0b69-4958-859b-dedd1e31757c",
   "metadata": {
    "scrolled": true
   },
   "outputs": [
    {
     "data": {
      "text/html": [
       "<div>\n",
       "<style scoped>\n",
       "    .dataframe tbody tr th:only-of-type {\n",
       "        vertical-align: middle;\n",
       "    }\n",
       "\n",
       "    .dataframe tbody tr th {\n",
       "        vertical-align: top;\n",
       "    }\n",
       "\n",
       "    .dataframe thead th {\n",
       "        text-align: right;\n",
       "    }\n",
       "</style>\n",
       "<table border=\"1\" class=\"dataframe\">\n",
       "  <thead>\n",
       "    <tr style=\"text-align: right;\">\n",
       "      <th></th>\n",
       "      <th>class</th>\n",
       "      <th>cap-shape</th>\n",
       "      <th>cap-surface</th>\n",
       "      <th>cap-color</th>\n",
       "      <th>bruises</th>\n",
       "      <th>odor</th>\n",
       "      <th>gill-attachment</th>\n",
       "      <th>gill-spacing</th>\n",
       "      <th>gill-size</th>\n",
       "      <th>gill-color</th>\n",
       "      <th>...</th>\n",
       "      <th>stalk-surface-below-ring</th>\n",
       "      <th>stalk-color-above-ring</th>\n",
       "      <th>stalk-color-below-ring</th>\n",
       "      <th>veil-type</th>\n",
       "      <th>veil-color</th>\n",
       "      <th>ring-number</th>\n",
       "      <th>ring-type</th>\n",
       "      <th>spore-print-color</th>\n",
       "      <th>population</th>\n",
       "      <th>habitat</th>\n",
       "    </tr>\n",
       "  </thead>\n",
       "  <tbody>\n",
       "    <tr>\n",
       "      <th>0</th>\n",
       "      <td>0</td>\n",
       "      <td>0</td>\n",
       "      <td>0</td>\n",
       "      <td>0</td>\n",
       "      <td>0</td>\n",
       "      <td>0</td>\n",
       "      <td>0</td>\n",
       "      <td>0</td>\n",
       "      <td>0</td>\n",
       "      <td>0</td>\n",
       "      <td>...</td>\n",
       "      <td>0</td>\n",
       "      <td>0</td>\n",
       "      <td>0</td>\n",
       "      <td>1</td>\n",
       "      <td>0</td>\n",
       "      <td>0</td>\n",
       "      <td>0</td>\n",
       "      <td>0</td>\n",
       "      <td>0</td>\n",
       "      <td>0</td>\n",
       "    </tr>\n",
       "    <tr>\n",
       "      <th>1</th>\n",
       "      <td>1</td>\n",
       "      <td>0</td>\n",
       "      <td>0</td>\n",
       "      <td>1</td>\n",
       "      <td>0</td>\n",
       "      <td>1</td>\n",
       "      <td>0</td>\n",
       "      <td>0</td>\n",
       "      <td>1</td>\n",
       "      <td>0</td>\n",
       "      <td>...</td>\n",
       "      <td>0</td>\n",
       "      <td>0</td>\n",
       "      <td>0</td>\n",
       "      <td>1</td>\n",
       "      <td>0</td>\n",
       "      <td>0</td>\n",
       "      <td>0</td>\n",
       "      <td>1</td>\n",
       "      <td>1</td>\n",
       "      <td>1</td>\n",
       "    </tr>\n",
       "    <tr>\n",
       "      <th>2</th>\n",
       "      <td>1</td>\n",
       "      <td>1</td>\n",
       "      <td>0</td>\n",
       "      <td>2</td>\n",
       "      <td>0</td>\n",
       "      <td>2</td>\n",
       "      <td>0</td>\n",
       "      <td>0</td>\n",
       "      <td>1</td>\n",
       "      <td>1</td>\n",
       "      <td>...</td>\n",
       "      <td>0</td>\n",
       "      <td>0</td>\n",
       "      <td>0</td>\n",
       "      <td>1</td>\n",
       "      <td>0</td>\n",
       "      <td>0</td>\n",
       "      <td>0</td>\n",
       "      <td>1</td>\n",
       "      <td>1</td>\n",
       "      <td>2</td>\n",
       "    </tr>\n",
       "    <tr>\n",
       "      <th>3</th>\n",
       "      <td>0</td>\n",
       "      <td>0</td>\n",
       "      <td>1</td>\n",
       "      <td>2</td>\n",
       "      <td>0</td>\n",
       "      <td>0</td>\n",
       "      <td>0</td>\n",
       "      <td>0</td>\n",
       "      <td>0</td>\n",
       "      <td>1</td>\n",
       "      <td>...</td>\n",
       "      <td>0</td>\n",
       "      <td>0</td>\n",
       "      <td>0</td>\n",
       "      <td>1</td>\n",
       "      <td>0</td>\n",
       "      <td>0</td>\n",
       "      <td>0</td>\n",
       "      <td>0</td>\n",
       "      <td>0</td>\n",
       "      <td>0</td>\n",
       "    </tr>\n",
       "    <tr>\n",
       "      <th>4</th>\n",
       "      <td>1</td>\n",
       "      <td>0</td>\n",
       "      <td>0</td>\n",
       "      <td>3</td>\n",
       "      <td>1</td>\n",
       "      <td>3</td>\n",
       "      <td>0</td>\n",
       "      <td>1</td>\n",
       "      <td>1</td>\n",
       "      <td>0</td>\n",
       "      <td>...</td>\n",
       "      <td>0</td>\n",
       "      <td>0</td>\n",
       "      <td>0</td>\n",
       "      <td>1</td>\n",
       "      <td>0</td>\n",
       "      <td>0</td>\n",
       "      <td>1</td>\n",
       "      <td>1</td>\n",
       "      <td>2</td>\n",
       "      <td>1</td>\n",
       "    </tr>\n",
       "    <tr>\n",
       "      <th>5</th>\n",
       "      <td>1</td>\n",
       "      <td>0</td>\n",
       "      <td>1</td>\n",
       "      <td>1</td>\n",
       "      <td>0</td>\n",
       "      <td>1</td>\n",
       "      <td>0</td>\n",
       "      <td>0</td>\n",
       "      <td>1</td>\n",
       "      <td>1</td>\n",
       "      <td>...</td>\n",
       "      <td>0</td>\n",
       "      <td>0</td>\n",
       "      <td>0</td>\n",
       "      <td>1</td>\n",
       "      <td>0</td>\n",
       "      <td>0</td>\n",
       "      <td>0</td>\n",
       "      <td>0</td>\n",
       "      <td>1</td>\n",
       "      <td>1</td>\n",
       "    </tr>\n",
       "    <tr>\n",
       "      <th>6</th>\n",
       "      <td>1</td>\n",
       "      <td>1</td>\n",
       "      <td>0</td>\n",
       "      <td>2</td>\n",
       "      <td>0</td>\n",
       "      <td>1</td>\n",
       "      <td>0</td>\n",
       "      <td>0</td>\n",
       "      <td>1</td>\n",
       "      <td>2</td>\n",
       "      <td>...</td>\n",
       "      <td>0</td>\n",
       "      <td>0</td>\n",
       "      <td>0</td>\n",
       "      <td>1</td>\n",
       "      <td>0</td>\n",
       "      <td>0</td>\n",
       "      <td>0</td>\n",
       "      <td>0</td>\n",
       "      <td>1</td>\n",
       "      <td>2</td>\n",
       "    </tr>\n",
       "    <tr>\n",
       "      <th>7</th>\n",
       "      <td>1</td>\n",
       "      <td>1</td>\n",
       "      <td>1</td>\n",
       "      <td>2</td>\n",
       "      <td>0</td>\n",
       "      <td>2</td>\n",
       "      <td>0</td>\n",
       "      <td>0</td>\n",
       "      <td>1</td>\n",
       "      <td>1</td>\n",
       "      <td>...</td>\n",
       "      <td>0</td>\n",
       "      <td>0</td>\n",
       "      <td>0</td>\n",
       "      <td>1</td>\n",
       "      <td>0</td>\n",
       "      <td>0</td>\n",
       "      <td>0</td>\n",
       "      <td>1</td>\n",
       "      <td>0</td>\n",
       "      <td>2</td>\n",
       "    </tr>\n",
       "    <tr>\n",
       "      <th>8</th>\n",
       "      <td>0</td>\n",
       "      <td>0</td>\n",
       "      <td>1</td>\n",
       "      <td>2</td>\n",
       "      <td>0</td>\n",
       "      <td>0</td>\n",
       "      <td>0</td>\n",
       "      <td>0</td>\n",
       "      <td>0</td>\n",
       "      <td>3</td>\n",
       "      <td>...</td>\n",
       "      <td>0</td>\n",
       "      <td>0</td>\n",
       "      <td>0</td>\n",
       "      <td>1</td>\n",
       "      <td>0</td>\n",
       "      <td>0</td>\n",
       "      <td>0</td>\n",
       "      <td>0</td>\n",
       "      <td>3</td>\n",
       "      <td>1</td>\n",
       "    </tr>\n",
       "    <tr>\n",
       "      <th>9</th>\n",
       "      <td>1</td>\n",
       "      <td>1</td>\n",
       "      <td>0</td>\n",
       "      <td>1</td>\n",
       "      <td>0</td>\n",
       "      <td>1</td>\n",
       "      <td>0</td>\n",
       "      <td>0</td>\n",
       "      <td>1</td>\n",
       "      <td>2</td>\n",
       "      <td>...</td>\n",
       "      <td>0</td>\n",
       "      <td>0</td>\n",
       "      <td>0</td>\n",
       "      <td>1</td>\n",
       "      <td>0</td>\n",
       "      <td>0</td>\n",
       "      <td>0</td>\n",
       "      <td>0</td>\n",
       "      <td>0</td>\n",
       "      <td>2</td>\n",
       "    </tr>\n",
       "  </tbody>\n",
       "</table>\n",
       "<p>10 rows × 23 columns</p>\n",
       "</div>"
      ],
      "text/plain": [
       "   class  cap-shape  cap-surface  cap-color  bruises  odor  gill-attachment  \\\n",
       "0      0          0            0          0        0     0                0   \n",
       "1      1          0            0          1        0     1                0   \n",
       "2      1          1            0          2        0     2                0   \n",
       "3      0          0            1          2        0     0                0   \n",
       "4      1          0            0          3        1     3                0   \n",
       "5      1          0            1          1        0     1                0   \n",
       "6      1          1            0          2        0     1                0   \n",
       "7      1          1            1          2        0     2                0   \n",
       "8      0          0            1          2        0     0                0   \n",
       "9      1          1            0          1        0     1                0   \n",
       "\n",
       "   gill-spacing  gill-size  gill-color  ...  stalk-surface-below-ring  \\\n",
       "0             0          0           0  ...                         0   \n",
       "1             0          1           0  ...                         0   \n",
       "2             0          1           1  ...                         0   \n",
       "3             0          0           1  ...                         0   \n",
       "4             1          1           0  ...                         0   \n",
       "5             0          1           1  ...                         0   \n",
       "6             0          1           2  ...                         0   \n",
       "7             0          1           1  ...                         0   \n",
       "8             0          0           3  ...                         0   \n",
       "9             0          1           2  ...                         0   \n",
       "\n",
       "   stalk-color-above-ring  stalk-color-below-ring  veil-type  veil-color  \\\n",
       "0                       0                       0          1           0   \n",
       "1                       0                       0          1           0   \n",
       "2                       0                       0          1           0   \n",
       "3                       0                       0          1           0   \n",
       "4                       0                       0          1           0   \n",
       "5                       0                       0          1           0   \n",
       "6                       0                       0          1           0   \n",
       "7                       0                       0          1           0   \n",
       "8                       0                       0          1           0   \n",
       "9                       0                       0          1           0   \n",
       "\n",
       "   ring-number  ring-type  spore-print-color  population  habitat  \n",
       "0            0          0                  0           0        0  \n",
       "1            0          0                  1           1        1  \n",
       "2            0          0                  1           1        2  \n",
       "3            0          0                  0           0        0  \n",
       "4            0          1                  1           2        1  \n",
       "5            0          0                  0           1        1  \n",
       "6            0          0                  0           1        2  \n",
       "7            0          0                  1           0        2  \n",
       "8            0          0                  0           3        1  \n",
       "9            0          0                  0           0        2  \n",
       "\n",
       "[10 rows x 23 columns]"
      ]
     },
     "execution_count": 142,
     "metadata": {},
     "output_type": "execute_result"
    }
   ],
   "source": [
    "for c in columnas:\n",
    "    if c != 'veil-type':\n",
    "        df_n[c] = df_imp_aleat[c].replace(elementos_columnas[c],\n",
    "                          np.arange(elementos_columnas[c].shape[0]))\n",
    "    else:\n",
    "        df_n['veil-type'] = df_imp_aleat['veil-type'].replace('p',1)\n",
    "  \n",
    "df_n.head(10)"
   ]
  },
  {
   "cell_type": "markdown",
   "id": "920839d7",
   "metadata": {},
   "source": [
    "Identificación de outliers"
   ]
  },
  {
   "cell_type": "code",
   "execution_count": 143,
   "id": "ef2c9ab0",
   "metadata": {},
   "outputs": [
    {
     "data": {
      "text/plain": [
       "<AxesSubplot:>"
      ]
     },
     "execution_count": 143,
     "metadata": {},
     "output_type": "execute_result"
    },
    {
     "data": {
      "image/png": "[encoded data removed]",
      "text/plain": [
       "<Figure size 720x720 with 1 Axes>"
      ]
     },
     "metadata": {
      "needs_background": "light"
     },
     "output_type": "display_data"
    }
   ],
   "source": [
    "df_n.boxplot(rot=90, fontsize=15,figsize = (10,10))"
   ]
  },
  {
   "cell_type": "markdown",
   "id": "ebceaa00",
   "metadata": {},
   "source": [
    "Normalización de los datos"
   ]
  },
  {
   "cell_type": "code",
   "execution_count": 144,
   "id": "224cbd01-175f-4f7b-9388-57feea917a1a",
   "metadata": {},
   "outputs": [],
   "source": [
    "def norm_min_max(datos):\n",
    "    lim_sup = []\n",
    "    lim_inf = []\n",
    "    rangoDatos =[]\n",
    "    maxNorm = 1\n",
    "    minNorm = 0\n",
    "    rango = maxNorm - minNorm\n",
    "    for i in range (0,datos.columns.size):\n",
    "        lim_sup.append(datos.iloc[:,i].max())\n",
    "        lim_inf.append(datos.iloc[:,i].min())\n",
    "        rangoDatos.append(lim_sup[i] - lim_inf[i])\n",
    "    nombres = datos.columns.values.tolist()\n",
    "    datosNorm = pd.DataFrame(columns = nombres)\n",
    "\n",
    "    for j in range(len(datos.columns)):\n",
    "        varNorm = []\n",
    "        var = datos.iloc[:,j]\n",
    "        for i in range(len(datos)):\n",
    "            D = var[i] - lim_inf[j]\n",
    "            DPct = D/rangoDatos[j]\n",
    "            dNorm = rango*DPct\n",
    "            varNorm.append(minNorm+dNorm)\n",
    "        datosNorm.iloc[:,j] = varNorm\n",
    "    datos = datosNorm\n",
    "    return datos"
   ]
  },
  {
   "cell_type": "code",
   "execution_count": 145,
   "id": "b9f0226f-9d01-4ac6-8db7-3b9e1f8e7d6f",
   "metadata": {},
   "outputs": [
    {
     "data": {
      "text/html": [
       "<div>\n",
       "<style scoped>\n",
       "    .dataframe tbody tr th:only-of-type {\n",
       "        vertical-align: middle;\n",
       "    }\n",
       "\n",
       "    .dataframe tbody tr th {\n",
       "        vertical-align: top;\n",
       "    }\n",
       "\n",
       "    .dataframe thead th {\n",
       "        text-align: right;\n",
       "    }\n",
       "</style>\n",
       "<table border=\"1\" class=\"dataframe\">\n",
       "  <thead>\n",
       "    <tr style=\"text-align: right;\">\n",
       "      <th></th>\n",
       "      <th>class</th>\n",
       "      <th>cap-shape</th>\n",
       "      <th>cap-surface</th>\n",
       "      <th>cap-color</th>\n",
       "      <th>bruises</th>\n",
       "      <th>odor</th>\n",
       "      <th>gill-attachment</th>\n",
       "      <th>gill-spacing</th>\n",
       "      <th>gill-size</th>\n",
       "      <th>gill-color</th>\n",
       "      <th>...</th>\n",
       "      <th>stalk-surface-below-ring</th>\n",
       "      <th>stalk-color-above-ring</th>\n",
       "      <th>stalk-color-below-ring</th>\n",
       "      <th>veil-type</th>\n",
       "      <th>veil-color</th>\n",
       "      <th>ring-number</th>\n",
       "      <th>ring-type</th>\n",
       "      <th>spore-print-color</th>\n",
       "      <th>population</th>\n",
       "      <th>habitat</th>\n",
       "    </tr>\n",
       "  </thead>\n",
       "  <tbody>\n",
       "    <tr>\n",
       "      <th>0</th>\n",
       "      <td>0</td>\n",
       "      <td>0</td>\n",
       "      <td>0</td>\n",
       "      <td>0</td>\n",
       "      <td>0</td>\n",
       "      <td>0</td>\n",
       "      <td>0</td>\n",
       "      <td>0</td>\n",
       "      <td>0</td>\n",
       "      <td>0</td>\n",
       "      <td>...</td>\n",
       "      <td>0</td>\n",
       "      <td>0</td>\n",
       "      <td>0</td>\n",
       "      <td>1</td>\n",
       "      <td>0</td>\n",
       "      <td>0</td>\n",
       "      <td>0</td>\n",
       "      <td>0</td>\n",
       "      <td>0</td>\n",
       "      <td>0</td>\n",
       "    </tr>\n",
       "    <tr>\n",
       "      <th>1</th>\n",
       "      <td>1</td>\n",
       "      <td>0</td>\n",
       "      <td>0</td>\n",
       "      <td>1</td>\n",
       "      <td>0</td>\n",
       "      <td>1</td>\n",
       "      <td>0</td>\n",
       "      <td>0</td>\n",
       "      <td>1</td>\n",
       "      <td>0</td>\n",
       "      <td>...</td>\n",
       "      <td>0</td>\n",
       "      <td>0</td>\n",
       "      <td>0</td>\n",
       "      <td>1</td>\n",
       "      <td>0</td>\n",
       "      <td>0</td>\n",
       "      <td>0</td>\n",
       "      <td>1</td>\n",
       "      <td>1</td>\n",
       "      <td>1</td>\n",
       "    </tr>\n",
       "    <tr>\n",
       "      <th>2</th>\n",
       "      <td>1</td>\n",
       "      <td>1</td>\n",
       "      <td>0</td>\n",
       "      <td>2</td>\n",
       "      <td>0</td>\n",
       "      <td>2</td>\n",
       "      <td>0</td>\n",
       "      <td>0</td>\n",
       "      <td>1</td>\n",
       "      <td>1</td>\n",
       "      <td>...</td>\n",
       "      <td>0</td>\n",
       "      <td>0</td>\n",
       "      <td>0</td>\n",
       "      <td>1</td>\n",
       "      <td>0</td>\n",
       "      <td>0</td>\n",
       "      <td>0</td>\n",
       "      <td>1</td>\n",
       "      <td>1</td>\n",
       "      <td>2</td>\n",
       "    </tr>\n",
       "    <tr>\n",
       "      <th>3</th>\n",
       "      <td>0</td>\n",
       "      <td>0</td>\n",
       "      <td>1</td>\n",
       "      <td>2</td>\n",
       "      <td>0</td>\n",
       "      <td>0</td>\n",
       "      <td>0</td>\n",
       "      <td>0</td>\n",
       "      <td>0</td>\n",
       "      <td>1</td>\n",
       "      <td>...</td>\n",
       "      <td>0</td>\n",
       "      <td>0</td>\n",
       "      <td>0</td>\n",
       "      <td>1</td>\n",
       "      <td>0</td>\n",
       "      <td>0</td>\n",
       "      <td>0</td>\n",
       "      <td>0</td>\n",
       "      <td>0</td>\n",
       "      <td>0</td>\n",
       "    </tr>\n",
       "    <tr>\n",
       "      <th>4</th>\n",
       "      <td>1</td>\n",
       "      <td>0</td>\n",
       "      <td>0</td>\n",
       "      <td>3</td>\n",
       "      <td>1</td>\n",
       "      <td>3</td>\n",
       "      <td>0</td>\n",
       "      <td>1</td>\n",
       "      <td>1</td>\n",
       "      <td>0</td>\n",
       "      <td>...</td>\n",
       "      <td>0</td>\n",
       "      <td>0</td>\n",
       "      <td>0</td>\n",
       "      <td>1</td>\n",
       "      <td>0</td>\n",
       "      <td>0</td>\n",
       "      <td>1</td>\n",
       "      <td>1</td>\n",
       "      <td>2</td>\n",
       "      <td>1</td>\n",
       "    </tr>\n",
       "    <tr>\n",
       "      <th>...</th>\n",
       "      <td>...</td>\n",
       "      <td>...</td>\n",
       "      <td>...</td>\n",
       "      <td>...</td>\n",
       "      <td>...</td>\n",
       "      <td>...</td>\n",
       "      <td>...</td>\n",
       "      <td>...</td>\n",
       "      <td>...</td>\n",
       "      <td>...</td>\n",
       "      <td>...</td>\n",
       "      <td>...</td>\n",
       "      <td>...</td>\n",
       "      <td>...</td>\n",
       "      <td>...</td>\n",
       "      <td>...</td>\n",
       "      <td>...</td>\n",
       "      <td>...</td>\n",
       "      <td>...</td>\n",
       "      <td>...</td>\n",
       "      <td>...</td>\n",
       "    </tr>\n",
       "    <tr>\n",
       "      <th>8119</th>\n",
       "      <td>1</td>\n",
       "      <td>4</td>\n",
       "      <td>0</td>\n",
       "      <td>0</td>\n",
       "      <td>1</td>\n",
       "      <td>3</td>\n",
       "      <td>1</td>\n",
       "      <td>0</td>\n",
       "      <td>1</td>\n",
       "      <td>10</td>\n",
       "      <td>...</td>\n",
       "      <td>0</td>\n",
       "      <td>6</td>\n",
       "      <td>7</td>\n",
       "      <td>1</td>\n",
       "      <td>2</td>\n",
       "      <td>0</td>\n",
       "      <td>0</td>\n",
       "      <td>8</td>\n",
       "      <td>5</td>\n",
       "      <td>6</td>\n",
       "    </tr>\n",
       "    <tr>\n",
       "      <th>8120</th>\n",
       "      <td>1</td>\n",
       "      <td>0</td>\n",
       "      <td>0</td>\n",
       "      <td>0</td>\n",
       "      <td>1</td>\n",
       "      <td>3</td>\n",
       "      <td>1</td>\n",
       "      <td>0</td>\n",
       "      <td>1</td>\n",
       "      <td>10</td>\n",
       "      <td>...</td>\n",
       "      <td>0</td>\n",
       "      <td>6</td>\n",
       "      <td>7</td>\n",
       "      <td>1</td>\n",
       "      <td>1</td>\n",
       "      <td>0</td>\n",
       "      <td>0</td>\n",
       "      <td>8</td>\n",
       "      <td>3</td>\n",
       "      <td>6</td>\n",
       "    </tr>\n",
       "    <tr>\n",
       "      <th>8121</th>\n",
       "      <td>1</td>\n",
       "      <td>3</td>\n",
       "      <td>0</td>\n",
       "      <td>0</td>\n",
       "      <td>1</td>\n",
       "      <td>3</td>\n",
       "      <td>1</td>\n",
       "      <td>0</td>\n",
       "      <td>1</td>\n",
       "      <td>1</td>\n",
       "      <td>...</td>\n",
       "      <td>0</td>\n",
       "      <td>6</td>\n",
       "      <td>7</td>\n",
       "      <td>1</td>\n",
       "      <td>2</td>\n",
       "      <td>0</td>\n",
       "      <td>0</td>\n",
       "      <td>8</td>\n",
       "      <td>5</td>\n",
       "      <td>6</td>\n",
       "    </tr>\n",
       "    <tr>\n",
       "      <th>8122</th>\n",
       "      <td>0</td>\n",
       "      <td>4</td>\n",
       "      <td>1</td>\n",
       "      <td>0</td>\n",
       "      <td>1</td>\n",
       "      <td>6</td>\n",
       "      <td>0</td>\n",
       "      <td>0</td>\n",
       "      <td>0</td>\n",
       "      <td>8</td>\n",
       "      <td>...</td>\n",
       "      <td>3</td>\n",
       "      <td>0</td>\n",
       "      <td>0</td>\n",
       "      <td>1</td>\n",
       "      <td>0</td>\n",
       "      <td>0</td>\n",
       "      <td>1</td>\n",
       "      <td>4</td>\n",
       "      <td>3</td>\n",
       "      <td>6</td>\n",
       "    </tr>\n",
       "    <tr>\n",
       "      <th>8123</th>\n",
       "      <td>1</td>\n",
       "      <td>0</td>\n",
       "      <td>0</td>\n",
       "      <td>0</td>\n",
       "      <td>1</td>\n",
       "      <td>3</td>\n",
       "      <td>1</td>\n",
       "      <td>0</td>\n",
       "      <td>1</td>\n",
       "      <td>10</td>\n",
       "      <td>...</td>\n",
       "      <td>0</td>\n",
       "      <td>6</td>\n",
       "      <td>7</td>\n",
       "      <td>1</td>\n",
       "      <td>2</td>\n",
       "      <td>0</td>\n",
       "      <td>0</td>\n",
       "      <td>6</td>\n",
       "      <td>5</td>\n",
       "      <td>6</td>\n",
       "    </tr>\n",
       "  </tbody>\n",
       "</table>\n",
       "<p>8124 rows × 23 columns</p>\n",
       "</div>"
      ],
      "text/plain": [
       "      class  cap-shape  cap-surface  cap-color  bruises  odor  \\\n",
       "0         0          0            0          0        0     0   \n",
       "1         1          0            0          1        0     1   \n",
       "2         1          1            0          2        0     2   \n",
       "3         0          0            1          2        0     0   \n",
       "4         1          0            0          3        1     3   \n",
       "...     ...        ...          ...        ...      ...   ...   \n",
       "8119      1          4            0          0        1     3   \n",
       "8120      1          0            0          0        1     3   \n",
       "8121      1          3            0          0        1     3   \n",
       "8122      0          4            1          0        1     6   \n",
       "8123      1          0            0          0        1     3   \n",
       "\n",
       "      gill-attachment  gill-spacing  gill-size  gill-color  ...  \\\n",
       "0                   0             0          0           0  ...   \n",
       "1                   0             0          1           0  ...   \n",
       "2                   0             0          1           1  ...   \n",
       "3                   0             0          0           1  ...   \n",
       "4                   0             1          1           0  ...   \n",
       "...               ...           ...        ...         ...  ...   \n",
       "8119                1             0          1          10  ...   \n",
       "8120                1             0          1          10  ...   \n",
       "8121                1             0          1           1  ...   \n",
       "8122                0             0          0           8  ...   \n",
       "8123                1             0          1          10  ...   \n",
       "\n",
       "      stalk-surface-below-ring  stalk-color-above-ring  \\\n",
       "0                            0                       0   \n",
       "1                            0                       0   \n",
       "2                            0                       0   \n",
       "3                            0                       0   \n",
       "4                            0                       0   \n",
       "...                        ...                     ...   \n",
       "8119                         0                       6   \n",
       "8120                         0                       6   \n",
       "8121                         0                       6   \n",
       "8122                         3                       0   \n",
       "8123                         0                       6   \n",
       "\n",
       "      stalk-color-below-ring  veil-type  veil-color  ring-number  ring-type  \\\n",
       "0                          0          1           0            0          0   \n",
       "1                          0          1           0            0          0   \n",
       "2                          0          1           0            0          0   \n",
       "3                          0          1           0            0          0   \n",
       "4                          0          1           0            0          1   \n",
       "...                      ...        ...         ...          ...        ...   \n",
       "8119                       7          1           2            0          0   \n",
       "8120                       7          1           1            0          0   \n",
       "8121                       7          1           2            0          0   \n",
       "8122                       0          1           0            0          1   \n",
       "8123                       7          1           2            0          0   \n",
       "\n",
       "      spore-print-color  population  habitat  \n",
       "0                     0           0        0  \n",
       "1                     1           1        1  \n",
       "2                     1           1        2  \n",
       "3                     0           0        0  \n",
       "4                     1           2        1  \n",
       "...                 ...         ...      ...  \n",
       "8119                  8           5        6  \n",
       "8120                  8           3        6  \n",
       "8121                  8           5        6  \n",
       "8122                  4           3        6  \n",
       "8123                  6           5        6  \n",
       "\n",
       "[8124 rows x 23 columns]"
      ]
     },
     "execution_count": 145,
     "metadata": {},
     "output_type": "execute_result"
    }
   ],
   "source": [
    "df_n"
   ]
  },
  {
   "cell_type": "code",
   "execution_count": 146,
   "id": "5f185ed4",
   "metadata": {},
   "outputs": [
    {
     "name": "stdout",
     "output_type": "stream",
     "text": [
      "El atributo class es de tipo entero, contiene 2 observaciones y son las siguientes:\n",
      "        [1, 0]\n",
      "              \n",
      "El atributo cap-shape es de tipo entero, contiene 6 observaciones y son las siguientes:\n",
      "        [0, 3, 4, 1, 2, 5]\n",
      "              \n",
      "El atributo cap-surface es de tipo entero, contiene 4 observaciones y son las siguientes:\n",
      "        [1, 0, 2, 3]\n",
      "              \n",
      "El atributo cap-color es de tipo entero, contiene 10 observaciones y son las siguientes:\n",
      "        [0, 3, 4, 1, 2, 6, 5, 8, 7, 9]\n",
      "              \n",
      "El atributo bruises es de tipo entero, contiene 2 observaciones y son las siguientes:\n",
      "        [1, 0]\n",
      "              \n",
      "El atributo odor es de tipo entero, contiene 9 observaciones y son las siguientes:\n",
      "        [3, 4, 6, 7, 1, 2, 0, 5, 8]\n",
      "              \n",
      "El atributo gill-attachment es de tipo entero, contiene 2 observaciones y son las siguientes:\n",
      "        [0, 1]\n",
      "              \n",
      "El atributo gill-spacing es de tipo entero, contiene 2 observaciones y son las siguientes:\n",
      "        [0, 1]\n",
      "              \n",
      "El atributo gill-size es de tipo entero, contiene 2 observaciones y son las siguientes:\n",
      "        [1, 0]\n",
      "              \n",
      "El atributo gill-color es de tipo entero, contiene 12 observaciones y son las siguientes:\n",
      "        [8, 3, 4, 1, 2, 5, 6, 0, 7, 10, 11, 9]\n",
      "              \n",
      "El atributo stalk-shape es de tipo entero, contiene 2 observaciones y son las siguientes:\n",
      "        [1, 0]\n",
      "              \n",
      "El atributo stalk-root es de tipo entero, contiene 4 observaciones y son las siguientes:\n",
      "        [2, 0, 1, 3]\n",
      "              \n",
      "El atributo stalk-surface-above-ring es de tipo entero, contiene 4 observaciones y son las siguientes:\n",
      "        [0, 2, 1, 3]\n",
      "              \n",
      "El atributo stalk-surface-below-ring es de tipo entero, contiene 4 observaciones y son las siguientes:\n",
      "        [0, 3, 1, 2]\n",
      "              \n",
      "El atributo stalk-color-above-ring es de tipo entero, contiene 9 observaciones y son las siguientes:\n",
      "        [0, 2, 1, 3, 4, 6, 5, 7, 8]\n",
      "              \n",
      "El atributo stalk-color-below-ring es de tipo entero, contiene 9 observaciones y son las siguientes:\n",
      "        [0, 1, 2, 4, 3, 7, 5, 8, 6]\n",
      "              \n",
      "El atributo veil-type es de tipo int64, contiene 1 observaciones y son las siguientes:\n",
      "        [1]\n",
      "              \n",
      "El atributo veil-color es de tipo entero, contiene 4 observaciones y son las siguientes:\n",
      "        [0, 1, 2, 3]\n",
      "              \n",
      "El atributo ring-number es de tipo entero, contiene 3 observaciones y son las siguientes:\n",
      "        [0, 1, 2]\n",
      "              \n",
      "El atributo ring-type es de tipo entero, contiene 5 observaciones y son las siguientes:\n",
      "        [0, 1, 2, 3, 4]\n",
      "              \n",
      "El atributo spore-print-color es de tipo entero, contiene 9 observaciones y son las siguientes:\n",
      "        [4, 1, 0, 3, 5, 2, 6, 7, 8]\n",
      "              \n",
      "El atributo population es de tipo entero, contiene 6 observaciones y son las siguientes:\n",
      "        [3, 4, 0, 1, 2, 5]\n",
      "              \n",
      "El atributo habitat es de tipo entero, contiene 7 observaciones y son las siguientes:\n",
      "        [3, 1, 4, 6, 0, 2, 5]\n",
      "              \n"
     ]
    }
   ],
   "source": [
    "observaciones = Observaciones(df_n, atributos)"
   ]
  },
  {
   "cell_type": "markdown",
   "id": "32107b99-9fc0-4af7-9c89-41881ef38c25",
   "metadata": {},
   "source": [
    "No se requiere normalizar, dado que, los valores numéricos son del tipo categórico"
   ]
  },
  {
   "cell_type": "code",
   "execution_count": 147,
   "id": "a170cf92-91c1-432d-b4dc-79f34f6b4da4",
   "metadata": {},
   "outputs": [
    {
     "data": {
      "text/html": [
       "<div>\n",
       "<style scoped>\n",
       "    .dataframe tbody tr th:only-of-type {\n",
       "        vertical-align: middle;\n",
       "    }\n",
       "\n",
       "    .dataframe tbody tr th {\n",
       "        vertical-align: top;\n",
       "    }\n",
       "\n",
       "    .dataframe thead th {\n",
       "        text-align: right;\n",
       "    }\n",
       "</style>\n",
       "<table border=\"1\" class=\"dataframe\">\n",
       "  <thead>\n",
       "    <tr style=\"text-align: right;\">\n",
       "      <th></th>\n",
       "      <th>cap-shape</th>\n",
       "      <th>cap-surface</th>\n",
       "      <th>cap-color</th>\n",
       "      <th>odor</th>\n",
       "      <th>gill-color</th>\n",
       "      <th>stalk-root</th>\n",
       "      <th>stalk-surface-above-ring</th>\n",
       "      <th>stalk-surface-below-ring</th>\n",
       "      <th>stalk-color-above-ring</th>\n",
       "      <th>stalk-color-below-ring</th>\n",
       "      <th>...</th>\n",
       "      <th>spore-print-color</th>\n",
       "      <th>population</th>\n",
       "      <th>habitat</th>\n",
       "      <th>class</th>\n",
       "      <th>bruises</th>\n",
       "      <th>gill-attachment</th>\n",
       "      <th>gill-spacing</th>\n",
       "      <th>gill-size</th>\n",
       "      <th>stalk-shape</th>\n",
       "      <th>veil-type</th>\n",
       "    </tr>\n",
       "  </thead>\n",
       "  <tbody>\n",
       "    <tr>\n",
       "      <th>0</th>\n",
       "      <td>0.0</td>\n",
       "      <td>0.000000</td>\n",
       "      <td>0.000000</td>\n",
       "      <td>0.000</td>\n",
       "      <td>0.000000</td>\n",
       "      <td>0.000000</td>\n",
       "      <td>0.0</td>\n",
       "      <td>0.0</td>\n",
       "      <td>0.00</td>\n",
       "      <td>0.000</td>\n",
       "      <td>...</td>\n",
       "      <td>0.000</td>\n",
       "      <td>0.0</td>\n",
       "      <td>0.000000</td>\n",
       "      <td>0</td>\n",
       "      <td>0</td>\n",
       "      <td>0</td>\n",
       "      <td>0</td>\n",
       "      <td>0</td>\n",
       "      <td>0</td>\n",
       "      <td>1</td>\n",
       "    </tr>\n",
       "    <tr>\n",
       "      <th>1</th>\n",
       "      <td>0.0</td>\n",
       "      <td>0.000000</td>\n",
       "      <td>0.111111</td>\n",
       "      <td>0.125</td>\n",
       "      <td>0.000000</td>\n",
       "      <td>0.333333</td>\n",
       "      <td>0.0</td>\n",
       "      <td>0.0</td>\n",
       "      <td>0.00</td>\n",
       "      <td>0.000</td>\n",
       "      <td>...</td>\n",
       "      <td>0.125</td>\n",
       "      <td>0.2</td>\n",
       "      <td>0.166667</td>\n",
       "      <td>1</td>\n",
       "      <td>0</td>\n",
       "      <td>0</td>\n",
       "      <td>0</td>\n",
       "      <td>1</td>\n",
       "      <td>0</td>\n",
       "      <td>1</td>\n",
       "    </tr>\n",
       "    <tr>\n",
       "      <th>2</th>\n",
       "      <td>0.2</td>\n",
       "      <td>0.000000</td>\n",
       "      <td>0.222222</td>\n",
       "      <td>0.250</td>\n",
       "      <td>0.090909</td>\n",
       "      <td>0.333333</td>\n",
       "      <td>0.0</td>\n",
       "      <td>0.0</td>\n",
       "      <td>0.00</td>\n",
       "      <td>0.000</td>\n",
       "      <td>...</td>\n",
       "      <td>0.125</td>\n",
       "      <td>0.2</td>\n",
       "      <td>0.333333</td>\n",
       "      <td>1</td>\n",
       "      <td>0</td>\n",
       "      <td>0</td>\n",
       "      <td>0</td>\n",
       "      <td>1</td>\n",
       "      <td>0</td>\n",
       "      <td>1</td>\n",
       "    </tr>\n",
       "    <tr>\n",
       "      <th>3</th>\n",
       "      <td>0.0</td>\n",
       "      <td>0.333333</td>\n",
       "      <td>0.222222</td>\n",
       "      <td>0.000</td>\n",
       "      <td>0.090909</td>\n",
       "      <td>0.000000</td>\n",
       "      <td>0.0</td>\n",
       "      <td>0.0</td>\n",
       "      <td>0.00</td>\n",
       "      <td>0.000</td>\n",
       "      <td>...</td>\n",
       "      <td>0.000</td>\n",
       "      <td>0.0</td>\n",
       "      <td>0.000000</td>\n",
       "      <td>0</td>\n",
       "      <td>0</td>\n",
       "      <td>0</td>\n",
       "      <td>0</td>\n",
       "      <td>0</td>\n",
       "      <td>0</td>\n",
       "      <td>1</td>\n",
       "    </tr>\n",
       "    <tr>\n",
       "      <th>4</th>\n",
       "      <td>0.0</td>\n",
       "      <td>0.000000</td>\n",
       "      <td>0.333333</td>\n",
       "      <td>0.375</td>\n",
       "      <td>0.000000</td>\n",
       "      <td>0.000000</td>\n",
       "      <td>0.0</td>\n",
       "      <td>0.0</td>\n",
       "      <td>0.00</td>\n",
       "      <td>0.000</td>\n",
       "      <td>...</td>\n",
       "      <td>0.125</td>\n",
       "      <td>0.4</td>\n",
       "      <td>0.166667</td>\n",
       "      <td>1</td>\n",
       "      <td>1</td>\n",
       "      <td>0</td>\n",
       "      <td>1</td>\n",
       "      <td>1</td>\n",
       "      <td>1</td>\n",
       "      <td>1</td>\n",
       "    </tr>\n",
       "    <tr>\n",
       "      <th>...</th>\n",
       "      <td>...</td>\n",
       "      <td>...</td>\n",
       "      <td>...</td>\n",
       "      <td>...</td>\n",
       "      <td>...</td>\n",
       "      <td>...</td>\n",
       "      <td>...</td>\n",
       "      <td>...</td>\n",
       "      <td>...</td>\n",
       "      <td>...</td>\n",
       "      <td>...</td>\n",
       "      <td>...</td>\n",
       "      <td>...</td>\n",
       "      <td>...</td>\n",
       "      <td>...</td>\n",
       "      <td>...</td>\n",
       "      <td>...</td>\n",
       "      <td>...</td>\n",
       "      <td>...</td>\n",
       "      <td>...</td>\n",
       "      <td>...</td>\n",
       "    </tr>\n",
       "    <tr>\n",
       "      <th>8119</th>\n",
       "      <td>0.8</td>\n",
       "      <td>0.000000</td>\n",
       "      <td>0.000000</td>\n",
       "      <td>0.375</td>\n",
       "      <td>0.909091</td>\n",
       "      <td>0.000000</td>\n",
       "      <td>0.0</td>\n",
       "      <td>0.0</td>\n",
       "      <td>0.75</td>\n",
       "      <td>0.875</td>\n",
       "      <td>...</td>\n",
       "      <td>1.000</td>\n",
       "      <td>1.0</td>\n",
       "      <td>1.000000</td>\n",
       "      <td>1</td>\n",
       "      <td>1</td>\n",
       "      <td>1</td>\n",
       "      <td>0</td>\n",
       "      <td>1</td>\n",
       "      <td>0</td>\n",
       "      <td>1</td>\n",
       "    </tr>\n",
       "    <tr>\n",
       "      <th>8120</th>\n",
       "      <td>0.0</td>\n",
       "      <td>0.000000</td>\n",
       "      <td>0.000000</td>\n",
       "      <td>0.375</td>\n",
       "      <td>0.909091</td>\n",
       "      <td>0.000000</td>\n",
       "      <td>0.0</td>\n",
       "      <td>0.0</td>\n",
       "      <td>0.75</td>\n",
       "      <td>0.875</td>\n",
       "      <td>...</td>\n",
       "      <td>1.000</td>\n",
       "      <td>0.6</td>\n",
       "      <td>1.000000</td>\n",
       "      <td>1</td>\n",
       "      <td>1</td>\n",
       "      <td>1</td>\n",
       "      <td>0</td>\n",
       "      <td>1</td>\n",
       "      <td>0</td>\n",
       "      <td>1</td>\n",
       "    </tr>\n",
       "    <tr>\n",
       "      <th>8121</th>\n",
       "      <td>0.6</td>\n",
       "      <td>0.000000</td>\n",
       "      <td>0.000000</td>\n",
       "      <td>0.375</td>\n",
       "      <td>0.090909</td>\n",
       "      <td>0.000000</td>\n",
       "      <td>0.0</td>\n",
       "      <td>0.0</td>\n",
       "      <td>0.75</td>\n",
       "      <td>0.875</td>\n",
       "      <td>...</td>\n",
       "      <td>1.000</td>\n",
       "      <td>1.0</td>\n",
       "      <td>1.000000</td>\n",
       "      <td>1</td>\n",
       "      <td>1</td>\n",
       "      <td>1</td>\n",
       "      <td>0</td>\n",
       "      <td>1</td>\n",
       "      <td>0</td>\n",
       "      <td>1</td>\n",
       "    </tr>\n",
       "    <tr>\n",
       "      <th>8122</th>\n",
       "      <td>0.8</td>\n",
       "      <td>0.333333</td>\n",
       "      <td>0.000000</td>\n",
       "      <td>0.750</td>\n",
       "      <td>0.727273</td>\n",
       "      <td>0.000000</td>\n",
       "      <td>0.0</td>\n",
       "      <td>1.0</td>\n",
       "      <td>0.00</td>\n",
       "      <td>0.000</td>\n",
       "      <td>...</td>\n",
       "      <td>0.500</td>\n",
       "      <td>0.6</td>\n",
       "      <td>1.000000</td>\n",
       "      <td>0</td>\n",
       "      <td>1</td>\n",
       "      <td>0</td>\n",
       "      <td>0</td>\n",
       "      <td>0</td>\n",
       "      <td>1</td>\n",
       "      <td>1</td>\n",
       "    </tr>\n",
       "    <tr>\n",
       "      <th>8123</th>\n",
       "      <td>0.0</td>\n",
       "      <td>0.000000</td>\n",
       "      <td>0.000000</td>\n",
       "      <td>0.375</td>\n",
       "      <td>0.909091</td>\n",
       "      <td>0.000000</td>\n",
       "      <td>0.0</td>\n",
       "      <td>0.0</td>\n",
       "      <td>0.75</td>\n",
       "      <td>0.875</td>\n",
       "      <td>...</td>\n",
       "      <td>0.750</td>\n",
       "      <td>1.0</td>\n",
       "      <td>1.000000</td>\n",
       "      <td>1</td>\n",
       "      <td>1</td>\n",
       "      <td>1</td>\n",
       "      <td>0</td>\n",
       "      <td>1</td>\n",
       "      <td>0</td>\n",
       "      <td>1</td>\n",
       "    </tr>\n",
       "  </tbody>\n",
       "</table>\n",
       "<p>8124 rows × 23 columns</p>\n",
       "</div>"
      ],
      "text/plain": [
       "      cap-shape  cap-surface  cap-color   odor  gill-color  stalk-root  \\\n",
       "0           0.0     0.000000   0.000000  0.000    0.000000    0.000000   \n",
       "1           0.0     0.000000   0.111111  0.125    0.000000    0.333333   \n",
       "2           0.2     0.000000   0.222222  0.250    0.090909    0.333333   \n",
       "3           0.0     0.333333   0.222222  0.000    0.090909    0.000000   \n",
       "4           0.0     0.000000   0.333333  0.375    0.000000    0.000000   \n",
       "...         ...          ...        ...    ...         ...         ...   \n",
       "8119        0.8     0.000000   0.000000  0.375    0.909091    0.000000   \n",
       "8120        0.0     0.000000   0.000000  0.375    0.909091    0.000000   \n",
       "8121        0.6     0.000000   0.000000  0.375    0.090909    0.000000   \n",
       "8122        0.8     0.333333   0.000000  0.750    0.727273    0.000000   \n",
       "8123        0.0     0.000000   0.000000  0.375    0.909091    0.000000   \n",
       "\n",
       "      stalk-surface-above-ring  stalk-surface-below-ring  \\\n",
       "0                          0.0                       0.0   \n",
       "1                          0.0                       0.0   \n",
       "2                          0.0                       0.0   \n",
       "3                          0.0                       0.0   \n",
       "4                          0.0                       0.0   \n",
       "...                        ...                       ...   \n",
       "8119                       0.0                       0.0   \n",
       "8120                       0.0                       0.0   \n",
       "8121                       0.0                       0.0   \n",
       "8122                       0.0                       1.0   \n",
       "8123                       0.0                       0.0   \n",
       "\n",
       "      stalk-color-above-ring  stalk-color-below-ring  ...  spore-print-color  \\\n",
       "0                       0.00                   0.000  ...              0.000   \n",
       "1                       0.00                   0.000  ...              0.125   \n",
       "2                       0.00                   0.000  ...              0.125   \n",
       "3                       0.00                   0.000  ...              0.000   \n",
       "4                       0.00                   0.000  ...              0.125   \n",
       "...                      ...                     ...  ...                ...   \n",
       "8119                    0.75                   0.875  ...              1.000   \n",
       "8120                    0.75                   0.875  ...              1.000   \n",
       "8121                    0.75                   0.875  ...              1.000   \n",
       "8122                    0.00                   0.000  ...              0.500   \n",
       "8123                    0.75                   0.875  ...              0.750   \n",
       "\n",
       "      population   habitat  class  bruises  gill-attachment  gill-spacing  \\\n",
       "0            0.0  0.000000      0        0                0             0   \n",
       "1            0.2  0.166667      1        0                0             0   \n",
       "2            0.2  0.333333      1        0                0             0   \n",
       "3            0.0  0.000000      0        0                0             0   \n",
       "4            0.4  0.166667      1        1                0             1   \n",
       "...          ...       ...    ...      ...              ...           ...   \n",
       "8119         1.0  1.000000      1        1                1             0   \n",
       "8120         0.6  1.000000      1        1                1             0   \n",
       "8121         1.0  1.000000      1        1                1             0   \n",
       "8122         0.6  1.000000      0        1                0             0   \n",
       "8123         1.0  1.000000      1        1                1             0   \n",
       "\n",
       "      gill-size  stalk-shape  veil-type  \n",
       "0             0            0          1  \n",
       "1             1            0          1  \n",
       "2             1            0          1  \n",
       "3             0            0          1  \n",
       "4             1            1          1  \n",
       "...         ...          ...        ...  \n",
       "8119          1            0          1  \n",
       "8120          1            0          1  \n",
       "8121          1            0          1  \n",
       "8122          0            1          1  \n",
       "8123          1            0          1  \n",
       "\n",
       "[8124 rows x 23 columns]"
      ]
     },
     "execution_count": 147,
     "metadata": {},
     "output_type": "execute_result"
    }
   ],
   "source": [
    "d_S = df_n.loc[:,['cap-shape','cap-surface','cap-color','odor','gill-color','stalk-root','stalk-surface-above-ring','stalk-surface-below-ring','stalk-color-above-ring','stalk-color-below-ring','veil-color','ring-number','ring-type','spore-print-color','population','habitat']]\n",
    "CD_S = df_n.loc[:,['class','bruises','gill-attachment','gill-spacing','gill-size','stalk-shape','veil-type']]\n",
    "datos_norm = norm_min_max(d_S)\n",
    "datos = pd.concat([datos_norm, CD_S], axis=1)\n",
    "datos"
   ]
  },
  {
   "cell_type": "markdown",
   "id": "29dbd815",
   "metadata": {},
   "source": [
    "### Analizar"
   ]
  },
  {
   "cell_type": "markdown",
   "id": "bb0cc47a",
   "metadata": {},
   "source": [
    "Distribución de la información por atributo"
   ]
  },
  {
   "cell_type": "code",
   "execution_count": 148,
   "id": "4f3886cb-fb4f-42ed-96c8-7e64df4d2675",
   "metadata": {},
   "outputs": [
    {
     "data": {
      "text/html": [
       "<style type=\"text/css\">\n",
       "#T_c99bb_row0_col0 {\n",
       "  background-color: #aed1e7;\n",
       "  color: #000000;\n",
       "}\n",
       "#T_c99bb_row0_col1 {\n",
       "  background-color: #afd1e7;\n",
       "  color: #000000;\n",
       "}\n",
       "#T_c99bb_row0_col2 {\n",
       "  background-color: #caddf0;\n",
       "  color: #000000;\n",
       "}\n",
       "#T_c99bb_row0_col3 {\n",
       "  background-color: #81badb;\n",
       "  color: #000000;\n",
       "}\n",
       "#T_c99bb_row0_col4 {\n",
       "  background-color: #99c7e0;\n",
       "  color: #000000;\n",
       "}\n",
       "#T_c99bb_row0_col5 {\n",
       "  background-color: #a4cce3;\n",
       "  color: #000000;\n",
       "}\n",
       "#T_c99bb_row0_col6, #T_c99bb_row4_col2 {\n",
       "  background-color: #ccdff1;\n",
       "  color: #000000;\n",
       "}\n",
       "#T_c99bb_row0_col7 {\n",
       "  background-color: #add0e6;\n",
       "  color: #000000;\n",
       "}\n",
       "#T_c99bb_row0_col8 {\n",
       "  background-color: #dbe9f6;\n",
       "  color: #000000;\n",
       "}\n",
       "#T_c99bb_row0_col9 {\n",
       "  background-color: #ddeaf7;\n",
       "  color: #000000;\n",
       "}\n",
       "#T_c99bb_row0_col10 {\n",
       "  background-color: #f5f9fe;\n",
       "  color: #000000;\n",
       "}\n",
       "#T_c99bb_row0_col11 {\n",
       "  background-color: #eff6fc;\n",
       "  color: #000000;\n",
       "}\n",
       "#T_c99bb_row0_col12 {\n",
       "  background-color: #d5e5f4;\n",
       "  color: #000000;\n",
       "}\n",
       "#T_c99bb_row0_col13, #T_c99bb_row1_col14 {\n",
       "  background-color: #bed8ec;\n",
       "  color: #000000;\n",
       "}\n",
       "#T_c99bb_row0_col14 {\n",
       "  background-color: #5fa6d1;\n",
       "  color: #f1f1f1;\n",
       "}\n",
       "#T_c99bb_row0_col15 {\n",
       "  background-color: #79b5d9;\n",
       "  color: #000000;\n",
       "}\n",
       "#T_c99bb_row0_col16 {\n",
       "  background-color: #65aad4;\n",
       "  color: #f1f1f1;\n",
       "}\n",
       "#T_c99bb_row0_col17 {\n",
       "  background-color: #4f9bcb;\n",
       "  color: #f1f1f1;\n",
       "}\n",
       "#T_c99bb_row0_col18 {\n",
       "  background-color: #f2f8fd;\n",
       "  color: #000000;\n",
       "}\n",
       "#T_c99bb_row0_col19 {\n",
       "  background-color: #d7e6f5;\n",
       "  color: #000000;\n",
       "}\n",
       "#T_c99bb_row0_col20 {\n",
       "  background-color: #3181bd;\n",
       "  color: #f1f1f1;\n",
       "}\n",
       "#T_c99bb_row0_col21 {\n",
       "  background-color: #549fcd;\n",
       "  color: #f1f1f1;\n",
       "}\n",
       "#T_c99bb_row0_col22, #T_c99bb_row2_col22, #T_c99bb_row3_col22, #T_c99bb_row4_col16, #T_c99bb_row4_col17, #T_c99bb_row4_col20, #T_c99bb_row4_col21, #T_c99bb_row4_col22, #T_c99bb_row5_col7, #T_c99bb_row5_col16, #T_c99bb_row5_col17, #T_c99bb_row5_col20, #T_c99bb_row5_col21, #T_c99bb_row5_col22, #T_c99bb_row6_col0, #T_c99bb_row6_col1, #T_c99bb_row6_col2, #T_c99bb_row6_col3, #T_c99bb_row6_col4, #T_c99bb_row6_col5, #T_c99bb_row6_col6, #T_c99bb_row6_col7, #T_c99bb_row6_col8, #T_c99bb_row6_col9, #T_c99bb_row6_col10, #T_c99bb_row6_col11, #T_c99bb_row6_col12, #T_c99bb_row6_col13, #T_c99bb_row6_col14, #T_c99bb_row6_col15, #T_c99bb_row6_col16, #T_c99bb_row6_col17, #T_c99bb_row6_col18, #T_c99bb_row6_col19, #T_c99bb_row6_col20, #T_c99bb_row6_col21, #T_c99bb_row6_col22 {\n",
       "  background-color: #08306b;\n",
       "  color: #f1f1f1;\n",
       "}\n",
       "#T_c99bb_row1_col0 {\n",
       "  background-color: #b0d2e7;\n",
       "  color: #000000;\n",
       "}\n",
       "#T_c99bb_row1_col1 {\n",
       "  background-color: #c3daee;\n",
       "  color: #000000;\n",
       "}\n",
       "#T_c99bb_row1_col2, #T_c99bb_row1_col3 {\n",
       "  background-color: #d1e2f3;\n",
       "  color: #000000;\n",
       "}\n",
       "#T_c99bb_row1_col4 {\n",
       "  background-color: #c7dcef;\n",
       "  color: #000000;\n",
       "}\n",
       "#T_c99bb_row1_col5, #T_c99bb_row4_col1, #T_c99bb_row4_col5, #T_c99bb_row5_col2 {\n",
       "  background-color: #abd0e6;\n",
       "  color: #000000;\n",
       "}\n",
       "#T_c99bb_row1_col6 {\n",
       "  background-color: #b5d4e9;\n",
       "  color: #000000;\n",
       "}\n",
       "#T_c99bb_row1_col7 {\n",
       "  background-color: #82bbdb;\n",
       "  color: #000000;\n",
       "}\n",
       "#T_c99bb_row1_col8, #T_c99bb_row1_col12 {\n",
       "  background-color: #d0e2f2;\n",
       "  color: #000000;\n",
       "}\n",
       "#T_c99bb_row1_col9 {\n",
       "  background-color: #cfe1f2;\n",
       "  color: #000000;\n",
       "}\n",
       "#T_c99bb_row1_col10 {\n",
       "  background-color: #e6f0f9;\n",
       "  color: #000000;\n",
       "}\n",
       "#T_c99bb_row1_col11 {\n",
       "  background-color: #dae8f6;\n",
       "  color: #000000;\n",
       "}\n",
       "#T_c99bb_row1_col13 {\n",
       "  background-color: #cddff1;\n",
       "  color: #000000;\n",
       "}\n",
       "#T_c99bb_row1_col15 {\n",
       "  background-color: #bfd8ed;\n",
       "  color: #000000;\n",
       "}\n",
       "#T_c99bb_row1_col16 {\n",
       "  background-color: #6caed6;\n",
       "  color: #f1f1f1;\n",
       "}\n",
       "#T_c99bb_row1_col17, #T_c99bb_row1_col21 {\n",
       "  background-color: #6dafd7;\n",
       "  color: #f1f1f1;\n",
       "}\n",
       "#T_c99bb_row1_col18 {\n",
       "  background-color: #d8e7f5;\n",
       "  color: #000000;\n",
       "}\n",
       "#T_c99bb_row1_col19 {\n",
       "  background-color: #a0cbe2;\n",
       "  color: #000000;\n",
       "}\n",
       "#T_c99bb_row1_col20 {\n",
       "  background-color: #7ab6d9;\n",
       "  color: #000000;\n",
       "}\n",
       "#T_c99bb_row1_col22, #T_c99bb_row2_col0, #T_c99bb_row2_col1, #T_c99bb_row2_col2, #T_c99bb_row2_col3, #T_c99bb_row2_col4, #T_c99bb_row2_col5, #T_c99bb_row2_col6, #T_c99bb_row2_col7, #T_c99bb_row2_col8, #T_c99bb_row2_col9, #T_c99bb_row2_col10, #T_c99bb_row2_col11, #T_c99bb_row2_col12, #T_c99bb_row2_col13, #T_c99bb_row2_col14, #T_c99bb_row2_col15, #T_c99bb_row2_col16, #T_c99bb_row2_col17, #T_c99bb_row2_col18, #T_c99bb_row2_col19, #T_c99bb_row2_col20, #T_c99bb_row2_col21, #T_c99bb_row3_col0, #T_c99bb_row3_col1, #T_c99bb_row3_col2, #T_c99bb_row3_col5, #T_c99bb_row3_col6, #T_c99bb_row3_col7, #T_c99bb_row3_col8, #T_c99bb_row3_col9, #T_c99bb_row3_col10, #T_c99bb_row3_col11, #T_c99bb_row3_col12, #T_c99bb_row3_col16, #T_c99bb_row3_col17, #T_c99bb_row3_col18, #T_c99bb_row3_col19, #T_c99bb_row3_col20, #T_c99bb_row3_col21, #T_c99bb_row4_col6, #T_c99bb_row4_col7, #T_c99bb_row4_col8, #T_c99bb_row4_col9, #T_c99bb_row4_col10, #T_c99bb_row4_col11, #T_c99bb_row4_col18, #T_c99bb_row4_col19, #T_c99bb_row5_col10, #T_c99bb_row5_col11, #T_c99bb_row5_col18, #T_c99bb_row5_col19 {\n",
       "  background-color: #f7fbff;\n",
       "  color: #000000;\n",
       "}\n",
       "#T_c99bb_row3_col3, #T_c99bb_row4_col3, #T_c99bb_row4_col13 {\n",
       "  background-color: #9dcae1;\n",
       "  color: #000000;\n",
       "}\n",
       "#T_c99bb_row3_col4 {\n",
       "  background-color: #d3e4f3;\n",
       "  color: #000000;\n",
       "}\n",
       "#T_c99bb_row3_col13, #T_c99bb_row5_col9 {\n",
       "  background-color: #deebf7;\n",
       "  color: #000000;\n",
       "}\n",
       "#T_c99bb_row3_col14 {\n",
       "  background-color: #94c4df;\n",
       "  color: #000000;\n",
       "}\n",
       "#T_c99bb_row3_col15 {\n",
       "  background-color: #d6e6f4;\n",
       "  color: #000000;\n",
       "}\n",
       "#T_c99bb_row4_col0 {\n",
       "  background-color: #d0e1f2;\n",
       "  color: #000000;\n",
       "}\n",
       "#T_c99bb_row4_col4 {\n",
       "  background-color: #a1cbe2;\n",
       "  color: #000000;\n",
       "}\n",
       "#T_c99bb_row4_col12, #T_c99bb_row5_col8, #T_c99bb_row5_col12 {\n",
       "  background-color: #c6dbef;\n",
       "  color: #000000;\n",
       "}\n",
       "#T_c99bb_row4_col14, #T_c99bb_row5_col0 {\n",
       "  background-color: #4a98c9;\n",
       "  color: #f1f1f1;\n",
       "}\n",
       "#T_c99bb_row4_col15, #T_c99bb_row5_col3, #T_c99bb_row5_col13 {\n",
       "  background-color: #6aaed6;\n",
       "  color: #f1f1f1;\n",
       "}\n",
       "#T_c99bb_row5_col1, #T_c99bb_row5_col5, #T_c99bb_row5_col6, #T_c99bb_row5_col15 {\n",
       "  background-color: #3787c0;\n",
       "  color: #f1f1f1;\n",
       "}\n",
       "#T_c99bb_row5_col4 {\n",
       "  background-color: #5ca4d0;\n",
       "  color: #f1f1f1;\n",
       "}\n",
       "#T_c99bb_row5_col14 {\n",
       "  background-color: #1764ab;\n",
       "  color: #f1f1f1;\n",
       "}\n",
       "</style>\n",
       "<table id=\"T_c99bb\">\n",
       "  <thead>\n",
       "    <tr>\n",
       "      <th class=\"blank level0\" >&nbsp;</th>\n",
       "      <th id=\"T_c99bb_level0_col0\" class=\"col_heading level0 col0\" >cap-shape</th>\n",
       "      <th id=\"T_c99bb_level0_col1\" class=\"col_heading level0 col1\" >cap-surface</th>\n",
       "      <th id=\"T_c99bb_level0_col2\" class=\"col_heading level0 col2\" >cap-color</th>\n",
       "      <th id=\"T_c99bb_level0_col3\" class=\"col_heading level0 col3\" >odor</th>\n",
       "      <th id=\"T_c99bb_level0_col4\" class=\"col_heading level0 col4\" >gill-color</th>\n",
       "      <th id=\"T_c99bb_level0_col5\" class=\"col_heading level0 col5\" >stalk-root</th>\n",
       "      <th id=\"T_c99bb_level0_col6\" class=\"col_heading level0 col6\" >stalk-surface-above-ring</th>\n",
       "      <th id=\"T_c99bb_level0_col7\" class=\"col_heading level0 col7\" >stalk-surface-below-ring</th>\n",
       "      <th id=\"T_c99bb_level0_col8\" class=\"col_heading level0 col8\" >stalk-color-above-ring</th>\n",
       "      <th id=\"T_c99bb_level0_col9\" class=\"col_heading level0 col9\" >stalk-color-below-ring</th>\n",
       "      <th id=\"T_c99bb_level0_col10\" class=\"col_heading level0 col10\" >veil-color</th>\n",
       "      <th id=\"T_c99bb_level0_col11\" class=\"col_heading level0 col11\" >ring-number</th>\n",
       "      <th id=\"T_c99bb_level0_col12\" class=\"col_heading level0 col12\" >ring-type</th>\n",
       "      <th id=\"T_c99bb_level0_col13\" class=\"col_heading level0 col13\" >spore-print-color</th>\n",
       "      <th id=\"T_c99bb_level0_col14\" class=\"col_heading level0 col14\" >population</th>\n",
       "      <th id=\"T_c99bb_level0_col15\" class=\"col_heading level0 col15\" >habitat</th>\n",
       "      <th id=\"T_c99bb_level0_col16\" class=\"col_heading level0 col16\" >class</th>\n",
       "      <th id=\"T_c99bb_level0_col17\" class=\"col_heading level0 col17\" >bruises</th>\n",
       "      <th id=\"T_c99bb_level0_col18\" class=\"col_heading level0 col18\" >gill-attachment</th>\n",
       "      <th id=\"T_c99bb_level0_col19\" class=\"col_heading level0 col19\" >gill-spacing</th>\n",
       "      <th id=\"T_c99bb_level0_col20\" class=\"col_heading level0 col20\" >gill-size</th>\n",
       "      <th id=\"T_c99bb_level0_col21\" class=\"col_heading level0 col21\" >stalk-shape</th>\n",
       "      <th id=\"T_c99bb_level0_col22\" class=\"col_heading level0 col22\" >veil-type</th>\n",
       "    </tr>\n",
       "  </thead>\n",
       "  <tbody>\n",
       "    <tr>\n",
       "      <th id=\"T_c99bb_level0_row0\" class=\"row_heading level0 row0\" >mean</th>\n",
       "      <td id=\"T_c99bb_row0_col0\" class=\"data row0 col0\" >0.327523</td>\n",
       "      <td id=\"T_c99bb_row0_col1\" class=\"data row0 col1\" >0.323978</td>\n",
       "      <td id=\"T_c99bb_row0_col2\" class=\"data row0 col2\" >0.232617</td>\n",
       "      <td id=\"T_c99bb_row0_col3\" class=\"data row0 col3\" >0.448671</td>\n",
       "      <td id=\"T_c99bb_row0_col4\" class=\"data row0 col4\" >0.388568</td>\n",
       "      <td id=\"T_c99bb_row0_col5\" class=\"data row0 col5\" >0.356311</td>\n",
       "      <td id=\"T_c99bb_row0_col6\" class=\"data row0 col6\" >0.220253</td>\n",
       "      <td id=\"T_c99bb_row0_col7\" class=\"data row0 col7\" >0.331528</td>\n",
       "      <td id=\"T_c99bb_row0_col8\" class=\"data row0 col8\" >0.143710</td>\n",
       "      <td id=\"T_c99bb_row0_col9\" class=\"data row0 col9\" >0.132693</td>\n",
       "      <td id=\"T_c99bb_row0_col10\" class=\"data row0 col10\" >0.012802</td>\n",
       "      <td id=\"T_c99bb_row0_col11\" class=\"data row0 col11\" >0.041359</td>\n",
       "      <td id=\"T_c99bb_row0_col12\" class=\"data row0 col12\" >0.174052</td>\n",
       "      <td id=\"T_c99bb_row0_col13\" class=\"data row0 col13\" >0.275111</td>\n",
       "      <td id=\"T_c99bb_row0_col14\" class=\"data row0 col14\" >0.537568</td>\n",
       "      <td id=\"T_c99bb_row0_col15\" class=\"data row0 col15\" >0.465780</td>\n",
       "      <td id=\"T_c99bb_row0_col16\" class=\"data row0 col16\" >0.517971</td>\n",
       "      <td id=\"T_c99bb_row0_col17\" class=\"data row0 col17\" >0.584441</td>\n",
       "      <td id=\"T_c99bb_row0_col18\" class=\"data row0 col18\" >0.025849</td>\n",
       "      <td id=\"T_c99bb_row0_col19\" class=\"data row0 col19\" >0.161497</td>\n",
       "      <td id=\"T_c99bb_row0_col20\" class=\"data row0 col20\" >0.690793</td>\n",
       "      <td id=\"T_c99bb_row0_col21\" class=\"data row0 col21\" >0.567208</td>\n",
       "      <td id=\"T_c99bb_row0_col22\" class=\"data row0 col22\" >1.000000</td>\n",
       "    </tr>\n",
       "    <tr>\n",
       "      <th id=\"T_c99bb_level0_row1\" class=\"row_heading level0 row1\" >std</th>\n",
       "      <td id=\"T_c99bb_row1_col0\" class=\"data row1 col0\" >0.317794</td>\n",
       "      <td id=\"T_c99bb_row1_col1\" class=\"data row1 col1\" >0.258511</td>\n",
       "      <td id=\"T_c99bb_row1_col2\" class=\"data row1 col2\" >0.193866</td>\n",
       "      <td id=\"T_c99bb_row1_col3\" class=\"data row1 col3\" >0.194714</td>\n",
       "      <td id=\"T_c99bb_row1_col4\" class=\"data row1 col4\" >0.242696</td>\n",
       "      <td id=\"T_c99bb_row1_col5\" class=\"data row1 col5\" >0.332972</td>\n",
       "      <td id=\"T_c99bb_row1_col6\" class=\"data row1 col6\" >0.302936</td>\n",
       "      <td id=\"T_c99bb_row1_col7\" class=\"data row1 col7\" >0.444366</td>\n",
       "      <td id=\"T_c99bb_row1_col8\" class=\"data row1 col8\" >0.195443</td>\n",
       "      <td id=\"T_c99bb_row1_col9\" class=\"data row1 col9\" >0.206074</td>\n",
       "      <td id=\"T_c99bb_row1_col10\" class=\"data row1 col10\" >0.085946</td>\n",
       "      <td id=\"T_c99bb_row1_col11\" class=\"data row1 col11\" >0.145558</td>\n",
       "      <td id=\"T_c99bb_row1_col12\" class=\"data row1 col12\" >0.196733</td>\n",
       "      <td id=\"T_c99bb_row1_col13\" class=\"data row1 col13\" >0.217778</td>\n",
       "      <td id=\"T_c99bb_row1_col14\" class=\"data row1 col14\" >0.276240</td>\n",
       "      <td id=\"T_c99bb_row1_col15\" class=\"data row1 col15\" >0.269591</td>\n",
       "      <td id=\"T_c99bb_row1_col16\" class=\"data row1 col16\" >0.499708</td>\n",
       "      <td id=\"T_c99bb_row1_col17\" class=\"data row1 col17\" >0.492848</td>\n",
       "      <td id=\"T_c99bb_row1_col18\" class=\"data row1 col18\" >0.158695</td>\n",
       "      <td id=\"T_c99bb_row1_col19\" class=\"data row1 col19\" >0.368011</td>\n",
       "      <td id=\"T_c99bb_row1_col20\" class=\"data row1 col20\" >0.462195</td>\n",
       "      <td id=\"T_c99bb_row1_col21\" class=\"data row1 col21\" >0.495493</td>\n",
       "      <td id=\"T_c99bb_row1_col22\" class=\"data row1 col22\" >0.000000</td>\n",
       "    </tr>\n",
       "    <tr>\n",
       "      <th id=\"T_c99bb_level0_row2\" class=\"row_heading level0 row2\" >min</th>\n",
       "      <td id=\"T_c99bb_row2_col0\" class=\"data row2 col0\" >0.000000</td>\n",
       "      <td id=\"T_c99bb_row2_col1\" class=\"data row2 col1\" >0.000000</td>\n",
       "      <td id=\"T_c99bb_row2_col2\" class=\"data row2 col2\" >0.000000</td>\n",
       "      <td id=\"T_c99bb_row2_col3\" class=\"data row2 col3\" >0.000000</td>\n",
       "      <td id=\"T_c99bb_row2_col4\" class=\"data row2 col4\" >0.000000</td>\n",
       "      <td id=\"T_c99bb_row2_col5\" class=\"data row2 col5\" >0.000000</td>\n",
       "      <td id=\"T_c99bb_row2_col6\" class=\"data row2 col6\" >0.000000</td>\n",
       "      <td id=\"T_c99bb_row2_col7\" class=\"data row2 col7\" >0.000000</td>\n",
       "      <td id=\"T_c99bb_row2_col8\" class=\"data row2 col8\" >0.000000</td>\n",
       "      <td id=\"T_c99bb_row2_col9\" class=\"data row2 col9\" >0.000000</td>\n",
       "      <td id=\"T_c99bb_row2_col10\" class=\"data row2 col10\" >0.000000</td>\n",
       "      <td id=\"T_c99bb_row2_col11\" class=\"data row2 col11\" >0.000000</td>\n",
       "      <td id=\"T_c99bb_row2_col12\" class=\"data row2 col12\" >0.000000</td>\n",
       "      <td id=\"T_c99bb_row2_col13\" class=\"data row2 col13\" >0.000000</td>\n",
       "      <td id=\"T_c99bb_row2_col14\" class=\"data row2 col14\" >0.000000</td>\n",
       "      <td id=\"T_c99bb_row2_col15\" class=\"data row2 col15\" >0.000000</td>\n",
       "      <td id=\"T_c99bb_row2_col16\" class=\"data row2 col16\" >0.000000</td>\n",
       "      <td id=\"T_c99bb_row2_col17\" class=\"data row2 col17\" >0.000000</td>\n",
       "      <td id=\"T_c99bb_row2_col18\" class=\"data row2 col18\" >0.000000</td>\n",
       "      <td id=\"T_c99bb_row2_col19\" class=\"data row2 col19\" >0.000000</td>\n",
       "      <td id=\"T_c99bb_row2_col20\" class=\"data row2 col20\" >0.000000</td>\n",
       "      <td id=\"T_c99bb_row2_col21\" class=\"data row2 col21\" >0.000000</td>\n",
       "      <td id=\"T_c99bb_row2_col22\" class=\"data row2 col22\" >1.000000</td>\n",
       "    </tr>\n",
       "    <tr>\n",
       "      <th id=\"T_c99bb_level0_row3\" class=\"row_heading level0 row3\" >25%</th>\n",
       "      <td id=\"T_c99bb_row3_col0\" class=\"data row3 col0\" >0.000000</td>\n",
       "      <td id=\"T_c99bb_row3_col1\" class=\"data row3 col1\" >0.000000</td>\n",
       "      <td id=\"T_c99bb_row3_col2\" class=\"data row3 col2\" >0.000000</td>\n",
       "      <td id=\"T_c99bb_row3_col3\" class=\"data row3 col3\" >0.375000</td>\n",
       "      <td id=\"T_c99bb_row3_col4\" class=\"data row3 col4\" >0.181818</td>\n",
       "      <td id=\"T_c99bb_row3_col5\" class=\"data row3 col5\" >0.000000</td>\n",
       "      <td id=\"T_c99bb_row3_col6\" class=\"data row3 col6\" >0.000000</td>\n",
       "      <td id=\"T_c99bb_row3_col7\" class=\"data row3 col7\" >0.000000</td>\n",
       "      <td id=\"T_c99bb_row3_col8\" class=\"data row3 col8\" >0.000000</td>\n",
       "      <td id=\"T_c99bb_row3_col9\" class=\"data row3 col9\" >0.000000</td>\n",
       "      <td id=\"T_c99bb_row3_col10\" class=\"data row3 col10\" >0.000000</td>\n",
       "      <td id=\"T_c99bb_row3_col11\" class=\"data row3 col11\" >0.000000</td>\n",
       "      <td id=\"T_c99bb_row3_col12\" class=\"data row3 col12\" >0.000000</td>\n",
       "      <td id=\"T_c99bb_row3_col13\" class=\"data row3 col13\" >0.125000</td>\n",
       "      <td id=\"T_c99bb_row3_col14\" class=\"data row3 col14\" >0.400000</td>\n",
       "      <td id=\"T_c99bb_row3_col15\" class=\"data row3 col15\" >0.166667</td>\n",
       "      <td id=\"T_c99bb_row3_col16\" class=\"data row3 col16\" >0.000000</td>\n",
       "      <td id=\"T_c99bb_row3_col17\" class=\"data row3 col17\" >0.000000</td>\n",
       "      <td id=\"T_c99bb_row3_col18\" class=\"data row3 col18\" >0.000000</td>\n",
       "      <td id=\"T_c99bb_row3_col19\" class=\"data row3 col19\" >0.000000</td>\n",
       "      <td id=\"T_c99bb_row3_col20\" class=\"data row3 col20\" >0.000000</td>\n",
       "      <td id=\"T_c99bb_row3_col21\" class=\"data row3 col21\" >0.000000</td>\n",
       "      <td id=\"T_c99bb_row3_col22\" class=\"data row3 col22\" >1.000000</td>\n",
       "    </tr>\n",
       "    <tr>\n",
       "      <th id=\"T_c99bb_level0_row4\" class=\"row_heading level0 row4\" >50%</th>\n",
       "      <td id=\"T_c99bb_row4_col0\" class=\"data row4 col0\" >0.200000</td>\n",
       "      <td id=\"T_c99bb_row4_col1\" class=\"data row4 col1\" >0.333333</td>\n",
       "      <td id=\"T_c99bb_row4_col2\" class=\"data row4 col2\" >0.222222</td>\n",
       "      <td id=\"T_c99bb_row4_col3\" class=\"data row4 col3\" >0.375000</td>\n",
       "      <td id=\"T_c99bb_row4_col4\" class=\"data row4 col4\" >0.363636</td>\n",
       "      <td id=\"T_c99bb_row4_col5\" class=\"data row4 col5\" >0.333333</td>\n",
       "      <td id=\"T_c99bb_row4_col6\" class=\"data row4 col6\" >0.000000</td>\n",
       "      <td id=\"T_c99bb_row4_col7\" class=\"data row4 col7\" >0.000000</td>\n",
       "      <td id=\"T_c99bb_row4_col8\" class=\"data row4 col8\" >0.000000</td>\n",
       "      <td id=\"T_c99bb_row4_col9\" class=\"data row4 col9\" >0.000000</td>\n",
       "      <td id=\"T_c99bb_row4_col10\" class=\"data row4 col10\" >0.000000</td>\n",
       "      <td id=\"T_c99bb_row4_col11\" class=\"data row4 col11\" >0.000000</td>\n",
       "      <td id=\"T_c99bb_row4_col12\" class=\"data row4 col12\" >0.250000</td>\n",
       "      <td id=\"T_c99bb_row4_col13\" class=\"data row4 col13\" >0.375000</td>\n",
       "      <td id=\"T_c99bb_row4_col14\" class=\"data row4 col14\" >0.600000</td>\n",
       "      <td id=\"T_c99bb_row4_col15\" class=\"data row4 col15\" >0.500000</td>\n",
       "      <td id=\"T_c99bb_row4_col16\" class=\"data row4 col16\" >1.000000</td>\n",
       "      <td id=\"T_c99bb_row4_col17\" class=\"data row4 col17\" >1.000000</td>\n",
       "      <td id=\"T_c99bb_row4_col18\" class=\"data row4 col18\" >0.000000</td>\n",
       "      <td id=\"T_c99bb_row4_col19\" class=\"data row4 col19\" >0.000000</td>\n",
       "      <td id=\"T_c99bb_row4_col20\" class=\"data row4 col20\" >1.000000</td>\n",
       "      <td id=\"T_c99bb_row4_col21\" class=\"data row4 col21\" >1.000000</td>\n",
       "      <td id=\"T_c99bb_row4_col22\" class=\"data row4 col22\" >1.000000</td>\n",
       "    </tr>\n",
       "    <tr>\n",
       "      <th id=\"T_c99bb_level0_row5\" class=\"row_heading level0 row5\" >75%</th>\n",
       "      <td id=\"T_c99bb_row5_col0\" class=\"data row5 col0\" >0.600000</td>\n",
       "      <td id=\"T_c99bb_row5_col1\" class=\"data row5 col1\" >0.666667</td>\n",
       "      <td id=\"T_c99bb_row5_col2\" class=\"data row5 col2\" >0.333333</td>\n",
       "      <td id=\"T_c99bb_row5_col3\" class=\"data row5 col3\" >0.500000</td>\n",
       "      <td id=\"T_c99bb_row5_col4\" class=\"data row5 col4\" >0.545455</td>\n",
       "      <td id=\"T_c99bb_row5_col5\" class=\"data row5 col5\" >0.666667</td>\n",
       "      <td id=\"T_c99bb_row5_col6\" class=\"data row5 col6\" >0.666667</td>\n",
       "      <td id=\"T_c99bb_row5_col7\" class=\"data row5 col7\" >1.000000</td>\n",
       "      <td id=\"T_c99bb_row5_col8\" class=\"data row5 col8\" >0.250000</td>\n",
       "      <td id=\"T_c99bb_row5_col9\" class=\"data row5 col9\" >0.125000</td>\n",
       "      <td id=\"T_c99bb_row5_col10\" class=\"data row5 col10\" >0.000000</td>\n",
       "      <td id=\"T_c99bb_row5_col11\" class=\"data row5 col11\" >0.000000</td>\n",
       "      <td id=\"T_c99bb_row5_col12\" class=\"data row5 col12\" >0.250000</td>\n",
       "      <td id=\"T_c99bb_row5_col13\" class=\"data row5 col13\" >0.500000</td>\n",
       "      <td id=\"T_c99bb_row5_col14\" class=\"data row5 col14\" >0.800000</td>\n",
       "      <td id=\"T_c99bb_row5_col15\" class=\"data row5 col15\" >0.666667</td>\n",
       "      <td id=\"T_c99bb_row5_col16\" class=\"data row5 col16\" >1.000000</td>\n",
       "      <td id=\"T_c99bb_row5_col17\" class=\"data row5 col17\" >1.000000</td>\n",
       "      <td id=\"T_c99bb_row5_col18\" class=\"data row5 col18\" >0.000000</td>\n",
       "      <td id=\"T_c99bb_row5_col19\" class=\"data row5 col19\" >0.000000</td>\n",
       "      <td id=\"T_c99bb_row5_col20\" class=\"data row5 col20\" >1.000000</td>\n",
       "      <td id=\"T_c99bb_row5_col21\" class=\"data row5 col21\" >1.000000</td>\n",
       "      <td id=\"T_c99bb_row5_col22\" class=\"data row5 col22\" >1.000000</td>\n",
       "    </tr>\n",
       "    <tr>\n",
       "      <th id=\"T_c99bb_level0_row6\" class=\"row_heading level0 row6\" >max</th>\n",
       "      <td id=\"T_c99bb_row6_col0\" class=\"data row6 col0\" >1.000000</td>\n",
       "      <td id=\"T_c99bb_row6_col1\" class=\"data row6 col1\" >1.000000</td>\n",
       "      <td id=\"T_c99bb_row6_col2\" class=\"data row6 col2\" >1.000000</td>\n",
       "      <td id=\"T_c99bb_row6_col3\" class=\"data row6 col3\" >1.000000</td>\n",
       "      <td id=\"T_c99bb_row6_col4\" class=\"data row6 col4\" >1.000000</td>\n",
       "      <td id=\"T_c99bb_row6_col5\" class=\"data row6 col5\" >1.000000</td>\n",
       "      <td id=\"T_c99bb_row6_col6\" class=\"data row6 col6\" >1.000000</td>\n",
       "      <td id=\"T_c99bb_row6_col7\" class=\"data row6 col7\" >1.000000</td>\n",
       "      <td id=\"T_c99bb_row6_col8\" class=\"data row6 col8\" >1.000000</td>\n",
       "      <td id=\"T_c99bb_row6_col9\" class=\"data row6 col9\" >1.000000</td>\n",
       "      <td id=\"T_c99bb_row6_col10\" class=\"data row6 col10\" >1.000000</td>\n",
       "      <td id=\"T_c99bb_row6_col11\" class=\"data row6 col11\" >1.000000</td>\n",
       "      <td id=\"T_c99bb_row6_col12\" class=\"data row6 col12\" >1.000000</td>\n",
       "      <td id=\"T_c99bb_row6_col13\" class=\"data row6 col13\" >1.000000</td>\n",
       "      <td id=\"T_c99bb_row6_col14\" class=\"data row6 col14\" >1.000000</td>\n",
       "      <td id=\"T_c99bb_row6_col15\" class=\"data row6 col15\" >1.000000</td>\n",
       "      <td id=\"T_c99bb_row6_col16\" class=\"data row6 col16\" >1.000000</td>\n",
       "      <td id=\"T_c99bb_row6_col17\" class=\"data row6 col17\" >1.000000</td>\n",
       "      <td id=\"T_c99bb_row6_col18\" class=\"data row6 col18\" >1.000000</td>\n",
       "      <td id=\"T_c99bb_row6_col19\" class=\"data row6 col19\" >1.000000</td>\n",
       "      <td id=\"T_c99bb_row6_col20\" class=\"data row6 col20\" >1.000000</td>\n",
       "      <td id=\"T_c99bb_row6_col21\" class=\"data row6 col21\" >1.000000</td>\n",
       "      <td id=\"T_c99bb_row6_col22\" class=\"data row6 col22\" >1.000000</td>\n",
       "    </tr>\n",
       "  </tbody>\n",
       "</table>\n"
      ],
      "text/plain": [
       "<pandas.io.formats.style.Styler at 0x18dbe87ebe0>"
      ]
     },
     "execution_count": 148,
     "metadata": {},
     "output_type": "execute_result"
    }
   ],
   "source": [
    "datos.describe()[1:].style.background_gradient(cmap='Blues')"
   ]
  },
  {
   "cell_type": "code",
   "execution_count": 149,
   "id": "e94edf0a-6bba-4cd1-ab6c-c742112732cf",
   "metadata": {},
   "outputs": [
    {
     "data": {
      "image/png": "[encoded data removed]",
      "text/plain": [
       "<Figure size 360x4320 with 23 Axes>"
      ]
     },
     "metadata": {
      "needs_background": "light"
     },
     "output_type": "display_data"
    }
   ],
   "source": [
    "fig, axs = plt.subplots(df_n.shape[1], 1, figsize = (5,60))\n",
    "plt.subplots_adjust(hspace = 1)\n",
    "for i, c in enumerate(columnas):\n",
    "  dist_datos = datos[c]\n",
    "  axs[i].set_title(f'Distribución de {c}.')\n",
    "  axs[i].hist(dist_datos)\n",
    "  axs[i].grid(True)"
   ]
  },
  {
   "cell_type": "markdown",
   "id": "2fd844ab-3c7e-4e91-a6ed-1b4098f72060",
   "metadata": {},
   "source": [
    "#### Reducción de dimensionalidad (PCA)"
   ]
  },
  {
   "cell_type": "markdown",
   "id": "892d966b-fa73-490c-8599-0c8720d307d9",
   "metadata": {},
   "source": [
    "Encontrar la matriz de covarianza y sus respectivos eigenvectores y eigenvalores "
   ]
  },
  {
   "cell_type": "code",
   "execution_count": 150,
   "id": "306f488e-bcf2-4d27-b739-f667d3cc1870",
   "metadata": {},
   "outputs": [],
   "source": [
    "def matriz_cov(data):\n",
    "    atributos = data.columns \n",
    "    n = len(atributos)\n",
    "    m = np.zeros((n,n))\n",
    "    for i in range(n):\n",
    "        for j in range(n):\n",
    "            X = data[atributos[i]]\n",
    "            Y = data[atributos[j]]\n",
    "            m[i][j] = (((X-X.mean())*(Y-Y.mean())).sum())/(len(X)-1)\n",
    "    return m"
   ]
  },
  {
   "cell_type": "code",
   "execution_count": 151,
   "id": "d84680f1",
   "metadata": {},
   "outputs": [],
   "source": [
    "def PCA(datos,col_decision):\n",
    "    datos1 = datos.drop([col_decision],axis=1) #Eliminando el atributo de decisión \n",
    "    #Ajustar los datos restando la media a cada atributo\n",
    "    datos_A = pd.DataFrame(columns=datos1.columns,index=range(len(datos1)))\n",
    "    for i in datos_A.columns:\n",
    "        datos_A[i] = datos1[i] - datos1[i].mean()    \n",
    "    #datos_A  \n",
    "    matrix = matriz_cov(datos_A)  \n",
    "    #sns.heatmap(matrix)  \n",
    "    L,V =  np.linalg.eig(matrix)  \n",
    "    #Obtener el porcentaje de covarianza de cada uno de los atributos\n",
    "    total = L.sum()\n",
    "    p = (L/total)*100\n",
    "    pca =[]\n",
    "    names =[]\n",
    "    columnas1 = datos_A.columns.values\n",
    "    for index, row in enumerate(p):\n",
    "        print(columnas1[index] + ':',row)  \n",
    "        names.append(columnas1[index])\n",
    "    return names,p"
   ]
  },
  {
   "cell_type": "code",
   "execution_count": 152,
   "id": "d21dc694",
   "metadata": {},
   "outputs": [
    {
     "name": "stdout",
     "output_type": "stream",
     "text": [
      "cap-shape: 27.376238437091505\n",
      "cap-surface: 19.915756782927645\n",
      "cap-color: 12.98612056651487\n",
      "odor: 9.148472665374074\n",
      "gill-color: 6.35853907407178\n",
      "stalk-root: 4.818068849054503\n",
      "stalk-surface-above-ring: 3.77745078179932\n",
      "stalk-surface-below-ring: 2.468608926504263\n",
      "stalk-color-above-ring: 2.5431873287690463\n",
      "stalk-color-below-ring: 1.9474543983227148\n",
      "veil-color: 1.6910380705049533\n",
      "ring-number: 1.5943597711919097\n",
      "ring-type: 1.1990920781355288\n",
      "spore-print-color: 1.143433062584435\n",
      "population: 0.0737257015413985\n",
      "habitat: 0.20761588404338369\n",
      "bruises: 0.25561267191200393\n",
      "gill-attachment: 0.7980650999304877\n",
      "gill-spacing: 0.4652223016431953\n",
      "gill-size: 0.6653672835064046\n",
      "stalk-shape: 0.5665702645765905\n",
      "veil-type: 0.0\n"
     ]
    }
   ],
   "source": [
    "col_decision = 'class'\n",
    "n,p = PCA(datos,col_decision)"
   ]
  },
  {
   "cell_type": "code",
   "execution_count": 153,
   "id": "ddeddd94",
   "metadata": {},
   "outputs": [
    {
     "data": {
      "image/png": "[encoded data removed]",
      "text/plain": [
       "<Figure size 432x288 with 1 Axes>"
      ]
     },
     "metadata": {
      "needs_background": "light"
     },
     "output_type": "display_data"
    }
   ],
   "source": [
    "index = np.arange(len(p))\n",
    "plt.bar(n, p)\n",
    "plt.title('PCA')\n",
    "plt.xlabel('Num of components')\n",
    "plt.xticks(rotation = 90)\n",
    "plt.ylabel('Proportion')\n",
    "plt.grid(True)"
   ]
  },
  {
   "cell_type": "markdown",
   "id": "012ae5b5-3c0a-4dbc-a8c4-365ec6ff904a",
   "metadata": {},
   "source": [
    "### PCA muesttra que los únicos atributos que aportan mayor información son 9 atributos: \n",
    "\n",
    "    cap-shape: 27.404956537907605\n",
    "    cap-surface: 19.011535558824942\n",
    "    cap-color: 13.901873467462543\n",
    "    odor: 8.85252526224034\n",
    "    gill-color: 6.229992358921653\n",
    "    stalk-root: 4.946905562327567\n",
    "    stalk-surface-above-ring: 3.75568357450165\n",
    "    stalk-surface-below-ring: 2.96106194198489\n",
    "    stalk-color-above-ring: 2.6087452768883486"
   ]
  },
  {
   "cell_type": "code",
   "execution_count": 154,
   "id": "fe1ad6e9-cbd5-4f7c-8f05-ddef944984f7",
   "metadata": {},
   "outputs": [],
   "source": [
    "df_pca = datos.loc[:,['class','cap-shape','cap-surface','cap-color','odor','gill-color','stalk-root','stalk-surface-above-ring','stalk-surface-below-ring','stalk-color-above-ring']]\n",
    "#df_pca = datos[datos.columns[1:10]]"
   ]
  },
  {
   "cell_type": "code",
   "execution_count": 155,
   "id": "b5597014-714f-4517-a643-124856c6d0bd",
   "metadata": {},
   "outputs": [
    {
     "data": {
      "text/html": [
       "<div>\n",
       "<style scoped>\n",
       "    .dataframe tbody tr th:only-of-type {\n",
       "        vertical-align: middle;\n",
       "    }\n",
       "\n",
       "    .dataframe tbody tr th {\n",
       "        vertical-align: top;\n",
       "    }\n",
       "\n",
       "    .dataframe thead th {\n",
       "        text-align: right;\n",
       "    }\n",
       "</style>\n",
       "<table border=\"1\" class=\"dataframe\">\n",
       "  <thead>\n",
       "    <tr style=\"text-align: right;\">\n",
       "      <th></th>\n",
       "      <th>class</th>\n",
       "      <th>cap-shape</th>\n",
       "      <th>cap-surface</th>\n",
       "      <th>cap-color</th>\n",
       "      <th>odor</th>\n",
       "      <th>gill-color</th>\n",
       "      <th>stalk-root</th>\n",
       "      <th>stalk-surface-above-ring</th>\n",
       "      <th>stalk-surface-below-ring</th>\n",
       "      <th>stalk-color-above-ring</th>\n",
       "    </tr>\n",
       "  </thead>\n",
       "  <tbody>\n",
       "    <tr>\n",
       "      <th>0</th>\n",
       "      <td>0</td>\n",
       "      <td>0.0</td>\n",
       "      <td>0.000000</td>\n",
       "      <td>0.000000</td>\n",
       "      <td>0.000</td>\n",
       "      <td>0.000000</td>\n",
       "      <td>0.000000</td>\n",
       "      <td>0.0</td>\n",
       "      <td>0.0</td>\n",
       "      <td>0.00</td>\n",
       "    </tr>\n",
       "    <tr>\n",
       "      <th>1</th>\n",
       "      <td>1</td>\n",
       "      <td>0.0</td>\n",
       "      <td>0.000000</td>\n",
       "      <td>0.111111</td>\n",
       "      <td>0.125</td>\n",
       "      <td>0.000000</td>\n",
       "      <td>0.333333</td>\n",
       "      <td>0.0</td>\n",
       "      <td>0.0</td>\n",
       "      <td>0.00</td>\n",
       "    </tr>\n",
       "    <tr>\n",
       "      <th>2</th>\n",
       "      <td>1</td>\n",
       "      <td>0.2</td>\n",
       "      <td>0.000000</td>\n",
       "      <td>0.222222</td>\n",
       "      <td>0.250</td>\n",
       "      <td>0.090909</td>\n",
       "      <td>0.333333</td>\n",
       "      <td>0.0</td>\n",
       "      <td>0.0</td>\n",
       "      <td>0.00</td>\n",
       "    </tr>\n",
       "    <tr>\n",
       "      <th>3</th>\n",
       "      <td>0</td>\n",
       "      <td>0.0</td>\n",
       "      <td>0.333333</td>\n",
       "      <td>0.222222</td>\n",
       "      <td>0.000</td>\n",
       "      <td>0.090909</td>\n",
       "      <td>0.000000</td>\n",
       "      <td>0.0</td>\n",
       "      <td>0.0</td>\n",
       "      <td>0.00</td>\n",
       "    </tr>\n",
       "    <tr>\n",
       "      <th>4</th>\n",
       "      <td>1</td>\n",
       "      <td>0.0</td>\n",
       "      <td>0.000000</td>\n",
       "      <td>0.333333</td>\n",
       "      <td>0.375</td>\n",
       "      <td>0.000000</td>\n",
       "      <td>0.000000</td>\n",
       "      <td>0.0</td>\n",
       "      <td>0.0</td>\n",
       "      <td>0.00</td>\n",
       "    </tr>\n",
       "    <tr>\n",
       "      <th>...</th>\n",
       "      <td>...</td>\n",
       "      <td>...</td>\n",
       "      <td>...</td>\n",
       "      <td>...</td>\n",
       "      <td>...</td>\n",
       "      <td>...</td>\n",
       "      <td>...</td>\n",
       "      <td>...</td>\n",
       "      <td>...</td>\n",
       "      <td>...</td>\n",
       "    </tr>\n",
       "    <tr>\n",
       "      <th>8119</th>\n",
       "      <td>1</td>\n",
       "      <td>0.8</td>\n",
       "      <td>0.000000</td>\n",
       "      <td>0.000000</td>\n",
       "      <td>0.375</td>\n",
       "      <td>0.909091</td>\n",
       "      <td>0.000000</td>\n",
       "      <td>0.0</td>\n",
       "      <td>0.0</td>\n",
       "      <td>0.75</td>\n",
       "    </tr>\n",
       "    <tr>\n",
       "      <th>8120</th>\n",
       "      <td>1</td>\n",
       "      <td>0.0</td>\n",
       "      <td>0.000000</td>\n",
       "      <td>0.000000</td>\n",
       "      <td>0.375</td>\n",
       "      <td>0.909091</td>\n",
       "      <td>0.000000</td>\n",
       "      <td>0.0</td>\n",
       "      <td>0.0</td>\n",
       "      <td>0.75</td>\n",
       "    </tr>\n",
       "    <tr>\n",
       "      <th>8121</th>\n",
       "      <td>1</td>\n",
       "      <td>0.6</td>\n",
       "      <td>0.000000</td>\n",
       "      <td>0.000000</td>\n",
       "      <td>0.375</td>\n",
       "      <td>0.090909</td>\n",
       "      <td>0.000000</td>\n",
       "      <td>0.0</td>\n",
       "      <td>0.0</td>\n",
       "      <td>0.75</td>\n",
       "    </tr>\n",
       "    <tr>\n",
       "      <th>8122</th>\n",
       "      <td>0</td>\n",
       "      <td>0.8</td>\n",
       "      <td>0.333333</td>\n",
       "      <td>0.000000</td>\n",
       "      <td>0.750</td>\n",
       "      <td>0.727273</td>\n",
       "      <td>0.000000</td>\n",
       "      <td>0.0</td>\n",
       "      <td>1.0</td>\n",
       "      <td>0.00</td>\n",
       "    </tr>\n",
       "    <tr>\n",
       "      <th>8123</th>\n",
       "      <td>1</td>\n",
       "      <td>0.0</td>\n",
       "      <td>0.000000</td>\n",
       "      <td>0.000000</td>\n",
       "      <td>0.375</td>\n",
       "      <td>0.909091</td>\n",
       "      <td>0.000000</td>\n",
       "      <td>0.0</td>\n",
       "      <td>0.0</td>\n",
       "      <td>0.75</td>\n",
       "    </tr>\n",
       "  </tbody>\n",
       "</table>\n",
       "<p>8124 rows × 10 columns</p>\n",
       "</div>"
      ],
      "text/plain": [
       "      class  cap-shape  cap-surface  cap-color   odor  gill-color  stalk-root  \\\n",
       "0         0        0.0     0.000000   0.000000  0.000    0.000000    0.000000   \n",
       "1         1        0.0     0.000000   0.111111  0.125    0.000000    0.333333   \n",
       "2         1        0.2     0.000000   0.222222  0.250    0.090909    0.333333   \n",
       "3         0        0.0     0.333333   0.222222  0.000    0.090909    0.000000   \n",
       "4         1        0.0     0.000000   0.333333  0.375    0.000000    0.000000   \n",
       "...     ...        ...          ...        ...    ...         ...         ...   \n",
       "8119      1        0.8     0.000000   0.000000  0.375    0.909091    0.000000   \n",
       "8120      1        0.0     0.000000   0.000000  0.375    0.909091    0.000000   \n",
       "8121      1        0.6     0.000000   0.000000  0.375    0.090909    0.000000   \n",
       "8122      0        0.8     0.333333   0.000000  0.750    0.727273    0.000000   \n",
       "8123      1        0.0     0.000000   0.000000  0.375    0.909091    0.000000   \n",
       "\n",
       "      stalk-surface-above-ring  stalk-surface-below-ring  \\\n",
       "0                          0.0                       0.0   \n",
       "1                          0.0                       0.0   \n",
       "2                          0.0                       0.0   \n",
       "3                          0.0                       0.0   \n",
       "4                          0.0                       0.0   \n",
       "...                        ...                       ...   \n",
       "8119                       0.0                       0.0   \n",
       "8120                       0.0                       0.0   \n",
       "8121                       0.0                       0.0   \n",
       "8122                       0.0                       1.0   \n",
       "8123                       0.0                       0.0   \n",
       "\n",
       "      stalk-color-above-ring  \n",
       "0                       0.00  \n",
       "1                       0.00  \n",
       "2                       0.00  \n",
       "3                       0.00  \n",
       "4                       0.00  \n",
       "...                      ...  \n",
       "8119                    0.75  \n",
       "8120                    0.75  \n",
       "8121                    0.75  \n",
       "8122                    0.00  \n",
       "8123                    0.75  \n",
       "\n",
       "[8124 rows x 10 columns]"
      ]
     },
     "execution_count": 155,
     "metadata": {},
     "output_type": "execute_result"
    }
   ],
   "source": [
    "df_pca"
   ]
  },
  {
   "cell_type": "markdown",
   "id": "17f08939-7101-43b3-8343-68692dfeabf8",
   "metadata": {},
   "source": [
    "####  División de los conjuntos de entrenamiento y prueba sin PCA"
   ]
  },
  {
   "cell_type": "code",
   "execution_count": 156,
   "id": "a4fa8bf7",
   "metadata": {},
   "outputs": [],
   "source": [
    "def method_8020(x,y):\n",
    "    train_x = x[0 : int(len(x)*0.8)]\n",
    "    train_y = y[0 : int(len(y)*0.8)]\n",
    "    test_x = x[int(len(x)*0.8) : ]\n",
    "    test_y = y[int(len(y)*0.8) : ]\n",
    "    return train_x, train_y, test_x, test_y"
   ]
  },
  {
   "cell_type": "code",
   "execution_count": 157,
   "id": "ca0db72a",
   "metadata": {},
   "outputs": [],
   "source": [
    "x = df_n.drop(['class'],axis=1) #Eliminando el atributo de decisión \n",
    "y = df_n['class']\n",
    "x_train, y_train, x_test, y_test = method_8020(x,y)"
   ]
  },
  {
   "cell_type": "code",
   "execution_count": 158,
   "id": "bcdd5544",
   "metadata": {},
   "outputs": [
    {
     "name": "stdout",
     "output_type": "stream",
     "text": [
      "Total de train X: 6499\n",
      "Total de train Y: 6499\n",
      "Total de test X: 1625\n",
      "Total de test Y: 1625\n"
     ]
    }
   ],
   "source": [
    "print('Total de train X:',len(x_train))\n",
    "print('Total de train Y:',len(y_train))\n",
    "print('Total de test X:',len(x_test))\n",
    "print('Total de test Y:',len(y_test))"
   ]
  },
  {
   "cell_type": "markdown",
   "id": "5b219090",
   "metadata": {},
   "source": [
    "####  División de los conjuntos de entrenamiento y prueba utilizando PCA"
   ]
  },
  {
   "cell_type": "code",
   "execution_count": 159,
   "id": "13929dcd-3b7f-4870-851e-840f8e290ac7",
   "metadata": {},
   "outputs": [],
   "source": [
    "x_ = df_pca.drop(['class'],axis=1) #Eliminando el atributo de decisión \n",
    "y_ = df_pca['class']\n",
    "train_x, train_y, test_x, test_y = method_8020(x_,y_)"
   ]
  },
  {
   "cell_type": "code",
   "execution_count": 160,
   "id": "6af6ec27-366d-4c92-b26b-96be303579d9",
   "metadata": {},
   "outputs": [
    {
     "name": "stdout",
     "output_type": "stream",
     "text": [
      "Total de train X: 6499\n",
      "Total de train Y: 6499\n",
      "Total de test X: 1625\n",
      "Total de test Y: 1625\n"
     ]
    }
   ],
   "source": [
    "print('Total de train X:',len(train_x))\n",
    "print('Total de train Y:',len(train_y))\n",
    "print('Total de test X:',len(test_x))\n",
    "print('Total de test Y:',len(test_y))"
   ]
  },
  {
   "cell_type": "code",
   "execution_count": 161,
   "id": "e66b4295",
   "metadata": {},
   "outputs": [
    {
     "data": {
      "image/png": "[encoded data removed]",
      "text/plain": [
       "<Figure size 360x4320 with 10 Axes>"
      ]
     },
     "metadata": {
      "needs_background": "light"
     },
     "output_type": "display_data"
    }
   ],
   "source": [
    "data_ = df_pca\n",
    "columnas = data_.columns.values\n",
    "fig, axs = plt.subplots(data_.shape[1], 1, figsize = (5,60))\n",
    "plt.subplots_adjust(hspace = 1)\n",
    "for i, c in enumerate(columnas):\n",
    "    dist_datos = data_[c]\n",
    "    axs[i].set_title(f'Distribución de {c}.')\n",
    "    axs[i].hist(dist_datos)\n",
    "    axs[i].grid(True)"
   ]
  },
  {
   "cell_type": "code",
   "execution_count": 162,
   "id": "fe51f6b2",
   "metadata": {},
   "outputs": [
    {
     "data": {
      "image/png": "[encoded data removed]",
      "text/plain": [
       "<Figure size 720x432 with 1 Axes>"
      ]
     },
     "metadata": {
      "needs_background": "light"
     },
     "output_type": "display_data"
    }
   ],
   "source": [
    "ax = df_pca['class'].value_counts().plot(kind ='bar',figsize=(10,6), fontsize = 13, color = '#057E7C')\n",
    "ax.set_title('Class (0 = Poisonous, 1 = Edible)', size=20, pad=10)\n",
    "ax.set_ylabel('Number of class')\n",
    "\n",
    "for i in ax.patches:\n",
    "    ax.text(i.get_x()+0.19, i.get_height()+100, str(round(i.get_height(),2)),fontsize =15)"
   ]
  },
  {
   "cell_type": "code",
   "execution_count": 163,
   "id": "111dc57e",
   "metadata": {},
   "outputs": [
    {
     "data": {
      "image/png": "[encoded data removed]",
      "text/plain": [
       "<Figure size 432x288 with 1 Axes>"
      ]
     },
     "metadata": {
      "needs_background": "light"
     },
     "output_type": "display_data"
    },
    {
     "data": {
      "image/png": "[encoded data removed]",
      "text/plain": [
       "<Figure size 432x288 with 1 Axes>"
      ]
     },
     "metadata": {
      "needs_background": "light"
     },
     "output_type": "display_data"
    },
    {
     "data": {
      "image/png": "[encoded data removed]",
      "text/plain": [
       "<Figure size 432x288 with 1 Axes>"
      ]
     },
     "metadata": {
      "needs_background": "light"
     },
     "output_type": "display_data"
    },
    {
     "data": {
      "image/png": "[encoded data removed]",
      "text/plain": [
       "<Figure size 432x288 with 1 Axes>"
      ]
     },
     "metadata": {
      "needs_background": "light"
     },
     "output_type": "display_data"
    },
    {
     "data": {
      "image/png": "[encoded data removed]",
      "text/plain": [
       "<Figure size 432x288 with 1 Axes>"
      ]
     },
     "metadata": {
      "needs_background": "light"
     },
     "output_type": "display_data"
    },
    {
     "data": {
      "image/png": "[encoded data removed]",
      "text/plain": [
       "<Figure size 432x288 with 1 Axes>"
      ]
     },
     "metadata": {
      "needs_background": "light"
     },
     "output_type": "display_data"
    },
    {
     "data": {
      "image/png": "[encoded data removed]",
      "text/plain": [
       "<Figure size 432x288 with 1 Axes>"
      ]
     },
     "metadata": {
      "needs_background": "light"
     },
     "output_type": "display_data"
    },
    {
     "data": {
      "image/png": "[encoded data removed]",
      "text/plain": [
       "<Figure size 432x288 with 1 Axes>"
      ]
     },
     "metadata": {
      "needs_background": "light"
     },
     "output_type": "display_data"
    },
    {
     "data": {
      "image/png": "[encoded data removed]",
      "text/plain": [
       "<Figure size 432x288 with 1 Axes>"
      ]
     },
     "metadata": {
      "needs_background": "light"
     },
     "output_type": "display_data"
    }
   ],
   "source": [
    "selected_features = df_pca.drop(\"class\", axis=1)\n",
    "selected_features_names = selected_features.columns\n",
    "for column in selected_features.columns:\n",
    "    sns.countplot(x='class', hue=column, data=df)\n",
    "    plt.show()"
   ]
  },
  {
   "cell_type": "markdown",
   "id": "956b9e7d-fbfd-455d-9924-ca99bd54c207",
   "metadata": {},
   "source": [
    "#### Matriz de confusión y métricas de evaluación"
   ]
  },
  {
   "cell_type": "code",
   "execution_count": 164,
   "id": "53c20570-426e-4f63-81f8-0f695def0930",
   "metadata": {},
   "outputs": [],
   "source": [
    "#Función que obtiene las métricas del algoritmo para su validación\n",
    "def metricas(claseP,true_train):\n",
    "    TP = 0\n",
    "    FP = 0\n",
    "    TN = 0\n",
    "    FN = 0\n",
    "    #Determinar los TP,TN,FP y FN para la matriz de confusión del entrenamiento \n",
    "    for i in range(len(claseP)):\n",
    "        if (true_train[i] == claseP[i]) and true_train[i] == 1:\n",
    "            TP += 1\n",
    "        elif (true_train[i] == claseP[i]) and true_train[i] == 0:\n",
    "            TN += 1\n",
    "        elif (true_train[i] != claseP[i]) and true_train[i] == 0:\n",
    "            FP += 1\n",
    "        else:\n",
    "            FN += 1\n",
    "            \n",
    "    accuracy = ((TP+TN)/(TP+TN+FP+FN))\n",
    "   \n",
    "    if TP + FP != 0:\n",
    "        precision = TP/(TP+FP)\n",
    "    else:\n",
    "        precision = 0\n",
    "    if TP + FN != 0:\n",
    "        sensitividad = TP/(TP+FN)\n",
    "    else:\n",
    "        sensitividad = 0\n",
    "    if precision != 0 and sensitividad != 0:\n",
    "        f1 = (2*TP)/(2*TP+FP+FN)\n",
    "    else:\n",
    "        f1 = 0\n",
    "    return [accuracy, precision, sensitividad, f1]"
   ]
  },
  {
   "cell_type": "code",
   "execution_count": 165,
   "id": "4a917e44-1a86-44f9-9ab6-252cfa223ddc",
   "metadata": {},
   "outputs": [],
   "source": [
    "# Calculate the Euclidean distance between two vectors\n",
    "def euclidean_distance(row1, row2):\n",
    "\tdistance = 0.0 \n",
    "\tfor i in range(len(row1)-1):\t\t\t\t\t\t\t\t\t\t#for k in range(23)\n",
    "\t\tdistance += (row1[i] - row2[i])**2\n",
    "\treturn sqrt(distance)"
   ]
  },
  {
   "cell_type": "code",
   "execution_count": 166,
   "id": "39b86468-0d58-4258-a090-f3466a01b0aa",
   "metadata": {},
   "outputs": [],
   "source": [
    "def get_neighbors(k,distances_ord):\n",
    "  neighbors = list()\n",
    "  indices = list()\n",
    "  for i in range(k):\n",
    "    neighbors.append(distances_ord[i][0])\n",
    "    indices.append(distances_ord[i][1])\n",
    "  return neighbors,indices"
   ]
  },
  {
   "cell_type": "code",
   "execution_count": 167,
   "id": "18a9feb3-4c0f-4842-9cf5-2b0f3ea97d2f",
   "metadata": {},
   "outputs": [],
   "source": [
    "def most_common(output_values):\n",
    "    return max(set(output_values), key=output_values.count)"
   ]
  },
  {
   "cell_type": "code",
   "execution_count": 168,
   "id": "f85f98a5-c427-41d0-ab79-72f7a44ce688",
   "metadata": {},
   "outputs": [],
   "source": [
    "#entrenamiento del modelo\n",
    "def predict_classification(x,y, k):\n",
    "    predict = []\n",
    "    for j in tqdm(range(0,len(x))):\n",
    "        # Inicializacion de las distancias.\n",
    "        distances = []\n",
    "        x = np.array(x)\n",
    "        for i ,example in enumerate(x):\n",
    "            distance = euclidean_distance(example,x[j])# Calculate the Euclidean distance between two vectors\n",
    "            distances.append((distance, i))\n",
    "        distances.pop(j)\n",
    "        distances_ord = sorted(distances)\n",
    "        neighbors,indices = get_neighbors(k,distances_ord)\n",
    "        output_values = y.iloc[indices]\n",
    "        output_values = output_values.to_numpy().tolist()\n",
    "        predict.append(most_common(output_values))\n",
    "    return predict"
   ]
  },
  {
   "cell_type": "markdown",
   "id": "728bf843-2bbc-49b6-8c3d-07775f23e3b8",
   "metadata": {},
   "source": [
    "## Clasificación KNN con PCA"
   ]
  },
  {
   "cell_type": "markdown",
   "id": "550be6ec-7d09-45e4-8f6a-6d853b5aaff4",
   "metadata": {},
   "source": [
    "error_rate = []\n",
    "\n",
    "n = int(len(train_x)/20)\n",
    "for k in range(2,10):\n",
    "    pred_i = predict_classification(train_x.values.tolist(),train_y,k) \n",
    "    #print(pred_i)\n",
    "    error_rate.append(np.mean(pred_i != train_y))"
   ]
  },
  {
   "cell_type": "markdown",
   "id": "18179d79-2e7f-432f-b565-97e3c2b972f7",
   "metadata": {},
   "source": [
    "plt.figure(figsize=(10,6))\n",
    "plt.plot(range(2,10),error_rate,color='blue', linestyle='dashed', marker='o',\n",
    "markerfacecolor='red', markersize=10)\n",
    "plt.title('Error Rate vs. K Value')\n",
    "plt.xlabel('K')\n",
    "plt.ylabel('Error Rate')"
   ]
  },
  {
   "cell_type": "markdown",
   "id": "63caeb3a-c32a-4869-880e-265a464a4d83",
   "metadata": {},
   "source": [
    "inicio = time.time()\n",
    "train_pred = predict_classification(train_x.values.tolist(),train_y,5)\n",
    "final = time.time()\n",
    "print('Tiempo de entrenamiento:' + str(final-inicio))"
   ]
  },
  {
   "cell_type": "markdown",
   "id": "de60807e-e983-4e05-904c-b7841aa8f2e5",
   "metadata": {},
   "source": [
    "accuracy, precision, sensitividad, f1 = metricas(train_pred,np.array(train_y))\n",
    "\n",
    "print('Exactitud: ',accuracy)\n",
    "print('Precisión: ',precision)\n",
    "print('Sensitividad: ',sensitividad)\n",
    "print('F1 Score: ',f1)"
   ]
  },
  {
   "cell_type": "markdown",
   "id": "c7baf0d8-03d6-49e7-ac26-d94032737858",
   "metadata": {},
   "source": [
    "y_pred_1= predict_classification(test_x.values.tolist(),test_y,5)"
   ]
  },
  {
   "cell_type": "markdown",
   "id": "dd82144a-dfd1-49bd-97d2-512fc0dc0b0d",
   "metadata": {},
   "source": [
    "accuracy, precision, sensitividad, f1 = metricas(y_pred_1,np.array(test_y))\n",
    "\n",
    "print('Exactitud: ',accuracy)\n",
    "print('Precisión: ',precision)\n",
    "print('Sensitividad: ',sensitividad)\n",
    "print('F1 Score: ',f1)"
   ]
  },
  {
   "cell_type": "markdown",
   "id": "204f2581-1385-4720-bc9f-c1f104706cbf",
   "metadata": {},
   "source": [
    "## Clasificación KNN SIN PCA"
   ]
  },
  {
   "cell_type": "markdown",
   "id": "d8817bf0-b383-48c5-9747-51e38c4c72b8",
   "metadata": {},
   "source": [
    "error_rate = []\n",
    "\n",
    "n = int(len(x_train)/20)\n",
    "for k in range(2,10):\n",
    "    pred_i = predict_classification(x_train.values.tolist(),y_train,k) \n",
    "    #print(pred_i)\n",
    "    error_rate.append(np.mean(pred_i != y_train))"
   ]
  },
  {
   "cell_type": "markdown",
   "id": "ba27b01a-d1b5-418c-9118-273c3b9df5ec",
   "metadata": {},
   "source": [
    "error_rate"
   ]
  },
  {
   "cell_type": "markdown",
   "id": "70fb8aed-1d90-4c57-bb7c-701bebe13f53",
   "metadata": {},
   "source": [
    "plt.figure(figsize=(10,6))\n",
    "plt.plot(range(2,10),error_rate,color='blue', linestyle='dashed', marker='o',\n",
    "markerfacecolor='red', markersize=10)\n",
    "plt.title('Error Rate vs. K Value')\n",
    "plt.xlabel('K')\n",
    "plt.ylabel('Error Rate')"
   ]
  },
  {
   "cell_type": "markdown",
   "id": "945df355-1439-4fde-93a4-44f597c010c1",
   "metadata": {},
   "source": [
    "inicio = time.time()\n",
    "train_pred = predict_classification(x_train.values.tolist(),y_train,5)\n",
    "final = time.time()\n",
    "print('Tiempo de entrenamiento:' + str(final-inicio))"
   ]
  },
  {
   "cell_type": "markdown",
   "id": "ba5b233a-5b7a-408d-867c-4780a424c93d",
   "metadata": {},
   "source": [
    "accuracy, precision, sensitividad, f1 = metricas(train_pred,np.array(y_train))\n",
    "\n",
    "print('Exactitud: ',accuracy)\n",
    "print('Precisión: ',precision)\n",
    "print('Sensitividad: ',sensitividad)\n",
    "print('F1 Score: ',f1)"
   ]
  },
  {
   "cell_type": "markdown",
   "id": "5c25385d-0ca1-4c59-aaec-b89591e04661",
   "metadata": {},
   "source": [
    "y_pred_2= predict_classification(x_test.values.tolist(),y_test,5)"
   ]
  },
  {
   "cell_type": "markdown",
   "id": "8919d879-0ea6-4828-b420-279cae31a191",
   "metadata": {},
   "source": [
    "accuracy, precision, sensitividad, f1 = metricas(y_pred_2,np.array(y_test))\n",
    "\n",
    "print('Exactitud: ',accuracy)\n",
    "print('Precisión: ',precision)\n",
    "print('Sensitividad: ',sensitividad)\n",
    "print('F1 Score: ',f1)"
   ]
  },
  {
   "cell_type": "markdown",
   "id": "4b4c96f4",
   "metadata": {},
   "source": [
    "## Clasificación KNN con PCA + kfold "
   ]
  },
  {
   "cell_type": "markdown",
   "id": "df5e865f-2065-40f6-8ac0-7f07e21fa617",
   "metadata": {},
   "source": [
    "def entrenamiento(x_,y_,n):\n",
    "    error_rate = []\n",
    "    mejor_k = []\n",
    "\n",
    "    for k in tqdm(range(2,n+1)):\n",
    "        pred_i = predict_classification(x_train.values.tolist(),y_train,k) \n",
    "        mejor_k.append(k)\n",
    "        error_rate.append(np.mean(pred_i != y_train))\n",
    "    e = pd.DataFrame(error_rate)\n",
    "    e_min = e.min()[0]\n",
    "    idx_k = error_rate.index(e_min)\n",
    "    best_k_value = mejor_k[idx_k]\n",
    "    print(mejor_k)\n",
    "\n",
    "    plt.figure(figsize=(10,6))\n",
    "    plt.plot(mejor_k,error_rate,color='blue', linestyle='dashed', marker='o',\n",
    "    markerfacecolor='red', markersize=10)\n",
    "    plt.title('Error Rate vs. K Value')\n",
    "    plt.xlabel('K')\n",
    "    plt.ylabel('Error Rate')\n",
    "    return best_k_value, mejor_k"
   ]
  },
  {
   "cell_type": "markdown",
   "id": "5bc23b5f-4a96-4332-b3e9-981c5dd50cb0",
   "metadata": {},
   "source": [
    "def accuracy(ycalculada, yreal):\n",
    "    coincidencias = np.equal(ycalculada, yreal)\n",
    "    totalcoin = np.sum(coincidencias)\n",
    "    porcentaje = (totalcoin/len(ycalculada))*100\n",
    "    return porcentaje"
   ]
  },
  {
   "cell_type": "markdown",
   "id": "8076952a-430e-4182-8e73-a79c823adcab",
   "metadata": {},
   "source": [
    "def kfold(x,y,k,i):\n",
    "    section = int(len(x)/k)\n",
    "    x_test = x.iloc[i * section : (i+1) * section, :]\n",
    "    x_train = x_.drop([i * section,((i+1) * section)-1 , 1],axis=0)\n",
    "\n",
    "    y_test = y.iloc[i * section : (i+1) * section]\n",
    "    y_train = y_.drop([i * section,((i+1) * section)-1 , 1],axis=0)\n",
    "\n",
    "    return x_test, y_test, x_train, y_train"
   ]
  },
  {
   "cell_type": "markdown",
   "id": "f0738aeb",
   "metadata": {},
   "source": [
    "#### Kfold 5"
   ]
  },
  {
   "cell_type": "markdown",
   "id": "d11f8430-d0d5-4020-b00e-eed0961fdeb6",
   "metadata": {},
   "source": [
    "acc_kf_s_test = 0.0\n",
    "acc_kf_test = 0.0\n",
    "pre_kf_s_test = 0.0\n",
    "pre_kf_test = 0.0\n",
    "sens_kf_s_test = 0.0\n",
    "sens_kf_test = 0.0\n",
    "f1_kf_s_test = 0.0\n",
    "f1_kf_test = 0.0\n",
    "i = 0\n",
    "k_ = 5 \n",
    "\n",
    "for i in tqdm(range(k_)):\n",
    "    _x_test, _y_test, _x_train, _y_train = kfold(x_, y_, k_, i)\n",
    "    print('Total de datos en x_train:',len(_x_train))\n",
    "    print('Total de datos en x_test:',len(_x_test))\n",
    "\n",
    "    k_knn, k_list = entrenamiento(_x_train, _y_train,5)\n",
    "    y_pred_test = predict_classification(_x_test, _y_test,k_knn)\n",
    "    print('K en cuestión:',i+1)\n",
    "    print('best_k_value:',k_knn)\n",
    "    \n",
    "    acc_kf_test, pre_kf_test, sens_kf_test, f1_kf_test = metricas(y_pred_test,np.array(_y_test))\n",
    "    acc_kf_s_test += acc_kf_test\n",
    "    pre_kf_s_test += pre_kf_test\n",
    "    sens_kf_s_test += sens_kf_test\n",
    "    f1_kf_s_test += f1_kf_test"
   ]
  },
  {
   "cell_type": "markdown",
   "id": "5d859685-df83-4145-9459-838aeaa086a1",
   "metadata": {},
   "source": [
    "print('Exacitud kfold-cross:', acc_kf_s_test/k_)\n",
    "print('Precisión kfold-cross:', pre_kf_s_test/k_)\n",
    "print('Sensitividad kfold-cross:', sens_kf_s_test/k_)\n",
    "print('F1 Score kfold-cross:', f1_kf_s_test/k_)"
   ]
  },
  {
   "cell_type": "markdown",
   "id": "ae520859",
   "metadata": {},
   "source": [
    "#### Kfold 10"
   ]
  },
  {
   "cell_type": "markdown",
   "id": "0b6ebca2-a4c6-4fa3-8008-aa38578efc91",
   "metadata": {},
   "source": [
    "acc_kf_s_test = 0.0\n",
    "acc_kf_test = 0.0\n",
    "pre_kf_s_test = 0.0\n",
    "pre_kf_test = 0.0\n",
    "sens_kf_s_test = 0.0\n",
    "sens_kf_test = 0.0\n",
    "f1_kf_s_test = 0.0\n",
    "f1_kf_test = 0.0\n",
    "i = 0\n",
    "k_ = 10\n",
    "\n",
    "for i in tqdm(range(k_)):\n",
    "    _x_test, _y_test, _x_train, _y_train = kfold(x_, y_, k_, i)\n",
    "    print('Total de datos en x_train:',len(_x_train))\n",
    "    print('Total de datos en x_test:',len(_x_test))\n",
    "\n",
    "    k_knn, k_list = entrenamiento(_x_train, _y_train,5)\n",
    "    y_pred_test = predict_classification(_x_test,_y_test,k_knn)\n",
    "    print('K en cuestión:',i+1)\n",
    "    print('best_k_value:',k_knn)\n",
    "    acc_kf_test, pre_kf_test, sens_kf_test, f1_kf_test = metricas(y_pred_test,np.array(_y_test))\n",
    "    acc_kf_s_test += acc_kf_test\n",
    "    pre_kf_s_test += pre_kf_test\n",
    "    sens_kf_s_test += sens_kf_test\n",
    "    f1_kf_s_test += f1_kf_test "
   ]
  },
  {
   "cell_type": "markdown",
   "id": "a528ee38-60a5-44b9-ba1e-7c57aa646afd",
   "metadata": {},
   "source": [
    "print('Exacitud kfold-cross:', acc_kf_s_test/k_)\n",
    "print('Precisión kfold-cross:', pre_kf_s_test/k_)\n",
    "print('Sensitividad kfold-cross:', sens_kf_s_test/k_)\n",
    "print('F1 Score kfold-cross:', f1_kf_s_test/k_)"
   ]
  },
  {
   "cell_type": "markdown",
   "id": "18b5ef04-957f-4ca8-8df2-a8a7eb9f7a28",
   "metadata": {},
   "source": [
    "# Regresión Logística"
   ]
  },
  {
   "cell_type": "code",
   "execution_count": 169,
   "id": "6cfc8cf7-f1d7-42ad-815e-a7acc34091d3",
   "metadata": {},
   "outputs": [],
   "source": [
    "def regre_logist(x, y, theta, alpha, epocas,tolerance):\n",
    "    iterations = 1\n",
    "    for i in tqdm(range(epocas)):\n",
    "        Z = np.dot(x,theta)\n",
    "        ft = 1 / (1 + np.exp(-Z))\n",
    "        dJ = (1/len(x)) * np.dot(np.transpose(x),(ft - y))\n",
    "        mse.append(MSE(x, y, theta))\n",
    "        vc.append(cross_entropy(x, y, theta))\n",
    "        new_theta = theta - alpha * dJ\n",
    "        #n_theta = [item for lista in new_theta for item in lista]\n",
    "        it.append(iterations)\n",
    "        # Stopping Condition\n",
    "        if np.sum(abs(new_theta - theta)) < tolerance:\n",
    "            print('Gradient Descent has converged')\n",
    "            break    \n",
    "        iterations += 1\n",
    "        theta = new_theta    \n",
    "    return theta, it,mse,vc"
   ]
  },
  {
   "cell_type": "code",
   "execution_count": 170,
   "id": "b455dcf2-a62e-46af-8b2c-e7d83d28c5d1",
   "metadata": {},
   "outputs": [],
   "source": [
    "def clasificacion(x,theta):\n",
    "    Z = np.dot(x,theta)\n",
    "    ft = 1 / (1 + np.exp(-Z))\n",
    "    clas = np.round(ft)\n",
    "    return clas"
   ]
  },
  {
   "cell_type": "code",
   "execution_count": 171,
   "id": "6f744fc8-9fa2-4949-bf24-9d5af1cc3d92",
   "metadata": {},
   "outputs": [],
   "source": [
    "def accuracy(ycalculada, yreal):\n",
    "    coincidencias = np.equal(ycalculada, yreal)\n",
    "    totalcoin = np.sum(coincidencias)\n",
    "    porcentaje = (totalcoin/len(ycalculada))*100\n",
    "    return porcentaje"
   ]
  },
  {
   "cell_type": "code",
   "execution_count": 172,
   "id": "c2be0c04",
   "metadata": {},
   "outputs": [],
   "source": [
    "def MSE(x, y, theta):\n",
    "    h = np.dot(x,theta)\n",
    "    J = np.sum((h-y)**2)/(2 * (len(h)))\n",
    "    return J"
   ]
  },
  {
   "cell_type": "code",
   "execution_count": 173,
   "id": "1d03b17c-3193-449c-9b42-42aae21a1f07",
   "metadata": {},
   "outputs": [],
   "source": [
    "def cross_entropy(x, y, theta):\n",
    "    z = np.dot(x,theta)\n",
    "    p = 1 / (1 + np.exp(-z))\n",
    "    J = - np.mean(y*np.log(p) + (1-y)*np.log(1-p)) #Cross-entropy cost function\n",
    "    return J"
   ]
  },
  {
   "cell_type": "code",
   "execution_count": 174,
   "id": "0e89f8f9-7b8b-45ac-86ab-bfc8133c0abf",
   "metadata": {},
   "outputs": [
    {
     "data": {
      "text/plain": [
       "(6499, 1)"
      ]
     },
     "execution_count": 174,
     "metadata": {},
     "output_type": "execute_result"
    }
   ],
   "source": [
    "Y_train = np.expand_dims(train_y,axis = 1)\n",
    "Y_train.shape"
   ]
  },
  {
   "cell_type": "code",
   "execution_count": 175,
   "id": "8ef57d75-da2a-4aca-8aac-3d3dede59f71",
   "metadata": {},
   "outputs": [
    {
     "data": {
      "text/plain": [
       "(1625, 1)"
      ]
     },
     "execution_count": 175,
     "metadata": {},
     "output_type": "execute_result"
    }
   ],
   "source": [
    "Y_test = np.expand_dims(test_y,axis = 1)\n",
    "Y_test.shape"
   ]
  },
  {
   "cell_type": "code",
   "execution_count": 176,
   "id": "0d4ec478-8482-492b-8f91-0546ed08aca0",
   "metadata": {},
   "outputs": [],
   "source": [
    "X_train = np.array(train_x)"
   ]
  },
  {
   "cell_type": "code",
   "execution_count": 177,
   "id": "dd40082b-896b-4c79-af67-eaf402538083",
   "metadata": {},
   "outputs": [
    {
     "data": {
      "text/plain": [
       "(6499, 22)"
      ]
     },
     "execution_count": 177,
     "metadata": {},
     "output_type": "execute_result"
    }
   ],
   "source": [
    "x_train.shape"
   ]
  },
  {
   "cell_type": "code",
   "execution_count": 179,
   "id": "373d7f3f-77e8-42b9-bbdb-4096dde6f603",
   "metadata": {},
   "outputs": [
    {
     "name": "stdout",
     "output_type": "stream",
     "text": [
      "[[0.80723667]\n",
      " [0.35802277]\n",
      " [0.23347683]\n",
      " [0.47442407]\n",
      " [0.82921308]\n",
      " [0.08015117]\n",
      " [0.88152417]\n",
      " [0.49597264]\n",
      " [0.52912514]\n",
      " [0.96067985]\n",
      " [0.90340539]\n",
      " [0.57395115]\n",
      " [0.79140646]\n",
      " [0.07647922]\n",
      " [0.46017888]\n",
      " [0.54139949]\n",
      " [0.99999768]\n",
      " [0.10503628]\n",
      " [0.87160059]\n",
      " [0.24512178]\n",
      " [0.99413375]\n",
      " [0.71812324]]\n"
     ]
    },
    {
     "name": "stderr",
     "output_type": "stream",
     "text": [
      "100%|██████████| 100/100 [00:00<00:00, 306.54it/s]\n"
     ]
    }
   ],
   "source": [
    "alpha = 0.03\n",
    "epocas = 100\n",
    "datos1 = datos.drop(['class'],axis=1) #Eliminando el atributo de decisión \n",
    "theta = (np.random.rand(datos1.shape[1],1))\n",
    "#print(theta)\n",
    "it = []\n",
    "mse = []\n",
    "vc =[]\n",
    "tolerance = 1e-3 \n",
    "print(theta)\n",
    "theta_f,it,mse,vc = regre_logist(x_train, Y_train, theta, alpha, epocas,tolerance)"
   ]
  },
  {
   "cell_type": "code",
   "execution_count": 180,
   "id": "34b33316-9525-43df-a124-d76c3ce487fc",
   "metadata": {},
   "outputs": [
    {
     "data": {
      "text/plain": [
       "Text(0, 0.5, 'MSE')"
      ]
     },
     "execution_count": 180,
     "metadata": {},
     "output_type": "execute_result"
    },
    {
     "data": {
      "image/png": "[encoded data removed]",
      "text/plain": [
       "<Figure size 720x432 with 1 Axes>"
      ]
     },
     "metadata": {
      "needs_background": "light"
     },
     "output_type": "display_data"
    }
   ],
   "source": [
    "plt.figure(figsize=(10,6))\n",
    "plt.plot(it,mse,color='blue', linestyle='dashed',\n",
    "markerfacecolor='red', markersize=10)\n",
    "plt.title('MSE vs. Iteraciones')\n",
    "plt.xlabel('Iteraciones')\n",
    "plt.ylabel('MSE')"
   ]
  },
  {
   "cell_type": "code",
   "execution_count": 181,
   "id": "db2dbf51-6116-49f3-9965-3d9271dc5ea8",
   "metadata": {},
   "outputs": [
    {
     "data": {
      "text/plain": [
       "Text(0, 0.5, 'Cross entropy')"
      ]
     },
     "execution_count": 181,
     "metadata": {},
     "output_type": "execute_result"
    },
    {
     "data": {
      "image/png": "[encoded data removed]",
      "text/plain": [
       "<Figure size 720x432 with 1 Axes>"
      ]
     },
     "metadata": {
      "needs_background": "light"
     },
     "output_type": "display_data"
    }
   ],
   "source": [
    "plt.figure(figsize=(10,6))\n",
    "plt.plot(it,vc,color='blue', linestyle='dashed',\n",
    "markerfacecolor='red', markersize=10)\n",
    "plt.title('Cross entropy vs. Iteraciones')\n",
    "plt.xlabel('Iteraciones')\n",
    "plt.ylabel('Cross entropy')"
   ]
  },
  {
   "cell_type": "code",
   "execution_count": null,
   "id": "c304347b-abba-4c55-9965-2b42d243d3ac",
   "metadata": {},
   "outputs": [],
   "source": [
    "yfinal = clasificacion(test_x, theta_f)\n",
    "accuracy_final = accuracy(yfinal, Y_test)\n",
    "print('Exactitud de test:',accuracy_final)\n",
    "loss = MSE(test_x, yfinal, theta_f)\n",
    "print('MSE:',loss)\n",
    "loss = cross_entropy(test_x, yfinal, theta_f)\n",
    "print('Cross entropy:',loss)"
   ]
  },
  {
   "cell_type": "code",
   "execution_count": null,
   "id": "24bd7cba",
   "metadata": {},
   "outputs": [],
   "source": [
    "alpha = 0.3\n",
    "epocas = 100\n",
    "theta = (np.random.rand(datos1.shape[1],1))\n",
    "#print(theta)\n",
    "it = []\n",
    "mse = []\n",
    "vc =[]\n",
    "tolerance = 1e-3 \n",
    "print(theta)\n",
    "start_time = time.time()\n",
    "theta_f,it,mse,vc = regre_logist(X_train, Y_train, theta, alpha, epocas,tolerance)\n",
    "final = time.time()\n",
    "print('Tiempo de entrenamiento:' + str(final-inicio))"
   ]
  },
  {
   "cell_type": "code",
   "execution_count": null,
   "id": "481aa573",
   "metadata": {},
   "outputs": [],
   "source": [
    "plt.figure(figsize=(10,6))\n",
    "plt.plot(it,mse,color='blue', linestyle='dashed',\n",
    "markerfacecolor='red', markersize=10)\n",
    "plt.title('MSE vs. Iteraciones')\n",
    "plt.xlabel('Iteraciones')\n",
    "plt.ylabel('MSE')"
   ]
  },
  {
   "cell_type": "code",
   "execution_count": null,
   "id": "62e9a48f",
   "metadata": {},
   "outputs": [],
   "source": [
    "plt.figure(figsize=(10,6))\n",
    "plt.plot(it,vc,color='blue', linestyle='dashed',\n",
    "markerfacecolor='red', markersize=10)\n",
    "plt.title('Cross entropy vs. Iteraciones')\n",
    "plt.xlabel('Iteraciones')\n",
    "plt.ylabel('Cross entropy')"
   ]
  },
  {
   "cell_type": "code",
   "execution_count": null,
   "id": "0f0468d1",
   "metadata": {},
   "outputs": [],
   "source": [
    "yfinal = clasificacion(test_x, theta_f)\n",
    "accuracy_final = accuracy(yfinal, Y_test)\n",
    "print('Exactitud de test:',accuracy_final)\n",
    "loss = MSE(test_x, yfinal, theta_f)\n",
    "print('MSE:',loss)\n",
    "loss = cross_entropy(test_x, yfinal, theta_f)\n",
    "print('Cross entropy:',loss)"
   ]
  },
  {
   "cell_type": "code",
   "execution_count": null,
   "id": "3a308f52",
   "metadata": {},
   "outputs": [],
   "source": [
    "alpha = 0.06\n",
    "epocas = 100\n",
    "theta = (np.random.rand(datos1.shape[1],1))\n",
    "#print(theta)\n",
    "it = []\n",
    "mse = []\n",
    "vc =[]\n",
    "tolerance = 1e-3 \n",
    "print(theta)\n",
    "start_time = time.time()\n",
    "theta_f,it,mse,vc = regre_logist(X_train, Y_train, theta, alpha, epocas,tolerance)\n",
    "final = time.time()\n",
    "print('Tiempo de entrenamiento:' + str(final-inicio))"
   ]
  },
  {
   "cell_type": "code",
   "execution_count": null,
   "id": "dfe10a6f",
   "metadata": {},
   "outputs": [],
   "source": [
    "plt.figure(figsize=(10,6))\n",
    "plt.plot(it,mse,color='blue', linestyle='dashed',\n",
    "markerfacecolor='red', markersize=10)\n",
    "plt.title('MSE vs. Iteraciones')\n",
    "plt.xlabel('Iteraciones')\n",
    "plt.ylabel('MSE')"
   ]
  },
  {
   "cell_type": "code",
   "execution_count": null,
   "id": "f1c7ea43",
   "metadata": {},
   "outputs": [],
   "source": [
    "plt.figure(figsize=(10,6))\n",
    "plt.plot(it,vc,color='blue', linestyle='dashed',\n",
    "markerfacecolor='red', markersize=10)\n",
    "plt.title('Cross entropy vs. Iteraciones')\n",
    "plt.xlabel('Iteraciones')\n",
    "plt.ylabel('Cross entropy')"
   ]
  },
  {
   "cell_type": "code",
   "execution_count": null,
   "id": "ca2607c6",
   "metadata": {},
   "outputs": [],
   "source": [
    "yfinal = clasificacion(test_x, theta_f)\n",
    "accuracy_final = accuracy(yfinal, Y_test)\n",
    "print('Exactitud de test:',accuracy_final)\n",
    "loss = MSE(test_x, yfinal, theta_f)\n",
    "print('MSE:',loss)\n",
    "loss = cross_entropy(test_x, yfinal, theta_f)\n",
    "print('Cross entropy:',loss)"
   ]
  },
  {
   "cell_type": "code",
   "execution_count": null,
   "id": "c4dc2927",
   "metadata": {},
   "outputs": [],
   "source": [
    "alpha = 0.6\n",
    "epocas = 100\n",
    "theta = (np.random.rand(datos1.shape[1],1))\n",
    "#print(theta)\n",
    "it = []\n",
    "mse = []\n",
    "vc =[]\n",
    "tolerance = 1e-3 \n",
    "print(theta)\n",
    "start_time = time.time()\n",
    "theta_f,it,mse,vc = regre_logist(X_train, Y_train, theta, alpha, epocas,tolerance)\n",
    "final = time.time()\n",
    "print('Tiempo de entrenamiento:' + str(final-inicio))"
   ]
  },
  {
   "cell_type": "code",
   "execution_count": null,
   "id": "248e730d",
   "metadata": {},
   "outputs": [],
   "source": [
    "plt.figure(figsize=(10,6))\n",
    "plt.plot(it,mse,color='blue', linestyle='dashed',\n",
    "markerfacecolor='red', markersize=10)\n",
    "plt.title('MSE vs. Iteraciones')\n",
    "plt.xlabel('Iteraciones')\n",
    "plt.ylabel('MSE')"
   ]
  },
  {
   "cell_type": "code",
   "execution_count": null,
   "id": "33efeb1f",
   "metadata": {},
   "outputs": [],
   "source": [
    "plt.figure(figsize=(10,6))\n",
    "plt.plot(it,vc,color='blue', linestyle='dashed',\n",
    "markerfacecolor='red', markersize=10)\n",
    "plt.title('Cross entropy vs. Iteraciones')\n",
    "plt.xlabel('Iteraciones')\n",
    "plt.ylabel('Cross entropy')"
   ]
  },
  {
   "cell_type": "code",
   "execution_count": null,
   "id": "346c3f04",
   "metadata": {},
   "outputs": [],
   "source": [
    "yfinal = clasificacion(test_x, theta_f)\n",
    "accuracy_final = accuracy(yfinal, Y_test)\n",
    "print('Exactitud de test:',accuracy_final)\n",
    "loss = MSE(test_x, yfinal, theta_f)\n",
    "print('MSE:',loss)\n",
    "loss = cross_entropy(test_x, yfinal, theta_f)\n",
    "print('Cross entropy:',loss)"
   ]
  },
  {
   "cell_type": "markdown",
   "id": "c09082c4",
   "metadata": {},
   "source": [
    "# Árbol de Decisión"
   ]
  },
  {
   "cell_type": "code",
   "execution_count": null,
   "id": "933ff793",
   "metadata": {},
   "outputs": [],
   "source": [
    "from sklearn.model_selection import GridSearchCV\n",
    "from sklearn.tree import DecisionTreeClassifier\n",
    "from sklearn.model_selection import train_test_split\n",
    "from sklearn import tree\n",
    "import matplotlib.pyplot"
   ]
  },
  {
   "cell_type": "code",
   "execution_count": null,
   "id": "498010a7",
   "metadata": {},
   "outputs": [],
   "source": [
    "model = DecisionTreeClassifier()\n",
    "space = dict(\n",
    "    criterion = [\"gini\",\"entropy\"],\n",
    "    max_depth = np.arange(1,11),\n",
    "    max_features = [None, \"auto\", \"sqrt\", \"log2\"]\n",
    ")\n",
    "clf = GridSearchCV(model, space, n_jobs=-1, cv = 5)\n",
    "clf.fit(train_x, train_y)\n",
    "print(\"Best Parameters for Decision Tree Classifier:\\n{}\".format(clf.best_params_))"
   ]
  },
  {
   "cell_type": "code",
   "execution_count": null,
   "id": "06802e04",
   "metadata": {},
   "outputs": [],
   "source": [
    "final_model = DecisionTreeClassifier(criterion='gini',max_depth= 5, max_features= \"sqrt\")\n",
    "inicio = time.time()\n",
    "final_model.fit(train_x, train_y)\n",
    "final = time.time()\n",
    "print('Tiempo de entrenamiento:' + str(final-inicio))\n",
    "print(\"Test Accuracy Score : {:.4f}\".format(final_model.score(test_x,test_y)))"
   ]
  },
  {
   "cell_type": "code",
   "execution_count": null,
   "id": "e9e1e625",
   "metadata": {},
   "outputs": [],
   "source": [
    "pd.DataFrame(list(zip(train_x.columns, final_model.feature_importances_)), columns = ['features', 'importance']).sort_values('importance', ascending = False)"
   ]
  },
  {
   "cell_type": "code",
   "execution_count": null,
   "id": "33d8b522",
   "metadata": {},
   "outputs": [],
   "source": [
    "fig, axes = plt.subplots(figsize = (9,9), dpi=500)\n",
    "tree.plot_tree(final_model, feature_names = train_x.columns, fontsize=7)\n",
    "plt.show()"
   ]
  },
  {
   "cell_type": "code",
   "execution_count": null,
   "id": "060d864b",
   "metadata": {},
   "outputs": [],
   "source": [
    "predtree = final_model.predict(test_x)\n",
    "accuracy, precision, sensitividad, f1 = metricas(predtree,np.array(test_y))\n",
    "\n",
    "print('Exactitud: ',accuracy)\n",
    "print('Precisión: ',precision)\n",
    "print('Sensitividad: ',sensitividad)\n",
    "print('F1 Score: ',f1)"
   ]
  },
  {
   "cell_type": "code",
   "execution_count": null,
   "id": "21c0e62e",
   "metadata": {},
   "outputs": [],
   "source": []
  },
  {
   "cell_type": "code",
   "execution_count": null,
   "id": "34364050-50d3-4b23-86cd-6fc653939eb3",
   "metadata": {},
   "outputs": [],
   "source": [
    "from sklearn.tree import DecisionTreeClassifier\n",
    "from sklearn import tree\n",
    "import matplotlib.pyplot"
   ]
  },
  {
   "cell_type": "code",
   "execution_count": null,
   "id": "8a5449c3-b53d-4b47-b209-a4c64cf1c396",
   "metadata": {},
   "outputs": [],
   "source": [
    "mushroom_tree = DecisionTreeClassifier(criterion='entropy',class_weight='balanced', max_depth=10)"
   ]
  },
  {
   "cell_type": "code",
   "execution_count": null,
   "id": "dc1ef33a-7640-4480-b914-aef51a1d044b",
   "metadata": {},
   "outputs": [],
   "source": [
    "inicio = time.time()\n",
    "fig, axes = plt.subplots(nrows = 1, ncols = 1, figsize = (4,4), dpi = 300)\n",
    "tree.plot_tree(mushroom_tree.fit(train_x,train_y))\n",
    "final = time.time()\n",
    "print('Tiempo de entrenamiento:' + str(final-inicio))"
   ]
  },
  {
   "cell_type": "code",
   "execution_count": null,
   "id": "cc1fe1a9-919d-4bfd-b36d-d7420041ae47",
   "metadata": {},
   "outputs": [],
   "source": [
    "predtree = mushroom_tree.predict(test_x)"
   ]
  },
  {
   "cell_type": "code",
   "execution_count": null,
   "id": "6bdac80a-1d18-422e-8cab-1196e0ad79f4",
   "metadata": {},
   "outputs": [],
   "source": [
    "from sklearn import metrics\n",
    "import matplotlib.pyplot as plt\n",
    "print(\"Precisión de los Arboles de Decisión: \", metrics.accuracy_score(test_y, predtree))"
   ]
  },
  {
   "cell_type": "code",
   "execution_count": null,
   "id": "7dd34f2e",
   "metadata": {},
   "outputs": [],
   "source": [
    "accuracy, precision, sensitividad, f1 = metricas(predtree,np.array(test_y))\n",
    "\n",
    "print('Exactitud: ',accuracy)\n",
    "print('Precisión: ',precision)\n",
    "print('Sensitividad: ',sensitividad)\n",
    "print('F1 Score: ',f1)"
   ]
  },
  {
   "cell_type": "markdown",
   "id": "3ef2eb22-9e1a-40f6-8d96-cbd9d1eec72e",
   "metadata": {},
   "source": [
    "# MLP"
   ]
  },
  {
   "cell_type": "code",
   "execution_count": null,
   "id": "cddd9516-fc40-4494-a6a1-44f1af51991f",
   "metadata": {},
   "outputs": [],
   "source": [
    "from numpy.core.numeric import zeros_like"
   ]
  },
  {
   "cell_type": "code",
   "execution_count": null,
   "id": "7e1f8593-8537-4335-90f1-54a29e2c133a",
   "metadata": {},
   "outputs": [],
   "source": [
    "class capa_neuronal():\n",
    "  def __init__(self, num_entradas, num_neuronas, funcion_activacion):\n",
    "    self.funcion_activacion = funcion_activacion\n",
    "    self.bias = np.random.rand(1, num_neuronas) * 2 - 1\n",
    "    self.w = np.random.rand(num_entradas, num_neuronas) * 2 - 1"
   ]
  },
  {
   "cell_type": "code",
   "execution_count": null,
   "id": "6ee6cae5-70d8-45af-9583-5d7903b7cbc7",
   "metadata": {},
   "outputs": [],
   "source": [
    "def compilar_red(neuronas_por_capa, funcion_activacion):\n",
    "  red_neuronal = []\n",
    "  for n, capa in enumerate(neuronas_por_capa[:-1]):\n",
    "    red_neuronal.append(capa_neuronal(neuronas_por_capa[n], neuronas_por_capa[n + 1], funcion_activacion))\n",
    "  return red_neuronal"
   ]
  },
  {
   "cell_type": "code",
   "execution_count": null,
   "id": "de6d7353-7352-4b2d-bd13-6fba404a9ef9",
   "metadata": {},
   "outputs": [],
   "source": [
    "def entrenar_red(x, y, red_neuronal, sigmoide_derivada, l2_derivada):\n",
    "\n",
    "  salidas = [(None, x)]\n",
    "  for n, capa in enumerate(red_neuronal):\n",
    "    I = np.dot(salidas[-1][1], red_neuronal[n].w) + red_neuronal[n].bias\n",
    "    _y = red_neuronal[n].funcion_activacion(I)\n",
    "    salidas.append((I, _y))\n",
    "\n",
    "  deltas = []\n",
    "  for n in reversed(range(0, len(red_neuronal))):\n",
    "    I = salidas[n + 1][0]\n",
    "    _y = salidas[n + 1][1]\n",
    "    if n == len(red_neuronal) - 1:\n",
    "      deltas.insert(0, l2_derivada(_y, y) * sigmoide_derivada(_y))\n",
    "    else:\n",
    "      deltas.insert(0, np.dot(deltas[0], _w.T) * sigmoide_derivada(_y))\n",
    "      \n",
    "    _w = red_neuronal[n].w\n",
    "\n",
    "    red_neuronal[n].bias = red_neuronal[n].bias - (np.mean(deltas[0],\n",
    "                                                        axis = 0,\n",
    "                                                        keepdims = True) * \n",
    "                                             learning_rate)\n",
    "    red_neuronal[n].w = red_neuronal[n].w - (np.dot(salidas[n][1].T, deltas[0]) *\n",
    "                                             learning_rate) \n",
    "    \n",
    "    return salidas[-1][1]"
   ]
  },
  {
   "cell_type": "code",
   "execution_count": null,
   "id": "afdfef64-b1ea-4028-9b41-3117a4901abf",
   "metadata": {},
   "outputs": [],
   "source": [
    "def precision_mlp(m_entrenamiento, m_esperada):\n",
    "  m1 = np.round(m_entrenamiento)\n",
    "  m1[:,0] = m1[:,0]*1000\n",
    "  m1[:,1] = m1[:,1]*100\n",
    "  #m1[:,2] = m1[:,2]*10\n",
    "  m1 = np.sum(m1, axis=1)\n",
    "  m2 = zeros_like(m_esperada)\n",
    "  np.copyto(m2, m_esperada)\n",
    "  m2[:,0] = m2[:,0]*1000\n",
    "  m2[:,1] = m2[:,1]*100\n",
    "  #m2[:,2] = m2[:,2]*10\n",
    "  m2 = np.sum(m2, axis=1)\n",
    "  errores = []\n",
    "  for v1, v2 in zip(m1,m2):\n",
    "    if v1 == v2: errores.append(0)\n",
    "    else: errores.append(1)\n",
    "  porcentaje = 100 * sum(errores) / len(errores)\n",
    "  return sum(errores), porcentaje"
   ]
  },
  {
   "cell_type": "code",
   "execution_count": null,
   "id": "c19e170c-c44b-4bdd-a1ca-8745087a87d8",
   "metadata": {},
   "outputs": [],
   "source": [
    "def predecir(x, red_neuronal):\n",
    "  salidas = [(None, x)]\n",
    "  for n, capa in enumerate(red_neuronal):\n",
    "    I = np.dot(salidas[-1][1], red_neuronal[n].w) + red_neuronal[n].bias\n",
    "    _y = red_neuronal[n].funcion_activacion(I)\n",
    "    salidas.append((I, _y))\n",
    "  return salidas[-1][1]"
   ]
  },
  {
   "cell_type": "code",
   "execution_count": null,
   "id": "ce4afd32-ea87-4147-aa28-7ed74ef0c71c",
   "metadata": {},
   "outputs": [],
   "source": [
    "from tensorflow.keras.utils import to_categorical"
   ]
  },
  {
   "cell_type": "code",
   "execution_count": null,
   "id": "0be03da4-51be-4f4e-abd7-53a05c758cc0",
   "metadata": {},
   "outputs": [],
   "source": [
    "# Funciones de activación\n",
    "sigmoide = lambda x: 1 / (1 + np.e ** (-x))\n",
    "sigmoide_derivada = lambda x: x * (1 - x)\n",
    "relu = lambda x: x if x > 0 else 0\n",
    "relu_derivada = lambda x: 0 if x <= 0 else x"
   ]
  },
  {
   "cell_type": "code",
   "execution_count": null,
   "id": "ed6f45dc-b78e-4e50-ac68-8a7b660bfe55",
   "metadata": {},
   "outputs": [],
   "source": [
    "# Funciones de coste\n",
    "l2 = lambda y, y1: np.mean((y - y1) ** 2)\n",
    "l2_derivada = lambda y, y1: (y - y1)"
   ]
  },
  {
   "cell_type": "code",
   "execution_count": null,
   "id": "fb1bd25f-5d93-4c56-84fe-0bdc440932d1",
   "metadata": {},
   "outputs": [],
   "source": [
    "learning_rate = 0.1\n",
    "epocas_entrenamiento = 30000\n",
    "neuronas_por_capa = [22,12, 6, 3, 2]"
   ]
  },
  {
   "cell_type": "code",
   "execution_count": null,
   "id": "0b968f23-15c6-4e8b-8bfb-3a25c3dab669",
   "metadata": {},
   "outputs": [],
   "source": [
    "y_mlp_train = to_categorical(y_train)"
   ]
  },
  {
   "cell_type": "code",
   "execution_count": null,
   "id": "8c951863-2546-46cb-b629-01cc98638bcf",
   "metadata": {},
   "outputs": [],
   "source": [
    "y_mlp_test = to_categorical(y_test)"
   ]
  },
  {
   "cell_type": "code",
   "execution_count": null,
   "id": "1c16b440-f1e4-4c8c-a9fb-82a8a4d6bdbe",
   "metadata": {},
   "outputs": [],
   "source": [
    "red_neuronal = compilar_red(neuronas_por_capa, sigmoide)"
   ]
  },
  {
   "cell_type": "code",
   "execution_count": null,
   "id": "d46991ee-9383-4d6c-87f4-e59e7608a631",
   "metadata": {},
   "outputs": [],
   "source": [
    "historial_l2 = []\n",
    "for i in tqdm(range(epocas_entrenamiento)):\n",
    "  y_entrenamiento_1 = entrenar_red(x_train, y_mlp_train, red_neuronal, sigmoide_derivada,\n",
    "                           l2_derivada)\n",
    "  historial_l2.append(l2(y_entrenamiento_1, y_mlp_train))"
   ]
  },
  {
   "cell_type": "code",
   "execution_count": null,
   "id": "4db8df73-0e34-4cf0-9d8e-f1268a40722a",
   "metadata": {},
   "outputs": [],
   "source": [
    "y_entrenamiento_1 = np.round(y_entrenamiento_1)"
   ]
  },
  {
   "cell_type": "code",
   "execution_count": null,
   "id": "7a8dda8a-b0b8-4ca0-b69b-558457b2d8cc",
   "metadata": {},
   "outputs": [],
   "source": [
    "num_errores, por100 = precision_mlp(y_entrenamiento_1, y_mlp_train)\n",
    "print(f'Se obtuvo {100-por100}% de precisión con un total de {num_errores} errores.')"
   ]
  },
  {
   "cell_type": "code",
   "execution_count": null,
   "id": "d1a1515b-2281-4d94-9295-47b6e3a53800",
   "metadata": {},
   "outputs": [],
   "source": [
    "plt.plot(historial_l2)\n",
    "plt.show"
   ]
  },
  {
   "cell_type": "code",
   "execution_count": null,
   "id": "ed7b7d41-eb11-4e6c-9e08-efa604f19c09",
   "metadata": {},
   "outputs": [],
   "source": [
    "y_predict_m = predecir(test_x, red_neuronal)\n",
    "np.round(y_predict_m)"
   ]
  },
  {
   "cell_type": "code",
   "execution_count": null,
   "id": "e7906072-9aa7-4063-b8fe-1d31897b360f",
   "metadata": {},
   "outputs": [],
   "source": [
    "m_errores, por100 = precision_mlp(y_predict_m, y_mlp_test)\n",
    "print(f'Se obtuvo {100-por100}% de precisión con un total de {num_errores} errores.')"
   ]
  },
  {
   "cell_type": "markdown",
   "id": "1a38cfe2",
   "metadata": {},
   "source": [
    "# Kmeans ++"
   ]
  },
  {
   "cell_type": "code",
   "execution_count": null,
   "id": "f3f84550",
   "metadata": {},
   "outputs": [],
   "source": [
    "from itertools import permutations"
   ]
  },
  {
   "cell_type": "code",
   "execution_count": null,
   "id": "52fe1872",
   "metadata": {},
   "outputs": [],
   "source": [
    "class KMeans_plus:\n",
    "    def __init__(self, n_cluster=3):\n",
    "        self.n_cluster = n_cluster\n",
    "        #self.random_state = random_state\n",
    "\n",
    "    def fit(self, dataset):\n",
    "        self.x_data = dataset.iloc[:, 0]\n",
    "        self.y_data = dataset.iloc[:, 1]        \n",
    "        self.X = dataset.iloc[:, [0, 1]]  # not use feature labels\n",
    "        self.m = self.X.shape[0]  # number of training examples\n",
    "        self.n = self.X.shape[1]  # number of features.\n",
    "        self.initial_centroids = []\n",
    "\n",
    "        first_cen = self.get_random_centroid()\n",
    "        initial_centroids = self.select_the_others_centroid(first_cen)\n",
    "\n",
    "        self.plot_initial_centroids(initial_centroids)\n",
    "        c = self.clustering(initial_centroids)\n",
    "        return c\n",
    "\n",
    "\n",
    "    def get_random_centroid(self):\n",
    "        return np.random.randint(len(self.x_data))\n",
    "        \n",
    "    def select_the_others_centroid(self, first_cen):\n",
    "        self.initial_centroids.append((self.x_data[first_cen], self.y_data[first_cen]))\n",
    "        for i in range(self.n_cluster - 1):\n",
    "            dis_max = 0\n",
    "            index_max = 0\n",
    "            for j in range(len(self.x_data)):\n",
    "                if j != first_cen and (self.x_data[j], self.y_data[j]) not in self.initial_centroids:\n",
    "                    dis_temp = 0\n",
    "                    for k in self.initial_centroids:\n",
    "                        pt1 = k\n",
    "                        pt2 = (self.x_data[j], self.y_data[j])\n",
    "                        dis_temp += self.euclidean_distance(pt1, pt2)\n",
    "                    if dis_temp > dis_max:\n",
    "                        dis_max = dis_temp\n",
    "                        index_max = j\n",
    "            self.initial_centroids.append((self.x_data[index_max], self.y_data[index_max]))    \n",
    "        #print(self.initial_centroids)\n",
    "        return np.array(self.initial_centroids)\n",
    "        \n",
    "    def plot_initial_centroids(self, initial_centroids):\n",
    "\n",
    "        plt.scatter(self.X.iloc[:,0], self.X.iloc[:,1], c='#000000', s=7, label='Datos')\n",
    "        plt.scatter(initial_centroids[:, 0], initial_centroids[:, 1], marker='*', s=120, c='r', label='Centroides Iniciales')\n",
    "        plt.title('Algoritmo de K-Means++')\n",
    "        plt.xlabel('Atributo 1')\n",
    "        plt.ylabel('Atributo 2')\n",
    "        plt.legend()\n",
    "        plt.draw()\n",
    "\n",
    " \n",
    "    def clustering(self, centroids):\n",
    "\n",
    "        old_centroids = np.zeros(centroids.shape)\n",
    "        stopping_criteria = 0.0001\n",
    "        self.iterating_count = 0\n",
    "        self.objective_func_values = []\n",
    "\n",
    "        while self.euclidean_distance(old_centroids, centroids) >= stopping_criteria:\n",
    "            clusters = np.zeros(len(self.X))\n",
    "            C = []\n",
    "            # Assigning each value to its closest cluster\n",
    "            for i in range(self.m):\n",
    "                distances = []\n",
    "                for j in range(len(centroids)):\n",
    "                    distances.append(self.euclidean_distance(self.X.iloc[i, :], centroids[j]))\n",
    "                cluster = np.argmin(distances)\n",
    "                clusters[i] = cluster\n",
    "\n",
    "            # Storing the old centroid values to compare centroid moves\n",
    "            old_centroids = centroids.copy()\n",
    "\n",
    "            # Finding the new centroids\n",
    "            for i in range(self.n_cluster):\n",
    "                points = [self.X.iloc[j, :] for j in range(len(self.X)) if clusters[j] == i]\n",
    "                centroids[i] = np.mean(points, axis=0)\n",
    "\n",
    "            # calculate objective function value for current cluster centroids\n",
    "            self.objective_func_values.append([self.iterating_count, self.objective_func_calculate(clusters, centroids)])\n",
    "            self.plot_centroids(centroids, clusters)\n",
    "            self.iterating_count += 1\n",
    "\n",
    "        self.plot_objective_function_values()\n",
    "        return centroids\n",
    "    \n",
    "    def predict(self, centroids,X):\n",
    "        self.D = X.iloc[:, [0, 1]]  # not use feature labels\n",
    "        self.b = self.D.shape[0]  # number of training examples\n",
    "        clusters = np.zeros(len(self.D))\n",
    "        C = []\n",
    "        # Assigning each value to its closest cluster\n",
    "        for i in range(self.b):\n",
    "            distances = []\n",
    "            for j in range(len(centroids)):\n",
    "                distances.append(self.euclidean_distance(self.D.iloc[i, :], centroids[j]))\n",
    "            cluster = np.argmin(distances)\n",
    "            clusters[i] = cluster\n",
    "\n",
    "        # calculate objective function value for current cluster centroids\n",
    "        #C = self.plot_centroids(centroids, clusters)\n",
    "        return clusters   \n",
    "    \n",
    "    def plot_centroids(self, centroids, clusters):\n",
    "        colors = [\"#4C72B0\", \"#DD8452\", \"#55A868\", \"#C44E52\", \"#8172B3\",\n",
    "          \"#937860\", \"#DA8BC3\", \"#8C8C8C\", \"#CCB974\", \"#64B5CD\"]\n",
    "        fig, ax = plt.subplots()\n",
    "        for i in range(self.n_cluster):\n",
    "            points = np.array([self.X.iloc[j, :] for j in range(len(self.X)) if clusters[j] == i])\n",
    "            ax.scatter(points[:, 0], points[:, 1], s=7, c=colors[i], label='Cluster {}'.format(i + 1))\n",
    "        \n",
    "        ax.scatter(centroids[:, 0], centroids[:, 1], marker='*', s=120, c='#000000', label='Centroides')\n",
    "\n",
    "        plt.title('Algoritmo de K-Means++\\n( Número de Iteración = {} , Valor de la función objetivo = {:.2f} )'\n",
    "                  .format((self.iterating_count + 1), np.array(self.objective_func_values)[self.iterating_count, 1]))\n",
    "        plt.xlabel('Atributo 1')\n",
    "        plt.ylabel('Atributo 2')\n",
    "        plt.legend()\n",
    "        plt.draw()\n",
    "        \n",
    "        #print('Clusters',clusters, ' Largo:',len(clusters))\n",
    "        #print('')\n",
    "        return clusters \n",
    "\n",
    "    def euclidean_distance(self, a, b):\n",
    "        return np.sqrt(np.sum((np.array(a) - np.array(b))**2))\n",
    "\n",
    "    def objective_func_calculate(self, clusters, centroids):\n",
    "        \"\"\"Calcular el valor de la función objetivo para los centroides actuales\"\"\"\n",
    "        distances_from_centroids = []\n",
    "        for i in range(self.n_cluster):\n",
    "            points = np.array([self.X.iloc[j, :] for j in range(len(self.X)) if clusters[j] == i])\n",
    "            for k in range(len(points)):\n",
    "                distances_from_centroids.append(self.euclidean_distance(points[k, :], centroids[i]))\n",
    "        return sum(distances_from_centroids)\n",
    "\n",
    "    def plot_objective_function_values(self):\n",
    "        \"\"\"Esta función traza el gráfico del valor de la función objetivo para cada iteración \"\"\"\n",
    "\n",
    "        plt.figure()\n",
    "        plt.plot((np.array(self.objective_func_values)[:, 0] + 1),  np.array(self.objective_func_values)[:, 1], 'bo')\n",
    "        plt.plot((np.array(self.objective_func_values)[:, 0] + 1), np.array(self.objective_func_values)[:, 1], 'k')\n",
    "        plt.title('Función objetivo')\n",
    "        plt.xlabel('Número de Iteración')\n",
    "        plt.ylabel('Valor')\n",
    "        plt.draw()"
   ]
  },
  {
   "cell_type": "code",
   "execution_count": null,
   "id": "ca08b48c",
   "metadata": {},
   "outputs": [],
   "source": [
    "def accuracy(y,predictions):\n",
    "    y = np.array(y)\n",
    "    allPermutations = np.array(list(permutations(np.unique(y))))\n",
    "    acc = []\n",
    "    for perm in allPermutations:\n",
    "        classes = np.arange(0,y.shape[0])\n",
    "        for index in range(classes.shape[0]):\n",
    "            classes[index]=np.where(y[index]== perm)[0][0]\n",
    "        acc.append(np.sum(classes==predictions))\n",
    "    acc = np.array(acc)\n",
    "    bestAccIndex = np.where(max(acc)==acc)[0][0]\n",
    "    return dict(zip(np.arange(0,allPermutations.shape[1]),allPermutations[bestAccIndex])), acc[bestAccIndex]"
   ]
  },
  {
   "cell_type": "code",
   "execution_count": null,
   "id": "0e64992a",
   "metadata": {},
   "outputs": [],
   "source": [
    "train_x_k = train_x.loc[:,['cap-shape','cap-surface']]\n",
    "train_x_k =pd.DataFrame(train_x_k)\n",
    "train_x_k = train_x_k.reset_index()\n",
    "train_x_k = train_x_k.drop(['index'],axis=1) #Eliminando el atributo de decisión \n",
    "train_x_k"
   ]
  },
  {
   "cell_type": "code",
   "execution_count": null,
   "id": "0bffecc6",
   "metadata": {},
   "outputs": [],
   "source": [
    "test_x_k = test_x.loc[:,['cap-shape','cap-surface']]\n",
    "test_x_k =pd.DataFrame(test_x_k)\n",
    "test_x_k = test_x_k.reset_index()\n",
    "test_x_k = test_x_k.drop(['index'],axis=1) #Eliminando el atributo de decisión \n",
    "test_x_k"
   ]
  },
  {
   "cell_type": "code",
   "execution_count": null,
   "id": "2f0382d5",
   "metadata": {},
   "outputs": [],
   "source": [
    "col_dec_train = pd.concat([train_y, train_x_k], axis=1)\n",
    "\n",
    "plt.figure()\n",
    "sns.scatterplot(x='cap-shape', y='cap-surface', data=col_dec_train, hue=col_dec_train['class'], palette=['green','orange'])\n",
    "plt.xlabel('cap-shape')\n",
    "plt.ylabel('cap-surface')\n",
    "plt.show()"
   ]
  },
  {
   "cell_type": "code",
   "execution_count": null,
   "id": "9e8bab4d",
   "metadata": {},
   "outputs": [],
   "source": [
    "start_time = time.time()\n",
    "kmeans2 = KMeans_plus(n_cluster=2)\n",
    "centroids = kmeans2.fit(train_x_k)\n",
    "elapsed_time = time.time() - start_time\n",
    "print(\"Tiempo de Ejecución: %.10f segundos.\" % elapsed_time)"
   ]
  },
  {
   "cell_type": "code",
   "execution_count": null,
   "id": "79324151",
   "metadata": {},
   "outputs": [],
   "source": [
    "L = kmeans2.predict(centroids,test_x_k)\n",
    "print(L)"
   ]
  },
  {
   "cell_type": "code",
   "execution_count": null,
   "id": "61ccb7c7",
   "metadata": {},
   "outputs": [],
   "source": [
    "Lb = pd.DataFrame(L)\n",
    "dataset_kmeans = pd.concat([Lb, test_x_k], axis=1)\n",
    "dataset_kmeans.set_axis(['Labels','cap-shape', 'cap-surface'], \n",
    "                    axis='columns', inplace=True)\n",
    "dataset_kmeans"
   ]
  },
  {
   "cell_type": "code",
   "execution_count": null,
   "id": "71af4867",
   "metadata": {},
   "outputs": [],
   "source": [
    "plt.figure()\n",
    "sns.scatterplot(x='cap-shape', y='cap-surface', data=dataset_kmeans, hue=dataset_kmeans['Labels'], palette=['green','orange'])\n",
    "plt.xlabel('cap-shape')\n",
    "plt.ylabel('cap-surface')\n",
    "plt.show()"
   ]
  },
  {
   "cell_type": "code",
   "execution_count": null,
   "id": "59a797bd",
   "metadata": {},
   "outputs": [],
   "source": [
    "classes_dict, acc = accuracy(test_y,L)\n",
    "print('Orden de los grupos:', classes_dict)\n",
    "print('Aciertos:',acc)\n",
    "print('Porcentaje:',100*acc/test_y.shape[0],'%')"
   ]
  },
  {
   "cell_type": "code",
   "execution_count": null,
   "id": "e6e58d32-bd30-4907-8b5b-a2890f834883",
   "metadata": {},
   "outputs": [],
   "source": []
  }
 ],
 "metadata": {
  "kernelspec": {
   "display_name": "Python 3 (ipykernel)",
   "language": "python",
   "name": "python3"
  },
  "language_info": {
   "codemirror_mode": {
    "name": "ipython",
    "version": 3
   },
   "file_extension": ".py",
   "mimetype": "text/x-python",
   "name": "python",
   "nbconvert_exporter": "python",
   "pygments_lexer": "ipython3",
   "version": "3.9.12"
  }
 },
 "nbformat": 4,
 "nbformat_minor": 5
}
