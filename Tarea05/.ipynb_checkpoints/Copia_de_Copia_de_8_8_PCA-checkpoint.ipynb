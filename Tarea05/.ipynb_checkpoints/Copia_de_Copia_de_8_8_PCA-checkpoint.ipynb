{
  "cells": [
    {
      "cell_type": "markdown",
      "metadata": {
        "id": "swf_gGCDeMcw"
      },
      "source": [
        "## Análisis de componentes principales: PCA"
      ]
    },
    {
      "cell_type": "markdown",
      "source": [
        "### Librerías"
      ],
      "metadata": {
        "id": "yzvIf3bqPDc5"
      }
    },
    {
      "cell_type": "code",
      "source": [
        "from google.colab import drive\n",
        "drive.mount('/content/drive')"
      ],
      "metadata": {
        "id": "787dXjtk0hWT",
        "colab": {
          "base_uri": "https://localhost:8080/"
        },
        "outputId": "3e06f694-87e7-493b-d3dc-7a100300891d"
      },
      "execution_count": null,
      "outputs": [
        {
          "output_type": "stream",
          "name": "stdout",
          "text": [
            "Drive already mounted at /content/drive; to attempt to forcibly remount, call drive.mount(\"/content/drive\", force_remount=True).\n"
          ]
        }
      ]
    },
    {
      "cell_type": "code",
      "execution_count": null,
      "metadata": {
        "id": "5DRPVYcieMcx"
      },
      "outputs": [],
      "source": [
        "import numpy as np\n",
        "import pandas as pd\n",
        "import math\n",
        "import matplotlib.pyplot as plt\n",
        "import time\n",
        "from collections import Counter\n",
        "from math import sqrt\n",
        "import seaborn as sns"
      ]
    },
    {
      "cell_type": "markdown",
      "source": [
        "### Recolectar"
      ],
      "metadata": {
        "id": "ntK9rNR8PLOb"
      }
    },
    {
      "cell_type": "code",
      "source": [
        "df = pd.read_csv('/content/drive/MyDrive/Colab Notebooks/Machine Learning/heart_2020_cleaned.csv')\n",
        "df.head()"
      ],
      "metadata": {
        "colab": {
          "base_uri": "https://localhost:8080/",
          "height": 270
        },
        "id": "vz6Aif8t0qOc",
        "outputId": "7e47a974-ee00-4607-ab3f-ac188178560c"
      },
      "execution_count": null,
      "outputs": [
        {
          "output_type": "execute_result",
          "data": {
            "text/plain": [
              "  HeartDisease    BMI Smoking AlcoholDrinking Stroke  PhysicalHealth  \\\n",
              "0           No  16.60     Yes              No     No             3.0   \n",
              "1           No  20.34      No              No    Yes             0.0   \n",
              "2           No  26.58     Yes              No     No            20.0   \n",
              "3           No  24.21      No              No     No             0.0   \n",
              "4           No  23.71      No              No     No            28.0   \n",
              "\n",
              "   MentalHealth DiffWalking     Sex  AgeCategory   Race Diabetic  \\\n",
              "0          30.0          No  Female        55-59  White      Yes   \n",
              "1           0.0          No  Female  80 or older  White       No   \n",
              "2          30.0          No    Male        65-69  White      Yes   \n",
              "3           0.0          No  Female        75-79  White       No   \n",
              "4           0.0         Yes  Female        40-44  White       No   \n",
              "\n",
              "  PhysicalActivity  GenHealth  SleepTime Asthma KidneyDisease SkinCancer  \n",
              "0              Yes  Very good        5.0    Yes            No        Yes  \n",
              "1              Yes  Very good        7.0     No            No         No  \n",
              "2              Yes       Fair        8.0    Yes            No         No  \n",
              "3               No       Good        6.0     No            No        Yes  \n",
              "4              Yes  Very good        8.0     No            No         No  "
            ],
            "text/html": [
              "\n",
              "  <div id=\"df-f9c5eb1f-3ecb-471b-b263-f8f49583c133\">\n",
              "    <div class=\"colab-df-container\">\n",
              "      <div>\n",
              "<style scoped>\n",
              "    .dataframe tbody tr th:only-of-type {\n",
              "        vertical-align: middle;\n",
              "    }\n",
              "\n",
              "    .dataframe tbody tr th {\n",
              "        vertical-align: top;\n",
              "    }\n",
              "\n",
              "    .dataframe thead th {\n",
              "        text-align: right;\n",
              "    }\n",
              "</style>\n",
              "<table border=\"1\" class=\"dataframe\">\n",
              "  <thead>\n",
              "    <tr style=\"text-align: right;\">\n",
              "      <th></th>\n",
              "      <th>HeartDisease</th>\n",
              "      <th>BMI</th>\n",
              "      <th>Smoking</th>\n",
              "      <th>AlcoholDrinking</th>\n",
              "      <th>Stroke</th>\n",
              "      <th>PhysicalHealth</th>\n",
              "      <th>MentalHealth</th>\n",
              "      <th>DiffWalking</th>\n",
              "      <th>Sex</th>\n",
              "      <th>AgeCategory</th>\n",
              "      <th>Race</th>\n",
              "      <th>Diabetic</th>\n",
              "      <th>PhysicalActivity</th>\n",
              "      <th>GenHealth</th>\n",
              "      <th>SleepTime</th>\n",
              "      <th>Asthma</th>\n",
              "      <th>KidneyDisease</th>\n",
              "      <th>SkinCancer</th>\n",
              "    </tr>\n",
              "  </thead>\n",
              "  <tbody>\n",
              "    <tr>\n",
              "      <th>0</th>\n",
              "      <td>No</td>\n",
              "      <td>16.60</td>\n",
              "      <td>Yes</td>\n",
              "      <td>No</td>\n",
              "      <td>No</td>\n",
              "      <td>3.0</td>\n",
              "      <td>30.0</td>\n",
              "      <td>No</td>\n",
              "      <td>Female</td>\n",
              "      <td>55-59</td>\n",
              "      <td>White</td>\n",
              "      <td>Yes</td>\n",
              "      <td>Yes</td>\n",
              "      <td>Very good</td>\n",
              "      <td>5.0</td>\n",
              "      <td>Yes</td>\n",
              "      <td>No</td>\n",
              "      <td>Yes</td>\n",
              "    </tr>\n",
              "    <tr>\n",
              "      <th>1</th>\n",
              "      <td>No</td>\n",
              "      <td>20.34</td>\n",
              "      <td>No</td>\n",
              "      <td>No</td>\n",
              "      <td>Yes</td>\n",
              "      <td>0.0</td>\n",
              "      <td>0.0</td>\n",
              "      <td>No</td>\n",
              "      <td>Female</td>\n",
              "      <td>80 or older</td>\n",
              "      <td>White</td>\n",
              "      <td>No</td>\n",
              "      <td>Yes</td>\n",
              "      <td>Very good</td>\n",
              "      <td>7.0</td>\n",
              "      <td>No</td>\n",
              "      <td>No</td>\n",
              "      <td>No</td>\n",
              "    </tr>\n",
              "    <tr>\n",
              "      <th>2</th>\n",
              "      <td>No</td>\n",
              "      <td>26.58</td>\n",
              "      <td>Yes</td>\n",
              "      <td>No</td>\n",
              "      <td>No</td>\n",
              "      <td>20.0</td>\n",
              "      <td>30.0</td>\n",
              "      <td>No</td>\n",
              "      <td>Male</td>\n",
              "      <td>65-69</td>\n",
              "      <td>White</td>\n",
              "      <td>Yes</td>\n",
              "      <td>Yes</td>\n",
              "      <td>Fair</td>\n",
              "      <td>8.0</td>\n",
              "      <td>Yes</td>\n",
              "      <td>No</td>\n",
              "      <td>No</td>\n",
              "    </tr>\n",
              "    <tr>\n",
              "      <th>3</th>\n",
              "      <td>No</td>\n",
              "      <td>24.21</td>\n",
              "      <td>No</td>\n",
              "      <td>No</td>\n",
              "      <td>No</td>\n",
              "      <td>0.0</td>\n",
              "      <td>0.0</td>\n",
              "      <td>No</td>\n",
              "      <td>Female</td>\n",
              "      <td>75-79</td>\n",
              "      <td>White</td>\n",
              "      <td>No</td>\n",
              "      <td>No</td>\n",
              "      <td>Good</td>\n",
              "      <td>6.0</td>\n",
              "      <td>No</td>\n",
              "      <td>No</td>\n",
              "      <td>Yes</td>\n",
              "    </tr>\n",
              "    <tr>\n",
              "      <th>4</th>\n",
              "      <td>No</td>\n",
              "      <td>23.71</td>\n",
              "      <td>No</td>\n",
              "      <td>No</td>\n",
              "      <td>No</td>\n",
              "      <td>28.0</td>\n",
              "      <td>0.0</td>\n",
              "      <td>Yes</td>\n",
              "      <td>Female</td>\n",
              "      <td>40-44</td>\n",
              "      <td>White</td>\n",
              "      <td>No</td>\n",
              "      <td>Yes</td>\n",
              "      <td>Very good</td>\n",
              "      <td>8.0</td>\n",
              "      <td>No</td>\n",
              "      <td>No</td>\n",
              "      <td>No</td>\n",
              "    </tr>\n",
              "  </tbody>\n",
              "</table>\n",
              "</div>\n",
              "      <button class=\"colab-df-convert\" onclick=\"convertToInteractive('df-f9c5eb1f-3ecb-471b-b263-f8f49583c133')\"\n",
              "              title=\"Convert this dataframe to an interactive table.\"\n",
              "              style=\"display:none;\">\n",
              "        \n",
              "  <svg xmlns=\"http://www.w3.org/2000/svg\" height=\"24px\"viewBox=\"0 0 24 24\"\n",
              "       width=\"24px\">\n",
              "    <path d=\"M0 0h24v24H0V0z\" fill=\"none\"/>\n",
              "    <path d=\"M18.56 5.44l.94 2.06.94-2.06 2.06-.94-2.06-.94-.94-2.06-.94 2.06-2.06.94zm-11 1L8.5 8.5l.94-2.06 2.06-.94-2.06-.94L8.5 2.5l-.94 2.06-2.06.94zm10 10l.94 2.06.94-2.06 2.06-.94-2.06-.94-.94-2.06-.94 2.06-2.06.94z\"/><path d=\"M17.41 7.96l-1.37-1.37c-.4-.4-.92-.59-1.43-.59-.52 0-1.04.2-1.43.59L10.3 9.45l-7.72 7.72c-.78.78-.78 2.05 0 2.83L4 21.41c.39.39.9.59 1.41.59.51 0 1.02-.2 1.41-.59l7.78-7.78 2.81-2.81c.8-.78.8-2.07 0-2.86zM5.41 20L4 18.59l7.72-7.72 1.47 1.35L5.41 20z\"/>\n",
              "  </svg>\n",
              "      </button>\n",
              "      \n",
              "  <style>\n",
              "    .colab-df-container {\n",
              "      display:flex;\n",
              "      flex-wrap:wrap;\n",
              "      gap: 12px;\n",
              "    }\n",
              "\n",
              "    .colab-df-convert {\n",
              "      background-color: #E8F0FE;\n",
              "      border: none;\n",
              "      border-radius: 50%;\n",
              "      cursor: pointer;\n",
              "      display: none;\n",
              "      fill: #1967D2;\n",
              "      height: 32px;\n",
              "      padding: 0 0 0 0;\n",
              "      width: 32px;\n",
              "    }\n",
              "\n",
              "    .colab-df-convert:hover {\n",
              "      background-color: #E2EBFA;\n",
              "      box-shadow: 0px 1px 2px rgba(60, 64, 67, 0.3), 0px 1px 3px 1px rgba(60, 64, 67, 0.15);\n",
              "      fill: #174EA6;\n",
              "    }\n",
              "\n",
              "    [theme=dark] .colab-df-convert {\n",
              "      background-color: #3B4455;\n",
              "      fill: #D2E3FC;\n",
              "    }\n",
              "\n",
              "    [theme=dark] .colab-df-convert:hover {\n",
              "      background-color: #434B5C;\n",
              "      box-shadow: 0px 1px 3px 1px rgba(0, 0, 0, 0.15);\n",
              "      filter: drop-shadow(0px 1px 2px rgba(0, 0, 0, 0.3));\n",
              "      fill: #FFFFFF;\n",
              "    }\n",
              "  </style>\n",
              "\n",
              "      <script>\n",
              "        const buttonEl =\n",
              "          document.querySelector('#df-f9c5eb1f-3ecb-471b-b263-f8f49583c133 button.colab-df-convert');\n",
              "        buttonEl.style.display =\n",
              "          google.colab.kernel.accessAllowed ? 'block' : 'none';\n",
              "\n",
              "        async function convertToInteractive(key) {\n",
              "          const element = document.querySelector('#df-f9c5eb1f-3ecb-471b-b263-f8f49583c133');\n",
              "          const dataTable =\n",
              "            await google.colab.kernel.invokeFunction('convertToInteractive',\n",
              "                                                     [key], {});\n",
              "          if (!dataTable) return;\n",
              "\n",
              "          const docLinkHtml = 'Like what you see? Visit the ' +\n",
              "            '<a target=\"_blank\" href=https://colab.research.google.com/notebooks/data_table.ipynb>data table notebook</a>'\n",
              "            + ' to learn more about interactive tables.';\n",
              "          element.innerHTML = '';\n",
              "          dataTable['output_type'] = 'display_data';\n",
              "          await google.colab.output.renderOutput(dataTable, element);\n",
              "          const docLink = document.createElement('div');\n",
              "          docLink.innerHTML = docLinkHtml;\n",
              "          element.appendChild(docLink);\n",
              "        }\n",
              "      </script>\n",
              "    </div>\n",
              "  </div>\n",
              "  "
            ]
          },
          "metadata": {},
          "execution_count": 3
        }
      ]
    },
    {
      "cell_type": "markdown",
      "source": [
        "### Preparar"
      ],
      "metadata": {
        "id": "tXI0z2vH_tXF"
      }
    },
    {
      "cell_type": "markdown",
      "source": [
        "Observaciones"
      ],
      "metadata": {
        "id": "tAZhmCcpvz5j"
      }
    },
    {
      "cell_type": "code",
      "source": [
        "df['Diabetic'].unique()"
      ],
      "metadata": {
        "colab": {
          "base_uri": "https://localhost:8080/"
        },
        "id": "il7qqZiVD2Xy",
        "outputId": "81fcab2e-3195-4bcc-9ba9-bf5b8f7e1bb8"
      },
      "execution_count": null,
      "outputs": [
        {
          "output_type": "execute_result",
          "data": {
            "text/plain": [
              "array(['Yes', 'No', 'No, borderline diabetes', 'Yes (during pregnancy)'],\n",
              "      dtype=object)"
            ]
          },
          "metadata": {},
          "execution_count": 4
        }
      ]
    },
    {
      "cell_type": "code",
      "source": [
        "df['AgeCategory'].unique()"
      ],
      "metadata": {
        "colab": {
          "base_uri": "https://localhost:8080/"
        },
        "id": "xYVd1aRdD4kf",
        "outputId": "d75e7513-d59f-48bd-c51e-96ba4eeac90e"
      },
      "execution_count": null,
      "outputs": [
        {
          "output_type": "execute_result",
          "data": {
            "text/plain": [
              "array(['55-59', '80 or older', '65-69', '75-79', '40-44', '70-74',\n",
              "       '60-64', '50-54', '45-49', '18-24', '35-39', '30-34', '25-29'],\n",
              "      dtype=object)"
            ]
          },
          "metadata": {},
          "execution_count": 5
        }
      ]
    },
    {
      "cell_type": "markdown",
      "metadata": {
        "id": "EZvkYi-9eMcy"
      },
      "source": [
        "Convertir las caracteristicas linguisticas a valores categoricos"
      ]
    },
    {
      "cell_type": "code",
      "execution_count": null,
      "metadata": {
        "id": "YqFdcmWWeMcz"
      },
      "outputs": [],
      "source": [
        "datos = df.copy()\n",
        "datos =  datos[datos.columns].replace({'Male':0, 'Female':1})\n",
        "datos =  datos[datos.columns].replace({'Yes':1, 'No':0, 'No, borderline diabetes':2,'Yes (during pregnancy)':3 })\n",
        "datos =  datos[datos.columns].replace({'American Indian/Alaskan Native':1, 'Asian':2, 'Black':3,'Hispanic':4, 'Other':5, 'White':6 })\n",
        "encode_AgeCategory = {'55-59':57, '80 or older':80, '65-69':67,\n",
        "                      '75-79':77,'40-44':42,'70-74':72,'60-64':62,\n",
        "                      '50-54':52,'45-49':47,'18-24':21,'35-39':37,\n",
        "                      '30-34':32,'25-29':27}\n",
        "datos['AgeCategory'] = datos['AgeCategory'].apply(lambda x: encode_AgeCategory[x])\n",
        "datos['AgeCategory'] = datos['AgeCategory'].astype('float')\n",
        "datos =  datos[datos.columns].replace({'Excellent':4, 'Fair':1, 'Good':2,'Poor':0, 'Very good':3})"
      ]
    },
    {
      "cell_type": "code",
      "source": [
        "datos"
      ],
      "metadata": {
        "colab": {
          "base_uri": "https://localhost:8080/",
          "height": 488
        },
        "id": "Tx9igElgIWzJ",
        "outputId": "29aed979-ea86-4249-904a-710fbf88db43"
      },
      "execution_count": null,
      "outputs": [
        {
          "output_type": "execute_result",
          "data": {
            "text/plain": [
              "        HeartDisease    BMI  Smoking  AlcoholDrinking  Stroke  PhysicalHealth  \\\n",
              "0                  0  16.60        1                0       0             3.0   \n",
              "1                  0  20.34        0                0       1             0.0   \n",
              "2                  0  26.58        1                0       0            20.0   \n",
              "3                  0  24.21        0                0       0             0.0   \n",
              "4                  0  23.71        0                0       0            28.0   \n",
              "...              ...    ...      ...              ...     ...             ...   \n",
              "319790             1  27.41        1                0       0             7.0   \n",
              "319791             0  29.84        1                0       0             0.0   \n",
              "319792             0  24.24        0                0       0             0.0   \n",
              "319793             0  32.81        0                0       0             0.0   \n",
              "319794             0  46.56        0                0       0             0.0   \n",
              "\n",
              "        MentalHealth  DiffWalking  Sex  AgeCategory  Race  Diabetic  \\\n",
              "0               30.0            0    1         57.0     6         1   \n",
              "1                0.0            0    1         80.0     6         0   \n",
              "2               30.0            0    0         67.0     6         1   \n",
              "3                0.0            0    1         77.0     6         0   \n",
              "4                0.0            1    1         42.0     6         0   \n",
              "...              ...          ...  ...          ...   ...       ...   \n",
              "319790           0.0            1    0         62.0     4         1   \n",
              "319791           0.0            0    0         37.0     4         0   \n",
              "319792           0.0            0    1         47.0     4         0   \n",
              "319793           0.0            0    1         27.0     4         0   \n",
              "319794           0.0            0    1         80.0     4         0   \n",
              "\n",
              "        PhysicalActivity  GenHealth  SleepTime  Asthma  KidneyDisease  \\\n",
              "0                      1          3        5.0       1              0   \n",
              "1                      1          3        7.0       0              0   \n",
              "2                      1          1        8.0       1              0   \n",
              "3                      0          2        6.0       0              0   \n",
              "4                      1          3        8.0       0              0   \n",
              "...                  ...        ...        ...     ...            ...   \n",
              "319790                 0          1        6.0       1              0   \n",
              "319791                 1          3        5.0       1              0   \n",
              "319792                 1          2        6.0       0              0   \n",
              "319793                 0          2       12.0       0              0   \n",
              "319794                 1          2        8.0       0              0   \n",
              "\n",
              "        SkinCancer  \n",
              "0                1  \n",
              "1                0  \n",
              "2                0  \n",
              "3                1  \n",
              "4                0  \n",
              "...            ...  \n",
              "319790           0  \n",
              "319791           0  \n",
              "319792           0  \n",
              "319793           0  \n",
              "319794           0  \n",
              "\n",
              "[319795 rows x 18 columns]"
            ],
            "text/html": [
              "\n",
              "  <div id=\"df-1339ea0f-4ced-4e63-8d0c-2df372d59265\">\n",
              "    <div class=\"colab-df-container\">\n",
              "      <div>\n",
              "<style scoped>\n",
              "    .dataframe tbody tr th:only-of-type {\n",
              "        vertical-align: middle;\n",
              "    }\n",
              "\n",
              "    .dataframe tbody tr th {\n",
              "        vertical-align: top;\n",
              "    }\n",
              "\n",
              "    .dataframe thead th {\n",
              "        text-align: right;\n",
              "    }\n",
              "</style>\n",
              "<table border=\"1\" class=\"dataframe\">\n",
              "  <thead>\n",
              "    <tr style=\"text-align: right;\">\n",
              "      <th></th>\n",
              "      <th>HeartDisease</th>\n",
              "      <th>BMI</th>\n",
              "      <th>Smoking</th>\n",
              "      <th>AlcoholDrinking</th>\n",
              "      <th>Stroke</th>\n",
              "      <th>PhysicalHealth</th>\n",
              "      <th>MentalHealth</th>\n",
              "      <th>DiffWalking</th>\n",
              "      <th>Sex</th>\n",
              "      <th>AgeCategory</th>\n",
              "      <th>Race</th>\n",
              "      <th>Diabetic</th>\n",
              "      <th>PhysicalActivity</th>\n",
              "      <th>GenHealth</th>\n",
              "      <th>SleepTime</th>\n",
              "      <th>Asthma</th>\n",
              "      <th>KidneyDisease</th>\n",
              "      <th>SkinCancer</th>\n",
              "    </tr>\n",
              "  </thead>\n",
              "  <tbody>\n",
              "    <tr>\n",
              "      <th>0</th>\n",
              "      <td>0</td>\n",
              "      <td>16.60</td>\n",
              "      <td>1</td>\n",
              "      <td>0</td>\n",
              "      <td>0</td>\n",
              "      <td>3.0</td>\n",
              "      <td>30.0</td>\n",
              "      <td>0</td>\n",
              "      <td>1</td>\n",
              "      <td>57.0</td>\n",
              "      <td>6</td>\n",
              "      <td>1</td>\n",
              "      <td>1</td>\n",
              "      <td>3</td>\n",
              "      <td>5.0</td>\n",
              "      <td>1</td>\n",
              "      <td>0</td>\n",
              "      <td>1</td>\n",
              "    </tr>\n",
              "    <tr>\n",
              "      <th>1</th>\n",
              "      <td>0</td>\n",
              "      <td>20.34</td>\n",
              "      <td>0</td>\n",
              "      <td>0</td>\n",
              "      <td>1</td>\n",
              "      <td>0.0</td>\n",
              "      <td>0.0</td>\n",
              "      <td>0</td>\n",
              "      <td>1</td>\n",
              "      <td>80.0</td>\n",
              "      <td>6</td>\n",
              "      <td>0</td>\n",
              "      <td>1</td>\n",
              "      <td>3</td>\n",
              "      <td>7.0</td>\n",
              "      <td>0</td>\n",
              "      <td>0</td>\n",
              "      <td>0</td>\n",
              "    </tr>\n",
              "    <tr>\n",
              "      <th>2</th>\n",
              "      <td>0</td>\n",
              "      <td>26.58</td>\n",
              "      <td>1</td>\n",
              "      <td>0</td>\n",
              "      <td>0</td>\n",
              "      <td>20.0</td>\n",
              "      <td>30.0</td>\n",
              "      <td>0</td>\n",
              "      <td>0</td>\n",
              "      <td>67.0</td>\n",
              "      <td>6</td>\n",
              "      <td>1</td>\n",
              "      <td>1</td>\n",
              "      <td>1</td>\n",
              "      <td>8.0</td>\n",
              "      <td>1</td>\n",
              "      <td>0</td>\n",
              "      <td>0</td>\n",
              "    </tr>\n",
              "    <tr>\n",
              "      <th>3</th>\n",
              "      <td>0</td>\n",
              "      <td>24.21</td>\n",
              "      <td>0</td>\n",
              "      <td>0</td>\n",
              "      <td>0</td>\n",
              "      <td>0.0</td>\n",
              "      <td>0.0</td>\n",
              "      <td>0</td>\n",
              "      <td>1</td>\n",
              "      <td>77.0</td>\n",
              "      <td>6</td>\n",
              "      <td>0</td>\n",
              "      <td>0</td>\n",
              "      <td>2</td>\n",
              "      <td>6.0</td>\n",
              "      <td>0</td>\n",
              "      <td>0</td>\n",
              "      <td>1</td>\n",
              "    </tr>\n",
              "    <tr>\n",
              "      <th>4</th>\n",
              "      <td>0</td>\n",
              "      <td>23.71</td>\n",
              "      <td>0</td>\n",
              "      <td>0</td>\n",
              "      <td>0</td>\n",
              "      <td>28.0</td>\n",
              "      <td>0.0</td>\n",
              "      <td>1</td>\n",
              "      <td>1</td>\n",
              "      <td>42.0</td>\n",
              "      <td>6</td>\n",
              "      <td>0</td>\n",
              "      <td>1</td>\n",
              "      <td>3</td>\n",
              "      <td>8.0</td>\n",
              "      <td>0</td>\n",
              "      <td>0</td>\n",
              "      <td>0</td>\n",
              "    </tr>\n",
              "    <tr>\n",
              "      <th>...</th>\n",
              "      <td>...</td>\n",
              "      <td>...</td>\n",
              "      <td>...</td>\n",
              "      <td>...</td>\n",
              "      <td>...</td>\n",
              "      <td>...</td>\n",
              "      <td>...</td>\n",
              "      <td>...</td>\n",
              "      <td>...</td>\n",
              "      <td>...</td>\n",
              "      <td>...</td>\n",
              "      <td>...</td>\n",
              "      <td>...</td>\n",
              "      <td>...</td>\n",
              "      <td>...</td>\n",
              "      <td>...</td>\n",
              "      <td>...</td>\n",
              "      <td>...</td>\n",
              "    </tr>\n",
              "    <tr>\n",
              "      <th>319790</th>\n",
              "      <td>1</td>\n",
              "      <td>27.41</td>\n",
              "      <td>1</td>\n",
              "      <td>0</td>\n",
              "      <td>0</td>\n",
              "      <td>7.0</td>\n",
              "      <td>0.0</td>\n",
              "      <td>1</td>\n",
              "      <td>0</td>\n",
              "      <td>62.0</td>\n",
              "      <td>4</td>\n",
              "      <td>1</td>\n",
              "      <td>0</td>\n",
              "      <td>1</td>\n",
              "      <td>6.0</td>\n",
              "      <td>1</td>\n",
              "      <td>0</td>\n",
              "      <td>0</td>\n",
              "    </tr>\n",
              "    <tr>\n",
              "      <th>319791</th>\n",
              "      <td>0</td>\n",
              "      <td>29.84</td>\n",
              "      <td>1</td>\n",
              "      <td>0</td>\n",
              "      <td>0</td>\n",
              "      <td>0.0</td>\n",
              "      <td>0.0</td>\n",
              "      <td>0</td>\n",
              "      <td>0</td>\n",
              "      <td>37.0</td>\n",
              "      <td>4</td>\n",
              "      <td>0</td>\n",
              "      <td>1</td>\n",
              "      <td>3</td>\n",
              "      <td>5.0</td>\n",
              "      <td>1</td>\n",
              "      <td>0</td>\n",
              "      <td>0</td>\n",
              "    </tr>\n",
              "    <tr>\n",
              "      <th>319792</th>\n",
              "      <td>0</td>\n",
              "      <td>24.24</td>\n",
              "      <td>0</td>\n",
              "      <td>0</td>\n",
              "      <td>0</td>\n",
              "      <td>0.0</td>\n",
              "      <td>0.0</td>\n",
              "      <td>0</td>\n",
              "      <td>1</td>\n",
              "      <td>47.0</td>\n",
              "      <td>4</td>\n",
              "      <td>0</td>\n",
              "      <td>1</td>\n",
              "      <td>2</td>\n",
              "      <td>6.0</td>\n",
              "      <td>0</td>\n",
              "      <td>0</td>\n",
              "      <td>0</td>\n",
              "    </tr>\n",
              "    <tr>\n",
              "      <th>319793</th>\n",
              "      <td>0</td>\n",
              "      <td>32.81</td>\n",
              "      <td>0</td>\n",
              "      <td>0</td>\n",
              "      <td>0</td>\n",
              "      <td>0.0</td>\n",
              "      <td>0.0</td>\n",
              "      <td>0</td>\n",
              "      <td>1</td>\n",
              "      <td>27.0</td>\n",
              "      <td>4</td>\n",
              "      <td>0</td>\n",
              "      <td>0</td>\n",
              "      <td>2</td>\n",
              "      <td>12.0</td>\n",
              "      <td>0</td>\n",
              "      <td>0</td>\n",
              "      <td>0</td>\n",
              "    </tr>\n",
              "    <tr>\n",
              "      <th>319794</th>\n",
              "      <td>0</td>\n",
              "      <td>46.56</td>\n",
              "      <td>0</td>\n",
              "      <td>0</td>\n",
              "      <td>0</td>\n",
              "      <td>0.0</td>\n",
              "      <td>0.0</td>\n",
              "      <td>0</td>\n",
              "      <td>1</td>\n",
              "      <td>80.0</td>\n",
              "      <td>4</td>\n",
              "      <td>0</td>\n",
              "      <td>1</td>\n",
              "      <td>2</td>\n",
              "      <td>8.0</td>\n",
              "      <td>0</td>\n",
              "      <td>0</td>\n",
              "      <td>0</td>\n",
              "    </tr>\n",
              "  </tbody>\n",
              "</table>\n",
              "<p>319795 rows × 18 columns</p>\n",
              "</div>\n",
              "      <button class=\"colab-df-convert\" onclick=\"convertToInteractive('df-1339ea0f-4ced-4e63-8d0c-2df372d59265')\"\n",
              "              title=\"Convert this dataframe to an interactive table.\"\n",
              "              style=\"display:none;\">\n",
              "        \n",
              "  <svg xmlns=\"http://www.w3.org/2000/svg\" height=\"24px\"viewBox=\"0 0 24 24\"\n",
              "       width=\"24px\">\n",
              "    <path d=\"M0 0h24v24H0V0z\" fill=\"none\"/>\n",
              "    <path d=\"M18.56 5.44l.94 2.06.94-2.06 2.06-.94-2.06-.94-.94-2.06-.94 2.06-2.06.94zm-11 1L8.5 8.5l.94-2.06 2.06-.94-2.06-.94L8.5 2.5l-.94 2.06-2.06.94zm10 10l.94 2.06.94-2.06 2.06-.94-2.06-.94-.94-2.06-.94 2.06-2.06.94z\"/><path d=\"M17.41 7.96l-1.37-1.37c-.4-.4-.92-.59-1.43-.59-.52 0-1.04.2-1.43.59L10.3 9.45l-7.72 7.72c-.78.78-.78 2.05 0 2.83L4 21.41c.39.39.9.59 1.41.59.51 0 1.02-.2 1.41-.59l7.78-7.78 2.81-2.81c.8-.78.8-2.07 0-2.86zM5.41 20L4 18.59l7.72-7.72 1.47 1.35L5.41 20z\"/>\n",
              "  </svg>\n",
              "      </button>\n",
              "      \n",
              "  <style>\n",
              "    .colab-df-container {\n",
              "      display:flex;\n",
              "      flex-wrap:wrap;\n",
              "      gap: 12px;\n",
              "    }\n",
              "\n",
              "    .colab-df-convert {\n",
              "      background-color: #E8F0FE;\n",
              "      border: none;\n",
              "      border-radius: 50%;\n",
              "      cursor: pointer;\n",
              "      display: none;\n",
              "      fill: #1967D2;\n",
              "      height: 32px;\n",
              "      padding: 0 0 0 0;\n",
              "      width: 32px;\n",
              "    }\n",
              "\n",
              "    .colab-df-convert:hover {\n",
              "      background-color: #E2EBFA;\n",
              "      box-shadow: 0px 1px 2px rgba(60, 64, 67, 0.3), 0px 1px 3px 1px rgba(60, 64, 67, 0.15);\n",
              "      fill: #174EA6;\n",
              "    }\n",
              "\n",
              "    [theme=dark] .colab-df-convert {\n",
              "      background-color: #3B4455;\n",
              "      fill: #D2E3FC;\n",
              "    }\n",
              "\n",
              "    [theme=dark] .colab-df-convert:hover {\n",
              "      background-color: #434B5C;\n",
              "      box-shadow: 0px 1px 3px 1px rgba(0, 0, 0, 0.15);\n",
              "      filter: drop-shadow(0px 1px 2px rgba(0, 0, 0, 0.3));\n",
              "      fill: #FFFFFF;\n",
              "    }\n",
              "  </style>\n",
              "\n",
              "      <script>\n",
              "        const buttonEl =\n",
              "          document.querySelector('#df-1339ea0f-4ced-4e63-8d0c-2df372d59265 button.colab-df-convert');\n",
              "        buttonEl.style.display =\n",
              "          google.colab.kernel.accessAllowed ? 'block' : 'none';\n",
              "\n",
              "        async function convertToInteractive(key) {\n",
              "          const element = document.querySelector('#df-1339ea0f-4ced-4e63-8d0c-2df372d59265');\n",
              "          const dataTable =\n",
              "            await google.colab.kernel.invokeFunction('convertToInteractive',\n",
              "                                                     [key], {});\n",
              "          if (!dataTable) return;\n",
              "\n",
              "          const docLinkHtml = 'Like what you see? Visit the ' +\n",
              "            '<a target=\"_blank\" href=https://colab.research.google.com/notebooks/data_table.ipynb>data table notebook</a>'\n",
              "            + ' to learn more about interactive tables.';\n",
              "          element.innerHTML = '';\n",
              "          dataTable['output_type'] = 'display_data';\n",
              "          await google.colab.output.renderOutput(dataTable, element);\n",
              "          const docLink = document.createElement('div');\n",
              "          docLink.innerHTML = docLinkHtml;\n",
              "          element.appendChild(docLink);\n",
              "        }\n",
              "      </script>\n",
              "    </div>\n",
              "  </div>\n",
              "  "
            ]
          },
          "metadata": {},
          "execution_count": 7
        }
      ]
    },
    {
      "cell_type": "code",
      "source": [
        "datos.describe()[1:][['BMI','PhysicalHealth','MentalHealth', 'AgeCategory','SleepTime']].style.background_gradient(cmap='Blues')"
      ],
      "metadata": {
        "colab": {
          "base_uri": "https://localhost:8080/",
          "height": 269
        },
        "id": "-dvH1U_VEAo8",
        "outputId": "9fb8efa7-106a-4b24-d40d-d17d1cd7cbb4"
      },
      "execution_count": null,
      "outputs": [
        {
          "output_type": "execute_result",
          "data": {
            "text/plain": [
              "<pandas.io.formats.style.Styler at 0x7fe270781790>"
            ],
            "text/html": [
              "<style type=\"text/css\">\n",
              "#T_18ad0_row0_col0 {\n",
              "  background-color: #c7dbef;\n",
              "  color: #000000;\n",
              "}\n",
              "#T_18ad0_row0_col1 {\n",
              "  background-color: #e1edf8;\n",
              "  color: #000000;\n",
              "}\n",
              "#T_18ad0_row0_col2 {\n",
              "  background-color: #ddeaf7;\n",
              "  color: #000000;\n",
              "}\n",
              "#T_18ad0_row0_col3 {\n",
              "  background-color: #4e9acb;\n",
              "  color: #f1f1f1;\n",
              "}\n",
              "#T_18ad0_row0_col4, #T_18ad0_row1_col1, #T_18ad0_row1_col2 {\n",
              "  background-color: #c2d9ee;\n",
              "  color: #000000;\n",
              "}\n",
              "#T_18ad0_row1_col0, #T_18ad0_row1_col3, #T_18ad0_row2_col1, #T_18ad0_row2_col2, #T_18ad0_row2_col4, #T_18ad0_row3_col1, #T_18ad0_row3_col2, #T_18ad0_row4_col1, #T_18ad0_row4_col2 {\n",
              "  background-color: #f7fbff;\n",
              "  color: #000000;\n",
              "}\n",
              "#T_18ad0_row1_col4 {\n",
              "  background-color: #f4f9fe;\n",
              "  color: #000000;\n",
              "}\n",
              "#T_18ad0_row2_col0 {\n",
              "  background-color: #eaf3fb;\n",
              "  color: #000000;\n",
              "}\n",
              "#T_18ad0_row2_col3 {\n",
              "  background-color: #edf4fc;\n",
              "  color: #000000;\n",
              "}\n",
              "#T_18ad0_row3_col0 {\n",
              "  background-color: #d0e1f2;\n",
              "  color: #000000;\n",
              "}\n",
              "#T_18ad0_row3_col3 {\n",
              "  background-color: #99c7e0;\n",
              "  color: #000000;\n",
              "}\n",
              "#T_18ad0_row3_col4 {\n",
              "  background-color: #cddff1;\n",
              "  color: #000000;\n",
              "}\n",
              "#T_18ad0_row4_col0 {\n",
              "  background-color: #c9ddf0;\n",
              "  color: #000000;\n",
              "}\n",
              "#T_18ad0_row4_col3 {\n",
              "  background-color: #4090c5;\n",
              "  color: #f1f1f1;\n",
              "}\n",
              "#T_18ad0_row4_col4 {\n",
              "  background-color: #c3daee;\n",
              "  color: #000000;\n",
              "}\n",
              "#T_18ad0_row5_col0 {\n",
              "  background-color: #bcd7eb;\n",
              "  color: #000000;\n",
              "}\n",
              "#T_18ad0_row5_col1 {\n",
              "  background-color: #eaf2fb;\n",
              "  color: #000000;\n",
              "}\n",
              "#T_18ad0_row5_col2 {\n",
              "  background-color: #e3eef9;\n",
              "  color: #000000;\n",
              "}\n",
              "#T_18ad0_row5_col3 {\n",
              "  background-color: #1966ad;\n",
              "  color: #f1f1f1;\n",
              "}\n",
              "#T_18ad0_row5_col4 {\n",
              "  background-color: #b5d4e9;\n",
              "  color: #000000;\n",
              "}\n",
              "#T_18ad0_row6_col0, #T_18ad0_row6_col1, #T_18ad0_row6_col2, #T_18ad0_row6_col3, #T_18ad0_row6_col4 {\n",
              "  background-color: #08306b;\n",
              "  color: #f1f1f1;\n",
              "}\n",
              "</style>\n",
              "<table id=\"T_18ad0_\" class=\"dataframe\">\n",
              "  <thead>\n",
              "    <tr>\n",
              "      <th class=\"blank level0\" >&nbsp;</th>\n",
              "      <th class=\"col_heading level0 col0\" >BMI</th>\n",
              "      <th class=\"col_heading level0 col1\" >PhysicalHealth</th>\n",
              "      <th class=\"col_heading level0 col2\" >MentalHealth</th>\n",
              "      <th class=\"col_heading level0 col3\" >AgeCategory</th>\n",
              "      <th class=\"col_heading level0 col4\" >SleepTime</th>\n",
              "    </tr>\n",
              "  </thead>\n",
              "  <tbody>\n",
              "    <tr>\n",
              "      <th id=\"T_18ad0_level0_row0\" class=\"row_heading level0 row0\" >mean</th>\n",
              "      <td id=\"T_18ad0_row0_col0\" class=\"data row0 col0\" >28.325399</td>\n",
              "      <td id=\"T_18ad0_row0_col1\" class=\"data row0 col1\" >3.371710</td>\n",
              "      <td id=\"T_18ad0_row0_col2\" class=\"data row0 col2\" >3.898366</td>\n",
              "      <td id=\"T_18ad0_row0_col3\" class=\"data row0 col3\" >54.355759</td>\n",
              "      <td id=\"T_18ad0_row0_col4\" class=\"data row0 col4\" >7.097075</td>\n",
              "    </tr>\n",
              "    <tr>\n",
              "      <th id=\"T_18ad0_level0_row1\" class=\"row_heading level0 row1\" >std</th>\n",
              "      <td id=\"T_18ad0_row1_col0\" class=\"data row1 col0\" >6.356100</td>\n",
              "      <td id=\"T_18ad0_row1_col1\" class=\"data row1 col1\" >7.950850</td>\n",
              "      <td id=\"T_18ad0_row1_col2\" class=\"data row1 col2\" >7.955235</td>\n",
              "      <td id=\"T_18ad0_row1_col3\" class=\"data row1 col3\" >17.720429</td>\n",
              "      <td id=\"T_18ad0_row1_col4\" class=\"data row1 col4\" >1.436007</td>\n",
              "    </tr>\n",
              "    <tr>\n",
              "      <th id=\"T_18ad0_level0_row2\" class=\"row_heading level0 row2\" >min</th>\n",
              "      <td id=\"T_18ad0_row2_col0\" class=\"data row2 col0\" >12.020000</td>\n",
              "      <td id=\"T_18ad0_row2_col1\" class=\"data row2 col1\" >0.000000</td>\n",
              "      <td id=\"T_18ad0_row2_col2\" class=\"data row2 col2\" >0.000000</td>\n",
              "      <td id=\"T_18ad0_row2_col3\" class=\"data row2 col3\" >21.000000</td>\n",
              "      <td id=\"T_18ad0_row2_col4\" class=\"data row2 col4\" >1.000000</td>\n",
              "    </tr>\n",
              "    <tr>\n",
              "      <th id=\"T_18ad0_level0_row3\" class=\"row_heading level0 row3\" >25%</th>\n",
              "      <td id=\"T_18ad0_row3_col0\" class=\"data row3 col0\" >24.030000</td>\n",
              "      <td id=\"T_18ad0_row3_col1\" class=\"data row3 col1\" >0.000000</td>\n",
              "      <td id=\"T_18ad0_row3_col2\" class=\"data row3 col2\" >0.000000</td>\n",
              "      <td id=\"T_18ad0_row3_col3\" class=\"data row3 col3\" >42.000000</td>\n",
              "      <td id=\"T_18ad0_row3_col4\" class=\"data row3 col4\" >6.000000</td>\n",
              "    </tr>\n",
              "    <tr>\n",
              "      <th id=\"T_18ad0_level0_row4\" class=\"row_heading level0 row4\" >50%</th>\n",
              "      <td id=\"T_18ad0_row4_col0\" class=\"data row4 col0\" >27.340000</td>\n",
              "      <td id=\"T_18ad0_row4_col1\" class=\"data row4 col1\" >0.000000</td>\n",
              "      <td id=\"T_18ad0_row4_col2\" class=\"data row4 col2\" >0.000000</td>\n",
              "      <td id=\"T_18ad0_row4_col3\" class=\"data row4 col3\" >57.000000</td>\n",
              "      <td id=\"T_18ad0_row4_col4\" class=\"data row4 col4\" >7.000000</td>\n",
              "    </tr>\n",
              "    <tr>\n",
              "      <th id=\"T_18ad0_level0_row5\" class=\"row_heading level0 row5\" >75%</th>\n",
              "      <td id=\"T_18ad0_row5_col0\" class=\"data row5 col0\" >31.420000</td>\n",
              "      <td id=\"T_18ad0_row5_col1\" class=\"data row5 col1\" >2.000000</td>\n",
              "      <td id=\"T_18ad0_row5_col2\" class=\"data row5 col2\" >3.000000</td>\n",
              "      <td id=\"T_18ad0_row5_col3\" class=\"data row5 col3\" >67.000000</td>\n",
              "      <td id=\"T_18ad0_row5_col4\" class=\"data row5 col4\" >8.000000</td>\n",
              "    </tr>\n",
              "    <tr>\n",
              "      <th id=\"T_18ad0_level0_row6\" class=\"row_heading level0 row6\" >max</th>\n",
              "      <td id=\"T_18ad0_row6_col0\" class=\"data row6 col0\" >94.850000</td>\n",
              "      <td id=\"T_18ad0_row6_col1\" class=\"data row6 col1\" >30.000000</td>\n",
              "      <td id=\"T_18ad0_row6_col2\" class=\"data row6 col2\" >30.000000</td>\n",
              "      <td id=\"T_18ad0_row6_col3\" class=\"data row6 col3\" >80.000000</td>\n",
              "      <td id=\"T_18ad0_row6_col4\" class=\"data row6 col4\" >24.000000</td>\n",
              "    </tr>\n",
              "  </tbody>\n",
              "</table>\n"
            ]
          },
          "metadata": {},
          "execution_count": 8
        }
      ]
    },
    {
      "cell_type": "code",
      "execution_count": null,
      "metadata": {
        "id": "dWO4qN0peMc0",
        "outputId": "757aea70-4f6a-423a-abc3-e4b40ba422f8",
        "colab": {
          "base_uri": "https://localhost:8080/"
        }
      },
      "outputs": [
        {
          "output_type": "execute_result",
          "data": {
            "text/plain": [
              "HeartDisease        0\n",
              "BMI                 0\n",
              "Smoking             0\n",
              "AlcoholDrinking     0\n",
              "Stroke              0\n",
              "PhysicalHealth      0\n",
              "MentalHealth        0\n",
              "DiffWalking         0\n",
              "Sex                 0\n",
              "AgeCategory         0\n",
              "Race                0\n",
              "Diabetic            0\n",
              "PhysicalActivity    0\n",
              "GenHealth           0\n",
              "SleepTime           0\n",
              "Asthma              0\n",
              "KidneyDisease       0\n",
              "SkinCancer          0\n",
              "dtype: int64"
            ]
          },
          "metadata": {},
          "execution_count": 9
        }
      ],
      "source": [
        "#Revisar datos nulos \n",
        "datos.isnull().sum()"
      ]
    },
    {
      "cell_type": "code",
      "source": [
        "columnas = datos.columns.values\n",
        "fig, axs = plt.subplots(df.shape[1], 1, figsize = (5,60))\n",
        "plt.subplots_adjust(hspace = 1)\n",
        "for i, c in enumerate(columnas):\n",
        "  dist_datos = df[c]\n",
        "  axs[i].set_title(f'Distribución de {c}.')\n",
        "  axs[i].hist(dist_datos)\n",
        "  axs[i].grid(True)"
      ],
      "metadata": {
        "colab": {
          "base_uri": "https://localhost:8080/",
          "height": 1000
        },
        "id": "IxD75TJXRU1m",
        "outputId": "fd37e7d2-bf6e-435a-9086-0d3486804a7a"
      },
      "execution_count": null,
      "outputs": [
        {
          "output_type": "display_data",
          "data": {
            "text/plain": [
              "<Figure size 360x4320 with 18 Axes>"
            ],
            "image/png": "[encoded data removed]"
          },
          "metadata": {
            "needs_background": "light"
          }
        }
      ]
    },
    {
      "cell_type": "markdown",
      "metadata": {
        "id": "QBKbkt1reMc1"
      },
      "source": [
        " \n",
        "Min - max"
      ]
    },
    {
      "cell_type": "code",
      "source": [
        "def norm_min_max(datos):\n",
        "  lim_sup = []\n",
        "  lim_inf = []\n",
        "  rangoDatos =[]\n",
        "  maxNorm = 1\n",
        "  minNorm = 0\n",
        "  rango = maxNorm - minNorm\n",
        "  for i in range (0,datos.columns.size):\n",
        "    lim_sup.append(datos.iloc[:,i].max())\n",
        "    lim_inf.append(datos.iloc[:,i].min())\n",
        "    rangoDatos.append(lim_sup[i] - lim_inf[i])\n",
        "  nombres = datos.columns.values.tolist()\n",
        "  datosNorm = pd.DataFrame(columns = nombres)\n",
        "\n",
        "  for j in range(len(datos.columns)):\n",
        "    varNorm = []\n",
        "    var = datos.iloc[:,j]\n",
        "    for i in range(len(datos)):\n",
        "      D = var[i] - lim_inf[j]\n",
        "      DPct = D/rangoDatos[j]\n",
        "      dNorm = rango*DPct\n",
        "      varNorm.append(minNorm+dNorm)\n",
        "    datosNorm.iloc[:,j] = varNorm\n",
        "  datos = datosNorm\n",
        "  return datos"
      ],
      "metadata": {
        "id": "bICOQ_ghRBpW"
      },
      "execution_count": null,
      "outputs": []
    },
    {
      "cell_type": "code",
      "execution_count": null,
      "metadata": {
        "id": "CaanHVnfeMc2",
        "outputId": "0e4d33fd-a928-4661-ac2b-983fdafc13ad",
        "colab": {
          "base_uri": "https://localhost:8080/",
          "height": 488
        }
      },
      "outputs": [
        {
          "output_type": "execute_result",
          "data": {
            "text/plain": [
              "        HeartDisease       BMI  Smoking  AlcoholDrinking  Stroke  \\\n",
              "0                0.0  0.055294      1.0              0.0     0.0   \n",
              "1                0.0  0.100447      0.0              0.0     1.0   \n",
              "2                0.0  0.175782      1.0              0.0     0.0   \n",
              "3                0.0  0.147169      0.0              0.0     0.0   \n",
              "4                0.0  0.141132      0.0              0.0     0.0   \n",
              "...              ...       ...      ...              ...     ...   \n",
              "319790           1.0  0.185802      1.0              0.0     0.0   \n",
              "319791           0.0  0.215139      1.0              0.0     0.0   \n",
              "319792           0.0  0.147531      0.0              0.0     0.0   \n",
              "319793           0.0  0.250996      0.0              0.0     0.0   \n",
              "319794           0.0  0.416999      0.0              0.0     0.0   \n",
              "\n",
              "        PhysicalHealth  MentalHealth  DiffWalking  Sex  AgeCategory  Race  \\\n",
              "0             0.100000           1.0          0.0  1.0     0.610169   1.0   \n",
              "1             0.000000           0.0          0.0  1.0     1.000000   1.0   \n",
              "2             0.666667           1.0          0.0  0.0     0.779661   1.0   \n",
              "3             0.000000           0.0          0.0  1.0     0.949153   1.0   \n",
              "4             0.933333           0.0          1.0  1.0     0.355932   1.0   \n",
              "...                ...           ...          ...  ...          ...   ...   \n",
              "319790        0.233333           0.0          1.0  0.0     0.694915   0.6   \n",
              "319791        0.000000           0.0          0.0  0.0     0.271186   0.6   \n",
              "319792        0.000000           0.0          0.0  1.0     0.440678   0.6   \n",
              "319793        0.000000           0.0          0.0  1.0     0.101695   0.6   \n",
              "319794        0.000000           0.0          0.0  1.0     1.000000   0.6   \n",
              "\n",
              "        Diabetic  PhysicalActivity  GenHealth  SleepTime  Asthma  \\\n",
              "0       0.333333               1.0       0.75   0.173913     1.0   \n",
              "1       0.000000               1.0       0.75   0.260870     0.0   \n",
              "2       0.333333               1.0       0.25   0.304348     1.0   \n",
              "3       0.000000               0.0       0.50   0.217391     0.0   \n",
              "4       0.000000               1.0       0.75   0.304348     0.0   \n",
              "...          ...               ...        ...        ...     ...   \n",
              "319790  0.333333               0.0       0.25   0.217391     1.0   \n",
              "319791  0.000000               1.0       0.75   0.173913     1.0   \n",
              "319792  0.000000               1.0       0.50   0.217391     0.0   \n",
              "319793  0.000000               0.0       0.50   0.478261     0.0   \n",
              "319794  0.000000               1.0       0.50   0.304348     0.0   \n",
              "\n",
              "        KidneyDisease  SkinCancer  \n",
              "0                 0.0         1.0  \n",
              "1                 0.0         0.0  \n",
              "2                 0.0         0.0  \n",
              "3                 0.0         1.0  \n",
              "4                 0.0         0.0  \n",
              "...               ...         ...  \n",
              "319790            0.0         0.0  \n",
              "319791            0.0         0.0  \n",
              "319792            0.0         0.0  \n",
              "319793            0.0         0.0  \n",
              "319794            0.0         0.0  \n",
              "\n",
              "[319795 rows x 18 columns]"
            ],
            "text/html": [
              "\n",
              "  <div id=\"df-f344b26e-9c73-4e85-b4e0-d481baa30196\">\n",
              "    <div class=\"colab-df-container\">\n",
              "      <div>\n",
              "<style scoped>\n",
              "    .dataframe tbody tr th:only-of-type {\n",
              "        vertical-align: middle;\n",
              "    }\n",
              "\n",
              "    .dataframe tbody tr th {\n",
              "        vertical-align: top;\n",
              "    }\n",
              "\n",
              "    .dataframe thead th {\n",
              "        text-align: right;\n",
              "    }\n",
              "</style>\n",
              "<table border=\"1\" class=\"dataframe\">\n",
              "  <thead>\n",
              "    <tr style=\"text-align: right;\">\n",
              "      <th></th>\n",
              "      <th>HeartDisease</th>\n",
              "      <th>BMI</th>\n",
              "      <th>Smoking</th>\n",
              "      <th>AlcoholDrinking</th>\n",
              "      <th>Stroke</th>\n",
              "      <th>PhysicalHealth</th>\n",
              "      <th>MentalHealth</th>\n",
              "      <th>DiffWalking</th>\n",
              "      <th>Sex</th>\n",
              "      <th>AgeCategory</th>\n",
              "      <th>Race</th>\n",
              "      <th>Diabetic</th>\n",
              "      <th>PhysicalActivity</th>\n",
              "      <th>GenHealth</th>\n",
              "      <th>SleepTime</th>\n",
              "      <th>Asthma</th>\n",
              "      <th>KidneyDisease</th>\n",
              "      <th>SkinCancer</th>\n",
              "    </tr>\n",
              "  </thead>\n",
              "  <tbody>\n",
              "    <tr>\n",
              "      <th>0</th>\n",
              "      <td>0.0</td>\n",
              "      <td>0.055294</td>\n",
              "      <td>1.0</td>\n",
              "      <td>0.0</td>\n",
              "      <td>0.0</td>\n",
              "      <td>0.100000</td>\n",
              "      <td>1.0</td>\n",
              "      <td>0.0</td>\n",
              "      <td>1.0</td>\n",
              "      <td>0.610169</td>\n",
              "      <td>1.0</td>\n",
              "      <td>0.333333</td>\n",
              "      <td>1.0</td>\n",
              "      <td>0.75</td>\n",
              "      <td>0.173913</td>\n",
              "      <td>1.0</td>\n",
              "      <td>0.0</td>\n",
              "      <td>1.0</td>\n",
              "    </tr>\n",
              "    <tr>\n",
              "      <th>1</th>\n",
              "      <td>0.0</td>\n",
              "      <td>0.100447</td>\n",
              "      <td>0.0</td>\n",
              "      <td>0.0</td>\n",
              "      <td>1.0</td>\n",
              "      <td>0.000000</td>\n",
              "      <td>0.0</td>\n",
              "      <td>0.0</td>\n",
              "      <td>1.0</td>\n",
              "      <td>1.000000</td>\n",
              "      <td>1.0</td>\n",
              "      <td>0.000000</td>\n",
              "      <td>1.0</td>\n",
              "      <td>0.75</td>\n",
              "      <td>0.260870</td>\n",
              "      <td>0.0</td>\n",
              "      <td>0.0</td>\n",
              "      <td>0.0</td>\n",
              "    </tr>\n",
              "    <tr>\n",
              "      <th>2</th>\n",
              "      <td>0.0</td>\n",
              "      <td>0.175782</td>\n",
              "      <td>1.0</td>\n",
              "      <td>0.0</td>\n",
              "      <td>0.0</td>\n",
              "      <td>0.666667</td>\n",
              "      <td>1.0</td>\n",
              "      <td>0.0</td>\n",
              "      <td>0.0</td>\n",
              "      <td>0.779661</td>\n",
              "      <td>1.0</td>\n",
              "      <td>0.333333</td>\n",
              "      <td>1.0</td>\n",
              "      <td>0.25</td>\n",
              "      <td>0.304348</td>\n",
              "      <td>1.0</td>\n",
              "      <td>0.0</td>\n",
              "      <td>0.0</td>\n",
              "    </tr>\n",
              "    <tr>\n",
              "      <th>3</th>\n",
              "      <td>0.0</td>\n",
              "      <td>0.147169</td>\n",
              "      <td>0.0</td>\n",
              "      <td>0.0</td>\n",
              "      <td>0.0</td>\n",
              "      <td>0.000000</td>\n",
              "      <td>0.0</td>\n",
              "      <td>0.0</td>\n",
              "      <td>1.0</td>\n",
              "      <td>0.949153</td>\n",
              "      <td>1.0</td>\n",
              "      <td>0.000000</td>\n",
              "      <td>0.0</td>\n",
              "      <td>0.50</td>\n",
              "      <td>0.217391</td>\n",
              "      <td>0.0</td>\n",
              "      <td>0.0</td>\n",
              "      <td>1.0</td>\n",
              "    </tr>\n",
              "    <tr>\n",
              "      <th>4</th>\n",
              "      <td>0.0</td>\n",
              "      <td>0.141132</td>\n",
              "      <td>0.0</td>\n",
              "      <td>0.0</td>\n",
              "      <td>0.0</td>\n",
              "      <td>0.933333</td>\n",
              "      <td>0.0</td>\n",
              "      <td>1.0</td>\n",
              "      <td>1.0</td>\n",
              "      <td>0.355932</td>\n",
              "      <td>1.0</td>\n",
              "      <td>0.000000</td>\n",
              "      <td>1.0</td>\n",
              "      <td>0.75</td>\n",
              "      <td>0.304348</td>\n",
              "      <td>0.0</td>\n",
              "      <td>0.0</td>\n",
              "      <td>0.0</td>\n",
              "    </tr>\n",
              "    <tr>\n",
              "      <th>...</th>\n",
              "      <td>...</td>\n",
              "      <td>...</td>\n",
              "      <td>...</td>\n",
              "      <td>...</td>\n",
              "      <td>...</td>\n",
              "      <td>...</td>\n",
              "      <td>...</td>\n",
              "      <td>...</td>\n",
              "      <td>...</td>\n",
              "      <td>...</td>\n",
              "      <td>...</td>\n",
              "      <td>...</td>\n",
              "      <td>...</td>\n",
              "      <td>...</td>\n",
              "      <td>...</td>\n",
              "      <td>...</td>\n",
              "      <td>...</td>\n",
              "      <td>...</td>\n",
              "    </tr>\n",
              "    <tr>\n",
              "      <th>319790</th>\n",
              "      <td>1.0</td>\n",
              "      <td>0.185802</td>\n",
              "      <td>1.0</td>\n",
              "      <td>0.0</td>\n",
              "      <td>0.0</td>\n",
              "      <td>0.233333</td>\n",
              "      <td>0.0</td>\n",
              "      <td>1.0</td>\n",
              "      <td>0.0</td>\n",
              "      <td>0.694915</td>\n",
              "      <td>0.6</td>\n",
              "      <td>0.333333</td>\n",
              "      <td>0.0</td>\n",
              "      <td>0.25</td>\n",
              "      <td>0.217391</td>\n",
              "      <td>1.0</td>\n",
              "      <td>0.0</td>\n",
              "      <td>0.0</td>\n",
              "    </tr>\n",
              "    <tr>\n",
              "      <th>319791</th>\n",
              "      <td>0.0</td>\n",
              "      <td>0.215139</td>\n",
              "      <td>1.0</td>\n",
              "      <td>0.0</td>\n",
              "      <td>0.0</td>\n",
              "      <td>0.000000</td>\n",
              "      <td>0.0</td>\n",
              "      <td>0.0</td>\n",
              "      <td>0.0</td>\n",
              "      <td>0.271186</td>\n",
              "      <td>0.6</td>\n",
              "      <td>0.000000</td>\n",
              "      <td>1.0</td>\n",
              "      <td>0.75</td>\n",
              "      <td>0.173913</td>\n",
              "      <td>1.0</td>\n",
              "      <td>0.0</td>\n",
              "      <td>0.0</td>\n",
              "    </tr>\n",
              "    <tr>\n",
              "      <th>319792</th>\n",
              "      <td>0.0</td>\n",
              "      <td>0.147531</td>\n",
              "      <td>0.0</td>\n",
              "      <td>0.0</td>\n",
              "      <td>0.0</td>\n",
              "      <td>0.000000</td>\n",
              "      <td>0.0</td>\n",
              "      <td>0.0</td>\n",
              "      <td>1.0</td>\n",
              "      <td>0.440678</td>\n",
              "      <td>0.6</td>\n",
              "      <td>0.000000</td>\n",
              "      <td>1.0</td>\n",
              "      <td>0.50</td>\n",
              "      <td>0.217391</td>\n",
              "      <td>0.0</td>\n",
              "      <td>0.0</td>\n",
              "      <td>0.0</td>\n",
              "    </tr>\n",
              "    <tr>\n",
              "      <th>319793</th>\n",
              "      <td>0.0</td>\n",
              "      <td>0.250996</td>\n",
              "      <td>0.0</td>\n",
              "      <td>0.0</td>\n",
              "      <td>0.0</td>\n",
              "      <td>0.000000</td>\n",
              "      <td>0.0</td>\n",
              "      <td>0.0</td>\n",
              "      <td>1.0</td>\n",
              "      <td>0.101695</td>\n",
              "      <td>0.6</td>\n",
              "      <td>0.000000</td>\n",
              "      <td>0.0</td>\n",
              "      <td>0.50</td>\n",
              "      <td>0.478261</td>\n",
              "      <td>0.0</td>\n",
              "      <td>0.0</td>\n",
              "      <td>0.0</td>\n",
              "    </tr>\n",
              "    <tr>\n",
              "      <th>319794</th>\n",
              "      <td>0.0</td>\n",
              "      <td>0.416999</td>\n",
              "      <td>0.0</td>\n",
              "      <td>0.0</td>\n",
              "      <td>0.0</td>\n",
              "      <td>0.000000</td>\n",
              "      <td>0.0</td>\n",
              "      <td>0.0</td>\n",
              "      <td>1.0</td>\n",
              "      <td>1.000000</td>\n",
              "      <td>0.6</td>\n",
              "      <td>0.000000</td>\n",
              "      <td>1.0</td>\n",
              "      <td>0.50</td>\n",
              "      <td>0.304348</td>\n",
              "      <td>0.0</td>\n",
              "      <td>0.0</td>\n",
              "      <td>0.0</td>\n",
              "    </tr>\n",
              "  </tbody>\n",
              "</table>\n",
              "<p>319795 rows × 18 columns</p>\n",
              "</div>\n",
              "      <button class=\"colab-df-convert\" onclick=\"convertToInteractive('df-f344b26e-9c73-4e85-b4e0-d481baa30196')\"\n",
              "              title=\"Convert this dataframe to an interactive table.\"\n",
              "              style=\"display:none;\">\n",
              "        \n",
              "  <svg xmlns=\"http://www.w3.org/2000/svg\" height=\"24px\"viewBox=\"0 0 24 24\"\n",
              "       width=\"24px\">\n",
              "    <path d=\"M0 0h24v24H0V0z\" fill=\"none\"/>\n",
              "    <path d=\"M18.56 5.44l.94 2.06.94-2.06 2.06-.94-2.06-.94-.94-2.06-.94 2.06-2.06.94zm-11 1L8.5 8.5l.94-2.06 2.06-.94-2.06-.94L8.5 2.5l-.94 2.06-2.06.94zm10 10l.94 2.06.94-2.06 2.06-.94-2.06-.94-.94-2.06-.94 2.06-2.06.94z\"/><path d=\"M17.41 7.96l-1.37-1.37c-.4-.4-.92-.59-1.43-.59-.52 0-1.04.2-1.43.59L10.3 9.45l-7.72 7.72c-.78.78-.78 2.05 0 2.83L4 21.41c.39.39.9.59 1.41.59.51 0 1.02-.2 1.41-.59l7.78-7.78 2.81-2.81c.8-.78.8-2.07 0-2.86zM5.41 20L4 18.59l7.72-7.72 1.47 1.35L5.41 20z\"/>\n",
              "  </svg>\n",
              "      </button>\n",
              "      \n",
              "  <style>\n",
              "    .colab-df-container {\n",
              "      display:flex;\n",
              "      flex-wrap:wrap;\n",
              "      gap: 12px;\n",
              "    }\n",
              "\n",
              "    .colab-df-convert {\n",
              "      background-color: #E8F0FE;\n",
              "      border: none;\n",
              "      border-radius: 50%;\n",
              "      cursor: pointer;\n",
              "      display: none;\n",
              "      fill: #1967D2;\n",
              "      height: 32px;\n",
              "      padding: 0 0 0 0;\n",
              "      width: 32px;\n",
              "    }\n",
              "\n",
              "    .colab-df-convert:hover {\n",
              "      background-color: #E2EBFA;\n",
              "      box-shadow: 0px 1px 2px rgba(60, 64, 67, 0.3), 0px 1px 3px 1px rgba(60, 64, 67, 0.15);\n",
              "      fill: #174EA6;\n",
              "    }\n",
              "\n",
              "    [theme=dark] .colab-df-convert {\n",
              "      background-color: #3B4455;\n",
              "      fill: #D2E3FC;\n",
              "    }\n",
              "\n",
              "    [theme=dark] .colab-df-convert:hover {\n",
              "      background-color: #434B5C;\n",
              "      box-shadow: 0px 1px 3px 1px rgba(0, 0, 0, 0.15);\n",
              "      filter: drop-shadow(0px 1px 2px rgba(0, 0, 0, 0.3));\n",
              "      fill: #FFFFFF;\n",
              "    }\n",
              "  </style>\n",
              "\n",
              "      <script>\n",
              "        const buttonEl =\n",
              "          document.querySelector('#df-f344b26e-9c73-4e85-b4e0-d481baa30196 button.colab-df-convert');\n",
              "        buttonEl.style.display =\n",
              "          google.colab.kernel.accessAllowed ? 'block' : 'none';\n",
              "\n",
              "        async function convertToInteractive(key) {\n",
              "          const element = document.querySelector('#df-f344b26e-9c73-4e85-b4e0-d481baa30196');\n",
              "          const dataTable =\n",
              "            await google.colab.kernel.invokeFunction('convertToInteractive',\n",
              "                                                     [key], {});\n",
              "          if (!dataTable) return;\n",
              "\n",
              "          const docLinkHtml = 'Like what you see? Visit the ' +\n",
              "            '<a target=\"_blank\" href=https://colab.research.google.com/notebooks/data_table.ipynb>data table notebook</a>'\n",
              "            + ' to learn more about interactive tables.';\n",
              "          element.innerHTML = '';\n",
              "          dataTable['output_type'] = 'display_data';\n",
              "          await google.colab.output.renderOutput(dataTable, element);\n",
              "          const docLink = document.createElement('div');\n",
              "          docLink.innerHTML = docLinkHtml;\n",
              "          element.appendChild(docLink);\n",
              "        }\n",
              "      </script>\n",
              "    </div>\n",
              "  </div>\n",
              "  "
            ]
          },
          "metadata": {},
          "execution_count": 12
        }
      ],
      "source": [
        "datos = norm_min_max(datos)\n",
        "datos"
      ]
    },
    {
      "cell_type": "markdown",
      "metadata": {
        "id": "xASM1QXmeMc2"
      },
      "source": [
        "### PCA  "
      ]
    },
    {
      "cell_type": "markdown",
      "metadata": {
        "id": "SZCOS3rVeMc3"
      },
      "source": [
        "Encontrar la matriz de covarianza y sus respectivos eigenvectores y eigenvalores "
      ]
    },
    {
      "cell_type": "code",
      "execution_count": null,
      "metadata": {
        "id": "R_zjgDegeMc3"
      },
      "outputs": [],
      "source": [
        "def matriz_cov(data):\n",
        "    atributos = data.columns \n",
        "    n = len(atributos)\n",
        "    m = np.zeros((n,n))\n",
        "    for i in range(n):\n",
        "        for j in range(n):\n",
        "            X = data[atributos[i]]\n",
        "            Y = data[atributos[j]]\n",
        "            m[i][j] = (((X-X.mean())*(Y-Y.mean())).sum())/(len(X)-1)\n",
        "    return m"
      ]
    },
    {
      "cell_type": "code",
      "execution_count": null,
      "metadata": {
        "id": "ay-sOgcAeMc3",
        "outputId": "44fc33a1-e8f7-4736-fd18-4f4c55513cee",
        "colab": {
          "base_uri": "https://localhost:8080/",
          "height": 488
        }
      },
      "outputs": [
        {
          "output_type": "execute_result",
          "data": {
            "text/plain": [
              "             BMI   Smoking  AlcoholDrinking   Stroke  PhysicalHealth  \\\n",
              "0      -0.141560  0.587523        -0.068097 -0.03774       -0.012390   \n",
              "1      -0.096407 -0.412477        -0.068097  0.96226       -0.112390   \n",
              "2      -0.021072  0.587523        -0.068097 -0.03774        0.554276   \n",
              "3      -0.049685 -0.412477        -0.068097 -0.03774       -0.112390   \n",
              "4      -0.055721 -0.412477        -0.068097 -0.03774        0.820943   \n",
              "...          ...       ...              ...      ...             ...   \n",
              "319790 -0.011052  0.587523        -0.068097 -0.03774        0.120943   \n",
              "319791  0.018286  0.587523        -0.068097 -0.03774       -0.112390   \n",
              "319792 -0.049323 -0.412477        -0.068097 -0.03774       -0.112390   \n",
              "319793  0.054142 -0.412477        -0.068097 -0.03774       -0.112390   \n",
              "319794  0.220145 -0.412477        -0.068097 -0.03774       -0.112390   \n",
              "\n",
              "        MentalHealth  DiffWalking       Sex  AgeCategory      Race  Diabetic  \\\n",
              "0           0.870054     -0.13887  0.475273     0.044818  0.120652  0.268666   \n",
              "1          -0.129946     -0.13887  0.475273     0.434648  0.120652 -0.064667   \n",
              "2           0.870054     -0.13887 -0.524727     0.214309  0.120652  0.268666   \n",
              "3          -0.129946     -0.13887  0.475273     0.383801  0.120652 -0.064667   \n",
              "4          -0.129946      0.86113  0.475273    -0.209420  0.120652 -0.064667   \n",
              "...              ...          ...       ...          ...       ...       ...   \n",
              "319790     -0.129946      0.86113 -0.524727     0.129563 -0.279348  0.268666   \n",
              "319791     -0.129946     -0.13887 -0.524727    -0.294165 -0.279348 -0.064667   \n",
              "319792     -0.129946     -0.13887  0.475273    -0.124674 -0.279348 -0.064667   \n",
              "319793     -0.129946     -0.13887  0.475273    -0.463657 -0.279348 -0.064667   \n",
              "319794     -0.129946     -0.13887  0.475273     0.434648 -0.279348 -0.064667   \n",
              "\n",
              "        PhysicalActivity  GenHealth  SleepTime    Asthma  KidneyDisease  \\\n",
              "0               0.224638   0.101243  -0.091177  0.865939      -0.036833   \n",
              "1               0.224638   0.101243  -0.004221 -0.134061      -0.036833   \n",
              "2               0.224638  -0.398757   0.039258  0.865939      -0.036833   \n",
              "3              -0.775362  -0.148757  -0.047699 -0.134061      -0.036833   \n",
              "4               0.224638   0.101243   0.039258 -0.134061      -0.036833   \n",
              "...                  ...        ...        ...       ...            ...   \n",
              "319790         -0.775362  -0.398757  -0.047699  0.865939      -0.036833   \n",
              "319791          0.224638   0.101243  -0.091177  0.865939      -0.036833   \n",
              "319792          0.224638  -0.148757  -0.047699 -0.134061      -0.036833   \n",
              "319793         -0.775362  -0.148757   0.213171 -0.134061      -0.036833   \n",
              "319794          0.224638  -0.148757   0.039258 -0.134061      -0.036833   \n",
              "\n",
              "        SkinCancer  \n",
              "0         0.906756  \n",
              "1        -0.093244  \n",
              "2        -0.093244  \n",
              "3         0.906756  \n",
              "4        -0.093244  \n",
              "...            ...  \n",
              "319790   -0.093244  \n",
              "319791   -0.093244  \n",
              "319792   -0.093244  \n",
              "319793   -0.093244  \n",
              "319794   -0.093244  \n",
              "\n",
              "[319795 rows x 17 columns]"
            ],
            "text/html": [
              "\n",
              "  <div id=\"df-f3613bfd-40bc-40d9-b495-c624f06905f6\">\n",
              "    <div class=\"colab-df-container\">\n",
              "      <div>\n",
              "<style scoped>\n",
              "    .dataframe tbody tr th:only-of-type {\n",
              "        vertical-align: middle;\n",
              "    }\n",
              "\n",
              "    .dataframe tbody tr th {\n",
              "        vertical-align: top;\n",
              "    }\n",
              "\n",
              "    .dataframe thead th {\n",
              "        text-align: right;\n",
              "    }\n",
              "</style>\n",
              "<table border=\"1\" class=\"dataframe\">\n",
              "  <thead>\n",
              "    <tr style=\"text-align: right;\">\n",
              "      <th></th>\n",
              "      <th>BMI</th>\n",
              "      <th>Smoking</th>\n",
              "      <th>AlcoholDrinking</th>\n",
              "      <th>Stroke</th>\n",
              "      <th>PhysicalHealth</th>\n",
              "      <th>MentalHealth</th>\n",
              "      <th>DiffWalking</th>\n",
              "      <th>Sex</th>\n",
              "      <th>AgeCategory</th>\n",
              "      <th>Race</th>\n",
              "      <th>Diabetic</th>\n",
              "      <th>PhysicalActivity</th>\n",
              "      <th>GenHealth</th>\n",
              "      <th>SleepTime</th>\n",
              "      <th>Asthma</th>\n",
              "      <th>KidneyDisease</th>\n",
              "      <th>SkinCancer</th>\n",
              "    </tr>\n",
              "  </thead>\n",
              "  <tbody>\n",
              "    <tr>\n",
              "      <th>0</th>\n",
              "      <td>-0.141560</td>\n",
              "      <td>0.587523</td>\n",
              "      <td>-0.068097</td>\n",
              "      <td>-0.03774</td>\n",
              "      <td>-0.012390</td>\n",
              "      <td>0.870054</td>\n",
              "      <td>-0.13887</td>\n",
              "      <td>0.475273</td>\n",
              "      <td>0.044818</td>\n",
              "      <td>0.120652</td>\n",
              "      <td>0.268666</td>\n",
              "      <td>0.224638</td>\n",
              "      <td>0.101243</td>\n",
              "      <td>-0.091177</td>\n",
              "      <td>0.865939</td>\n",
              "      <td>-0.036833</td>\n",
              "      <td>0.906756</td>\n",
              "    </tr>\n",
              "    <tr>\n",
              "      <th>1</th>\n",
              "      <td>-0.096407</td>\n",
              "      <td>-0.412477</td>\n",
              "      <td>-0.068097</td>\n",
              "      <td>0.96226</td>\n",
              "      <td>-0.112390</td>\n",
              "      <td>-0.129946</td>\n",
              "      <td>-0.13887</td>\n",
              "      <td>0.475273</td>\n",
              "      <td>0.434648</td>\n",
              "      <td>0.120652</td>\n",
              "      <td>-0.064667</td>\n",
              "      <td>0.224638</td>\n",
              "      <td>0.101243</td>\n",
              "      <td>-0.004221</td>\n",
              "      <td>-0.134061</td>\n",
              "      <td>-0.036833</td>\n",
              "      <td>-0.093244</td>\n",
              "    </tr>\n",
              "    <tr>\n",
              "      <th>2</th>\n",
              "      <td>-0.021072</td>\n",
              "      <td>0.587523</td>\n",
              "      <td>-0.068097</td>\n",
              "      <td>-0.03774</td>\n",
              "      <td>0.554276</td>\n",
              "      <td>0.870054</td>\n",
              "      <td>-0.13887</td>\n",
              "      <td>-0.524727</td>\n",
              "      <td>0.214309</td>\n",
              "      <td>0.120652</td>\n",
              "      <td>0.268666</td>\n",
              "      <td>0.224638</td>\n",
              "      <td>-0.398757</td>\n",
              "      <td>0.039258</td>\n",
              "      <td>0.865939</td>\n",
              "      <td>-0.036833</td>\n",
              "      <td>-0.093244</td>\n",
              "    </tr>\n",
              "    <tr>\n",
              "      <th>3</th>\n",
              "      <td>-0.049685</td>\n",
              "      <td>-0.412477</td>\n",
              "      <td>-0.068097</td>\n",
              "      <td>-0.03774</td>\n",
              "      <td>-0.112390</td>\n",
              "      <td>-0.129946</td>\n",
              "      <td>-0.13887</td>\n",
              "      <td>0.475273</td>\n",
              "      <td>0.383801</td>\n",
              "      <td>0.120652</td>\n",
              "      <td>-0.064667</td>\n",
              "      <td>-0.775362</td>\n",
              "      <td>-0.148757</td>\n",
              "      <td>-0.047699</td>\n",
              "      <td>-0.134061</td>\n",
              "      <td>-0.036833</td>\n",
              "      <td>0.906756</td>\n",
              "    </tr>\n",
              "    <tr>\n",
              "      <th>4</th>\n",
              "      <td>-0.055721</td>\n",
              "      <td>-0.412477</td>\n",
              "      <td>-0.068097</td>\n",
              "      <td>-0.03774</td>\n",
              "      <td>0.820943</td>\n",
              "      <td>-0.129946</td>\n",
              "      <td>0.86113</td>\n",
              "      <td>0.475273</td>\n",
              "      <td>-0.209420</td>\n",
              "      <td>0.120652</td>\n",
              "      <td>-0.064667</td>\n",
              "      <td>0.224638</td>\n",
              "      <td>0.101243</td>\n",
              "      <td>0.039258</td>\n",
              "      <td>-0.134061</td>\n",
              "      <td>-0.036833</td>\n",
              "      <td>-0.093244</td>\n",
              "    </tr>\n",
              "    <tr>\n",
              "      <th>...</th>\n",
              "      <td>...</td>\n",
              "      <td>...</td>\n",
              "      <td>...</td>\n",
              "      <td>...</td>\n",
              "      <td>...</td>\n",
              "      <td>...</td>\n",
              "      <td>...</td>\n",
              "      <td>...</td>\n",
              "      <td>...</td>\n",
              "      <td>...</td>\n",
              "      <td>...</td>\n",
              "      <td>...</td>\n",
              "      <td>...</td>\n",
              "      <td>...</td>\n",
              "      <td>...</td>\n",
              "      <td>...</td>\n",
              "      <td>...</td>\n",
              "    </tr>\n",
              "    <tr>\n",
              "      <th>319790</th>\n",
              "      <td>-0.011052</td>\n",
              "      <td>0.587523</td>\n",
              "      <td>-0.068097</td>\n",
              "      <td>-0.03774</td>\n",
              "      <td>0.120943</td>\n",
              "      <td>-0.129946</td>\n",
              "      <td>0.86113</td>\n",
              "      <td>-0.524727</td>\n",
              "      <td>0.129563</td>\n",
              "      <td>-0.279348</td>\n",
              "      <td>0.268666</td>\n",
              "      <td>-0.775362</td>\n",
              "      <td>-0.398757</td>\n",
              "      <td>-0.047699</td>\n",
              "      <td>0.865939</td>\n",
              "      <td>-0.036833</td>\n",
              "      <td>-0.093244</td>\n",
              "    </tr>\n",
              "    <tr>\n",
              "      <th>319791</th>\n",
              "      <td>0.018286</td>\n",
              "      <td>0.587523</td>\n",
              "      <td>-0.068097</td>\n",
              "      <td>-0.03774</td>\n",
              "      <td>-0.112390</td>\n",
              "      <td>-0.129946</td>\n",
              "      <td>-0.13887</td>\n",
              "      <td>-0.524727</td>\n",
              "      <td>-0.294165</td>\n",
              "      <td>-0.279348</td>\n",
              "      <td>-0.064667</td>\n",
              "      <td>0.224638</td>\n",
              "      <td>0.101243</td>\n",
              "      <td>-0.091177</td>\n",
              "      <td>0.865939</td>\n",
              "      <td>-0.036833</td>\n",
              "      <td>-0.093244</td>\n",
              "    </tr>\n",
              "    <tr>\n",
              "      <th>319792</th>\n",
              "      <td>-0.049323</td>\n",
              "      <td>-0.412477</td>\n",
              "      <td>-0.068097</td>\n",
              "      <td>-0.03774</td>\n",
              "      <td>-0.112390</td>\n",
              "      <td>-0.129946</td>\n",
              "      <td>-0.13887</td>\n",
              "      <td>0.475273</td>\n",
              "      <td>-0.124674</td>\n",
              "      <td>-0.279348</td>\n",
              "      <td>-0.064667</td>\n",
              "      <td>0.224638</td>\n",
              "      <td>-0.148757</td>\n",
              "      <td>-0.047699</td>\n",
              "      <td>-0.134061</td>\n",
              "      <td>-0.036833</td>\n",
              "      <td>-0.093244</td>\n",
              "    </tr>\n",
              "    <tr>\n",
              "      <th>319793</th>\n",
              "      <td>0.054142</td>\n",
              "      <td>-0.412477</td>\n",
              "      <td>-0.068097</td>\n",
              "      <td>-0.03774</td>\n",
              "      <td>-0.112390</td>\n",
              "      <td>-0.129946</td>\n",
              "      <td>-0.13887</td>\n",
              "      <td>0.475273</td>\n",
              "      <td>-0.463657</td>\n",
              "      <td>-0.279348</td>\n",
              "      <td>-0.064667</td>\n",
              "      <td>-0.775362</td>\n",
              "      <td>-0.148757</td>\n",
              "      <td>0.213171</td>\n",
              "      <td>-0.134061</td>\n",
              "      <td>-0.036833</td>\n",
              "      <td>-0.093244</td>\n",
              "    </tr>\n",
              "    <tr>\n",
              "      <th>319794</th>\n",
              "      <td>0.220145</td>\n",
              "      <td>-0.412477</td>\n",
              "      <td>-0.068097</td>\n",
              "      <td>-0.03774</td>\n",
              "      <td>-0.112390</td>\n",
              "      <td>-0.129946</td>\n",
              "      <td>-0.13887</td>\n",
              "      <td>0.475273</td>\n",
              "      <td>0.434648</td>\n",
              "      <td>-0.279348</td>\n",
              "      <td>-0.064667</td>\n",
              "      <td>0.224638</td>\n",
              "      <td>-0.148757</td>\n",
              "      <td>0.039258</td>\n",
              "      <td>-0.134061</td>\n",
              "      <td>-0.036833</td>\n",
              "      <td>-0.093244</td>\n",
              "    </tr>\n",
              "  </tbody>\n",
              "</table>\n",
              "<p>319795 rows × 17 columns</p>\n",
              "</div>\n",
              "      <button class=\"colab-df-convert\" onclick=\"convertToInteractive('df-f3613bfd-40bc-40d9-b495-c624f06905f6')\"\n",
              "              title=\"Convert this dataframe to an interactive table.\"\n",
              "              style=\"display:none;\">\n",
              "        \n",
              "  <svg xmlns=\"http://www.w3.org/2000/svg\" height=\"24px\"viewBox=\"0 0 24 24\"\n",
              "       width=\"24px\">\n",
              "    <path d=\"M0 0h24v24H0V0z\" fill=\"none\"/>\n",
              "    <path d=\"M18.56 5.44l.94 2.06.94-2.06 2.06-.94-2.06-.94-.94-2.06-.94 2.06-2.06.94zm-11 1L8.5 8.5l.94-2.06 2.06-.94-2.06-.94L8.5 2.5l-.94 2.06-2.06.94zm10 10l.94 2.06.94-2.06 2.06-.94-2.06-.94-.94-2.06-.94 2.06-2.06.94z\"/><path d=\"M17.41 7.96l-1.37-1.37c-.4-.4-.92-.59-1.43-.59-.52 0-1.04.2-1.43.59L10.3 9.45l-7.72 7.72c-.78.78-.78 2.05 0 2.83L4 21.41c.39.39.9.59 1.41.59.51 0 1.02-.2 1.41-.59l7.78-7.78 2.81-2.81c.8-.78.8-2.07 0-2.86zM5.41 20L4 18.59l7.72-7.72 1.47 1.35L5.41 20z\"/>\n",
              "  </svg>\n",
              "      </button>\n",
              "      \n",
              "  <style>\n",
              "    .colab-df-container {\n",
              "      display:flex;\n",
              "      flex-wrap:wrap;\n",
              "      gap: 12px;\n",
              "    }\n",
              "\n",
              "    .colab-df-convert {\n",
              "      background-color: #E8F0FE;\n",
              "      border: none;\n",
              "      border-radius: 50%;\n",
              "      cursor: pointer;\n",
              "      display: none;\n",
              "      fill: #1967D2;\n",
              "      height: 32px;\n",
              "      padding: 0 0 0 0;\n",
              "      width: 32px;\n",
              "    }\n",
              "\n",
              "    .colab-df-convert:hover {\n",
              "      background-color: #E2EBFA;\n",
              "      box-shadow: 0px 1px 2px rgba(60, 64, 67, 0.3), 0px 1px 3px 1px rgba(60, 64, 67, 0.15);\n",
              "      fill: #174EA6;\n",
              "    }\n",
              "\n",
              "    [theme=dark] .colab-df-convert {\n",
              "      background-color: #3B4455;\n",
              "      fill: #D2E3FC;\n",
              "    }\n",
              "\n",
              "    [theme=dark] .colab-df-convert:hover {\n",
              "      background-color: #434B5C;\n",
              "      box-shadow: 0px 1px 3px 1px rgba(0, 0, 0, 0.15);\n",
              "      filter: drop-shadow(0px 1px 2px rgba(0, 0, 0, 0.3));\n",
              "      fill: #FFFFFF;\n",
              "    }\n",
              "  </style>\n",
              "\n",
              "      <script>\n",
              "        const buttonEl =\n",
              "          document.querySelector('#df-f3613bfd-40bc-40d9-b495-c624f06905f6 button.colab-df-convert');\n",
              "        buttonEl.style.display =\n",
              "          google.colab.kernel.accessAllowed ? 'block' : 'none';\n",
              "\n",
              "        async function convertToInteractive(key) {\n",
              "          const element = document.querySelector('#df-f3613bfd-40bc-40d9-b495-c624f06905f6');\n",
              "          const dataTable =\n",
              "            await google.colab.kernel.invokeFunction('convertToInteractive',\n",
              "                                                     [key], {});\n",
              "          if (!dataTable) return;\n",
              "\n",
              "          const docLinkHtml = 'Like what you see? Visit the ' +\n",
              "            '<a target=\"_blank\" href=https://colab.research.google.com/notebooks/data_table.ipynb>data table notebook</a>'\n",
              "            + ' to learn more about interactive tables.';\n",
              "          element.innerHTML = '';\n",
              "          dataTable['output_type'] = 'display_data';\n",
              "          await google.colab.output.renderOutput(dataTable, element);\n",
              "          const docLink = document.createElement('div');\n",
              "          docLink.innerHTML = docLinkHtml;\n",
              "          element.appendChild(docLink);\n",
              "        }\n",
              "      </script>\n",
              "    </div>\n",
              "  </div>\n",
              "  "
            ]
          },
          "metadata": {},
          "execution_count": 14
        }
      ],
      "source": [
        "datos1 = datos.drop(['HeartDisease'],axis=1) #Eliminando el atributo de decisión \n",
        "#Ajustar los datos restando la media a cada atributo\n",
        "datos_A = pd.DataFrame(columns=datos1.columns,index=range(len(datos1)))\n",
        "for i in datos_A.columns:\n",
        "    datos_A[i] = datos1[i] - datos1[i].mean()    \n",
        "datos_A"
      ]
    },
    {
      "cell_type": "code",
      "execution_count": null,
      "metadata": {
        "id": "UZXHDoQ7eMc3"
      },
      "outputs": [],
      "source": [
        "matrix = matriz_cov(datos_A)"
      ]
    },
    {
      "cell_type": "code",
      "source": [
        "sns.heatmap(matrix)"
      ],
      "metadata": {
        "colab": {
          "base_uri": "https://localhost:8080/",
          "height": 282
        },
        "id": "DZ-mR0R7SIRq",
        "outputId": "6c984283-7196-4e48-aea0-d60ca5c40c0b"
      },
      "execution_count": null,
      "outputs": [
        {
          "output_type": "execute_result",
          "data": {
            "text/plain": [
              "<matplotlib.axes._subplots.AxesSubplot at 0x7fe25784ee50>"
            ]
          },
          "metadata": {},
          "execution_count": 16
        },
        {
          "output_type": "display_data",
          "data": {
            "text/plain": [
              "<Figure size 432x288 with 2 Axes>"
            ],
            "image/png": "[encoded data removed]"
          },
          "metadata": {
            "needs_background": "light"
          }
        }
      ]
    },
    {
      "cell_type": "code",
      "execution_count": null,
      "metadata": {
        "id": "XiG5iroReMc4"
      },
      "outputs": [],
      "source": [
        "L,V =  np.linalg.eig(matrix)"
      ]
    },
    {
      "cell_type": "code",
      "execution_count": null,
      "metadata": {
        "id": "DnWhW2CveMc4",
        "outputId": "eee4a47f-ff13-44df-8afb-b3120e8789ef",
        "colab": {
          "base_uri": "https://localhost:8080/"
        }
      },
      "outputs": [
        {
          "output_type": "execute_result",
          "data": {
            "text/plain": [
              "array([0.28757052, 0.26486332, 0.19009429, 0.12647297, 0.12404555,\n",
              "       0.09701111, 0.00529354, 0.00377293, 0.07360315, 0.0246463 ,\n",
              "       0.06187594, 0.05744162, 0.05385894, 0.04358201, 0.03576996,\n",
              "       0.03378655, 0.0324242 ])"
            ]
          },
          "metadata": {},
          "execution_count": 18
        }
      ],
      "source": [
        "#Eigenvalores\n",
        "L"
      ]
    },
    {
      "cell_type": "code",
      "execution_count": null,
      "metadata": {
        "id": "-yrSyy8XeMc4",
        "outputId": "44d73998-3109-4eab-cc44-4abe3d45fbe1",
        "colab": {
          "base_uri": "https://localhost:8080/"
        }
      },
      "outputs": [
        {
          "output_type": "stream",
          "name": "stdout",
          "text": [
            "BMI: 18.967619338273803\n",
            "Smoking: 17.469894312255377\n",
            "AlcoholDrinking: 12.538267815519616\n",
            "Stroke: 8.341922886205534\n",
            "PhysicalHealth: 8.181814868924251\n",
            "MentalHealth: 6.398673105506219\n",
            "DiffWalking: 0.34915183715675346\n",
            "Sex: 0.24885573324868074\n",
            "AgeCategory: 4.854727259823212\n",
            "Race: 1.6256240537731736\n",
            "Diabetic: 4.081222739746422\n",
            "PhysicalActivity: 3.788742891015641\n",
            "GenHealth: 3.552435740903239\n",
            "SleepTime: 2.8745883946506128\n",
            "Asthma: 2.3593203249524053\n",
            "KidneyDisease: 2.228498248851065\n",
            "SkinCancer: 2.138640449193989\n"
          ]
        }
      ],
      "source": [
        "#Obtener el porcentaje de covarianza de cada uno de los atributos\n",
        "total = L.sum()\n",
        "p = (L/total)*100\n",
        "columnas1 = datos_A.columns.values\n",
        "for index, row in enumerate(p):\n",
        "  print(columnas1[index] + ':',row)"
      ]
    },
    {
      "cell_type": "markdown",
      "metadata": {
        "id": "WTJObUaEeMc4"
      },
      "source": [
        "PCA muesttra que los únicos atributos que aportan mayor información son 10 de 17 atributos: BMI,Smoking,AlcoholDrinking,Stroke, PhysicalHealth, MentalHealth,AgeCategory,Diabetic,PhysicalActivity, GenHealth, SleepTime sumando una ganancia por encima del 90%. (91.04%)"
      ]
    },
    {
      "cell_type": "markdown",
      "metadata": {
        "id": "Bh4Bpg9ZeMc4"
      },
      "source": [
        "###  Datos de entrenamiento y prueba  "
      ]
    },
    {
      "cell_type": "code",
      "source": [
        "def method_8020(x,y):\n",
        "  train_x = x[0 : int(len(x)*0.8)]\n",
        "  train_y = y[0 : int(len(y)*0.8)]\n",
        "  test_x = x[int(len(x)*0.8) : ]\n",
        "  test_y = y[int(len(y)*0.8) : ]\n",
        "  return train_x, train_y, test_x, test_y"
      ],
      "metadata": {
        "id": "w6WguHH6XLRJ"
      },
      "execution_count": null,
      "outputs": []
    },
    {
      "cell_type": "code",
      "source": [
        "y = datos['HeartDisease']\n",
        "train_x, train_y, test_x, test_y = method_8020(datos,y)"
      ],
      "metadata": {
        "id": "b26bQ-OoXWua"
      },
      "execution_count": null,
      "outputs": []
    },
    {
      "cell_type": "code",
      "source": [
        "train_x = train_x[:230]\n",
        "train_y = train_y[:230]\n",
        "test_x = test_x[:230]\n",
        "test_y = test_y[:230]"
      ],
      "metadata": {
        "id": "HLS8G5oL45vH"
      },
      "execution_count": null,
      "outputs": []
    },
    {
      "cell_type": "markdown",
      "metadata": {
        "id": "X8MZwwyEeMc4"
      },
      "source": [
        "#### Matriz de confusión y métricas de evaluación"
      ]
    },
    {
      "cell_type": "code",
      "execution_count": null,
      "metadata": {
        "id": "Ycum-JRXeMc5"
      },
      "outputs": [],
      "source": [
        "#Función que obtiene las métricas del algoritmo para su validación\n",
        "def metricas(claseP,true_train):\n",
        "    TP = 0\n",
        "    FP = 0\n",
        "    TN = 0\n",
        "    FN = 0\n",
        "    #Determinar los TP,TN,FP y FN para la matriz de confusión del entrenamiento \n",
        "    for i in range(len(claseP)):\n",
        "        if (true_train[i] == claseP[i]) and true_train[i] == 1:\n",
        "            TP += 1\n",
        "        elif (true_train[i] == claseP[i]) and true_train[i] == 0:\n",
        "            TN += 1\n",
        "        elif (true_train[i] != claseP[i]) and true_train[i] == 0:\n",
        "            FP += 1\n",
        "        else:\n",
        "            FN += 1\n",
        "            \n",
        "    accuracy = ((TP+TN)/(TP+TN+FP+FN))\n",
        "   \n",
        "    if TP + FP != 0:\n",
        "        precision = TP/(TP+FP)\n",
        "    else:\n",
        "        precision = 0\n",
        "    if TP + FN != 0:\n",
        "        sensitividad = TP/(TP+FN)\n",
        "    else:\n",
        "        sensitividad = 0\n",
        "    if precision != 0 and sensitividad != 0:\n",
        "        f1 = (2*TP)/(2*TP+FP+FN)\n",
        "    else:\n",
        "        f1 = 0\n",
        "    return [accuracy, precision, sensitividad, f1]"
      ]
    },
    {
      "cell_type": "code",
      "source": [
        "# Calculate the Euclidean distance between two vectors\n",
        "def euclidean_distance(row1, row2):\n",
        "\tdistance = 0.0 \n",
        "\tfor i in range(len(row1)-1):\t\t\t\t\t\t\t\t\t\t#for k in range(23)\n",
        "\t\tdistance += (row1[i] - row2[i])**2\n",
        "\treturn sqrt(distance)"
      ],
      "metadata": {
        "id": "qlQyAyL29M76"
      },
      "execution_count": null,
      "outputs": []
    },
    {
      "cell_type": "code",
      "source": [
        "def get_neighbors(k,distances_ord):\n",
        "  neighbors = list()\n",
        "  indices = list()\n",
        "  for i in range(k):\n",
        "    neighbors.append(distances_ord[i][0])\n",
        "    indices.append(distances_ord[i][1])\n",
        "  return neighbors,indices"
      ],
      "metadata": {
        "id": "4-tTh_CWFSiN"
      },
      "execution_count": null,
      "outputs": []
    },
    {
      "cell_type": "code",
      "source": [
        "def most_common(output_values):\n",
        "    return max(set(output_values), key=output_values.count)"
      ],
      "metadata": {
        "id": "jZz1KqWPLTlh"
      },
      "execution_count": null,
      "outputs": []
    },
    {
      "cell_type": "code",
      "execution_count": null,
      "metadata": {
        "id": "K1E4QSMBeMc5"
      },
      "outputs": [],
      "source": [
        "#entrenamiento del modelo\n",
        "def predict_classification(x,y, k):\n",
        "    predict = []\n",
        "    for j in range(0,len(x)):\n",
        "        # Inicializacion de las distancias.\n",
        "        distances = []\n",
        "        x = np.array(x)\n",
        "        for i ,example in enumerate(x):\n",
        "            distance = euclidean_distance(example,x[j])# Calculate the Euclidean distance between two vectors\n",
        "            distances.append((distance, i))\n",
        "        distances.pop(j)\n",
        "        distances_ord = sorted(distances)\n",
        "        neighbors,indices = get_neighbors(k,distances_ord)\n",
        "        output_values = y.iloc[indices]\n",
        "        output_values = output_values.to_numpy().tolist()\n",
        "        predict.append(most_common(output_values))\n",
        "    return predict"
      ]
    },
    {
      "cell_type": "markdown",
      "metadata": {
        "id": "qBHO4nhpeMc5"
      },
      "source": [
        "### Clasificación de sobrevivientes utilizando todos los atributos"
      ]
    },
    {
      "cell_type": "code",
      "execution_count": null,
      "metadata": {
        "id": "CM6SIXQoeMc5"
      },
      "outputs": [],
      "source": [
        "error_rate = []\n",
        "\n",
        "n = int(len(train_x)/20)\n",
        "for k in range(2,n):\n",
        "    pred_i = predict_classification(train_x.values.tolist(),train_y,k) \n",
        "    #print(pred_i)\n",
        "    error_rate.append(np.mean(pred_i != train_y))"
      ]
    },
    {
      "cell_type": "code",
      "execution_count": null,
      "metadata": {
        "id": "SFXskzCueMc5",
        "outputId": "cd381c29-8461-4ee6-8e4d-c2077e40816a",
        "colab": {
          "base_uri": "https://localhost:8080/",
          "height": 421
        }
      },
      "outputs": [
        {
          "output_type": "execute_result",
          "data": {
            "text/plain": [
              "Text(0, 0.5, 'Error Rate')"
            ]
          },
          "metadata": {},
          "execution_count": 29
        },
        {
          "output_type": "display_data",
          "data": {
            "text/plain": [
              "<Figure size 720x432 with 1 Axes>"
            ],
            "image/png": "[encoded data removed]"
          },
          "metadata": {
            "needs_background": "light"
          }
        }
      ],
      "source": [
        "plt.figure(figsize=(10,6))\n",
        "plt.plot(range(2,n),error_rate,color='blue', linestyle='dashed', marker='o',\n",
        "markerfacecolor='red', markersize=10)\n",
        "plt.title('Error Rate vs. K Value')\n",
        "plt.xlabel('K')\n",
        "plt.ylabel('Error Rate')"
      ]
    },
    {
      "cell_type": "markdown",
      "metadata": {
        "id": "Et5FMcUHeMc5"
      },
      "source": [
        "##### Entrenamiento "
      ]
    },
    {
      "cell_type": "code",
      "execution_count": null,
      "metadata": {
        "id": "25M7IeBreMc6",
        "outputId": "821aba6b-1f0d-40af-e287-e280b14bf10e",
        "colab": {
          "base_uri": "https://localhost:8080/"
        }
      },
      "outputs": [
        {
          "output_type": "stream",
          "name": "stdout",
          "text": [
            "Tiempo de entrenamiento:1.5585367679595947\n"
          ]
        }
      ],
      "source": [
        "inicio = time.time()\n",
        "train_pred = predict_classification(train_x.values.tolist(),train_y,3)\n",
        "final = time.time()\n",
        "print('Tiempo de entrenamiento:' + str(final-inicio))"
      ]
    },
    {
      "cell_type": "code",
      "execution_count": null,
      "metadata": {
        "id": "dGmMZ8O5eMc6",
        "outputId": "4cc8ec2f-097b-403c-f84c-0f3e82ec552f",
        "colab": {
          "base_uri": "https://localhost:8080/"
        }
      },
      "outputs": [
        {
          "output_type": "stream",
          "name": "stdout",
          "text": [
            "Exactitud:  0.9652173913043478\n",
            "Precisión:  1.0\n",
            "Sensitividad:  0.6923076923076923\n",
            "f1 Score:  0.8181818181818182\n"
          ]
        }
      ],
      "source": [
        "accuracy, precision, sensitividad, f1 = metricas(train_pred,np.array(train_y))\n",
        "\n",
        "print('Exactitud: ',accuracy)\n",
        "print('Precisión: ',precision)\n",
        "print('Sensitividad: ',sensitividad)\n",
        "print('f1 Score: ',f1)"
      ]
    },
    {
      "cell_type": "markdown",
      "metadata": {
        "id": "WdCV9UdXeMc6"
      },
      "source": [
        "#### Prueba del algoritmo "
      ]
    },
    {
      "cell_type": "code",
      "execution_count": null,
      "metadata": {
        "id": "7beP-2FFeMc6"
      },
      "outputs": [],
      "source": [
        "y_pred= predict_classification(test_x.values.tolist(),test_y,3)"
      ]
    },
    {
      "cell_type": "code",
      "execution_count": null,
      "metadata": {
        "id": "DzYKAe_reMc6",
        "outputId": "05ba8c8f-59c2-4024-e88e-c5c2883d64b7",
        "colab": {
          "base_uri": "https://localhost:8080/"
        }
      },
      "outputs": [
        {
          "output_type": "stream",
          "name": "stdout",
          "text": [
            "Exactitud:  0.9826086956521739\n",
            "Precisión:  1.0\n",
            "Sensitividad:  0.7333333333333333\n",
            "f1 Score:  0.8461538461538461\n"
          ]
        }
      ],
      "source": [
        "accuracy, precision, sensitividad, f1 = metricas(y_pred,np.array(test_y))\n",
        "\n",
        "print('Exactitud: ',accuracy)\n",
        "print('Precisión: ',precision)\n",
        "print('Sensitividad: ',sensitividad)\n",
        "print('f1 Score: ',f1)"
      ]
    },
    {
      "cell_type": "markdown",
      "metadata": {
        "id": "4WcrIVGBeMc6"
      },
      "source": [
        "### Clasificación de HeartDisease PCA"
      ]
    },
    {
      "cell_type": "code",
      "execution_count": null,
      "metadata": {
        "id": "6GmrVuFGeMc6"
      },
      "outputs": [],
      "source": [
        "error_rate = []\n",
        "\n",
        "n = int(len(train_x)/20)\n",
        "for k in range(2,n):\n",
        "    pred_i = predict_classification(train_x.loc[:,['BMI','Smoking','AlcoholDrinking','Stroke','PhysicalHealth','MentalHealth','AgeCategory','Diabetic','GenHealth','PhysicalActivity','SleepTime']].values.tolist(),train_y,k) #checar función\n",
        "    error_rate.append(np.mean(pred_i != train_y))"
      ]
    },
    {
      "cell_type": "code",
      "execution_count": null,
      "metadata": {
        "id": "1PoNn77veMc6",
        "outputId": "c36305f4-d47e-415a-e148-ef19886187a1",
        "colab": {
          "base_uri": "https://localhost:8080/",
          "height": 421
        }
      },
      "outputs": [
        {
          "output_type": "execute_result",
          "data": {
            "text/plain": [
              "Text(0, 0.5, 'Error Rate')"
            ]
          },
          "metadata": {},
          "execution_count": 42
        },
        {
          "output_type": "display_data",
          "data": {
            "text/plain": [
              "<Figure size 720x432 with 1 Axes>"
            ],
            "image/png": "[encoded data removed]"
          },
          "metadata": {
            "needs_background": "light"
          }
        }
      ],
      "source": [
        "plt.figure(figsize=(10,6))\n",
        "plt.plot(range(2,n),error_rate,color='blue', linestyle='dashed', marker='o',\n",
        "markerfacecolor='red', markersize=10)\n",
        "plt.title('Error Rate vs. K Value')\n",
        "plt.xlabel('K')\n",
        "plt.ylabel('Error Rate')"
      ]
    },
    {
      "cell_type": "markdown",
      "metadata": {
        "id": "K05mz4ULeMc6"
      },
      "source": [
        "#### Entrenamiento"
      ]
    },
    {
      "cell_type": "code",
      "execution_count": null,
      "metadata": {
        "id": "Yr1tJ4PteMc7",
        "outputId": "ee783cd7-6bf3-4f76-9fd7-e8712aeb342c",
        "colab": {
          "base_uri": "https://localhost:8080/"
        }
      },
      "outputs": [
        {
          "output_type": "stream",
          "name": "stdout",
          "text": [
            "Tiempo de entrenamiento:0.4782695770263672\n"
          ]
        }
      ],
      "source": [
        "x = train_x.loc[:,['BMI','Smoking','AlcoholDrinking','Stroke','PhysicalHealth','MentalHealth','AgeCategory','Diabetic','GenHealth','PhysicalActivity','SleepTime']].values.tolist()\n",
        "inicio = time.time()\n",
        "train_pred = predict_classification(x,train_y,4)\n",
        "final = time.time()\n",
        "print('Tiempo de entrenamiento:' + str(final-inicio))"
      ]
    },
    {
      "cell_type": "code",
      "execution_count": null,
      "metadata": {
        "id": "CFrS-AOGeMc7",
        "outputId": "c615f71d-9ee9-4770-cb5d-000d097d82ef",
        "colab": {
          "base_uri": "https://localhost:8080/"
        }
      },
      "outputs": [
        {
          "output_type": "stream",
          "name": "stdout",
          "text": [
            "Exactitud:  0.8956521739130435\n",
            "Precisión:  1.0\n",
            "Sensitividad:  0.07692307692307693\n",
            "f1 Score:  0.14285714285714285\n"
          ]
        }
      ],
      "source": [
        "accuracy, precision, sensitividad, f1 = metricas(train_pred,np.array(train_y))\n",
        "\n",
        "print('Exactitud: ',accuracy)\n",
        "print('Precisión: ',precision)\n",
        "print('Sensitividad: ',sensitividad)\n",
        "print('f1 Score: ',f1)"
      ]
    },
    {
      "cell_type": "markdown",
      "metadata": {
        "id": "PZicYixfeMc7"
      },
      "source": [
        "#### Testing "
      ]
    },
    {
      "cell_type": "code",
      "execution_count": null,
      "metadata": {
        "id": "rxom1YafeMc7"
      },
      "outputs": [],
      "source": [
        "y_pred2= predict_classification(test_x.loc[:,['BMI','Smoking','AlcoholDrinking','Stroke','PhysicalHealth','MentalHealth','AgeCategory','Diabetic','GenHealth','PhysicalActivity','SleepTime']],test_y,4)"
      ]
    },
    {
      "cell_type": "code",
      "execution_count": null,
      "metadata": {
        "id": "qSxKivR1eMc7",
        "outputId": "c9b27d5d-1595-4a56-925a-7bbcd9b433a5",
        "colab": {
          "base_uri": "https://localhost:8080/"
        }
      },
      "outputs": [
        {
          "output_type": "stream",
          "name": "stdout",
          "text": [
            "Exactitud:  0.9304347826086956\n",
            "Precisión:  0.4\n",
            "Sensitividad:  0.13333333333333333\n",
            "f1 Score:  0.2\n"
          ]
        }
      ],
      "source": [
        "accuracy, precision, sensitividad, f1 = metricas(y_pred2,np.array(test_y))\n",
        "\n",
        "print('Exactitud: ',accuracy)\n",
        "print('Precisión: ',precision)\n",
        "print('Sensitividad: ',sensitividad)\n",
        "print('f1 Score: ',f1)"
      ]
    }
  ],
  "metadata": {
    "kernelspec": {
      "display_name": "Python 3",
      "language": "python",
      "name": "python3"
    },
    "language_info": {
      "codemirror_mode": {
        "name": "ipython",
        "version": 3
      },
      "file_extension": ".py",
      "mimetype": "text/x-python",
      "name": "python",
      "nbconvert_exporter": "python",
      "pygments_lexer": "ipython3",
      "version": "3.7.6"
    },
    "colab": {
      "provenance": [],
      "collapsed_sections": [
        "yzvIf3bqPDc5",
        "K05mz4ULeMc6"
      ]
    }
  },
  "nbformat": 4,
  "nbformat_minor": 0
}