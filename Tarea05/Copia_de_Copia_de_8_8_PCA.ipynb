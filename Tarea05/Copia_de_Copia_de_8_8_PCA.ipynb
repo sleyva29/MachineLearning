{
 "cells": [
  {
   "cell_type": "markdown",
   "metadata": {
    "id": "swf_gGCDeMcw"
   },
   "source": [
    "## Análisis de componentes principales: PCA"
   ]
  },
  {
   "cell_type": "markdown",
   "metadata": {
    "id": "yzvIf3bqPDc5"
   },
   "source": [
    "### Librerías"
   ]
  },
  {
   "cell_type": "code",
   "execution_count": 1,
   "metadata": {
    "id": "5DRPVYcieMcx"
   },
   "outputs": [],
   "source": [
    "import numpy as np\n",
    "import pandas as pd\n",
    "import math\n",
    "import matplotlib.pyplot as plt\n",
    "import time\n",
    "from collections import Counter\n",
    "from math import sqrt\n",
    "import seaborn as sns\n",
    "from tqdm import tqdm"
   ]
  },
  {
   "cell_type": "markdown",
   "metadata": {
    "id": "ntK9rNR8PLOb"
   },
   "source": [
    "### Recolectar"
   ]
  },
  {
   "cell_type": "code",
   "execution_count": 2,
   "metadata": {
    "colab": {
     "base_uri": "https://localhost:8080/",
     "height": 270
    },
    "id": "vz6Aif8t0qOc",
    "outputId": "7e47a974-ee00-4607-ab3f-ac188178560c"
   },
   "outputs": [
    {
     "data": {
      "text/html": [
       "<div>\n",
       "<style scoped>\n",
       "    .dataframe tbody tr th:only-of-type {\n",
       "        vertical-align: middle;\n",
       "    }\n",
       "\n",
       "    .dataframe tbody tr th {\n",
       "        vertical-align: top;\n",
       "    }\n",
       "\n",
       "    .dataframe thead th {\n",
       "        text-align: right;\n",
       "    }\n",
       "</style>\n",
       "<table border=\"1\" class=\"dataframe\">\n",
       "  <thead>\n",
       "    <tr style=\"text-align: right;\">\n",
       "      <th></th>\n",
       "      <th>HeartDisease</th>\n",
       "      <th>BMI</th>\n",
       "      <th>Smoking</th>\n",
       "      <th>AlcoholDrinking</th>\n",
       "      <th>Stroke</th>\n",
       "      <th>PhysicalHealth</th>\n",
       "      <th>MentalHealth</th>\n",
       "      <th>DiffWalking</th>\n",
       "      <th>Sex</th>\n",
       "      <th>AgeCategory</th>\n",
       "      <th>Race</th>\n",
       "      <th>Diabetic</th>\n",
       "      <th>PhysicalActivity</th>\n",
       "      <th>GenHealth</th>\n",
       "      <th>SleepTime</th>\n",
       "      <th>Asthma</th>\n",
       "      <th>KidneyDisease</th>\n",
       "      <th>SkinCancer</th>\n",
       "    </tr>\n",
       "  </thead>\n",
       "  <tbody>\n",
       "    <tr>\n",
       "      <th>0</th>\n",
       "      <td>No</td>\n",
       "      <td>16.60</td>\n",
       "      <td>Yes</td>\n",
       "      <td>No</td>\n",
       "      <td>No</td>\n",
       "      <td>3.0</td>\n",
       "      <td>30.0</td>\n",
       "      <td>No</td>\n",
       "      <td>Female</td>\n",
       "      <td>55-59</td>\n",
       "      <td>White</td>\n",
       "      <td>Yes</td>\n",
       "      <td>Yes</td>\n",
       "      <td>Very good</td>\n",
       "      <td>5.0</td>\n",
       "      <td>Yes</td>\n",
       "      <td>No</td>\n",
       "      <td>Yes</td>\n",
       "    </tr>\n",
       "    <tr>\n",
       "      <th>1</th>\n",
       "      <td>No</td>\n",
       "      <td>20.34</td>\n",
       "      <td>No</td>\n",
       "      <td>No</td>\n",
       "      <td>Yes</td>\n",
       "      <td>0.0</td>\n",
       "      <td>0.0</td>\n",
       "      <td>No</td>\n",
       "      <td>Female</td>\n",
       "      <td>80 or older</td>\n",
       "      <td>White</td>\n",
       "      <td>No</td>\n",
       "      <td>Yes</td>\n",
       "      <td>Very good</td>\n",
       "      <td>7.0</td>\n",
       "      <td>No</td>\n",
       "      <td>No</td>\n",
       "      <td>No</td>\n",
       "    </tr>\n",
       "    <tr>\n",
       "      <th>2</th>\n",
       "      <td>No</td>\n",
       "      <td>26.58</td>\n",
       "      <td>Yes</td>\n",
       "      <td>No</td>\n",
       "      <td>No</td>\n",
       "      <td>20.0</td>\n",
       "      <td>30.0</td>\n",
       "      <td>No</td>\n",
       "      <td>Male</td>\n",
       "      <td>65-69</td>\n",
       "      <td>White</td>\n",
       "      <td>Yes</td>\n",
       "      <td>Yes</td>\n",
       "      <td>Fair</td>\n",
       "      <td>8.0</td>\n",
       "      <td>Yes</td>\n",
       "      <td>No</td>\n",
       "      <td>No</td>\n",
       "    </tr>\n",
       "    <tr>\n",
       "      <th>3</th>\n",
       "      <td>No</td>\n",
       "      <td>24.21</td>\n",
       "      <td>No</td>\n",
       "      <td>No</td>\n",
       "      <td>No</td>\n",
       "      <td>0.0</td>\n",
       "      <td>0.0</td>\n",
       "      <td>No</td>\n",
       "      <td>Female</td>\n",
       "      <td>75-79</td>\n",
       "      <td>White</td>\n",
       "      <td>No</td>\n",
       "      <td>No</td>\n",
       "      <td>Good</td>\n",
       "      <td>6.0</td>\n",
       "      <td>No</td>\n",
       "      <td>No</td>\n",
       "      <td>Yes</td>\n",
       "    </tr>\n",
       "    <tr>\n",
       "      <th>4</th>\n",
       "      <td>No</td>\n",
       "      <td>23.71</td>\n",
       "      <td>No</td>\n",
       "      <td>No</td>\n",
       "      <td>No</td>\n",
       "      <td>28.0</td>\n",
       "      <td>0.0</td>\n",
       "      <td>Yes</td>\n",
       "      <td>Female</td>\n",
       "      <td>40-44</td>\n",
       "      <td>White</td>\n",
       "      <td>No</td>\n",
       "      <td>Yes</td>\n",
       "      <td>Very good</td>\n",
       "      <td>8.0</td>\n",
       "      <td>No</td>\n",
       "      <td>No</td>\n",
       "      <td>No</td>\n",
       "    </tr>\n",
       "  </tbody>\n",
       "</table>\n",
       "</div>"
      ],
      "text/plain": [
       "  HeartDisease    BMI Smoking AlcoholDrinking Stroke  PhysicalHealth  \\\n",
       "0           No  16.60     Yes              No     No             3.0   \n",
       "1           No  20.34      No              No    Yes             0.0   \n",
       "2           No  26.58     Yes              No     No            20.0   \n",
       "3           No  24.21      No              No     No             0.0   \n",
       "4           No  23.71      No              No     No            28.0   \n",
       "\n",
       "   MentalHealth DiffWalking     Sex  AgeCategory   Race Diabetic  \\\n",
       "0          30.0          No  Female        55-59  White      Yes   \n",
       "1           0.0          No  Female  80 or older  White       No   \n",
       "2          30.0          No    Male        65-69  White      Yes   \n",
       "3           0.0          No  Female        75-79  White       No   \n",
       "4           0.0         Yes  Female        40-44  White       No   \n",
       "\n",
       "  PhysicalActivity  GenHealth  SleepTime Asthma KidneyDisease SkinCancer  \n",
       "0              Yes  Very good        5.0    Yes            No        Yes  \n",
       "1              Yes  Very good        7.0     No            No         No  \n",
       "2              Yes       Fair        8.0    Yes            No         No  \n",
       "3               No       Good        6.0     No            No        Yes  \n",
       "4              Yes  Very good        8.0     No            No         No  "
      ]
     },
     "execution_count": 2,
     "metadata": {},
     "output_type": "execute_result"
    }
   ],
   "source": [
    "df = pd.read_csv('heart_2020_cleaned.csv')\n",
    "df.head()"
   ]
  },
  {
   "cell_type": "markdown",
   "metadata": {
    "id": "tXI0z2vH_tXF"
   },
   "source": [
    "### Preparar"
   ]
  },
  {
   "cell_type": "markdown",
   "metadata": {
    "id": "tAZhmCcpvz5j"
   },
   "source": [
    "Observaciones"
   ]
  },
  {
   "cell_type": "code",
   "execution_count": 3,
   "metadata": {
    "colab": {
     "base_uri": "https://localhost:8080/"
    },
    "id": "il7qqZiVD2Xy",
    "outputId": "81fcab2e-3195-4bcc-9ba9-bf5b8f7e1bb8"
   },
   "outputs": [
    {
     "data": {
      "text/plain": [
       "array(['Yes', 'No', 'No, borderline diabetes', 'Yes (during pregnancy)'],\n",
       "      dtype=object)"
      ]
     },
     "execution_count": 3,
     "metadata": {},
     "output_type": "execute_result"
    }
   ],
   "source": [
    "df['Diabetic'].unique()"
   ]
  },
  {
   "cell_type": "code",
   "execution_count": 4,
   "metadata": {
    "colab": {
     "base_uri": "https://localhost:8080/"
    },
    "id": "xYVd1aRdD4kf",
    "outputId": "d75e7513-d59f-48bd-c51e-96ba4eeac90e"
   },
   "outputs": [
    {
     "data": {
      "text/plain": [
       "array(['55-59', '80 or older', '65-69', '75-79', '40-44', '70-74',\n",
       "       '60-64', '50-54', '45-49', '18-24', '35-39', '30-34', '25-29'],\n",
       "      dtype=object)"
      ]
     },
     "execution_count": 4,
     "metadata": {},
     "output_type": "execute_result"
    }
   ],
   "source": [
    "df['AgeCategory'].unique()"
   ]
  },
  {
   "cell_type": "markdown",
   "metadata": {
    "id": "EZvkYi-9eMcy"
   },
   "source": [
    "Convertir las caracteristicas linguisticas a valores categoricos"
   ]
  },
  {
   "cell_type": "code",
   "execution_count": 5,
   "metadata": {
    "id": "YqFdcmWWeMcz"
   },
   "outputs": [],
   "source": [
    "datos = df.copy()\n",
    "datos =  datos[datos.columns].replace({'Male':0, 'Female':1})\n",
    "datos =  datos[datos.columns].replace({'Yes':1, 'No':0, 'No, borderline diabetes':2,'Yes (during pregnancy)':3 })\n",
    "datos =  datos[datos.columns].replace({'American Indian/Alaskan Native':1, 'Asian':2, 'Black':3,'Hispanic':4, 'Other':5, 'White':6 })\n",
    "encode_AgeCategory = {'55-59':57, '80 or older':80, '65-69':67,\n",
    "                      '75-79':77,'40-44':42,'70-74':72,'60-64':62,\n",
    "                      '50-54':52,'45-49':47,'18-24':21,'35-39':37,\n",
    "                      '30-34':32,'25-29':27}\n",
    "datos['AgeCategory'] = datos['AgeCategory'].apply(lambda x: encode_AgeCategory[x])\n",
    "datos['AgeCategory'] = datos['AgeCategory'].astype('float')\n",
    "datos =  datos[datos.columns].replace({'Excellent':4, 'Fair':1, 'Good':2,'Poor':0, 'Very good':3})"
   ]
  },
  {
   "cell_type": "code",
   "execution_count": 6,
   "metadata": {
    "colab": {
     "base_uri": "https://localhost:8080/",
     "height": 488
    },
    "id": "Tx9igElgIWzJ",
    "outputId": "29aed979-ea86-4249-904a-710fbf88db43"
   },
   "outputs": [
    {
     "data": {
      "text/html": [
       "<div>\n",
       "<style scoped>\n",
       "    .dataframe tbody tr th:only-of-type {\n",
       "        vertical-align: middle;\n",
       "    }\n",
       "\n",
       "    .dataframe tbody tr th {\n",
       "        vertical-align: top;\n",
       "    }\n",
       "\n",
       "    .dataframe thead th {\n",
       "        text-align: right;\n",
       "    }\n",
       "</style>\n",
       "<table border=\"1\" class=\"dataframe\">\n",
       "  <thead>\n",
       "    <tr style=\"text-align: right;\">\n",
       "      <th></th>\n",
       "      <th>HeartDisease</th>\n",
       "      <th>BMI</th>\n",
       "      <th>Smoking</th>\n",
       "      <th>AlcoholDrinking</th>\n",
       "      <th>Stroke</th>\n",
       "      <th>PhysicalHealth</th>\n",
       "      <th>MentalHealth</th>\n",
       "      <th>DiffWalking</th>\n",
       "      <th>Sex</th>\n",
       "      <th>AgeCategory</th>\n",
       "      <th>Race</th>\n",
       "      <th>Diabetic</th>\n",
       "      <th>PhysicalActivity</th>\n",
       "      <th>GenHealth</th>\n",
       "      <th>SleepTime</th>\n",
       "      <th>Asthma</th>\n",
       "      <th>KidneyDisease</th>\n",
       "      <th>SkinCancer</th>\n",
       "    </tr>\n",
       "  </thead>\n",
       "  <tbody>\n",
       "    <tr>\n",
       "      <th>0</th>\n",
       "      <td>0</td>\n",
       "      <td>16.60</td>\n",
       "      <td>1</td>\n",
       "      <td>0</td>\n",
       "      <td>0</td>\n",
       "      <td>3.0</td>\n",
       "      <td>30.0</td>\n",
       "      <td>0</td>\n",
       "      <td>1</td>\n",
       "      <td>57.0</td>\n",
       "      <td>6</td>\n",
       "      <td>1</td>\n",
       "      <td>1</td>\n",
       "      <td>3</td>\n",
       "      <td>5.0</td>\n",
       "      <td>1</td>\n",
       "      <td>0</td>\n",
       "      <td>1</td>\n",
       "    </tr>\n",
       "    <tr>\n",
       "      <th>1</th>\n",
       "      <td>0</td>\n",
       "      <td>20.34</td>\n",
       "      <td>0</td>\n",
       "      <td>0</td>\n",
       "      <td>1</td>\n",
       "      <td>0.0</td>\n",
       "      <td>0.0</td>\n",
       "      <td>0</td>\n",
       "      <td>1</td>\n",
       "      <td>80.0</td>\n",
       "      <td>6</td>\n",
       "      <td>0</td>\n",
       "      <td>1</td>\n",
       "      <td>3</td>\n",
       "      <td>7.0</td>\n",
       "      <td>0</td>\n",
       "      <td>0</td>\n",
       "      <td>0</td>\n",
       "    </tr>\n",
       "    <tr>\n",
       "      <th>2</th>\n",
       "      <td>0</td>\n",
       "      <td>26.58</td>\n",
       "      <td>1</td>\n",
       "      <td>0</td>\n",
       "      <td>0</td>\n",
       "      <td>20.0</td>\n",
       "      <td>30.0</td>\n",
       "      <td>0</td>\n",
       "      <td>0</td>\n",
       "      <td>67.0</td>\n",
       "      <td>6</td>\n",
       "      <td>1</td>\n",
       "      <td>1</td>\n",
       "      <td>1</td>\n",
       "      <td>8.0</td>\n",
       "      <td>1</td>\n",
       "      <td>0</td>\n",
       "      <td>0</td>\n",
       "    </tr>\n",
       "    <tr>\n",
       "      <th>3</th>\n",
       "      <td>0</td>\n",
       "      <td>24.21</td>\n",
       "      <td>0</td>\n",
       "      <td>0</td>\n",
       "      <td>0</td>\n",
       "      <td>0.0</td>\n",
       "      <td>0.0</td>\n",
       "      <td>0</td>\n",
       "      <td>1</td>\n",
       "      <td>77.0</td>\n",
       "      <td>6</td>\n",
       "      <td>0</td>\n",
       "      <td>0</td>\n",
       "      <td>2</td>\n",
       "      <td>6.0</td>\n",
       "      <td>0</td>\n",
       "      <td>0</td>\n",
       "      <td>1</td>\n",
       "    </tr>\n",
       "    <tr>\n",
       "      <th>4</th>\n",
       "      <td>0</td>\n",
       "      <td>23.71</td>\n",
       "      <td>0</td>\n",
       "      <td>0</td>\n",
       "      <td>0</td>\n",
       "      <td>28.0</td>\n",
       "      <td>0.0</td>\n",
       "      <td>1</td>\n",
       "      <td>1</td>\n",
       "      <td>42.0</td>\n",
       "      <td>6</td>\n",
       "      <td>0</td>\n",
       "      <td>1</td>\n",
       "      <td>3</td>\n",
       "      <td>8.0</td>\n",
       "      <td>0</td>\n",
       "      <td>0</td>\n",
       "      <td>0</td>\n",
       "    </tr>\n",
       "    <tr>\n",
       "      <th>...</th>\n",
       "      <td>...</td>\n",
       "      <td>...</td>\n",
       "      <td>...</td>\n",
       "      <td>...</td>\n",
       "      <td>...</td>\n",
       "      <td>...</td>\n",
       "      <td>...</td>\n",
       "      <td>...</td>\n",
       "      <td>...</td>\n",
       "      <td>...</td>\n",
       "      <td>...</td>\n",
       "      <td>...</td>\n",
       "      <td>...</td>\n",
       "      <td>...</td>\n",
       "      <td>...</td>\n",
       "      <td>...</td>\n",
       "      <td>...</td>\n",
       "      <td>...</td>\n",
       "    </tr>\n",
       "    <tr>\n",
       "      <th>319790</th>\n",
       "      <td>1</td>\n",
       "      <td>27.41</td>\n",
       "      <td>1</td>\n",
       "      <td>0</td>\n",
       "      <td>0</td>\n",
       "      <td>7.0</td>\n",
       "      <td>0.0</td>\n",
       "      <td>1</td>\n",
       "      <td>0</td>\n",
       "      <td>62.0</td>\n",
       "      <td>4</td>\n",
       "      <td>1</td>\n",
       "      <td>0</td>\n",
       "      <td>1</td>\n",
       "      <td>6.0</td>\n",
       "      <td>1</td>\n",
       "      <td>0</td>\n",
       "      <td>0</td>\n",
       "    </tr>\n",
       "    <tr>\n",
       "      <th>319791</th>\n",
       "      <td>0</td>\n",
       "      <td>29.84</td>\n",
       "      <td>1</td>\n",
       "      <td>0</td>\n",
       "      <td>0</td>\n",
       "      <td>0.0</td>\n",
       "      <td>0.0</td>\n",
       "      <td>0</td>\n",
       "      <td>0</td>\n",
       "      <td>37.0</td>\n",
       "      <td>4</td>\n",
       "      <td>0</td>\n",
       "      <td>1</td>\n",
       "      <td>3</td>\n",
       "      <td>5.0</td>\n",
       "      <td>1</td>\n",
       "      <td>0</td>\n",
       "      <td>0</td>\n",
       "    </tr>\n",
       "    <tr>\n",
       "      <th>319792</th>\n",
       "      <td>0</td>\n",
       "      <td>24.24</td>\n",
       "      <td>0</td>\n",
       "      <td>0</td>\n",
       "      <td>0</td>\n",
       "      <td>0.0</td>\n",
       "      <td>0.0</td>\n",
       "      <td>0</td>\n",
       "      <td>1</td>\n",
       "      <td>47.0</td>\n",
       "      <td>4</td>\n",
       "      <td>0</td>\n",
       "      <td>1</td>\n",
       "      <td>2</td>\n",
       "      <td>6.0</td>\n",
       "      <td>0</td>\n",
       "      <td>0</td>\n",
       "      <td>0</td>\n",
       "    </tr>\n",
       "    <tr>\n",
       "      <th>319793</th>\n",
       "      <td>0</td>\n",
       "      <td>32.81</td>\n",
       "      <td>0</td>\n",
       "      <td>0</td>\n",
       "      <td>0</td>\n",
       "      <td>0.0</td>\n",
       "      <td>0.0</td>\n",
       "      <td>0</td>\n",
       "      <td>1</td>\n",
       "      <td>27.0</td>\n",
       "      <td>4</td>\n",
       "      <td>0</td>\n",
       "      <td>0</td>\n",
       "      <td>2</td>\n",
       "      <td>12.0</td>\n",
       "      <td>0</td>\n",
       "      <td>0</td>\n",
       "      <td>0</td>\n",
       "    </tr>\n",
       "    <tr>\n",
       "      <th>319794</th>\n",
       "      <td>0</td>\n",
       "      <td>46.56</td>\n",
       "      <td>0</td>\n",
       "      <td>0</td>\n",
       "      <td>0</td>\n",
       "      <td>0.0</td>\n",
       "      <td>0.0</td>\n",
       "      <td>0</td>\n",
       "      <td>1</td>\n",
       "      <td>80.0</td>\n",
       "      <td>4</td>\n",
       "      <td>0</td>\n",
       "      <td>1</td>\n",
       "      <td>2</td>\n",
       "      <td>8.0</td>\n",
       "      <td>0</td>\n",
       "      <td>0</td>\n",
       "      <td>0</td>\n",
       "    </tr>\n",
       "  </tbody>\n",
       "</table>\n",
       "<p>319795 rows × 18 columns</p>\n",
       "</div>"
      ],
      "text/plain": [
       "        HeartDisease    BMI  Smoking  AlcoholDrinking  Stroke  PhysicalHealth  \\\n",
       "0                  0  16.60        1                0       0             3.0   \n",
       "1                  0  20.34        0                0       1             0.0   \n",
       "2                  0  26.58        1                0       0            20.0   \n",
       "3                  0  24.21        0                0       0             0.0   \n",
       "4                  0  23.71        0                0       0            28.0   \n",
       "...              ...    ...      ...              ...     ...             ...   \n",
       "319790             1  27.41        1                0       0             7.0   \n",
       "319791             0  29.84        1                0       0             0.0   \n",
       "319792             0  24.24        0                0       0             0.0   \n",
       "319793             0  32.81        0                0       0             0.0   \n",
       "319794             0  46.56        0                0       0             0.0   \n",
       "\n",
       "        MentalHealth  DiffWalking  Sex  AgeCategory  Race  Diabetic  \\\n",
       "0               30.0            0    1         57.0     6         1   \n",
       "1                0.0            0    1         80.0     6         0   \n",
       "2               30.0            0    0         67.0     6         1   \n",
       "3                0.0            0    1         77.0     6         0   \n",
       "4                0.0            1    1         42.0     6         0   \n",
       "...              ...          ...  ...          ...   ...       ...   \n",
       "319790           0.0            1    0         62.0     4         1   \n",
       "319791           0.0            0    0         37.0     4         0   \n",
       "319792           0.0            0    1         47.0     4         0   \n",
       "319793           0.0            0    1         27.0     4         0   \n",
       "319794           0.0            0    1         80.0     4         0   \n",
       "\n",
       "        PhysicalActivity  GenHealth  SleepTime  Asthma  KidneyDisease  \\\n",
       "0                      1          3        5.0       1              0   \n",
       "1                      1          3        7.0       0              0   \n",
       "2                      1          1        8.0       1              0   \n",
       "3                      0          2        6.0       0              0   \n",
       "4                      1          3        8.0       0              0   \n",
       "...                  ...        ...        ...     ...            ...   \n",
       "319790                 0          1        6.0       1              0   \n",
       "319791                 1          3        5.0       1              0   \n",
       "319792                 1          2        6.0       0              0   \n",
       "319793                 0          2       12.0       0              0   \n",
       "319794                 1          2        8.0       0              0   \n",
       "\n",
       "        SkinCancer  \n",
       "0                1  \n",
       "1                0  \n",
       "2                0  \n",
       "3                1  \n",
       "4                0  \n",
       "...            ...  \n",
       "319790           0  \n",
       "319791           0  \n",
       "319792           0  \n",
       "319793           0  \n",
       "319794           0  \n",
       "\n",
       "[319795 rows x 18 columns]"
      ]
     },
     "execution_count": 6,
     "metadata": {},
     "output_type": "execute_result"
    }
   ],
   "source": [
    "datos"
   ]
  },
  {
   "cell_type": "code",
   "execution_count": 7,
   "metadata": {
    "colab": {
     "base_uri": "https://localhost:8080/",
     "height": 269
    },
    "id": "-dvH1U_VEAo8",
    "outputId": "9fb8efa7-106a-4b24-d40d-d17d1cd7cbb4"
   },
   "outputs": [
    {
     "data": {
      "text/html": [
       "<style type=\"text/css\">\n",
       "#T_b950e_row0_col0 {\n",
       "  background-color: #c7dbef;\n",
       "  color: #000000;\n",
       "}\n",
       "#T_b950e_row0_col1 {\n",
       "  background-color: #e1edf8;\n",
       "  color: #000000;\n",
       "}\n",
       "#T_b950e_row0_col2 {\n",
       "  background-color: #ddeaf7;\n",
       "  color: #000000;\n",
       "}\n",
       "#T_b950e_row0_col3 {\n",
       "  background-color: #4e9acb;\n",
       "  color: #f1f1f1;\n",
       "}\n",
       "#T_b950e_row0_col4, #T_b950e_row1_col1, #T_b950e_row1_col2 {\n",
       "  background-color: #c2d9ee;\n",
       "  color: #000000;\n",
       "}\n",
       "#T_b950e_row1_col0, #T_b950e_row1_col3, #T_b950e_row2_col1, #T_b950e_row2_col2, #T_b950e_row2_col4, #T_b950e_row3_col1, #T_b950e_row3_col2, #T_b950e_row4_col1, #T_b950e_row4_col2 {\n",
       "  background-color: #f7fbff;\n",
       "  color: #000000;\n",
       "}\n",
       "#T_b950e_row1_col4 {\n",
       "  background-color: #f4f9fe;\n",
       "  color: #000000;\n",
       "}\n",
       "#T_b950e_row2_col0 {\n",
       "  background-color: #eaf3fb;\n",
       "  color: #000000;\n",
       "}\n",
       "#T_b950e_row2_col3 {\n",
       "  background-color: #edf4fc;\n",
       "  color: #000000;\n",
       "}\n",
       "#T_b950e_row3_col0 {\n",
       "  background-color: #d0e1f2;\n",
       "  color: #000000;\n",
       "}\n",
       "#T_b950e_row3_col3 {\n",
       "  background-color: #99c7e0;\n",
       "  color: #000000;\n",
       "}\n",
       "#T_b950e_row3_col4 {\n",
       "  background-color: #cddff1;\n",
       "  color: #000000;\n",
       "}\n",
       "#T_b950e_row4_col0 {\n",
       "  background-color: #c9ddf0;\n",
       "  color: #000000;\n",
       "}\n",
       "#T_b950e_row4_col3 {\n",
       "  background-color: #4090c5;\n",
       "  color: #f1f1f1;\n",
       "}\n",
       "#T_b950e_row4_col4 {\n",
       "  background-color: #c3daee;\n",
       "  color: #000000;\n",
       "}\n",
       "#T_b950e_row5_col0 {\n",
       "  background-color: #bcd7eb;\n",
       "  color: #000000;\n",
       "}\n",
       "#T_b950e_row5_col1 {\n",
       "  background-color: #eaf2fb;\n",
       "  color: #000000;\n",
       "}\n",
       "#T_b950e_row5_col2 {\n",
       "  background-color: #e3eef9;\n",
       "  color: #000000;\n",
       "}\n",
       "#T_b950e_row5_col3 {\n",
       "  background-color: #1966ad;\n",
       "  color: #f1f1f1;\n",
       "}\n",
       "#T_b950e_row5_col4 {\n",
       "  background-color: #b5d4e9;\n",
       "  color: #000000;\n",
       "}\n",
       "#T_b950e_row6_col0, #T_b950e_row6_col1, #T_b950e_row6_col2, #T_b950e_row6_col3, #T_b950e_row6_col4 {\n",
       "  background-color: #08306b;\n",
       "  color: #f1f1f1;\n",
       "}\n",
       "</style>\n",
       "<table id=\"T_b950e\">\n",
       "  <thead>\n",
       "    <tr>\n",
       "      <th class=\"blank level0\" >&nbsp;</th>\n",
       "      <th id=\"T_b950e_level0_col0\" class=\"col_heading level0 col0\" >BMI</th>\n",
       "      <th id=\"T_b950e_level0_col1\" class=\"col_heading level0 col1\" >PhysicalHealth</th>\n",
       "      <th id=\"T_b950e_level0_col2\" class=\"col_heading level0 col2\" >MentalHealth</th>\n",
       "      <th id=\"T_b950e_level0_col3\" class=\"col_heading level0 col3\" >AgeCategory</th>\n",
       "      <th id=\"T_b950e_level0_col4\" class=\"col_heading level0 col4\" >SleepTime</th>\n",
       "    </tr>\n",
       "  </thead>\n",
       "  <tbody>\n",
       "    <tr>\n",
       "      <th id=\"T_b950e_level0_row0\" class=\"row_heading level0 row0\" >mean</th>\n",
       "      <td id=\"T_b950e_row0_col0\" class=\"data row0 col0\" >28.325399</td>\n",
       "      <td id=\"T_b950e_row0_col1\" class=\"data row0 col1\" >3.371710</td>\n",
       "      <td id=\"T_b950e_row0_col2\" class=\"data row0 col2\" >3.898366</td>\n",
       "      <td id=\"T_b950e_row0_col3\" class=\"data row0 col3\" >54.355759</td>\n",
       "      <td id=\"T_b950e_row0_col4\" class=\"data row0 col4\" >7.097075</td>\n",
       "    </tr>\n",
       "    <tr>\n",
       "      <th id=\"T_b950e_level0_row1\" class=\"row_heading level0 row1\" >std</th>\n",
       "      <td id=\"T_b950e_row1_col0\" class=\"data row1 col0\" >6.356100</td>\n",
       "      <td id=\"T_b950e_row1_col1\" class=\"data row1 col1\" >7.950850</td>\n",
       "      <td id=\"T_b950e_row1_col2\" class=\"data row1 col2\" >7.955235</td>\n",
       "      <td id=\"T_b950e_row1_col3\" class=\"data row1 col3\" >17.720429</td>\n",
       "      <td id=\"T_b950e_row1_col4\" class=\"data row1 col4\" >1.436007</td>\n",
       "    </tr>\n",
       "    <tr>\n",
       "      <th id=\"T_b950e_level0_row2\" class=\"row_heading level0 row2\" >min</th>\n",
       "      <td id=\"T_b950e_row2_col0\" class=\"data row2 col0\" >12.020000</td>\n",
       "      <td id=\"T_b950e_row2_col1\" class=\"data row2 col1\" >0.000000</td>\n",
       "      <td id=\"T_b950e_row2_col2\" class=\"data row2 col2\" >0.000000</td>\n",
       "      <td id=\"T_b950e_row2_col3\" class=\"data row2 col3\" >21.000000</td>\n",
       "      <td id=\"T_b950e_row2_col4\" class=\"data row2 col4\" >1.000000</td>\n",
       "    </tr>\n",
       "    <tr>\n",
       "      <th id=\"T_b950e_level0_row3\" class=\"row_heading level0 row3\" >25%</th>\n",
       "      <td id=\"T_b950e_row3_col0\" class=\"data row3 col0\" >24.030000</td>\n",
       "      <td id=\"T_b950e_row3_col1\" class=\"data row3 col1\" >0.000000</td>\n",
       "      <td id=\"T_b950e_row3_col2\" class=\"data row3 col2\" >0.000000</td>\n",
       "      <td id=\"T_b950e_row3_col3\" class=\"data row3 col3\" >42.000000</td>\n",
       "      <td id=\"T_b950e_row3_col4\" class=\"data row3 col4\" >6.000000</td>\n",
       "    </tr>\n",
       "    <tr>\n",
       "      <th id=\"T_b950e_level0_row4\" class=\"row_heading level0 row4\" >50%</th>\n",
       "      <td id=\"T_b950e_row4_col0\" class=\"data row4 col0\" >27.340000</td>\n",
       "      <td id=\"T_b950e_row4_col1\" class=\"data row4 col1\" >0.000000</td>\n",
       "      <td id=\"T_b950e_row4_col2\" class=\"data row4 col2\" >0.000000</td>\n",
       "      <td id=\"T_b950e_row4_col3\" class=\"data row4 col3\" >57.000000</td>\n",
       "      <td id=\"T_b950e_row4_col4\" class=\"data row4 col4\" >7.000000</td>\n",
       "    </tr>\n",
       "    <tr>\n",
       "      <th id=\"T_b950e_level0_row5\" class=\"row_heading level0 row5\" >75%</th>\n",
       "      <td id=\"T_b950e_row5_col0\" class=\"data row5 col0\" >31.420000</td>\n",
       "      <td id=\"T_b950e_row5_col1\" class=\"data row5 col1\" >2.000000</td>\n",
       "      <td id=\"T_b950e_row5_col2\" class=\"data row5 col2\" >3.000000</td>\n",
       "      <td id=\"T_b950e_row5_col3\" class=\"data row5 col3\" >67.000000</td>\n",
       "      <td id=\"T_b950e_row5_col4\" class=\"data row5 col4\" >8.000000</td>\n",
       "    </tr>\n",
       "    <tr>\n",
       "      <th id=\"T_b950e_level0_row6\" class=\"row_heading level0 row6\" >max</th>\n",
       "      <td id=\"T_b950e_row6_col0\" class=\"data row6 col0\" >94.850000</td>\n",
       "      <td id=\"T_b950e_row6_col1\" class=\"data row6 col1\" >30.000000</td>\n",
       "      <td id=\"T_b950e_row6_col2\" class=\"data row6 col2\" >30.000000</td>\n",
       "      <td id=\"T_b950e_row6_col3\" class=\"data row6 col3\" >80.000000</td>\n",
       "      <td id=\"T_b950e_row6_col4\" class=\"data row6 col4\" >24.000000</td>\n",
       "    </tr>\n",
       "  </tbody>\n",
       "</table>\n"
      ],
      "text/plain": [
       "<pandas.io.formats.style.Styler at 0x29150c3a8b0>"
      ]
     },
     "execution_count": 7,
     "metadata": {},
     "output_type": "execute_result"
    }
   ],
   "source": [
    "datos.describe()[1:][['BMI','PhysicalHealth','MentalHealth', 'AgeCategory','SleepTime']].style.background_gradient(cmap='Blues')"
   ]
  },
  {
   "cell_type": "code",
   "execution_count": 8,
   "metadata": {
    "colab": {
     "base_uri": "https://localhost:8080/"
    },
    "id": "dWO4qN0peMc0",
    "outputId": "757aea70-4f6a-423a-abc3-e4b40ba422f8"
   },
   "outputs": [
    {
     "data": {
      "text/plain": [
       "HeartDisease        0\n",
       "BMI                 0\n",
       "Smoking             0\n",
       "AlcoholDrinking     0\n",
       "Stroke              0\n",
       "PhysicalHealth      0\n",
       "MentalHealth        0\n",
       "DiffWalking         0\n",
       "Sex                 0\n",
       "AgeCategory         0\n",
       "Race                0\n",
       "Diabetic            0\n",
       "PhysicalActivity    0\n",
       "GenHealth           0\n",
       "SleepTime           0\n",
       "Asthma              0\n",
       "KidneyDisease       0\n",
       "SkinCancer          0\n",
       "dtype: int64"
      ]
     },
     "execution_count": 8,
     "metadata": {},
     "output_type": "execute_result"
    }
   ],
   "source": [
    "#Revisar datos nulos \n",
    "datos.isnull().sum()"
   ]
  },
  {
   "cell_type": "code",
   "execution_count": 9,
   "metadata": {
    "colab": {
     "base_uri": "https://localhost:8080/",
     "height": 1000
    },
    "id": "IxD75TJXRU1m",
    "outputId": "fd37e7d2-bf6e-435a-9086-0d3486804a7a"
   },
   "outputs": [
    {
     "data": {
      "image/png": "[encoded data removed]",
      "text/plain": [
       "<Figure size 360x4320 with 18 Axes>"
      ]
     },
     "metadata": {
      "needs_background": "light"
     },
     "output_type": "display_data"
    }
   ],
   "source": [
    "columnas = datos.columns.values\n",
    "fig, axs = plt.subplots(df.shape[1], 1, figsize = (5,60))\n",
    "plt.subplots_adjust(hspace = 1)\n",
    "for i, c in enumerate(columnas):\n",
    "  dist_datos = df[c]\n",
    "  axs[i].set_title(f'Distribución de {c}.')\n",
    "  axs[i].hist(dist_datos)\n",
    "  axs[i].grid(True)"
   ]
  },
  {
   "cell_type": "markdown",
   "metadata": {
    "id": "QBKbkt1reMc1"
   },
   "source": [
    " \n",
    "Min - max"
   ]
  },
  {
   "cell_type": "code",
   "execution_count": 10,
   "metadata": {
    "id": "bICOQ_ghRBpW"
   },
   "outputs": [],
   "source": [
    "def norm_min_max(datos):\n",
    "  lim_sup = []\n",
    "  lim_inf = []\n",
    "  rangoDatos =[]\n",
    "  maxNorm = 1\n",
    "  minNorm = 0\n",
    "  rango = maxNorm - minNorm\n",
    "  for i in range (0,datos.columns.size):\n",
    "    lim_sup.append(datos.iloc[:,i].max())\n",
    "    lim_inf.append(datos.iloc[:,i].min())\n",
    "    rangoDatos.append(lim_sup[i] - lim_inf[i])\n",
    "  nombres = datos.columns.values.tolist()\n",
    "  datosNorm = pd.DataFrame(columns = nombres)\n",
    "\n",
    "  for j in range(len(datos.columns)):\n",
    "    varNorm = []\n",
    "    var = datos.iloc[:,j]\n",
    "    for i in range(len(datos)):\n",
    "      D = var[i] - lim_inf[j]\n",
    "      DPct = D/rangoDatos[j]\n",
    "      dNorm = rango*DPct\n",
    "      varNorm.append(minNorm+dNorm)\n",
    "    datosNorm.iloc[:,j] = varNorm\n",
    "  datos = datosNorm\n",
    "  return datos"
   ]
  },
  {
   "cell_type": "code",
   "execution_count": 11,
   "metadata": {
    "colab": {
     "base_uri": "https://localhost:8080/",
     "height": 488
    },
    "id": "CaanHVnfeMc2",
    "outputId": "0e4d33fd-a928-4661-ac2b-983fdafc13ad"
   },
   "outputs": [
    {
     "data": {
      "text/html": [
       "<div>\n",
       "<style scoped>\n",
       "    .dataframe tbody tr th:only-of-type {\n",
       "        vertical-align: middle;\n",
       "    }\n",
       "\n",
       "    .dataframe tbody tr th {\n",
       "        vertical-align: top;\n",
       "    }\n",
       "\n",
       "    .dataframe thead th {\n",
       "        text-align: right;\n",
       "    }\n",
       "</style>\n",
       "<table border=\"1\" class=\"dataframe\">\n",
       "  <thead>\n",
       "    <tr style=\"text-align: right;\">\n",
       "      <th></th>\n",
       "      <th>HeartDisease</th>\n",
       "      <th>BMI</th>\n",
       "      <th>Smoking</th>\n",
       "      <th>AlcoholDrinking</th>\n",
       "      <th>Stroke</th>\n",
       "      <th>PhysicalHealth</th>\n",
       "      <th>MentalHealth</th>\n",
       "      <th>DiffWalking</th>\n",
       "      <th>Sex</th>\n",
       "      <th>AgeCategory</th>\n",
       "      <th>Race</th>\n",
       "      <th>Diabetic</th>\n",
       "      <th>PhysicalActivity</th>\n",
       "      <th>GenHealth</th>\n",
       "      <th>SleepTime</th>\n",
       "      <th>Asthma</th>\n",
       "      <th>KidneyDisease</th>\n",
       "      <th>SkinCancer</th>\n",
       "    </tr>\n",
       "  </thead>\n",
       "  <tbody>\n",
       "    <tr>\n",
       "      <th>0</th>\n",
       "      <td>0.0</td>\n",
       "      <td>0.055294</td>\n",
       "      <td>1.0</td>\n",
       "      <td>0.0</td>\n",
       "      <td>0.0</td>\n",
       "      <td>0.100000</td>\n",
       "      <td>1.0</td>\n",
       "      <td>0.0</td>\n",
       "      <td>1.0</td>\n",
       "      <td>0.610169</td>\n",
       "      <td>1.0</td>\n",
       "      <td>0.333333</td>\n",
       "      <td>1.0</td>\n",
       "      <td>0.75</td>\n",
       "      <td>0.173913</td>\n",
       "      <td>1.0</td>\n",
       "      <td>0.0</td>\n",
       "      <td>1.0</td>\n",
       "    </tr>\n",
       "    <tr>\n",
       "      <th>1</th>\n",
       "      <td>0.0</td>\n",
       "      <td>0.100447</td>\n",
       "      <td>0.0</td>\n",
       "      <td>0.0</td>\n",
       "      <td>1.0</td>\n",
       "      <td>0.000000</td>\n",
       "      <td>0.0</td>\n",
       "      <td>0.0</td>\n",
       "      <td>1.0</td>\n",
       "      <td>1.000000</td>\n",
       "      <td>1.0</td>\n",
       "      <td>0.000000</td>\n",
       "      <td>1.0</td>\n",
       "      <td>0.75</td>\n",
       "      <td>0.260870</td>\n",
       "      <td>0.0</td>\n",
       "      <td>0.0</td>\n",
       "      <td>0.0</td>\n",
       "    </tr>\n",
       "    <tr>\n",
       "      <th>2</th>\n",
       "      <td>0.0</td>\n",
       "      <td>0.175782</td>\n",
       "      <td>1.0</td>\n",
       "      <td>0.0</td>\n",
       "      <td>0.0</td>\n",
       "      <td>0.666667</td>\n",
       "      <td>1.0</td>\n",
       "      <td>0.0</td>\n",
       "      <td>0.0</td>\n",
       "      <td>0.779661</td>\n",
       "      <td>1.0</td>\n",
       "      <td>0.333333</td>\n",
       "      <td>1.0</td>\n",
       "      <td>0.25</td>\n",
       "      <td>0.304348</td>\n",
       "      <td>1.0</td>\n",
       "      <td>0.0</td>\n",
       "      <td>0.0</td>\n",
       "    </tr>\n",
       "    <tr>\n",
       "      <th>3</th>\n",
       "      <td>0.0</td>\n",
       "      <td>0.147169</td>\n",
       "      <td>0.0</td>\n",
       "      <td>0.0</td>\n",
       "      <td>0.0</td>\n",
       "      <td>0.000000</td>\n",
       "      <td>0.0</td>\n",
       "      <td>0.0</td>\n",
       "      <td>1.0</td>\n",
       "      <td>0.949153</td>\n",
       "      <td>1.0</td>\n",
       "      <td>0.000000</td>\n",
       "      <td>0.0</td>\n",
       "      <td>0.50</td>\n",
       "      <td>0.217391</td>\n",
       "      <td>0.0</td>\n",
       "      <td>0.0</td>\n",
       "      <td>1.0</td>\n",
       "    </tr>\n",
       "    <tr>\n",
       "      <th>4</th>\n",
       "      <td>0.0</td>\n",
       "      <td>0.141132</td>\n",
       "      <td>0.0</td>\n",
       "      <td>0.0</td>\n",
       "      <td>0.0</td>\n",
       "      <td>0.933333</td>\n",
       "      <td>0.0</td>\n",
       "      <td>1.0</td>\n",
       "      <td>1.0</td>\n",
       "      <td>0.355932</td>\n",
       "      <td>1.0</td>\n",
       "      <td>0.000000</td>\n",
       "      <td>1.0</td>\n",
       "      <td>0.75</td>\n",
       "      <td>0.304348</td>\n",
       "      <td>0.0</td>\n",
       "      <td>0.0</td>\n",
       "      <td>0.0</td>\n",
       "    </tr>\n",
       "    <tr>\n",
       "      <th>...</th>\n",
       "      <td>...</td>\n",
       "      <td>...</td>\n",
       "      <td>...</td>\n",
       "      <td>...</td>\n",
       "      <td>...</td>\n",
       "      <td>...</td>\n",
       "      <td>...</td>\n",
       "      <td>...</td>\n",
       "      <td>...</td>\n",
       "      <td>...</td>\n",
       "      <td>...</td>\n",
       "      <td>...</td>\n",
       "      <td>...</td>\n",
       "      <td>...</td>\n",
       "      <td>...</td>\n",
       "      <td>...</td>\n",
       "      <td>...</td>\n",
       "      <td>...</td>\n",
       "    </tr>\n",
       "    <tr>\n",
       "      <th>319790</th>\n",
       "      <td>1.0</td>\n",
       "      <td>0.185802</td>\n",
       "      <td>1.0</td>\n",
       "      <td>0.0</td>\n",
       "      <td>0.0</td>\n",
       "      <td>0.233333</td>\n",
       "      <td>0.0</td>\n",
       "      <td>1.0</td>\n",
       "      <td>0.0</td>\n",
       "      <td>0.694915</td>\n",
       "      <td>0.6</td>\n",
       "      <td>0.333333</td>\n",
       "      <td>0.0</td>\n",
       "      <td>0.25</td>\n",
       "      <td>0.217391</td>\n",
       "      <td>1.0</td>\n",
       "      <td>0.0</td>\n",
       "      <td>0.0</td>\n",
       "    </tr>\n",
       "    <tr>\n",
       "      <th>319791</th>\n",
       "      <td>0.0</td>\n",
       "      <td>0.215139</td>\n",
       "      <td>1.0</td>\n",
       "      <td>0.0</td>\n",
       "      <td>0.0</td>\n",
       "      <td>0.000000</td>\n",
       "      <td>0.0</td>\n",
       "      <td>0.0</td>\n",
       "      <td>0.0</td>\n",
       "      <td>0.271186</td>\n",
       "      <td>0.6</td>\n",
       "      <td>0.000000</td>\n",
       "      <td>1.0</td>\n",
       "      <td>0.75</td>\n",
       "      <td>0.173913</td>\n",
       "      <td>1.0</td>\n",
       "      <td>0.0</td>\n",
       "      <td>0.0</td>\n",
       "    </tr>\n",
       "    <tr>\n",
       "      <th>319792</th>\n",
       "      <td>0.0</td>\n",
       "      <td>0.147531</td>\n",
       "      <td>0.0</td>\n",
       "      <td>0.0</td>\n",
       "      <td>0.0</td>\n",
       "      <td>0.000000</td>\n",
       "      <td>0.0</td>\n",
       "      <td>0.0</td>\n",
       "      <td>1.0</td>\n",
       "      <td>0.440678</td>\n",
       "      <td>0.6</td>\n",
       "      <td>0.000000</td>\n",
       "      <td>1.0</td>\n",
       "      <td>0.50</td>\n",
       "      <td>0.217391</td>\n",
       "      <td>0.0</td>\n",
       "      <td>0.0</td>\n",
       "      <td>0.0</td>\n",
       "    </tr>\n",
       "    <tr>\n",
       "      <th>319793</th>\n",
       "      <td>0.0</td>\n",
       "      <td>0.250996</td>\n",
       "      <td>0.0</td>\n",
       "      <td>0.0</td>\n",
       "      <td>0.0</td>\n",
       "      <td>0.000000</td>\n",
       "      <td>0.0</td>\n",
       "      <td>0.0</td>\n",
       "      <td>1.0</td>\n",
       "      <td>0.101695</td>\n",
       "      <td>0.6</td>\n",
       "      <td>0.000000</td>\n",
       "      <td>0.0</td>\n",
       "      <td>0.50</td>\n",
       "      <td>0.478261</td>\n",
       "      <td>0.0</td>\n",
       "      <td>0.0</td>\n",
       "      <td>0.0</td>\n",
       "    </tr>\n",
       "    <tr>\n",
       "      <th>319794</th>\n",
       "      <td>0.0</td>\n",
       "      <td>0.416999</td>\n",
       "      <td>0.0</td>\n",
       "      <td>0.0</td>\n",
       "      <td>0.0</td>\n",
       "      <td>0.000000</td>\n",
       "      <td>0.0</td>\n",
       "      <td>0.0</td>\n",
       "      <td>1.0</td>\n",
       "      <td>1.000000</td>\n",
       "      <td>0.6</td>\n",
       "      <td>0.000000</td>\n",
       "      <td>1.0</td>\n",
       "      <td>0.50</td>\n",
       "      <td>0.304348</td>\n",
       "      <td>0.0</td>\n",
       "      <td>0.0</td>\n",
       "      <td>0.0</td>\n",
       "    </tr>\n",
       "  </tbody>\n",
       "</table>\n",
       "<p>319795 rows × 18 columns</p>\n",
       "</div>"
      ],
      "text/plain": [
       "        HeartDisease       BMI  Smoking  AlcoholDrinking  Stroke  \\\n",
       "0                0.0  0.055294      1.0              0.0     0.0   \n",
       "1                0.0  0.100447      0.0              0.0     1.0   \n",
       "2                0.0  0.175782      1.0              0.0     0.0   \n",
       "3                0.0  0.147169      0.0              0.0     0.0   \n",
       "4                0.0  0.141132      0.0              0.0     0.0   \n",
       "...              ...       ...      ...              ...     ...   \n",
       "319790           1.0  0.185802      1.0              0.0     0.0   \n",
       "319791           0.0  0.215139      1.0              0.0     0.0   \n",
       "319792           0.0  0.147531      0.0              0.0     0.0   \n",
       "319793           0.0  0.250996      0.0              0.0     0.0   \n",
       "319794           0.0  0.416999      0.0              0.0     0.0   \n",
       "\n",
       "        PhysicalHealth  MentalHealth  DiffWalking  Sex  AgeCategory  Race  \\\n",
       "0             0.100000           1.0          0.0  1.0     0.610169   1.0   \n",
       "1             0.000000           0.0          0.0  1.0     1.000000   1.0   \n",
       "2             0.666667           1.0          0.0  0.0     0.779661   1.0   \n",
       "3             0.000000           0.0          0.0  1.0     0.949153   1.0   \n",
       "4             0.933333           0.0          1.0  1.0     0.355932   1.0   \n",
       "...                ...           ...          ...  ...          ...   ...   \n",
       "319790        0.233333           0.0          1.0  0.0     0.694915   0.6   \n",
       "319791        0.000000           0.0          0.0  0.0     0.271186   0.6   \n",
       "319792        0.000000           0.0          0.0  1.0     0.440678   0.6   \n",
       "319793        0.000000           0.0          0.0  1.0     0.101695   0.6   \n",
       "319794        0.000000           0.0          0.0  1.0     1.000000   0.6   \n",
       "\n",
       "        Diabetic  PhysicalActivity  GenHealth  SleepTime  Asthma  \\\n",
       "0       0.333333               1.0       0.75   0.173913     1.0   \n",
       "1       0.000000               1.0       0.75   0.260870     0.0   \n",
       "2       0.333333               1.0       0.25   0.304348     1.0   \n",
       "3       0.000000               0.0       0.50   0.217391     0.0   \n",
       "4       0.000000               1.0       0.75   0.304348     0.0   \n",
       "...          ...               ...        ...        ...     ...   \n",
       "319790  0.333333               0.0       0.25   0.217391     1.0   \n",
       "319791  0.000000               1.0       0.75   0.173913     1.0   \n",
       "319792  0.000000               1.0       0.50   0.217391     0.0   \n",
       "319793  0.000000               0.0       0.50   0.478261     0.0   \n",
       "319794  0.000000               1.0       0.50   0.304348     0.0   \n",
       "\n",
       "        KidneyDisease  SkinCancer  \n",
       "0                 0.0         1.0  \n",
       "1                 0.0         0.0  \n",
       "2                 0.0         0.0  \n",
       "3                 0.0         1.0  \n",
       "4                 0.0         0.0  \n",
       "...               ...         ...  \n",
       "319790            0.0         0.0  \n",
       "319791            0.0         0.0  \n",
       "319792            0.0         0.0  \n",
       "319793            0.0         0.0  \n",
       "319794            0.0         0.0  \n",
       "\n",
       "[319795 rows x 18 columns]"
      ]
     },
     "execution_count": 11,
     "metadata": {},
     "output_type": "execute_result"
    }
   ],
   "source": [
    "datos = norm_min_max(datos)\n",
    "datos"
   ]
  },
  {
   "cell_type": "markdown",
   "metadata": {
    "id": "xASM1QXmeMc2"
   },
   "source": [
    "### PCA  "
   ]
  },
  {
   "cell_type": "markdown",
   "metadata": {
    "id": "SZCOS3rVeMc3"
   },
   "source": [
    "Encontrar la matriz de covarianza y sus respectivos eigenvectores y eigenvalores "
   ]
  },
  {
   "cell_type": "code",
   "execution_count": 12,
   "metadata": {
    "id": "R_zjgDegeMc3"
   },
   "outputs": [],
   "source": [
    "def matriz_cov(data):\n",
    "    atributos = data.columns \n",
    "    n = len(atributos)\n",
    "    m = np.zeros((n,n))\n",
    "    for i in range(n):\n",
    "        for j in range(n):\n",
    "            X = data[atributos[i]]\n",
    "            Y = data[atributos[j]]\n",
    "            m[i][j] = (((X-X.mean())*(Y-Y.mean())).sum())/(len(X)-1)\n",
    "    return m"
   ]
  },
  {
   "cell_type": "code",
   "execution_count": 13,
   "metadata": {
    "colab": {
     "base_uri": "https://localhost:8080/",
     "height": 488
    },
    "id": "ay-sOgcAeMc3",
    "outputId": "44fc33a1-e8f7-4736-fd18-4f4c55513cee"
   },
   "outputs": [
    {
     "data": {
      "text/html": [
       "<div>\n",
       "<style scoped>\n",
       "    .dataframe tbody tr th:only-of-type {\n",
       "        vertical-align: middle;\n",
       "    }\n",
       "\n",
       "    .dataframe tbody tr th {\n",
       "        vertical-align: top;\n",
       "    }\n",
       "\n",
       "    .dataframe thead th {\n",
       "        text-align: right;\n",
       "    }\n",
       "</style>\n",
       "<table border=\"1\" class=\"dataframe\">\n",
       "  <thead>\n",
       "    <tr style=\"text-align: right;\">\n",
       "      <th></th>\n",
       "      <th>BMI</th>\n",
       "      <th>Smoking</th>\n",
       "      <th>AlcoholDrinking</th>\n",
       "      <th>Stroke</th>\n",
       "      <th>PhysicalHealth</th>\n",
       "      <th>MentalHealth</th>\n",
       "      <th>DiffWalking</th>\n",
       "      <th>Sex</th>\n",
       "      <th>AgeCategory</th>\n",
       "      <th>Race</th>\n",
       "      <th>Diabetic</th>\n",
       "      <th>PhysicalActivity</th>\n",
       "      <th>GenHealth</th>\n",
       "      <th>SleepTime</th>\n",
       "      <th>Asthma</th>\n",
       "      <th>KidneyDisease</th>\n",
       "      <th>SkinCancer</th>\n",
       "    </tr>\n",
       "  </thead>\n",
       "  <tbody>\n",
       "    <tr>\n",
       "      <th>0</th>\n",
       "      <td>-0.141560</td>\n",
       "      <td>0.587523</td>\n",
       "      <td>-0.068097</td>\n",
       "      <td>-0.03774</td>\n",
       "      <td>-0.012390</td>\n",
       "      <td>0.870054</td>\n",
       "      <td>-0.13887</td>\n",
       "      <td>0.475273</td>\n",
       "      <td>0.044818</td>\n",
       "      <td>0.120652</td>\n",
       "      <td>0.268666</td>\n",
       "      <td>0.224638</td>\n",
       "      <td>0.101243</td>\n",
       "      <td>-0.091177</td>\n",
       "      <td>0.865939</td>\n",
       "      <td>-0.036833</td>\n",
       "      <td>0.906756</td>\n",
       "    </tr>\n",
       "    <tr>\n",
       "      <th>1</th>\n",
       "      <td>-0.096407</td>\n",
       "      <td>-0.412477</td>\n",
       "      <td>-0.068097</td>\n",
       "      <td>0.96226</td>\n",
       "      <td>-0.112390</td>\n",
       "      <td>-0.129946</td>\n",
       "      <td>-0.13887</td>\n",
       "      <td>0.475273</td>\n",
       "      <td>0.434648</td>\n",
       "      <td>0.120652</td>\n",
       "      <td>-0.064667</td>\n",
       "      <td>0.224638</td>\n",
       "      <td>0.101243</td>\n",
       "      <td>-0.004221</td>\n",
       "      <td>-0.134061</td>\n",
       "      <td>-0.036833</td>\n",
       "      <td>-0.093244</td>\n",
       "    </tr>\n",
       "    <tr>\n",
       "      <th>2</th>\n",
       "      <td>-0.021072</td>\n",
       "      <td>0.587523</td>\n",
       "      <td>-0.068097</td>\n",
       "      <td>-0.03774</td>\n",
       "      <td>0.554276</td>\n",
       "      <td>0.870054</td>\n",
       "      <td>-0.13887</td>\n",
       "      <td>-0.524727</td>\n",
       "      <td>0.214309</td>\n",
       "      <td>0.120652</td>\n",
       "      <td>0.268666</td>\n",
       "      <td>0.224638</td>\n",
       "      <td>-0.398757</td>\n",
       "      <td>0.039258</td>\n",
       "      <td>0.865939</td>\n",
       "      <td>-0.036833</td>\n",
       "      <td>-0.093244</td>\n",
       "    </tr>\n",
       "    <tr>\n",
       "      <th>3</th>\n",
       "      <td>-0.049685</td>\n",
       "      <td>-0.412477</td>\n",
       "      <td>-0.068097</td>\n",
       "      <td>-0.03774</td>\n",
       "      <td>-0.112390</td>\n",
       "      <td>-0.129946</td>\n",
       "      <td>-0.13887</td>\n",
       "      <td>0.475273</td>\n",
       "      <td>0.383801</td>\n",
       "      <td>0.120652</td>\n",
       "      <td>-0.064667</td>\n",
       "      <td>-0.775362</td>\n",
       "      <td>-0.148757</td>\n",
       "      <td>-0.047699</td>\n",
       "      <td>-0.134061</td>\n",
       "      <td>-0.036833</td>\n",
       "      <td>0.906756</td>\n",
       "    </tr>\n",
       "    <tr>\n",
       "      <th>4</th>\n",
       "      <td>-0.055721</td>\n",
       "      <td>-0.412477</td>\n",
       "      <td>-0.068097</td>\n",
       "      <td>-0.03774</td>\n",
       "      <td>0.820943</td>\n",
       "      <td>-0.129946</td>\n",
       "      <td>0.86113</td>\n",
       "      <td>0.475273</td>\n",
       "      <td>-0.209420</td>\n",
       "      <td>0.120652</td>\n",
       "      <td>-0.064667</td>\n",
       "      <td>0.224638</td>\n",
       "      <td>0.101243</td>\n",
       "      <td>0.039258</td>\n",
       "      <td>-0.134061</td>\n",
       "      <td>-0.036833</td>\n",
       "      <td>-0.093244</td>\n",
       "    </tr>\n",
       "    <tr>\n",
       "      <th>...</th>\n",
       "      <td>...</td>\n",
       "      <td>...</td>\n",
       "      <td>...</td>\n",
       "      <td>...</td>\n",
       "      <td>...</td>\n",
       "      <td>...</td>\n",
       "      <td>...</td>\n",
       "      <td>...</td>\n",
       "      <td>...</td>\n",
       "      <td>...</td>\n",
       "      <td>...</td>\n",
       "      <td>...</td>\n",
       "      <td>...</td>\n",
       "      <td>...</td>\n",
       "      <td>...</td>\n",
       "      <td>...</td>\n",
       "      <td>...</td>\n",
       "    </tr>\n",
       "    <tr>\n",
       "      <th>319790</th>\n",
       "      <td>-0.011052</td>\n",
       "      <td>0.587523</td>\n",
       "      <td>-0.068097</td>\n",
       "      <td>-0.03774</td>\n",
       "      <td>0.120943</td>\n",
       "      <td>-0.129946</td>\n",
       "      <td>0.86113</td>\n",
       "      <td>-0.524727</td>\n",
       "      <td>0.129563</td>\n",
       "      <td>-0.279348</td>\n",
       "      <td>0.268666</td>\n",
       "      <td>-0.775362</td>\n",
       "      <td>-0.398757</td>\n",
       "      <td>-0.047699</td>\n",
       "      <td>0.865939</td>\n",
       "      <td>-0.036833</td>\n",
       "      <td>-0.093244</td>\n",
       "    </tr>\n",
       "    <tr>\n",
       "      <th>319791</th>\n",
       "      <td>0.018286</td>\n",
       "      <td>0.587523</td>\n",
       "      <td>-0.068097</td>\n",
       "      <td>-0.03774</td>\n",
       "      <td>-0.112390</td>\n",
       "      <td>-0.129946</td>\n",
       "      <td>-0.13887</td>\n",
       "      <td>-0.524727</td>\n",
       "      <td>-0.294165</td>\n",
       "      <td>-0.279348</td>\n",
       "      <td>-0.064667</td>\n",
       "      <td>0.224638</td>\n",
       "      <td>0.101243</td>\n",
       "      <td>-0.091177</td>\n",
       "      <td>0.865939</td>\n",
       "      <td>-0.036833</td>\n",
       "      <td>-0.093244</td>\n",
       "    </tr>\n",
       "    <tr>\n",
       "      <th>319792</th>\n",
       "      <td>-0.049323</td>\n",
       "      <td>-0.412477</td>\n",
       "      <td>-0.068097</td>\n",
       "      <td>-0.03774</td>\n",
       "      <td>-0.112390</td>\n",
       "      <td>-0.129946</td>\n",
       "      <td>-0.13887</td>\n",
       "      <td>0.475273</td>\n",
       "      <td>-0.124674</td>\n",
       "      <td>-0.279348</td>\n",
       "      <td>-0.064667</td>\n",
       "      <td>0.224638</td>\n",
       "      <td>-0.148757</td>\n",
       "      <td>-0.047699</td>\n",
       "      <td>-0.134061</td>\n",
       "      <td>-0.036833</td>\n",
       "      <td>-0.093244</td>\n",
       "    </tr>\n",
       "    <tr>\n",
       "      <th>319793</th>\n",
       "      <td>0.054142</td>\n",
       "      <td>-0.412477</td>\n",
       "      <td>-0.068097</td>\n",
       "      <td>-0.03774</td>\n",
       "      <td>-0.112390</td>\n",
       "      <td>-0.129946</td>\n",
       "      <td>-0.13887</td>\n",
       "      <td>0.475273</td>\n",
       "      <td>-0.463657</td>\n",
       "      <td>-0.279348</td>\n",
       "      <td>-0.064667</td>\n",
       "      <td>-0.775362</td>\n",
       "      <td>-0.148757</td>\n",
       "      <td>0.213171</td>\n",
       "      <td>-0.134061</td>\n",
       "      <td>-0.036833</td>\n",
       "      <td>-0.093244</td>\n",
       "    </tr>\n",
       "    <tr>\n",
       "      <th>319794</th>\n",
       "      <td>0.220145</td>\n",
       "      <td>-0.412477</td>\n",
       "      <td>-0.068097</td>\n",
       "      <td>-0.03774</td>\n",
       "      <td>-0.112390</td>\n",
       "      <td>-0.129946</td>\n",
       "      <td>-0.13887</td>\n",
       "      <td>0.475273</td>\n",
       "      <td>0.434648</td>\n",
       "      <td>-0.279348</td>\n",
       "      <td>-0.064667</td>\n",
       "      <td>0.224638</td>\n",
       "      <td>-0.148757</td>\n",
       "      <td>0.039258</td>\n",
       "      <td>-0.134061</td>\n",
       "      <td>-0.036833</td>\n",
       "      <td>-0.093244</td>\n",
       "    </tr>\n",
       "  </tbody>\n",
       "</table>\n",
       "<p>319795 rows × 17 columns</p>\n",
       "</div>"
      ],
      "text/plain": [
       "             BMI   Smoking  AlcoholDrinking   Stroke  PhysicalHealth  \\\n",
       "0      -0.141560  0.587523        -0.068097 -0.03774       -0.012390   \n",
       "1      -0.096407 -0.412477        -0.068097  0.96226       -0.112390   \n",
       "2      -0.021072  0.587523        -0.068097 -0.03774        0.554276   \n",
       "3      -0.049685 -0.412477        -0.068097 -0.03774       -0.112390   \n",
       "4      -0.055721 -0.412477        -0.068097 -0.03774        0.820943   \n",
       "...          ...       ...              ...      ...             ...   \n",
       "319790 -0.011052  0.587523        -0.068097 -0.03774        0.120943   \n",
       "319791  0.018286  0.587523        -0.068097 -0.03774       -0.112390   \n",
       "319792 -0.049323 -0.412477        -0.068097 -0.03774       -0.112390   \n",
       "319793  0.054142 -0.412477        -0.068097 -0.03774       -0.112390   \n",
       "319794  0.220145 -0.412477        -0.068097 -0.03774       -0.112390   \n",
       "\n",
       "        MentalHealth  DiffWalking       Sex  AgeCategory      Race  Diabetic  \\\n",
       "0           0.870054     -0.13887  0.475273     0.044818  0.120652  0.268666   \n",
       "1          -0.129946     -0.13887  0.475273     0.434648  0.120652 -0.064667   \n",
       "2           0.870054     -0.13887 -0.524727     0.214309  0.120652  0.268666   \n",
       "3          -0.129946     -0.13887  0.475273     0.383801  0.120652 -0.064667   \n",
       "4          -0.129946      0.86113  0.475273    -0.209420  0.120652 -0.064667   \n",
       "...              ...          ...       ...          ...       ...       ...   \n",
       "319790     -0.129946      0.86113 -0.524727     0.129563 -0.279348  0.268666   \n",
       "319791     -0.129946     -0.13887 -0.524727    -0.294165 -0.279348 -0.064667   \n",
       "319792     -0.129946     -0.13887  0.475273    -0.124674 -0.279348 -0.064667   \n",
       "319793     -0.129946     -0.13887  0.475273    -0.463657 -0.279348 -0.064667   \n",
       "319794     -0.129946     -0.13887  0.475273     0.434648 -0.279348 -0.064667   \n",
       "\n",
       "        PhysicalActivity  GenHealth  SleepTime    Asthma  KidneyDisease  \\\n",
       "0               0.224638   0.101243  -0.091177  0.865939      -0.036833   \n",
       "1               0.224638   0.101243  -0.004221 -0.134061      -0.036833   \n",
       "2               0.224638  -0.398757   0.039258  0.865939      -0.036833   \n",
       "3              -0.775362  -0.148757  -0.047699 -0.134061      -0.036833   \n",
       "4               0.224638   0.101243   0.039258 -0.134061      -0.036833   \n",
       "...                  ...        ...        ...       ...            ...   \n",
       "319790         -0.775362  -0.398757  -0.047699  0.865939      -0.036833   \n",
       "319791          0.224638   0.101243  -0.091177  0.865939      -0.036833   \n",
       "319792          0.224638  -0.148757  -0.047699 -0.134061      -0.036833   \n",
       "319793         -0.775362  -0.148757   0.213171 -0.134061      -0.036833   \n",
       "319794          0.224638  -0.148757   0.039258 -0.134061      -0.036833   \n",
       "\n",
       "        SkinCancer  \n",
       "0         0.906756  \n",
       "1        -0.093244  \n",
       "2        -0.093244  \n",
       "3         0.906756  \n",
       "4        -0.093244  \n",
       "...            ...  \n",
       "319790   -0.093244  \n",
       "319791   -0.093244  \n",
       "319792   -0.093244  \n",
       "319793   -0.093244  \n",
       "319794   -0.093244  \n",
       "\n",
       "[319795 rows x 17 columns]"
      ]
     },
     "execution_count": 13,
     "metadata": {},
     "output_type": "execute_result"
    }
   ],
   "source": [
    "datos1 = datos.drop(['HeartDisease'],axis=1) #Eliminando el atributo de decisión \n",
    "#Ajustar los datos restando la media a cada atributo\n",
    "datos_A = pd.DataFrame(columns=datos1.columns,index=range(len(datos1)))\n",
    "for i in datos_A.columns:\n",
    "    datos_A[i] = datos1[i] - datos1[i].mean()    \n",
    "datos_A"
   ]
  },
  {
   "cell_type": "code",
   "execution_count": 14,
   "metadata": {
    "id": "UZXHDoQ7eMc3"
   },
   "outputs": [],
   "source": [
    "matrix = matriz_cov(datos_A)"
   ]
  },
  {
   "cell_type": "code",
   "execution_count": 15,
   "metadata": {
    "colab": {
     "base_uri": "https://localhost:8080/",
     "height": 282
    },
    "id": "DZ-mR0R7SIRq",
    "outputId": "6c984283-7196-4e48-aea0-d60ca5c40c0b"
   },
   "outputs": [
    {
     "data": {
      "text/plain": [
       "<AxesSubplot:>"
      ]
     },
     "execution_count": 15,
     "metadata": {},
     "output_type": "execute_result"
    },
    {
     "data": {
      "image/png": "[encoded data removed]",
      "text/plain": [
       "<Figure size 432x288 with 2 Axes>"
      ]
     },
     "metadata": {
      "needs_background": "light"
     },
     "output_type": "display_data"
    }
   ],
   "source": [
    "sns.heatmap(matrix)"
   ]
  },
  {
   "cell_type": "code",
   "execution_count": 16,
   "metadata": {
    "id": "XiG5iroReMc4"
   },
   "outputs": [],
   "source": [
    "L,V =  np.linalg.eig(matrix)"
   ]
  },
  {
   "cell_type": "code",
   "execution_count": 17,
   "metadata": {
    "colab": {
     "base_uri": "https://localhost:8080/"
    },
    "id": "DnWhW2CveMc4",
    "outputId": "eee4a47f-ff13-44df-8afb-b3120e8789ef"
   },
   "outputs": [
    {
     "data": {
      "text/plain": [
       "array([0.28757052, 0.26486332, 0.19009429, 0.12647297, 0.12404555,\n",
       "       0.09701111, 0.00529354, 0.00377293, 0.07360315, 0.06187594,\n",
       "       0.05744162, 0.05385894, 0.0246463 , 0.04358201, 0.03576996,\n",
       "       0.03378655, 0.0324242 ])"
      ]
     },
     "execution_count": 17,
     "metadata": {},
     "output_type": "execute_result"
    }
   ],
   "source": [
    "#Eigenvalores\n",
    "L"
   ]
  },
  {
   "cell_type": "code",
   "execution_count": 18,
   "metadata": {
    "colab": {
     "base_uri": "https://localhost:8080/"
    },
    "id": "-yrSyy8XeMc4",
    "outputId": "44d73998-3109-4eab-cc44-4abe3d45fbe1"
   },
   "outputs": [
    {
     "name": "stdout",
     "output_type": "stream",
     "text": [
      "BMI: 18.967619338273785\n",
      "Smoking: 17.46989431225539\n",
      "AlcoholDrinking: 12.538267815519589\n",
      "Stroke: 8.341922886205536\n",
      "PhysicalHealth: 8.181814868924253\n",
      "MentalHealth: 6.398673105506228\n",
      "DiffWalking: 0.34915183715675613\n",
      "Sex: 0.2488557332486789\n",
      "AgeCategory: 4.854727259823224\n",
      "Race: 4.081222739746426\n",
      "Diabetic: 3.7887428910156444\n",
      "PhysicalActivity: 3.5524357409032428\n",
      "GenHealth: 1.6256240537731756\n",
      "SleepTime: 2.874588394650617\n",
      "Asthma: 2.3593203249524075\n",
      "KidneyDisease: 2.228498248851064\n",
      "SkinCancer: 2.1386404491939914\n"
     ]
    }
   ],
   "source": [
    "#Obtener el porcentaje de covarianza de cada uno de los atributos\n",
    "total = L.sum()\n",
    "p = (L/total)*100\n",
    "columnas1 = datos_A.columns.values\n",
    "for index, row in enumerate(p):\n",
    "  print(columnas1[index] + ':',row)"
   ]
  },
  {
   "cell_type": "markdown",
   "metadata": {
    "id": "WTJObUaEeMc4"
   },
   "source": [
    "PCA muesttra que los únicos atributos que aportan mayor información son 10 de 17 atributos: BMI,Smoking,AlcoholDrinking,Stroke, PhysicalHealth, MentalHealth,AgeCategory,Diabetic,PhysicalActivity, GenHealth, SleepTime sumando una ganancia por encima del 90%. (91.04%)"
   ]
  },
  {
   "cell_type": "markdown",
   "metadata": {
    "id": "Bh4Bpg9ZeMc4"
   },
   "source": [
    "###  Datos de entrenamiento y prueba  "
   ]
  },
  {
   "cell_type": "code",
   "execution_count": 19,
   "metadata": {
    "id": "w6WguHH6XLRJ"
   },
   "outputs": [],
   "source": [
    "def method_8020(x,y):\n",
    "  train_x = x[0 : int(len(x)*0.8)]\n",
    "  train_y = y[0 : int(len(y)*0.8)]\n",
    "  test_x = x[int(len(x)*0.8) : ]\n",
    "  test_y = y[int(len(y)*0.8) : ]\n",
    "  return train_x, train_y, test_x, test_y"
   ]
  },
  {
   "cell_type": "code",
   "execution_count": 57,
   "metadata": {
    "id": "b26bQ-OoXWua"
   },
   "outputs": [],
   "source": [
    "y = datos['HeartDisease']\n",
    "train_x, train_y, test_x, test_y = method_8020(datos,y)"
   ]
  },
  {
   "cell_type": "code",
   "execution_count": 58,
   "metadata": {
    "id": "HLS8G5oL45vH"
   },
   "outputs": [],
   "source": [
    "train_x = train_x[:20000]\n",
    "train_y = train_y[:20000]\n",
    "test_x = test_x[:20000]\n",
    "test_y = test_y[:20000]"
   ]
  },
  {
   "cell_type": "markdown",
   "metadata": {
    "id": "X8MZwwyEeMc4"
   },
   "source": [
    "#### Matriz de confusión y métricas de evaluación"
   ]
  },
  {
   "cell_type": "code",
   "execution_count": 59,
   "metadata": {
    "id": "Ycum-JRXeMc5"
   },
   "outputs": [],
   "source": [
    "#Función que obtiene las métricas del algoritmo para su validación\n",
    "def metricas(claseP,true_train):\n",
    "    TP = 0\n",
    "    FP = 0\n",
    "    TN = 0\n",
    "    FN = 0\n",
    "    #Determinar los TP,TN,FP y FN para la matriz de confusión del entrenamiento \n",
    "    for i in range(len(claseP)):\n",
    "        if (true_train[i] == claseP[i]) and true_train[i] == 1:\n",
    "            TP += 1\n",
    "        elif (true_train[i] == claseP[i]) and true_train[i] == 0:\n",
    "            TN += 1\n",
    "        elif (true_train[i] != claseP[i]) and true_train[i] == 0:\n",
    "            FP += 1\n",
    "        else:\n",
    "            FN += 1\n",
    "            \n",
    "    accuracy = ((TP+TN)/(TP+TN+FP+FN))\n",
    "   \n",
    "    if TP + FP != 0:\n",
    "        precision = TP/(TP+FP)\n",
    "    else:\n",
    "        precision = 0\n",
    "    if TP + FN != 0:\n",
    "        sensitividad = TP/(TP+FN)\n",
    "    else:\n",
    "        sensitividad = 0\n",
    "    if precision != 0 and sensitividad != 0:\n",
    "        f1 = (2*TP)/(2*TP+FP+FN)\n",
    "    else:\n",
    "        f1 = 0\n",
    "    return [accuracy, precision, sensitividad, f1]"
   ]
  },
  {
   "cell_type": "code",
   "execution_count": 60,
   "metadata": {
    "id": "qlQyAyL29M76"
   },
   "outputs": [],
   "source": [
    "# Calculate the Euclidean distance between two vectors\n",
    "def euclidean_distance(row1, row2):\n",
    "\tdistance = 0.0 \n",
    "\tfor i in range(len(row1)-1):\t\t\t\t\t\t\t\t\t\t#for k in range(23)\n",
    "\t\tdistance += (row1[i] - row2[i])**2\n",
    "\treturn sqrt(distance)"
   ]
  },
  {
   "cell_type": "code",
   "execution_count": 61,
   "metadata": {
    "id": "4-tTh_CWFSiN"
   },
   "outputs": [],
   "source": [
    "def get_neighbors(k,distances_ord):\n",
    "  neighbors = list()\n",
    "  indices = list()\n",
    "  for i in range(k):\n",
    "    neighbors.append(distances_ord[i][0])\n",
    "    indices.append(distances_ord[i][1])\n",
    "  return neighbors,indices"
   ]
  },
  {
   "cell_type": "code",
   "execution_count": 62,
   "metadata": {
    "id": "jZz1KqWPLTlh"
   },
   "outputs": [],
   "source": [
    "def most_common(output_values):\n",
    "    return max(set(output_values), key=output_values.count)"
   ]
  },
  {
   "cell_type": "code",
   "execution_count": 63,
   "metadata": {
    "id": "K1E4QSMBeMc5"
   },
   "outputs": [],
   "source": [
    "#entrenamiento del modelo\n",
    "def predict_classification(x,y, k):\n",
    "    predict = []\n",
    "    for j in tqdm(range(0,len(x))):\n",
    "        # Inicializacion de las distancias.\n",
    "        distances = []\n",
    "        x = np.array(x)\n",
    "        for i ,example in enumerate(x):\n",
    "            distance = euclidean_distance(example,x[j])# Calculate the Euclidean distance between two vectors\n",
    "            distances.append((distance, i))\n",
    "        distances.pop(j)\n",
    "        distances_ord = sorted(distances)\n",
    "        neighbors,indices = get_neighbors(k,distances_ord)\n",
    "        output_values = y.iloc[indices]\n",
    "        output_values = output_values.to_numpy().tolist()\n",
    "        predict.append(most_common(output_values))\n",
    "    return predict"
   ]
  },
  {
   "cell_type": "markdown",
   "metadata": {
    "id": "qBHO4nhpeMc5"
   },
   "source": [
    "### Clasificación de sobrevivientes utilizando todos los atributos"
   ]
  },
  {
   "cell_type": "code",
   "execution_count": 64,
   "metadata": {
    "id": "CM6SIXQoeMc5"
   },
   "outputs": [
    {
     "name": "stderr",
     "output_type": "stream",
     "text": [
      "100%|██████████| 20000/20000 [46:52<00:00,  7.11it/s]\n",
      "100%|██████████| 20000/20000 [46:52<00:00,  7.11it/s]\n",
      "100%|██████████| 20000/20000 [46:49<00:00,  7.12it/s]\n",
      "100%|██████████| 20000/20000 [46:26<00:00,  7.18it/s]\n",
      "100%|██████████| 20000/20000 [46:01<00:00,  7.24it/s]\n",
      "100%|██████████| 20000/20000 [46:48<00:00,  7.12it/s]\n",
      "100%|██████████| 20000/20000 [47:24<00:00,  7.03it/s]\n",
      "100%|██████████| 20000/20000 [46:19<00:00,  7.20it/s]\n"
     ]
    }
   ],
   "source": [
    "error_rate = []\n",
    "\n",
    "n = int(len(train_x)/20)\n",
    "for k in range(2,10):\n",
    "    pred_i = predict_classification(train_x.values.tolist(),train_y,k) \n",
    "    #print(pred_i)\n",
    "    error_rate.append(np.mean(pred_i != train_y))"
   ]
  },
  {
   "cell_type": "code",
   "execution_count": 65,
   "metadata": {
    "colab": {
     "base_uri": "https://localhost:8080/",
     "height": 421
    },
    "id": "SFXskzCueMc5",
    "outputId": "cd381c29-8461-4ee6-8e4d-c2077e40816a"
   },
   "outputs": [
    {
     "data": {
      "text/plain": [
       "Text(0, 0.5, 'Error Rate')"
      ]
     },
     "execution_count": 65,
     "metadata": {},
     "output_type": "execute_result"
    },
    {
     "data": {
      "image/png": "[encoded data removed]",
      "text/plain": [
       "<Figure size 720x432 with 1 Axes>"
      ]
     },
     "metadata": {
      "needs_background": "light"
     },
     "output_type": "display_data"
    }
   ],
   "source": [
    "plt.figure(figsize=(10,6))\n",
    "plt.plot(range(2,10),error_rate,color='blue', linestyle='dashed', marker='o',\n",
    "markerfacecolor='red', markersize=10)\n",
    "plt.title('Error Rate vs. K Value')\n",
    "plt.xlabel('K')\n",
    "plt.ylabel('Error Rate')"
   ]
  },
  {
   "cell_type": "markdown",
   "metadata": {
    "id": "Et5FMcUHeMc5"
   },
   "source": [
    "##### Entrenamiento "
   ]
  },
  {
   "cell_type": "code",
   "execution_count": 66,
   "metadata": {
    "colab": {
     "base_uri": "https://localhost:8080/"
    },
    "id": "25M7IeBreMc6",
    "outputId": "821aba6b-1f0d-40af-e287-e280b14bf10e"
   },
   "outputs": [
    {
     "name": "stderr",
     "output_type": "stream",
     "text": [
      "100%|██████████| 20000/20000 [45:58<00:00,  7.25it/s]"
     ]
    },
    {
     "name": "stdout",
     "output_type": "stream",
     "text": [
      "Tiempo de entrenamiento:2758.8218455314636\n"
     ]
    },
    {
     "name": "stderr",
     "output_type": "stream",
     "text": [
      "\n"
     ]
    }
   ],
   "source": [
    "inicio = time.time()\n",
    "train_pred = predict_classification(train_x.values.tolist(),train_y,3)\n",
    "final = time.time()\n",
    "print('Tiempo de entrenamiento:' + str(final-inicio))"
   ]
  },
  {
   "cell_type": "code",
   "execution_count": 67,
   "metadata": {
    "colab": {
     "base_uri": "https://localhost:8080/"
    },
    "id": "dGmMZ8O5eMc6",
    "outputId": "4cc8ec2f-097b-403c-f84c-0f3e82ec552f"
   },
   "outputs": [
    {
     "name": "stdout",
     "output_type": "stream",
     "text": [
      "Exactitud:  0.99975\n",
      "Precisión:  1.0\n",
      "Sensitividad:  0.9975320829220138\n",
      "f1 Score:  0.9987645169261181\n"
     ]
    }
   ],
   "source": [
    "accuracy, precision, sensitividad, f1 = metricas(train_pred,np.array(train_y))\n",
    "\n",
    "print('Exactitud: ',accuracy)\n",
    "print('Precisión: ',precision)\n",
    "print('Sensitividad: ',sensitividad)\n",
    "print('f1 Score: ',f1)"
   ]
  },
  {
   "cell_type": "markdown",
   "metadata": {
    "id": "WdCV9UdXeMc6"
   },
   "source": [
    "#### Prueba del algoritmo "
   ]
  },
  {
   "cell_type": "code",
   "execution_count": 68,
   "metadata": {
    "id": "7beP-2FFeMc6"
   },
   "outputs": [
    {
     "name": "stderr",
     "output_type": "stream",
     "text": [
      "100%|██████████| 20000/20000 [48:46<00:00,  6.83it/s]\n"
     ]
    }
   ],
   "source": [
    "y_pred= predict_classification(test_x.values.tolist(),test_y,3)"
   ]
  },
  {
   "cell_type": "code",
   "execution_count": 69,
   "metadata": {
    "colab": {
     "base_uri": "https://localhost:8080/"
    },
    "id": "DzYKAe_reMc6",
    "outputId": "05ba8c8f-59c2-4024-e88e-c5c2883d64b7"
   },
   "outputs": [
    {
     "name": "stdout",
     "output_type": "stream",
     "text": [
      "Exactitud:  0.99975\n",
      "Precisión:  1.0\n",
      "Sensitividad:  0.9969173859432799\n",
      "f1 Score:  0.9984563136770608\n"
     ]
    }
   ],
   "source": [
    "accuracy, precision, sensitividad, f1 = metricas(y_pred,np.array(test_y))\n",
    "\n",
    "print('Exactitud: ',accuracy)\n",
    "print('Precisión: ',precision)\n",
    "print('Sensitividad: ',sensitividad)\n",
    "print('f1 Score: ',f1)"
   ]
  },
  {
   "cell_type": "markdown",
   "metadata": {
    "id": "4WcrIVGBeMc6"
   },
   "source": [
    "### Clasificación de HeartDisease PCA"
   ]
  },
  {
   "cell_type": "code",
   "execution_count": 70,
   "metadata": {
    "id": "6GmrVuFGeMc6"
   },
   "outputs": [
    {
     "name": "stderr",
     "output_type": "stream",
     "text": [
      "100%|██████████| 20000/20000 [31:54<00:00, 10.45it/s]\n",
      "100%|██████████| 20000/20000 [30:55<00:00, 10.78it/s]\n",
      "100%|██████████| 20000/20000 [31:30<00:00, 10.58it/s]\n",
      "100%|██████████| 20000/20000 [30:23<00:00, 10.97it/s]\n",
      "100%|██████████| 20000/20000 [30:54<00:00, 10.79it/s]\n",
      "100%|██████████| 20000/20000 [31:32<00:00, 10.57it/s]\n",
      "100%|██████████| 20000/20000 [31:36<00:00, 10.55it/s]\n",
      "100%|██████████| 20000/20000 [31:28<00:00, 10.59it/s]\n"
     ]
    }
   ],
   "source": [
    "error_rate = []\n",
    "\n",
    "n = int(len(train_x)/20)\n",
    "for k in range(2,10):\n",
    "    pred_i = predict_classification(train_x.loc[:,['BMI','Smoking','AlcoholDrinking','Stroke','PhysicalHealth','MentalHealth','AgeCategory','Diabetic','GenHealth','PhysicalActivity','SleepTime']].values.tolist(),train_y,k) #checar función\n",
    "    error_rate.append(np.mean(pred_i != train_y))"
   ]
  },
  {
   "cell_type": "code",
   "execution_count": 71,
   "metadata": {
    "colab": {
     "base_uri": "https://localhost:8080/",
     "height": 421
    },
    "id": "1PoNn77veMc6",
    "outputId": "c36305f4-d47e-415a-e148-ef19886187a1"
   },
   "outputs": [
    {
     "data": {
      "text/plain": [
       "Text(0, 0.5, 'Error Rate')"
      ]
     },
     "execution_count": 71,
     "metadata": {},
     "output_type": "execute_result"
    },
    {
     "data": {
      "image/png": "[encoded data removed]",
      "text/plain": [
       "<Figure size 720x432 with 1 Axes>"
      ]
     },
     "metadata": {
      "needs_background": "light"
     },
     "output_type": "display_data"
    }
   ],
   "source": [
    "plt.figure(figsize=(10,6))\n",
    "plt.plot(range(2,10),error_rate,color='blue', linestyle='dashed', marker='o',\n",
    "markerfacecolor='red', markersize=10)\n",
    "plt.title('Error Rate vs. K Value')\n",
    "plt.xlabel('K')\n",
    "plt.ylabel('Error Rate')"
   ]
  },
  {
   "cell_type": "markdown",
   "metadata": {
    "id": "K05mz4ULeMc6"
   },
   "source": [
    "#### Entrenamiento"
   ]
  },
  {
   "cell_type": "code",
   "execution_count": 75,
   "metadata": {
    "colab": {
     "base_uri": "https://localhost:8080/"
    },
    "id": "Yr1tJ4PteMc7",
    "outputId": "ee783cd7-6bf3-4f76-9fd7-e8712aeb342c"
   },
   "outputs": [
    {
     "name": "stderr",
     "output_type": "stream",
     "text": [
      "100%|██████████| 20000/20000 [30:01<00:00, 11.10it/s]"
     ]
    },
    {
     "name": "stdout",
     "output_type": "stream",
     "text": [
      "Tiempo de entrenamiento:1801.4729025363922\n"
     ]
    },
    {
     "name": "stderr",
     "output_type": "stream",
     "text": [
      "\n"
     ]
    }
   ],
   "source": [
    "x = train_x.loc[:,['BMI','Smoking','AlcoholDrinking','Stroke','PhysicalHealth','MentalHealth','AgeCategory','Diabetic','GenHealth','PhysicalActivity','SleepTime']].values.tolist()\n",
    "inicio = time.time()\n",
    "train_pred_pca = predict_classification(x,train_y,6)\n",
    "final = time.time()\n",
    "print('Tiempo de entrenamiento:' + str(final-inicio))"
   ]
  },
  {
   "cell_type": "code",
   "execution_count": 76,
   "metadata": {
    "colab": {
     "base_uri": "https://localhost:8080/"
    },
    "id": "CFrS-AOGeMc7",
    "outputId": "c615f71d-9ee9-4770-cb5d-000d097d82ef"
   },
   "outputs": [
    {
     "name": "stdout",
     "output_type": "stream",
     "text": [
      "Exactitud:  0.8955\n",
      "Precisión:  0.4282511210762332\n",
      "Sensitividad:  0.09427443237907206\n",
      "f1 Score:  0.15453074433656958\n"
     ]
    }
   ],
   "source": [
    "accuracy, precision, sensitividad, f1 = metricas(train_pred_pca,np.array(train_y))\n",
    "\n",
    "print('Exactitud: ',accuracy)\n",
    "print('Precisión: ',precision)\n",
    "print('Sensitividad: ',sensitividad)\n",
    "print('f1 Score: ',f1)"
   ]
  },
  {
   "cell_type": "markdown",
   "metadata": {
    "id": "PZicYixfeMc7"
   },
   "source": [
    "#### Testing "
   ]
  },
  {
   "cell_type": "code",
   "execution_count": 77,
   "metadata": {
    "id": "rxom1YafeMc7"
   },
   "outputs": [
    {
     "name": "stderr",
     "output_type": "stream",
     "text": [
      "100%|██████████| 20000/20000 [30:13<00:00, 11.03it/s]\n"
     ]
    }
   ],
   "source": [
    "test_y_pred_pca= predict_classification(test_x.loc[:,['BMI','Smoking','AlcoholDrinking','Stroke','PhysicalHealth','MentalHealth','AgeCategory','Diabetic','GenHealth','PhysicalActivity','SleepTime']],test_y,6)"
   ]
  },
  {
   "cell_type": "code",
   "execution_count": 78,
   "metadata": {
    "colab": {
     "base_uri": "https://localhost:8080/"
    },
    "id": "qSxKivR1eMc7",
    "outputId": "c9b27d5d-1595-4a56-925a-7bbcd9b433a5"
   },
   "outputs": [
    {
     "name": "stdout",
     "output_type": "stream",
     "text": [
      "Exactitud:  0.9186\n",
      "Precisión:  0.4911242603550296\n",
      "Sensitividad:  0.10234278668310727\n",
      "f1 Score:  0.16938775510204082\n"
     ]
    }
   ],
   "source": [
    "accuracy, precision, sensitividad, f1 = metricas(test_y_pred_pca,np.array(test_y))\n",
    "\n",
    "print('Exactitud: ',accuracy)\n",
    "print('Precisión: ',precision)\n",
    "print('Sensitividad: ',sensitividad)\n",
    "print('f1 Score: ',f1)"
   ]
  },
  {
   "cell_type": "code",
   "execution_count": null,
   "metadata": {},
   "outputs": [],
   "source": []
  }
 ],
 "metadata": {
  "colab": {
   "collapsed_sections": [
    "yzvIf3bqPDc5",
    "K05mz4ULeMc6"
   ],
   "provenance": []
  },
  "kernelspec": {
   "display_name": "Python 3 (ipykernel)",
   "language": "python",
   "name": "python3"
  },
  "language_info": {
   "codemirror_mode": {
    "name": "ipython",
    "version": 3
   },
   "file_extension": ".py",
   "mimetype": "text/x-python",
   "name": "python",
   "nbconvert_exporter": "python",
   "pygments_lexer": "ipython3",
   "version": "3.9.12"
  }
 },
 "nbformat": 4,
 "nbformat_minor": 4
}
