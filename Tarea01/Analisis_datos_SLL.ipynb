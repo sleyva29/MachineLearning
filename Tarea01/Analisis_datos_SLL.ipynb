{
 "cells": [
  {
   "cell_type": "markdown",
   "id": "XAxuBahCvlyV",
   "metadata": {
    "id": "XAxuBahCvlyV"
   },
   "source": [
    "Importar librerías"
   ]
  },
  {
   "cell_type": "code",
   "execution_count": null,
   "id": "2f2abc09",
   "metadata": {
    "id": "2f2abc09"
   },
   "outputs": [],
   "source": [
    "import pandas as pd\n",
    "import numpy as np\n",
    "import matplotlib.pyplot as plt\n",
    "from math import floor\n",
    "import pandas as pd\n",
    "import sys\n",
    "from tqdm import tqdm\n",
    "import seaborn as sns"
   ]
  },
  {
   "cell_type": "markdown",
   "id": "9HmUwR6FvpEz",
   "metadata": {
    "id": "9HmUwR6FvpEz"
   },
   "source": [
    "Función para leer dataframe"
   ]
  },
  {
   "cell_type": "code",
   "execution_count": null,
   "id": "0598a91f",
   "metadata": {
    "id": "0598a91f"
   },
   "outputs": [],
   "source": [
    "def cargar_df():\n",
    "    path_ = input('Ingresar ruta de acceso del archivo') \n",
    "    sep_ = input('Ingresar caracter de separación:')\n",
    "    df_load = pd.read_csv(path_, sep=sep_)\n",
    "    return df_load"
   ]
  },
  {
   "cell_type": "markdown",
   "id": "dFP798UNG9qw",
   "metadata": {
    "id": "dFP798UNG9qw"
   },
   "source": [
    "# Análisis de datos"
   ]
  },
  {
   "cell_type": "markdown",
   "id": "t1uG1yOiv8hH",
   "metadata": {
    "id": "t1uG1yOiv8hH"
   },
   "source": [
    "Función para calcular el número de atributos y los atributos contenidos en el dataframe"
   ]
  },
  {
   "cell_type": "code",
   "execution_count": null,
   "id": "29c3482a",
   "metadata": {
    "id": "29c3482a"
   },
   "outputs": [],
   "source": [
    "def Numero_atributos(df_na):\n",
    "    num_atributos_ = df_na.shape[1]    #número de columnas\n",
    "    atributos_ = list(df_na.columns)   #extrae columnas-->lista\n",
    "\n",
    "    print(f'El dataset tiene {num_atributos_} atributos:')\n",
    "    \n",
    "    for i in range(num_atributos_):   \n",
    "        print(f'{i+1}.- {atributos_[i]} ')\n",
    "    return num_atributos_, atributos_"
   ]
  },
  {
   "cell_type": "markdown",
   "id": "Pjn8Ji1iyc86",
   "metadata": {
    "id": "Pjn8Ji1iyc86"
   },
   "source": [
    "Función para obtener los atributos, sus observaciones y el tipo de atributo"
   ]
  },
  {
   "cell_type": "code",
   "execution_count": null,
   "id": "17d4a6e6",
   "metadata": {
    "id": "17d4a6e6"
   },
   "outputs": [],
   "source": [
    "def Observaciones(df_o, atributos_o):\n",
    "    observaciones_ = {}\n",
    "    for i, atributo in enumerate(atributos_o):\n",
    "        obs_ = df_o[atributo].value_counts() #Return a Series containing counts of unique values.\n",
    "        obs_l_ = list(obs_.index)            #Lista de los valores únicos encontrados\n",
    "        obs_ = pd.DataFrame(obs_.index)      \n",
    "\n",
    "        tipo = df_o[atributo].dtypes\n",
    "\n",
    "        if tipo == 'object': tipo = 'categórico'\n",
    "        elif tipo == 'int': tipo = 'discreto'\n",
    "        elif tipo == 'float64': tipo = 'continuo'\n",
    "\n",
    "        print(f'''El atributo {atributo} es de tipo {tipo}, contiene {len(obs_l_)} observaciones y son las siguientes:\n",
    "        {obs_l_}\n",
    "              ''')\n",
    "        observaciones_.update({atributo:obs_})    \n",
    "    return observaciones_"
   ]
  },
  {
   "cell_type": "markdown",
   "id": "YV4OkE6zC0s_",
   "metadata": {
    "id": "YV4OkE6zC0s_"
   },
   "source": [
    "Función para calcular el número de instancias"
   ]
  },
  {
   "cell_type": "code",
   "execution_count": null,
   "id": "Pg5x5bz12Zg1",
   "metadata": {
    "id": "Pg5x5bz12Zg1"
   },
   "outputs": [],
   "source": [
    "def Numero_instancias(df_ni):\n",
    "    num_instancias_ = df_ni.shape[0]\n",
    "    print(f'El dataset tiene {num_instancias_} instancias')\n",
    "    return num_instancias_"
   ]
  },
  {
   "cell_type": "markdown",
   "id": "0F4r80HMDTft",
   "metadata": {
    "id": "0F4r80HMDTft"
   },
   "source": [
    "Función para conocer el número de datos faltantes"
   ]
  },
  {
   "cell_type": "code",
   "execution_count": null,
   "id": "678c0616",
   "metadata": {
    "id": "678c0616"
   },
   "outputs": [],
   "source": [
    "def Datos_Faltantes(df_):\n",
    "    faltantes_df = df_.isnull().sum()\n",
    "    print(f'Datos faltantes por atributo: {faltantes_df}')\n",
    "    #return faltantes_df"
   ]
  },
  {
   "cell_type": "markdown",
   "id": "4KGD4GhqExGE",
   "metadata": {
    "id": "4KGD4GhqExGE"
   },
   "source": [
    "Función que arroja el análisis de los datos, es decir, une las funciones definidad anteriormente"
   ]
  },
  {
   "cell_type": "code",
   "execution_count": null,
   "id": "9d3d0776",
   "metadata": {
    "id": "9d3d0776"
   },
   "outputs": [],
   "source": [
    "def analisis_dataset(df_analisis):\n",
    "    na = Numero_atributos(df_analisis)\n",
    "    print('\\n')\n",
    "    ni = Numero_instancias(df_analisis)\n",
    "    print('\\n')\n",
    "    faltantes = Datos_Faltantes(df_analisis)\n",
    "   # return na, ni, faltantes"
   ]
  },
  {
   "cell_type": "markdown",
   "id": "XilKw8HB2diN",
   "metadata": {
    "id": "XilKw8HB2diN"
   },
   "source": [
    "# Estadística"
   ]
  },
  {
   "cell_type": "code",
   "execution_count": null,
   "id": "ljYRH6brCHLJ",
   "metadata": {
    "id": "ljYRH6brCHLJ"
   },
   "outputs": [],
   "source": [
    "def moda(atributo_):\n",
    "    moda_1 = atributo_.value_counts()\n",
    "    moda_ = list(moda_1.index)\n",
    "    return moda_[0]"
   ]
  },
  {
   "cell_type": "code",
   "execution_count": null,
   "id": "Aoc310Iw0_MU",
   "metadata": {
    "id": "Aoc310Iw0_MU"
   },
   "outputs": [],
   "source": [
    "def maximo(columna_):\n",
    "  r = len(columna_)\n",
    "  valor_maximo_ = columna_[0]\n",
    "  for n in range(1, r):\n",
    "    k = columna_[n]\n",
    "    if valor_maximo_ < k:\n",
    "      valor_maximo_ = k\n",
    "  return valor_maximo_"
   ]
  },
  {
   "cell_type": "code",
   "execution_count": null,
   "id": "XEoBCHFi5zaw",
   "metadata": {
    "id": "XEoBCHFi5zaw"
   },
   "outputs": [],
   "source": [
    "def minimo(columna_):\n",
    "  r = len(columna_)\n",
    "  valor_minimo_ = columna_[0]\n",
    "  for n in range(1, r):\n",
    "    k = columna_[n]\n",
    "    if valor_minimo_ > k:\n",
    "      valor_minimo_ = k\n",
    "  return valor_minimo_"
   ]
  },
  {
   "cell_type": "code",
   "execution_count": null,
   "id": "hjuTkMxL7my9",
   "metadata": {
    "id": "hjuTkMxL7my9"
   },
   "outputs": [],
   "source": [
    "def media(columna_):\n",
    "  r = len(columna_)\n",
    "  sumatoria = 0\n",
    "  for i in range(r):\n",
    "    sumatoria += columna_[i]\n",
    "  media_ = sumatoria / r\n",
    "  return media_"
   ]
  },
  {
   "cell_type": "code",
   "execution_count": null,
   "id": "igC2C3tN85cN",
   "metadata": {
    "id": "igC2C3tN85cN"
   },
   "outputs": [],
   "source": [
    "def desviacion_estandar(columna_): #s\n",
    "  r = len(columna_)\n",
    "  media_columna = media(columna_)\n",
    "  sumatoria = 0\n",
    "  for i in range(r):\n",
    "    s = columna_[i] - media_columna\n",
    "    s = s**2\n",
    "    sumatoria += s\n",
    "  s = sumatoria / (r - 1)\n",
    "  s = s ** (1/2)\n",
    "  return s"
   ]
  },
  {
   "cell_type": "code",
   "execution_count": null,
   "id": "-V2loiUPCnyS",
   "metadata": {
    "id": "-V2loiUPCnyS"
   },
   "outputs": [],
   "source": [
    "def varianza(columna_): #s2\n",
    "  r = len(columna_)\n",
    "  media_columna = media(columna_)\n",
    "  sumatoria = 0\n",
    "  for i in range(r):\n",
    "    s = columna_[i] - media_columna\n",
    "    s = s**2\n",
    "    sumatoria += s\n",
    "  s_2 = sumatoria / (r - 1)\n",
    "  return s_2"
   ]
  },
  {
   "cell_type": "code",
   "execution_count": null,
   "id": "E63SHjniDFXA",
   "metadata": {
    "id": "E63SHjniDFXA"
   },
   "outputs": [],
   "source": [
    "def estadistica(atributo_):\n",
    "  mod = moda(atributo_)\n",
    "  max = maximo(atributo_)\n",
    "  min = minimo(atributo_)\n",
    "  med = media(atributo_)\n",
    "  std = desviacion_estandar(atributo_)\n",
    "  var = varianza(atributo_)\n",
    "  return mod, max, min, med, std, var"
   ]
  },
  {
   "cell_type": "markdown",
   "id": "_fV2mx79Hih8",
   "metadata": {
    "id": "_fV2mx79Hih8"
   },
   "source": [
    "# Relación entre atributos"
   ]
  },
  {
   "cell_type": "code",
   "execution_count": null,
   "id": "znw5lqw0lMyd",
   "metadata": {
    "id": "znw5lqw0lMyd"
   },
   "outputs": [],
   "source": [
    "def cuartiles(df_, atributo_):\n",
    "#1. 25% de los datos es menor que o igual a este valor.\n",
    "#2. La mediana. 50% de los datos es menor que o igual a este valor.\n",
    "#3. 75% de los datos es menor que o igual a este valor.\n",
    "#rango intercuartil. La distancia entre el primer 1er cuartil y el 3er \n",
    "#cuartil (Q3-Q1); de esta manera, abarca el 50% central de los datos.\n",
    "\n",
    "#ordenar los elementos de la columna\n",
    "  v = df_[atributo_]\n",
    "  v = np.asarray(v.sort_values())\n",
    "  n = len(v)\n",
    "  if n % 2 == 0:\n",
    " \n",
    "    #calcular cuartil uno \n",
    "    a = int(n/4) \n",
    "    q1 = v[a]\n",
    "    #calcular cuartil dos\n",
    "    b = (n)/2\n",
    "    c = b - 1\n",
    "    q2 = (v[b] + v[c])/2\n",
    "    #calcular cuartil tres\n",
    "    d = int((3*n)/4)\n",
    "    q3 = v[d]\n",
    "  else:\n",
    "\n",
    "    #calcular cuartil dos\n",
    "    b = int(n/2)\n",
    "    q2 = v[b]\n",
    "    \n",
    "    if b % 2 == 0:\n",
    "      #calcular cuartil uno \n",
    "      a = int(n/4) \n",
    "      q1 = (v[a] + v[a-1])/2\n",
    "      #calcular cuartil tres \n",
    "      d = int((3*(n))/4) \n",
    "      q3 = (v[a] + v[d-1])/2\n",
    "    else:\n",
    "\n",
    "      #calcular cuartil uno \n",
    "      a = int(n/4) \n",
    "      q1 = v[a]\n",
    "      #calcular cuartil tres\n",
    "      d = int((3*n)/4)\n",
    "      q3 = v[d]\n",
    "\n",
    "  print(f'Q1: {q1}, Q2: {q2}, Q3: {q3}')\n",
    "  return q1, q2, q3"
   ]
  },
  {
   "cell_type": "code",
   "execution_count": null,
   "id": "ck7lr7DnkBbD",
   "metadata": {
    "id": "ck7lr7DnkBbD"
   },
   "outputs": [],
   "source": [
    "def outlier(df_,atributo_):\n",
    "  v = df_[atributo_]\n",
    "  q1, q2, q3 = cuartiles(df_,atributo_)\n",
    "  out = []\n",
    "  for valor in v:\n",
    "    if valor < q1:\n",
    "      if abs(valor-q1) > 1.5*(q3-q1):\n",
    "        out.append(valor)\n",
    "    if valor > q3:\n",
    "      if abs(valor-q3) > 1.5*(q3-q1):\n",
    "        out.append(valor)\n",
    "    \n",
    "  if len(out) == 0:\n",
    "    print(f'No existen valores atípicos en el atributo {atributo_}')\n",
    "  else:\n",
    "    print(f'Se encontraron {len(out)} valores atípicos')\n",
    "    print(f'Los valores atípicos encontrados son: {np.asarray(out)}')\n",
    "  return out"
   ]
  },
  {
   "cell_type": "code",
   "execution_count": null,
   "id": "TUo2KQfCsys0",
   "metadata": {
    "id": "TUo2KQfCsys0"
   },
   "outputs": [],
   "source": [
    "def box_plot(df_, atributo_):\n",
    "  fig, ax = plt.subplots(figsize = (15,13))\n",
    "  plt.boxplot(df[atributo_])\n",
    "  plt.title(f'Distribución de {atributo_}', fontsize = 18)\n",
    "  plt.show()"
   ]
  },
  {
   "cell_type": "code",
   "execution_count": null,
   "id": "ha3u4ZlTNjpl",
   "metadata": {
    "id": "ha3u4ZlTNjpl"
   },
   "outputs": [],
   "source": [
    "def relacion_atributo(df_,atributo_):\n",
    "  cuartiles(df_,atributo_)\n",
    "  outlier(df_,atributo_)\n",
    "  box_plot(df_,atributo_)\n",
    "  "
   ]
  },
  {
   "cell_type": "code",
   "execution_count": null,
   "id": "4EK1D18ExQMD",
   "metadata": {
    "id": "4EK1D18ExQMD"
   },
   "outputs": [],
   "source": [
    "def box_plot_sns(df_, atributo_):\n",
    "  fig, ax = plt.subplots(figsize = (13,8))\n",
    "  ax = sns.boxplot(x=df['BMI'], data=df)\n",
    "  plt.title(f'Distribución de {atributo_}', fontsize = 18)\n",
    "  plt.show()"
   ]
  },
  {
   "cell_type": "code",
   "execution_count": null,
   "id": "zfcL6kEB-C8s",
   "metadata": {
    "id": "zfcL6kEB-C8s"
   },
   "outputs": [],
   "source": [
    "def covarianza(columna_, fila_):\n",
    "  suma = 0\n",
    "  for xi, yi in tqdm(zip(columna_, fila_)):\n",
    "    suma +=((xi - np.mean(columna_)) * (yi - np.mean(fila_)))\n",
    "    covar = suma * 1/(len(columna_)-1)\n",
    "  return covar"
   ]
  },
  {
   "cell_type": "code",
   "execution_count": null,
   "id": "2fffj44nyRki",
   "metadata": {
    "id": "2fffj44nyRki"
   },
   "outputs": [],
   "source": [
    "def Distribucion(df_, atributo_, atributo_d):\n",
    "  fig, ax = plt.subplots(figsize = (13,10))\n",
    "  sns.histplot(data = df_, x = atributo_, hue = atributo_d, ax = ax, kde=True, element = 'step')\n",
    "  plt.title(f'Distribución de {atributo_}', fontsize = 18)\n",
    "  ax.set_xlabel(atributo_)\n",
    "  ax.set_ylabel(\"Frequencia\")\n",
    "  plt.show()"
   ]
  },
  {
   "cell_type": "code",
   "execution_count": null,
   "id": "t9T03KmGbS1N",
   "metadata": {
    "id": "t9T03KmGbS1N"
   },
   "outputs": [],
   "source": [
    "def Balance_clases(df):\n",
    "\n",
    "  atributo_d = input('¿Cuál es tu atributo de decisión?:')\n",
    "  clases = df[atributo_d]\n",
    "  cl = clases.value_counts() \n",
    "  cl_ = list(cl.index)\n",
    "\n",
    "  porcentajes_ = (cl*100)/sum(cl)\n",
    "  print(porcentajes_)\n",
    "\n",
    "  print(f'El dataset cuenta con {len(cl_)} clases y son las siguientes: {cl_}')"
   ]
  },
  {
   "cell_type": "markdown",
   "id": "rPBJsVhR2nAj",
   "metadata": {
    "id": "rPBJsVhR2nAj"
   },
   "source": [
    "#CARGAR DATASET"
   ]
  },
  {
   "cell_type": "code",
   "execution_count": null,
   "id": "SNBS1YCkv_6K",
   "metadata": {
    "colab": {
     "base_uri": "https://localhost:8080/"
    },
    "id": "SNBS1YCkv_6K",
    "outputId": "504fc20f-5597-4d2b-b628-bb0c59e35658"
   },
   "outputs": [
    {
     "name": "stdout",
     "output_type": "stream",
     "text": [
      "Drive already mounted at /content/drive; to attempt to forcibly remount, call drive.mount(\"/content/drive\", force_remount=True).\n"
     ]
    }
   ],
   "source": [
    "from google.colab import drive\n",
    "drive.mount('/content/drive')"
   ]
  },
  {
   "cell_type": "code",
   "execution_count": null,
   "id": "33eDIfkewCLm",
   "metadata": {
    "id": "33eDIfkewCLm"
   },
   "outputs": [],
   "source": [
    "sys.path.append('/content/drive/MyDrive/Machine_Learning')"
   ]
  },
  {
   "cell_type": "code",
   "execution_count": null,
   "id": "DZMkJ8K3RTq7",
   "metadata": {
    "colab": {
     "base_uri": "https://localhost:8080/"
    },
    "id": "DZMkJ8K3RTq7",
    "outputId": "2af1a477-6c2a-4f8b-e39d-d23ed455b512"
   },
   "outputs": [
    {
     "name": "stdout",
     "output_type": "stream",
     "text": [
      "Ingresar ruta de acceso del archivo/content/drive/MyDrive/Machine_Learning/Tarea01/heart_2020_cleaned (1).csv\n",
      "Ingresar caracter de separación:,\n"
     ]
    }
   ],
   "source": [
    "#/content/drive/MyDrive/Machine_Learning/Tarea01/heart_2020_cleaned (1).csv\n",
    "#/content/drive/MyDrive/Machine_Learning/Tarea01/codificado_noindex (1).csv\n",
    "df = cargar_df()"
   ]
  },
  {
   "cell_type": "code",
   "execution_count": null,
   "id": "WSIx48BX96uT",
   "metadata": {
    "colab": {
     "base_uri": "https://localhost:8080/",
     "height": 270
    },
    "id": "WSIx48BX96uT",
    "outputId": "41c15e8c-00e5-45d4-b632-438d9f98c130"
   },
   "outputs": [
    {
     "data": {
      "text/html": [
       "\n",
       "  <div id=\"df-03ef7244-d212-4177-b84b-3beec9585724\">\n",
       "    <div class=\"colab-df-container\">\n",
       "      <div>\n",
       "<style scoped>\n",
       "    .dataframe tbody tr th:only-of-type {\n",
       "        vertical-align: middle;\n",
       "    }\n",
       "\n",
       "    .dataframe tbody tr th {\n",
       "        vertical-align: top;\n",
       "    }\n",
       "\n",
       "    .dataframe thead th {\n",
       "        text-align: right;\n",
       "    }\n",
       "</style>\n",
       "<table border=\"1\" class=\"dataframe\">\n",
       "  <thead>\n",
       "    <tr style=\"text-align: right;\">\n",
       "      <th></th>\n",
       "      <th>HeartDisease</th>\n",
       "      <th>BMI</th>\n",
       "      <th>Smoking</th>\n",
       "      <th>AlcoholDrinking</th>\n",
       "      <th>Stroke</th>\n",
       "      <th>PhysicalHealth</th>\n",
       "      <th>MentalHealth</th>\n",
       "      <th>DiffWalking</th>\n",
       "      <th>Sex</th>\n",
       "      <th>AgeCategory</th>\n",
       "      <th>Race</th>\n",
       "      <th>Diabetic</th>\n",
       "      <th>PhysicalActivity</th>\n",
       "      <th>GenHealth</th>\n",
       "      <th>SleepTime</th>\n",
       "      <th>Asthma</th>\n",
       "      <th>KidneyDisease</th>\n",
       "      <th>SkinCancer</th>\n",
       "    </tr>\n",
       "  </thead>\n",
       "  <tbody>\n",
       "    <tr>\n",
       "      <th>0</th>\n",
       "      <td>No</td>\n",
       "      <td>16.60</td>\n",
       "      <td>Yes</td>\n",
       "      <td>No</td>\n",
       "      <td>No</td>\n",
       "      <td>3.0</td>\n",
       "      <td>30.0</td>\n",
       "      <td>No</td>\n",
       "      <td>Female</td>\n",
       "      <td>55-59</td>\n",
       "      <td>White</td>\n",
       "      <td>Yes</td>\n",
       "      <td>Yes</td>\n",
       "      <td>Very good</td>\n",
       "      <td>5.0</td>\n",
       "      <td>Yes</td>\n",
       "      <td>No</td>\n",
       "      <td>Yes</td>\n",
       "    </tr>\n",
       "    <tr>\n",
       "      <th>1</th>\n",
       "      <td>No</td>\n",
       "      <td>20.34</td>\n",
       "      <td>No</td>\n",
       "      <td>No</td>\n",
       "      <td>Yes</td>\n",
       "      <td>0.0</td>\n",
       "      <td>0.0</td>\n",
       "      <td>No</td>\n",
       "      <td>Female</td>\n",
       "      <td>80 or older</td>\n",
       "      <td>White</td>\n",
       "      <td>No</td>\n",
       "      <td>Yes</td>\n",
       "      <td>Very good</td>\n",
       "      <td>7.0</td>\n",
       "      <td>No</td>\n",
       "      <td>No</td>\n",
       "      <td>No</td>\n",
       "    </tr>\n",
       "    <tr>\n",
       "      <th>2</th>\n",
       "      <td>No</td>\n",
       "      <td>26.58</td>\n",
       "      <td>Yes</td>\n",
       "      <td>No</td>\n",
       "      <td>No</td>\n",
       "      <td>20.0</td>\n",
       "      <td>30.0</td>\n",
       "      <td>No</td>\n",
       "      <td>Male</td>\n",
       "      <td>65-69</td>\n",
       "      <td>White</td>\n",
       "      <td>Yes</td>\n",
       "      <td>Yes</td>\n",
       "      <td>Fair</td>\n",
       "      <td>8.0</td>\n",
       "      <td>Yes</td>\n",
       "      <td>No</td>\n",
       "      <td>No</td>\n",
       "    </tr>\n",
       "    <tr>\n",
       "      <th>3</th>\n",
       "      <td>No</td>\n",
       "      <td>24.21</td>\n",
       "      <td>No</td>\n",
       "      <td>No</td>\n",
       "      <td>No</td>\n",
       "      <td>0.0</td>\n",
       "      <td>0.0</td>\n",
       "      <td>No</td>\n",
       "      <td>Female</td>\n",
       "      <td>75-79</td>\n",
       "      <td>White</td>\n",
       "      <td>No</td>\n",
       "      <td>No</td>\n",
       "      <td>Good</td>\n",
       "      <td>6.0</td>\n",
       "      <td>No</td>\n",
       "      <td>No</td>\n",
       "      <td>Yes</td>\n",
       "    </tr>\n",
       "    <tr>\n",
       "      <th>4</th>\n",
       "      <td>No</td>\n",
       "      <td>23.71</td>\n",
       "      <td>No</td>\n",
       "      <td>No</td>\n",
       "      <td>No</td>\n",
       "      <td>28.0</td>\n",
       "      <td>0.0</td>\n",
       "      <td>Yes</td>\n",
       "      <td>Female</td>\n",
       "      <td>40-44</td>\n",
       "      <td>White</td>\n",
       "      <td>No</td>\n",
       "      <td>Yes</td>\n",
       "      <td>Very good</td>\n",
       "      <td>8.0</td>\n",
       "      <td>No</td>\n",
       "      <td>No</td>\n",
       "      <td>No</td>\n",
       "    </tr>\n",
       "  </tbody>\n",
       "</table>\n",
       "</div>\n",
       "      <button class=\"colab-df-convert\" onclick=\"convertToInteractive('df-03ef7244-d212-4177-b84b-3beec9585724')\"\n",
       "              title=\"Convert this dataframe to an interactive table.\"\n",
       "              style=\"display:none;\">\n",
       "        \n",
       "  <svg xmlns=\"http://www.w3.org/2000/svg\" height=\"24px\"viewBox=\"0 0 24 24\"\n",
       "       width=\"24px\">\n",
       "    <path d=\"M0 0h24v24H0V0z\" fill=\"none\"/>\n",
       "    <path d=\"M18.56 5.44l.94 2.06.94-2.06 2.06-.94-2.06-.94-.94-2.06-.94 2.06-2.06.94zm-11 1L8.5 8.5l.94-2.06 2.06-.94-2.06-.94L8.5 2.5l-.94 2.06-2.06.94zm10 10l.94 2.06.94-2.06 2.06-.94-2.06-.94-.94-2.06-.94 2.06-2.06.94z\"/><path d=\"M17.41 7.96l-1.37-1.37c-.4-.4-.92-.59-1.43-.59-.52 0-1.04.2-1.43.59L10.3 9.45l-7.72 7.72c-.78.78-.78 2.05 0 2.83L4 21.41c.39.39.9.59 1.41.59.51 0 1.02-.2 1.41-.59l7.78-7.78 2.81-2.81c.8-.78.8-2.07 0-2.86zM5.41 20L4 18.59l7.72-7.72 1.47 1.35L5.41 20z\"/>\n",
       "  </svg>\n",
       "      </button>\n",
       "      \n",
       "  <style>\n",
       "    .colab-df-container {\n",
       "      display:flex;\n",
       "      flex-wrap:wrap;\n",
       "      gap: 12px;\n",
       "    }\n",
       "\n",
       "    .colab-df-convert {\n",
       "      background-color: #E8F0FE;\n",
       "      border: none;\n",
       "      border-radius: 50%;\n",
       "      cursor: pointer;\n",
       "      display: none;\n",
       "      fill: #1967D2;\n",
       "      height: 32px;\n",
       "      padding: 0 0 0 0;\n",
       "      width: 32px;\n",
       "    }\n",
       "\n",
       "    .colab-df-convert:hover {\n",
       "      background-color: #E2EBFA;\n",
       "      box-shadow: 0px 1px 2px rgba(60, 64, 67, 0.3), 0px 1px 3px 1px rgba(60, 64, 67, 0.15);\n",
       "      fill: #174EA6;\n",
       "    }\n",
       "\n",
       "    [theme=dark] .colab-df-convert {\n",
       "      background-color: #3B4455;\n",
       "      fill: #D2E3FC;\n",
       "    }\n",
       "\n",
       "    [theme=dark] .colab-df-convert:hover {\n",
       "      background-color: #434B5C;\n",
       "      box-shadow: 0px 1px 3px 1px rgba(0, 0, 0, 0.15);\n",
       "      filter: drop-shadow(0px 1px 2px rgba(0, 0, 0, 0.3));\n",
       "      fill: #FFFFFF;\n",
       "    }\n",
       "  </style>\n",
       "\n",
       "      <script>\n",
       "        const buttonEl =\n",
       "          document.querySelector('#df-03ef7244-d212-4177-b84b-3beec9585724 button.colab-df-convert');\n",
       "        buttonEl.style.display =\n",
       "          google.colab.kernel.accessAllowed ? 'block' : 'none';\n",
       "\n",
       "        async function convertToInteractive(key) {\n",
       "          const element = document.querySelector('#df-03ef7244-d212-4177-b84b-3beec9585724');\n",
       "          const dataTable =\n",
       "            await google.colab.kernel.invokeFunction('convertToInteractive',\n",
       "                                                     [key], {});\n",
       "          if (!dataTable) return;\n",
       "\n",
       "          const docLinkHtml = 'Like what you see? Visit the ' +\n",
       "            '<a target=\"_blank\" href=https://colab.research.google.com/notebooks/data_table.ipynb>data table notebook</a>'\n",
       "            + ' to learn more about interactive tables.';\n",
       "          element.innerHTML = '';\n",
       "          dataTable['output_type'] = 'display_data';\n",
       "          await google.colab.output.renderOutput(dataTable, element);\n",
       "          const docLink = document.createElement('div');\n",
       "          docLink.innerHTML = docLinkHtml;\n",
       "          element.appendChild(docLink);\n",
       "        }\n",
       "      </script>\n",
       "    </div>\n",
       "  </div>\n",
       "  "
      ],
      "text/plain": [
       "  HeartDisease    BMI Smoking AlcoholDrinking Stroke  PhysicalHealth  \\\n",
       "0           No  16.60     Yes              No     No             3.0   \n",
       "1           No  20.34      No              No    Yes             0.0   \n",
       "2           No  26.58     Yes              No     No            20.0   \n",
       "3           No  24.21      No              No     No             0.0   \n",
       "4           No  23.71      No              No     No            28.0   \n",
       "\n",
       "   MentalHealth DiffWalking     Sex  AgeCategory   Race Diabetic  \\\n",
       "0          30.0          No  Female        55-59  White      Yes   \n",
       "1           0.0          No  Female  80 or older  White       No   \n",
       "2          30.0          No    Male        65-69  White      Yes   \n",
       "3           0.0          No  Female        75-79  White       No   \n",
       "4           0.0         Yes  Female        40-44  White       No   \n",
       "\n",
       "  PhysicalActivity  GenHealth  SleepTime Asthma KidneyDisease SkinCancer  \n",
       "0              Yes  Very good        5.0    Yes            No        Yes  \n",
       "1              Yes  Very good        7.0     No            No         No  \n",
       "2              Yes       Fair        8.0    Yes            No         No  \n",
       "3               No       Good        6.0     No            No        Yes  \n",
       "4              Yes  Very good        8.0     No            No         No  "
      ]
     },
     "execution_count": 92,
     "metadata": {},
     "output_type": "execute_result"
    }
   ],
   "source": [
    "df.head()"
   ]
  },
  {
   "cell_type": "code",
   "execution_count": null,
   "id": "zkUAp6YomJhj",
   "metadata": {
    "colab": {
     "base_uri": "https://localhost:8080/",
     "height": 300
    },
    "id": "zkUAp6YomJhj",
    "outputId": "043c1176-1aeb-4b8b-a3bf-c38b11eb9f21"
   },
   "outputs": [
    {
     "data": {
      "text/html": [
       "\n",
       "  <div id=\"df-9fdf7746-53e1-4435-ae90-5336e7dac7c5\">\n",
       "    <div class=\"colab-df-container\">\n",
       "      <div>\n",
       "<style scoped>\n",
       "    .dataframe tbody tr th:only-of-type {\n",
       "        vertical-align: middle;\n",
       "    }\n",
       "\n",
       "    .dataframe tbody tr th {\n",
       "        vertical-align: top;\n",
       "    }\n",
       "\n",
       "    .dataframe thead th {\n",
       "        text-align: right;\n",
       "    }\n",
       "</style>\n",
       "<table border=\"1\" class=\"dataframe\">\n",
       "  <thead>\n",
       "    <tr style=\"text-align: right;\">\n",
       "      <th></th>\n",
       "      <th>BMI</th>\n",
       "      <th>PhysicalHealth</th>\n",
       "      <th>MentalHealth</th>\n",
       "      <th>SleepTime</th>\n",
       "    </tr>\n",
       "  </thead>\n",
       "  <tbody>\n",
       "    <tr>\n",
       "      <th>count</th>\n",
       "      <td>319795.000000</td>\n",
       "      <td>319795.00000</td>\n",
       "      <td>319795.000000</td>\n",
       "      <td>319795.000000</td>\n",
       "    </tr>\n",
       "    <tr>\n",
       "      <th>mean</th>\n",
       "      <td>28.325399</td>\n",
       "      <td>3.37171</td>\n",
       "      <td>3.898366</td>\n",
       "      <td>7.097075</td>\n",
       "    </tr>\n",
       "    <tr>\n",
       "      <th>std</th>\n",
       "      <td>6.356100</td>\n",
       "      <td>7.95085</td>\n",
       "      <td>7.955235</td>\n",
       "      <td>1.436007</td>\n",
       "    </tr>\n",
       "    <tr>\n",
       "      <th>min</th>\n",
       "      <td>12.020000</td>\n",
       "      <td>0.00000</td>\n",
       "      <td>0.000000</td>\n",
       "      <td>1.000000</td>\n",
       "    </tr>\n",
       "    <tr>\n",
       "      <th>25%</th>\n",
       "      <td>24.030000</td>\n",
       "      <td>0.00000</td>\n",
       "      <td>0.000000</td>\n",
       "      <td>6.000000</td>\n",
       "    </tr>\n",
       "    <tr>\n",
       "      <th>50%</th>\n",
       "      <td>27.340000</td>\n",
       "      <td>0.00000</td>\n",
       "      <td>0.000000</td>\n",
       "      <td>7.000000</td>\n",
       "    </tr>\n",
       "    <tr>\n",
       "      <th>75%</th>\n",
       "      <td>31.420000</td>\n",
       "      <td>2.00000</td>\n",
       "      <td>3.000000</td>\n",
       "      <td>8.000000</td>\n",
       "    </tr>\n",
       "    <tr>\n",
       "      <th>max</th>\n",
       "      <td>94.850000</td>\n",
       "      <td>30.00000</td>\n",
       "      <td>30.000000</td>\n",
       "      <td>24.000000</td>\n",
       "    </tr>\n",
       "  </tbody>\n",
       "</table>\n",
       "</div>\n",
       "      <button class=\"colab-df-convert\" onclick=\"convertToInteractive('df-9fdf7746-53e1-4435-ae90-5336e7dac7c5')\"\n",
       "              title=\"Convert this dataframe to an interactive table.\"\n",
       "              style=\"display:none;\">\n",
       "        \n",
       "  <svg xmlns=\"http://www.w3.org/2000/svg\" height=\"24px\"viewBox=\"0 0 24 24\"\n",
       "       width=\"24px\">\n",
       "    <path d=\"M0 0h24v24H0V0z\" fill=\"none\"/>\n",
       "    <path d=\"M18.56 5.44l.94 2.06.94-2.06 2.06-.94-2.06-.94-.94-2.06-.94 2.06-2.06.94zm-11 1L8.5 8.5l.94-2.06 2.06-.94-2.06-.94L8.5 2.5l-.94 2.06-2.06.94zm10 10l.94 2.06.94-2.06 2.06-.94-2.06-.94-.94-2.06-.94 2.06-2.06.94z\"/><path d=\"M17.41 7.96l-1.37-1.37c-.4-.4-.92-.59-1.43-.59-.52 0-1.04.2-1.43.59L10.3 9.45l-7.72 7.72c-.78.78-.78 2.05 0 2.83L4 21.41c.39.39.9.59 1.41.59.51 0 1.02-.2 1.41-.59l7.78-7.78 2.81-2.81c.8-.78.8-2.07 0-2.86zM5.41 20L4 18.59l7.72-7.72 1.47 1.35L5.41 20z\"/>\n",
       "  </svg>\n",
       "      </button>\n",
       "      \n",
       "  <style>\n",
       "    .colab-df-container {\n",
       "      display:flex;\n",
       "      flex-wrap:wrap;\n",
       "      gap: 12px;\n",
       "    }\n",
       "\n",
       "    .colab-df-convert {\n",
       "      background-color: #E8F0FE;\n",
       "      border: none;\n",
       "      border-radius: 50%;\n",
       "      cursor: pointer;\n",
       "      display: none;\n",
       "      fill: #1967D2;\n",
       "      height: 32px;\n",
       "      padding: 0 0 0 0;\n",
       "      width: 32px;\n",
       "    }\n",
       "\n",
       "    .colab-df-convert:hover {\n",
       "      background-color: #E2EBFA;\n",
       "      box-shadow: 0px 1px 2px rgba(60, 64, 67, 0.3), 0px 1px 3px 1px rgba(60, 64, 67, 0.15);\n",
       "      fill: #174EA6;\n",
       "    }\n",
       "\n",
       "    [theme=dark] .colab-df-convert {\n",
       "      background-color: #3B4455;\n",
       "      fill: #D2E3FC;\n",
       "    }\n",
       "\n",
       "    [theme=dark] .colab-df-convert:hover {\n",
       "      background-color: #434B5C;\n",
       "      box-shadow: 0px 1px 3px 1px rgba(0, 0, 0, 0.15);\n",
       "      filter: drop-shadow(0px 1px 2px rgba(0, 0, 0, 0.3));\n",
       "      fill: #FFFFFF;\n",
       "    }\n",
       "  </style>\n",
       "\n",
       "      <script>\n",
       "        const buttonEl =\n",
       "          document.querySelector('#df-9fdf7746-53e1-4435-ae90-5336e7dac7c5 button.colab-df-convert');\n",
       "        buttonEl.style.display =\n",
       "          google.colab.kernel.accessAllowed ? 'block' : 'none';\n",
       "\n",
       "        async function convertToInteractive(key) {\n",
       "          const element = document.querySelector('#df-9fdf7746-53e1-4435-ae90-5336e7dac7c5');\n",
       "          const dataTable =\n",
       "            await google.colab.kernel.invokeFunction('convertToInteractive',\n",
       "                                                     [key], {});\n",
       "          if (!dataTable) return;\n",
       "\n",
       "          const docLinkHtml = 'Like what you see? Visit the ' +\n",
       "            '<a target=\"_blank\" href=https://colab.research.google.com/notebooks/data_table.ipynb>data table notebook</a>'\n",
       "            + ' to learn more about interactive tables.';\n",
       "          element.innerHTML = '';\n",
       "          dataTable['output_type'] = 'display_data';\n",
       "          await google.colab.output.renderOutput(dataTable, element);\n",
       "          const docLink = document.createElement('div');\n",
       "          docLink.innerHTML = docLinkHtml;\n",
       "          element.appendChild(docLink);\n",
       "        }\n",
       "      </script>\n",
       "    </div>\n",
       "  </div>\n",
       "  "
      ],
      "text/plain": [
       "                 BMI  PhysicalHealth   MentalHealth      SleepTime\n",
       "count  319795.000000    319795.00000  319795.000000  319795.000000\n",
       "mean       28.325399         3.37171       3.898366       7.097075\n",
       "std         6.356100         7.95085       7.955235       1.436007\n",
       "min        12.020000         0.00000       0.000000       1.000000\n",
       "25%        24.030000         0.00000       0.000000       6.000000\n",
       "50%        27.340000         0.00000       0.000000       7.000000\n",
       "75%        31.420000         2.00000       3.000000       8.000000\n",
       "max        94.850000        30.00000      30.000000      24.000000"
      ]
     },
     "execution_count": 93,
     "metadata": {},
     "output_type": "execute_result"
    }
   ],
   "source": [
    "df.describe() #Comparación con funciones creadas"
   ]
  },
  {
   "cell_type": "markdown",
   "id": "lcURLxIQ2res",
   "metadata": {
    "id": "lcURLxIQ2res"
   },
   "source": [
    "#Adquisición de información"
   ]
  },
  {
   "cell_type": "code",
   "execution_count": null,
   "id": "e4Xg1GZ3x1dM",
   "metadata": {
    "colab": {
     "base_uri": "https://localhost:8080/"
    },
    "id": "e4Xg1GZ3x1dM",
    "outputId": "7ad1874d-a97d-4663-b963-515790a2887b"
   },
   "outputs": [
    {
     "name": "stdout",
     "output_type": "stream",
     "text": [
      "El dataset tiene 18 atributos:\n",
      "1.- HeartDisease \n",
      "2.- BMI \n",
      "3.- Smoking \n",
      "4.- AlcoholDrinking \n",
      "5.- Stroke \n",
      "6.- PhysicalHealth \n",
      "7.- MentalHealth \n",
      "8.- DiffWalking \n",
      "9.- Sex \n",
      "10.- AgeCategory \n",
      "11.- Race \n",
      "12.- Diabetic \n",
      "13.- PhysicalActivity \n",
      "14.- GenHealth \n",
      "15.- SleepTime \n",
      "16.- Asthma \n",
      "17.- KidneyDisease \n",
      "18.- SkinCancer \n"
     ]
    }
   ],
   "source": [
    "num_atributos, atributos = Numero_atributos(df)"
   ]
  },
  {
   "cell_type": "code",
   "execution_count": null,
   "id": "IJEBGd0k4Rvj",
   "metadata": {
    "colab": {
     "base_uri": "https://localhost:8080/"
    },
    "id": "IJEBGd0k4Rvj",
    "outputId": "df2f39e3-cf75-4100-ef60-021450a4505a"
   },
   "outputs": [
    {
     "name": "stdout",
     "output_type": "stream",
     "text": [
      "El dataset tiene 319795 instancias\n"
     ]
    }
   ],
   "source": [
    "num_instancias = Numero_instancias(df)"
   ]
  },
  {
   "cell_type": "code",
   "execution_count": null,
   "id": "Voh0YEe97AqG",
   "metadata": {
    "colab": {
     "base_uri": "https://localhost:8080/"
    },
    "id": "Voh0YEe97AqG",
    "outputId": "2e5c79e0-5486-40b2-cd8e-753ea97c6ed0"
   },
   "outputs": [
    {
     "name": "stdout",
     "output_type": "stream",
     "text": [
      "El atributo HeartDisease es de tipo categórico, contiene 2 observaciones y son las siguientes:\n",
      "        ['No', 'Yes']\n",
      "              \n",
      "El atributo BMI es de tipo continuo, contiene 3604 observaciones y son las siguientes:\n",
      "        [26.63, 27.46, 27.44, 24.41, 27.12, 25.1, 28.7, 29.53, 32.28, 29.29, 25.84, 25.09, 25.75, 28.34, 24.21, 24.96, 29.05, 26.61, 28.19, 25.06, 25.82, 26.58, 28.89, 25.83, 24.39, 24.03, 27.37, 30.41, 24.33, 31.32, 28.25, 26.57, 23.49, 27.26, 24.8, 22.31, 27.89, 25.85, 23.3, 29.95, 23.63, 24.37, 26.45, 22.6, 30.9, 29.84, 22.96, 25.77, 25.61, 29.18, 22.81, 28.29, 21.63, 28.06, 23.78, 34.33, 29.76, 33.28, 30.13, 26.54, 29.26, 22.46, 25.11, 26.5, 28.32, 23.17, 23.75, 23.03, 31.57, 30.11, 27.41, 20.98, 28.48, 21.95, 27.98, 30.67, 21.93, 24.89, 31.89, 33.47, 23.4, 31.19, 21.79, 20.6, 22.15, 23.73, 24.69, 27.32, 26.39, 33.91, 23.67, 24.13, 21.46, 30.68, 35.43, 25.69, 28.13, 32.92, 23.91, 25.8, 32.61, 23.06, 31.01, 25.02, 32.55, 23.71, 31.62, 21.26, 24.28, 31.09, 32.49, 25.79, 31.75, 22.14, 21.29, 22.71, 33.45, 31.25, 22.86, 31.93, 33.0, 30.04, 36.58, 31.0, 21.52, 28.97, 26.52, 29.12, 25.39, 23.57, 22.67, 25.68, 27.8, 19.37, 32.08, 21.14, 27.34, 22.32, 35.87, 29.86, 20.36, 22.24, 21.7, 34.46, 20.67, 34.44, 27.2, 20.8, 30.27, 29.16, 22.38, 26.96, 29.23, 35.51, 29.03, 22.05, 28.35, 30.52, 29.65, 29.41, 30.85, 33.23, 23.01, 29.99, 19.97, 24.56, 30.34, 32.89, 27.71, 30.23, 33.96, 22.89, 38.74, 35.15, 34.87, 28.8, 28.59, 20.18, 30.18, 20.12, 32.1, 33.66, 20.34, 33.89, 22.5, 20.37, 30.79, 36.02, 34.7, 23.44, 19.53, 30.54, 23.11, 38.01, 35.44, 25.07, 25.0, 21.97, 37.12, 26.78, 32.98, 21.03, 36.92, 31.66, 34.97, 21.41, 40.35, 35.26, 19.2, 26.26, 25.51, 33.2, 31.38, 20.53, 20.92, 23.62, 36.61, 32.01, 19.77, 26.15, 32.12, 39.16, 37.59, 31.87, 19.49, 36.49, 34.75, 31.47, 30.81, 34.01, 29.68, 25.4, 26.37, 19.74, 28.37, 34.95, 37.76, 28.75, 25.73, 32.78, 21.48, 19.94, 20.09, 23.09, 31.17, 18.88, 24.14, 41.6, 26.31, 37.31, 32.69, 36.26, 40.69, 21.11, 28.12, 27.6, 19.58, 27.4, 25.54, 25.5, 32.77, 20.81, 38.27, 22.43, 18.79, 27.5, 27.05, 33.67, 24.63, 20.78, 23.05, 36.05, 39.06, 30.0, 42.91, 36.62, 21.77, 25.04, 23.69, 32.32, 37.79, 21.73, 26.95, 39.94, 34.3, 21.62, 32.45, 39.48, 33.38, 34.21, 26.29, 32.11, 37.66, 26.25, 38.97, 33.84, 25.97, 19.14, 34.67, 34.96, 33.72, 31.18, 21.02, 25.24, 23.96, 37.97, 31.46, 20.22, 32.5, 27.06, 26.32, 19.84, 23.24, 41.2, 37.2, 29.21, 26.22, 24.68, 27.81, 20.9, 34.54, 27.76, 25.25, 44.29, 36.32, 21.3, 43.05, 38.39, 35.24, 21.83, 28.84, 35.62, 35.78, 23.23, 24.02, 40.24, 23.41, 24.45, 24.27, 36.94, 23.43, 22.3, 27.62, 33.09, 21.61, 22.47, 29.7, 26.09, 24.75, 36.9, 27.67, 37.3, 38.52, 28.41, 27.99, 39.05, 40.18, 39.87, 38.41, 42.51, 25.23, 28.9, 24.55, 34.17, 24.94, 28.0, 27.96, 30.17, 26.04, 24.34, 19.01, 23.18, 30.3, 31.31, 23.33, 40.74, 28.28, 35.19, 28.73, 26.83, 39.53, 32.22, 30.43, 38.62, 35.67, 28.5, 35.95, 21.58, 28.17, 39.58, 18.25, 24.81, 22.66, 35.94, 42.07, 22.92, 26.87, 18.29, 18.3, 27.25, 41.84, 35.9, 19.79, 18.56, 33.75, 23.74, 44.63, 22.27, 21.87, 27.1, 34.18, 25.7, 23.56, 22.11, 33.07, 37.44, 27.27, 34.58, 23.81, 20.48, 45.73, 25.37, 23.89, 18.99, 26.43, 23.13, 23.12, 30.42, 27.88, 37.11, 29.57, 39.33, 35.73, 22.85, 26.17, 26.46, 40.72, 24.24, 41.96, 18.65, 20.51, 19.67, 36.59, 25.29, 21.8, 42.57, 20.66, 20.97, 25.99, 33.64, 38.09, 26.94, 25.33, 36.28, 25.63, 27.07, 23.38, 23.34, 24.97, 19.26, 36.18, 22.13, 25.42, 37.25, 20.25, 36.81, 27.28, 28.21, 44.3, 24.22, 27.02, 34.37, 23.8, 41.35, 31.28, 24.53, 34.11, 25.15, 26.47, 28.87, 18.6, 30.38, 29.01, 20.54, 24.83, 30.99, 28.62, 31.63, 23.87, 24.82, 25.18, 29.13, 23.72, 21.18, 24.11, 48.42, 27.29, 43.85, 30.62, 37.5, 43.27, 26.11, 27.17, 23.02, 28.72, 18.89, 26.93, 45.61, 28.15, 25.62, 29.37, 25.66, 37.93, 36.96, 23.0, 21.13, 24.51, 45.19, 26.0, 23.99, 27.73, 24.95, 30.72, 36.52, 43.9, 21.47, 32.95, 17.75, 30.47, 23.83, 24.46, 25.56, 29.38, 35.0, 31.64, 19.13, 17.71, 23.52, 26.85, 27.39, 41.05, 17.94, 29.62, 31.65, 34.02, 20.08, 25.53, 25.46, 25.34, 43.4, 18.83, 27.22, 38.37, 28.46, 31.95, 22.87, 26.12, 24.78, 42.29, 18.02, 43.58, 29.24, 31.96, 38.26, 21.31, 22.22, 35.31, 40.45, 22.59, 26.88, 22.53, 30.55, 29.52, 24.86, 22.68, 26.76, 24.72, 39.32, 23.92, 19.64, 22.4, 20.2, 24.66, 46.99, 19.57, 25.38, 38.35, 18.46, 24.19, 21.16, 29.85, 27.55, 24.59, 37.23, 41.61, 38.02, 41.57, 39.46, 20.94, 25.86, 33.12, 24.12, 35.56, 30.29, 29.63, 20.05, 20.3, 23.08, 22.83, 33.3, 36.13, 27.63, 18.13, 30.71, 24.87, 42.97, 21.09, 26.89, 31.24, 39.54, 19.05, 20.5, 39.68, 32.26, 18.55, 32.19, 22.63, 30.73, 21.91, 33.29, 20.83, 24.9, 30.86, 33.99, 27.57, 32.74, 38.65, 40.34, 20.45, 30.83, 38.77, 40.61, 31.53, 26.91, 19.75, 31.8, 17.72, 23.46, 46.34, 47.47, 31.71, 28.53, 49.92, 30.07, 19.39, 25.55, 29.6, 22.45, 21.28, 19.8, 30.82, 18.01, 34.08, 29.19, 22.78, 26.07, 19.22, 28.08, 28.6, 36.84, 25.96, 23.86, 25.13, 44.93, 28.43, 46.59, 27.48, 19.46, 29.35, 29.27, 31.45, 35.3, 23.59, 29.79, 33.25, 29.54, 20.85, 21.81, 26.97, 30.65, 31.74, 27.92, 26.16, 24.09, 22.8, 26.79, 20.07, 24.01, 32.42, 24.07, 39.11, 24.43, 26.08, 28.66, 20.41, 32.96, 25.94, 25.58, 27.84, 21.25, 34.39, 24.3, 35.07, 26.3, 21.4, 24.0, 51.49, 27.82, 46.06, 17.16, 22.65, 18.31, 18.75, 26.7, 36.36, 33.13, 26.4, 48.82, 32.87, 48.06, 29.43, 17.63, 39.86, 21.86, 32.44, 41.81, 17.97, 27.69, 20.55, 28.67, 17.22, 30.7, 30.51, 26.36, 28.95, 27.47, 29.44, 28.82, 26.69, 34.72, 29.87, 36.21, 47.24, 37.6, 24.62, 30.4, 43.46, 26.34, 26.13, 30.21, 42.83, 20.73, 28.31, 19.85, 17.23, 36.31, 25.52, 21.43, 33.63, 24.79, 17.47, 34.34, 29.08, 37.49, 20.63, 16.64, 36.25, 30.61, 20.47, 29.45, 25.36, 40.89, 30.02, 18.64, 31.82, 20.01, 27.87, 39.13, 29.82, 25.78, 29.69, 29.02, 26.72, 16.95, 22.62, 31.35, 44.92, 20.0, 35.35, 23.48, 26.75, 21.22, 22.35, 43.07, 18.47, 29.66, 41.15, 33.15, 45.42, 42.77, 35.28, 22.52, 29.1, 32.93, 32.23, 31.78, 22.74, 25.89, 29.5, 28.79, 30.56, 35.53, 28.07, 35.7, 23.39, 39.75, 44.09, 44.39, 32.56, 21.21, 25.32, 32.39, 29.81, 32.24, 30.08, 42.05, 28.76, 24.61, 35.71, 41.63, 27.61, 19.91, 40.29, 27.97, 23.26, 41.5, 40.01, 21.59, 27.91, 29.09, 40.17, 30.24, 34.57, 19.9, 26.18, 27.75, 23.42, 40.39, 27.78, 22.04, 33.52, 24.54, 42.04, 18.54, 42.6, 47.55, 45.35, 35.02, 29.58, 34.61, 38.92, 19.73, 38.08, 22.08, 28.74, 21.92, 20.19, 25.08, 30.87, 19.47, 27.53, 17.38, 40.62, 28.27, 21.74, 34.14, 47.83, 19.69, 27.94, 34.45, 20.82, 27.79, 23.29, 19.02, 46.87, 41.01, 32.36, 17.49, 28.04, 23.53, 19.31, 19.92, 17.43, 26.92, 19.89, 49.6, 30.45, 22.07, 22.76, 17.85, 34.2, 18.95, 33.57, 37.73, 18.37, 28.98, 31.12, 21.34, 32.14, 23.04, 33.33, 26.14, 31.15, 22.2, 31.58, 18.72, 44.48, 33.65, 28.45, 24.98, 35.57, 28.71, 29.15, 40.77, 32.59, 30.92, 47.2, 27.72, 35.36, 16.14, 28.65, 20.62, 24.05, 27.59, 31.07, 24.2, 18.84, 22.26, 54.87, 32.81, 27.93, 31.41, 34.22, 29.8, 45.91, 21.24, 18.66, 33.44, 22.55, 19.65, 22.99, 22.73, 36.39, 41.09, 31.14, 34.69, 17.58, 28.94, 30.95, 26.64, 40.9, 21.94, 21.08, 28.57, 23.37, 17.92, 23.6, 36.8, 22.49, 53.14, 42.22, 48.26, 44.76, 29.56, 16.73, 45.76, 30.91, 33.05, 30.12, 20.02, 42.09, 30.96, 20.52, 24.65, 46.11, 34.15, 31.6, 47.26, 18.42, 22.16, 44.94, 22.82, 32.27, 36.03, 20.38, 24.25, 33.36, 29.83, 21.54, 40.03, 29.48, 33.19, 43.94, 26.66, 35.12, 26.68, 42.43, 29.94, 32.58, 30.26, 25.19, 26.73, 24.67, 29.71, 36.15, 30.8, 31.85, 43.33, 35.58, 32.6, 29.98, 17.01, 41.14, 23.21, 33.48, 42.98, 20.99, 17.81, 21.71, 21.35, 41.99, 27.15, 37.28, 22.69, 35.74, 35.61, 34.86, 32.02, 38.11, 19.4, 26.56, 43.75, 38.95, 18.08, 50.22, 37.88, 28.91, 46.81, 34.84, 34.93, 17.36, 20.43, 33.59, 24.48, 38.79, 50.18, 50.21, 31.4, 37.41, 21.89, 27.64, 31.04, 19.66, 31.9, 18.78, 51.65, 38.73, 23.65, 46.18, 25.92, 32.71, 28.23, 31.1, 32.54, 29.04, 19.3, 30.36, 18.52, 51.21, 16.46, 28.49, 33.81, 20.77, 31.42, 33.95, 32.76, 34.19, 36.34, 37.02, 31.79, 39.38, 33.61, 39.8, 18.94, 46.0, 32.03, 20.75, 23.82, 33.83, 34.06, 38.25, 18.97, 19.11, 19.19, 49.78, 32.62, 16.83, 45.49, 28.63, 38.96, 24.18, 16.98, 16.74, 25.22, 18.48, 32.88, 34.9, 48.66, 21.12, 16.6, 20.68, 50.12, 44.64, 29.88, 31.02, 40.44, 28.52, 40.0, 33.11, 35.14, 33.82, 44.08, 34.16, 41.56, 36.56, 19.27, 33.77, 32.46, 26.19, 44.1, 36.4, 20.31, 30.57, 37.86, 16.31, 20.64, 34.76, 20.03, 32.04, 21.9, 34.28, 49.38, 32.64, 46.03, 35.25, 54.82, 27.52, 48.81, 15.66, 26.99, 41.16, 17.33, 21.56, 28.51, 26.71, 28.55, 17.79, 42.37, 31.2, 36.85, 20.23, 36.73, 36.95, 32.37, 18.71, 34.77, 29.89, 18.8, 29.49, 20.7, 31.83, 27.21, 42.33, 22.48, 26.65, 18.62, 20.69, 37.55, 31.55, 35.11, 53.25, 29.39, 21.44, 43.24, 37.38, 42.72, 31.16, 24.84, 33.73, 22.1, 22.0, 37.42, 23.85, 34.38, 51.69, 36.14, 32.72, 23.15, 37.37, 44.81, 35.08, 35.96, 53.22, 54.25, 17.54, 26.05, 25.59, 23.88, 36.68, 20.16, 43.54, 38.04, 18.14, 48.78, 25.65, 56.49, 28.03, 19.48, 35.48, 19.42, 37.77, 44.4, 20.61, 37.95, 32.73, 36.33, 38.69, 30.05, 19.21, 37.45, 32.86, 33.8, 43.93, 48.47, 20.14, 27.31, 36.54, 37.62, 17.95, 21.76, 22.42, 38.45, 32.06, 33.78, 18.07, 18.4, 32.57, 47.61, 43.65, 48.55, 37.13, 34.41, 32.0, 39.71, 24.64, 41.39, 38.47, 35.54, 34.31, 32.34, 32.99, 27.18, 25.81, 43.56, 39.14, 21.2, 50.78, 45.89, 39.47, 41.37, 35.88, 41.0, 36.19, 24.91, 33.98, 22.51, 34.59, 42.88, 40.85, 27.86, 37.21, 18.85, 47.13, 40.04, 17.51, 36.48, 18.36, 37.08, 18.9, 31.37, 16.27, 33.37, 39.6, 21.38, 45.78, 47.35, 47.43, 35.4, 26.06, 32.84, 34.78, 19.25, 40.51, 30.66, 36.44, 43.77, 36.87, 37.91, 41.25, 18.18, 33.86, 48.71, 51.37, 25.9, 40.06, 23.19, 32.82, 52.46, 23.5, 33.41, 34.04, 18.19, 19.08, 47.5, 35.85, 18.32, 31.52, 41.73, 35.93, 21.64, 27.35, 17.64, 38.28, 29.91, 33.1, 30.28, 16.82, 21.06, 16.24, 38.84, 34.56, 24.31, 17.15, 45.33, 38.67, 33.51, 39.99, 37.61, 20.95, 35.83, 37.71, 33.08, 16.45, 19.16, 16.5, 18.33, 36.11, 39.82, 44.43, 15.78, 33.5, 46.94, 31.48, 23.35, 44.85, 17.5, 25.16, 51.36, 38.44, 48.73, 38.75, 35.55, 33.01, 18.26, 29.75, 49.13, 21.57, 29.42, 35.99, 47.42, 41.4, 17.18, 16.47, 37.9, 54.91, 37.16, 17.14, 15.94, 47.9, 31.91, 37.03, 17.19, 40.75, 36.76, 28.88, 17.56, 17.68, 38.23, 50.3, 21.01, 34.36, 54.93, 31.84, 34.26, 44.86, 40.42, 35.91, 36.72, 29.47, 39.84, 26.86, 37.68, 25.45, 18.22, 34.99, 22.72, 31.94, 46.63, 35.01, 18.11, 41.8, 31.05, 17.74, 18.16, 21.68, 37.24, 41.32, 40.25, 23.1, 38.54, 58.24, 18.17, 34.5, 19.59, 23.22, 31.44, 27.54, 45.0, 46.52, 25.2, 16.97, 18.61, 27.16, 47.99, 49.34, 43.26, 19.51, 46.64, 24.5, 40.6, 36.35, 17.57, 41.27, 17.11, 52.42, 34.62, 28.16, 48.69, 15.81, 45.17, 31.51, 15.2, 42.5, 36.64, 21.96, 32.43, 41.64, 18.24, 39.3, 33.58, 41.7, 43.28, 50.84, 41.97, 37.7, 50.9, 24.17, 19.33, 25.71, 15.97, 39.37, 21.51, 33.79, 38.17, 39.65, 15.45, 16.79, 43.6, 18.09, 32.41, 50.03, 18.87, 36.67, 44.11, 20.89, 19.61, 40.67, 28.68, 18.81, 21.37, 31.06, 34.51, 58.59, 14.63, 18.7, 46.25, 31.27, 42.23, 29.92, 35.52, 46.2, 55.79, 50.48, 36.22, 42.41, 42.27, 57.39, 37.36, 23.25, 46.22, 45.2, 56.68, 33.43, 17.27, 56.64, 42.54, 53.26, 21.67, 16.65, 36.89, 16.99, 62.0, 53.04, 22.21, 18.58, 36.57, 33.6, 43.53, 38.12, 38.13, 38.58, 36.47, 22.57, 40.27, 51.68, 35.29, 37.22, 17.31, 24.85, 29.55, 28.1, 46.37, 49.47, 39.43, 34.82, 29.0, 33.93, 39.44, 16.69, 38.22, 15.55, 36.16, 44.55, 41.19, 31.39, 22.03, 49.09, 34.48, 53.16, 46.45, 38.53, 41.95, 39.23, 39.22, 40.1, 40.32, 24.44, 19.23, 27.51, 42.38, 37.98, 22.75, 49.42, 36.91, 37.94, 27.04, 37.89, 34.85, 37.4, 37.56, 38.61, 36.65, 46.29, 46.86, 42.18, 38.34, 48.15, 20.4, 40.79, 25.91, 41.88, 41.1, 22.02, 54.68, 36.98, 40.43, 35.33, 31.54, 38.55, 39.56, 26.33, 15.62, 28.42, 36.04, 39.62, 35.98, 36.79, 15.41, 41.93, 48.92, 54.88, 52.73, 48.79, 32.31, 30.25, 30.5, 37.8, 40.09, 15.82, 39.27, 22.18, 22.34, 45.52, 36.09, 16.76, 31.33, 45.43, 38.32, 60.08, 19.35, 57.78, 44.6, 26.62, 60.82, 41.79, 29.14, 29.97, 16.1, 39.31, 28.36, 37.43, 40.46, 32.51, 45.04, 41.34, 20.32, 15.6, 27.0, 49.5, 40.23, 44.21, 18.12, 15.06, 40.83, 50.86, 16.06, 45.7, 38.1, 28.22, 39.51, 18.41, 40.14, 36.82, 43.42, 28.56, 41.48, 53.21, 41.45, 42.93, 42.76, 37.84, 58.1, 39.49, 27.09, 54.79, 39.77, 52.3, 42.4, 37.51, 50.64, 39.89, 40.41, 35.75, 42.1, 49.8, 29.4, 16.13, 15.34, 34.13, 41.77, 46.67, 41.03, 17.04, 46.09, 16.62, 39.5, 43.76, 41.82, 48.07, 52.77, 25.35, 15.83, 34.73, 17.9, 40.57, 43.12, 52.89, 34.03, 45.26, 51.7, 39.69, 34.29, 54.07, 28.02, 31.5, 51.02, 34.74, 17.07, 41.28, 16.87, 51.75, 38.86, 17.76, 23.66, 17.03, 36.78, 25.93, 32.91, 40.21, 28.24, 50.07, 16.49, 30.75, 16.07, 17.17, 52.9, 16.93, 44.99, 25.87, 51.54, 30.09, 39.03, 20.71, 46.77, 37.74, 32.75, 41.38, 15.96, 33.4, 30.48, 29.28, 17.65, 43.16, 17.77, 42.69, 37.1, 51.15, 39.78, 51.59, 47.85, 42.68, 36.08, 36.17, 39.45, 35.8, 41.54, 20.28, 41.87, 42.61, 33.14, 54.64, 37.57, 39.29, 36.77, 41.36, 18.38, 44.01, 26.9, 20.93, 52.13, 54.74, 40.19, 47.46, 38.49, 48.75, 49.43, 46.32, 43.43, 50.49, 38.94, 27.7, 47.77, 45.31, 27.38, 52.26, 43.22, 35.06, 37.69, 35.82, 30.94, 20.87, 49.26, 28.01, 44.32, 54.52, 43.1, 25.31, 44.35, 24.52, 42.8, 17.98, 39.61, 30.98, 18.44, 36.29, 46.65, 26.41, 39.74, 29.07, 36.75, 17.89, 17.59, 38.31, 64.02, 56.58, 15.51, 50.13, 40.68, 46.72, 13.87, 38.59, 30.74, 33.76, 45.84, 29.46, 56.38, 43.08, 62.65, 36.66, 42.16, 46.16, 34.83, 52.51, 30.69, 60.36, 42.53, 42.13, 34.92, 15.98, 26.21, 16.4, 34.0, 42.87, 20.06, 16.25, 43.09, 36.01, 43.71, 39.67, 45.44, 38.21, 16.63, 34.43, 57.61, 35.04, 15.36, 32.48, 21.42, 17.7, 29.3, 29.25, 42.14, 21.5, 19.99, 40.94, 41.51, 25.14, 53.81, 16.04, 31.97, 23.54, 19.15, 30.76, 41.71, 50.79, 34.27, 21.0, 16.55, 20.21, 14.53, 54.08, 42.45, 41.02, 14.17, 30.37, 20.27, 21.32, 21.53, 17.28, 24.1, 30.19, 61.79, 35.84, 53.0, 64.57, 35.49, 42.31, 23.98, 44.26, 56.26, 21.6, 21.84, 22.36, 25.12, 38.06, 40.28, 38.9, 40.31, 37.87, 59.07, 39.15, 44.82, 22.58, 49.61, 16.3, 50.19, 17.02, 15.8, 51.45, 39.2, 37.54, 20.56, 35.13, 18.73, 22.29, 42.7, 15.77, 58.53, 56.12, 59.91, 19.0, 25.44, 41.66, 34.98, 34.09, 41.44, 47.65, 35.69, 48.36, 45.14, 64.56, 44.33, 43.64, 48.4, 44.46, 24.71, 17.87, 18.23, 45.83, 24.16, 48.12, 56.96, 16.12, 30.93, 22.94, 34.94, 44.95, 46.48, 40.56, 35.59, 16.92, 50.94, 15.0, 19.52, 44.97, 57.57, 47.72, 43.01, 37.35, 44.22, 14.78, 16.68, 14.98, 33.54, 50.0, 37.18, 15.07, 48.1, 20.84, 40.78, 22.56, 39.19, 45.06, 53.09, 14.35, 18.74, 28.85, 53.71, 49.23, 44.14, 54.03, 25.49, 39.18, 45.18, 15.49, 51.96, 39.0, 38.99, 13.95, 15.33, 33.32, 14.08, 40.97, 47.03, 15.11, 41.21, 52.25, 32.35, 14.92, 54.53, 59.52, 16.28, 50.36, 38.66, 66.56, 17.34, 22.25, 14.03, 14.75, 40.82, 45.93, 25.41, 47.64, 38.98, 52.18, 44.87, 32.25, 43.35, 16.21, 24.99, 43.82, 38.38, 46.79, 42.32, 44.84, 19.93, 28.47, 35.09, 58.46, 19.07, 48.59, 60.59, 14.85, 45.11, 43.55, 54.5, 62.76, 43.86, 14.64, 37.47, 24.47, 36.3, 61.33, 12.48, 38.3, 61.03, 45.01, 33.02, 18.21, 45.77, 42.74, 39.93, 37.52, 58.36, 41.47, 50.85, 42.62, 18.69, 14.88, 40.37, 15.79, 55.38, 52.0, 45.98, 42.01, 49.59, 47.3, 36.12, 21.66, 26.6, 15.31, 34.12, 17.29, 53.96, 47.94, 38.36, 46.83, 44.2, 32.15, 45.53, 48.29, 30.59, 38.0, 13.56, 40.55, 37.75, 62.5, 19.44, 44.44, 39.72, 47.19, 31.34, 40.73, 47.37, 48.16, 57.59, 45.05, 47.93, 37.07, 41.98, 23.32, 46.27, 12.91, 24.57, 26.51, 22.19, 22.79, 14.82, 38.16, 40.81, 45.66, 35.89, 48.58, 51.33, 13.29, 14.77, 49.02, 20.58, 48.76, 41.42, 45.65, 48.43, 15.59, 14.81, 62.19, 27.14, 55.96, 40.86, 43.18, 48.08, 16.42, 21.75, 18.04, 42.47, 55.66, 47.59, 22.77, 43.74, 33.62, 15.17, 28.4, 36.27, 48.54, 54.39, 38.6, 46.17, 18.5, 44.37, 49.24, 51.06, 53.75, 56.7, 45.32, 18.39, 49.21, 22.06, 15.64, 18.49, 48.18, 68.66, 16.43, 45.34, 43.23, 54.75, 56.25, 14.7, 20.29, 40.88, 60.46, 51.6, 47.02, 50.31, 40.02, 45.24, 37.65, 23.07, 46.82, 57.64, 18.34, 42.21, 14.59, 16.16, 46.49, 38.91, 52.35, 25.76, 41.52, 52.62, 16.01, 43.84, 35.23, 57.5, 13.31, 57.02, 51.93, 17.13, 43.79, 58.57, 55.0, 49.87, 52.61, 16.54, 32.85, 12.88, 34.53, 43.88, 65.83, 24.49, 35.34, 35.41, 44.53, 26.35, 15.75, 38.46, 45.16, 54.1, 28.58, 19.12, 16.29, 15.93, 50.46, 39.79, 42.2, 22.88, 15.43, 44.19, 45.5, 62.39, 19.5, 71.74, 42.44, 49.65, 14.12, 55.8, 26.03, 55.74, 57.17, 39.25, 14.9, 27.65, 63.51, 48.09, 29.34, 16.81, 27.19, 45.54, 53.28, 18.68, 43.91, 22.01, 39.42, 50.98, 33.9, 12.84, 23.76, 40.76, 15.05, 28.78, 25.27, 42.12, 46.41, 31.86, 17.42, 29.73, 33.18, 25.26, 26.81, 43.7, 24.74, 53.92, 44.72, 22.28, 57.95, 50.06, 16.05, 49.08, 47.76, 46.26, 27.49, 42.89, 16.88, 28.93, 13.73, 23.94, 21.45, 52.37, 68.59, 50.29, 41.91, 26.84, 46.69, 37.0, 32.52, 26.01, 64.24, 45.96, 58.83, 43.36, 15.35, 52.34, 67.81, 44.05, 65.23, 15.12, 48.24, 58.32, 38.71, 56.15, 29.06, 43.38, 50.95, 13.72, 45.62, 36.46, 44.17, 60.54, 52.49, 25.47, 16.72, 15.5, 16.36, 17.96, 50.91, 24.93, 36.1, 17.09, 19.6, 53.9, 41.18, 22.12, 63.43, 15.42, 51.19, 59.37, 52.47, 55.68, 58.54, 48.56, 43.49, 50.11, 61.71, 51.94, 50.45, 31.11, 44.25, 46.1, 64.2, 63.47, 52.96, 15.87, 67.67, 42.34, 65.84, 51.39, 31.56, 50.66, 52.64, 47.89, 14.62, 34.07, 49.75, 40.11, 14.48, 15.28, 47.05, 42.85, 23.2, 36.55, 59.3, 63.77, 47.78, 43.13, 66.9, 56.01, 62.14, 47.44, 56.55, 46.76, 60.26, 51.25, 48.04, 70.48, 24.04, 29.17, 49.91, 48.35, 26.82, 47.25, 44.62, 46.68, 29.78, 45.48, 45.63, 21.07, 18.51, 59.97, 45.25, 52.72, 36.88, 52.53, 46.38, 18.59, 35.05, 32.67, 37.34, 17.99, 43.14, 16.32, 46.53, 42.84, 44.47, 30.03, 33.26, 57.6, 49.07, 53.41, 48.65, 30.1, 47.74, 14.93, 19.72, 52.76, 42.42, 16.18, 78.17, 54.42, 40.92, 65.78, 23.31, 16.66, 27.58, 24.6, 61.7, 24.06, 72.63, 27.83, 23.36, 30.32, 19.82, 16.44, 44.8, 16.48, 55.6, 14.65, 17.35, 47.92, 22.64, 39.12, 27.56, 32.13, 32.8, 55.78, 48.9, 42.75, 12.4, 49.48, 33.7, 38.14, 18.1, 14.24, 40.64, 56.33, 53.85, 15.65, 12.53, 54.38, 15.21, 14.14, 43.34, 59.27, 28.83, 16.33, 49.51, 48.37, 49.37, 22.44, 20.76, 21.23, 15.02, 67.79, 38.63, 40.8, 72.0, 45.03, 52.79, 46.98, 43.03, 53.67, 17.25, 34.25, 15.73, 18.27, 55.42, 34.52, 30.6, 41.94, 41.9, 22.37, 50.25, 20.57, 48.2, 13.02, 26.8, 54.55, 35.37, 49.69, 43.62, 40.59, 16.89, 48.68, 55.85, 29.51, 27.9, 13.53, 19.62, 47.81, 61.8, 44.79, 30.31, 55.98, 49.39, 48.44, 49.77, 15.23, 52.09, 58.02, 23.7, 46.7, 26.44, 48.23, 63.28, 55.27, 19.96, 27.03, 48.87, 30.46, 43.89, 52.78, 38.8, 48.64, 33.55, 15.15, 31.61, 19.29, 35.2, 51.72, 16.9, 36.37, 55.24, 45.36, 49.11, 53.57, 35.5, 25.6, 57.43, 38.78, 31.98, 91.55, 60.99, 33.87, 60.25, 60.76, 14.56, 56.44, 60.74, 57.87, 62.49, 53.36, 14.44, 50.51, 14.37, 20.42, 29.32, 58.71, 45.57, 44.02, 30.14, 45.46, 34.79, 24.77, 25.72, 36.6, 15.68, 42.48, 58.73, 55.62, 39.59, 53.77, 55.44, 65.91, 51.58, 18.82, 60.93, 54.11, 61.6, 75.17, 57.06, 42.82, 48.14, 58.91, 53.7, 52.21, 46.58, 64.83, 44.15, 43.19, 39.17, 14.27, 25.48, 63.23, 47.06, 20.24, 28.14, 19.87, 26.67, 40.96, 32.79, 52.92, 28.69, 19.06, 54.19, 25.21, 45.12, 50.75, 46.84, 43.51, 39.55, 49.81, 59.05, 46.74, 51.84, 29.59, 50.92, 14.42, 22.98, 50.83, 12.5, 53.66, 34.89, 40.3, 59.29, 31.77, 44.34, 46.35, 27.42, 59.7, 43.78, 49.71, 41.43, 26.23, 47.87, 73.16, 32.68, 14.06, 20.88, 42.52, 14.38, 45.56, 17.55, 55.61, 65.74, 53.72, 41.92, 37.04, 42.55, 20.1, 75.29, 61.52, 52.87, 60.14, 57.03, 33.35, 53.23, 27.08, 63.27, 44.89, 46.55, 55.54, 45.07, 34.05, 47.11, 13.75, 46.97, 51.12, 51.88, 41.04, 50.16, 64.21, 67.49, 51.56, 43.92, 18.67, 19.38, 50.71, 16.8, 52.58, 15.91, 13.04, 25.05, 59.32, 58.08, 35.18, 58.05, 68.42, 62.56, 71.02, 17.37, 50.68, 66.45, 44.07, 30.49, 55.5, 23.68, 46.46, 59.6, 14.69, 47.45, 35.81, 44.77, 46.23, 55.97, 41.3, 48.91, 16.61, 61.57, 14.95, 55.75, 58.16, 27.13, 29.96, 42.11, 59.44, 12.02, 52.11, 25.3, 17.26, 17.78, 48.63, 49.95, 38.83, 13.67, 23.47, 52.43, 51.81, 63.78, 69.94, 18.98, 20.33, 50.81, 14.61, 42.25, 18.92, 33.74, 14.28, 44.59, 39.28, 19.45, 72.56, 48.05, 42.9, 32.2, 63.13, 31.43, 24.38, 48.96, 49.32, 56.51, 28.38, 19.71, 51.73, 51.17, 39.98, 35.92, 52.31, 42.99, 29.93, 35.66, 52.86, 47.09, 49.57, 83.0, 54.23, 33.53, 47.0, 58.58, 69.5, 46.43, 17.12, 45.92, 61.63, 62.24, 40.05, 37.19, 17.91, 34.32, 36.41, 22.91, 68.55, 22.84, 15.04, 71.9, 27.43, 15.18, 26.28, 67.35, 58.43, 19.34, 27.68, 64.4, 35.42, 57.15, 54.05, 44.75, 32.07, 12.75, 41.12, 22.23, 45.58, 46.96, 19.81, 24.4, 42.63, 51.24, 53.32, 60.34, 53.43, 53.42, 70.72, 39.09, 62.34, 13.25, 42.36, 56.9, 61.88, 67.82, 23.95, 53.3, 69.99, 68.12, 21.19, 33.03, 12.55, 52.94, 53.58, 65.19, 83.33, 59.4, 45.75, 13.43, 13.83, 55.21, 40.58, 13.85, 57.33, 33.22, 49.55, 38.57, 51.2, 50.7, 15.01, 31.08, 19.03, 54.58, 57.01, 65.0, 93.86, 62.67, 14.36, 73.89, 21.49, 60.22, 47.21, 19.83, 45.68, 73.84, 62.47, 54.57, 31.59, 28.39, 55.15, 40.4, 47.88, 55.95, 22.09, 20.72, 13.08, 80.15, 19.55, 94.66, 70.86, 62.73, 44.68, 67.12, 55.67, 13.48, 32.47, 52.75, 19.1, 47.12, 55.18, 12.13, 48.27, 34.24, 22.61, 56.97, 58.0, 15.25, 45.88, 25.01, 52.22, 64.45, 17.67, 70.21, 71.15, 35.65, 60.23, 37.09, 16.53, 62.93, 51.48, 13.59, 83.99, 21.39, 21.65, 63.67, 51.95, 13.78, 29.74, 14.74, 48.74, 70.18, 71.17, 21.78, 13.82, 17.44, 27.24, 43.81, 13.12, 60.53, 56.07, 23.27, 58.35, 23.77, 45.23, 40.91, 26.55, 68.35, 88.6, 47.14, 52.52, 62.31, 49.96, 74.88, 23.58, 48.25, 76.88, 16.41, 60.07, 14.54, 44.45, 62.4, 54.2, 51.83, 65.1, 37.01, 42.73, 48.39, 24.15, 52.15, 51.51, 46.66, 48.03, 66.26, 82.5, 86.68, 55.36, 13.17, 44.0, 16.39, 31.23, 67.88, 61.82, 64.18, 60.55, 23.61, 33.16, 58.55, 26.49, 88.19, 15.19, 31.29, 13.44, 17.83, 54.66, 21.15, 62.69, 59.9, 73.23, 58.97, 83.61, 14.76, 25.03, 44.16, 79.41, 17.41, 51.08, 13.18, 48.02, 20.91, 51.43, 36.0, 13.94, 12.85, 14.41, 14.2, 59.23, 36.99, 14.83, 59.83, 43.21, 41.75, 61.87, 22.33, 63.06, 28.44, 49.64, 13.38, 80.06, 43.25, 13.4, 40.47, 45.74, 15.67, 30.06, 58.28, 54.98, 43.02, 23.97, 51.71, 41.23, 15.57, 56.91, 47.17, 60.19, 46.05, 40.7, 62.42, 51.46, 53.01, 32.97, 59.78, 74.02, 82.76, 15.7, 58.11, 52.08, 49.97, 38.87, 53.5, 53.12, 17.46, 59.08, 66.43, 68.49, 62.89, 55.76, 52.66, 15.92, 17.4, 31.81, 55.52, 50.4, 13.35, 44.91, 40.12, 69.0, 38.7, 67.31, 50.08, 69.41, 54.49, 69.88, 75.77, 30.78, 51.09, 35.27, 31.22, 72.45, 33.46, 54.28, 42.86, 20.74, 61.66, 74.06, 19.95, 24.29, 67.98, 75.95, 76.71, 54.32, 51.07, 64.25, 66.13, 77.73, 26.02, 33.68, 56.88, 77.05, 81.67, 12.27, 58.15, 54.09, 12.97, 71.97, 52.44, 41.08, 55.29, 53.59, 22.7, 54.61, 26.42, 75.28, 66.4, 63.59, 75.58, 50.58, 24.76, 32.05, 64.94, 54.78, 14.0, 12.44, 75.24, 58.13, 13.54, 23.55, 49.49, 50.53, 62.92, 56.87, 82.42, 14.51, 17.93, 76.74, 75.11, 57.44, 26.2, 49.18, 55.09, 20.65, 50.43, 59.02, 53.74, 53.47, 35.22, 41.58, 67.48, 61.91, 58.37, 86.33, 86.8, 37.27, 62.54, 41.06, 48.21, 22.95, 47.84, 72.9, 82.87, 68.97, 14.6, 61.44, 62.35, 63.86, 15.89, 23.51, 13.88, 40.87, 12.16, 56.76, 62.75, 30.16, 58.42, 72.38, 29.64, 79.1, 69.2, 30.89, 75.09, 12.83, 43.99, 63.5, 49.89, 50.33, 54.56, 23.84, 37.39, 59.45, 17.32, 55.46, 62.32, 73.73, 12.08, 51.27, 31.36, 18.0, 47.8, 19.24, 53.98, 49.76, 74.05, 44.78, 13.6, 58.49, 16.56, 53.93, 58.75, 47.82, 69.34, 57.13, 46.62, 47.01, 57.91, 28.2, 34.1, 21.88, 71.92, 57.22, 73.15, 15.54, 69.08, 35.17, 77.15, 46.5, 46.85, 75.82, 85.17, 55.19, 57.52, 50.2, 63.74, 43.67, 56.45, 50.5, 63.85, 48.34, 51.87, 59.55, 39.04, 14.58, 44.31, 16.57, 57.41, 61.47, 55.04, 79.0, 67.3, 66.18, 45.71, 91.82, 24.32, 94.85, 38.43, 15.95, 13.98, 20.96, 56.92, 52.29, 49.93, 47.29, 74.35, 32.29, 37.72, 56.23, 34.55, 43.06, 40.84, 40.52, 25.57, 60.98, 78.1, 27.36, 16.94, 84.44, 77.41, 52.7, 64.37, 13.64, 38.89, 55.41, 71.8, 17.53, 51.92, 87.05, 31.72, 12.65, 53.48, 44.49, 44.73, 18.93, 80.04, 43.37, 72.39, 36.51, 49.45, 32.66, 28.54, 15.9, 68.13, 56.86, 48.28, 57.67, 51.32, 26.98, 67.66, 48.19, 51.16, 72.27, 41.76, 14.5, 77.16, 24.58, 59.96, 55.23, 78.66, 65.72, 56.3, 50.87, 76.52, 54.69, 57.25, 66.65, 79.29, 31.88, 51.97, 48.01, 49.05, 39.21, 12.26, 63.49, 44.12, 51.76, 46.78, 46.92, 29.67, 56.83, 53.73, 75.53, 70.42, 57.56, 60.69, 61.11, 93.97, 75.31, 51.03, 21.99, 59.06, 59.22, 44.5, 69.38, 47.4, 41.59, 63.56, 26.59, 30.97, 62.53, 13.39, 14.45, 40.5, 44.74, 57.46, 47.7, 56.82, 66.0, 58.29, 17.2, 47.31, 68.44, 29.36, 13.99, 55.94, 64.92, 59.33, 57.32, 53.55, 81.46, 46.3, 56.17, 24.92, 60.06, 36.86, 55.56, 37.05, 20.39, 75.76, 65.08, 63.62, 14.8, 44.04, 73.39, 25.95, 62.3, 13.81, 52.23, 75.42, 64.07, 66.95, 32.53, 78.92, 28.99, 38.5, 46.01, 13.23, 64.44, 12.92, 42.94, 21.55, 52.45, 30.2, 44.06, 19.43, 64.98, 12.86, 63.33, 21.85, 51.85, 21.36, 38.4, 39.66, 74.43, 45.82, 65.96, 33.04, 64.05, 23.28, 55.53, 14.91, 57.18, 37.67, 31.03, 59.14, 45.1, 28.92, 83.93, 71.1, 13.63, 71.31, 69.74, 40.33, 41.68, 54.17, 73.2, 46.44, 25.17, 15.37, 74.33, 64.13, 32.18, 47.62, 12.71, 56.99, 52.5, 24.23, 42.81, 16.0, 41.62, 12.21, 36.69, 13.79, 58.92, 28.11, 39.64, 85.91, 37.33, 79.83, 39.91, 27.01, 37.29, 61.25, 15.58, 55.35, 70.31, 20.44, 61.35, 51.42, 64.53, 50.65, 61.08, 30.64, 43.8, 68.16, 62.74, 65.38, 72.09, 14.25, 71.45, 34.4, 25.98, 26.24, 55.01, 12.2, 22.17, 49.67, 64.23, 20.11, 54.33, 50.02, 38.19, 47.53, 79.09, 47.56, 54.14, 82.39, 58.94, 14.23, 43.39, 43.83, 35.79, 33.56, 69.12, 35.72, 21.05, 73.18, 68.62, 53.82, 61.01, 70.68, 55.47, 51.9, 59.67, 21.72, 51.0, 84.08, 20.17, 53.46, 76.75, 64.62, 30.84, 24.26, 48.88, 58.52, 43.48, 32.38, 50.77, 58.19, 36.5, 69.91, 45.45, 60.61, 59.85, 50.59, 92.53, 62.95, 46.56]\n",
      "              \n",
      "El atributo Smoking es de tipo categórico, contiene 2 observaciones y son las siguientes:\n",
      "        ['No', 'Yes']\n",
      "              \n",
      "El atributo AlcoholDrinking es de tipo categórico, contiene 2 observaciones y son las siguientes:\n",
      "        ['No', 'Yes']\n",
      "              \n",
      "El atributo Stroke es de tipo categórico, contiene 2 observaciones y son las siguientes:\n",
      "        ['No', 'Yes']\n",
      "              \n",
      "El atributo PhysicalHealth es de tipo continuo, contiene 31 observaciones y son las siguientes:\n",
      "        [0.0, 30.0, 2.0, 1.0, 3.0, 5.0, 10.0, 15.0, 7.0, 4.0, 20.0, 14.0, 6.0, 25.0, 8.0, 21.0, 12.0, 28.0, 29.0, 9.0, 18.0, 16.0, 27.0, 17.0, 13.0, 22.0, 11.0, 24.0, 26.0, 23.0, 19.0]\n",
      "              \n",
      "El atributo MentalHealth es de tipo continuo, contiene 31 observaciones y son las siguientes:\n",
      "        [0.0, 30.0, 2.0, 5.0, 10.0, 3.0, 15.0, 1.0, 7.0, 20.0, 4.0, 14.0, 25.0, 6.0, 8.0, 12.0, 28.0, 21.0, 29.0, 18.0, 9.0, 16.0, 17.0, 27.0, 13.0, 22.0, 11.0, 23.0, 24.0, 26.0, 19.0]\n",
      "              \n",
      "El atributo DiffWalking es de tipo categórico, contiene 2 observaciones y son las siguientes:\n",
      "        ['No', 'Yes']\n",
      "              \n",
      "El atributo Sex es de tipo categórico, contiene 2 observaciones y son las siguientes:\n",
      "        ['Female', 'Male']\n",
      "              \n",
      "El atributo AgeCategory es de tipo categórico, contiene 13 observaciones y son las siguientes:\n",
      "        ['65-69', '60-64', '70-74', '55-59', '50-54', '80 or older', '45-49', '75-79', '18-24', '40-44', '35-39', '30-34', '25-29']\n",
      "              \n",
      "El atributo Race es de tipo categórico, contiene 6 observaciones y son las siguientes:\n",
      "        ['White', 'Hispanic', 'Black', 'Other', 'Asian', 'American Indian/Alaskan Native']\n",
      "              \n",
      "El atributo Diabetic es de tipo categórico, contiene 4 observaciones y son las siguientes:\n",
      "        ['No', 'Yes', 'No, borderline diabetes', 'Yes (during pregnancy)']\n",
      "              \n",
      "El atributo PhysicalActivity es de tipo categórico, contiene 2 observaciones y son las siguientes:\n",
      "        ['Yes', 'No']\n",
      "              \n",
      "El atributo GenHealth es de tipo categórico, contiene 5 observaciones y son las siguientes:\n",
      "        ['Very good', 'Good', 'Excellent', 'Fair', 'Poor']\n",
      "              \n",
      "El atributo SleepTime es de tipo continuo, contiene 24 observaciones y son las siguientes:\n",
      "        [7.0, 8.0, 6.0, 5.0, 9.0, 10.0, 4.0, 12.0, 3.0, 2.0, 1.0, 11.0, 14.0, 16.0, 15.0, 18.0, 13.0, 20.0, 24.0, 17.0, 22.0, 19.0, 23.0, 21.0]\n",
      "              \n",
      "El atributo Asthma es de tipo categórico, contiene 2 observaciones y son las siguientes:\n",
      "        ['No', 'Yes']\n",
      "              \n",
      "El atributo KidneyDisease es de tipo categórico, contiene 2 observaciones y son las siguientes:\n",
      "        ['No', 'Yes']\n",
      "              \n",
      "El atributo SkinCancer es de tipo categórico, contiene 2 observaciones y son las siguientes:\n",
      "        ['No', 'Yes']\n",
      "              \n"
     ]
    }
   ],
   "source": [
    "observaciones = Observaciones(df, atributos)"
   ]
  },
  {
   "cell_type": "code",
   "execution_count": null,
   "id": "VKxQxBntjflt",
   "metadata": {
    "colab": {
     "base_uri": "https://localhost:8080/"
    },
    "id": "VKxQxBntjflt",
    "outputId": "dc5bfbfd-fe5a-4290-dc3f-e8f1133cff39"
   },
   "outputs": [
    {
     "name": "stdout",
     "output_type": "stream",
     "text": [
      "Datos faltantes por atributo: HeartDisease        0\n",
      "BMI                 0\n",
      "Smoking             0\n",
      "AlcoholDrinking     0\n",
      "Stroke              0\n",
      "PhysicalHealth      0\n",
      "MentalHealth        0\n",
      "DiffWalking         0\n",
      "Sex                 0\n",
      "AgeCategory         0\n",
      "Race                0\n",
      "Diabetic            0\n",
      "PhysicalActivity    0\n",
      "GenHealth           0\n",
      "SleepTime           0\n",
      "Asthma              0\n",
      "KidneyDisease       0\n",
      "SkinCancer          0\n",
      "dtype: int64\n"
     ]
    }
   ],
   "source": [
    "Datos_Faltantes(df)"
   ]
  },
  {
   "cell_type": "code",
   "execution_count": null,
   "id": "mYIzkF2SjxVk",
   "metadata": {
    "colab": {
     "base_uri": "https://localhost:8080/"
    },
    "id": "mYIzkF2SjxVk",
    "outputId": "f45a9b30-ceb1-4526-e7cf-267f754bbe25"
   },
   "outputs": [
    {
     "name": "stdout",
     "output_type": "stream",
     "text": [
      "El dataset tiene 18 atributos:\n",
      "1.- HeartDisease \n",
      "2.- BMI \n",
      "3.- Smoking \n",
      "4.- AlcoholDrinking \n",
      "5.- Stroke \n",
      "6.- PhysicalHealth \n",
      "7.- MentalHealth \n",
      "8.- DiffWalking \n",
      "9.- Sex \n",
      "10.- AgeCategory \n",
      "11.- Race \n",
      "12.- Diabetic \n",
      "13.- PhysicalActivity \n",
      "14.- GenHealth \n",
      "15.- SleepTime \n",
      "16.- Asthma \n",
      "17.- KidneyDisease \n",
      "18.- SkinCancer \n",
      "\n",
      "\n",
      "El dataset tiene 319795 instancias\n",
      "\n",
      "\n",
      "Datos faltantes por atributo: HeartDisease        0\n",
      "BMI                 0\n",
      "Smoking             0\n",
      "AlcoholDrinking     0\n",
      "Stroke              0\n",
      "PhysicalHealth      0\n",
      "MentalHealth        0\n",
      "DiffWalking         0\n",
      "Sex                 0\n",
      "AgeCategory         0\n",
      "Race                0\n",
      "Diabetic            0\n",
      "PhysicalActivity    0\n",
      "GenHealth           0\n",
      "SleepTime           0\n",
      "Asthma              0\n",
      "KidneyDisease       0\n",
      "SkinCancer          0\n",
      "dtype: int64\n"
     ]
    }
   ],
   "source": [
    "analisis_dataset(df)"
   ]
  },
  {
   "cell_type": "code",
   "execution_count": null,
   "id": "dJqX14ylFGIN",
   "metadata": {
    "id": "dJqX14ylFGIN"
   },
   "outputs": [],
   "source": [
    "moda_, max_, min_, media_, std, var_ = estadistica(df['BMI'])"
   ]
  },
  {
   "cell_type": "code",
   "execution_count": null,
   "id": "S-RQJjfGkMLY",
   "metadata": {
    "colab": {
     "base_uri": "https://localhost:8080/"
    },
    "id": "S-RQJjfGkMLY",
    "outputId": "33b84003-d21e-4b01-c40d-2f30621ac795"
   },
   "outputs": [
    {
     "data": {
      "text/plain": [
       "24.0"
      ]
     },
     "execution_count": 102,
     "metadata": {},
     "output_type": "execute_result"
    }
   ],
   "source": [
    "maximo(df['SleepTime'])"
   ]
  },
  {
   "cell_type": "code",
   "execution_count": null,
   "id": "ZhFiPFgGkdhw",
   "metadata": {
    "colab": {
     "base_uri": "https://localhost:8080/"
    },
    "id": "ZhFiPFgGkdhw",
    "outputId": "533125f0-57d1-4a74-b038-3f78dd921564"
   },
   "outputs": [
    {
     "data": {
      "text/plain": [
       "7.097074688472302"
      ]
     },
     "execution_count": 103,
     "metadata": {},
     "output_type": "execute_result"
    }
   ],
   "source": [
    "media(df['SleepTime'])"
   ]
  },
  {
   "cell_type": "code",
   "execution_count": null,
   "id": "PSnzkTi8kril",
   "metadata": {
    "colab": {
     "base_uri": "https://localhost:8080/"
    },
    "id": "PSnzkTi8kril",
    "outputId": "75513615-1ee7-493e-bca9-6d4b55eed2a2"
   },
   "outputs": [
    {
     "data": {
      "text/plain": [
       "1.4360070609668765"
      ]
     },
     "execution_count": 104,
     "metadata": {},
     "output_type": "execute_result"
    }
   ],
   "source": [
    "desviacion_estandar(df['SleepTime'])"
   ]
  },
  {
   "cell_type": "code",
   "execution_count": null,
   "id": "lNdoO9nck3_8",
   "metadata": {
    "colab": {
     "base_uri": "https://localhost:8080/"
    },
    "id": "lNdoO9nck3_8",
    "outputId": "7feced72-0eb3-428a-e0d6-f1adb1bf80c1"
   },
   "outputs": [
    {
     "data": {
      "text/plain": [
       "1.0"
      ]
     },
     "execution_count": 105,
     "metadata": {},
     "output_type": "execute_result"
    }
   ],
   "source": [
    "minimo(df['SleepTime'])"
   ]
  },
  {
   "cell_type": "code",
   "execution_count": null,
   "id": "E1y3isONlgjk",
   "metadata": {
    "colab": {
     "base_uri": "https://localhost:8080/"
    },
    "id": "E1y3isONlgjk",
    "outputId": "afbff54f-5070-4e5e-b52f-5d7e54a3d0b7"
   },
   "outputs": [
    {
     "data": {
      "text/plain": [
       "2.0621162791467267"
      ]
     },
     "execution_count": 106,
     "metadata": {},
     "output_type": "execute_result"
    }
   ],
   "source": [
    "varianza(df['SleepTime'])"
   ]
  },
  {
   "cell_type": "code",
   "execution_count": null,
   "id": "cN_O5noSlpYc",
   "metadata": {
    "colab": {
     "base_uri": "https://localhost:8080/"
    },
    "id": "cN_O5noSlpYc",
    "outputId": "582182bd-2af7-4c5f-b9e5-435606d85a76"
   },
   "outputs": [
    {
     "name": "stderr",
     "output_type": "stream",
     "text": [
      "319795it [04:31, 1177.46it/s]\n"
     ]
    },
    {
     "data": {
      "text/plain": [
       "-0.47300268824201436"
      ]
     },
     "execution_count": 107,
     "metadata": {},
     "output_type": "execute_result"
    }
   ],
   "source": [
    "covarianza(df['SleepTime'],df['BMI'])"
   ]
  },
  {
   "cell_type": "code",
   "execution_count": null,
   "id": "To29iYTfa7K1",
   "metadata": {
    "colab": {
     "base_uri": "https://localhost:8080/"
    },
    "id": "To29iYTfa7K1",
    "outputId": "aeaa0627-326c-47ac-8af1-3435439f0d1f"
   },
   "outputs": [
    {
     "name": "stdout",
     "output_type": "stream",
     "text": [
      "Q1: 6.0, Q2: 7.0, Q3: 8.0\n"
     ]
    },
    {
     "data": {
      "text/plain": [
       "(6.0, 7.0, 8.0)"
      ]
     },
     "execution_count": 108,
     "metadata": {},
     "output_type": "execute_result"
    }
   ],
   "source": [
    "cuartiles(df,'SleepTime')"
   ]
  },
  {
   "cell_type": "code",
   "execution_count": null,
   "id": "rV9YbQ6-Uopn",
   "metadata": {
    "colab": {
     "base_uri": "https://localhost:8080/"
    },
    "id": "rV9YbQ6-Uopn",
    "outputId": "13819298-e295-494c-b07f-de64751c269e"
   },
   "outputs": [
    {
     "name": "stdout",
     "output_type": "stream",
     "text": [
      "¿Cuál es tu atributo de decisión?:HeartDisease\n",
      "No     91.440454\n",
      "Yes     8.559546\n",
      "Name: HeartDisease, dtype: float64\n",
      "El dataset cuenta con 2 clases y son las siguientes: ['No', 'Yes']\n"
     ]
    }
   ],
   "source": [
    "Balance_clases(df)"
   ]
  },
  {
   "cell_type": "code",
   "execution_count": null,
   "id": "xrjxhjFwN1t2",
   "metadata": {
    "colab": {
     "base_uri": "https://localhost:8080/",
     "height": 844
    },
    "id": "xrjxhjFwN1t2",
    "outputId": "f7399a69-f678-49de-84bb-370980470c9b"
   },
   "outputs": [
    {
     "name": "stdout",
     "output_type": "stream",
     "text": [
      "Q1: 24.03, Q2: 27.34, Q3: 31.42\n",
      "Q1: 24.03, Q2: 27.34, Q3: 31.42\n",
      "Se encontraron 10396 valores atípicos\n",
      "Los valores atípicos encontrados son: [45.35 46.52 44.29 ... 53.16 42.57 46.56]\n"
     ]
    },
    {
     "data": {
      "image/png": "[encoded data removed]",
      "text/plain": [
       "<Figure size 1080x936 with 1 Axes>"
      ]
     },
     "metadata": {
      "needs_background": "light"
     },
     "output_type": "display_data"
    }
   ],
   "source": [
    "relacion_atributo(df,'BMI')"
   ]
  },
  {
   "cell_type": "code",
   "execution_count": null,
   "id": "im49b1bYVfPV",
   "metadata": {
    "id": "im49b1bYVfPV"
   },
   "outputs": [],
   "source": [
    "#outlier(df,'BMI')\n",
    "#outlier(df,'PhysicalHealth')"
   ]
  },
  {
   "cell_type": "code",
   "execution_count": null,
   "id": "RLfY5bk8X7iv",
   "metadata": {
    "colab": {
     "base_uri": "https://localhost:8080/",
     "height": 775
    },
    "id": "RLfY5bk8X7iv",
    "outputId": "87b14ca1-2627-4808-efee-6929b222d2a4"
   },
   "outputs": [
    {
     "data": {
      "image/png": "[encoded data removed]",
      "text/plain": [
       "<Figure size 1080x936 with 1 Axes>"
      ]
     },
     "metadata": {
      "needs_background": "light"
     },
     "output_type": "display_data"
    }
   ],
   "source": [
    "box_plot(df_c,'BMI')"
   ]
  },
  {
   "cell_type": "code",
   "execution_count": null,
   "id": "mJBt-OYGYOKD",
   "metadata": {
    "colab": {
     "base_uri": "https://localhost:8080/",
     "height": 517
    },
    "id": "mJBt-OYGYOKD",
    "outputId": "a12baa4e-8ffc-4028-ad8d-f9c195482768"
   },
   "outputs": [
    {
     "data": {
      "image/png": "[encoded data removed]",
      "text/plain": [
       "<Figure size 936x576 with 1 Axes>"
      ]
     },
     "metadata": {
      "needs_background": "light"
     },
     "output_type": "display_data"
    }
   ],
   "source": [
    "box_plot_sns(df,'BMI')"
   ]
  },
  {
   "cell_type": "code",
   "execution_count": null,
   "id": "QGej2sUEiJ-K",
   "metadata": {
    "colab": {
     "base_uri": "https://localhost:8080/",
     "height": 625
    },
    "id": "QGej2sUEiJ-K",
    "outputId": "604b58f4-017c-4a36-dc02-01b93a7075a8"
   },
   "outputs": [
    {
     "data": {
      "image/png": "[encoded data removed]",
      "text/plain": [
       "<Figure size 936x720 with 1 Axes>"
      ]
     },
     "metadata": {
      "needs_background": "light"
     },
     "output_type": "display_data"
    }
   ],
   "source": [
    "Distribucion(df_c,'BMI','HeartDisease')"
   ]
  },
  {
   "cell_type": "markdown",
   "id": "p74q2iiSIMx_",
   "metadata": {
    "id": "p74q2iiSIMx_"
   },
   "source": [
    "#Codificación categórico-numérico"
   ]
  },
  {
   "cell_type": "code",
   "execution_count": null,
   "id": "j1EcUmEKGZ1e",
   "metadata": {
    "id": "j1EcUmEKGZ1e"
   },
   "outputs": [],
   "source": [
    "#from tqdm import tqdm\n",
    "#def conversion(df,atri,obser):\n",
    " # df_codificado = df.copy()\n",
    "  #for m in atri:\n",
    "   # print(m)\n",
    "    #if df[m].dtypes == 'O':\n",
    "     # obser_analizar = np.asarray(obser[m])\n",
    "      #for e, n in enumerate(obser_analizar):\n",
    "       # for k in tqdm(range(len(df[m]))):\n",
    "        #  if n == df[m][k]:\n",
    "         #   df_codificado[m][k] = e\n",
    "\n",
    "  #return df_codificado"
   ]
  },
  {
   "cell_type": "code",
   "execution_count": null,
   "id": "OZ_BXFq8vRjF",
   "metadata": {
    "id": "OZ_BXFq8vRjF"
   },
   "outputs": [],
   "source": [
    "#df_cod = conversion(df, atr, obs)"
   ]
  },
  {
   "cell_type": "code",
   "execution_count": null,
   "id": "0JjMJfu2Ts8R",
   "metadata": {
    "id": "0JjMJfu2Ts8R"
   },
   "outputs": [],
   "source": [
    "#df_cod"
   ]
  },
  {
   "cell_type": "markdown",
   "id": "MVd7jlOfIo24",
   "metadata": {
    "id": "MVd7jlOfIo24"
   },
   "source": [
    "#Guardar dataset codificado"
   ]
  },
  {
   "cell_type": "code",
   "execution_count": null,
   "id": "iYHMzMiqTPOc",
   "metadata": {
    "id": "iYHMzMiqTPOc"
   },
   "outputs": [],
   "source": [
    "#df_cod.to_csv('codificado_noindex.csv', header=False,index=False)"
   ]
  },
  {
   "cell_type": "code",
   "execution_count": null,
   "id": "a6l4fS8iULIk",
   "metadata": {
    "id": "a6l4fS8iULIk"
   },
   "outputs": [],
   "source": [
    "#df_cod.to_excel('codificado_1.xlsx', header=True,index=True)"
   ]
  },
  {
   "cell_type": "code",
   "execution_count": null,
   "id": "UKjpVVYmwLWX",
   "metadata": {
    "id": "UKjpVVYmwLWX"
   },
   "outputs": [],
   "source": [
    "#df_cod"
   ]
  },
  {
   "cell_type": "code",
   "execution_count": null,
   "id": "3752c4c4",
   "metadata": {
    "colab": {
     "base_uri": "https://localhost:8080/"
    },
    "id": "3752c4c4",
    "outputId": "bd837096-a21e-432f-c41c-f76abe1d686f"
   },
   "outputs": [
    {
     "name": "stdout",
     "output_type": "stream",
     "text": [
      "Ingresar ruta de acceso del archivo/content/drive/MyDrive/Machine_Learning/Tarea01/codificado_noindex (1).csv\n",
      "Ingresar caracter de separación:,\n"
     ]
    }
   ],
   "source": [
    "#/content/drive/MyDrive/Machine_Learning/Tarea01/codificado_noindex (1).csv\n",
    "df_c = cargar_df()"
   ]
  },
  {
   "cell_type": "code",
   "execution_count": null,
   "id": "8roklZS-RQ4O",
   "metadata": {
    "colab": {
     "base_uri": "https://localhost:8080/",
     "height": 270
    },
    "id": "8roklZS-RQ4O",
    "outputId": "c92a6751-d163-4c7d-c9c3-8c1439153a3f"
   },
   "outputs": [
    {
     "data": {
      "text/html": [
       "\n",
       "  <div id=\"df-8acf434a-4158-48d7-b327-63294d535462\">\n",
       "    <div class=\"colab-df-container\">\n",
       "      <div>\n",
       "<style scoped>\n",
       "    .dataframe tbody tr th:only-of-type {\n",
       "        vertical-align: middle;\n",
       "    }\n",
       "\n",
       "    .dataframe tbody tr th {\n",
       "        vertical-align: top;\n",
       "    }\n",
       "\n",
       "    .dataframe thead th {\n",
       "        text-align: right;\n",
       "    }\n",
       "</style>\n",
       "<table border=\"1\" class=\"dataframe\">\n",
       "  <thead>\n",
       "    <tr style=\"text-align: right;\">\n",
       "      <th></th>\n",
       "      <th>HeartDisease</th>\n",
       "      <th>BMI</th>\n",
       "      <th>Smoking</th>\n",
       "      <th>AlcoholDrinking</th>\n",
       "      <th>Stroke</th>\n",
       "      <th>PhysicalHealth</th>\n",
       "      <th>MentalHealth</th>\n",
       "      <th>DiffWalking</th>\n",
       "      <th>Sex</th>\n",
       "      <th>AgeCategory</th>\n",
       "      <th>Race</th>\n",
       "      <th>Diabetic</th>\n",
       "      <th>PhysicalActivity</th>\n",
       "      <th>GenHealth</th>\n",
       "      <th>SleepTime</th>\n",
       "      <th>Asthma</th>\n",
       "      <th>KidneyDisease</th>\n",
       "      <th>SkinCancer</th>\n",
       "    </tr>\n",
       "  </thead>\n",
       "  <tbody>\n",
       "    <tr>\n",
       "      <th>0</th>\n",
       "      <td>0</td>\n",
       "      <td>16.60</td>\n",
       "      <td>1</td>\n",
       "      <td>0</td>\n",
       "      <td>0</td>\n",
       "      <td>3.0</td>\n",
       "      <td>30.0</td>\n",
       "      <td>0</td>\n",
       "      <td>0</td>\n",
       "      <td>3</td>\n",
       "      <td>0</td>\n",
       "      <td>1</td>\n",
       "      <td>0</td>\n",
       "      <td>0</td>\n",
       "      <td>5.0</td>\n",
       "      <td>1</td>\n",
       "      <td>0</td>\n",
       "      <td>1</td>\n",
       "    </tr>\n",
       "    <tr>\n",
       "      <th>1</th>\n",
       "      <td>0</td>\n",
       "      <td>20.34</td>\n",
       "      <td>0</td>\n",
       "      <td>0</td>\n",
       "      <td>1</td>\n",
       "      <td>0.0</td>\n",
       "      <td>0.0</td>\n",
       "      <td>0</td>\n",
       "      <td>0</td>\n",
       "      <td>5</td>\n",
       "      <td>0</td>\n",
       "      <td>0</td>\n",
       "      <td>0</td>\n",
       "      <td>0</td>\n",
       "      <td>7.0</td>\n",
       "      <td>0</td>\n",
       "      <td>0</td>\n",
       "      <td>0</td>\n",
       "    </tr>\n",
       "    <tr>\n",
       "      <th>2</th>\n",
       "      <td>0</td>\n",
       "      <td>26.58</td>\n",
       "      <td>1</td>\n",
       "      <td>0</td>\n",
       "      <td>0</td>\n",
       "      <td>20.0</td>\n",
       "      <td>30.0</td>\n",
       "      <td>0</td>\n",
       "      <td>1</td>\n",
       "      <td>0</td>\n",
       "      <td>0</td>\n",
       "      <td>1</td>\n",
       "      <td>0</td>\n",
       "      <td>3</td>\n",
       "      <td>8.0</td>\n",
       "      <td>1</td>\n",
       "      <td>0</td>\n",
       "      <td>0</td>\n",
       "    </tr>\n",
       "    <tr>\n",
       "      <th>3</th>\n",
       "      <td>0</td>\n",
       "      <td>24.21</td>\n",
       "      <td>0</td>\n",
       "      <td>0</td>\n",
       "      <td>0</td>\n",
       "      <td>0.0</td>\n",
       "      <td>0.0</td>\n",
       "      <td>0</td>\n",
       "      <td>0</td>\n",
       "      <td>7</td>\n",
       "      <td>0</td>\n",
       "      <td>0</td>\n",
       "      <td>1</td>\n",
       "      <td>1</td>\n",
       "      <td>6.0</td>\n",
       "      <td>0</td>\n",
       "      <td>0</td>\n",
       "      <td>1</td>\n",
       "    </tr>\n",
       "    <tr>\n",
       "      <th>4</th>\n",
       "      <td>0</td>\n",
       "      <td>23.71</td>\n",
       "      <td>0</td>\n",
       "      <td>0</td>\n",
       "      <td>0</td>\n",
       "      <td>28.0</td>\n",
       "      <td>0.0</td>\n",
       "      <td>1</td>\n",
       "      <td>0</td>\n",
       "      <td>9</td>\n",
       "      <td>0</td>\n",
       "      <td>0</td>\n",
       "      <td>0</td>\n",
       "      <td>0</td>\n",
       "      <td>8.0</td>\n",
       "      <td>0</td>\n",
       "      <td>0</td>\n",
       "      <td>0</td>\n",
       "    </tr>\n",
       "  </tbody>\n",
       "</table>\n",
       "</div>\n",
       "      <button class=\"colab-df-convert\" onclick=\"convertToInteractive('df-8acf434a-4158-48d7-b327-63294d535462')\"\n",
       "              title=\"Convert this dataframe to an interactive table.\"\n",
       "              style=\"display:none;\">\n",
       "        \n",
       "  <svg xmlns=\"http://www.w3.org/2000/svg\" height=\"24px\"viewBox=\"0 0 24 24\"\n",
       "       width=\"24px\">\n",
       "    <path d=\"M0 0h24v24H0V0z\" fill=\"none\"/>\n",
       "    <path d=\"M18.56 5.44l.94 2.06.94-2.06 2.06-.94-2.06-.94-.94-2.06-.94 2.06-2.06.94zm-11 1L8.5 8.5l.94-2.06 2.06-.94-2.06-.94L8.5 2.5l-.94 2.06-2.06.94zm10 10l.94 2.06.94-2.06 2.06-.94-2.06-.94-.94-2.06-.94 2.06-2.06.94z\"/><path d=\"M17.41 7.96l-1.37-1.37c-.4-.4-.92-.59-1.43-.59-.52 0-1.04.2-1.43.59L10.3 9.45l-7.72 7.72c-.78.78-.78 2.05 0 2.83L4 21.41c.39.39.9.59 1.41.59.51 0 1.02-.2 1.41-.59l7.78-7.78 2.81-2.81c.8-.78.8-2.07 0-2.86zM5.41 20L4 18.59l7.72-7.72 1.47 1.35L5.41 20z\"/>\n",
       "  </svg>\n",
       "      </button>\n",
       "      \n",
       "  <style>\n",
       "    .colab-df-container {\n",
       "      display:flex;\n",
       "      flex-wrap:wrap;\n",
       "      gap: 12px;\n",
       "    }\n",
       "\n",
       "    .colab-df-convert {\n",
       "      background-color: #E8F0FE;\n",
       "      border: none;\n",
       "      border-radius: 50%;\n",
       "      cursor: pointer;\n",
       "      display: none;\n",
       "      fill: #1967D2;\n",
       "      height: 32px;\n",
       "      padding: 0 0 0 0;\n",
       "      width: 32px;\n",
       "    }\n",
       "\n",
       "    .colab-df-convert:hover {\n",
       "      background-color: #E2EBFA;\n",
       "      box-shadow: 0px 1px 2px rgba(60, 64, 67, 0.3), 0px 1px 3px 1px rgba(60, 64, 67, 0.15);\n",
       "      fill: #174EA6;\n",
       "    }\n",
       "\n",
       "    [theme=dark] .colab-df-convert {\n",
       "      background-color: #3B4455;\n",
       "      fill: #D2E3FC;\n",
       "    }\n",
       "\n",
       "    [theme=dark] .colab-df-convert:hover {\n",
       "      background-color: #434B5C;\n",
       "      box-shadow: 0px 1px 3px 1px rgba(0, 0, 0, 0.15);\n",
       "      filter: drop-shadow(0px 1px 2px rgba(0, 0, 0, 0.3));\n",
       "      fill: #FFFFFF;\n",
       "    }\n",
       "  </style>\n",
       "\n",
       "      <script>\n",
       "        const buttonEl =\n",
       "          document.querySelector('#df-8acf434a-4158-48d7-b327-63294d535462 button.colab-df-convert');\n",
       "        buttonEl.style.display =\n",
       "          google.colab.kernel.accessAllowed ? 'block' : 'none';\n",
       "\n",
       "        async function convertToInteractive(key) {\n",
       "          const element = document.querySelector('#df-8acf434a-4158-48d7-b327-63294d535462');\n",
       "          const dataTable =\n",
       "            await google.colab.kernel.invokeFunction('convertToInteractive',\n",
       "                                                     [key], {});\n",
       "          if (!dataTable) return;\n",
       "\n",
       "          const docLinkHtml = 'Like what you see? Visit the ' +\n",
       "            '<a target=\"_blank\" href=https://colab.research.google.com/notebooks/data_table.ipynb>data table notebook</a>'\n",
       "            + ' to learn more about interactive tables.';\n",
       "          element.innerHTML = '';\n",
       "          dataTable['output_type'] = 'display_data';\n",
       "          await google.colab.output.renderOutput(dataTable, element);\n",
       "          const docLink = document.createElement('div');\n",
       "          docLink.innerHTML = docLinkHtml;\n",
       "          element.appendChild(docLink);\n",
       "        }\n",
       "      </script>\n",
       "    </div>\n",
       "  </div>\n",
       "  "
      ],
      "text/plain": [
       "   HeartDisease    BMI  Smoking  AlcoholDrinking  Stroke  PhysicalHealth  \\\n",
       "0             0  16.60        1                0       0             3.0   \n",
       "1             0  20.34        0                0       1             0.0   \n",
       "2             0  26.58        1                0       0            20.0   \n",
       "3             0  24.21        0                0       0             0.0   \n",
       "4             0  23.71        0                0       0            28.0   \n",
       "\n",
       "   MentalHealth  DiffWalking  Sex  AgeCategory  Race  Diabetic  \\\n",
       "0          30.0            0    0            3     0         1   \n",
       "1           0.0            0    0            5     0         0   \n",
       "2          30.0            0    1            0     0         1   \n",
       "3           0.0            0    0            7     0         0   \n",
       "4           0.0            1    0            9     0         0   \n",
       "\n",
       "   PhysicalActivity  GenHealth  SleepTime  Asthma  KidneyDisease  SkinCancer  \n",
       "0                 0          0        5.0       1              0           1  \n",
       "1                 0          0        7.0       0              0           0  \n",
       "2                 0          3        8.0       1              0           0  \n",
       "3                 1          1        6.0       0              0           1  \n",
       "4                 0          0        8.0       0              0           0  "
      ]
     },
     "execution_count": 124,
     "metadata": {},
     "output_type": "execute_result"
    }
   ],
   "source": [
    "#Después de la codificación el dataset quedo d ela siguiente manera:\n",
    "#Hombre = 1,Mujer = 0;\n",
    "#Smoking, Stroke DiffWalking, Diabetic, Ashtma, KidneyDisease, SkinCancer: (yes) = 1, (No) = 0;\n",
    "#PhysicalActivity (yes) = 0, (No) = 1\n",
    "\n",
    "df_c.head()"
   ]
  }
 ],
 "metadata": {
  "colab": {
   "collapsed_sections": [
    "rPBJsVhR2nAj",
    "lcURLxIQ2res"
   ],
   "name": " Analisis_datos_SLL.ipynb",
   "provenance": []
  },
  "kernelspec": {
   "display_name": "Python 3 (ipykernel)",
   "language": "python",
   "name": "python3"
  },
  "language_info": {
   "codemirror_mode": {
    "name": "ipython",
    "version": 3
   },
   "file_extension": ".py",
   "mimetype": "text/x-python",
   "name": "python",
   "nbconvert_exporter": "python",
   "pygments_lexer": "ipython3",
   "version": "3.9.12"
  }
 },
 "nbformat": 4,
 "nbformat_minor": 5
}
